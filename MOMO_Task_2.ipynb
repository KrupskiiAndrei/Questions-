{
  "nbformat": 4,
  "nbformat_minor": 0,
  "metadata": {
    "colab": {
      "provenance": [],
      "toc_visible": true
    },
    "kernelspec": {
      "name": "python3",
      "display_name": "Python 3"
    },
    "language_info": {
      "name": "python"
    }
  },
  "cells": [
    {
      "cell_type": "code",
      "source": [
        "import numpy as np\n",
        "import plotly.express as px\n",
        "import random\n",
        "import pandas as pd\n",
        "import plotly.io as pio\n",
        "from sklearn.preprocessing import PolynomialFeatures\n",
        "from sklearn.model_selection import train_test_split\n",
        "from sklearn.linear_model import LinearRegression, Lasso, Ridge\n",
        "from sklearn.metrics import r2_score, mean_absolute_error, mean_squared_error, mean_absolute_percentage_error\n",
        "import plotly.graph_objects as go\n",
        "\n",
        "\n",
        "np.random.seed(46)\n",
        "pio.renderers.default = \"colab\""
      ],
      "metadata": {
        "id": "Zs0-hQBhP-bk"
      },
      "execution_count": null,
      "outputs": []
    },
    {
      "cell_type": "markdown",
      "source": [
        "# 1.  Для синтетических данных"
      ],
      "metadata": {
        "id": "vOw4tNW7cKCM"
      }
    },
    {
      "cell_type": "markdown",
      "source": [
        "## Генерация данных"
      ],
      "metadata": {
        "id": "d3GcBSNPcEj2"
      }
    },
    {
      "cell_type": "markdown",
      "source": [
        "### Линейные"
      ],
      "metadata": {
        "id": "yQLTnJg7OoKh"
      }
    },
    {
      "cell_type": "code",
      "execution_count": null,
      "metadata": {
        "id": "y1xJ7-VWKJYs"
      },
      "outputs": [],
      "source": [
        "X = np.linspace(0, 6)\n",
        "y = np.linspace(0, 3)\n",
        "\n",
        "noise_factor = 0.2\n",
        "\n",
        "def noise(k):\n",
        "   return k+((random.random()*2)-1)*noise_factor\n",
        "\n",
        "X_1 = np.vectorize(noise)(X)\n",
        "y_1 = np.vectorize(noise)(y)"
      ]
    },
    {
      "cell_type": "code",
      "source": [
        "px.scatter(x=X_1, y=y_1)"
      ],
      "metadata": {
        "colab": {
          "base_uri": "https://localhost:8080/",
          "height": 542
        },
        "id": "T61S8yAKQfzT",
        "outputId": "32952234-d0dc-4204-faf0-822b8e5f3397"
      },
      "execution_count": null,
      "outputs": [
        {
          "output_type": "display_data",
          "data": {
            "text/html": [
              "<html>\n",
              "<head><meta charset=\"utf-8\" /></head>\n",
              "<body>\n",
              "    <div>            <script src=\"https://cdnjs.cloudflare.com/ajax/libs/mathjax/2.7.5/MathJax.js?config=TeX-AMS-MML_SVG\"></script><script type=\"text/javascript\">if (window.MathJax && window.MathJax.Hub && window.MathJax.Hub.Config) {window.MathJax.Hub.Config({SVG: {font: \"STIX-Web\"}});}</script>                <script type=\"text/javascript\">window.PlotlyConfig = {MathJaxConfig: 'local'};</script>\n",
              "        <script src=\"https://cdn.plot.ly/plotly-2.16.1.min.js\"></script>                <div id=\"6c1e2f07-0998-4f3c-babb-72f017eb6966\" class=\"plotly-graph-div\" style=\"height:525px; width:100%;\"></div>            <script type=\"text/javascript\">                                    window.PLOTLYENV=window.PLOTLYENV || {};                                    if (document.getElementById(\"6c1e2f07-0998-4f3c-babb-72f017eb6966\")) {                    Plotly.newPlot(                        \"6c1e2f07-0998-4f3c-babb-72f017eb6966\",                        [{\"hovertemplate\":\"x=%{x}<br>y=%{y}<extra></extra>\",\"legendgroup\":\"\",\"marker\":{\"color\":\"#636efa\",\"symbol\":\"circle\"},\"mode\":\"markers\",\"name\":\"\",\"orientation\":\"v\",\"showlegend\":false,\"x\":[-0.18866517428376928,0.036443650177422515,0.13812261436002185,0.18351300130342948,0.4255451751962436,0.6568510346678855,0.9273011121121499,0.7343619690310148,0.9513662485498255,0.9175062156608766,1.2983168429569465,1.484202389414668,1.3519430815503768,1.4085314509413824,1.7674874362089155,1.9708671376392455,1.891885662199423,2.269715600961815,2.1350995956100776,2.2750233948715866,2.549202883380131,2.724364189225054,2.52835042540331,2.798240293022916,2.9972290277290554,3.2247507580983217,3.252139396614546,3.4363007792793208,3.5167768093497562,3.578322158135161,3.5980146221096168,3.905702356505597,3.81239920490327,3.9800288584247774,4.015414665298267,4.348280467170047,4.340151019809736,4.464678234815041,4.6203159167856445,4.7566175491033125,4.7862857202660765,4.980909088280212,5.218867074016549,5.209834612877327,5.30164181896489,5.362481505702863,5.716474776280942,5.928799514539244,5.849098767618748,6.155841278485],\"xaxis\":\"x\",\"y\":[-0.042952403322802285,0.01548995669802046,0.3207417276109528,0.2594174368566663,0.3299621404336591,0.2987212354180333,0.3303611397077483,0.4189851138917952,0.3762061374812218,0.6840009943141524,0.4227287094237623,0.7348571677154871,0.6061195319142957,0.7568298543576255,0.9669009511362414,1.000949741564874,0.9492540758462609,1.1198328916371991,1.1269304042068649,1.0269713027978882,1.1639833278209217,1.3909432171834175,1.2423319062893976,1.5531848471957315,1.3308063458357293,1.655524726800684,1.7417818053297516,1.8504974971867059,1.7441655409470507,1.662827240882947,1.7653202488566222,1.7895772089039788,1.9974612947939785,1.832080082436438,1.9829838831318725,2.0378338789250705,2.3139518000358503,2.2228979174073005,2.1605482442615704,2.3318085469445204,2.4916213901133144,2.3738636194836356,2.565427380251498,2.527480776808896,2.8846098041810535,2.696343087375826,2.7756900227450654,2.797164743156055,2.9817085037951836,2.916908437860258],\"yaxis\":\"y\",\"type\":\"scatter\"}],                        {\"template\":{\"data\":{\"histogram2dcontour\":[{\"type\":\"histogram2dcontour\",\"colorbar\":{\"outlinewidth\":0,\"ticks\":\"\"},\"colorscale\":[[0.0,\"#0d0887\"],[0.1111111111111111,\"#46039f\"],[0.2222222222222222,\"#7201a8\"],[0.3333333333333333,\"#9c179e\"],[0.4444444444444444,\"#bd3786\"],[0.5555555555555556,\"#d8576b\"],[0.6666666666666666,\"#ed7953\"],[0.7777777777777778,\"#fb9f3a\"],[0.8888888888888888,\"#fdca26\"],[1.0,\"#f0f921\"]]}],\"choropleth\":[{\"type\":\"choropleth\",\"colorbar\":{\"outlinewidth\":0,\"ticks\":\"\"}}],\"histogram2d\":[{\"type\":\"histogram2d\",\"colorbar\":{\"outlinewidth\":0,\"ticks\":\"\"},\"colorscale\":[[0.0,\"#0d0887\"],[0.1111111111111111,\"#46039f\"],[0.2222222222222222,\"#7201a8\"],[0.3333333333333333,\"#9c179e\"],[0.4444444444444444,\"#bd3786\"],[0.5555555555555556,\"#d8576b\"],[0.6666666666666666,\"#ed7953\"],[0.7777777777777778,\"#fb9f3a\"],[0.8888888888888888,\"#fdca26\"],[1.0,\"#f0f921\"]]}],\"heatmap\":[{\"type\":\"heatmap\",\"colorbar\":{\"outlinewidth\":0,\"ticks\":\"\"},\"colorscale\":[[0.0,\"#0d0887\"],[0.1111111111111111,\"#46039f\"],[0.2222222222222222,\"#7201a8\"],[0.3333333333333333,\"#9c179e\"],[0.4444444444444444,\"#bd3786\"],[0.5555555555555556,\"#d8576b\"],[0.6666666666666666,\"#ed7953\"],[0.7777777777777778,\"#fb9f3a\"],[0.8888888888888888,\"#fdca26\"],[1.0,\"#f0f921\"]]}],\"heatmapgl\":[{\"type\":\"heatmapgl\",\"colorbar\":{\"outlinewidth\":0,\"ticks\":\"\"},\"colorscale\":[[0.0,\"#0d0887\"],[0.1111111111111111,\"#46039f\"],[0.2222222222222222,\"#7201a8\"],[0.3333333333333333,\"#9c179e\"],[0.4444444444444444,\"#bd3786\"],[0.5555555555555556,\"#d8576b\"],[0.6666666666666666,\"#ed7953\"],[0.7777777777777778,\"#fb9f3a\"],[0.8888888888888888,\"#fdca26\"],[1.0,\"#f0f921\"]]}],\"contourcarpet\":[{\"type\":\"contourcarpet\",\"colorbar\":{\"outlinewidth\":0,\"ticks\":\"\"}}],\"contour\":[{\"type\":\"contour\",\"colorbar\":{\"outlinewidth\":0,\"ticks\":\"\"},\"colorscale\":[[0.0,\"#0d0887\"],[0.1111111111111111,\"#46039f\"],[0.2222222222222222,\"#7201a8\"],[0.3333333333333333,\"#9c179e\"],[0.4444444444444444,\"#bd3786\"],[0.5555555555555556,\"#d8576b\"],[0.6666666666666666,\"#ed7953\"],[0.7777777777777778,\"#fb9f3a\"],[0.8888888888888888,\"#fdca26\"],[1.0,\"#f0f921\"]]}],\"surface\":[{\"type\":\"surface\",\"colorbar\":{\"outlinewidth\":0,\"ticks\":\"\"},\"colorscale\":[[0.0,\"#0d0887\"],[0.1111111111111111,\"#46039f\"],[0.2222222222222222,\"#7201a8\"],[0.3333333333333333,\"#9c179e\"],[0.4444444444444444,\"#bd3786\"],[0.5555555555555556,\"#d8576b\"],[0.6666666666666666,\"#ed7953\"],[0.7777777777777778,\"#fb9f3a\"],[0.8888888888888888,\"#fdca26\"],[1.0,\"#f0f921\"]]}],\"mesh3d\":[{\"type\":\"mesh3d\",\"colorbar\":{\"outlinewidth\":0,\"ticks\":\"\"}}],\"scatter\":[{\"fillpattern\":{\"fillmode\":\"overlay\",\"size\":10,\"solidity\":0.2},\"type\":\"scatter\"}],\"parcoords\":[{\"type\":\"parcoords\",\"line\":{\"colorbar\":{\"outlinewidth\":0,\"ticks\":\"\"}}}],\"scatterpolargl\":[{\"type\":\"scatterpolargl\",\"marker\":{\"colorbar\":{\"outlinewidth\":0,\"ticks\":\"\"}}}],\"bar\":[{\"error_x\":{\"color\":\"#2a3f5f\"},\"error_y\":{\"color\":\"#2a3f5f\"},\"marker\":{\"line\":{\"color\":\"#E5ECF6\",\"width\":0.5},\"pattern\":{\"fillmode\":\"overlay\",\"size\":10,\"solidity\":0.2}},\"type\":\"bar\"}],\"scattergeo\":[{\"type\":\"scattergeo\",\"marker\":{\"colorbar\":{\"outlinewidth\":0,\"ticks\":\"\"}}}],\"scatterpolar\":[{\"type\":\"scatterpolar\",\"marker\":{\"colorbar\":{\"outlinewidth\":0,\"ticks\":\"\"}}}],\"histogram\":[{\"marker\":{\"pattern\":{\"fillmode\":\"overlay\",\"size\":10,\"solidity\":0.2}},\"type\":\"histogram\"}],\"scattergl\":[{\"type\":\"scattergl\",\"marker\":{\"colorbar\":{\"outlinewidth\":0,\"ticks\":\"\"}}}],\"scatter3d\":[{\"type\":\"scatter3d\",\"line\":{\"colorbar\":{\"outlinewidth\":0,\"ticks\":\"\"}},\"marker\":{\"colorbar\":{\"outlinewidth\":0,\"ticks\":\"\"}}}],\"scattermapbox\":[{\"type\":\"scattermapbox\",\"marker\":{\"colorbar\":{\"outlinewidth\":0,\"ticks\":\"\"}}}],\"scatterternary\":[{\"type\":\"scatterternary\",\"marker\":{\"colorbar\":{\"outlinewidth\":0,\"ticks\":\"\"}}}],\"scattercarpet\":[{\"type\":\"scattercarpet\",\"marker\":{\"colorbar\":{\"outlinewidth\":0,\"ticks\":\"\"}}}],\"carpet\":[{\"aaxis\":{\"endlinecolor\":\"#2a3f5f\",\"gridcolor\":\"white\",\"linecolor\":\"white\",\"minorgridcolor\":\"white\",\"startlinecolor\":\"#2a3f5f\"},\"baxis\":{\"endlinecolor\":\"#2a3f5f\",\"gridcolor\":\"white\",\"linecolor\":\"white\",\"minorgridcolor\":\"white\",\"startlinecolor\":\"#2a3f5f\"},\"type\":\"carpet\"}],\"table\":[{\"cells\":{\"fill\":{\"color\":\"#EBF0F8\"},\"line\":{\"color\":\"white\"}},\"header\":{\"fill\":{\"color\":\"#C8D4E3\"},\"line\":{\"color\":\"white\"}},\"type\":\"table\"}],\"barpolar\":[{\"marker\":{\"line\":{\"color\":\"#E5ECF6\",\"width\":0.5},\"pattern\":{\"fillmode\":\"overlay\",\"size\":10,\"solidity\":0.2}},\"type\":\"barpolar\"}],\"pie\":[{\"automargin\":true,\"type\":\"pie\"}]},\"layout\":{\"autotypenumbers\":\"strict\",\"colorway\":[\"#636efa\",\"#EF553B\",\"#00cc96\",\"#ab63fa\",\"#FFA15A\",\"#19d3f3\",\"#FF6692\",\"#B6E880\",\"#FF97FF\",\"#FECB52\"],\"font\":{\"color\":\"#2a3f5f\"},\"hovermode\":\"closest\",\"hoverlabel\":{\"align\":\"left\"},\"paper_bgcolor\":\"white\",\"plot_bgcolor\":\"#E5ECF6\",\"polar\":{\"bgcolor\":\"#E5ECF6\",\"angularaxis\":{\"gridcolor\":\"white\",\"linecolor\":\"white\",\"ticks\":\"\"},\"radialaxis\":{\"gridcolor\":\"white\",\"linecolor\":\"white\",\"ticks\":\"\"}},\"ternary\":{\"bgcolor\":\"#E5ECF6\",\"aaxis\":{\"gridcolor\":\"white\",\"linecolor\":\"white\",\"ticks\":\"\"},\"baxis\":{\"gridcolor\":\"white\",\"linecolor\":\"white\",\"ticks\":\"\"},\"caxis\":{\"gridcolor\":\"white\",\"linecolor\":\"white\",\"ticks\":\"\"}},\"coloraxis\":{\"colorbar\":{\"outlinewidth\":0,\"ticks\":\"\"}},\"colorscale\":{\"sequential\":[[0.0,\"#0d0887\"],[0.1111111111111111,\"#46039f\"],[0.2222222222222222,\"#7201a8\"],[0.3333333333333333,\"#9c179e\"],[0.4444444444444444,\"#bd3786\"],[0.5555555555555556,\"#d8576b\"],[0.6666666666666666,\"#ed7953\"],[0.7777777777777778,\"#fb9f3a\"],[0.8888888888888888,\"#fdca26\"],[1.0,\"#f0f921\"]],\"sequentialminus\":[[0.0,\"#0d0887\"],[0.1111111111111111,\"#46039f\"],[0.2222222222222222,\"#7201a8\"],[0.3333333333333333,\"#9c179e\"],[0.4444444444444444,\"#bd3786\"],[0.5555555555555556,\"#d8576b\"],[0.6666666666666666,\"#ed7953\"],[0.7777777777777778,\"#fb9f3a\"],[0.8888888888888888,\"#fdca26\"],[1.0,\"#f0f921\"]],\"diverging\":[[0,\"#8e0152\"],[0.1,\"#c51b7d\"],[0.2,\"#de77ae\"],[0.3,\"#f1b6da\"],[0.4,\"#fde0ef\"],[0.5,\"#f7f7f7\"],[0.6,\"#e6f5d0\"],[0.7,\"#b8e186\"],[0.8,\"#7fbc41\"],[0.9,\"#4d9221\"],[1,\"#276419\"]]},\"xaxis\":{\"gridcolor\":\"white\",\"linecolor\":\"white\",\"ticks\":\"\",\"title\":{\"standoff\":15},\"zerolinecolor\":\"white\",\"automargin\":true,\"zerolinewidth\":2},\"yaxis\":{\"gridcolor\":\"white\",\"linecolor\":\"white\",\"ticks\":\"\",\"title\":{\"standoff\":15},\"zerolinecolor\":\"white\",\"automargin\":true,\"zerolinewidth\":2},\"scene\":{\"xaxis\":{\"backgroundcolor\":\"#E5ECF6\",\"gridcolor\":\"white\",\"linecolor\":\"white\",\"showbackground\":true,\"ticks\":\"\",\"zerolinecolor\":\"white\",\"gridwidth\":2},\"yaxis\":{\"backgroundcolor\":\"#E5ECF6\",\"gridcolor\":\"white\",\"linecolor\":\"white\",\"showbackground\":true,\"ticks\":\"\",\"zerolinecolor\":\"white\",\"gridwidth\":2},\"zaxis\":{\"backgroundcolor\":\"#E5ECF6\",\"gridcolor\":\"white\",\"linecolor\":\"white\",\"showbackground\":true,\"ticks\":\"\",\"zerolinecolor\":\"white\",\"gridwidth\":2}},\"shapedefaults\":{\"line\":{\"color\":\"#2a3f5f\"}},\"annotationdefaults\":{\"arrowcolor\":\"#2a3f5f\",\"arrowhead\":0,\"arrowwidth\":1},\"geo\":{\"bgcolor\":\"white\",\"landcolor\":\"#E5ECF6\",\"subunitcolor\":\"white\",\"showland\":true,\"showlakes\":true,\"lakecolor\":\"white\"},\"title\":{\"x\":0.05},\"mapbox\":{\"style\":\"light\"}}},\"xaxis\":{\"anchor\":\"y\",\"domain\":[0.0,1.0],\"title\":{\"text\":\"x\"}},\"yaxis\":{\"anchor\":\"x\",\"domain\":[0.0,1.0],\"title\":{\"text\":\"y\"}},\"legend\":{\"tracegroupgap\":0},\"margin\":{\"t\":60}},                        {\"responsive\": true}                    ).then(function(){\n",
              "                            \n",
              "var gd = document.getElementById('6c1e2f07-0998-4f3c-babb-72f017eb6966');\n",
              "var x = new MutationObserver(function (mutations, observer) {{\n",
              "        var display = window.getComputedStyle(gd).display;\n",
              "        if (!display || display === 'none') {{\n",
              "            console.log([gd, 'removed!']);\n",
              "            Plotly.purge(gd);\n",
              "            observer.disconnect();\n",
              "        }}\n",
              "}});\n",
              "\n",
              "// Listen for the removal of the full notebook cells\n",
              "var notebookContainer = gd.closest('#notebook-container');\n",
              "if (notebookContainer) {{\n",
              "    x.observe(notebookContainer, {childList: true});\n",
              "}}\n",
              "\n",
              "// Listen for the clearing of the current output cell\n",
              "var outputEl = gd.closest('.output');\n",
              "if (outputEl) {{\n",
              "    x.observe(outputEl, {childList: true});\n",
              "}}\n",
              "\n",
              "                        })                };                            </script>        </div>\n",
              "</body>\n",
              "</html>"
            ]
          },
          "metadata": {}
        }
      ]
    },
    {
      "cell_type": "markdown",
      "source": [
        "Сделали обычные линейные данные с шумом"
      ],
      "metadata": {
        "id": "pjpSSzUfOYIp"
      }
    },
    {
      "cell_type": "markdown",
      "source": [
        "### Полиномиальные"
      ],
      "metadata": {
        "id": "Q2xrrFkwOwNG"
      }
    },
    {
      "cell_type": "code",
      "source": [
        "X_2 = 2 - 3 * np.random.normal(0, 1, 100)\n",
        "y_2 = X_2 - 2 * (X_2 ** 2) + 0.5 * (X_2 ** 3) + np.random.normal(-3, 3, 100)"
      ],
      "metadata": {
        "id": "mfgPUQ8SUoJM"
      },
      "execution_count": null,
      "outputs": []
    },
    {
      "cell_type": "code",
      "source": [
        "px.scatter(x=X_2, y=y_2)"
      ],
      "metadata": {
        "colab": {
          "base_uri": "https://localhost:8080/",
          "height": 542
        },
        "id": "mVzX28byUqmn",
        "outputId": "b23d5ea4-12dc-4080-aa29-d20369742101"
      },
      "execution_count": null,
      "outputs": [
        {
          "output_type": "display_data",
          "data": {
            "text/html": [
              "<html>\n",
              "<head><meta charset=\"utf-8\" /></head>\n",
              "<body>\n",
              "    <div>            <script src=\"https://cdnjs.cloudflare.com/ajax/libs/mathjax/2.7.5/MathJax.js?config=TeX-AMS-MML_SVG\"></script><script type=\"text/javascript\">if (window.MathJax && window.MathJax.Hub && window.MathJax.Hub.Config) {window.MathJax.Hub.Config({SVG: {font: \"STIX-Web\"}});}</script>                <script type=\"text/javascript\">window.PlotlyConfig = {MathJaxConfig: 'local'};</script>\n",
              "        <script src=\"https://cdn.plot.ly/plotly-2.16.1.min.js\"></script>                <div id=\"084ecab9-d1fb-4544-abf0-69d95c985190\" class=\"plotly-graph-div\" style=\"height:525px; width:100%;\"></div>            <script type=\"text/javascript\">                                    window.PLOTLYENV=window.PLOTLYENV || {};                                    if (document.getElementById(\"084ecab9-d1fb-4544-abf0-69d95c985190\")) {                    Plotly.newPlot(                        \"084ecab9-d1fb-4544-abf0-69d95c985190\",                        [{\"hovertemplate\":\"x=%{x}<br>y=%{y}<extra></extra>\",\"legendgroup\":\"\",\"marker\":{\"color\":\"#636efa\",\"symbol\":\"circle\"},\"mode\":\"markers\",\"name\":\"\",\"orientation\":\"v\",\"showlegend\":false,\"x\":[0.24537248038844695,-1.6935872213217,-0.4657007920035605,4.397685071589356,0.7638403088927994,2.528469842644874,2.219515908909048,3.696999168296754,2.2803957283700136,-0.5719032489207669,4.586669858631753,1.9505567013782157,-2.695333267980776,3.4073602271269676,3.176902194291168,-0.45000099744957645,1.770874123392306,2.300279326326681,-2.8712713575816498,6.009624944474169,2.405396760293406,3.435022035974786,6.784925083016726,4.606877957073752,2.098168543679833,6.582294522793645,2.3737942081496057,2.785847481712171,-0.9860536202808836,1.0473699426373548,2.114781332367747,2.2045939421639176,3.3268275046034743,3.4378903087514567,1.845456266006568,4.9247398800035835,6.2995423098763315,3.077058943030492,0.6371114398637314,4.416493988083415,10.08261372889434,0.4967343921726102,2.013904876284309,3.1788153207806396,2.4657805107115838,0.6508856085265537,-1.5627805979637994,3.003771029858586,2.3457082676347007,-3.5098027963531493,-0.18576300077130137,5.396333279461205,6.254580884095879,-4.4835262185299545,7.26819869958372,-0.13382476529360687,4.074331858780185,1.2288303781808187,-1.1350347136496728,7.766441352588822,2.439844964779351,-2.089752525436234,-0.8731328317032157,-4.192490363892475,4.577073308832608,3.191587052572899,2.5485730947859206,1.1826083596187353,3.71276093889743,3.528779378974056,3.2829619508365537,1.5563224118120407,1.1901385955768196,3.6390177434226416,1.627779962544499,-3.3399333238780935,5.854659052262405,-1.235739763479967,1.3557946696333856,3.263067574782874,2.4215770515415986,5.106964466154951,2.451275419453287,8.021140966875933,2.043798769916191,2.2666493812306583,-2.2218030041800736,3.0264613297458056,4.215061921392927,3.9663531633273883,5.705330609390097,-1.7269625837079667,1.6032224586068757,0.15282714052297997,-1.5519554822034807,3.854947069499043,2.9159461648661,1.0195131542562592,1.4564136835180541,4.866829165148277],\"xaxis\":\"x\",\"y\":[-3.490797652873502,-14.5170792986966,-3.068184191385531,-0.6737243740818748,0.0506486577544385,-8.229081071132608,-6.968479040135748,-2.7143838423331053,-5.8095968165211,-5.534563765305547,8.261420731747776,-6.018057450737759,-23.80642833904672,-3.721030894301881,-3.12840630937368,-9.82319139399156,-4.875095359752697,-7.68213928386344,-28.259878451412458,39.86646487950849,-2.71605114764343,0.9516768401198958,73.9990838770385,2.1849856851012603,-3.872986419564399,60.86859770037245,-1.8905393451987353,-6.270251931772094,-7.443601729045207,-3.385893617203489,-3.088971906492717,-2.9067646835628,-8.875133886399416,-4.387951145695952,-4.538990663507821,11.958297927341052,52.89629672391331,-2.579053666078833,-4.549553889633739,4.199858787370284,318.61352249784187,1.3486562755294131,-4.879805129070302,-6.530654614205941,-2.905100888155544,-8.901051717236177,-13.657363184526751,-1.2614352753765434,-7.5002844069565935,-50.231506933509095,0.8719703775393883,28.264500185170533,49.12753424205575,-88.54832322873219,93.74023460674655,-6.942996510974818,5.263441375761163,-4.646220936856789,-9.080410573666997,113.56871220327166,-8.363448769078229,-17.952650504158978,-0.6403033064587644,-74.64153070380203,8.808331551993746,-5.405826265134439,0.2622176215000618,-4.3841078711537325,-4.342454372215538,2.51335844886337,-5.778696146352386,-2.95242070328683,-5.961577445235417,-1.894945082861493,-2.5010472316419774,-50.25075284486093,34.98243122901118,-4.60868016125651,3.392550470908339,-0.6392014049729706,-0.6300299469948989,15.659340214749795,-6.3134344096330794,139.99696407131003,-0.4203221683256597,-3.2518758068302223,-24.21150027403096,-5.119623172876805,3.713315498723118,-0.4436308837247491,32.35617449247697,-13.760770413691802,-4.381400812961458,-3.4972131943548157,-11.860321155976742,0.6622355772246156,-4.782290947322596,-9.783168421678603,-1.2349585732940214,6.792441620148917],\"yaxis\":\"y\",\"type\":\"scatter\"}],                        {\"template\":{\"data\":{\"histogram2dcontour\":[{\"type\":\"histogram2dcontour\",\"colorbar\":{\"outlinewidth\":0,\"ticks\":\"\"},\"colorscale\":[[0.0,\"#0d0887\"],[0.1111111111111111,\"#46039f\"],[0.2222222222222222,\"#7201a8\"],[0.3333333333333333,\"#9c179e\"],[0.4444444444444444,\"#bd3786\"],[0.5555555555555556,\"#d8576b\"],[0.6666666666666666,\"#ed7953\"],[0.7777777777777778,\"#fb9f3a\"],[0.8888888888888888,\"#fdca26\"],[1.0,\"#f0f921\"]]}],\"choropleth\":[{\"type\":\"choropleth\",\"colorbar\":{\"outlinewidth\":0,\"ticks\":\"\"}}],\"histogram2d\":[{\"type\":\"histogram2d\",\"colorbar\":{\"outlinewidth\":0,\"ticks\":\"\"},\"colorscale\":[[0.0,\"#0d0887\"],[0.1111111111111111,\"#46039f\"],[0.2222222222222222,\"#7201a8\"],[0.3333333333333333,\"#9c179e\"],[0.4444444444444444,\"#bd3786\"],[0.5555555555555556,\"#d8576b\"],[0.6666666666666666,\"#ed7953\"],[0.7777777777777778,\"#fb9f3a\"],[0.8888888888888888,\"#fdca26\"],[1.0,\"#f0f921\"]]}],\"heatmap\":[{\"type\":\"heatmap\",\"colorbar\":{\"outlinewidth\":0,\"ticks\":\"\"},\"colorscale\":[[0.0,\"#0d0887\"],[0.1111111111111111,\"#46039f\"],[0.2222222222222222,\"#7201a8\"],[0.3333333333333333,\"#9c179e\"],[0.4444444444444444,\"#bd3786\"],[0.5555555555555556,\"#d8576b\"],[0.6666666666666666,\"#ed7953\"],[0.7777777777777778,\"#fb9f3a\"],[0.8888888888888888,\"#fdca26\"],[1.0,\"#f0f921\"]]}],\"heatmapgl\":[{\"type\":\"heatmapgl\",\"colorbar\":{\"outlinewidth\":0,\"ticks\":\"\"},\"colorscale\":[[0.0,\"#0d0887\"],[0.1111111111111111,\"#46039f\"],[0.2222222222222222,\"#7201a8\"],[0.3333333333333333,\"#9c179e\"],[0.4444444444444444,\"#bd3786\"],[0.5555555555555556,\"#d8576b\"],[0.6666666666666666,\"#ed7953\"],[0.7777777777777778,\"#fb9f3a\"],[0.8888888888888888,\"#fdca26\"],[1.0,\"#f0f921\"]]}],\"contourcarpet\":[{\"type\":\"contourcarpet\",\"colorbar\":{\"outlinewidth\":0,\"ticks\":\"\"}}],\"contour\":[{\"type\":\"contour\",\"colorbar\":{\"outlinewidth\":0,\"ticks\":\"\"},\"colorscale\":[[0.0,\"#0d0887\"],[0.1111111111111111,\"#46039f\"],[0.2222222222222222,\"#7201a8\"],[0.3333333333333333,\"#9c179e\"],[0.4444444444444444,\"#bd3786\"],[0.5555555555555556,\"#d8576b\"],[0.6666666666666666,\"#ed7953\"],[0.7777777777777778,\"#fb9f3a\"],[0.8888888888888888,\"#fdca26\"],[1.0,\"#f0f921\"]]}],\"surface\":[{\"type\":\"surface\",\"colorbar\":{\"outlinewidth\":0,\"ticks\":\"\"},\"colorscale\":[[0.0,\"#0d0887\"],[0.1111111111111111,\"#46039f\"],[0.2222222222222222,\"#7201a8\"],[0.3333333333333333,\"#9c179e\"],[0.4444444444444444,\"#bd3786\"],[0.5555555555555556,\"#d8576b\"],[0.6666666666666666,\"#ed7953\"],[0.7777777777777778,\"#fb9f3a\"],[0.8888888888888888,\"#fdca26\"],[1.0,\"#f0f921\"]]}],\"mesh3d\":[{\"type\":\"mesh3d\",\"colorbar\":{\"outlinewidth\":0,\"ticks\":\"\"}}],\"scatter\":[{\"fillpattern\":{\"fillmode\":\"overlay\",\"size\":10,\"solidity\":0.2},\"type\":\"scatter\"}],\"parcoords\":[{\"type\":\"parcoords\",\"line\":{\"colorbar\":{\"outlinewidth\":0,\"ticks\":\"\"}}}],\"scatterpolargl\":[{\"type\":\"scatterpolargl\",\"marker\":{\"colorbar\":{\"outlinewidth\":0,\"ticks\":\"\"}}}],\"bar\":[{\"error_x\":{\"color\":\"#2a3f5f\"},\"error_y\":{\"color\":\"#2a3f5f\"},\"marker\":{\"line\":{\"color\":\"#E5ECF6\",\"width\":0.5},\"pattern\":{\"fillmode\":\"overlay\",\"size\":10,\"solidity\":0.2}},\"type\":\"bar\"}],\"scattergeo\":[{\"type\":\"scattergeo\",\"marker\":{\"colorbar\":{\"outlinewidth\":0,\"ticks\":\"\"}}}],\"scatterpolar\":[{\"type\":\"scatterpolar\",\"marker\":{\"colorbar\":{\"outlinewidth\":0,\"ticks\":\"\"}}}],\"histogram\":[{\"marker\":{\"pattern\":{\"fillmode\":\"overlay\",\"size\":10,\"solidity\":0.2}},\"type\":\"histogram\"}],\"scattergl\":[{\"type\":\"scattergl\",\"marker\":{\"colorbar\":{\"outlinewidth\":0,\"ticks\":\"\"}}}],\"scatter3d\":[{\"type\":\"scatter3d\",\"line\":{\"colorbar\":{\"outlinewidth\":0,\"ticks\":\"\"}},\"marker\":{\"colorbar\":{\"outlinewidth\":0,\"ticks\":\"\"}}}],\"scattermapbox\":[{\"type\":\"scattermapbox\",\"marker\":{\"colorbar\":{\"outlinewidth\":0,\"ticks\":\"\"}}}],\"scatterternary\":[{\"type\":\"scatterternary\",\"marker\":{\"colorbar\":{\"outlinewidth\":0,\"ticks\":\"\"}}}],\"scattercarpet\":[{\"type\":\"scattercarpet\",\"marker\":{\"colorbar\":{\"outlinewidth\":0,\"ticks\":\"\"}}}],\"carpet\":[{\"aaxis\":{\"endlinecolor\":\"#2a3f5f\",\"gridcolor\":\"white\",\"linecolor\":\"white\",\"minorgridcolor\":\"white\",\"startlinecolor\":\"#2a3f5f\"},\"baxis\":{\"endlinecolor\":\"#2a3f5f\",\"gridcolor\":\"white\",\"linecolor\":\"white\",\"minorgridcolor\":\"white\",\"startlinecolor\":\"#2a3f5f\"},\"type\":\"carpet\"}],\"table\":[{\"cells\":{\"fill\":{\"color\":\"#EBF0F8\"},\"line\":{\"color\":\"white\"}},\"header\":{\"fill\":{\"color\":\"#C8D4E3\"},\"line\":{\"color\":\"white\"}},\"type\":\"table\"}],\"barpolar\":[{\"marker\":{\"line\":{\"color\":\"#E5ECF6\",\"width\":0.5},\"pattern\":{\"fillmode\":\"overlay\",\"size\":10,\"solidity\":0.2}},\"type\":\"barpolar\"}],\"pie\":[{\"automargin\":true,\"type\":\"pie\"}]},\"layout\":{\"autotypenumbers\":\"strict\",\"colorway\":[\"#636efa\",\"#EF553B\",\"#00cc96\",\"#ab63fa\",\"#FFA15A\",\"#19d3f3\",\"#FF6692\",\"#B6E880\",\"#FF97FF\",\"#FECB52\"],\"font\":{\"color\":\"#2a3f5f\"},\"hovermode\":\"closest\",\"hoverlabel\":{\"align\":\"left\"},\"paper_bgcolor\":\"white\",\"plot_bgcolor\":\"#E5ECF6\",\"polar\":{\"bgcolor\":\"#E5ECF6\",\"angularaxis\":{\"gridcolor\":\"white\",\"linecolor\":\"white\",\"ticks\":\"\"},\"radialaxis\":{\"gridcolor\":\"white\",\"linecolor\":\"white\",\"ticks\":\"\"}},\"ternary\":{\"bgcolor\":\"#E5ECF6\",\"aaxis\":{\"gridcolor\":\"white\",\"linecolor\":\"white\",\"ticks\":\"\"},\"baxis\":{\"gridcolor\":\"white\",\"linecolor\":\"white\",\"ticks\":\"\"},\"caxis\":{\"gridcolor\":\"white\",\"linecolor\":\"white\",\"ticks\":\"\"}},\"coloraxis\":{\"colorbar\":{\"outlinewidth\":0,\"ticks\":\"\"}},\"colorscale\":{\"sequential\":[[0.0,\"#0d0887\"],[0.1111111111111111,\"#46039f\"],[0.2222222222222222,\"#7201a8\"],[0.3333333333333333,\"#9c179e\"],[0.4444444444444444,\"#bd3786\"],[0.5555555555555556,\"#d8576b\"],[0.6666666666666666,\"#ed7953\"],[0.7777777777777778,\"#fb9f3a\"],[0.8888888888888888,\"#fdca26\"],[1.0,\"#f0f921\"]],\"sequentialminus\":[[0.0,\"#0d0887\"],[0.1111111111111111,\"#46039f\"],[0.2222222222222222,\"#7201a8\"],[0.3333333333333333,\"#9c179e\"],[0.4444444444444444,\"#bd3786\"],[0.5555555555555556,\"#d8576b\"],[0.6666666666666666,\"#ed7953\"],[0.7777777777777778,\"#fb9f3a\"],[0.8888888888888888,\"#fdca26\"],[1.0,\"#f0f921\"]],\"diverging\":[[0,\"#8e0152\"],[0.1,\"#c51b7d\"],[0.2,\"#de77ae\"],[0.3,\"#f1b6da\"],[0.4,\"#fde0ef\"],[0.5,\"#f7f7f7\"],[0.6,\"#e6f5d0\"],[0.7,\"#b8e186\"],[0.8,\"#7fbc41\"],[0.9,\"#4d9221\"],[1,\"#276419\"]]},\"xaxis\":{\"gridcolor\":\"white\",\"linecolor\":\"white\",\"ticks\":\"\",\"title\":{\"standoff\":15},\"zerolinecolor\":\"white\",\"automargin\":true,\"zerolinewidth\":2},\"yaxis\":{\"gridcolor\":\"white\",\"linecolor\":\"white\",\"ticks\":\"\",\"title\":{\"standoff\":15},\"zerolinecolor\":\"white\",\"automargin\":true,\"zerolinewidth\":2},\"scene\":{\"xaxis\":{\"backgroundcolor\":\"#E5ECF6\",\"gridcolor\":\"white\",\"linecolor\":\"white\",\"showbackground\":true,\"ticks\":\"\",\"zerolinecolor\":\"white\",\"gridwidth\":2},\"yaxis\":{\"backgroundcolor\":\"#E5ECF6\",\"gridcolor\":\"white\",\"linecolor\":\"white\",\"showbackground\":true,\"ticks\":\"\",\"zerolinecolor\":\"white\",\"gridwidth\":2},\"zaxis\":{\"backgroundcolor\":\"#E5ECF6\",\"gridcolor\":\"white\",\"linecolor\":\"white\",\"showbackground\":true,\"ticks\":\"\",\"zerolinecolor\":\"white\",\"gridwidth\":2}},\"shapedefaults\":{\"line\":{\"color\":\"#2a3f5f\"}},\"annotationdefaults\":{\"arrowcolor\":\"#2a3f5f\",\"arrowhead\":0,\"arrowwidth\":1},\"geo\":{\"bgcolor\":\"white\",\"landcolor\":\"#E5ECF6\",\"subunitcolor\":\"white\",\"showland\":true,\"showlakes\":true,\"lakecolor\":\"white\"},\"title\":{\"x\":0.05},\"mapbox\":{\"style\":\"light\"}}},\"xaxis\":{\"anchor\":\"y\",\"domain\":[0.0,1.0],\"title\":{\"text\":\"x\"}},\"yaxis\":{\"anchor\":\"x\",\"domain\":[0.0,1.0],\"title\":{\"text\":\"y\"}},\"legend\":{\"tracegroupgap\":0},\"margin\":{\"t\":60}},                        {\"responsive\": true}                    ).then(function(){\n",
              "                            \n",
              "var gd = document.getElementById('084ecab9-d1fb-4544-abf0-69d95c985190');\n",
              "var x = new MutationObserver(function (mutations, observer) {{\n",
              "        var display = window.getComputedStyle(gd).display;\n",
              "        if (!display || display === 'none') {{\n",
              "            console.log([gd, 'removed!']);\n",
              "            Plotly.purge(gd);\n",
              "            observer.disconnect();\n",
              "        }}\n",
              "}});\n",
              "\n",
              "// Listen for the removal of the full notebook cells\n",
              "var notebookContainer = gd.closest('#notebook-container');\n",
              "if (notebookContainer) {{\n",
              "    x.observe(notebookContainer, {childList: true});\n",
              "}}\n",
              "\n",
              "// Listen for the clearing of the current output cell\n",
              "var outputEl = gd.closest('.output');\n",
              "if (outputEl) {{\n",
              "    x.observe(outputEl, {childList: true});\n",
              "}}\n",
              "\n",
              "                        })                };                            </script>        </div>\n",
              "</body>\n",
              "</html>"
            ]
          },
          "metadata": {}
        }
      ]
    },
    {
      "cell_type": "markdown",
      "source": [
        "Тут данные без особого шума "
      ],
      "metadata": {
        "id": "E22eZXv4PqxD"
      }
    },
    {
      "cell_type": "markdown",
      "source": [
        "### Полиномиальные с большим шумом"
      ],
      "metadata": {
        "id": "-ZFon0M_O1R_"
      }
    },
    {
      "cell_type": "code",
      "source": [
        "import numpy as np\n",
        "import matplotlib.pyplot as plt\n",
        "\n",
        "def func(x, c): \n",
        "    return sum([c[i] * x**i for i in range(len(c))])\n",
        "\n",
        "num_data_points = 300\n",
        "degree = 3\n",
        "\n",
        "X_3 = np.random.uniform(-10, 10, num_data_points)\n",
        "c = [np.random.uniform(-3, 3) for _ in range(degree + 1)]\n",
        "y_3 = np.array( [func(X_3[i], c) for i in range(num_data_points)] )\n",
        "\n",
        "mu, sigma = 0, 100\n",
        "noise = np.random.normal(mu, sigma, num_data_points)\n",
        "\n",
        "y_3 = np.add(y_3, noise)"
      ],
      "metadata": {
        "id": "qr-8QNu0d8Y5"
      },
      "execution_count": null,
      "outputs": []
    },
    {
      "cell_type": "code",
      "source": [
        "px.scatter(x=X_3, y=y_3)"
      ],
      "metadata": {
        "colab": {
          "base_uri": "https://localhost:8080/",
          "height": 542
        },
        "id": "O2m58gFGd9au",
        "outputId": "d70fb5bb-72c4-4dff-8404-cd0e2354a342"
      },
      "execution_count": null,
      "outputs": [
        {
          "output_type": "display_data",
          "data": {
            "text/html": [
              "<html>\n",
              "<head><meta charset=\"utf-8\" /></head>\n",
              "<body>\n",
              "    <div>            <script src=\"https://cdnjs.cloudflare.com/ajax/libs/mathjax/2.7.5/MathJax.js?config=TeX-AMS-MML_SVG\"></script><script type=\"text/javascript\">if (window.MathJax && window.MathJax.Hub && window.MathJax.Hub.Config) {window.MathJax.Hub.Config({SVG: {font: \"STIX-Web\"}});}</script>                <script type=\"text/javascript\">window.PlotlyConfig = {MathJaxConfig: 'local'};</script>\n",
              "        <script src=\"https://cdn.plot.ly/plotly-2.16.1.min.js\"></script>                <div id=\"f4f38130-a09c-4f10-a61c-7cddb36bf26e\" class=\"plotly-graph-div\" style=\"height:525px; width:100%;\"></div>            <script type=\"text/javascript\">                                    window.PLOTLYENV=window.PLOTLYENV || {};                                    if (document.getElementById(\"f4f38130-a09c-4f10-a61c-7cddb36bf26e\")) {                    Plotly.newPlot(                        \"f4f38130-a09c-4f10-a61c-7cddb36bf26e\",                        [{\"hovertemplate\":\"x=%{x}<br>y=%{y}<extra></extra>\",\"legendgroup\":\"\",\"marker\":{\"color\":\"#636efa\",\"symbol\":\"circle\"},\"mode\":\"markers\",\"name\":\"\",\"orientation\":\"v\",\"showlegend\":false,\"x\":[-1.2260293523085295,-8.961130121699018,-0.9093750515754806,-7.862233829549616,4.520347750307941,3.8171354648870235,-8.898064143961745,6.892520699548093,0.6119793323626013,-5.388834361851482,-3.3137852500922715,0.8380393547101495,5.000265802815857,-8.2705513331172,8.446438295694968,-7.278416708711601,4.959393643453808,-9.194462944246673,0.8202718324297109,-8.566932879021294,8.390474060310435,3.9758107179971436,-5.676379166940963,-1.415153415048998,-6.008343462360015,7.431504057809647,6.16186601258244,-1.4056351210305635,6.06980969117814,-3.4018024058945855,9.509514851841676,-9.736151292424058,9.338943806478039,-9.69701792556451,0.9470185878747817,-9.336720220859132,1.9397317095443931,-4.7879506037709625,-5.389748220038082,0.7310401694126067,-5.240516278335161,-8.53166152927926,-5.936598476857496,-5.418173917981828,2.6978047861724512,-7.695650184243106,-9.745737059661563,-9.835796760808995,-7.687812851401499,7.123917131434371,2.396232820315996,-7.904355493708395,5.890627641349761,2.22483268403543,6.425369736231538,-6.00668472304479,-2.40276765780121,4.820034531808968,-2.392373709412099,8.751099361015488,-7.511951415050766,-6.306990736657763,4.871720463309764,-5.767625968292243,-6.262181893957514,9.420614148952893,6.5755061690404375,-0.13750356929691243,1.5095639339820703,-5.27563613000633,2.498006866544456,-6.2379548975354275,-3.3500009107305306,4.791581319738487,-8.9656200571319,-4.465376854746732,-5.046257639022826,2.216374698004749,-0.9872251176450177,-6.1612336531222756,3.6211916933317134,-4.538639220757217,-7.811056522749702,-5.415475701930785,6.435756713643677,-2.501777518007124,-8.705427424129708,9.090596622588599,-9.875467061480993,7.248113242035451,-7.2786038966677395,6.578378434327583,9.328610278939319,-9.656566708924139,8.527392687729034,-8.430478801954784,2.328531817742272,2.165235711595983,-6.458610169766974,-4.241192778438365,-0.9216312633969075,-0.848664228266717,6.003291850333344,0.5915346062345499,3.254465889328273,2.3978374701064773,-8.28967495951808,-1.0450874730902981,-9.714871304860964,2.248104330095755,-0.7008674376577595,3.6466283774670867,4.5032334731454995,8.365479605584504,-8.862790214555908,2.879345125364761,7.403399285461781,0.029461388758534213,0.3821726808529107,-9.387284644132336,-1.994688709397355,9.614372004685933,-3.4769131031346534,-3.5926985488698833,-5.879391231281128,2.17032224066768,-2.4179860110785745,0.7325006459748362,-7.149814222735991,-6.105945417161811,0.24636809978523289,7.915733024109045,-1.6421780717777033,-6.642061536128172,-0.02340375665832184,0.06904437450784329,2.351126643296542,7.361879318576872,-8.826303825906674,-1.677894516595293,5.013432689820224,9.227261173371065,-7.509673372214623,-0.7545584701744108,7.5962549022427694,-7.5387999439065245,-2.105183581073655,-6.254042819386276,-9.073841106736518,1.8328243927598304,8.487829984809586,-4.721812764346753,9.56027102723452,-6.026664694577109,8.266253167861343,-2.8800357171964226,2.149154065837406,2.1863027901735705,-8.387740969877548,9.878129415888008,5.596360409546342,-6.985619628870707,0.03547409924775735,2.6881965780159938,-7.590502731746909,-6.042529409003725,1.0962713702402738,-9.799923615648288,-1.8993010455510735,7.722219095097522,-5.3099634493705405,-7.952803521927154,-2.1627197293396954,5.972303993742907,5.437803695319177,5.0192249954783215,-8.419289221629189,7.6394991116972975,-8.43931048214618,-4.949001840522889,-9.226753968819787,6.0189892647902745,-9.31514203084052,7.875045132799482,9.542906936639099,7.930226305941709,3.2098106570859404,-4.219519270774546,2.9526541969262095,5.899164465692019,1.2000572950935045,0.3370667200794859,6.07233476519778,2.1269561600166362,-3.4920942588602593,6.2486318866575665,-9.625121342838103,-1.605667933179875,-5.75425367040272,-0.7011420112671622,5.880647764551117,-7.314762971240727,-0.2910097020247431,3.7849531329109993,-6.456962994348423,4.543357074971572,0.8437097865395202,-9.829243564614591,-3.8178008961834546,2.6452152232851738,0.8144520561310831,8.041104332521371,5.55717206173254,-8.90911976383477,-2.6083261224191663,-5.831271200456857,-2.2451155359973,-6.172622486477987,6.806018310347383,4.436704631800426,-9.65557172213581,-8.706509843408188,-3.957565023234082,-1.413898348508642,1.329892642056425,-7.872516876144992,6.898080995306838,-8.869961919026208,4.205562210096854,-7.081944939758151,3.5991438271311935,-0.7783944558471063,-3.46838635696332,5.595214842813128,-9.567119539542743,4.602961362407962,-9.016454305590674,-5.3228288200795815,6.507165189535517,-7.060944990712956,-1.9902104375042207,1.4250798530117557,-3.796827877661924,-9.411270559478861,-6.83823736785838,-2.527514245381603,9.493614760832905,1.5071607224266579,-1.1655644044324465,1.3750942370388337,-1.9338588100383287,5.321662544203917,-4.932804989876116,8.95850888901952,6.372811432385454,-8.035134872799274,0.17271995985721134,-1.659970551129227,-7.012926968017181,-0.8666657539748464,-4.976188660051964,-6.6815606765869155,-7.003210186101844,3.161326481711102,5.0180120511894195,-3.0186491509470725,-2.9591080392471447,-3.9649862618897753,2.7148688547590822,-4.457272909494636,3.0863381339538307,-2.2957929502024754,-6.120189961424025,-4.821435657567519,3.2300553668029472,0.3416231558760181,-4.578173578264543,-2.1995201220269056,8.522850623006853,2.3821396684801144,0.9691565018879125,-0.678448723682985,7.916949393325055,-0.9858997394461326,4.714131083341952,8.264983899409163,5.129364583315132,-1.28418835142487,-8.487492274651583,-7.222707757705271,-9.158004137266538,8.361316313033218,-2.46823910358774,5.404208455855562,0.37555345390784645,1.0722644486420272,-2.6896105502022616,-9.877265448440225,-6.6795779860075655,6.833171598881982],\"xaxis\":\"x\",\"y\":[80.43582259440866,-1833.2710261940313,42.616940898294516,-1323.8808292012263,233.04179573607385,38.97453755560922,-1822.5664285977791,823.9222832750867,24.961122291310055,-317.22962182999026,-155.55129363123064,-42.53218676603355,371.3138063930468,-1528.7918491905696,1582.6737739496443,-1002.6133747499169,280.3361894460279,-2036.9539098572332,215.1002209926401,-1641.8251145387985,1349.5309599433533,193.57156652686066,-360.3041438434576,70.61044896031781,-458.3022063944215,985.397089336855,741.8945264509514,22.160414131405222,475.89633517854173,-35.441642830874784,2053.48260696104,-2236.0903801459604,1961.2547855431542,-2132.8863928457895,116.60585576029003,-1865.8649325770775,94.42786565370098,-255.6970807471306,-566.2161152936538,110.03092307317776,-237.03413901381896,-1692.343026866936,-736.3444194536819,-546.6776401643607,55.44858215576074,-1316.3327697578723,-2510.3279224879598,-2494.9651743239856,-1192.0721085090681,628.7465411636799,31.579410503406166,-1376.2128771644234,244.41075165807962,7.665633620457072,558.0575983341672,-631.6271810215533,-25.841765742729528,378.90364437615284,-43.51474164349466,1650.7056476760142,-1042.468923114486,-473.5649315859797,275.3553461968107,-542.2453723776155,-698.3804095240072,2035.4611292756217,509.05887191206347,-18.130632379917397,149.00542784804207,-304.8585431700371,73.04208887515884,-574.5707723160415,-67.6441650392421,284.6292546889529,-1820.3756441308583,-254.17174348764584,-579.9604253360897,-83.95517023519358,155.97501066538436,-517.9363593134597,20.119575862569505,-461.46169611655307,-977.5607340617335,-640.8785131561123,648.8538276530365,6.368825156072347,-1579.7740011787805,1851.6535815323223,-2356.089797402216,914.4917654938608,-965.3394731222554,660.6800779156162,1803.7677223007122,-2198.8301845640553,1497.5728748315978,-1614.9961584383077,178.63776613503245,26.14781346523116,-897.0323359853076,-222.65411455003212,9.1980238453966,-3.4799145231168573,507.8736510519775,19.274364179767154,57.086445068769216,11.946126561236149,-1477.4594589137948,82.07174458653508,-2462.047257652723,16.87205114417568,33.060042949306755,200.1470278617598,273.37794939103884,1472.7290053714137,-1792.0049692438943,-48.25039421592991,909.6292989159128,-112.50834064618857,-58.657740204845524,-2130.4291444138303,-2.1875294039315776,2199.485685379224,-172.2275928185203,-63.57314756153993,-470.5785572403643,-31.73885505844682,-225.76470514692045,93.34383115869397,-1007.6962385582142,-883.2464894363249,-101.29119175473672,1132.364237213851,65.0237969324505,-927.8293706420218,78.32911209488537,-164.8828436913668,229.7865356872143,1090.3238133999523,-1906.0656996031428,242.334476883189,366.7385285264874,1761.2755713811443,-1189.7914934580615,51.53731154320056,1025.7228256932774,-1039.6951906999936,-190.0917190860635,-673.5940834122405,-1846.407516427828,169.9267356839912,1390.1506631949756,-246.89751649691627,2032.6026594947339,-398.47661562925083,1461.5079028974933,119.33107902654965,121.57458304563002,57.341070136418125,-1694.898290384268,2288.840229279856,318.198257540049,-704.7682751092003,-90.3593584036851,117.24785966768454,-1135.557934938202,-511.26122931818685,-137.68482689158427,-2509.0342494670776,66.6965350738024,1112.7619210521498,-425.5897126543138,-1370.6649080971824,63.70551287198275,427.83531565373596,364.90948744517726,379.64981506314757,-1581.0778142897952,1062.7298593618532,-1520.4172878466957,-415.21759570388576,-2143.8059529360075,482.1758974284967,-2009.9056008396046,1122.107248530441,2129.1266886318094,1242.6172750494334,54.841750356618796,-248.40038980460906,135.97101175152858,427.3436813238137,65.91419941183565,60.255638779173275,393.0317845775706,55.90204090730843,-71.13985752571033,437.5760330785418,-2249.808421843521,53.97022771877681,-387.8348025356273,0.19357573485304203,436.0729557235298,-1081.8586336386888,-52.77543393311834,-16.835298632840818,-747.9219520963132,184.84762805120425,12.953343727436335,-2382.3207510739962,21.36216367551137,-26.614869479740335,-55.770931885927595,1239.3416064417718,241.34727815942256,-1786.566115966169,-17.672537937300724,-580.5109944874458,-151.3711138641473,-754.0451271838608,916.9109363247693,169.36894481924352,-2307.0416097669904,-1617.8730872300625,-446.089667643775,-23.973462039633,18.230022782962166,-1235.0418418354386,640.2193917384816,-1787.9966124413722,262.29883656870163,-857.4772232050068,177.64500204157923,-63.693132347972536,27.792283198212687,457.96613537622966,-2345.7859564980304,299.971139136991,-1810.1094029891613,-229.2321646088615,597.62167713392,-792.2860677615784,-213.26050080123537,5.872838901713816,-277.2095651232403,-1931.7059284353065,-1077.4615745681008,48.19902691426052,2081.980003423446,29.49317815209496,-123.65223275206675,-226.23245452969724,27.00983430062942,394.9359892832473,-233.46035390234655,1587.5017473945625,762.4471489011981,-1353.616069318047,47.287023463655444,-79.64905238224404,-845.9351339679159,26.43791429927554,-268.7320247361325,-798.5462304506209,-1040.565344110806,114.5251118587174,361.7884797453922,54.427758799284234,-61.337928919101465,-5.353879089834351,-21.58221123556993,-115.33561741008542,72.3132975248598,37.17512016172381,-692.1878702665257,-151.48720680463208,44.010677810408986,108.5249679599038,-217.2453365179956,-104.89301738864799,1628.2208896628347,-72.98227829922891,70.45071073367036,42.1113156501994,1160.753015367256,-85.20462662049037,415.51811616487385,1300.390956262993,250.9312371800761,55.944211868564715,-1471.7601667521087,-907.8612257097042,-1798.5785214107864,1492.7312213137052,-121.7843697496912,449.07611066722006,61.20641734170668,-125.42842552454874,-70.06764998356705,-2340.7933186156424,-723.7822866021585,731.9894323139758],\"yaxis\":\"y\",\"type\":\"scatter\"}],                        {\"template\":{\"data\":{\"histogram2dcontour\":[{\"type\":\"histogram2dcontour\",\"colorbar\":{\"outlinewidth\":0,\"ticks\":\"\"},\"colorscale\":[[0.0,\"#0d0887\"],[0.1111111111111111,\"#46039f\"],[0.2222222222222222,\"#7201a8\"],[0.3333333333333333,\"#9c179e\"],[0.4444444444444444,\"#bd3786\"],[0.5555555555555556,\"#d8576b\"],[0.6666666666666666,\"#ed7953\"],[0.7777777777777778,\"#fb9f3a\"],[0.8888888888888888,\"#fdca26\"],[1.0,\"#f0f921\"]]}],\"choropleth\":[{\"type\":\"choropleth\",\"colorbar\":{\"outlinewidth\":0,\"ticks\":\"\"}}],\"histogram2d\":[{\"type\":\"histogram2d\",\"colorbar\":{\"outlinewidth\":0,\"ticks\":\"\"},\"colorscale\":[[0.0,\"#0d0887\"],[0.1111111111111111,\"#46039f\"],[0.2222222222222222,\"#7201a8\"],[0.3333333333333333,\"#9c179e\"],[0.4444444444444444,\"#bd3786\"],[0.5555555555555556,\"#d8576b\"],[0.6666666666666666,\"#ed7953\"],[0.7777777777777778,\"#fb9f3a\"],[0.8888888888888888,\"#fdca26\"],[1.0,\"#f0f921\"]]}],\"heatmap\":[{\"type\":\"heatmap\",\"colorbar\":{\"outlinewidth\":0,\"ticks\":\"\"},\"colorscale\":[[0.0,\"#0d0887\"],[0.1111111111111111,\"#46039f\"],[0.2222222222222222,\"#7201a8\"],[0.3333333333333333,\"#9c179e\"],[0.4444444444444444,\"#bd3786\"],[0.5555555555555556,\"#d8576b\"],[0.6666666666666666,\"#ed7953\"],[0.7777777777777778,\"#fb9f3a\"],[0.8888888888888888,\"#fdca26\"],[1.0,\"#f0f921\"]]}],\"heatmapgl\":[{\"type\":\"heatmapgl\",\"colorbar\":{\"outlinewidth\":0,\"ticks\":\"\"},\"colorscale\":[[0.0,\"#0d0887\"],[0.1111111111111111,\"#46039f\"],[0.2222222222222222,\"#7201a8\"],[0.3333333333333333,\"#9c179e\"],[0.4444444444444444,\"#bd3786\"],[0.5555555555555556,\"#d8576b\"],[0.6666666666666666,\"#ed7953\"],[0.7777777777777778,\"#fb9f3a\"],[0.8888888888888888,\"#fdca26\"],[1.0,\"#f0f921\"]]}],\"contourcarpet\":[{\"type\":\"contourcarpet\",\"colorbar\":{\"outlinewidth\":0,\"ticks\":\"\"}}],\"contour\":[{\"type\":\"contour\",\"colorbar\":{\"outlinewidth\":0,\"ticks\":\"\"},\"colorscale\":[[0.0,\"#0d0887\"],[0.1111111111111111,\"#46039f\"],[0.2222222222222222,\"#7201a8\"],[0.3333333333333333,\"#9c179e\"],[0.4444444444444444,\"#bd3786\"],[0.5555555555555556,\"#d8576b\"],[0.6666666666666666,\"#ed7953\"],[0.7777777777777778,\"#fb9f3a\"],[0.8888888888888888,\"#fdca26\"],[1.0,\"#f0f921\"]]}],\"surface\":[{\"type\":\"surface\",\"colorbar\":{\"outlinewidth\":0,\"ticks\":\"\"},\"colorscale\":[[0.0,\"#0d0887\"],[0.1111111111111111,\"#46039f\"],[0.2222222222222222,\"#7201a8\"],[0.3333333333333333,\"#9c179e\"],[0.4444444444444444,\"#bd3786\"],[0.5555555555555556,\"#d8576b\"],[0.6666666666666666,\"#ed7953\"],[0.7777777777777778,\"#fb9f3a\"],[0.8888888888888888,\"#fdca26\"],[1.0,\"#f0f921\"]]}],\"mesh3d\":[{\"type\":\"mesh3d\",\"colorbar\":{\"outlinewidth\":0,\"ticks\":\"\"}}],\"scatter\":[{\"fillpattern\":{\"fillmode\":\"overlay\",\"size\":10,\"solidity\":0.2},\"type\":\"scatter\"}],\"parcoords\":[{\"type\":\"parcoords\",\"line\":{\"colorbar\":{\"outlinewidth\":0,\"ticks\":\"\"}}}],\"scatterpolargl\":[{\"type\":\"scatterpolargl\",\"marker\":{\"colorbar\":{\"outlinewidth\":0,\"ticks\":\"\"}}}],\"bar\":[{\"error_x\":{\"color\":\"#2a3f5f\"},\"error_y\":{\"color\":\"#2a3f5f\"},\"marker\":{\"line\":{\"color\":\"#E5ECF6\",\"width\":0.5},\"pattern\":{\"fillmode\":\"overlay\",\"size\":10,\"solidity\":0.2}},\"type\":\"bar\"}],\"scattergeo\":[{\"type\":\"scattergeo\",\"marker\":{\"colorbar\":{\"outlinewidth\":0,\"ticks\":\"\"}}}],\"scatterpolar\":[{\"type\":\"scatterpolar\",\"marker\":{\"colorbar\":{\"outlinewidth\":0,\"ticks\":\"\"}}}],\"histogram\":[{\"marker\":{\"pattern\":{\"fillmode\":\"overlay\",\"size\":10,\"solidity\":0.2}},\"type\":\"histogram\"}],\"scattergl\":[{\"type\":\"scattergl\",\"marker\":{\"colorbar\":{\"outlinewidth\":0,\"ticks\":\"\"}}}],\"scatter3d\":[{\"type\":\"scatter3d\",\"line\":{\"colorbar\":{\"outlinewidth\":0,\"ticks\":\"\"}},\"marker\":{\"colorbar\":{\"outlinewidth\":0,\"ticks\":\"\"}}}],\"scattermapbox\":[{\"type\":\"scattermapbox\",\"marker\":{\"colorbar\":{\"outlinewidth\":0,\"ticks\":\"\"}}}],\"scatterternary\":[{\"type\":\"scatterternary\",\"marker\":{\"colorbar\":{\"outlinewidth\":0,\"ticks\":\"\"}}}],\"scattercarpet\":[{\"type\":\"scattercarpet\",\"marker\":{\"colorbar\":{\"outlinewidth\":0,\"ticks\":\"\"}}}],\"carpet\":[{\"aaxis\":{\"endlinecolor\":\"#2a3f5f\",\"gridcolor\":\"white\",\"linecolor\":\"white\",\"minorgridcolor\":\"white\",\"startlinecolor\":\"#2a3f5f\"},\"baxis\":{\"endlinecolor\":\"#2a3f5f\",\"gridcolor\":\"white\",\"linecolor\":\"white\",\"minorgridcolor\":\"white\",\"startlinecolor\":\"#2a3f5f\"},\"type\":\"carpet\"}],\"table\":[{\"cells\":{\"fill\":{\"color\":\"#EBF0F8\"},\"line\":{\"color\":\"white\"}},\"header\":{\"fill\":{\"color\":\"#C8D4E3\"},\"line\":{\"color\":\"white\"}},\"type\":\"table\"}],\"barpolar\":[{\"marker\":{\"line\":{\"color\":\"#E5ECF6\",\"width\":0.5},\"pattern\":{\"fillmode\":\"overlay\",\"size\":10,\"solidity\":0.2}},\"type\":\"barpolar\"}],\"pie\":[{\"automargin\":true,\"type\":\"pie\"}]},\"layout\":{\"autotypenumbers\":\"strict\",\"colorway\":[\"#636efa\",\"#EF553B\",\"#00cc96\",\"#ab63fa\",\"#FFA15A\",\"#19d3f3\",\"#FF6692\",\"#B6E880\",\"#FF97FF\",\"#FECB52\"],\"font\":{\"color\":\"#2a3f5f\"},\"hovermode\":\"closest\",\"hoverlabel\":{\"align\":\"left\"},\"paper_bgcolor\":\"white\",\"plot_bgcolor\":\"#E5ECF6\",\"polar\":{\"bgcolor\":\"#E5ECF6\",\"angularaxis\":{\"gridcolor\":\"white\",\"linecolor\":\"white\",\"ticks\":\"\"},\"radialaxis\":{\"gridcolor\":\"white\",\"linecolor\":\"white\",\"ticks\":\"\"}},\"ternary\":{\"bgcolor\":\"#E5ECF6\",\"aaxis\":{\"gridcolor\":\"white\",\"linecolor\":\"white\",\"ticks\":\"\"},\"baxis\":{\"gridcolor\":\"white\",\"linecolor\":\"white\",\"ticks\":\"\"},\"caxis\":{\"gridcolor\":\"white\",\"linecolor\":\"white\",\"ticks\":\"\"}},\"coloraxis\":{\"colorbar\":{\"outlinewidth\":0,\"ticks\":\"\"}},\"colorscale\":{\"sequential\":[[0.0,\"#0d0887\"],[0.1111111111111111,\"#46039f\"],[0.2222222222222222,\"#7201a8\"],[0.3333333333333333,\"#9c179e\"],[0.4444444444444444,\"#bd3786\"],[0.5555555555555556,\"#d8576b\"],[0.6666666666666666,\"#ed7953\"],[0.7777777777777778,\"#fb9f3a\"],[0.8888888888888888,\"#fdca26\"],[1.0,\"#f0f921\"]],\"sequentialminus\":[[0.0,\"#0d0887\"],[0.1111111111111111,\"#46039f\"],[0.2222222222222222,\"#7201a8\"],[0.3333333333333333,\"#9c179e\"],[0.4444444444444444,\"#bd3786\"],[0.5555555555555556,\"#d8576b\"],[0.6666666666666666,\"#ed7953\"],[0.7777777777777778,\"#fb9f3a\"],[0.8888888888888888,\"#fdca26\"],[1.0,\"#f0f921\"]],\"diverging\":[[0,\"#8e0152\"],[0.1,\"#c51b7d\"],[0.2,\"#de77ae\"],[0.3,\"#f1b6da\"],[0.4,\"#fde0ef\"],[0.5,\"#f7f7f7\"],[0.6,\"#e6f5d0\"],[0.7,\"#b8e186\"],[0.8,\"#7fbc41\"],[0.9,\"#4d9221\"],[1,\"#276419\"]]},\"xaxis\":{\"gridcolor\":\"white\",\"linecolor\":\"white\",\"ticks\":\"\",\"title\":{\"standoff\":15},\"zerolinecolor\":\"white\",\"automargin\":true,\"zerolinewidth\":2},\"yaxis\":{\"gridcolor\":\"white\",\"linecolor\":\"white\",\"ticks\":\"\",\"title\":{\"standoff\":15},\"zerolinecolor\":\"white\",\"automargin\":true,\"zerolinewidth\":2},\"scene\":{\"xaxis\":{\"backgroundcolor\":\"#E5ECF6\",\"gridcolor\":\"white\",\"linecolor\":\"white\",\"showbackground\":true,\"ticks\":\"\",\"zerolinecolor\":\"white\",\"gridwidth\":2},\"yaxis\":{\"backgroundcolor\":\"#E5ECF6\",\"gridcolor\":\"white\",\"linecolor\":\"white\",\"showbackground\":true,\"ticks\":\"\",\"zerolinecolor\":\"white\",\"gridwidth\":2},\"zaxis\":{\"backgroundcolor\":\"#E5ECF6\",\"gridcolor\":\"white\",\"linecolor\":\"white\",\"showbackground\":true,\"ticks\":\"\",\"zerolinecolor\":\"white\",\"gridwidth\":2}},\"shapedefaults\":{\"line\":{\"color\":\"#2a3f5f\"}},\"annotationdefaults\":{\"arrowcolor\":\"#2a3f5f\",\"arrowhead\":0,\"arrowwidth\":1},\"geo\":{\"bgcolor\":\"white\",\"landcolor\":\"#E5ECF6\",\"subunitcolor\":\"white\",\"showland\":true,\"showlakes\":true,\"lakecolor\":\"white\"},\"title\":{\"x\":0.05},\"mapbox\":{\"style\":\"light\"}}},\"xaxis\":{\"anchor\":\"y\",\"domain\":[0.0,1.0],\"title\":{\"text\":\"x\"}},\"yaxis\":{\"anchor\":\"x\",\"domain\":[0.0,1.0],\"title\":{\"text\":\"y\"}},\"legend\":{\"tracegroupgap\":0},\"margin\":{\"t\":60}},                        {\"responsive\": true}                    ).then(function(){\n",
              "                            \n",
              "var gd = document.getElementById('f4f38130-a09c-4f10-a61c-7cddb36bf26e');\n",
              "var x = new MutationObserver(function (mutations, observer) {{\n",
              "        var display = window.getComputedStyle(gd).display;\n",
              "        if (!display || display === 'none') {{\n",
              "            console.log([gd, 'removed!']);\n",
              "            Plotly.purge(gd);\n",
              "            observer.disconnect();\n",
              "        }}\n",
              "}});\n",
              "\n",
              "// Listen for the removal of the full notebook cells\n",
              "var notebookContainer = gd.closest('#notebook-container');\n",
              "if (notebookContainer) {{\n",
              "    x.observe(notebookContainer, {childList: true});\n",
              "}}\n",
              "\n",
              "// Listen for the clearing of the current output cell\n",
              "var outputEl = gd.closest('.output');\n",
              "if (outputEl) {{\n",
              "    x.observe(outputEl, {childList: true});\n",
              "}}\n",
              "\n",
              "                        })                };                            </script>        </div>\n",
              "</body>\n",
              "</html>"
            ]
          },
          "metadata": {}
        }
      ]
    },
    {
      "cell_type": "markdown",
      "source": [
        "Здесь данные уже с большим шумом, сделали даные по формуле, далее добавили нормально распределённый шум, чтобы оценки минимальных квадратов были оценками максимального правдоподобия"
      ],
      "metadata": {
        "id": "wa0b4HjtPCHb"
      }
    },
    {
      "cell_type": "markdown",
      "source": [
        "## Train test split"
      ],
      "metadata": {
        "id": "TkS359b6hGvA"
      }
    },
    {
      "cell_type": "code",
      "source": [
        "X_train_1, X_test_1, y_train_1, y_test_1 = train_test_split(X_1.reshape(-1, 1), y_1.reshape(-1, 1), test_size=0.2)"
      ],
      "metadata": {
        "id": "WYGK4gkThKo4"
      },
      "execution_count": null,
      "outputs": []
    },
    {
      "cell_type": "code",
      "source": [
        "X_train_2, X_test_2, y_train_2, y_test_2 = train_test_split(X_2.reshape(-1, 1), y_2.reshape(-1, 1), test_size=0.2)"
      ],
      "metadata": {
        "id": "tE-JmbXqkhwr"
      },
      "execution_count": null,
      "outputs": []
    },
    {
      "cell_type": "code",
      "source": [
        "X_train_3, X_test_3, y_train_3, y_test_3 = train_test_split(X_3.reshape(-1, 1), y_3.reshape(-1, 1), test_size=0.2)"
      ],
      "metadata": {
        "id": "KV1uBRYjkm43"
      },
      "execution_count": null,
      "outputs": []
    },
    {
      "cell_type": "markdown",
      "source": [
        "## Проверка моделей"
      ],
      "metadata": {
        "id": "4-E411IEgNkL"
      }
    },
    {
      "cell_type": "markdown",
      "source": [
        "## 1 датасет"
      ],
      "metadata": {
        "id": "RzFm10HI0OHM"
      }
    },
    {
      "cell_type": "markdown",
      "source": [
        "### Линейная регрессия"
      ],
      "metadata": {
        "id": "_JYT1MA_Q5H7"
      }
    },
    {
      "cell_type": "code",
      "source": [
        "model_lr_1 = LinearRegression().fit(X_train_1, y_train_1)\n",
        "\n",
        "y_pred_lr_1 = model_lr_1.predict(X_test_1)\n",
        "\n",
        "print(f'R2 score: {r2_score(y_test_1, y_pred_lr_1)}')\n",
        "print(f'MAE: {mean_absolute_error(y_test_1, y_pred_lr_1)}')\n",
        "print(f'MSE: {mean_squared_error(y_test_1, y_pred_lr_1)}')"
      ],
      "metadata": {
        "colab": {
          "base_uri": "https://localhost:8080/"
        },
        "id": "RWkzdgLdgVpz",
        "outputId": "b4455b8b-cfa1-4a35-a699-4355698e93cb"
      },
      "execution_count": null,
      "outputs": [
        {
          "output_type": "stream",
          "name": "stdout",
          "text": [
            "R2 score: 0.9720382826771956\n",
            "MAE: 0.10434052507194762\n",
            "MSE: 0.014797672285965745\n"
          ]
        }
      ]
    },
    {
      "cell_type": "markdown",
      "source": [
        "Логика оценки R2 такова, что она очень хорошо оценивает степень обучения модели получая долю сумм отклонений предсказаний от сумм отклонений самих тестовых данных.\n",
        "\n",
        "Оценка "
      ],
      "metadata": {
        "id": "mjaGuXNaRJrf"
      }
    },
    {
      "cell_type": "code",
      "source": [
        "def plot_test(X_train, X_test, y_train, y_test, y_pred):\n",
        "  df_train = pd.DataFrame()\n",
        "  df_test = pd.DataFrame()\n",
        "\n",
        "  df_test['X_test'] = [s[0] for s in X_test.tolist()]\n",
        "  df_test['y_test'] = y_test\n",
        "  df_test['y_pred'] = y_pred\n",
        "\n",
        "  df_train['X_train'] = [s[0] for s in X_train.tolist()]\n",
        "  df_train['y_train'] = y_train\n",
        "\n",
        "\n",
        "  fig = go.Figure(\n",
        "    px.scatter(df_train, x='X_train', y='y_train', labels={'X_train': 'train'}).data +\n",
        "    px.scatter(df_test, x='X_test', y='y_test', color_discrete_sequence=['red']).data +\n",
        "    px.scatter(df_test, x='X_test', y='y_pred', color_discrete_sequence=['lime'], trendline=\"lowess\", trendline_options=dict(frac=0.1)).data\n",
        "  )\n",
        "\n",
        "  fig.data[0].name=\"train\"\n",
        "  fig.data[1].name=\"test\"\n",
        "  fig.data[2].name=\"predictions\"\n",
        "  fig.update_traces(showlegend=True)\n",
        "\n",
        "\n",
        "  return fig"
      ],
      "metadata": {
        "id": "V3pybcV-sP7H"
      },
      "execution_count": null,
      "outputs": []
    },
    {
      "cell_type": "code",
      "source": [
        "plot_test(X_train_1, X_test_1, y_train_1, y_test_1, y_pred_lr_1)"
      ],
      "metadata": {
        "colab": {
          "base_uri": "https://localhost:8080/",
          "height": 542
        },
        "id": "gZ3NHzUDvgqh",
        "outputId": "98e050c5-98e6-4326-8046-7d1ebade9ef8"
      },
      "execution_count": null,
      "outputs": [
        {
          "output_type": "display_data",
          "data": {
            "text/html": [
              "<html>\n",
              "<head><meta charset=\"utf-8\" /></head>\n",
              "<body>\n",
              "    <div>            <script src=\"https://cdnjs.cloudflare.com/ajax/libs/mathjax/2.7.5/MathJax.js?config=TeX-AMS-MML_SVG\"></script><script type=\"text/javascript\">if (window.MathJax && window.MathJax.Hub && window.MathJax.Hub.Config) {window.MathJax.Hub.Config({SVG: {font: \"STIX-Web\"}});}</script>                <script type=\"text/javascript\">window.PlotlyConfig = {MathJaxConfig: 'local'};</script>\n",
              "        <script src=\"https://cdn.plot.ly/plotly-2.16.1.min.js\"></script>                <div id=\"0769cf61-cfa7-4515-bcd4-3c998cbdf354\" class=\"plotly-graph-div\" style=\"height:525px; width:100%;\"></div>            <script type=\"text/javascript\">                                    window.PLOTLYENV=window.PLOTLYENV || {};                                    if (document.getElementById(\"0769cf61-cfa7-4515-bcd4-3c998cbdf354\")) {                    Plotly.newPlot(                        \"0769cf61-cfa7-4515-bcd4-3c998cbdf354\",                        [{\"hovertemplate\":\"train=%{x}<br>y_train=%{y}<extra></extra>\",\"legendgroup\":\"\",\"marker\":{\"color\":\"#636efa\",\"symbol\":\"circle\"},\"mode\":\"markers\",\"name\":\"train\",\"orientation\":\"v\",\"showlegend\":true,\"x\":[2.2750233948715866,3.81239920490327,1.9708671376392455,-0.18866517428376928,0.6568510346678855,6.155841278485,2.269715600961815,1.4085314509413824,0.18351300130342948,4.7566175491033125,5.362481505702863,3.5980146221096168,4.464678234815041,3.905702356505597,4.6203159167856445,1.484202389414668,5.716474776280942,2.52835042540331,4.340151019809736,5.218867074016549,5.849098767618748,3.578322158135161,0.4255451751962436,2.9972290277290554,4.348280467170047,5.209834612877327,0.036443650177422515,1.2983168429569465,3.5167768093497562,5.928799514539244,5.30164181896489,3.252139396614546,2.798240293022916,2.1350995956100776,0.7343619690310148,1.3519430815503768,0.9513662485498255,0.9175062156608766,2.549202883380131,4.015414665298267],\"xaxis\":\"x\",\"y\":[1.0269713027978882,1.9974612947939785,1.000949741564874,-0.042952403322802285,0.2987212354180333,2.916908437860258,1.1198328916371991,0.7568298543576255,0.2594174368566663,2.3318085469445204,2.696343087375826,1.7653202488566222,2.2228979174073005,1.7895772089039788,2.1605482442615704,0.7348571677154871,2.7756900227450654,1.2423319062893976,2.3139518000358503,2.565427380251498,2.9817085037951836,1.662827240882947,0.3299621404336591,1.3308063458357293,2.0378338789250705,2.527480776808896,0.01548995669802046,0.4227287094237623,1.7441655409470507,2.797164743156055,2.8846098041810535,1.7417818053297516,1.5531848471957315,1.1269304042068649,0.4189851138917952,0.6061195319142957,0.3762061374812218,0.6840009943141524,1.1639833278209217,1.9829838831318725],\"yaxis\":\"y\",\"type\":\"scatter\"},{\"hovertemplate\":\"X_test=%{x}<br>y_test=%{y}<extra></extra>\",\"legendgroup\":\"\",\"marker\":{\"color\":\"red\",\"symbol\":\"circle\"},\"mode\":\"markers\",\"name\":\"test\",\"orientation\":\"v\",\"showlegend\":true,\"x\":[0.13812261436002185,0.9273011121121499,1.891885662199423,1.7674874362089155,4.980909088280212,3.9800288584247774,4.7862857202660765,2.724364189225054,3.4363007792793208,3.2247507580983217],\"xaxis\":\"x\",\"y\":[0.3207417276109528,0.3303611397077483,0.9492540758462609,0.9669009511362414,2.3738636194836356,1.832080082436438,2.4916213901133144,1.3909432171834175,1.8504974971867059,1.655524726800684],\"yaxis\":\"y\",\"type\":\"scatter\"},{\"hovertemplate\":\"X_test=%{x}<br>y_pred=%{y}<extra></extra>\",\"legendgroup\":\"\",\"marker\":{\"color\":\"lime\",\"symbol\":\"circle\"},\"mode\":\"markers\",\"name\":\"predictions\",\"orientation\":\"v\",\"showlegend\":true,\"x\":[0.13812261436002185,0.9273011121121499,1.891885662199423,1.7674874362089155,4.980909088280212,3.9800288584247774,4.7862857202660765,2.724364189225054,3.4363007792793208,3.2247507580983217],\"xaxis\":\"x\",\"y\":[0.09792485419821972,0.48096650718192985,0.949144570269535,0.8887657050985135,2.44845637691613,1.9626615677892392,2.353992504920461,1.3532026534200678,1.6987535890458185,1.5960740684649624],\"yaxis\":\"y\",\"type\":\"scatter\"},{\"hovertemplate\":\"<b>LOWESS trendline</b><br><br>X_test=%{x}<br>y_pred=%{y} <b>(trend)</b><extra></extra>\",\"legendgroup\":\"\",\"marker\":{\"color\":\"lime\",\"symbol\":\"circle\"},\"mode\":\"lines\",\"name\":\"\",\"showlegend\":true,\"x\":[0.13812261436002185,0.9273011121121499,1.7674874362089155,1.891885662199423,2.724364189225054,3.2247507580983217,3.4363007792793208,3.9800288584247774,4.7862857202660765,4.980909088280212],\"xaxis\":\"x\",\"y\":[0.09792485419821972,0.48096650718192985,0.8887657050985135,0.949144570269535,1.3532026534200678,1.5960740684649624,1.6987535890458185,1.9626615677892392,2.353992504920461,2.44845637691613],\"yaxis\":\"y\",\"type\":\"scatter\"}],                        {\"template\":{\"data\":{\"histogram2dcontour\":[{\"type\":\"histogram2dcontour\",\"colorbar\":{\"outlinewidth\":0,\"ticks\":\"\"},\"colorscale\":[[0.0,\"#0d0887\"],[0.1111111111111111,\"#46039f\"],[0.2222222222222222,\"#7201a8\"],[0.3333333333333333,\"#9c179e\"],[0.4444444444444444,\"#bd3786\"],[0.5555555555555556,\"#d8576b\"],[0.6666666666666666,\"#ed7953\"],[0.7777777777777778,\"#fb9f3a\"],[0.8888888888888888,\"#fdca26\"],[1.0,\"#f0f921\"]]}],\"choropleth\":[{\"type\":\"choropleth\",\"colorbar\":{\"outlinewidth\":0,\"ticks\":\"\"}}],\"histogram2d\":[{\"type\":\"histogram2d\",\"colorbar\":{\"outlinewidth\":0,\"ticks\":\"\"},\"colorscale\":[[0.0,\"#0d0887\"],[0.1111111111111111,\"#46039f\"],[0.2222222222222222,\"#7201a8\"],[0.3333333333333333,\"#9c179e\"],[0.4444444444444444,\"#bd3786\"],[0.5555555555555556,\"#d8576b\"],[0.6666666666666666,\"#ed7953\"],[0.7777777777777778,\"#fb9f3a\"],[0.8888888888888888,\"#fdca26\"],[1.0,\"#f0f921\"]]}],\"heatmap\":[{\"type\":\"heatmap\",\"colorbar\":{\"outlinewidth\":0,\"ticks\":\"\"},\"colorscale\":[[0.0,\"#0d0887\"],[0.1111111111111111,\"#46039f\"],[0.2222222222222222,\"#7201a8\"],[0.3333333333333333,\"#9c179e\"],[0.4444444444444444,\"#bd3786\"],[0.5555555555555556,\"#d8576b\"],[0.6666666666666666,\"#ed7953\"],[0.7777777777777778,\"#fb9f3a\"],[0.8888888888888888,\"#fdca26\"],[1.0,\"#f0f921\"]]}],\"heatmapgl\":[{\"type\":\"heatmapgl\",\"colorbar\":{\"outlinewidth\":0,\"ticks\":\"\"},\"colorscale\":[[0.0,\"#0d0887\"],[0.1111111111111111,\"#46039f\"],[0.2222222222222222,\"#7201a8\"],[0.3333333333333333,\"#9c179e\"],[0.4444444444444444,\"#bd3786\"],[0.5555555555555556,\"#d8576b\"],[0.6666666666666666,\"#ed7953\"],[0.7777777777777778,\"#fb9f3a\"],[0.8888888888888888,\"#fdca26\"],[1.0,\"#f0f921\"]]}],\"contourcarpet\":[{\"type\":\"contourcarpet\",\"colorbar\":{\"outlinewidth\":0,\"ticks\":\"\"}}],\"contour\":[{\"type\":\"contour\",\"colorbar\":{\"outlinewidth\":0,\"ticks\":\"\"},\"colorscale\":[[0.0,\"#0d0887\"],[0.1111111111111111,\"#46039f\"],[0.2222222222222222,\"#7201a8\"],[0.3333333333333333,\"#9c179e\"],[0.4444444444444444,\"#bd3786\"],[0.5555555555555556,\"#d8576b\"],[0.6666666666666666,\"#ed7953\"],[0.7777777777777778,\"#fb9f3a\"],[0.8888888888888888,\"#fdca26\"],[1.0,\"#f0f921\"]]}],\"surface\":[{\"type\":\"surface\",\"colorbar\":{\"outlinewidth\":0,\"ticks\":\"\"},\"colorscale\":[[0.0,\"#0d0887\"],[0.1111111111111111,\"#46039f\"],[0.2222222222222222,\"#7201a8\"],[0.3333333333333333,\"#9c179e\"],[0.4444444444444444,\"#bd3786\"],[0.5555555555555556,\"#d8576b\"],[0.6666666666666666,\"#ed7953\"],[0.7777777777777778,\"#fb9f3a\"],[0.8888888888888888,\"#fdca26\"],[1.0,\"#f0f921\"]]}],\"mesh3d\":[{\"type\":\"mesh3d\",\"colorbar\":{\"outlinewidth\":0,\"ticks\":\"\"}}],\"scatter\":[{\"fillpattern\":{\"fillmode\":\"overlay\",\"size\":10,\"solidity\":0.2},\"type\":\"scatter\"}],\"parcoords\":[{\"type\":\"parcoords\",\"line\":{\"colorbar\":{\"outlinewidth\":0,\"ticks\":\"\"}}}],\"scatterpolargl\":[{\"type\":\"scatterpolargl\",\"marker\":{\"colorbar\":{\"outlinewidth\":0,\"ticks\":\"\"}}}],\"bar\":[{\"error_x\":{\"color\":\"#2a3f5f\"},\"error_y\":{\"color\":\"#2a3f5f\"},\"marker\":{\"line\":{\"color\":\"#E5ECF6\",\"width\":0.5},\"pattern\":{\"fillmode\":\"overlay\",\"size\":10,\"solidity\":0.2}},\"type\":\"bar\"}],\"scattergeo\":[{\"type\":\"scattergeo\",\"marker\":{\"colorbar\":{\"outlinewidth\":0,\"ticks\":\"\"}}}],\"scatterpolar\":[{\"type\":\"scatterpolar\",\"marker\":{\"colorbar\":{\"outlinewidth\":0,\"ticks\":\"\"}}}],\"histogram\":[{\"marker\":{\"pattern\":{\"fillmode\":\"overlay\",\"size\":10,\"solidity\":0.2}},\"type\":\"histogram\"}],\"scattergl\":[{\"type\":\"scattergl\",\"marker\":{\"colorbar\":{\"outlinewidth\":0,\"ticks\":\"\"}}}],\"scatter3d\":[{\"type\":\"scatter3d\",\"line\":{\"colorbar\":{\"outlinewidth\":0,\"ticks\":\"\"}},\"marker\":{\"colorbar\":{\"outlinewidth\":0,\"ticks\":\"\"}}}],\"scattermapbox\":[{\"type\":\"scattermapbox\",\"marker\":{\"colorbar\":{\"outlinewidth\":0,\"ticks\":\"\"}}}],\"scatterternary\":[{\"type\":\"scatterternary\",\"marker\":{\"colorbar\":{\"outlinewidth\":0,\"ticks\":\"\"}}}],\"scattercarpet\":[{\"type\":\"scattercarpet\",\"marker\":{\"colorbar\":{\"outlinewidth\":0,\"ticks\":\"\"}}}],\"carpet\":[{\"aaxis\":{\"endlinecolor\":\"#2a3f5f\",\"gridcolor\":\"white\",\"linecolor\":\"white\",\"minorgridcolor\":\"white\",\"startlinecolor\":\"#2a3f5f\"},\"baxis\":{\"endlinecolor\":\"#2a3f5f\",\"gridcolor\":\"white\",\"linecolor\":\"white\",\"minorgridcolor\":\"white\",\"startlinecolor\":\"#2a3f5f\"},\"type\":\"carpet\"}],\"table\":[{\"cells\":{\"fill\":{\"color\":\"#EBF0F8\"},\"line\":{\"color\":\"white\"}},\"header\":{\"fill\":{\"color\":\"#C8D4E3\"},\"line\":{\"color\":\"white\"}},\"type\":\"table\"}],\"barpolar\":[{\"marker\":{\"line\":{\"color\":\"#E5ECF6\",\"width\":0.5},\"pattern\":{\"fillmode\":\"overlay\",\"size\":10,\"solidity\":0.2}},\"type\":\"barpolar\"}],\"pie\":[{\"automargin\":true,\"type\":\"pie\"}]},\"layout\":{\"autotypenumbers\":\"strict\",\"colorway\":[\"#636efa\",\"#EF553B\",\"#00cc96\",\"#ab63fa\",\"#FFA15A\",\"#19d3f3\",\"#FF6692\",\"#B6E880\",\"#FF97FF\",\"#FECB52\"],\"font\":{\"color\":\"#2a3f5f\"},\"hovermode\":\"closest\",\"hoverlabel\":{\"align\":\"left\"},\"paper_bgcolor\":\"white\",\"plot_bgcolor\":\"#E5ECF6\",\"polar\":{\"bgcolor\":\"#E5ECF6\",\"angularaxis\":{\"gridcolor\":\"white\",\"linecolor\":\"white\",\"ticks\":\"\"},\"radialaxis\":{\"gridcolor\":\"white\",\"linecolor\":\"white\",\"ticks\":\"\"}},\"ternary\":{\"bgcolor\":\"#E5ECF6\",\"aaxis\":{\"gridcolor\":\"white\",\"linecolor\":\"white\",\"ticks\":\"\"},\"baxis\":{\"gridcolor\":\"white\",\"linecolor\":\"white\",\"ticks\":\"\"},\"caxis\":{\"gridcolor\":\"white\",\"linecolor\":\"white\",\"ticks\":\"\"}},\"coloraxis\":{\"colorbar\":{\"outlinewidth\":0,\"ticks\":\"\"}},\"colorscale\":{\"sequential\":[[0.0,\"#0d0887\"],[0.1111111111111111,\"#46039f\"],[0.2222222222222222,\"#7201a8\"],[0.3333333333333333,\"#9c179e\"],[0.4444444444444444,\"#bd3786\"],[0.5555555555555556,\"#d8576b\"],[0.6666666666666666,\"#ed7953\"],[0.7777777777777778,\"#fb9f3a\"],[0.8888888888888888,\"#fdca26\"],[1.0,\"#f0f921\"]],\"sequentialminus\":[[0.0,\"#0d0887\"],[0.1111111111111111,\"#46039f\"],[0.2222222222222222,\"#7201a8\"],[0.3333333333333333,\"#9c179e\"],[0.4444444444444444,\"#bd3786\"],[0.5555555555555556,\"#d8576b\"],[0.6666666666666666,\"#ed7953\"],[0.7777777777777778,\"#fb9f3a\"],[0.8888888888888888,\"#fdca26\"],[1.0,\"#f0f921\"]],\"diverging\":[[0,\"#8e0152\"],[0.1,\"#c51b7d\"],[0.2,\"#de77ae\"],[0.3,\"#f1b6da\"],[0.4,\"#fde0ef\"],[0.5,\"#f7f7f7\"],[0.6,\"#e6f5d0\"],[0.7,\"#b8e186\"],[0.8,\"#7fbc41\"],[0.9,\"#4d9221\"],[1,\"#276419\"]]},\"xaxis\":{\"gridcolor\":\"white\",\"linecolor\":\"white\",\"ticks\":\"\",\"title\":{\"standoff\":15},\"zerolinecolor\":\"white\",\"automargin\":true,\"zerolinewidth\":2},\"yaxis\":{\"gridcolor\":\"white\",\"linecolor\":\"white\",\"ticks\":\"\",\"title\":{\"standoff\":15},\"zerolinecolor\":\"white\",\"automargin\":true,\"zerolinewidth\":2},\"scene\":{\"xaxis\":{\"backgroundcolor\":\"#E5ECF6\",\"gridcolor\":\"white\",\"linecolor\":\"white\",\"showbackground\":true,\"ticks\":\"\",\"zerolinecolor\":\"white\",\"gridwidth\":2},\"yaxis\":{\"backgroundcolor\":\"#E5ECF6\",\"gridcolor\":\"white\",\"linecolor\":\"white\",\"showbackground\":true,\"ticks\":\"\",\"zerolinecolor\":\"white\",\"gridwidth\":2},\"zaxis\":{\"backgroundcolor\":\"#E5ECF6\",\"gridcolor\":\"white\",\"linecolor\":\"white\",\"showbackground\":true,\"ticks\":\"\",\"zerolinecolor\":\"white\",\"gridwidth\":2}},\"shapedefaults\":{\"line\":{\"color\":\"#2a3f5f\"}},\"annotationdefaults\":{\"arrowcolor\":\"#2a3f5f\",\"arrowhead\":0,\"arrowwidth\":1},\"geo\":{\"bgcolor\":\"white\",\"landcolor\":\"#E5ECF6\",\"subunitcolor\":\"white\",\"showland\":true,\"showlakes\":true,\"lakecolor\":\"white\"},\"title\":{\"x\":0.05},\"mapbox\":{\"style\":\"light\"}}}},                        {\"responsive\": true}                    ).then(function(){\n",
              "                            \n",
              "var gd = document.getElementById('0769cf61-cfa7-4515-bcd4-3c998cbdf354');\n",
              "var x = new MutationObserver(function (mutations, observer) {{\n",
              "        var display = window.getComputedStyle(gd).display;\n",
              "        if (!display || display === 'none') {{\n",
              "            console.log([gd, 'removed!']);\n",
              "            Plotly.purge(gd);\n",
              "            observer.disconnect();\n",
              "        }}\n",
              "}});\n",
              "\n",
              "// Listen for the removal of the full notebook cells\n",
              "var notebookContainer = gd.closest('#notebook-container');\n",
              "if (notebookContainer) {{\n",
              "    x.observe(notebookContainer, {childList: true});\n",
              "}}\n",
              "\n",
              "// Listen for the clearing of the current output cell\n",
              "var outputEl = gd.closest('.output');\n",
              "if (outputEl) {{\n",
              "    x.observe(outputEl, {childList: true});\n",
              "}}\n",
              "\n",
              "                        })                };                            </script>        </div>\n",
              "</body>\n",
              "</html>"
            ]
          },
          "metadata": {}
        }
      ]
    },
    {
      "cell_type": "markdown",
      "source": [
        "Точность довольно высокая, оно и видно на графике, красные точки тренировочных данных недалеко от линии регрессии. Шума не так много."
      ],
      "metadata": {
        "id": "AuoY77YKprOp"
      }
    },
    {
      "cell_type": "markdown",
      "source": [
        "### Ridge регуляризация"
      ],
      "metadata": {
        "id": "LV2XVJwPt3Cg"
      }
    },
    {
      "cell_type": "markdown",
      "source": [
        "Напишем функцию для вывода визуализации весов, они будут в том же порядке как и расположены фичи в датасете"
      ],
      "metadata": {
        "id": "6HC65UjHOV7o"
      }
    },
    {
      "cell_type": "code",
      "source": [
        "def plot_weights(coefs, columns=None, show_cols=False):\n",
        "  df_plot = pd.DataFrame()\n",
        "\n",
        "  df_plot['y'] = coefs.squeeze()\n",
        "  if show_cols:\n",
        "    df_plot['x'] = columns\n",
        "  else:\n",
        "    df_plot['x'] = ['w' + str(s) for s in range(len(coefs.squeeze()))]\n",
        "  df_plot['c'] = df_plot.y.apply(lambda x: '>=0' if x >= 0 else '<0')\n",
        "\n",
        "\n",
        "  return px.bar(df_plot, y='y', x='x', color='c', color_discrete_map={'>=0': 'blue', '<0': 'red'}).update_xaxes(categoryorder='array', categoryarray=df_plot['x'])"
      ],
      "metadata": {
        "id": "btrNJfssA2nF"
      },
      "execution_count": null,
      "outputs": []
    },
    {
      "cell_type": "markdown",
      "source": [
        "Регуляризация работает посредством уменьшения весов, для корректной работы их должно быть несколько, применим функцию для создания новых фич"
      ],
      "metadata": {
        "id": "3OflepJYGYFA"
      }
    },
    {
      "cell_type": "code",
      "source": [
        "poly = PolynomialFeatures(degree=5, include_bias=False)\n",
        "\n",
        "X_train_1_ = poly.fit_transform(X_train_1)\n",
        "X_test_1_ = poly.fit_transform(X_test_1)\n",
        "\n",
        "pd.DataFrame(X_train_1_).head()"
      ],
      "metadata": {
        "colab": {
          "base_uri": "https://localhost:8080/",
          "height": 206
        },
        "id": "obk4yWXPG5F6",
        "outputId": "d3b62ba6-74d3-4526-81ea-5140db5f312c"
      },
      "execution_count": null,
      "outputs": [
        {
          "output_type": "execute_result",
          "data": {
            "text/plain": [
              "          0          1          2           3           4\n",
              "0  2.275023   5.175731  11.774910   26.788196   60.943773\n",
              "1  3.812399  14.534388  55.410888  211.248426  805.363330\n",
              "2  1.970867   3.884317   7.655473   15.087921   29.736287\n",
              "3 -0.188665   0.035595  -0.006715    0.001267   -0.000239\n",
              "4  0.656851   0.431453   0.283401    0.186152    0.122274"
            ],
            "text/html": [
              "<div>\n",
              "<style scoped>\n",
              "    .dataframe tbody tr th:only-of-type {\n",
              "        vertical-align: middle;\n",
              "    }\n",
              "\n",
              "    .dataframe tbody tr th {\n",
              "        vertical-align: top;\n",
              "    }\n",
              "\n",
              "    .dataframe thead th {\n",
              "        text-align: right;\n",
              "    }\n",
              "</style>\n",
              "<table border=\"1\" class=\"dataframe\">\n",
              "  <thead>\n",
              "    <tr style=\"text-align: right;\">\n",
              "      <th></th>\n",
              "      <th>0</th>\n",
              "      <th>1</th>\n",
              "      <th>2</th>\n",
              "      <th>3</th>\n",
              "      <th>4</th>\n",
              "    </tr>\n",
              "  </thead>\n",
              "  <tbody>\n",
              "    <tr>\n",
              "      <th>0</th>\n",
              "      <td>2.275023</td>\n",
              "      <td>5.175731</td>\n",
              "      <td>11.774910</td>\n",
              "      <td>26.788196</td>\n",
              "      <td>60.943773</td>\n",
              "    </tr>\n",
              "    <tr>\n",
              "      <th>1</th>\n",
              "      <td>3.812399</td>\n",
              "      <td>14.534388</td>\n",
              "      <td>55.410888</td>\n",
              "      <td>211.248426</td>\n",
              "      <td>805.363330</td>\n",
              "    </tr>\n",
              "    <tr>\n",
              "      <th>2</th>\n",
              "      <td>1.970867</td>\n",
              "      <td>3.884317</td>\n",
              "      <td>7.655473</td>\n",
              "      <td>15.087921</td>\n",
              "      <td>29.736287</td>\n",
              "    </tr>\n",
              "    <tr>\n",
              "      <th>3</th>\n",
              "      <td>-0.188665</td>\n",
              "      <td>0.035595</td>\n",
              "      <td>-0.006715</td>\n",
              "      <td>0.001267</td>\n",
              "      <td>-0.000239</td>\n",
              "    </tr>\n",
              "    <tr>\n",
              "      <th>4</th>\n",
              "      <td>0.656851</td>\n",
              "      <td>0.431453</td>\n",
              "      <td>0.283401</td>\n",
              "      <td>0.186152</td>\n",
              "      <td>0.122274</td>\n",
              "    </tr>\n",
              "  </tbody>\n",
              "</table>\n",
              "</div>"
            ]
          },
          "metadata": {},
          "execution_count": 425
        }
      ]
    },
    {
      "cell_type": "code",
      "source": [
        "model_r_1 = Ridge().fit(X_train_1_, y_train_1)\n",
        "\n",
        "y_pred_1 = model_r_1.predict(X_test_1_)\n",
        "\n",
        "print(f'R2 score: {r2_score(y_test_1, y_pred_1)}')\n",
        "print(f'MAE: {mean_absolute_error(y_test_1, y_pred_1)}')\n",
        "print(f'MSE: {mean_squared_error(y_test_1, y_pred_1)}')"
      ],
      "metadata": {
        "colab": {
          "base_uri": "https://localhost:8080/"
        },
        "id": "yoiYXoALt1X6",
        "outputId": "865518f9-0377-469c-9be2-800ce18e9d8b"
      },
      "execution_count": null,
      "outputs": [
        {
          "output_type": "stream",
          "name": "stdout",
          "text": [
            "R2 score: 0.9748219064003737\n",
            "MAE: 0.10999609160916135\n",
            "MSE: 0.013324545612539426\n"
          ]
        }
      ]
    },
    {
      "cell_type": "markdown",
      "source": [
        "Метрика R2 score увеличилась, значит новые фичи помогли"
      ],
      "metadata": {
        "id": "5x9tZzmIuTOD"
      }
    },
    {
      "cell_type": "code",
      "source": [
        "model_r_1 = Ridge(alpha=2).fit(X_train_1_, y_train_1)\n",
        "\n",
        "y_pred_1 = model_r_1.predict(X_test_1_)\n",
        "\n",
        "print(f'R2 score: {r2_score(y_test_1, y_pred_1)}')\n",
        "print(f'MAE: {mean_absolute_error(y_test_1, y_pred_1)}')\n",
        "print(f'MSE: {mean_squared_error(y_test_1, y_pred_1)}')"
      ],
      "metadata": {
        "colab": {
          "base_uri": "https://localhost:8080/"
        },
        "id": "vxK9EdQ3ueZ_",
        "outputId": "57537598-0a9d-4c07-95e7-483469dcd644"
      },
      "execution_count": null,
      "outputs": [
        {
          "output_type": "stream",
          "name": "stdout",
          "text": [
            "R2 score: 0.9751224330993771\n",
            "MAE: 0.11034894331731011\n",
            "MSE: 0.013165503320762625\n"
          ]
        }
      ]
    },
    {
      "cell_type": "markdown",
      "source": [
        "С новым коэффициентом снижения весов мы получили ещё большую производительность, что показывает работу с весами в действии"
      ],
      "metadata": {
        "id": "ykZmE86mI1_0"
      }
    },
    {
      "cell_type": "code",
      "source": [
        "plot_weights(model_r_1.coef_)"
      ],
      "metadata": {
        "colab": {
          "base_uri": "https://localhost:8080/",
          "height": 542
        },
        "id": "o6YAW4A4N_In",
        "outputId": "1172a492-e11f-46ec-8842-71bf061e53ec"
      },
      "execution_count": null,
      "outputs": [
        {
          "output_type": "display_data",
          "data": {
            "text/html": [
              "<html>\n",
              "<head><meta charset=\"utf-8\" /></head>\n",
              "<body>\n",
              "    <div>            <script src=\"https://cdnjs.cloudflare.com/ajax/libs/mathjax/2.7.5/MathJax.js?config=TeX-AMS-MML_SVG\"></script><script type=\"text/javascript\">if (window.MathJax && window.MathJax.Hub && window.MathJax.Hub.Config) {window.MathJax.Hub.Config({SVG: {font: \"STIX-Web\"}});}</script>                <script type=\"text/javascript\">window.PlotlyConfig = {MathJaxConfig: 'local'};</script>\n",
              "        <script src=\"https://cdn.plot.ly/plotly-2.16.1.min.js\"></script>                <div id=\"588603a7-e9f4-4701-a50f-c13d400bf7e3\" class=\"plotly-graph-div\" style=\"height:525px; width:100%;\"></div>            <script type=\"text/javascript\">                                    window.PLOTLYENV=window.PLOTLYENV || {};                                    if (document.getElementById(\"588603a7-e9f4-4701-a50f-c13d400bf7e3\")) {                    Plotly.newPlot(                        \"588603a7-e9f4-4701-a50f-c13d400bf7e3\",                        [{\"alignmentgroup\":\"True\",\"hovertemplate\":\"c=>=0<br>x=%{x}<br>y=%{y}<extra></extra>\",\"legendgroup\":\">=0\",\"marker\":{\"color\":\"blue\",\"pattern\":{\"shape\":\"\"}},\"name\":\">=0\",\"offsetgroup\":\">=0\",\"orientation\":\"v\",\"showlegend\":true,\"textposition\":\"auto\",\"x\":[\"w0\",\"w1\",\"w3\",\"w4\"],\"xaxis\":\"x\",\"y\":[0.18779769964274218,0.13298157671767138,0.0007514452556618167,1.775161737022954e-05],\"yaxis\":\"y\",\"type\":\"bar\"},{\"alignmentgroup\":\"True\",\"hovertemplate\":\"c=<0<br>x=%{x}<br>y=%{y}<extra></extra>\",\"legendgroup\":\"<0\",\"marker\":{\"color\":\"red\",\"pattern\":{\"shape\":\"\"}},\"name\":\"<0\",\"offsetgroup\":\"<0\",\"orientation\":\"v\",\"showlegend\":true,\"textposition\":\"auto\",\"x\":[\"w2\"],\"xaxis\":\"x\",\"y\":[-0.019831915641867367],\"yaxis\":\"y\",\"type\":\"bar\"}],                        {\"template\":{\"data\":{\"histogram2dcontour\":[{\"type\":\"histogram2dcontour\",\"colorbar\":{\"outlinewidth\":0,\"ticks\":\"\"},\"colorscale\":[[0.0,\"#0d0887\"],[0.1111111111111111,\"#46039f\"],[0.2222222222222222,\"#7201a8\"],[0.3333333333333333,\"#9c179e\"],[0.4444444444444444,\"#bd3786\"],[0.5555555555555556,\"#d8576b\"],[0.6666666666666666,\"#ed7953\"],[0.7777777777777778,\"#fb9f3a\"],[0.8888888888888888,\"#fdca26\"],[1.0,\"#f0f921\"]]}],\"choropleth\":[{\"type\":\"choropleth\",\"colorbar\":{\"outlinewidth\":0,\"ticks\":\"\"}}],\"histogram2d\":[{\"type\":\"histogram2d\",\"colorbar\":{\"outlinewidth\":0,\"ticks\":\"\"},\"colorscale\":[[0.0,\"#0d0887\"],[0.1111111111111111,\"#46039f\"],[0.2222222222222222,\"#7201a8\"],[0.3333333333333333,\"#9c179e\"],[0.4444444444444444,\"#bd3786\"],[0.5555555555555556,\"#d8576b\"],[0.6666666666666666,\"#ed7953\"],[0.7777777777777778,\"#fb9f3a\"],[0.8888888888888888,\"#fdca26\"],[1.0,\"#f0f921\"]]}],\"heatmap\":[{\"type\":\"heatmap\",\"colorbar\":{\"outlinewidth\":0,\"ticks\":\"\"},\"colorscale\":[[0.0,\"#0d0887\"],[0.1111111111111111,\"#46039f\"],[0.2222222222222222,\"#7201a8\"],[0.3333333333333333,\"#9c179e\"],[0.4444444444444444,\"#bd3786\"],[0.5555555555555556,\"#d8576b\"],[0.6666666666666666,\"#ed7953\"],[0.7777777777777778,\"#fb9f3a\"],[0.8888888888888888,\"#fdca26\"],[1.0,\"#f0f921\"]]}],\"heatmapgl\":[{\"type\":\"heatmapgl\",\"colorbar\":{\"outlinewidth\":0,\"ticks\":\"\"},\"colorscale\":[[0.0,\"#0d0887\"],[0.1111111111111111,\"#46039f\"],[0.2222222222222222,\"#7201a8\"],[0.3333333333333333,\"#9c179e\"],[0.4444444444444444,\"#bd3786\"],[0.5555555555555556,\"#d8576b\"],[0.6666666666666666,\"#ed7953\"],[0.7777777777777778,\"#fb9f3a\"],[0.8888888888888888,\"#fdca26\"],[1.0,\"#f0f921\"]]}],\"contourcarpet\":[{\"type\":\"contourcarpet\",\"colorbar\":{\"outlinewidth\":0,\"ticks\":\"\"}}],\"contour\":[{\"type\":\"contour\",\"colorbar\":{\"outlinewidth\":0,\"ticks\":\"\"},\"colorscale\":[[0.0,\"#0d0887\"],[0.1111111111111111,\"#46039f\"],[0.2222222222222222,\"#7201a8\"],[0.3333333333333333,\"#9c179e\"],[0.4444444444444444,\"#bd3786\"],[0.5555555555555556,\"#d8576b\"],[0.6666666666666666,\"#ed7953\"],[0.7777777777777778,\"#fb9f3a\"],[0.8888888888888888,\"#fdca26\"],[1.0,\"#f0f921\"]]}],\"surface\":[{\"type\":\"surface\",\"colorbar\":{\"outlinewidth\":0,\"ticks\":\"\"},\"colorscale\":[[0.0,\"#0d0887\"],[0.1111111111111111,\"#46039f\"],[0.2222222222222222,\"#7201a8\"],[0.3333333333333333,\"#9c179e\"],[0.4444444444444444,\"#bd3786\"],[0.5555555555555556,\"#d8576b\"],[0.6666666666666666,\"#ed7953\"],[0.7777777777777778,\"#fb9f3a\"],[0.8888888888888888,\"#fdca26\"],[1.0,\"#f0f921\"]]}],\"mesh3d\":[{\"type\":\"mesh3d\",\"colorbar\":{\"outlinewidth\":0,\"ticks\":\"\"}}],\"scatter\":[{\"fillpattern\":{\"fillmode\":\"overlay\",\"size\":10,\"solidity\":0.2},\"type\":\"scatter\"}],\"parcoords\":[{\"type\":\"parcoords\",\"line\":{\"colorbar\":{\"outlinewidth\":0,\"ticks\":\"\"}}}],\"scatterpolargl\":[{\"type\":\"scatterpolargl\",\"marker\":{\"colorbar\":{\"outlinewidth\":0,\"ticks\":\"\"}}}],\"bar\":[{\"error_x\":{\"color\":\"#2a3f5f\"},\"error_y\":{\"color\":\"#2a3f5f\"},\"marker\":{\"line\":{\"color\":\"#E5ECF6\",\"width\":0.5},\"pattern\":{\"fillmode\":\"overlay\",\"size\":10,\"solidity\":0.2}},\"type\":\"bar\"}],\"scattergeo\":[{\"type\":\"scattergeo\",\"marker\":{\"colorbar\":{\"outlinewidth\":0,\"ticks\":\"\"}}}],\"scatterpolar\":[{\"type\":\"scatterpolar\",\"marker\":{\"colorbar\":{\"outlinewidth\":0,\"ticks\":\"\"}}}],\"histogram\":[{\"marker\":{\"pattern\":{\"fillmode\":\"overlay\",\"size\":10,\"solidity\":0.2}},\"type\":\"histogram\"}],\"scattergl\":[{\"type\":\"scattergl\",\"marker\":{\"colorbar\":{\"outlinewidth\":0,\"ticks\":\"\"}}}],\"scatter3d\":[{\"type\":\"scatter3d\",\"line\":{\"colorbar\":{\"outlinewidth\":0,\"ticks\":\"\"}},\"marker\":{\"colorbar\":{\"outlinewidth\":0,\"ticks\":\"\"}}}],\"scattermapbox\":[{\"type\":\"scattermapbox\",\"marker\":{\"colorbar\":{\"outlinewidth\":0,\"ticks\":\"\"}}}],\"scatterternary\":[{\"type\":\"scatterternary\",\"marker\":{\"colorbar\":{\"outlinewidth\":0,\"ticks\":\"\"}}}],\"scattercarpet\":[{\"type\":\"scattercarpet\",\"marker\":{\"colorbar\":{\"outlinewidth\":0,\"ticks\":\"\"}}}],\"carpet\":[{\"aaxis\":{\"endlinecolor\":\"#2a3f5f\",\"gridcolor\":\"white\",\"linecolor\":\"white\",\"minorgridcolor\":\"white\",\"startlinecolor\":\"#2a3f5f\"},\"baxis\":{\"endlinecolor\":\"#2a3f5f\",\"gridcolor\":\"white\",\"linecolor\":\"white\",\"minorgridcolor\":\"white\",\"startlinecolor\":\"#2a3f5f\"},\"type\":\"carpet\"}],\"table\":[{\"cells\":{\"fill\":{\"color\":\"#EBF0F8\"},\"line\":{\"color\":\"white\"}},\"header\":{\"fill\":{\"color\":\"#C8D4E3\"},\"line\":{\"color\":\"white\"}},\"type\":\"table\"}],\"barpolar\":[{\"marker\":{\"line\":{\"color\":\"#E5ECF6\",\"width\":0.5},\"pattern\":{\"fillmode\":\"overlay\",\"size\":10,\"solidity\":0.2}},\"type\":\"barpolar\"}],\"pie\":[{\"automargin\":true,\"type\":\"pie\"}]},\"layout\":{\"autotypenumbers\":\"strict\",\"colorway\":[\"#636efa\",\"#EF553B\",\"#00cc96\",\"#ab63fa\",\"#FFA15A\",\"#19d3f3\",\"#FF6692\",\"#B6E880\",\"#FF97FF\",\"#FECB52\"],\"font\":{\"color\":\"#2a3f5f\"},\"hovermode\":\"closest\",\"hoverlabel\":{\"align\":\"left\"},\"paper_bgcolor\":\"white\",\"plot_bgcolor\":\"#E5ECF6\",\"polar\":{\"bgcolor\":\"#E5ECF6\",\"angularaxis\":{\"gridcolor\":\"white\",\"linecolor\":\"white\",\"ticks\":\"\"},\"radialaxis\":{\"gridcolor\":\"white\",\"linecolor\":\"white\",\"ticks\":\"\"}},\"ternary\":{\"bgcolor\":\"#E5ECF6\",\"aaxis\":{\"gridcolor\":\"white\",\"linecolor\":\"white\",\"ticks\":\"\"},\"baxis\":{\"gridcolor\":\"white\",\"linecolor\":\"white\",\"ticks\":\"\"},\"caxis\":{\"gridcolor\":\"white\",\"linecolor\":\"white\",\"ticks\":\"\"}},\"coloraxis\":{\"colorbar\":{\"outlinewidth\":0,\"ticks\":\"\"}},\"colorscale\":{\"sequential\":[[0.0,\"#0d0887\"],[0.1111111111111111,\"#46039f\"],[0.2222222222222222,\"#7201a8\"],[0.3333333333333333,\"#9c179e\"],[0.4444444444444444,\"#bd3786\"],[0.5555555555555556,\"#d8576b\"],[0.6666666666666666,\"#ed7953\"],[0.7777777777777778,\"#fb9f3a\"],[0.8888888888888888,\"#fdca26\"],[1.0,\"#f0f921\"]],\"sequentialminus\":[[0.0,\"#0d0887\"],[0.1111111111111111,\"#46039f\"],[0.2222222222222222,\"#7201a8\"],[0.3333333333333333,\"#9c179e\"],[0.4444444444444444,\"#bd3786\"],[0.5555555555555556,\"#d8576b\"],[0.6666666666666666,\"#ed7953\"],[0.7777777777777778,\"#fb9f3a\"],[0.8888888888888888,\"#fdca26\"],[1.0,\"#f0f921\"]],\"diverging\":[[0,\"#8e0152\"],[0.1,\"#c51b7d\"],[0.2,\"#de77ae\"],[0.3,\"#f1b6da\"],[0.4,\"#fde0ef\"],[0.5,\"#f7f7f7\"],[0.6,\"#e6f5d0\"],[0.7,\"#b8e186\"],[0.8,\"#7fbc41\"],[0.9,\"#4d9221\"],[1,\"#276419\"]]},\"xaxis\":{\"gridcolor\":\"white\",\"linecolor\":\"white\",\"ticks\":\"\",\"title\":{\"standoff\":15},\"zerolinecolor\":\"white\",\"automargin\":true,\"zerolinewidth\":2},\"yaxis\":{\"gridcolor\":\"white\",\"linecolor\":\"white\",\"ticks\":\"\",\"title\":{\"standoff\":15},\"zerolinecolor\":\"white\",\"automargin\":true,\"zerolinewidth\":2},\"scene\":{\"xaxis\":{\"backgroundcolor\":\"#E5ECF6\",\"gridcolor\":\"white\",\"linecolor\":\"white\",\"showbackground\":true,\"ticks\":\"\",\"zerolinecolor\":\"white\",\"gridwidth\":2},\"yaxis\":{\"backgroundcolor\":\"#E5ECF6\",\"gridcolor\":\"white\",\"linecolor\":\"white\",\"showbackground\":true,\"ticks\":\"\",\"zerolinecolor\":\"white\",\"gridwidth\":2},\"zaxis\":{\"backgroundcolor\":\"#E5ECF6\",\"gridcolor\":\"white\",\"linecolor\":\"white\",\"showbackground\":true,\"ticks\":\"\",\"zerolinecolor\":\"white\",\"gridwidth\":2}},\"shapedefaults\":{\"line\":{\"color\":\"#2a3f5f\"}},\"annotationdefaults\":{\"arrowcolor\":\"#2a3f5f\",\"arrowhead\":0,\"arrowwidth\":1},\"geo\":{\"bgcolor\":\"white\",\"landcolor\":\"#E5ECF6\",\"subunitcolor\":\"white\",\"showland\":true,\"showlakes\":true,\"lakecolor\":\"white\"},\"title\":{\"x\":0.05},\"mapbox\":{\"style\":\"light\"}}},\"xaxis\":{\"anchor\":\"y\",\"domain\":[0.0,1.0],\"title\":{\"text\":\"x\"},\"categoryorder\":\"array\",\"categoryarray\":[\"w0\",\"w1\",\"w2\",\"w3\",\"w4\"]},\"yaxis\":{\"anchor\":\"x\",\"domain\":[0.0,1.0],\"title\":{\"text\":\"y\"}},\"legend\":{\"title\":{\"text\":\"c\"},\"tracegroupgap\":0},\"margin\":{\"t\":60},\"barmode\":\"relative\"},                        {\"responsive\": true}                    ).then(function(){\n",
              "                            \n",
              "var gd = document.getElementById('588603a7-e9f4-4701-a50f-c13d400bf7e3');\n",
              "var x = new MutationObserver(function (mutations, observer) {{\n",
              "        var display = window.getComputedStyle(gd).display;\n",
              "        if (!display || display === 'none') {{\n",
              "            console.log([gd, 'removed!']);\n",
              "            Plotly.purge(gd);\n",
              "            observer.disconnect();\n",
              "        }}\n",
              "}});\n",
              "\n",
              "// Listen for the removal of the full notebook cells\n",
              "var notebookContainer = gd.closest('#notebook-container');\n",
              "if (notebookContainer) {{\n",
              "    x.observe(notebookContainer, {childList: true});\n",
              "}}\n",
              "\n",
              "// Listen for the clearing of the current output cell\n",
              "var outputEl = gd.closest('.output');\n",
              "if (outputEl) {{\n",
              "    x.observe(outputEl, {childList: true});\n",
              "}}\n",
              "\n",
              "                        })                };                            </script>        </div>\n",
              "</body>\n",
              "</html>"
            ]
          },
          "metadata": {}
        }
      ]
    },
    {
      "cell_type": "markdown",
      "source": [
        "Если поиграться с параметром, так называемого, сужения, то можно увидеть, что веса стремятся к 0, но не достигают его"
      ],
      "metadata": {
        "id": "7diwKdZ_P0sX"
      }
    },
    {
      "cell_type": "markdown",
      "source": [
        "### Lasso регуляризация"
      ],
      "metadata": {
        "id": "AfO6zgcpPuc-"
      }
    },
    {
      "cell_type": "code",
      "source": [
        "model_l_1 = Lasso(tol=0.015).fit(X_train_1_, y_train_1)\n",
        "\n",
        "y_pred_l_1 = model_l_1.predict(X_test_1_)\n",
        "\n",
        "print(f'R2 score: {r2_score(y_test_1, y_pred_l_1)}')\n",
        "print(f'MAE: {mean_absolute_error(y_test_1, y_pred_l_1)}')\n",
        "print(f'MSE: {mean_squared_error(y_test_1, y_pred_l_1)}')"
      ],
      "metadata": {
        "colab": {
          "base_uri": "https://localhost:8080/"
        },
        "id": "30lylIJtOfzx",
        "outputId": "41306f87-1226-4863-d015-cf962dde9c54"
      },
      "execution_count": null,
      "outputs": [
        {
          "output_type": "stream",
          "name": "stdout",
          "text": [
            "R2 score: 0.8825365749486707\n",
            "MAE: 0.22505338308804612\n",
            "MSE: 0.06216303703489199\n"
          ]
        }
      ]
    },
    {
      "cell_type": "markdown",
      "source": [
        "Пришлось задать допустимое отклонение для оптимизации побольше, так как модель просто не достигала такого маленького, как дефолтное: 0.0001"
      ],
      "metadata": {
        "id": "3HtKRnToRG62"
      }
    },
    {
      "cell_type": "code",
      "source": [
        "model_l_1 = Lasso(alpha=0.03, tol=0.015).fit(X_train_1_, y_train_1)\n",
        "\n",
        "y_pred_1 = model_l_1.predict(X_test_1_)\n",
        "\n",
        "print(f'R2 score: {r2_score(y_test_1, y_pred_1)}')\n",
        "print(f'MAE: {mean_absolute_error(y_test_1, y_pred_1)}')\n",
        "print(f'MSE: {mean_squared_error(y_test_1, y_pred_1)}')"
      ],
      "metadata": {
        "colab": {
          "base_uri": "https://localhost:8080/"
        },
        "id": "51DkfXJ_RGU5",
        "outputId": "bf70afe3-ff50-42b4-f4c2-a9258d421562"
      },
      "execution_count": null,
      "outputs": [
        {
          "output_type": "stream",
          "name": "stdout",
          "text": [
            "R2 score: 0.9707146995443922\n",
            "MAE: 0.12019617077835372\n",
            "MSE: 0.015498128170572065\n"
          ]
        }
      ]
    },
    {
      "cell_type": "code",
      "source": [
        "plot_weights(model_l_1.coef_)"
      ],
      "metadata": {
        "colab": {
          "base_uri": "https://localhost:8080/",
          "height": 542
        },
        "id": "gy5ZsrgkSK8L",
        "outputId": "440b10c8-24fc-4fb4-e2d0-79cfbd06fd75"
      },
      "execution_count": null,
      "outputs": [
        {
          "output_type": "display_data",
          "data": {
            "text/html": [
              "<html>\n",
              "<head><meta charset=\"utf-8\" /></head>\n",
              "<body>\n",
              "    <div>            <script src=\"https://cdnjs.cloudflare.com/ajax/libs/mathjax/2.7.5/MathJax.js?config=TeX-AMS-MML_SVG\"></script><script type=\"text/javascript\">if (window.MathJax && window.MathJax.Hub && window.MathJax.Hub.Config) {window.MathJax.Hub.Config({SVG: {font: \"STIX-Web\"}});}</script>                <script type=\"text/javascript\">window.PlotlyConfig = {MathJaxConfig: 'local'};</script>\n",
              "        <script src=\"https://cdn.plot.ly/plotly-2.16.1.min.js\"></script>                <div id=\"9d4255fa-35b5-46a9-902d-d3fe72c95b22\" class=\"plotly-graph-div\" style=\"height:525px; width:100%;\"></div>            <script type=\"text/javascript\">                                    window.PLOTLYENV=window.PLOTLYENV || {};                                    if (document.getElementById(\"9d4255fa-35b5-46a9-902d-d3fe72c95b22\")) {                    Plotly.newPlot(                        \"9d4255fa-35b5-46a9-902d-d3fe72c95b22\",                        [{\"alignmentgroup\":\"True\",\"hovertemplate\":\"c=>=0<br>x=%{x}<br>y=%{y}<extra></extra>\",\"legendgroup\":\">=0\",\"marker\":{\"color\":\"blue\",\"pattern\":{\"shape\":\"\"}},\"name\":\">=0\",\"offsetgroup\":\">=0\",\"orientation\":\"v\",\"showlegend\":true,\"textposition\":\"auto\",\"x\":[\"w0\",\"w1\"],\"xaxis\":\"x\",\"y\":[0.2525841681908711,0.05735849706566367],\"yaxis\":\"y\",\"type\":\"bar\"},{\"alignmentgroup\":\"True\",\"hovertemplate\":\"c=<0<br>x=%{x}<br>y=%{y}<extra></extra>\",\"legendgroup\":\"<0\",\"marker\":{\"color\":\"red\",\"pattern\":{\"shape\":\"\"}},\"name\":\"<0\",\"offsetgroup\":\"<0\",\"orientation\":\"v\",\"showlegend\":true,\"textposition\":\"auto\",\"x\":[\"w2\",\"w3\",\"w4\"],\"xaxis\":\"x\",\"y\":[-2.0883377407014182e-05,-0.0003944541759612097,-4.600720645078358e-05],\"yaxis\":\"y\",\"type\":\"bar\"}],                        {\"template\":{\"data\":{\"histogram2dcontour\":[{\"type\":\"histogram2dcontour\",\"colorbar\":{\"outlinewidth\":0,\"ticks\":\"\"},\"colorscale\":[[0.0,\"#0d0887\"],[0.1111111111111111,\"#46039f\"],[0.2222222222222222,\"#7201a8\"],[0.3333333333333333,\"#9c179e\"],[0.4444444444444444,\"#bd3786\"],[0.5555555555555556,\"#d8576b\"],[0.6666666666666666,\"#ed7953\"],[0.7777777777777778,\"#fb9f3a\"],[0.8888888888888888,\"#fdca26\"],[1.0,\"#f0f921\"]]}],\"choropleth\":[{\"type\":\"choropleth\",\"colorbar\":{\"outlinewidth\":0,\"ticks\":\"\"}}],\"histogram2d\":[{\"type\":\"histogram2d\",\"colorbar\":{\"outlinewidth\":0,\"ticks\":\"\"},\"colorscale\":[[0.0,\"#0d0887\"],[0.1111111111111111,\"#46039f\"],[0.2222222222222222,\"#7201a8\"],[0.3333333333333333,\"#9c179e\"],[0.4444444444444444,\"#bd3786\"],[0.5555555555555556,\"#d8576b\"],[0.6666666666666666,\"#ed7953\"],[0.7777777777777778,\"#fb9f3a\"],[0.8888888888888888,\"#fdca26\"],[1.0,\"#f0f921\"]]}],\"heatmap\":[{\"type\":\"heatmap\",\"colorbar\":{\"outlinewidth\":0,\"ticks\":\"\"},\"colorscale\":[[0.0,\"#0d0887\"],[0.1111111111111111,\"#46039f\"],[0.2222222222222222,\"#7201a8\"],[0.3333333333333333,\"#9c179e\"],[0.4444444444444444,\"#bd3786\"],[0.5555555555555556,\"#d8576b\"],[0.6666666666666666,\"#ed7953\"],[0.7777777777777778,\"#fb9f3a\"],[0.8888888888888888,\"#fdca26\"],[1.0,\"#f0f921\"]]}],\"heatmapgl\":[{\"type\":\"heatmapgl\",\"colorbar\":{\"outlinewidth\":0,\"ticks\":\"\"},\"colorscale\":[[0.0,\"#0d0887\"],[0.1111111111111111,\"#46039f\"],[0.2222222222222222,\"#7201a8\"],[0.3333333333333333,\"#9c179e\"],[0.4444444444444444,\"#bd3786\"],[0.5555555555555556,\"#d8576b\"],[0.6666666666666666,\"#ed7953\"],[0.7777777777777778,\"#fb9f3a\"],[0.8888888888888888,\"#fdca26\"],[1.0,\"#f0f921\"]]}],\"contourcarpet\":[{\"type\":\"contourcarpet\",\"colorbar\":{\"outlinewidth\":0,\"ticks\":\"\"}}],\"contour\":[{\"type\":\"contour\",\"colorbar\":{\"outlinewidth\":0,\"ticks\":\"\"},\"colorscale\":[[0.0,\"#0d0887\"],[0.1111111111111111,\"#46039f\"],[0.2222222222222222,\"#7201a8\"],[0.3333333333333333,\"#9c179e\"],[0.4444444444444444,\"#bd3786\"],[0.5555555555555556,\"#d8576b\"],[0.6666666666666666,\"#ed7953\"],[0.7777777777777778,\"#fb9f3a\"],[0.8888888888888888,\"#fdca26\"],[1.0,\"#f0f921\"]]}],\"surface\":[{\"type\":\"surface\",\"colorbar\":{\"outlinewidth\":0,\"ticks\":\"\"},\"colorscale\":[[0.0,\"#0d0887\"],[0.1111111111111111,\"#46039f\"],[0.2222222222222222,\"#7201a8\"],[0.3333333333333333,\"#9c179e\"],[0.4444444444444444,\"#bd3786\"],[0.5555555555555556,\"#d8576b\"],[0.6666666666666666,\"#ed7953\"],[0.7777777777777778,\"#fb9f3a\"],[0.8888888888888888,\"#fdca26\"],[1.0,\"#f0f921\"]]}],\"mesh3d\":[{\"type\":\"mesh3d\",\"colorbar\":{\"outlinewidth\":0,\"ticks\":\"\"}}],\"scatter\":[{\"fillpattern\":{\"fillmode\":\"overlay\",\"size\":10,\"solidity\":0.2},\"type\":\"scatter\"}],\"parcoords\":[{\"type\":\"parcoords\",\"line\":{\"colorbar\":{\"outlinewidth\":0,\"ticks\":\"\"}}}],\"scatterpolargl\":[{\"type\":\"scatterpolargl\",\"marker\":{\"colorbar\":{\"outlinewidth\":0,\"ticks\":\"\"}}}],\"bar\":[{\"error_x\":{\"color\":\"#2a3f5f\"},\"error_y\":{\"color\":\"#2a3f5f\"},\"marker\":{\"line\":{\"color\":\"#E5ECF6\",\"width\":0.5},\"pattern\":{\"fillmode\":\"overlay\",\"size\":10,\"solidity\":0.2}},\"type\":\"bar\"}],\"scattergeo\":[{\"type\":\"scattergeo\",\"marker\":{\"colorbar\":{\"outlinewidth\":0,\"ticks\":\"\"}}}],\"scatterpolar\":[{\"type\":\"scatterpolar\",\"marker\":{\"colorbar\":{\"outlinewidth\":0,\"ticks\":\"\"}}}],\"histogram\":[{\"marker\":{\"pattern\":{\"fillmode\":\"overlay\",\"size\":10,\"solidity\":0.2}},\"type\":\"histogram\"}],\"scattergl\":[{\"type\":\"scattergl\",\"marker\":{\"colorbar\":{\"outlinewidth\":0,\"ticks\":\"\"}}}],\"scatter3d\":[{\"type\":\"scatter3d\",\"line\":{\"colorbar\":{\"outlinewidth\":0,\"ticks\":\"\"}},\"marker\":{\"colorbar\":{\"outlinewidth\":0,\"ticks\":\"\"}}}],\"scattermapbox\":[{\"type\":\"scattermapbox\",\"marker\":{\"colorbar\":{\"outlinewidth\":0,\"ticks\":\"\"}}}],\"scatterternary\":[{\"type\":\"scatterternary\",\"marker\":{\"colorbar\":{\"outlinewidth\":0,\"ticks\":\"\"}}}],\"scattercarpet\":[{\"type\":\"scattercarpet\",\"marker\":{\"colorbar\":{\"outlinewidth\":0,\"ticks\":\"\"}}}],\"carpet\":[{\"aaxis\":{\"endlinecolor\":\"#2a3f5f\",\"gridcolor\":\"white\",\"linecolor\":\"white\",\"minorgridcolor\":\"white\",\"startlinecolor\":\"#2a3f5f\"},\"baxis\":{\"endlinecolor\":\"#2a3f5f\",\"gridcolor\":\"white\",\"linecolor\":\"white\",\"minorgridcolor\":\"white\",\"startlinecolor\":\"#2a3f5f\"},\"type\":\"carpet\"}],\"table\":[{\"cells\":{\"fill\":{\"color\":\"#EBF0F8\"},\"line\":{\"color\":\"white\"}},\"header\":{\"fill\":{\"color\":\"#C8D4E3\"},\"line\":{\"color\":\"white\"}},\"type\":\"table\"}],\"barpolar\":[{\"marker\":{\"line\":{\"color\":\"#E5ECF6\",\"width\":0.5},\"pattern\":{\"fillmode\":\"overlay\",\"size\":10,\"solidity\":0.2}},\"type\":\"barpolar\"}],\"pie\":[{\"automargin\":true,\"type\":\"pie\"}]},\"layout\":{\"autotypenumbers\":\"strict\",\"colorway\":[\"#636efa\",\"#EF553B\",\"#00cc96\",\"#ab63fa\",\"#FFA15A\",\"#19d3f3\",\"#FF6692\",\"#B6E880\",\"#FF97FF\",\"#FECB52\"],\"font\":{\"color\":\"#2a3f5f\"},\"hovermode\":\"closest\",\"hoverlabel\":{\"align\":\"left\"},\"paper_bgcolor\":\"white\",\"plot_bgcolor\":\"#E5ECF6\",\"polar\":{\"bgcolor\":\"#E5ECF6\",\"angularaxis\":{\"gridcolor\":\"white\",\"linecolor\":\"white\",\"ticks\":\"\"},\"radialaxis\":{\"gridcolor\":\"white\",\"linecolor\":\"white\",\"ticks\":\"\"}},\"ternary\":{\"bgcolor\":\"#E5ECF6\",\"aaxis\":{\"gridcolor\":\"white\",\"linecolor\":\"white\",\"ticks\":\"\"},\"baxis\":{\"gridcolor\":\"white\",\"linecolor\":\"white\",\"ticks\":\"\"},\"caxis\":{\"gridcolor\":\"white\",\"linecolor\":\"white\",\"ticks\":\"\"}},\"coloraxis\":{\"colorbar\":{\"outlinewidth\":0,\"ticks\":\"\"}},\"colorscale\":{\"sequential\":[[0.0,\"#0d0887\"],[0.1111111111111111,\"#46039f\"],[0.2222222222222222,\"#7201a8\"],[0.3333333333333333,\"#9c179e\"],[0.4444444444444444,\"#bd3786\"],[0.5555555555555556,\"#d8576b\"],[0.6666666666666666,\"#ed7953\"],[0.7777777777777778,\"#fb9f3a\"],[0.8888888888888888,\"#fdca26\"],[1.0,\"#f0f921\"]],\"sequentialminus\":[[0.0,\"#0d0887\"],[0.1111111111111111,\"#46039f\"],[0.2222222222222222,\"#7201a8\"],[0.3333333333333333,\"#9c179e\"],[0.4444444444444444,\"#bd3786\"],[0.5555555555555556,\"#d8576b\"],[0.6666666666666666,\"#ed7953\"],[0.7777777777777778,\"#fb9f3a\"],[0.8888888888888888,\"#fdca26\"],[1.0,\"#f0f921\"]],\"diverging\":[[0,\"#8e0152\"],[0.1,\"#c51b7d\"],[0.2,\"#de77ae\"],[0.3,\"#f1b6da\"],[0.4,\"#fde0ef\"],[0.5,\"#f7f7f7\"],[0.6,\"#e6f5d0\"],[0.7,\"#b8e186\"],[0.8,\"#7fbc41\"],[0.9,\"#4d9221\"],[1,\"#276419\"]]},\"xaxis\":{\"gridcolor\":\"white\",\"linecolor\":\"white\",\"ticks\":\"\",\"title\":{\"standoff\":15},\"zerolinecolor\":\"white\",\"automargin\":true,\"zerolinewidth\":2},\"yaxis\":{\"gridcolor\":\"white\",\"linecolor\":\"white\",\"ticks\":\"\",\"title\":{\"standoff\":15},\"zerolinecolor\":\"white\",\"automargin\":true,\"zerolinewidth\":2},\"scene\":{\"xaxis\":{\"backgroundcolor\":\"#E5ECF6\",\"gridcolor\":\"white\",\"linecolor\":\"white\",\"showbackground\":true,\"ticks\":\"\",\"zerolinecolor\":\"white\",\"gridwidth\":2},\"yaxis\":{\"backgroundcolor\":\"#E5ECF6\",\"gridcolor\":\"white\",\"linecolor\":\"white\",\"showbackground\":true,\"ticks\":\"\",\"zerolinecolor\":\"white\",\"gridwidth\":2},\"zaxis\":{\"backgroundcolor\":\"#E5ECF6\",\"gridcolor\":\"white\",\"linecolor\":\"white\",\"showbackground\":true,\"ticks\":\"\",\"zerolinecolor\":\"white\",\"gridwidth\":2}},\"shapedefaults\":{\"line\":{\"color\":\"#2a3f5f\"}},\"annotationdefaults\":{\"arrowcolor\":\"#2a3f5f\",\"arrowhead\":0,\"arrowwidth\":1},\"geo\":{\"bgcolor\":\"white\",\"landcolor\":\"#E5ECF6\",\"subunitcolor\":\"white\",\"showland\":true,\"showlakes\":true,\"lakecolor\":\"white\"},\"title\":{\"x\":0.05},\"mapbox\":{\"style\":\"light\"}}},\"xaxis\":{\"anchor\":\"y\",\"domain\":[0.0,1.0],\"title\":{\"text\":\"x\"},\"categoryorder\":\"array\",\"categoryarray\":[\"w0\",\"w1\",\"w2\",\"w3\",\"w4\"]},\"yaxis\":{\"anchor\":\"x\",\"domain\":[0.0,1.0],\"title\":{\"text\":\"y\"}},\"legend\":{\"title\":{\"text\":\"c\"},\"tracegroupgap\":0},\"margin\":{\"t\":60},\"barmode\":\"relative\"},                        {\"responsive\": true}                    ).then(function(){\n",
              "                            \n",
              "var gd = document.getElementById('9d4255fa-35b5-46a9-902d-d3fe72c95b22');\n",
              "var x = new MutationObserver(function (mutations, observer) {{\n",
              "        var display = window.getComputedStyle(gd).display;\n",
              "        if (!display || display === 'none') {{\n",
              "            console.log([gd, 'removed!']);\n",
              "            Plotly.purge(gd);\n",
              "            observer.disconnect();\n",
              "        }}\n",
              "}});\n",
              "\n",
              "// Listen for the removal of the full notebook cells\n",
              "var notebookContainer = gd.closest('#notebook-container');\n",
              "if (notebookContainer) {{\n",
              "    x.observe(notebookContainer, {childList: true});\n",
              "}}\n",
              "\n",
              "// Listen for the clearing of the current output cell\n",
              "var outputEl = gd.closest('.output');\n",
              "if (outputEl) {{\n",
              "    x.observe(outputEl, {childList: true});\n",
              "}}\n",
              "\n",
              "                        })                };                            </script>        </div>\n",
              "</body>\n",
              "</html>"
            ]
          },
          "metadata": {}
        }
      ]
    },
    {
      "cell_type": "markdown",
      "source": [
        "Здесь же видим другую ситуацию, веса легко становятся незначимыми, поэтому Lasso можно использовать и как feature selection"
      ],
      "metadata": {
        "id": "rLPx6wZ4VdRC"
      }
    },
    {
      "cell_type": "markdown",
      "source": [
        "## 2 датасет"
      ],
      "metadata": {
        "id": "jK7i5JuBVqvD"
      }
    },
    {
      "cell_type": "markdown",
      "source": [
        "### Линейная регрессия"
      ],
      "metadata": {
        "id": "42wU3GIhVuE4"
      }
    },
    {
      "cell_type": "code",
      "source": [
        "model_lr_2 = LinearRegression().fit(X_train_2, y_train_2)\n",
        "\n",
        "y_pred_lr_2 = model_lr_2.predict(X_test_2)\n",
        "\n",
        "print(f'R2 score: {r2_score(y_test_2, y_pred_lr_2)}')\n",
        "print(f'MAE: {mean_absolute_error(y_test_2, y_pred_lr_2)}')\n",
        "print(f'MSE: {mean_squared_error(y_test_2, y_pred_lr_2)}')"
      ],
      "metadata": {
        "colab": {
          "base_uri": "https://localhost:8080/"
        },
        "id": "7RC00XksVsnd",
        "outputId": "949e3aa2-0d67-409f-93f4-d3621bd16597"
      },
      "execution_count": null,
      "outputs": [
        {
          "output_type": "stream",
          "name": "stdout",
          "text": [
            "R2 score: 0.4996928835134836\n",
            "MAE: 18.471891475129304\n",
            "MSE: 561.6546801154793\n"
          ]
        }
      ]
    },
    {
      "cell_type": "markdown",
      "source": [
        "Видим очень плохие результаты, оно и понятно, сейчас посмотрим на графике"
      ],
      "metadata": {
        "id": "dsSVncsGWNTj"
      }
    },
    {
      "cell_type": "code",
      "source": [
        "plot_test(X_train_2, X_test_2, y_train_2, y_test_2, y_pred_lr_2)"
      ],
      "metadata": {
        "colab": {
          "base_uri": "https://localhost:8080/",
          "height": 542
        },
        "id": "_5h1VcckWMxq",
        "outputId": "8102d1ae-1921-4ee7-86cd-a1e4017339ea"
      },
      "execution_count": null,
      "outputs": [
        {
          "output_type": "display_data",
          "data": {
            "text/html": [
              "<html>\n",
              "<head><meta charset=\"utf-8\" /></head>\n",
              "<body>\n",
              "    <div>            <script src=\"https://cdnjs.cloudflare.com/ajax/libs/mathjax/2.7.5/MathJax.js?config=TeX-AMS-MML_SVG\"></script><script type=\"text/javascript\">if (window.MathJax && window.MathJax.Hub && window.MathJax.Hub.Config) {window.MathJax.Hub.Config({SVG: {font: \"STIX-Web\"}});}</script>                <script type=\"text/javascript\">window.PlotlyConfig = {MathJaxConfig: 'local'};</script>\n",
              "        <script src=\"https://cdn.plot.ly/plotly-2.16.1.min.js\"></script>                <div id=\"734fd43d-46b1-4ff5-85ca-25ff0129a10b\" class=\"plotly-graph-div\" style=\"height:525px; width:100%;\"></div>            <script type=\"text/javascript\">                                    window.PLOTLYENV=window.PLOTLYENV || {};                                    if (document.getElementById(\"734fd43d-46b1-4ff5-85ca-25ff0129a10b\")) {                    Plotly.newPlot(                        \"734fd43d-46b1-4ff5-85ca-25ff0129a10b\",                        [{\"hovertemplate\":\"train=%{x}<br>y_train=%{y}<extra></extra>\",\"legendgroup\":\"\",\"marker\":{\"color\":\"#636efa\",\"symbol\":\"circle\"},\"mode\":\"markers\",\"name\":\"train\",\"orientation\":\"v\",\"showlegend\":true,\"x\":[3.176902194291168,3.696999168296754,2.4657805107115838,2.405396760293406,2.043798769916191,10.08261372889434,2.098168543679833,2.4215770515415986,-1.6935872213217,2.439844964779351,2.2045939421639176,1.627779962544499,1.6032224586068757,-4.192490363892475,5.705330609390097,-1.5519554822034807,1.3557946696333856,-3.3399333238780935,3.6390177434226416,6.254580884095879,-0.8731328317032157,2.300279326326681,1.4564136835180541,3.191587052572899,-1.7269625837079667,6.582294522793645,1.0473699426373548,4.586669858631753,5.396333279461205,0.6508856085265537,2.3457082676347007,-0.5719032489207669,2.785847481712171,1.845456266006568,3.4073602271269676,2.3737942081496057,5.854659052262405,2.5485730947859206,-3.5098027963531493,0.7638403088927994,3.003771029858586,1.9505567013782157,3.0264613297458056,-1.1350347136496728,0.4967343921726102,6.784925083016726,3.435022035974786,-0.9860536202808836,4.577073308832608,4.9247398800035835,0.24537248038844695,2.451275419453287,3.077058943030492,2.9159461648661,4.866829165148277,3.854947069499043,6.2995423098763315,-0.13382476529360687,-4.4835262185299545,7.26819869958372,4.074331858780185,1.5563224118120407,-2.8712713575816498,-2.089752525436234,0.6371114398637314,1.770874123392306,1.0195131542562592,3.528779378974056,4.606877957073752,0.15282714052297997,3.4378903087514567,3.71276093889743,7.766441352588822,4.215061921392927,3.263067574782874,-0.18576300077130137,4.416493988083415,-0.4657007920035605,3.9663531633273883,-2.2218030041800736],\"xaxis\":\"x\",\"y\":[-3.12840630937368,-2.7143838423331053,-2.905100888155544,-2.71605114764343,-0.4203221683256597,318.61352249784187,-3.872986419564399,-0.6300299469948989,-14.5170792986966,-8.363448769078229,-2.9067646835628,-2.5010472316419774,-4.381400812961458,-74.64153070380203,32.35617449247697,-11.860321155976742,3.392550470908339,-50.25075284486093,-1.894945082861493,49.12753424205575,-0.6403033064587644,-7.68213928386344,-1.2349585732940214,-5.405826265134439,-13.760770413691802,60.86859770037245,-3.385893617203489,8.261420731747776,28.264500185170533,-8.901051717236177,-7.5002844069565935,-5.534563765305547,-6.270251931772094,-4.538990663507821,-3.721030894301881,-1.8905393451987353,34.98243122901118,0.2622176215000618,-50.231506933509095,0.0506486577544385,-1.2614352753765434,-6.018057450737759,-5.119623172876805,-9.080410573666997,1.3486562755294131,73.9990838770385,0.9516768401198958,-7.443601729045207,8.808331551993746,11.958297927341052,-3.490797652873502,-6.3134344096330794,-2.579053666078833,-4.782290947322596,6.792441620148917,0.6622355772246156,52.89629672391331,-6.942996510974818,-88.54832322873219,93.74023460674655,5.263441375761163,-2.95242070328683,-28.259878451412458,-17.952650504158978,-4.549553889633739,-4.875095359752697,-9.783168421678603,2.51335844886337,2.1849856851012603,-3.4972131943548157,-4.387951145695952,-4.342454372215538,113.56871220327166,3.713315498723118,-0.6392014049729706,0.8719703775393883,4.199858787370284,-3.068184191385531,-0.4436308837247491,-24.21150027403096],\"yaxis\":\"y\",\"type\":\"scatter\"},{\"hovertemplate\":\"X_test=%{x}<br>y_test=%{y}<extra></extra>\",\"legendgroup\":\"\",\"marker\":{\"color\":\"red\",\"symbol\":\"circle\"},\"mode\":\"markers\",\"name\":\"test\",\"orientation\":\"v\",\"showlegend\":true,\"x\":[1.2288303781808187,2.114781332367747,8.021140966875933,-0.45000099744957645,-2.695333267980776,2.2803957283700136,2.2666493812306583,3.1788153207806396,-1.5627805979637994,3.3268275046034743,2.013904876284309,-1.235739763479967,4.397685071589356,2.219515908909048,2.528469842644874,1.1901385955768196,5.106964466154951,1.1826083596187353,6.009624944474169,3.2829619508365537],\"xaxis\":\"x\",\"y\":[-4.646220936856789,-3.088971906492717,139.99696407131003,-9.82319139399156,-23.80642833904672,-5.8095968165211,-3.2518758068302223,-6.530654614205941,-13.657363184526751,-8.875133886399416,-4.879805129070302,-4.60868016125651,-0.6737243740818748,-6.968479040135748,-8.229081071132608,-5.961577445235417,15.659340214749795,-4.3841078711537325,39.86646487950849,-5.778696146352386],\"yaxis\":\"y\",\"type\":\"scatter\"},{\"hovertemplate\":\"X_test=%{x}<br>y_pred=%{y}<extra></extra>\",\"legendgroup\":\"\",\"marker\":{\"color\":\"lime\",\"symbol\":\"circle\"},\"mode\":\"markers\",\"name\":\"predictions\",\"orientation\":\"v\",\"showlegend\":true,\"x\":[1.2288303781808187,2.114781332367747,8.021140966875933,-0.45000099744957645,-2.695333267980776,2.2803957283700136,2.2666493812306583,3.1788153207806396,-1.5627805979637994,3.3268275046034743,2.013904876284309,-1.235739763479967,4.397685071589356,2.219515908909048,2.528469842644874,1.1901385955768196,5.106964466154951,1.1826083596187353,6.009624944474169,3.2829619508365537],\"xaxis\":\"x\",\"y\":[-6.633017435567696,3.5799056812356547,71.6662896535651,-25.985980129903055,-51.86936085458176,5.489048716088238,5.330585783340492,15.845705798014666,-38.81370208481507,17.551936878402255,2.417038272597626,-35.043693279187806,29.89639674831778,4.787248111233847,8.348757647361289,-7.079042352770211,38.072713835395334,-7.165848197414153,48.47825832076876,17.046270592948897],\"yaxis\":\"y\",\"type\":\"scatter\"},{\"hovertemplate\":\"<b>LOWESS trendline</b><br><br>X_test=%{x}<br>y_pred=%{y} <b>(trend)</b><extra></extra>\",\"legendgroup\":\"\",\"marker\":{\"color\":\"lime\",\"symbol\":\"circle\"},\"mode\":\"lines\",\"name\":\"\",\"showlegend\":true,\"x\":[-2.695333267980776,-1.5627805979637994,-1.235739763479967,-0.45000099744957645,1.1826083596187353,1.1901385955768196,1.2288303781808187,2.013904876284309,2.114781332367747,2.219515908909048,2.2666493812306583,2.2803957283700136,2.528469842644874,3.1788153207806396,3.2829619508365537,3.3268275046034743,4.397685071589356,5.106964466154951,6.009624944474169,8.021140966875933],\"xaxis\":\"x\",\"y\":[-51.86936085458176,-38.81370208481507,-35.043693279187806,-25.985980129903055,-7.165848197414153,-7.079042352770211,-6.633017435567696,2.417038272597626,3.5799056812356547,4.787248111233847,5.330585783340492,5.489048716088238,8.348757647361289,15.845705798014666,17.046270592948897,17.551936878402255,29.89639674831778,38.072713835395334,48.47825832076876,71.6662896535651],\"yaxis\":\"y\",\"type\":\"scatter\"}],                        {\"template\":{\"data\":{\"histogram2dcontour\":[{\"type\":\"histogram2dcontour\",\"colorbar\":{\"outlinewidth\":0,\"ticks\":\"\"},\"colorscale\":[[0.0,\"#0d0887\"],[0.1111111111111111,\"#46039f\"],[0.2222222222222222,\"#7201a8\"],[0.3333333333333333,\"#9c179e\"],[0.4444444444444444,\"#bd3786\"],[0.5555555555555556,\"#d8576b\"],[0.6666666666666666,\"#ed7953\"],[0.7777777777777778,\"#fb9f3a\"],[0.8888888888888888,\"#fdca26\"],[1.0,\"#f0f921\"]]}],\"choropleth\":[{\"type\":\"choropleth\",\"colorbar\":{\"outlinewidth\":0,\"ticks\":\"\"}}],\"histogram2d\":[{\"type\":\"histogram2d\",\"colorbar\":{\"outlinewidth\":0,\"ticks\":\"\"},\"colorscale\":[[0.0,\"#0d0887\"],[0.1111111111111111,\"#46039f\"],[0.2222222222222222,\"#7201a8\"],[0.3333333333333333,\"#9c179e\"],[0.4444444444444444,\"#bd3786\"],[0.5555555555555556,\"#d8576b\"],[0.6666666666666666,\"#ed7953\"],[0.7777777777777778,\"#fb9f3a\"],[0.8888888888888888,\"#fdca26\"],[1.0,\"#f0f921\"]]}],\"heatmap\":[{\"type\":\"heatmap\",\"colorbar\":{\"outlinewidth\":0,\"ticks\":\"\"},\"colorscale\":[[0.0,\"#0d0887\"],[0.1111111111111111,\"#46039f\"],[0.2222222222222222,\"#7201a8\"],[0.3333333333333333,\"#9c179e\"],[0.4444444444444444,\"#bd3786\"],[0.5555555555555556,\"#d8576b\"],[0.6666666666666666,\"#ed7953\"],[0.7777777777777778,\"#fb9f3a\"],[0.8888888888888888,\"#fdca26\"],[1.0,\"#f0f921\"]]}],\"heatmapgl\":[{\"type\":\"heatmapgl\",\"colorbar\":{\"outlinewidth\":0,\"ticks\":\"\"},\"colorscale\":[[0.0,\"#0d0887\"],[0.1111111111111111,\"#46039f\"],[0.2222222222222222,\"#7201a8\"],[0.3333333333333333,\"#9c179e\"],[0.4444444444444444,\"#bd3786\"],[0.5555555555555556,\"#d8576b\"],[0.6666666666666666,\"#ed7953\"],[0.7777777777777778,\"#fb9f3a\"],[0.8888888888888888,\"#fdca26\"],[1.0,\"#f0f921\"]]}],\"contourcarpet\":[{\"type\":\"contourcarpet\",\"colorbar\":{\"outlinewidth\":0,\"ticks\":\"\"}}],\"contour\":[{\"type\":\"contour\",\"colorbar\":{\"outlinewidth\":0,\"ticks\":\"\"},\"colorscale\":[[0.0,\"#0d0887\"],[0.1111111111111111,\"#46039f\"],[0.2222222222222222,\"#7201a8\"],[0.3333333333333333,\"#9c179e\"],[0.4444444444444444,\"#bd3786\"],[0.5555555555555556,\"#d8576b\"],[0.6666666666666666,\"#ed7953\"],[0.7777777777777778,\"#fb9f3a\"],[0.8888888888888888,\"#fdca26\"],[1.0,\"#f0f921\"]]}],\"surface\":[{\"type\":\"surface\",\"colorbar\":{\"outlinewidth\":0,\"ticks\":\"\"},\"colorscale\":[[0.0,\"#0d0887\"],[0.1111111111111111,\"#46039f\"],[0.2222222222222222,\"#7201a8\"],[0.3333333333333333,\"#9c179e\"],[0.4444444444444444,\"#bd3786\"],[0.5555555555555556,\"#d8576b\"],[0.6666666666666666,\"#ed7953\"],[0.7777777777777778,\"#fb9f3a\"],[0.8888888888888888,\"#fdca26\"],[1.0,\"#f0f921\"]]}],\"mesh3d\":[{\"type\":\"mesh3d\",\"colorbar\":{\"outlinewidth\":0,\"ticks\":\"\"}}],\"scatter\":[{\"fillpattern\":{\"fillmode\":\"overlay\",\"size\":10,\"solidity\":0.2},\"type\":\"scatter\"}],\"parcoords\":[{\"type\":\"parcoords\",\"line\":{\"colorbar\":{\"outlinewidth\":0,\"ticks\":\"\"}}}],\"scatterpolargl\":[{\"type\":\"scatterpolargl\",\"marker\":{\"colorbar\":{\"outlinewidth\":0,\"ticks\":\"\"}}}],\"bar\":[{\"error_x\":{\"color\":\"#2a3f5f\"},\"error_y\":{\"color\":\"#2a3f5f\"},\"marker\":{\"line\":{\"color\":\"#E5ECF6\",\"width\":0.5},\"pattern\":{\"fillmode\":\"overlay\",\"size\":10,\"solidity\":0.2}},\"type\":\"bar\"}],\"scattergeo\":[{\"type\":\"scattergeo\",\"marker\":{\"colorbar\":{\"outlinewidth\":0,\"ticks\":\"\"}}}],\"scatterpolar\":[{\"type\":\"scatterpolar\",\"marker\":{\"colorbar\":{\"outlinewidth\":0,\"ticks\":\"\"}}}],\"histogram\":[{\"marker\":{\"pattern\":{\"fillmode\":\"overlay\",\"size\":10,\"solidity\":0.2}},\"type\":\"histogram\"}],\"scattergl\":[{\"type\":\"scattergl\",\"marker\":{\"colorbar\":{\"outlinewidth\":0,\"ticks\":\"\"}}}],\"scatter3d\":[{\"type\":\"scatter3d\",\"line\":{\"colorbar\":{\"outlinewidth\":0,\"ticks\":\"\"}},\"marker\":{\"colorbar\":{\"outlinewidth\":0,\"ticks\":\"\"}}}],\"scattermapbox\":[{\"type\":\"scattermapbox\",\"marker\":{\"colorbar\":{\"outlinewidth\":0,\"ticks\":\"\"}}}],\"scatterternary\":[{\"type\":\"scatterternary\",\"marker\":{\"colorbar\":{\"outlinewidth\":0,\"ticks\":\"\"}}}],\"scattercarpet\":[{\"type\":\"scattercarpet\",\"marker\":{\"colorbar\":{\"outlinewidth\":0,\"ticks\":\"\"}}}],\"carpet\":[{\"aaxis\":{\"endlinecolor\":\"#2a3f5f\",\"gridcolor\":\"white\",\"linecolor\":\"white\",\"minorgridcolor\":\"white\",\"startlinecolor\":\"#2a3f5f\"},\"baxis\":{\"endlinecolor\":\"#2a3f5f\",\"gridcolor\":\"white\",\"linecolor\":\"white\",\"minorgridcolor\":\"white\",\"startlinecolor\":\"#2a3f5f\"},\"type\":\"carpet\"}],\"table\":[{\"cells\":{\"fill\":{\"color\":\"#EBF0F8\"},\"line\":{\"color\":\"white\"}},\"header\":{\"fill\":{\"color\":\"#C8D4E3\"},\"line\":{\"color\":\"white\"}},\"type\":\"table\"}],\"barpolar\":[{\"marker\":{\"line\":{\"color\":\"#E5ECF6\",\"width\":0.5},\"pattern\":{\"fillmode\":\"overlay\",\"size\":10,\"solidity\":0.2}},\"type\":\"barpolar\"}],\"pie\":[{\"automargin\":true,\"type\":\"pie\"}]},\"layout\":{\"autotypenumbers\":\"strict\",\"colorway\":[\"#636efa\",\"#EF553B\",\"#00cc96\",\"#ab63fa\",\"#FFA15A\",\"#19d3f3\",\"#FF6692\",\"#B6E880\",\"#FF97FF\",\"#FECB52\"],\"font\":{\"color\":\"#2a3f5f\"},\"hovermode\":\"closest\",\"hoverlabel\":{\"align\":\"left\"},\"paper_bgcolor\":\"white\",\"plot_bgcolor\":\"#E5ECF6\",\"polar\":{\"bgcolor\":\"#E5ECF6\",\"angularaxis\":{\"gridcolor\":\"white\",\"linecolor\":\"white\",\"ticks\":\"\"},\"radialaxis\":{\"gridcolor\":\"white\",\"linecolor\":\"white\",\"ticks\":\"\"}},\"ternary\":{\"bgcolor\":\"#E5ECF6\",\"aaxis\":{\"gridcolor\":\"white\",\"linecolor\":\"white\",\"ticks\":\"\"},\"baxis\":{\"gridcolor\":\"white\",\"linecolor\":\"white\",\"ticks\":\"\"},\"caxis\":{\"gridcolor\":\"white\",\"linecolor\":\"white\",\"ticks\":\"\"}},\"coloraxis\":{\"colorbar\":{\"outlinewidth\":0,\"ticks\":\"\"}},\"colorscale\":{\"sequential\":[[0.0,\"#0d0887\"],[0.1111111111111111,\"#46039f\"],[0.2222222222222222,\"#7201a8\"],[0.3333333333333333,\"#9c179e\"],[0.4444444444444444,\"#bd3786\"],[0.5555555555555556,\"#d8576b\"],[0.6666666666666666,\"#ed7953\"],[0.7777777777777778,\"#fb9f3a\"],[0.8888888888888888,\"#fdca26\"],[1.0,\"#f0f921\"]],\"sequentialminus\":[[0.0,\"#0d0887\"],[0.1111111111111111,\"#46039f\"],[0.2222222222222222,\"#7201a8\"],[0.3333333333333333,\"#9c179e\"],[0.4444444444444444,\"#bd3786\"],[0.5555555555555556,\"#d8576b\"],[0.6666666666666666,\"#ed7953\"],[0.7777777777777778,\"#fb9f3a\"],[0.8888888888888888,\"#fdca26\"],[1.0,\"#f0f921\"]],\"diverging\":[[0,\"#8e0152\"],[0.1,\"#c51b7d\"],[0.2,\"#de77ae\"],[0.3,\"#f1b6da\"],[0.4,\"#fde0ef\"],[0.5,\"#f7f7f7\"],[0.6,\"#e6f5d0\"],[0.7,\"#b8e186\"],[0.8,\"#7fbc41\"],[0.9,\"#4d9221\"],[1,\"#276419\"]]},\"xaxis\":{\"gridcolor\":\"white\",\"linecolor\":\"white\",\"ticks\":\"\",\"title\":{\"standoff\":15},\"zerolinecolor\":\"white\",\"automargin\":true,\"zerolinewidth\":2},\"yaxis\":{\"gridcolor\":\"white\",\"linecolor\":\"white\",\"ticks\":\"\",\"title\":{\"standoff\":15},\"zerolinecolor\":\"white\",\"automargin\":true,\"zerolinewidth\":2},\"scene\":{\"xaxis\":{\"backgroundcolor\":\"#E5ECF6\",\"gridcolor\":\"white\",\"linecolor\":\"white\",\"showbackground\":true,\"ticks\":\"\",\"zerolinecolor\":\"white\",\"gridwidth\":2},\"yaxis\":{\"backgroundcolor\":\"#E5ECF6\",\"gridcolor\":\"white\",\"linecolor\":\"white\",\"showbackground\":true,\"ticks\":\"\",\"zerolinecolor\":\"white\",\"gridwidth\":2},\"zaxis\":{\"backgroundcolor\":\"#E5ECF6\",\"gridcolor\":\"white\",\"linecolor\":\"white\",\"showbackground\":true,\"ticks\":\"\",\"zerolinecolor\":\"white\",\"gridwidth\":2}},\"shapedefaults\":{\"line\":{\"color\":\"#2a3f5f\"}},\"annotationdefaults\":{\"arrowcolor\":\"#2a3f5f\",\"arrowhead\":0,\"arrowwidth\":1},\"geo\":{\"bgcolor\":\"white\",\"landcolor\":\"#E5ECF6\",\"subunitcolor\":\"white\",\"showland\":true,\"showlakes\":true,\"lakecolor\":\"white\"},\"title\":{\"x\":0.05},\"mapbox\":{\"style\":\"light\"}}}},                        {\"responsive\": true}                    ).then(function(){\n",
              "                            \n",
              "var gd = document.getElementById('734fd43d-46b1-4ff5-85ca-25ff0129a10b');\n",
              "var x = new MutationObserver(function (mutations, observer) {{\n",
              "        var display = window.getComputedStyle(gd).display;\n",
              "        if (!display || display === 'none') {{\n",
              "            console.log([gd, 'removed!']);\n",
              "            Plotly.purge(gd);\n",
              "            observer.disconnect();\n",
              "        }}\n",
              "}});\n",
              "\n",
              "// Listen for the removal of the full notebook cells\n",
              "var notebookContainer = gd.closest('#notebook-container');\n",
              "if (notebookContainer) {{\n",
              "    x.observe(notebookContainer, {childList: true});\n",
              "}}\n",
              "\n",
              "// Listen for the clearing of the current output cell\n",
              "var outputEl = gd.closest('.output');\n",
              "if (outputEl) {{\n",
              "    x.observe(outputEl, {childList: true});\n",
              "}}\n",
              "\n",
              "                        })                };                            </script>        </div>\n",
              "</body>\n",
              "</html>"
            ]
          },
          "metadata": {}
        }
      ]
    },
    {
      "cell_type": "markdown",
      "source": [
        "Для того, чтобы линия была более кривой, нужно добавить полиномиальные фичи"
      ],
      "metadata": {
        "id": "Tv54wH_8Xelm"
      }
    },
    {
      "cell_type": "code",
      "source": [
        "poly = PolynomialFeatures(degree=5, include_bias=False)\n",
        "\n",
        "X_train_2_ = poly.fit_transform(X_train_2)\n",
        "X_test_2_ = poly.fit_transform(X_test_2)\n",
        "\n",
        "pd.DataFrame(X_train_2_).head()"
      ],
      "metadata": {
        "colab": {
          "base_uri": "https://localhost:8080/",
          "height": 206
        },
        "id": "v0weFXwLXsNY",
        "outputId": "c8db7982-171f-4546-8c11-bebadeda049f"
      },
      "execution_count": null,
      "outputs": [
        {
          "output_type": "execute_result",
          "data": {
            "text/plain": [
              "          0          1          2           3           4\n",
              "0  3.176902  10.092708  32.063545  101.862746  323.607980\n",
              "1  3.696999  13.667803  50.529856  186.808835  690.632107\n",
              "2  2.465781   6.080074  14.992127   36.967294   91.153233\n",
              "3  2.405397   5.785934  13.917466   33.477027   80.525533\n",
              "4  2.043799   4.177113   8.537179   17.448276   35.660766"
            ],
            "text/html": [
              "<div>\n",
              "<style scoped>\n",
              "    .dataframe tbody tr th:only-of-type {\n",
              "        vertical-align: middle;\n",
              "    }\n",
              "\n",
              "    .dataframe tbody tr th {\n",
              "        vertical-align: top;\n",
              "    }\n",
              "\n",
              "    .dataframe thead th {\n",
              "        text-align: right;\n",
              "    }\n",
              "</style>\n",
              "<table border=\"1\" class=\"dataframe\">\n",
              "  <thead>\n",
              "    <tr style=\"text-align: right;\">\n",
              "      <th></th>\n",
              "      <th>0</th>\n",
              "      <th>1</th>\n",
              "      <th>2</th>\n",
              "      <th>3</th>\n",
              "      <th>4</th>\n",
              "    </tr>\n",
              "  </thead>\n",
              "  <tbody>\n",
              "    <tr>\n",
              "      <th>0</th>\n",
              "      <td>3.176902</td>\n",
              "      <td>10.092708</td>\n",
              "      <td>32.063545</td>\n",
              "      <td>101.862746</td>\n",
              "      <td>323.607980</td>\n",
              "    </tr>\n",
              "    <tr>\n",
              "      <th>1</th>\n",
              "      <td>3.696999</td>\n",
              "      <td>13.667803</td>\n",
              "      <td>50.529856</td>\n",
              "      <td>186.808835</td>\n",
              "      <td>690.632107</td>\n",
              "    </tr>\n",
              "    <tr>\n",
              "      <th>2</th>\n",
              "      <td>2.465781</td>\n",
              "      <td>6.080074</td>\n",
              "      <td>14.992127</td>\n",
              "      <td>36.967294</td>\n",
              "      <td>91.153233</td>\n",
              "    </tr>\n",
              "    <tr>\n",
              "      <th>3</th>\n",
              "      <td>2.405397</td>\n",
              "      <td>5.785934</td>\n",
              "      <td>13.917466</td>\n",
              "      <td>33.477027</td>\n",
              "      <td>80.525533</td>\n",
              "    </tr>\n",
              "    <tr>\n",
              "      <th>4</th>\n",
              "      <td>2.043799</td>\n",
              "      <td>4.177113</td>\n",
              "      <td>8.537179</td>\n",
              "      <td>17.448276</td>\n",
              "      <td>35.660766</td>\n",
              "    </tr>\n",
              "  </tbody>\n",
              "</table>\n",
              "</div>"
            ]
          },
          "metadata": {},
          "execution_count": 434
        }
      ]
    },
    {
      "cell_type": "code",
      "source": [
        "model_lr_2 = LinearRegression().fit(X_train_2_, y_train_2)\n",
        "\n",
        "y_pred_2 = model_lr_2.predict(X_test_2_)\n",
        "\n",
        "print(f'R2 score: {r2_score(y_test_2, y_pred_2)}')\n",
        "print(f'MAE: {mean_absolute_error(y_test_2, y_pred_2)}')\n",
        "print(f'MSE: {mean_squared_error(y_test_2, y_pred_2)}')"
      ],
      "metadata": {
        "colab": {
          "base_uri": "https://localhost:8080/"
        },
        "id": "Ope3HkvYX93j",
        "outputId": "3ded22a1-0f8a-42d4-b1c9-2986e8ad84ca"
      },
      "execution_count": null,
      "outputs": [
        {
          "output_type": "stream",
          "name": "stdout",
          "text": [
            "R2 score: 0.9891307401841827\n",
            "MAE: 2.915147836068811\n",
            "MSE: 12.202046390658223\n"
          ]
        }
      ]
    },
    {
      "cell_type": "code",
      "source": [
        "plot_test(X_train_2, X_test_2, y_train_2, y_test_2, y_pred_2)"
      ],
      "metadata": {
        "colab": {
          "base_uri": "https://localhost:8080/",
          "height": 542
        },
        "id": "1AKZ7qLuYFT3",
        "outputId": "662fa204-2ae8-41f1-ed6d-45008a75ec26"
      },
      "execution_count": null,
      "outputs": [
        {
          "output_type": "display_data",
          "data": {
            "text/html": [
              "<html>\n",
              "<head><meta charset=\"utf-8\" /></head>\n",
              "<body>\n",
              "    <div>            <script src=\"https://cdnjs.cloudflare.com/ajax/libs/mathjax/2.7.5/MathJax.js?config=TeX-AMS-MML_SVG\"></script><script type=\"text/javascript\">if (window.MathJax && window.MathJax.Hub && window.MathJax.Hub.Config) {window.MathJax.Hub.Config({SVG: {font: \"STIX-Web\"}});}</script>                <script type=\"text/javascript\">window.PlotlyConfig = {MathJaxConfig: 'local'};</script>\n",
              "        <script src=\"https://cdn.plot.ly/plotly-2.16.1.min.js\"></script>                <div id=\"3e034711-c057-4c0c-ab40-937a5c72bae6\" class=\"plotly-graph-div\" style=\"height:525px; width:100%;\"></div>            <script type=\"text/javascript\">                                    window.PLOTLYENV=window.PLOTLYENV || {};                                    if (document.getElementById(\"3e034711-c057-4c0c-ab40-937a5c72bae6\")) {                    Plotly.newPlot(                        \"3e034711-c057-4c0c-ab40-937a5c72bae6\",                        [{\"hovertemplate\":\"train=%{x}<br>y_train=%{y}<extra></extra>\",\"legendgroup\":\"\",\"marker\":{\"color\":\"#636efa\",\"symbol\":\"circle\"},\"mode\":\"markers\",\"name\":\"train\",\"orientation\":\"v\",\"showlegend\":true,\"x\":[3.176902194291168,3.696999168296754,2.4657805107115838,2.405396760293406,2.043798769916191,10.08261372889434,2.098168543679833,2.4215770515415986,-1.6935872213217,2.439844964779351,2.2045939421639176,1.627779962544499,1.6032224586068757,-4.192490363892475,5.705330609390097,-1.5519554822034807,1.3557946696333856,-3.3399333238780935,3.6390177434226416,6.254580884095879,-0.8731328317032157,2.300279326326681,1.4564136835180541,3.191587052572899,-1.7269625837079667,6.582294522793645,1.0473699426373548,4.586669858631753,5.396333279461205,0.6508856085265537,2.3457082676347007,-0.5719032489207669,2.785847481712171,1.845456266006568,3.4073602271269676,2.3737942081496057,5.854659052262405,2.5485730947859206,-3.5098027963531493,0.7638403088927994,3.003771029858586,1.9505567013782157,3.0264613297458056,-1.1350347136496728,0.4967343921726102,6.784925083016726,3.435022035974786,-0.9860536202808836,4.577073308832608,4.9247398800035835,0.24537248038844695,2.451275419453287,3.077058943030492,2.9159461648661,4.866829165148277,3.854947069499043,6.2995423098763315,-0.13382476529360687,-4.4835262185299545,7.26819869958372,4.074331858780185,1.5563224118120407,-2.8712713575816498,-2.089752525436234,0.6371114398637314,1.770874123392306,1.0195131542562592,3.528779378974056,4.606877957073752,0.15282714052297997,3.4378903087514567,3.71276093889743,7.766441352588822,4.215061921392927,3.263067574782874,-0.18576300077130137,4.416493988083415,-0.4657007920035605,3.9663531633273883,-2.2218030041800736],\"xaxis\":\"x\",\"y\":[-3.12840630937368,-2.7143838423331053,-2.905100888155544,-2.71605114764343,-0.4203221683256597,318.61352249784187,-3.872986419564399,-0.6300299469948989,-14.5170792986966,-8.363448769078229,-2.9067646835628,-2.5010472316419774,-4.381400812961458,-74.64153070380203,32.35617449247697,-11.860321155976742,3.392550470908339,-50.25075284486093,-1.894945082861493,49.12753424205575,-0.6403033064587644,-7.68213928386344,-1.2349585732940214,-5.405826265134439,-13.760770413691802,60.86859770037245,-3.385893617203489,8.261420731747776,28.264500185170533,-8.901051717236177,-7.5002844069565935,-5.534563765305547,-6.270251931772094,-4.538990663507821,-3.721030894301881,-1.8905393451987353,34.98243122901118,0.2622176215000618,-50.231506933509095,0.0506486577544385,-1.2614352753765434,-6.018057450737759,-5.119623172876805,-9.080410573666997,1.3486562755294131,73.9990838770385,0.9516768401198958,-7.443601729045207,8.808331551993746,11.958297927341052,-3.490797652873502,-6.3134344096330794,-2.579053666078833,-4.782290947322596,6.792441620148917,0.6622355772246156,52.89629672391331,-6.942996510974818,-88.54832322873219,93.74023460674655,5.263441375761163,-2.95242070328683,-28.259878451412458,-17.952650504158978,-4.549553889633739,-4.875095359752697,-9.783168421678603,2.51335844886337,2.1849856851012603,-3.4972131943548157,-4.387951145695952,-4.342454372215538,113.56871220327166,3.713315498723118,-0.6392014049729706,0.8719703775393883,4.199858787370284,-3.068184191385531,-0.4436308837247491,-24.21150027403096],\"yaxis\":\"y\",\"type\":\"scatter\"},{\"hovertemplate\":\"X_test=%{x}<br>y_test=%{y}<extra></extra>\",\"legendgroup\":\"\",\"marker\":{\"color\":\"red\",\"symbol\":\"circle\"},\"mode\":\"markers\",\"name\":\"test\",\"orientation\":\"v\",\"showlegend\":true,\"x\":[1.2288303781808187,2.114781332367747,8.021140966875933,-0.45000099744957645,-2.695333267980776,2.2803957283700136,2.2666493812306583,3.1788153207806396,-1.5627805979637994,3.3268275046034743,2.013904876284309,-1.235739763479967,4.397685071589356,2.219515908909048,2.528469842644874,1.1901385955768196,5.106964466154951,1.1826083596187353,6.009624944474169,3.2829619508365537],\"xaxis\":\"x\",\"y\":[-4.646220936856789,-3.088971906492717,139.99696407131003,-9.82319139399156,-23.80642833904672,-5.8095968165211,-3.2518758068302223,-6.530654614205941,-13.657363184526751,-8.875133886399416,-4.879805129070302,-4.60868016125651,-0.6737243740818748,-6.968479040135748,-8.229081071132608,-5.961577445235417,15.659340214749795,-4.3841078711537325,39.86646487950849,-5.778696146352386],\"yaxis\":\"y\",\"type\":\"scatter\"},{\"hovertemplate\":\"X_test=%{x}<br>y_pred=%{y}<extra></extra>\",\"legendgroup\":\"\",\"marker\":{\"color\":\"lime\",\"symbol\":\"circle\"},\"mode\":\"markers\",\"name\":\"predictions\",\"orientation\":\"v\",\"showlegend\":true,\"x\":[1.2288303781808187,2.114781332367747,8.021140966875933,-0.45000099744957645,-2.695333267980776,2.2803957283700136,2.2666493812306583,3.1788153207806396,-1.5627805979637994,3.3268275046034743,2.013904876284309,-1.235739763479967,4.397685071589356,2.219515908909048,2.528469842644874,1.1901385955768196,5.106964466154951,1.1826083596187353,6.009624944474169,3.2829619508365537],\"xaxis\":\"x\",\"y\":[-3.2024616004532707,-4.368908493837692,136.35200712999264,-3.8076710232963418,-30.01657345336971,-4.462243529317186,-4.457108876774631,-3.317082099333864,-11.659215671650845,-2.762400105751039,-4.281942891660776,-8.453963979510375,5.791116740009516,-4.43575635035681,-4.459646946153477,-3.145836272629773,17.127910732515538,-3.1349245997581274,40.11572281709311,-2.9399948244693914],\"yaxis\":\"y\",\"type\":\"scatter\"},{\"hovertemplate\":\"<b>LOWESS trendline</b><br><br>X_test=%{x}<br>y_pred=%{y} <b>(trend)</b><extra></extra>\",\"legendgroup\":\"\",\"marker\":{\"color\":\"lime\",\"symbol\":\"circle\"},\"mode\":\"lines\",\"name\":\"\",\"showlegend\":true,\"x\":[-2.695333267980776,-1.5627805979637994,-1.235739763479967,-0.45000099744957645,1.1826083596187353,1.1901385955768196,1.2288303781808187,2.013904876284309,2.114781332367747,2.219515908909048,2.2666493812306583,2.2803957283700136,2.528469842644874,3.1788153207806396,3.2829619508365537,3.3268275046034743,4.397685071589356,5.106964466154951,6.009624944474169,8.021140966875933],\"xaxis\":\"x\",\"y\":[-30.01657345336971,-11.659215671650845,-8.453963979510375,-3.8076710232963418,-3.1349245997581274,-3.145836272629773,-3.2024616004532707,-4.281942891660776,-4.368908493837692,-4.43575635035681,-4.457108876774631,-4.462243529317186,-4.459646946153477,-3.317082099333864,-2.9399948244693914,-2.762400105751039,5.791116740009516,17.127910732515538,40.11572281709311,136.35200712999264],\"yaxis\":\"y\",\"type\":\"scatter\"}],                        {\"template\":{\"data\":{\"histogram2dcontour\":[{\"type\":\"histogram2dcontour\",\"colorbar\":{\"outlinewidth\":0,\"ticks\":\"\"},\"colorscale\":[[0.0,\"#0d0887\"],[0.1111111111111111,\"#46039f\"],[0.2222222222222222,\"#7201a8\"],[0.3333333333333333,\"#9c179e\"],[0.4444444444444444,\"#bd3786\"],[0.5555555555555556,\"#d8576b\"],[0.6666666666666666,\"#ed7953\"],[0.7777777777777778,\"#fb9f3a\"],[0.8888888888888888,\"#fdca26\"],[1.0,\"#f0f921\"]]}],\"choropleth\":[{\"type\":\"choropleth\",\"colorbar\":{\"outlinewidth\":0,\"ticks\":\"\"}}],\"histogram2d\":[{\"type\":\"histogram2d\",\"colorbar\":{\"outlinewidth\":0,\"ticks\":\"\"},\"colorscale\":[[0.0,\"#0d0887\"],[0.1111111111111111,\"#46039f\"],[0.2222222222222222,\"#7201a8\"],[0.3333333333333333,\"#9c179e\"],[0.4444444444444444,\"#bd3786\"],[0.5555555555555556,\"#d8576b\"],[0.6666666666666666,\"#ed7953\"],[0.7777777777777778,\"#fb9f3a\"],[0.8888888888888888,\"#fdca26\"],[1.0,\"#f0f921\"]]}],\"heatmap\":[{\"type\":\"heatmap\",\"colorbar\":{\"outlinewidth\":0,\"ticks\":\"\"},\"colorscale\":[[0.0,\"#0d0887\"],[0.1111111111111111,\"#46039f\"],[0.2222222222222222,\"#7201a8\"],[0.3333333333333333,\"#9c179e\"],[0.4444444444444444,\"#bd3786\"],[0.5555555555555556,\"#d8576b\"],[0.6666666666666666,\"#ed7953\"],[0.7777777777777778,\"#fb9f3a\"],[0.8888888888888888,\"#fdca26\"],[1.0,\"#f0f921\"]]}],\"heatmapgl\":[{\"type\":\"heatmapgl\",\"colorbar\":{\"outlinewidth\":0,\"ticks\":\"\"},\"colorscale\":[[0.0,\"#0d0887\"],[0.1111111111111111,\"#46039f\"],[0.2222222222222222,\"#7201a8\"],[0.3333333333333333,\"#9c179e\"],[0.4444444444444444,\"#bd3786\"],[0.5555555555555556,\"#d8576b\"],[0.6666666666666666,\"#ed7953\"],[0.7777777777777778,\"#fb9f3a\"],[0.8888888888888888,\"#fdca26\"],[1.0,\"#f0f921\"]]}],\"contourcarpet\":[{\"type\":\"contourcarpet\",\"colorbar\":{\"outlinewidth\":0,\"ticks\":\"\"}}],\"contour\":[{\"type\":\"contour\",\"colorbar\":{\"outlinewidth\":0,\"ticks\":\"\"},\"colorscale\":[[0.0,\"#0d0887\"],[0.1111111111111111,\"#46039f\"],[0.2222222222222222,\"#7201a8\"],[0.3333333333333333,\"#9c179e\"],[0.4444444444444444,\"#bd3786\"],[0.5555555555555556,\"#d8576b\"],[0.6666666666666666,\"#ed7953\"],[0.7777777777777778,\"#fb9f3a\"],[0.8888888888888888,\"#fdca26\"],[1.0,\"#f0f921\"]]}],\"surface\":[{\"type\":\"surface\",\"colorbar\":{\"outlinewidth\":0,\"ticks\":\"\"},\"colorscale\":[[0.0,\"#0d0887\"],[0.1111111111111111,\"#46039f\"],[0.2222222222222222,\"#7201a8\"],[0.3333333333333333,\"#9c179e\"],[0.4444444444444444,\"#bd3786\"],[0.5555555555555556,\"#d8576b\"],[0.6666666666666666,\"#ed7953\"],[0.7777777777777778,\"#fb9f3a\"],[0.8888888888888888,\"#fdca26\"],[1.0,\"#f0f921\"]]}],\"mesh3d\":[{\"type\":\"mesh3d\",\"colorbar\":{\"outlinewidth\":0,\"ticks\":\"\"}}],\"scatter\":[{\"fillpattern\":{\"fillmode\":\"overlay\",\"size\":10,\"solidity\":0.2},\"type\":\"scatter\"}],\"parcoords\":[{\"type\":\"parcoords\",\"line\":{\"colorbar\":{\"outlinewidth\":0,\"ticks\":\"\"}}}],\"scatterpolargl\":[{\"type\":\"scatterpolargl\",\"marker\":{\"colorbar\":{\"outlinewidth\":0,\"ticks\":\"\"}}}],\"bar\":[{\"error_x\":{\"color\":\"#2a3f5f\"},\"error_y\":{\"color\":\"#2a3f5f\"},\"marker\":{\"line\":{\"color\":\"#E5ECF6\",\"width\":0.5},\"pattern\":{\"fillmode\":\"overlay\",\"size\":10,\"solidity\":0.2}},\"type\":\"bar\"}],\"scattergeo\":[{\"type\":\"scattergeo\",\"marker\":{\"colorbar\":{\"outlinewidth\":0,\"ticks\":\"\"}}}],\"scatterpolar\":[{\"type\":\"scatterpolar\",\"marker\":{\"colorbar\":{\"outlinewidth\":0,\"ticks\":\"\"}}}],\"histogram\":[{\"marker\":{\"pattern\":{\"fillmode\":\"overlay\",\"size\":10,\"solidity\":0.2}},\"type\":\"histogram\"}],\"scattergl\":[{\"type\":\"scattergl\",\"marker\":{\"colorbar\":{\"outlinewidth\":0,\"ticks\":\"\"}}}],\"scatter3d\":[{\"type\":\"scatter3d\",\"line\":{\"colorbar\":{\"outlinewidth\":0,\"ticks\":\"\"}},\"marker\":{\"colorbar\":{\"outlinewidth\":0,\"ticks\":\"\"}}}],\"scattermapbox\":[{\"type\":\"scattermapbox\",\"marker\":{\"colorbar\":{\"outlinewidth\":0,\"ticks\":\"\"}}}],\"scatterternary\":[{\"type\":\"scatterternary\",\"marker\":{\"colorbar\":{\"outlinewidth\":0,\"ticks\":\"\"}}}],\"scattercarpet\":[{\"type\":\"scattercarpet\",\"marker\":{\"colorbar\":{\"outlinewidth\":0,\"ticks\":\"\"}}}],\"carpet\":[{\"aaxis\":{\"endlinecolor\":\"#2a3f5f\",\"gridcolor\":\"white\",\"linecolor\":\"white\",\"minorgridcolor\":\"white\",\"startlinecolor\":\"#2a3f5f\"},\"baxis\":{\"endlinecolor\":\"#2a3f5f\",\"gridcolor\":\"white\",\"linecolor\":\"white\",\"minorgridcolor\":\"white\",\"startlinecolor\":\"#2a3f5f\"},\"type\":\"carpet\"}],\"table\":[{\"cells\":{\"fill\":{\"color\":\"#EBF0F8\"},\"line\":{\"color\":\"white\"}},\"header\":{\"fill\":{\"color\":\"#C8D4E3\"},\"line\":{\"color\":\"white\"}},\"type\":\"table\"}],\"barpolar\":[{\"marker\":{\"line\":{\"color\":\"#E5ECF6\",\"width\":0.5},\"pattern\":{\"fillmode\":\"overlay\",\"size\":10,\"solidity\":0.2}},\"type\":\"barpolar\"}],\"pie\":[{\"automargin\":true,\"type\":\"pie\"}]},\"layout\":{\"autotypenumbers\":\"strict\",\"colorway\":[\"#636efa\",\"#EF553B\",\"#00cc96\",\"#ab63fa\",\"#FFA15A\",\"#19d3f3\",\"#FF6692\",\"#B6E880\",\"#FF97FF\",\"#FECB52\"],\"font\":{\"color\":\"#2a3f5f\"},\"hovermode\":\"closest\",\"hoverlabel\":{\"align\":\"left\"},\"paper_bgcolor\":\"white\",\"plot_bgcolor\":\"#E5ECF6\",\"polar\":{\"bgcolor\":\"#E5ECF6\",\"angularaxis\":{\"gridcolor\":\"white\",\"linecolor\":\"white\",\"ticks\":\"\"},\"radialaxis\":{\"gridcolor\":\"white\",\"linecolor\":\"white\",\"ticks\":\"\"}},\"ternary\":{\"bgcolor\":\"#E5ECF6\",\"aaxis\":{\"gridcolor\":\"white\",\"linecolor\":\"white\",\"ticks\":\"\"},\"baxis\":{\"gridcolor\":\"white\",\"linecolor\":\"white\",\"ticks\":\"\"},\"caxis\":{\"gridcolor\":\"white\",\"linecolor\":\"white\",\"ticks\":\"\"}},\"coloraxis\":{\"colorbar\":{\"outlinewidth\":0,\"ticks\":\"\"}},\"colorscale\":{\"sequential\":[[0.0,\"#0d0887\"],[0.1111111111111111,\"#46039f\"],[0.2222222222222222,\"#7201a8\"],[0.3333333333333333,\"#9c179e\"],[0.4444444444444444,\"#bd3786\"],[0.5555555555555556,\"#d8576b\"],[0.6666666666666666,\"#ed7953\"],[0.7777777777777778,\"#fb9f3a\"],[0.8888888888888888,\"#fdca26\"],[1.0,\"#f0f921\"]],\"sequentialminus\":[[0.0,\"#0d0887\"],[0.1111111111111111,\"#46039f\"],[0.2222222222222222,\"#7201a8\"],[0.3333333333333333,\"#9c179e\"],[0.4444444444444444,\"#bd3786\"],[0.5555555555555556,\"#d8576b\"],[0.6666666666666666,\"#ed7953\"],[0.7777777777777778,\"#fb9f3a\"],[0.8888888888888888,\"#fdca26\"],[1.0,\"#f0f921\"]],\"diverging\":[[0,\"#8e0152\"],[0.1,\"#c51b7d\"],[0.2,\"#de77ae\"],[0.3,\"#f1b6da\"],[0.4,\"#fde0ef\"],[0.5,\"#f7f7f7\"],[0.6,\"#e6f5d0\"],[0.7,\"#b8e186\"],[0.8,\"#7fbc41\"],[0.9,\"#4d9221\"],[1,\"#276419\"]]},\"xaxis\":{\"gridcolor\":\"white\",\"linecolor\":\"white\",\"ticks\":\"\",\"title\":{\"standoff\":15},\"zerolinecolor\":\"white\",\"automargin\":true,\"zerolinewidth\":2},\"yaxis\":{\"gridcolor\":\"white\",\"linecolor\":\"white\",\"ticks\":\"\",\"title\":{\"standoff\":15},\"zerolinecolor\":\"white\",\"automargin\":true,\"zerolinewidth\":2},\"scene\":{\"xaxis\":{\"backgroundcolor\":\"#E5ECF6\",\"gridcolor\":\"white\",\"linecolor\":\"white\",\"showbackground\":true,\"ticks\":\"\",\"zerolinecolor\":\"white\",\"gridwidth\":2},\"yaxis\":{\"backgroundcolor\":\"#E5ECF6\",\"gridcolor\":\"white\",\"linecolor\":\"white\",\"showbackground\":true,\"ticks\":\"\",\"zerolinecolor\":\"white\",\"gridwidth\":2},\"zaxis\":{\"backgroundcolor\":\"#E5ECF6\",\"gridcolor\":\"white\",\"linecolor\":\"white\",\"showbackground\":true,\"ticks\":\"\",\"zerolinecolor\":\"white\",\"gridwidth\":2}},\"shapedefaults\":{\"line\":{\"color\":\"#2a3f5f\"}},\"annotationdefaults\":{\"arrowcolor\":\"#2a3f5f\",\"arrowhead\":0,\"arrowwidth\":1},\"geo\":{\"bgcolor\":\"white\",\"landcolor\":\"#E5ECF6\",\"subunitcolor\":\"white\",\"showland\":true,\"showlakes\":true,\"lakecolor\":\"white\"},\"title\":{\"x\":0.05},\"mapbox\":{\"style\":\"light\"}}}},                        {\"responsive\": true}                    ).then(function(){\n",
              "                            \n",
              "var gd = document.getElementById('3e034711-c057-4c0c-ab40-937a5c72bae6');\n",
              "var x = new MutationObserver(function (mutations, observer) {{\n",
              "        var display = window.getComputedStyle(gd).display;\n",
              "        if (!display || display === 'none') {{\n",
              "            console.log([gd, 'removed!']);\n",
              "            Plotly.purge(gd);\n",
              "            observer.disconnect();\n",
              "        }}\n",
              "}});\n",
              "\n",
              "// Listen for the removal of the full notebook cells\n",
              "var notebookContainer = gd.closest('#notebook-container');\n",
              "if (notebookContainer) {{\n",
              "    x.observe(notebookContainer, {childList: true});\n",
              "}}\n",
              "\n",
              "// Listen for the clearing of the current output cell\n",
              "var outputEl = gd.closest('.output');\n",
              "if (outputEl) {{\n",
              "    x.observe(outputEl, {childList: true});\n",
              "}}\n",
              "\n",
              "                        })                };                            </script>        </div>\n",
              "</body>\n",
              "</html>"
            ]
          },
          "metadata": {}
        }
      ]
    },
    {
      "cell_type": "code",
      "source": [
        "plot_weights(model_lr_2.coef_)"
      ],
      "metadata": {
        "colab": {
          "base_uri": "https://localhost:8080/",
          "height": 542
        },
        "id": "dwI4PcHfaXG-",
        "outputId": "ba57b274-470f-498e-89a2-a4c99a2d608d"
      },
      "execution_count": null,
      "outputs": [
        {
          "output_type": "display_data",
          "data": {
            "text/html": [
              "<html>\n",
              "<head><meta charset=\"utf-8\" /></head>\n",
              "<body>\n",
              "    <div>            <script src=\"https://cdnjs.cloudflare.com/ajax/libs/mathjax/2.7.5/MathJax.js?config=TeX-AMS-MML_SVG\"></script><script type=\"text/javascript\">if (window.MathJax && window.MathJax.Hub && window.MathJax.Hub.Config) {window.MathJax.Hub.Config({SVG: {font: \"STIX-Web\"}});}</script>                <script type=\"text/javascript\">window.PlotlyConfig = {MathJaxConfig: 'local'};</script>\n",
              "        <script src=\"https://cdn.plot.ly/plotly-2.16.1.min.js\"></script>                <div id=\"73c7978e-51a3-4e4c-86ee-f5fe402ca9f9\" class=\"plotly-graph-div\" style=\"height:525px; width:100%;\"></div>            <script type=\"text/javascript\">                                    window.PLOTLYENV=window.PLOTLYENV || {};                                    if (document.getElementById(\"73c7978e-51a3-4e4c-86ee-f5fe402ca9f9\")) {                    Plotly.newPlot(                        \"73c7978e-51a3-4e4c-86ee-f5fe402ca9f9\",                        [{\"alignmentgroup\":\"True\",\"hovertemplate\":\"c=>=0<br>x=%{x}<br>y=%{y}<extra></extra>\",\"legendgroup\":\">=0\",\"marker\":{\"color\":\"blue\",\"pattern\":{\"shape\":\"\"}},\"name\":\">=0\",\"offsetgroup\":\">=0\",\"orientation\":\"v\",\"showlegend\":true,\"textposition\":\"auto\",\"x\":[\"w0\",\"w2\",\"w3\"],\"xaxis\":\"x\",\"y\":[1.4117391416527008,0.46506875633271266,0.009004800383629163],\"yaxis\":\"y\",\"type\":\"bar\"},{\"alignmentgroup\":\"True\",\"hovertemplate\":\"c=<0<br>x=%{x}<br>y=%{y}<extra></extra>\",\"legendgroup\":\"<0\",\"marker\":{\"color\":\"red\",\"pattern\":{\"shape\":\"\"}},\"name\":\"<0\",\"offsetgroup\":\"<0\",\"orientation\":\"v\",\"showlegend\":true,\"textposition\":\"auto\",\"x\":[\"w1\",\"w4\"],\"xaxis\":\"x\",\"y\":[-2.0564886090403496,-0.0005188956246988674],\"yaxis\":\"y\",\"type\":\"bar\"}],                        {\"template\":{\"data\":{\"histogram2dcontour\":[{\"type\":\"histogram2dcontour\",\"colorbar\":{\"outlinewidth\":0,\"ticks\":\"\"},\"colorscale\":[[0.0,\"#0d0887\"],[0.1111111111111111,\"#46039f\"],[0.2222222222222222,\"#7201a8\"],[0.3333333333333333,\"#9c179e\"],[0.4444444444444444,\"#bd3786\"],[0.5555555555555556,\"#d8576b\"],[0.6666666666666666,\"#ed7953\"],[0.7777777777777778,\"#fb9f3a\"],[0.8888888888888888,\"#fdca26\"],[1.0,\"#f0f921\"]]}],\"choropleth\":[{\"type\":\"choropleth\",\"colorbar\":{\"outlinewidth\":0,\"ticks\":\"\"}}],\"histogram2d\":[{\"type\":\"histogram2d\",\"colorbar\":{\"outlinewidth\":0,\"ticks\":\"\"},\"colorscale\":[[0.0,\"#0d0887\"],[0.1111111111111111,\"#46039f\"],[0.2222222222222222,\"#7201a8\"],[0.3333333333333333,\"#9c179e\"],[0.4444444444444444,\"#bd3786\"],[0.5555555555555556,\"#d8576b\"],[0.6666666666666666,\"#ed7953\"],[0.7777777777777778,\"#fb9f3a\"],[0.8888888888888888,\"#fdca26\"],[1.0,\"#f0f921\"]]}],\"heatmap\":[{\"type\":\"heatmap\",\"colorbar\":{\"outlinewidth\":0,\"ticks\":\"\"},\"colorscale\":[[0.0,\"#0d0887\"],[0.1111111111111111,\"#46039f\"],[0.2222222222222222,\"#7201a8\"],[0.3333333333333333,\"#9c179e\"],[0.4444444444444444,\"#bd3786\"],[0.5555555555555556,\"#d8576b\"],[0.6666666666666666,\"#ed7953\"],[0.7777777777777778,\"#fb9f3a\"],[0.8888888888888888,\"#fdca26\"],[1.0,\"#f0f921\"]]}],\"heatmapgl\":[{\"type\":\"heatmapgl\",\"colorbar\":{\"outlinewidth\":0,\"ticks\":\"\"},\"colorscale\":[[0.0,\"#0d0887\"],[0.1111111111111111,\"#46039f\"],[0.2222222222222222,\"#7201a8\"],[0.3333333333333333,\"#9c179e\"],[0.4444444444444444,\"#bd3786\"],[0.5555555555555556,\"#d8576b\"],[0.6666666666666666,\"#ed7953\"],[0.7777777777777778,\"#fb9f3a\"],[0.8888888888888888,\"#fdca26\"],[1.0,\"#f0f921\"]]}],\"contourcarpet\":[{\"type\":\"contourcarpet\",\"colorbar\":{\"outlinewidth\":0,\"ticks\":\"\"}}],\"contour\":[{\"type\":\"contour\",\"colorbar\":{\"outlinewidth\":0,\"ticks\":\"\"},\"colorscale\":[[0.0,\"#0d0887\"],[0.1111111111111111,\"#46039f\"],[0.2222222222222222,\"#7201a8\"],[0.3333333333333333,\"#9c179e\"],[0.4444444444444444,\"#bd3786\"],[0.5555555555555556,\"#d8576b\"],[0.6666666666666666,\"#ed7953\"],[0.7777777777777778,\"#fb9f3a\"],[0.8888888888888888,\"#fdca26\"],[1.0,\"#f0f921\"]]}],\"surface\":[{\"type\":\"surface\",\"colorbar\":{\"outlinewidth\":0,\"ticks\":\"\"},\"colorscale\":[[0.0,\"#0d0887\"],[0.1111111111111111,\"#46039f\"],[0.2222222222222222,\"#7201a8\"],[0.3333333333333333,\"#9c179e\"],[0.4444444444444444,\"#bd3786\"],[0.5555555555555556,\"#d8576b\"],[0.6666666666666666,\"#ed7953\"],[0.7777777777777778,\"#fb9f3a\"],[0.8888888888888888,\"#fdca26\"],[1.0,\"#f0f921\"]]}],\"mesh3d\":[{\"type\":\"mesh3d\",\"colorbar\":{\"outlinewidth\":0,\"ticks\":\"\"}}],\"scatter\":[{\"fillpattern\":{\"fillmode\":\"overlay\",\"size\":10,\"solidity\":0.2},\"type\":\"scatter\"}],\"parcoords\":[{\"type\":\"parcoords\",\"line\":{\"colorbar\":{\"outlinewidth\":0,\"ticks\":\"\"}}}],\"scatterpolargl\":[{\"type\":\"scatterpolargl\",\"marker\":{\"colorbar\":{\"outlinewidth\":0,\"ticks\":\"\"}}}],\"bar\":[{\"error_x\":{\"color\":\"#2a3f5f\"},\"error_y\":{\"color\":\"#2a3f5f\"},\"marker\":{\"line\":{\"color\":\"#E5ECF6\",\"width\":0.5},\"pattern\":{\"fillmode\":\"overlay\",\"size\":10,\"solidity\":0.2}},\"type\":\"bar\"}],\"scattergeo\":[{\"type\":\"scattergeo\",\"marker\":{\"colorbar\":{\"outlinewidth\":0,\"ticks\":\"\"}}}],\"scatterpolar\":[{\"type\":\"scatterpolar\",\"marker\":{\"colorbar\":{\"outlinewidth\":0,\"ticks\":\"\"}}}],\"histogram\":[{\"marker\":{\"pattern\":{\"fillmode\":\"overlay\",\"size\":10,\"solidity\":0.2}},\"type\":\"histogram\"}],\"scattergl\":[{\"type\":\"scattergl\",\"marker\":{\"colorbar\":{\"outlinewidth\":0,\"ticks\":\"\"}}}],\"scatter3d\":[{\"type\":\"scatter3d\",\"line\":{\"colorbar\":{\"outlinewidth\":0,\"ticks\":\"\"}},\"marker\":{\"colorbar\":{\"outlinewidth\":0,\"ticks\":\"\"}}}],\"scattermapbox\":[{\"type\":\"scattermapbox\",\"marker\":{\"colorbar\":{\"outlinewidth\":0,\"ticks\":\"\"}}}],\"scatterternary\":[{\"type\":\"scatterternary\",\"marker\":{\"colorbar\":{\"outlinewidth\":0,\"ticks\":\"\"}}}],\"scattercarpet\":[{\"type\":\"scattercarpet\",\"marker\":{\"colorbar\":{\"outlinewidth\":0,\"ticks\":\"\"}}}],\"carpet\":[{\"aaxis\":{\"endlinecolor\":\"#2a3f5f\",\"gridcolor\":\"white\",\"linecolor\":\"white\",\"minorgridcolor\":\"white\",\"startlinecolor\":\"#2a3f5f\"},\"baxis\":{\"endlinecolor\":\"#2a3f5f\",\"gridcolor\":\"white\",\"linecolor\":\"white\",\"minorgridcolor\":\"white\",\"startlinecolor\":\"#2a3f5f\"},\"type\":\"carpet\"}],\"table\":[{\"cells\":{\"fill\":{\"color\":\"#EBF0F8\"},\"line\":{\"color\":\"white\"}},\"header\":{\"fill\":{\"color\":\"#C8D4E3\"},\"line\":{\"color\":\"white\"}},\"type\":\"table\"}],\"barpolar\":[{\"marker\":{\"line\":{\"color\":\"#E5ECF6\",\"width\":0.5},\"pattern\":{\"fillmode\":\"overlay\",\"size\":10,\"solidity\":0.2}},\"type\":\"barpolar\"}],\"pie\":[{\"automargin\":true,\"type\":\"pie\"}]},\"layout\":{\"autotypenumbers\":\"strict\",\"colorway\":[\"#636efa\",\"#EF553B\",\"#00cc96\",\"#ab63fa\",\"#FFA15A\",\"#19d3f3\",\"#FF6692\",\"#B6E880\",\"#FF97FF\",\"#FECB52\"],\"font\":{\"color\":\"#2a3f5f\"},\"hovermode\":\"closest\",\"hoverlabel\":{\"align\":\"left\"},\"paper_bgcolor\":\"white\",\"plot_bgcolor\":\"#E5ECF6\",\"polar\":{\"bgcolor\":\"#E5ECF6\",\"angularaxis\":{\"gridcolor\":\"white\",\"linecolor\":\"white\",\"ticks\":\"\"},\"radialaxis\":{\"gridcolor\":\"white\",\"linecolor\":\"white\",\"ticks\":\"\"}},\"ternary\":{\"bgcolor\":\"#E5ECF6\",\"aaxis\":{\"gridcolor\":\"white\",\"linecolor\":\"white\",\"ticks\":\"\"},\"baxis\":{\"gridcolor\":\"white\",\"linecolor\":\"white\",\"ticks\":\"\"},\"caxis\":{\"gridcolor\":\"white\",\"linecolor\":\"white\",\"ticks\":\"\"}},\"coloraxis\":{\"colorbar\":{\"outlinewidth\":0,\"ticks\":\"\"}},\"colorscale\":{\"sequential\":[[0.0,\"#0d0887\"],[0.1111111111111111,\"#46039f\"],[0.2222222222222222,\"#7201a8\"],[0.3333333333333333,\"#9c179e\"],[0.4444444444444444,\"#bd3786\"],[0.5555555555555556,\"#d8576b\"],[0.6666666666666666,\"#ed7953\"],[0.7777777777777778,\"#fb9f3a\"],[0.8888888888888888,\"#fdca26\"],[1.0,\"#f0f921\"]],\"sequentialminus\":[[0.0,\"#0d0887\"],[0.1111111111111111,\"#46039f\"],[0.2222222222222222,\"#7201a8\"],[0.3333333333333333,\"#9c179e\"],[0.4444444444444444,\"#bd3786\"],[0.5555555555555556,\"#d8576b\"],[0.6666666666666666,\"#ed7953\"],[0.7777777777777778,\"#fb9f3a\"],[0.8888888888888888,\"#fdca26\"],[1.0,\"#f0f921\"]],\"diverging\":[[0,\"#8e0152\"],[0.1,\"#c51b7d\"],[0.2,\"#de77ae\"],[0.3,\"#f1b6da\"],[0.4,\"#fde0ef\"],[0.5,\"#f7f7f7\"],[0.6,\"#e6f5d0\"],[0.7,\"#b8e186\"],[0.8,\"#7fbc41\"],[0.9,\"#4d9221\"],[1,\"#276419\"]]},\"xaxis\":{\"gridcolor\":\"white\",\"linecolor\":\"white\",\"ticks\":\"\",\"title\":{\"standoff\":15},\"zerolinecolor\":\"white\",\"automargin\":true,\"zerolinewidth\":2},\"yaxis\":{\"gridcolor\":\"white\",\"linecolor\":\"white\",\"ticks\":\"\",\"title\":{\"standoff\":15},\"zerolinecolor\":\"white\",\"automargin\":true,\"zerolinewidth\":2},\"scene\":{\"xaxis\":{\"backgroundcolor\":\"#E5ECF6\",\"gridcolor\":\"white\",\"linecolor\":\"white\",\"showbackground\":true,\"ticks\":\"\",\"zerolinecolor\":\"white\",\"gridwidth\":2},\"yaxis\":{\"backgroundcolor\":\"#E5ECF6\",\"gridcolor\":\"white\",\"linecolor\":\"white\",\"showbackground\":true,\"ticks\":\"\",\"zerolinecolor\":\"white\",\"gridwidth\":2},\"zaxis\":{\"backgroundcolor\":\"#E5ECF6\",\"gridcolor\":\"white\",\"linecolor\":\"white\",\"showbackground\":true,\"ticks\":\"\",\"zerolinecolor\":\"white\",\"gridwidth\":2}},\"shapedefaults\":{\"line\":{\"color\":\"#2a3f5f\"}},\"annotationdefaults\":{\"arrowcolor\":\"#2a3f5f\",\"arrowhead\":0,\"arrowwidth\":1},\"geo\":{\"bgcolor\":\"white\",\"landcolor\":\"#E5ECF6\",\"subunitcolor\":\"white\",\"showland\":true,\"showlakes\":true,\"lakecolor\":\"white\"},\"title\":{\"x\":0.05},\"mapbox\":{\"style\":\"light\"}}},\"xaxis\":{\"anchor\":\"y\",\"domain\":[0.0,1.0],\"title\":{\"text\":\"x\"},\"categoryorder\":\"array\",\"categoryarray\":[\"w0\",\"w1\",\"w2\",\"w3\",\"w4\"]},\"yaxis\":{\"anchor\":\"x\",\"domain\":[0.0,1.0],\"title\":{\"text\":\"y\"}},\"legend\":{\"title\":{\"text\":\"c\"},\"tracegroupgap\":0},\"margin\":{\"t\":60},\"barmode\":\"relative\"},                        {\"responsive\": true}                    ).then(function(){\n",
              "                            \n",
              "var gd = document.getElementById('73c7978e-51a3-4e4c-86ee-f5fe402ca9f9');\n",
              "var x = new MutationObserver(function (mutations, observer) {{\n",
              "        var display = window.getComputedStyle(gd).display;\n",
              "        if (!display || display === 'none') {{\n",
              "            console.log([gd, 'removed!']);\n",
              "            Plotly.purge(gd);\n",
              "            observer.disconnect();\n",
              "        }}\n",
              "}});\n",
              "\n",
              "// Listen for the removal of the full notebook cells\n",
              "var notebookContainer = gd.closest('#notebook-container');\n",
              "if (notebookContainer) {{\n",
              "    x.observe(notebookContainer, {childList: true});\n",
              "}}\n",
              "\n",
              "// Listen for the clearing of the current output cell\n",
              "var outputEl = gd.closest('.output');\n",
              "if (outputEl) {{\n",
              "    x.observe(outputEl, {childList: true});\n",
              "}}\n",
              "\n",
              "                        })                };                            </script>        </div>\n",
              "</body>\n",
              "</html>"
            ]
          },
          "metadata": {}
        }
      ]
    },
    {
      "cell_type": "markdown",
      "source": [
        "Как видно, сработала только одна дополнительная фича, но вполне неплохо"
      ],
      "metadata": {
        "id": "ZkM68C_wagbR"
      }
    },
    {
      "cell_type": "markdown",
      "source": [
        "Теперь видим эффект приминения полиномиальных фич"
      ],
      "metadata": {
        "id": "clS13AfgZb-i"
      }
    },
    {
      "cell_type": "markdown",
      "source": [
        "### Ridge регуляризация"
      ],
      "metadata": {
        "id": "M7DKkH3RZh4F"
      }
    },
    {
      "cell_type": "code",
      "source": [
        "model_r_2 = Ridge().fit(X_train_2_, y_train_2)\n",
        "\n",
        "y_pred_r_2 = model_r_2.predict(X_test_2_)\n",
        "\n",
        "print(f'R2 score: {r2_score(y_test_2, y_pred_r_2)}')\n",
        "print(f'MAE: {mean_absolute_error(y_test_2, y_pred_r_2)}')\n",
        "print(f'MSE: {mean_squared_error(y_test_2, y_pred_r_2)}')"
      ],
      "metadata": {
        "colab": {
          "base_uri": "https://localhost:8080/"
        },
        "id": "7AC7pJBkZg1m",
        "outputId": "bf31a1a2-6590-44fc-ef93-2e67e9dbb947"
      },
      "execution_count": null,
      "outputs": [
        {
          "output_type": "stream",
          "name": "stdout",
          "text": [
            "R2 score: 0.9891722175812798\n",
            "MAE: 2.9103499292634076\n",
            "MSE: 12.155483043004411\n"
          ]
        }
      ]
    },
    {
      "cell_type": "code",
      "source": [
        "plot_test(X_train_2, X_test_2, y_train_2, y_test_2, y_pred_r_2)"
      ],
      "metadata": {
        "colab": {
          "base_uri": "https://localhost:8080/",
          "height": 542
        },
        "id": "sANZGku0bTf4",
        "outputId": "4fefe3a8-46f6-46de-dd6f-a42896e6e05c"
      },
      "execution_count": null,
      "outputs": [
        {
          "output_type": "display_data",
          "data": {
            "text/html": [
              "<html>\n",
              "<head><meta charset=\"utf-8\" /></head>\n",
              "<body>\n",
              "    <div>            <script src=\"https://cdnjs.cloudflare.com/ajax/libs/mathjax/2.7.5/MathJax.js?config=TeX-AMS-MML_SVG\"></script><script type=\"text/javascript\">if (window.MathJax && window.MathJax.Hub && window.MathJax.Hub.Config) {window.MathJax.Hub.Config({SVG: {font: \"STIX-Web\"}});}</script>                <script type=\"text/javascript\">window.PlotlyConfig = {MathJaxConfig: 'local'};</script>\n",
              "        <script src=\"https://cdn.plot.ly/plotly-2.16.1.min.js\"></script>                <div id=\"117145ed-32b9-4936-a10e-aa051e18167a\" class=\"plotly-graph-div\" style=\"height:525px; width:100%;\"></div>            <script type=\"text/javascript\">                                    window.PLOTLYENV=window.PLOTLYENV || {};                                    if (document.getElementById(\"117145ed-32b9-4936-a10e-aa051e18167a\")) {                    Plotly.newPlot(                        \"117145ed-32b9-4936-a10e-aa051e18167a\",                        [{\"hovertemplate\":\"train=%{x}<br>y_train=%{y}<extra></extra>\",\"legendgroup\":\"\",\"marker\":{\"color\":\"#636efa\",\"symbol\":\"circle\"},\"mode\":\"markers\",\"name\":\"train\",\"orientation\":\"v\",\"showlegend\":true,\"x\":[3.176902194291168,3.696999168296754,2.4657805107115838,2.405396760293406,2.043798769916191,10.08261372889434,2.098168543679833,2.4215770515415986,-1.6935872213217,2.439844964779351,2.2045939421639176,1.627779962544499,1.6032224586068757,-4.192490363892475,5.705330609390097,-1.5519554822034807,1.3557946696333856,-3.3399333238780935,3.6390177434226416,6.254580884095879,-0.8731328317032157,2.300279326326681,1.4564136835180541,3.191587052572899,-1.7269625837079667,6.582294522793645,1.0473699426373548,4.586669858631753,5.396333279461205,0.6508856085265537,2.3457082676347007,-0.5719032489207669,2.785847481712171,1.845456266006568,3.4073602271269676,2.3737942081496057,5.854659052262405,2.5485730947859206,-3.5098027963531493,0.7638403088927994,3.003771029858586,1.9505567013782157,3.0264613297458056,-1.1350347136496728,0.4967343921726102,6.784925083016726,3.435022035974786,-0.9860536202808836,4.577073308832608,4.9247398800035835,0.24537248038844695,2.451275419453287,3.077058943030492,2.9159461648661,4.866829165148277,3.854947069499043,6.2995423098763315,-0.13382476529360687,-4.4835262185299545,7.26819869958372,4.074331858780185,1.5563224118120407,-2.8712713575816498,-2.089752525436234,0.6371114398637314,1.770874123392306,1.0195131542562592,3.528779378974056,4.606877957073752,0.15282714052297997,3.4378903087514567,3.71276093889743,7.766441352588822,4.215061921392927,3.263067574782874,-0.18576300077130137,4.416493988083415,-0.4657007920035605,3.9663531633273883,-2.2218030041800736],\"xaxis\":\"x\",\"y\":[-3.12840630937368,-2.7143838423331053,-2.905100888155544,-2.71605114764343,-0.4203221683256597,318.61352249784187,-3.872986419564399,-0.6300299469948989,-14.5170792986966,-8.363448769078229,-2.9067646835628,-2.5010472316419774,-4.381400812961458,-74.64153070380203,32.35617449247697,-11.860321155976742,3.392550470908339,-50.25075284486093,-1.894945082861493,49.12753424205575,-0.6403033064587644,-7.68213928386344,-1.2349585732940214,-5.405826265134439,-13.760770413691802,60.86859770037245,-3.385893617203489,8.261420731747776,28.264500185170533,-8.901051717236177,-7.5002844069565935,-5.534563765305547,-6.270251931772094,-4.538990663507821,-3.721030894301881,-1.8905393451987353,34.98243122901118,0.2622176215000618,-50.231506933509095,0.0506486577544385,-1.2614352753765434,-6.018057450737759,-5.119623172876805,-9.080410573666997,1.3486562755294131,73.9990838770385,0.9516768401198958,-7.443601729045207,8.808331551993746,11.958297927341052,-3.490797652873502,-6.3134344096330794,-2.579053666078833,-4.782290947322596,6.792441620148917,0.6622355772246156,52.89629672391331,-6.942996510974818,-88.54832322873219,93.74023460674655,5.263441375761163,-2.95242070328683,-28.259878451412458,-17.952650504158978,-4.549553889633739,-4.875095359752697,-9.783168421678603,2.51335844886337,2.1849856851012603,-3.4972131943548157,-4.387951145695952,-4.342454372215538,113.56871220327166,3.713315498723118,-0.6392014049729706,0.8719703775393883,4.199858787370284,-3.068184191385531,-0.4436308837247491,-24.21150027403096],\"yaxis\":\"y\",\"type\":\"scatter\"},{\"hovertemplate\":\"X_test=%{x}<br>y_test=%{y}<extra></extra>\",\"legendgroup\":\"\",\"marker\":{\"color\":\"red\",\"symbol\":\"circle\"},\"mode\":\"markers\",\"name\":\"test\",\"orientation\":\"v\",\"showlegend\":true,\"x\":[1.2288303781808187,2.114781332367747,8.021140966875933,-0.45000099744957645,-2.695333267980776,2.2803957283700136,2.2666493812306583,3.1788153207806396,-1.5627805979637994,3.3268275046034743,2.013904876284309,-1.235739763479967,4.397685071589356,2.219515908909048,2.528469842644874,1.1901385955768196,5.106964466154951,1.1826083596187353,6.009624944474169,3.2829619508365537],\"xaxis\":\"x\",\"y\":[-4.646220936856789,-3.088971906492717,139.99696407131003,-9.82319139399156,-23.80642833904672,-5.8095968165211,-3.2518758068302223,-6.530654614205941,-13.657363184526751,-8.875133886399416,-4.879805129070302,-4.60868016125651,-0.6737243740818748,-6.968479040135748,-8.229081071132608,-5.961577445235417,15.659340214749795,-4.3841078711537325,39.86646487950849,-5.778696146352386],\"yaxis\":\"y\",\"type\":\"scatter\"},{\"hovertemplate\":\"X_test=%{x}<br>y_pred=%{y}<extra></extra>\",\"legendgroup\":\"\",\"marker\":{\"color\":\"lime\",\"symbol\":\"circle\"},\"mode\":\"markers\",\"name\":\"predictions\",\"orientation\":\"v\",\"showlegend\":true,\"x\":[1.2288303781808187,2.114781332367747,8.021140966875933,-0.45000099744957645,-2.695333267980776,2.2803957283700136,2.2666493812306583,3.1788153207806396,-1.5627805979637994,3.3268275046034743,2.013904876284309,-1.235739763479967,4.397685071589356,2.219515908909048,2.528469842644874,1.1901385955768196,5.106964466154951,1.1826083596187353,6.009624944474169,3.2829619508365537],\"xaxis\":\"x\",\"y\":[-3.2298186750231466,-4.390909662533538,136.30797915725077,-3.804473770552222,-29.940059651230637,-4.482009800925592,-4.477072046665417,-3.3211101245900103,-11.613139061287526,-2.763609754854765,-4.305146999029509,-8.42094427388954,5.806862582403757,-4.456379501112423,-4.475552998860195,-3.1731213421411697,17.147483254995176,-3.162192328008077,40.127403341115716,-2.9420373870194307],\"yaxis\":\"y\",\"type\":\"scatter\"},{\"hovertemplate\":\"<b>LOWESS trendline</b><br><br>X_test=%{x}<br>y_pred=%{y} <b>(trend)</b><extra></extra>\",\"legendgroup\":\"\",\"marker\":{\"color\":\"lime\",\"symbol\":\"circle\"},\"mode\":\"lines\",\"name\":\"\",\"showlegend\":true,\"x\":[-2.695333267980776,-1.5627805979637994,-1.235739763479967,-0.45000099744957645,1.1826083596187353,1.1901385955768196,1.2288303781808187,2.013904876284309,2.114781332367747,2.219515908909048,2.2666493812306583,2.2803957283700136,2.528469842644874,3.1788153207806396,3.2829619508365537,3.3268275046034743,4.397685071589356,5.106964466154951,6.009624944474169,8.021140966875933],\"xaxis\":\"x\",\"y\":[-29.940059651230637,-11.613139061287526,-8.42094427388954,-3.804473770552222,-3.162192328008077,-3.1731213421411697,-3.2298186750231466,-4.305146999029509,-4.390909662533538,-4.456379501112423,-4.477072046665417,-4.482009800925592,-4.475552998860195,-3.3211101245900103,-2.9420373870194307,-2.763609754854765,5.806862582403757,17.147483254995176,40.127403341115716,136.30797915725077],\"yaxis\":\"y\",\"type\":\"scatter\"}],                        {\"template\":{\"data\":{\"histogram2dcontour\":[{\"type\":\"histogram2dcontour\",\"colorbar\":{\"outlinewidth\":0,\"ticks\":\"\"},\"colorscale\":[[0.0,\"#0d0887\"],[0.1111111111111111,\"#46039f\"],[0.2222222222222222,\"#7201a8\"],[0.3333333333333333,\"#9c179e\"],[0.4444444444444444,\"#bd3786\"],[0.5555555555555556,\"#d8576b\"],[0.6666666666666666,\"#ed7953\"],[0.7777777777777778,\"#fb9f3a\"],[0.8888888888888888,\"#fdca26\"],[1.0,\"#f0f921\"]]}],\"choropleth\":[{\"type\":\"choropleth\",\"colorbar\":{\"outlinewidth\":0,\"ticks\":\"\"}}],\"histogram2d\":[{\"type\":\"histogram2d\",\"colorbar\":{\"outlinewidth\":0,\"ticks\":\"\"},\"colorscale\":[[0.0,\"#0d0887\"],[0.1111111111111111,\"#46039f\"],[0.2222222222222222,\"#7201a8\"],[0.3333333333333333,\"#9c179e\"],[0.4444444444444444,\"#bd3786\"],[0.5555555555555556,\"#d8576b\"],[0.6666666666666666,\"#ed7953\"],[0.7777777777777778,\"#fb9f3a\"],[0.8888888888888888,\"#fdca26\"],[1.0,\"#f0f921\"]]}],\"heatmap\":[{\"type\":\"heatmap\",\"colorbar\":{\"outlinewidth\":0,\"ticks\":\"\"},\"colorscale\":[[0.0,\"#0d0887\"],[0.1111111111111111,\"#46039f\"],[0.2222222222222222,\"#7201a8\"],[0.3333333333333333,\"#9c179e\"],[0.4444444444444444,\"#bd3786\"],[0.5555555555555556,\"#d8576b\"],[0.6666666666666666,\"#ed7953\"],[0.7777777777777778,\"#fb9f3a\"],[0.8888888888888888,\"#fdca26\"],[1.0,\"#f0f921\"]]}],\"heatmapgl\":[{\"type\":\"heatmapgl\",\"colorbar\":{\"outlinewidth\":0,\"ticks\":\"\"},\"colorscale\":[[0.0,\"#0d0887\"],[0.1111111111111111,\"#46039f\"],[0.2222222222222222,\"#7201a8\"],[0.3333333333333333,\"#9c179e\"],[0.4444444444444444,\"#bd3786\"],[0.5555555555555556,\"#d8576b\"],[0.6666666666666666,\"#ed7953\"],[0.7777777777777778,\"#fb9f3a\"],[0.8888888888888888,\"#fdca26\"],[1.0,\"#f0f921\"]]}],\"contourcarpet\":[{\"type\":\"contourcarpet\",\"colorbar\":{\"outlinewidth\":0,\"ticks\":\"\"}}],\"contour\":[{\"type\":\"contour\",\"colorbar\":{\"outlinewidth\":0,\"ticks\":\"\"},\"colorscale\":[[0.0,\"#0d0887\"],[0.1111111111111111,\"#46039f\"],[0.2222222222222222,\"#7201a8\"],[0.3333333333333333,\"#9c179e\"],[0.4444444444444444,\"#bd3786\"],[0.5555555555555556,\"#d8576b\"],[0.6666666666666666,\"#ed7953\"],[0.7777777777777778,\"#fb9f3a\"],[0.8888888888888888,\"#fdca26\"],[1.0,\"#f0f921\"]]}],\"surface\":[{\"type\":\"surface\",\"colorbar\":{\"outlinewidth\":0,\"ticks\":\"\"},\"colorscale\":[[0.0,\"#0d0887\"],[0.1111111111111111,\"#46039f\"],[0.2222222222222222,\"#7201a8\"],[0.3333333333333333,\"#9c179e\"],[0.4444444444444444,\"#bd3786\"],[0.5555555555555556,\"#d8576b\"],[0.6666666666666666,\"#ed7953\"],[0.7777777777777778,\"#fb9f3a\"],[0.8888888888888888,\"#fdca26\"],[1.0,\"#f0f921\"]]}],\"mesh3d\":[{\"type\":\"mesh3d\",\"colorbar\":{\"outlinewidth\":0,\"ticks\":\"\"}}],\"scatter\":[{\"fillpattern\":{\"fillmode\":\"overlay\",\"size\":10,\"solidity\":0.2},\"type\":\"scatter\"}],\"parcoords\":[{\"type\":\"parcoords\",\"line\":{\"colorbar\":{\"outlinewidth\":0,\"ticks\":\"\"}}}],\"scatterpolargl\":[{\"type\":\"scatterpolargl\",\"marker\":{\"colorbar\":{\"outlinewidth\":0,\"ticks\":\"\"}}}],\"bar\":[{\"error_x\":{\"color\":\"#2a3f5f\"},\"error_y\":{\"color\":\"#2a3f5f\"},\"marker\":{\"line\":{\"color\":\"#E5ECF6\",\"width\":0.5},\"pattern\":{\"fillmode\":\"overlay\",\"size\":10,\"solidity\":0.2}},\"type\":\"bar\"}],\"scattergeo\":[{\"type\":\"scattergeo\",\"marker\":{\"colorbar\":{\"outlinewidth\":0,\"ticks\":\"\"}}}],\"scatterpolar\":[{\"type\":\"scatterpolar\",\"marker\":{\"colorbar\":{\"outlinewidth\":0,\"ticks\":\"\"}}}],\"histogram\":[{\"marker\":{\"pattern\":{\"fillmode\":\"overlay\",\"size\":10,\"solidity\":0.2}},\"type\":\"histogram\"}],\"scattergl\":[{\"type\":\"scattergl\",\"marker\":{\"colorbar\":{\"outlinewidth\":0,\"ticks\":\"\"}}}],\"scatter3d\":[{\"type\":\"scatter3d\",\"line\":{\"colorbar\":{\"outlinewidth\":0,\"ticks\":\"\"}},\"marker\":{\"colorbar\":{\"outlinewidth\":0,\"ticks\":\"\"}}}],\"scattermapbox\":[{\"type\":\"scattermapbox\",\"marker\":{\"colorbar\":{\"outlinewidth\":0,\"ticks\":\"\"}}}],\"scatterternary\":[{\"type\":\"scatterternary\",\"marker\":{\"colorbar\":{\"outlinewidth\":0,\"ticks\":\"\"}}}],\"scattercarpet\":[{\"type\":\"scattercarpet\",\"marker\":{\"colorbar\":{\"outlinewidth\":0,\"ticks\":\"\"}}}],\"carpet\":[{\"aaxis\":{\"endlinecolor\":\"#2a3f5f\",\"gridcolor\":\"white\",\"linecolor\":\"white\",\"minorgridcolor\":\"white\",\"startlinecolor\":\"#2a3f5f\"},\"baxis\":{\"endlinecolor\":\"#2a3f5f\",\"gridcolor\":\"white\",\"linecolor\":\"white\",\"minorgridcolor\":\"white\",\"startlinecolor\":\"#2a3f5f\"},\"type\":\"carpet\"}],\"table\":[{\"cells\":{\"fill\":{\"color\":\"#EBF0F8\"},\"line\":{\"color\":\"white\"}},\"header\":{\"fill\":{\"color\":\"#C8D4E3\"},\"line\":{\"color\":\"white\"}},\"type\":\"table\"}],\"barpolar\":[{\"marker\":{\"line\":{\"color\":\"#E5ECF6\",\"width\":0.5},\"pattern\":{\"fillmode\":\"overlay\",\"size\":10,\"solidity\":0.2}},\"type\":\"barpolar\"}],\"pie\":[{\"automargin\":true,\"type\":\"pie\"}]},\"layout\":{\"autotypenumbers\":\"strict\",\"colorway\":[\"#636efa\",\"#EF553B\",\"#00cc96\",\"#ab63fa\",\"#FFA15A\",\"#19d3f3\",\"#FF6692\",\"#B6E880\",\"#FF97FF\",\"#FECB52\"],\"font\":{\"color\":\"#2a3f5f\"},\"hovermode\":\"closest\",\"hoverlabel\":{\"align\":\"left\"},\"paper_bgcolor\":\"white\",\"plot_bgcolor\":\"#E5ECF6\",\"polar\":{\"bgcolor\":\"#E5ECF6\",\"angularaxis\":{\"gridcolor\":\"white\",\"linecolor\":\"white\",\"ticks\":\"\"},\"radialaxis\":{\"gridcolor\":\"white\",\"linecolor\":\"white\",\"ticks\":\"\"}},\"ternary\":{\"bgcolor\":\"#E5ECF6\",\"aaxis\":{\"gridcolor\":\"white\",\"linecolor\":\"white\",\"ticks\":\"\"},\"baxis\":{\"gridcolor\":\"white\",\"linecolor\":\"white\",\"ticks\":\"\"},\"caxis\":{\"gridcolor\":\"white\",\"linecolor\":\"white\",\"ticks\":\"\"}},\"coloraxis\":{\"colorbar\":{\"outlinewidth\":0,\"ticks\":\"\"}},\"colorscale\":{\"sequential\":[[0.0,\"#0d0887\"],[0.1111111111111111,\"#46039f\"],[0.2222222222222222,\"#7201a8\"],[0.3333333333333333,\"#9c179e\"],[0.4444444444444444,\"#bd3786\"],[0.5555555555555556,\"#d8576b\"],[0.6666666666666666,\"#ed7953\"],[0.7777777777777778,\"#fb9f3a\"],[0.8888888888888888,\"#fdca26\"],[1.0,\"#f0f921\"]],\"sequentialminus\":[[0.0,\"#0d0887\"],[0.1111111111111111,\"#46039f\"],[0.2222222222222222,\"#7201a8\"],[0.3333333333333333,\"#9c179e\"],[0.4444444444444444,\"#bd3786\"],[0.5555555555555556,\"#d8576b\"],[0.6666666666666666,\"#ed7953\"],[0.7777777777777778,\"#fb9f3a\"],[0.8888888888888888,\"#fdca26\"],[1.0,\"#f0f921\"]],\"diverging\":[[0,\"#8e0152\"],[0.1,\"#c51b7d\"],[0.2,\"#de77ae\"],[0.3,\"#f1b6da\"],[0.4,\"#fde0ef\"],[0.5,\"#f7f7f7\"],[0.6,\"#e6f5d0\"],[0.7,\"#b8e186\"],[0.8,\"#7fbc41\"],[0.9,\"#4d9221\"],[1,\"#276419\"]]},\"xaxis\":{\"gridcolor\":\"white\",\"linecolor\":\"white\",\"ticks\":\"\",\"title\":{\"standoff\":15},\"zerolinecolor\":\"white\",\"automargin\":true,\"zerolinewidth\":2},\"yaxis\":{\"gridcolor\":\"white\",\"linecolor\":\"white\",\"ticks\":\"\",\"title\":{\"standoff\":15},\"zerolinecolor\":\"white\",\"automargin\":true,\"zerolinewidth\":2},\"scene\":{\"xaxis\":{\"backgroundcolor\":\"#E5ECF6\",\"gridcolor\":\"white\",\"linecolor\":\"white\",\"showbackground\":true,\"ticks\":\"\",\"zerolinecolor\":\"white\",\"gridwidth\":2},\"yaxis\":{\"backgroundcolor\":\"#E5ECF6\",\"gridcolor\":\"white\",\"linecolor\":\"white\",\"showbackground\":true,\"ticks\":\"\",\"zerolinecolor\":\"white\",\"gridwidth\":2},\"zaxis\":{\"backgroundcolor\":\"#E5ECF6\",\"gridcolor\":\"white\",\"linecolor\":\"white\",\"showbackground\":true,\"ticks\":\"\",\"zerolinecolor\":\"white\",\"gridwidth\":2}},\"shapedefaults\":{\"line\":{\"color\":\"#2a3f5f\"}},\"annotationdefaults\":{\"arrowcolor\":\"#2a3f5f\",\"arrowhead\":0,\"arrowwidth\":1},\"geo\":{\"bgcolor\":\"white\",\"landcolor\":\"#E5ECF6\",\"subunitcolor\":\"white\",\"showland\":true,\"showlakes\":true,\"lakecolor\":\"white\"},\"title\":{\"x\":0.05},\"mapbox\":{\"style\":\"light\"}}}},                        {\"responsive\": true}                    ).then(function(){\n",
              "                            \n",
              "var gd = document.getElementById('117145ed-32b9-4936-a10e-aa051e18167a');\n",
              "var x = new MutationObserver(function (mutations, observer) {{\n",
              "        var display = window.getComputedStyle(gd).display;\n",
              "        if (!display || display === 'none') {{\n",
              "            console.log([gd, 'removed!']);\n",
              "            Plotly.purge(gd);\n",
              "            observer.disconnect();\n",
              "        }}\n",
              "}});\n",
              "\n",
              "// Listen for the removal of the full notebook cells\n",
              "var notebookContainer = gd.closest('#notebook-container');\n",
              "if (notebookContainer) {{\n",
              "    x.observe(notebookContainer, {childList: true});\n",
              "}}\n",
              "\n",
              "// Listen for the clearing of the current output cell\n",
              "var outputEl = gd.closest('.output');\n",
              "if (outputEl) {{\n",
              "    x.observe(outputEl, {childList: true});\n",
              "}}\n",
              "\n",
              "                        })                };                            </script>        </div>\n",
              "</body>\n",
              "</html>"
            ]
          },
          "metadata": {}
        }
      ]
    },
    {
      "cell_type": "markdown",
      "source": [
        "Паттерн степенной функции повторяется"
      ],
      "metadata": {
        "id": "lYLQFr05bcpX"
      }
    },
    {
      "cell_type": "markdown",
      "source": [
        "Видим, что тут дефолтный параметр альфа 1 сжатия, сделал всё прекрасно, лучше чем обычная регрессия, посмотрим на веса"
      ],
      "metadata": {
        "id": "7oOlSf68ZweR"
      }
    },
    {
      "cell_type": "code",
      "source": [
        "model_r_2.coef_"
      ],
      "metadata": {
        "colab": {
          "base_uri": "https://localhost:8080/"
        },
        "id": "J9Da-Le8aLKf",
        "outputId": "cd17e2db-417f-44c8-b490-f095746c5e2a"
      },
      "execution_count": null,
      "outputs": [
        {
          "output_type": "execute_result",
          "data": {
            "text/plain": [
              "array([[ 1.38557891e+00, -2.04710021e+00,  4.66150760e-01,\n",
              "         8.51008144e-03, -4.86922544e-04]])"
            ]
          },
          "metadata": {},
          "execution_count": 440
        }
      ]
    },
    {
      "cell_type": "code",
      "source": [
        "plot_weights(model_r_2.coef_)"
      ],
      "metadata": {
        "colab": {
          "base_uri": "https://localhost:8080/",
          "height": 542
        },
        "id": "PAHJ-4MPZ97k",
        "outputId": "d9ad9f5b-8bd2-41aa-b1b5-815b3ec46357"
      },
      "execution_count": null,
      "outputs": [
        {
          "output_type": "display_data",
          "data": {
            "text/html": [
              "<html>\n",
              "<head><meta charset=\"utf-8\" /></head>\n",
              "<body>\n",
              "    <div>            <script src=\"https://cdnjs.cloudflare.com/ajax/libs/mathjax/2.7.5/MathJax.js?config=TeX-AMS-MML_SVG\"></script><script type=\"text/javascript\">if (window.MathJax && window.MathJax.Hub && window.MathJax.Hub.Config) {window.MathJax.Hub.Config({SVG: {font: \"STIX-Web\"}});}</script>                <script type=\"text/javascript\">window.PlotlyConfig = {MathJaxConfig: 'local'};</script>\n",
              "        <script src=\"https://cdn.plot.ly/plotly-2.16.1.min.js\"></script>                <div id=\"3d062e6b-9461-4646-bcc4-e82fd8efdc91\" class=\"plotly-graph-div\" style=\"height:525px; width:100%;\"></div>            <script type=\"text/javascript\">                                    window.PLOTLYENV=window.PLOTLYENV || {};                                    if (document.getElementById(\"3d062e6b-9461-4646-bcc4-e82fd8efdc91\")) {                    Plotly.newPlot(                        \"3d062e6b-9461-4646-bcc4-e82fd8efdc91\",                        [{\"alignmentgroup\":\"True\",\"hovertemplate\":\"c=>=0<br>x=%{x}<br>y=%{y}<extra></extra>\",\"legendgroup\":\">=0\",\"marker\":{\"color\":\"blue\",\"pattern\":{\"shape\":\"\"}},\"name\":\">=0\",\"offsetgroup\":\">=0\",\"orientation\":\"v\",\"showlegend\":true,\"textposition\":\"auto\",\"x\":[\"w0\",\"w2\",\"w3\"],\"xaxis\":\"x\",\"y\":[1.3855789108653422,0.4661507596095221,0.008510081444085011],\"yaxis\":\"y\",\"type\":\"bar\"},{\"alignmentgroup\":\"True\",\"hovertemplate\":\"c=<0<br>x=%{x}<br>y=%{y}<extra></extra>\",\"legendgroup\":\"<0\",\"marker\":{\"color\":\"red\",\"pattern\":{\"shape\":\"\"}},\"name\":\"<0\",\"offsetgroup\":\"<0\",\"orientation\":\"v\",\"showlegend\":true,\"textposition\":\"auto\",\"x\":[\"w1\",\"w4\"],\"xaxis\":\"x\",\"y\":[-2.0471002127019386,-0.00048692254380786965],\"yaxis\":\"y\",\"type\":\"bar\"}],                        {\"template\":{\"data\":{\"histogram2dcontour\":[{\"type\":\"histogram2dcontour\",\"colorbar\":{\"outlinewidth\":0,\"ticks\":\"\"},\"colorscale\":[[0.0,\"#0d0887\"],[0.1111111111111111,\"#46039f\"],[0.2222222222222222,\"#7201a8\"],[0.3333333333333333,\"#9c179e\"],[0.4444444444444444,\"#bd3786\"],[0.5555555555555556,\"#d8576b\"],[0.6666666666666666,\"#ed7953\"],[0.7777777777777778,\"#fb9f3a\"],[0.8888888888888888,\"#fdca26\"],[1.0,\"#f0f921\"]]}],\"choropleth\":[{\"type\":\"choropleth\",\"colorbar\":{\"outlinewidth\":0,\"ticks\":\"\"}}],\"histogram2d\":[{\"type\":\"histogram2d\",\"colorbar\":{\"outlinewidth\":0,\"ticks\":\"\"},\"colorscale\":[[0.0,\"#0d0887\"],[0.1111111111111111,\"#46039f\"],[0.2222222222222222,\"#7201a8\"],[0.3333333333333333,\"#9c179e\"],[0.4444444444444444,\"#bd3786\"],[0.5555555555555556,\"#d8576b\"],[0.6666666666666666,\"#ed7953\"],[0.7777777777777778,\"#fb9f3a\"],[0.8888888888888888,\"#fdca26\"],[1.0,\"#f0f921\"]]}],\"heatmap\":[{\"type\":\"heatmap\",\"colorbar\":{\"outlinewidth\":0,\"ticks\":\"\"},\"colorscale\":[[0.0,\"#0d0887\"],[0.1111111111111111,\"#46039f\"],[0.2222222222222222,\"#7201a8\"],[0.3333333333333333,\"#9c179e\"],[0.4444444444444444,\"#bd3786\"],[0.5555555555555556,\"#d8576b\"],[0.6666666666666666,\"#ed7953\"],[0.7777777777777778,\"#fb9f3a\"],[0.8888888888888888,\"#fdca26\"],[1.0,\"#f0f921\"]]}],\"heatmapgl\":[{\"type\":\"heatmapgl\",\"colorbar\":{\"outlinewidth\":0,\"ticks\":\"\"},\"colorscale\":[[0.0,\"#0d0887\"],[0.1111111111111111,\"#46039f\"],[0.2222222222222222,\"#7201a8\"],[0.3333333333333333,\"#9c179e\"],[0.4444444444444444,\"#bd3786\"],[0.5555555555555556,\"#d8576b\"],[0.6666666666666666,\"#ed7953\"],[0.7777777777777778,\"#fb9f3a\"],[0.8888888888888888,\"#fdca26\"],[1.0,\"#f0f921\"]]}],\"contourcarpet\":[{\"type\":\"contourcarpet\",\"colorbar\":{\"outlinewidth\":0,\"ticks\":\"\"}}],\"contour\":[{\"type\":\"contour\",\"colorbar\":{\"outlinewidth\":0,\"ticks\":\"\"},\"colorscale\":[[0.0,\"#0d0887\"],[0.1111111111111111,\"#46039f\"],[0.2222222222222222,\"#7201a8\"],[0.3333333333333333,\"#9c179e\"],[0.4444444444444444,\"#bd3786\"],[0.5555555555555556,\"#d8576b\"],[0.6666666666666666,\"#ed7953\"],[0.7777777777777778,\"#fb9f3a\"],[0.8888888888888888,\"#fdca26\"],[1.0,\"#f0f921\"]]}],\"surface\":[{\"type\":\"surface\",\"colorbar\":{\"outlinewidth\":0,\"ticks\":\"\"},\"colorscale\":[[0.0,\"#0d0887\"],[0.1111111111111111,\"#46039f\"],[0.2222222222222222,\"#7201a8\"],[0.3333333333333333,\"#9c179e\"],[0.4444444444444444,\"#bd3786\"],[0.5555555555555556,\"#d8576b\"],[0.6666666666666666,\"#ed7953\"],[0.7777777777777778,\"#fb9f3a\"],[0.8888888888888888,\"#fdca26\"],[1.0,\"#f0f921\"]]}],\"mesh3d\":[{\"type\":\"mesh3d\",\"colorbar\":{\"outlinewidth\":0,\"ticks\":\"\"}}],\"scatter\":[{\"fillpattern\":{\"fillmode\":\"overlay\",\"size\":10,\"solidity\":0.2},\"type\":\"scatter\"}],\"parcoords\":[{\"type\":\"parcoords\",\"line\":{\"colorbar\":{\"outlinewidth\":0,\"ticks\":\"\"}}}],\"scatterpolargl\":[{\"type\":\"scatterpolargl\",\"marker\":{\"colorbar\":{\"outlinewidth\":0,\"ticks\":\"\"}}}],\"bar\":[{\"error_x\":{\"color\":\"#2a3f5f\"},\"error_y\":{\"color\":\"#2a3f5f\"},\"marker\":{\"line\":{\"color\":\"#E5ECF6\",\"width\":0.5},\"pattern\":{\"fillmode\":\"overlay\",\"size\":10,\"solidity\":0.2}},\"type\":\"bar\"}],\"scattergeo\":[{\"type\":\"scattergeo\",\"marker\":{\"colorbar\":{\"outlinewidth\":0,\"ticks\":\"\"}}}],\"scatterpolar\":[{\"type\":\"scatterpolar\",\"marker\":{\"colorbar\":{\"outlinewidth\":0,\"ticks\":\"\"}}}],\"histogram\":[{\"marker\":{\"pattern\":{\"fillmode\":\"overlay\",\"size\":10,\"solidity\":0.2}},\"type\":\"histogram\"}],\"scattergl\":[{\"type\":\"scattergl\",\"marker\":{\"colorbar\":{\"outlinewidth\":0,\"ticks\":\"\"}}}],\"scatter3d\":[{\"type\":\"scatter3d\",\"line\":{\"colorbar\":{\"outlinewidth\":0,\"ticks\":\"\"}},\"marker\":{\"colorbar\":{\"outlinewidth\":0,\"ticks\":\"\"}}}],\"scattermapbox\":[{\"type\":\"scattermapbox\",\"marker\":{\"colorbar\":{\"outlinewidth\":0,\"ticks\":\"\"}}}],\"scatterternary\":[{\"type\":\"scatterternary\",\"marker\":{\"colorbar\":{\"outlinewidth\":0,\"ticks\":\"\"}}}],\"scattercarpet\":[{\"type\":\"scattercarpet\",\"marker\":{\"colorbar\":{\"outlinewidth\":0,\"ticks\":\"\"}}}],\"carpet\":[{\"aaxis\":{\"endlinecolor\":\"#2a3f5f\",\"gridcolor\":\"white\",\"linecolor\":\"white\",\"minorgridcolor\":\"white\",\"startlinecolor\":\"#2a3f5f\"},\"baxis\":{\"endlinecolor\":\"#2a3f5f\",\"gridcolor\":\"white\",\"linecolor\":\"white\",\"minorgridcolor\":\"white\",\"startlinecolor\":\"#2a3f5f\"},\"type\":\"carpet\"}],\"table\":[{\"cells\":{\"fill\":{\"color\":\"#EBF0F8\"},\"line\":{\"color\":\"white\"}},\"header\":{\"fill\":{\"color\":\"#C8D4E3\"},\"line\":{\"color\":\"white\"}},\"type\":\"table\"}],\"barpolar\":[{\"marker\":{\"line\":{\"color\":\"#E5ECF6\",\"width\":0.5},\"pattern\":{\"fillmode\":\"overlay\",\"size\":10,\"solidity\":0.2}},\"type\":\"barpolar\"}],\"pie\":[{\"automargin\":true,\"type\":\"pie\"}]},\"layout\":{\"autotypenumbers\":\"strict\",\"colorway\":[\"#636efa\",\"#EF553B\",\"#00cc96\",\"#ab63fa\",\"#FFA15A\",\"#19d3f3\",\"#FF6692\",\"#B6E880\",\"#FF97FF\",\"#FECB52\"],\"font\":{\"color\":\"#2a3f5f\"},\"hovermode\":\"closest\",\"hoverlabel\":{\"align\":\"left\"},\"paper_bgcolor\":\"white\",\"plot_bgcolor\":\"#E5ECF6\",\"polar\":{\"bgcolor\":\"#E5ECF6\",\"angularaxis\":{\"gridcolor\":\"white\",\"linecolor\":\"white\",\"ticks\":\"\"},\"radialaxis\":{\"gridcolor\":\"white\",\"linecolor\":\"white\",\"ticks\":\"\"}},\"ternary\":{\"bgcolor\":\"#E5ECF6\",\"aaxis\":{\"gridcolor\":\"white\",\"linecolor\":\"white\",\"ticks\":\"\"},\"baxis\":{\"gridcolor\":\"white\",\"linecolor\":\"white\",\"ticks\":\"\"},\"caxis\":{\"gridcolor\":\"white\",\"linecolor\":\"white\",\"ticks\":\"\"}},\"coloraxis\":{\"colorbar\":{\"outlinewidth\":0,\"ticks\":\"\"}},\"colorscale\":{\"sequential\":[[0.0,\"#0d0887\"],[0.1111111111111111,\"#46039f\"],[0.2222222222222222,\"#7201a8\"],[0.3333333333333333,\"#9c179e\"],[0.4444444444444444,\"#bd3786\"],[0.5555555555555556,\"#d8576b\"],[0.6666666666666666,\"#ed7953\"],[0.7777777777777778,\"#fb9f3a\"],[0.8888888888888888,\"#fdca26\"],[1.0,\"#f0f921\"]],\"sequentialminus\":[[0.0,\"#0d0887\"],[0.1111111111111111,\"#46039f\"],[0.2222222222222222,\"#7201a8\"],[0.3333333333333333,\"#9c179e\"],[0.4444444444444444,\"#bd3786\"],[0.5555555555555556,\"#d8576b\"],[0.6666666666666666,\"#ed7953\"],[0.7777777777777778,\"#fb9f3a\"],[0.8888888888888888,\"#fdca26\"],[1.0,\"#f0f921\"]],\"diverging\":[[0,\"#8e0152\"],[0.1,\"#c51b7d\"],[0.2,\"#de77ae\"],[0.3,\"#f1b6da\"],[0.4,\"#fde0ef\"],[0.5,\"#f7f7f7\"],[0.6,\"#e6f5d0\"],[0.7,\"#b8e186\"],[0.8,\"#7fbc41\"],[0.9,\"#4d9221\"],[1,\"#276419\"]]},\"xaxis\":{\"gridcolor\":\"white\",\"linecolor\":\"white\",\"ticks\":\"\",\"title\":{\"standoff\":15},\"zerolinecolor\":\"white\",\"automargin\":true,\"zerolinewidth\":2},\"yaxis\":{\"gridcolor\":\"white\",\"linecolor\":\"white\",\"ticks\":\"\",\"title\":{\"standoff\":15},\"zerolinecolor\":\"white\",\"automargin\":true,\"zerolinewidth\":2},\"scene\":{\"xaxis\":{\"backgroundcolor\":\"#E5ECF6\",\"gridcolor\":\"white\",\"linecolor\":\"white\",\"showbackground\":true,\"ticks\":\"\",\"zerolinecolor\":\"white\",\"gridwidth\":2},\"yaxis\":{\"backgroundcolor\":\"#E5ECF6\",\"gridcolor\":\"white\",\"linecolor\":\"white\",\"showbackground\":true,\"ticks\":\"\",\"zerolinecolor\":\"white\",\"gridwidth\":2},\"zaxis\":{\"backgroundcolor\":\"#E5ECF6\",\"gridcolor\":\"white\",\"linecolor\":\"white\",\"showbackground\":true,\"ticks\":\"\",\"zerolinecolor\":\"white\",\"gridwidth\":2}},\"shapedefaults\":{\"line\":{\"color\":\"#2a3f5f\"}},\"annotationdefaults\":{\"arrowcolor\":\"#2a3f5f\",\"arrowhead\":0,\"arrowwidth\":1},\"geo\":{\"bgcolor\":\"white\",\"landcolor\":\"#E5ECF6\",\"subunitcolor\":\"white\",\"showland\":true,\"showlakes\":true,\"lakecolor\":\"white\"},\"title\":{\"x\":0.05},\"mapbox\":{\"style\":\"light\"}}},\"xaxis\":{\"anchor\":\"y\",\"domain\":[0.0,1.0],\"title\":{\"text\":\"x\"},\"categoryorder\":\"array\",\"categoryarray\":[\"w0\",\"w1\",\"w2\",\"w3\",\"w4\"]},\"yaxis\":{\"anchor\":\"x\",\"domain\":[0.0,1.0],\"title\":{\"text\":\"y\"}},\"legend\":{\"title\":{\"text\":\"c\"},\"tracegroupgap\":0},\"margin\":{\"t\":60},\"barmode\":\"relative\"},                        {\"responsive\": true}                    ).then(function(){\n",
              "                            \n",
              "var gd = document.getElementById('3d062e6b-9461-4646-bcc4-e82fd8efdc91');\n",
              "var x = new MutationObserver(function (mutations, observer) {{\n",
              "        var display = window.getComputedStyle(gd).display;\n",
              "        if (!display || display === 'none') {{\n",
              "            console.log([gd, 'removed!']);\n",
              "            Plotly.purge(gd);\n",
              "            observer.disconnect();\n",
              "        }}\n",
              "}});\n",
              "\n",
              "// Listen for the removal of the full notebook cells\n",
              "var notebookContainer = gd.closest('#notebook-container');\n",
              "if (notebookContainer) {{\n",
              "    x.observe(notebookContainer, {childList: true});\n",
              "}}\n",
              "\n",
              "// Listen for the clearing of the current output cell\n",
              "var outputEl = gd.closest('.output');\n",
              "if (outputEl) {{\n",
              "    x.observe(outputEl, {childList: true});\n",
              "}}\n",
              "\n",
              "                        })                };                            </script>        </div>\n",
              "</body>\n",
              "</html>"
            ]
          },
          "metadata": {}
        }
      ]
    },
    {
      "cell_type": "markdown",
      "source": [
        "Как видно чуть выше, веса не нулевые  и отличаются от обычной регресии, чего мы и добивались"
      ],
      "metadata": {
        "id": "eSsMesJaaNdx"
      }
    },
    {
      "cell_type": "markdown",
      "source": [
        "### Lasso регуляризация"
      ],
      "metadata": {
        "id": "xx73wtYHbBVZ"
      }
    },
    {
      "cell_type": "code",
      "source": [
        "model_l_2 = Lasso().fit(X_train_2_, y_train_2)\n",
        "\n",
        "y_pred_l_2 = model_l_2.predict(X_test_2_)\n",
        "\n",
        "print(f'R2 score: {r2_score(y_test_2, y_pred_l_2)}')\n",
        "print(f'MAE: {mean_absolute_error(y_test_2, y_pred_l_2)}')\n",
        "print(f'MSE: {mean_squared_error(y_test_2, y_pred_l_2)}')"
      ],
      "metadata": {
        "colab": {
          "base_uri": "https://localhost:8080/"
        },
        "id": "xnhEMsUcbFPU",
        "outputId": "ab1ef281-38bf-4e50-f54a-1018dc6c2563"
      },
      "execution_count": null,
      "outputs": [
        {
          "output_type": "stream",
          "name": "stdout",
          "text": [
            "R2 score: 0.9896131429184093\n",
            "MAE: 2.708945597678861\n",
            "MSE: 11.660491524755765\n"
          ]
        }
      ]
    },
    {
      "cell_type": "markdown",
      "source": [
        "Хорошие результаты лучше чем у Ridge, посмотрим на график"
      ],
      "metadata": {
        "id": "8ZKpDH8HbMqm"
      }
    },
    {
      "cell_type": "code",
      "source": [
        "plot_test(X_train_2, X_test_2, y_train_2, y_test_2, y_pred_l_2)"
      ],
      "metadata": {
        "colab": {
          "base_uri": "https://localhost:8080/",
          "height": 542
        },
        "id": "ZvE9yHAme10i",
        "outputId": "4ecdf6f0-64f9-4a4e-9091-6c9aa82efe72"
      },
      "execution_count": null,
      "outputs": [
        {
          "output_type": "display_data",
          "data": {
            "text/html": [
              "<html>\n",
              "<head><meta charset=\"utf-8\" /></head>\n",
              "<body>\n",
              "    <div>            <script src=\"https://cdnjs.cloudflare.com/ajax/libs/mathjax/2.7.5/MathJax.js?config=TeX-AMS-MML_SVG\"></script><script type=\"text/javascript\">if (window.MathJax && window.MathJax.Hub && window.MathJax.Hub.Config) {window.MathJax.Hub.Config({SVG: {font: \"STIX-Web\"}});}</script>                <script type=\"text/javascript\">window.PlotlyConfig = {MathJaxConfig: 'local'};</script>\n",
              "        <script src=\"https://cdn.plot.ly/plotly-2.16.1.min.js\"></script>                <div id=\"7c284175-d536-4ffb-a9c1-017e3e4805db\" class=\"plotly-graph-div\" style=\"height:525px; width:100%;\"></div>            <script type=\"text/javascript\">                                    window.PLOTLYENV=window.PLOTLYENV || {};                                    if (document.getElementById(\"7c284175-d536-4ffb-a9c1-017e3e4805db\")) {                    Plotly.newPlot(                        \"7c284175-d536-4ffb-a9c1-017e3e4805db\",                        [{\"hovertemplate\":\"train=%{x}<br>y_train=%{y}<extra></extra>\",\"legendgroup\":\"\",\"marker\":{\"color\":\"#636efa\",\"symbol\":\"circle\"},\"mode\":\"markers\",\"name\":\"train\",\"orientation\":\"v\",\"showlegend\":true,\"x\":[3.176902194291168,3.696999168296754,2.4657805107115838,2.405396760293406,2.043798769916191,10.08261372889434,2.098168543679833,2.4215770515415986,-1.6935872213217,2.439844964779351,2.2045939421639176,1.627779962544499,1.6032224586068757,-4.192490363892475,5.705330609390097,-1.5519554822034807,1.3557946696333856,-3.3399333238780935,3.6390177434226416,6.254580884095879,-0.8731328317032157,2.300279326326681,1.4564136835180541,3.191587052572899,-1.7269625837079667,6.582294522793645,1.0473699426373548,4.586669858631753,5.396333279461205,0.6508856085265537,2.3457082676347007,-0.5719032489207669,2.785847481712171,1.845456266006568,3.4073602271269676,2.3737942081496057,5.854659052262405,2.5485730947859206,-3.5098027963531493,0.7638403088927994,3.003771029858586,1.9505567013782157,3.0264613297458056,-1.1350347136496728,0.4967343921726102,6.784925083016726,3.435022035974786,-0.9860536202808836,4.577073308832608,4.9247398800035835,0.24537248038844695,2.451275419453287,3.077058943030492,2.9159461648661,4.866829165148277,3.854947069499043,6.2995423098763315,-0.13382476529360687,-4.4835262185299545,7.26819869958372,4.074331858780185,1.5563224118120407,-2.8712713575816498,-2.089752525436234,0.6371114398637314,1.770874123392306,1.0195131542562592,3.528779378974056,4.606877957073752,0.15282714052297997,3.4378903087514567,3.71276093889743,7.766441352588822,4.215061921392927,3.263067574782874,-0.18576300077130137,4.416493988083415,-0.4657007920035605,3.9663531633273883,-2.2218030041800736],\"xaxis\":\"x\",\"y\":[-3.12840630937368,-2.7143838423331053,-2.905100888155544,-2.71605114764343,-0.4203221683256597,318.61352249784187,-3.872986419564399,-0.6300299469948989,-14.5170792986966,-8.363448769078229,-2.9067646835628,-2.5010472316419774,-4.381400812961458,-74.64153070380203,32.35617449247697,-11.860321155976742,3.392550470908339,-50.25075284486093,-1.894945082861493,49.12753424205575,-0.6403033064587644,-7.68213928386344,-1.2349585732940214,-5.405826265134439,-13.760770413691802,60.86859770037245,-3.385893617203489,8.261420731747776,28.264500185170533,-8.901051717236177,-7.5002844069565935,-5.534563765305547,-6.270251931772094,-4.538990663507821,-3.721030894301881,-1.8905393451987353,34.98243122901118,0.2622176215000618,-50.231506933509095,0.0506486577544385,-1.2614352753765434,-6.018057450737759,-5.119623172876805,-9.080410573666997,1.3486562755294131,73.9990838770385,0.9516768401198958,-7.443601729045207,8.808331551993746,11.958297927341052,-3.490797652873502,-6.3134344096330794,-2.579053666078833,-4.782290947322596,6.792441620148917,0.6622355772246156,52.89629672391331,-6.942996510974818,-88.54832322873219,93.74023460674655,5.263441375761163,-2.95242070328683,-28.259878451412458,-17.952650504158978,-4.549553889633739,-4.875095359752697,-9.783168421678603,2.51335844886337,2.1849856851012603,-3.4972131943548157,-4.387951145695952,-4.342454372215538,113.56871220327166,3.713315498723118,-0.6392014049729706,0.8719703775393883,4.199858787370284,-3.068184191385531,-0.4436308837247491,-24.21150027403096],\"yaxis\":\"y\",\"type\":\"scatter\"},{\"hovertemplate\":\"X_test=%{x}<br>y_test=%{y}<extra></extra>\",\"legendgroup\":\"\",\"marker\":{\"color\":\"red\",\"symbol\":\"circle\"},\"mode\":\"markers\",\"name\":\"test\",\"orientation\":\"v\",\"showlegend\":true,\"x\":[1.2288303781808187,2.114781332367747,8.021140966875933,-0.45000099744957645,-2.695333267980776,2.2803957283700136,2.2666493812306583,3.1788153207806396,-1.5627805979637994,3.3268275046034743,2.013904876284309,-1.235739763479967,4.397685071589356,2.219515908909048,2.528469842644874,1.1901385955768196,5.106964466154951,1.1826083596187353,6.009624944474169,3.2829619508365537],\"xaxis\":\"x\",\"y\":[-4.646220936856789,-3.088971906492717,139.99696407131003,-9.82319139399156,-23.80642833904672,-5.8095968165211,-3.2518758068302223,-6.530654614205941,-13.657363184526751,-8.875133886399416,-4.879805129070302,-4.60868016125651,-0.6737243740818748,-6.968479040135748,-8.229081071132608,-5.961577445235417,15.659340214749795,-4.3841078711537325,39.86646487950849,-5.778696146352386],\"yaxis\":\"y\",\"type\":\"scatter\"},{\"hovertemplate\":\"X_test=%{x}<br>y_pred=%{y}<extra></extra>\",\"legendgroup\":\"\",\"marker\":{\"color\":\"lime\",\"symbol\":\"circle\"},\"mode\":\"markers\",\"name\":\"predictions\",\"orientation\":\"v\",\"showlegend\":true,\"x\":[1.2288303781808187,2.114781332367747,8.021140966875933,-0.45000099744957645,-2.695333267980776,2.2803957283700136,2.2666493812306583,3.1788153207806396,-1.5627805979637994,3.3268275046034743,2.013904876284309,-1.235739763479967,4.397685071589356,2.219515908909048,2.528469842644874,1.1901385955768196,5.106964466154951,1.1826083596187353,6.009624944474169,3.2829619508365537],\"xaxis\":\"x\",\"y\":[-4.520562852879404,-5.493981103866944,134.36545760208566,-3.4929534719691535,-26.094316882626647,-5.488769502231131,-5.492404309370336,-3.6150676978599,-9.198387158544893,-2.9261218455267595,-5.458898603739229,-6.639823705587675,6.46151413582169,-5.500334325559292,-5.3118182844494495,-4.457105913587451,18.018383741273755,-4.444700215711032,40.68995473816296,-3.1434955005310927],\"yaxis\":\"y\",\"type\":\"scatter\"},{\"hovertemplate\":\"<b>LOWESS trendline</b><br><br>X_test=%{x}<br>y_pred=%{y} <b>(trend)</b><extra></extra>\",\"legendgroup\":\"\",\"marker\":{\"color\":\"lime\",\"symbol\":\"circle\"},\"mode\":\"lines\",\"name\":\"\",\"showlegend\":true,\"x\":[-2.695333267980776,-1.5627805979637994,-1.235739763479967,-0.45000099744957645,1.1826083596187353,1.1901385955768196,1.2288303781808187,2.013904876284309,2.114781332367747,2.219515908909048,2.2666493812306583,2.2803957283700136,2.528469842644874,3.1788153207806396,3.2829619508365537,3.3268275046034743,4.397685071589356,5.106964466154951,6.009624944474169,8.021140966875933],\"xaxis\":\"x\",\"y\":[-26.094316882626647,-9.198387158544893,-6.639823705587675,-3.4929534719691535,-4.444700215711032,-4.457105913587451,-4.520562852879404,-5.458898603739229,-5.493981103866944,-5.500334325559292,-5.492404309370336,-5.488769502231131,-5.3118182844494495,-3.6150676978599,-3.1434955005310927,-2.9261218455267595,6.46151413582169,18.018383741273755,40.68995473816296,134.36545760208566],\"yaxis\":\"y\",\"type\":\"scatter\"}],                        {\"template\":{\"data\":{\"histogram2dcontour\":[{\"type\":\"histogram2dcontour\",\"colorbar\":{\"outlinewidth\":0,\"ticks\":\"\"},\"colorscale\":[[0.0,\"#0d0887\"],[0.1111111111111111,\"#46039f\"],[0.2222222222222222,\"#7201a8\"],[0.3333333333333333,\"#9c179e\"],[0.4444444444444444,\"#bd3786\"],[0.5555555555555556,\"#d8576b\"],[0.6666666666666666,\"#ed7953\"],[0.7777777777777778,\"#fb9f3a\"],[0.8888888888888888,\"#fdca26\"],[1.0,\"#f0f921\"]]}],\"choropleth\":[{\"type\":\"choropleth\",\"colorbar\":{\"outlinewidth\":0,\"ticks\":\"\"}}],\"histogram2d\":[{\"type\":\"histogram2d\",\"colorbar\":{\"outlinewidth\":0,\"ticks\":\"\"},\"colorscale\":[[0.0,\"#0d0887\"],[0.1111111111111111,\"#46039f\"],[0.2222222222222222,\"#7201a8\"],[0.3333333333333333,\"#9c179e\"],[0.4444444444444444,\"#bd3786\"],[0.5555555555555556,\"#d8576b\"],[0.6666666666666666,\"#ed7953\"],[0.7777777777777778,\"#fb9f3a\"],[0.8888888888888888,\"#fdca26\"],[1.0,\"#f0f921\"]]}],\"heatmap\":[{\"type\":\"heatmap\",\"colorbar\":{\"outlinewidth\":0,\"ticks\":\"\"},\"colorscale\":[[0.0,\"#0d0887\"],[0.1111111111111111,\"#46039f\"],[0.2222222222222222,\"#7201a8\"],[0.3333333333333333,\"#9c179e\"],[0.4444444444444444,\"#bd3786\"],[0.5555555555555556,\"#d8576b\"],[0.6666666666666666,\"#ed7953\"],[0.7777777777777778,\"#fb9f3a\"],[0.8888888888888888,\"#fdca26\"],[1.0,\"#f0f921\"]]}],\"heatmapgl\":[{\"type\":\"heatmapgl\",\"colorbar\":{\"outlinewidth\":0,\"ticks\":\"\"},\"colorscale\":[[0.0,\"#0d0887\"],[0.1111111111111111,\"#46039f\"],[0.2222222222222222,\"#7201a8\"],[0.3333333333333333,\"#9c179e\"],[0.4444444444444444,\"#bd3786\"],[0.5555555555555556,\"#d8576b\"],[0.6666666666666666,\"#ed7953\"],[0.7777777777777778,\"#fb9f3a\"],[0.8888888888888888,\"#fdca26\"],[1.0,\"#f0f921\"]]}],\"contourcarpet\":[{\"type\":\"contourcarpet\",\"colorbar\":{\"outlinewidth\":0,\"ticks\":\"\"}}],\"contour\":[{\"type\":\"contour\",\"colorbar\":{\"outlinewidth\":0,\"ticks\":\"\"},\"colorscale\":[[0.0,\"#0d0887\"],[0.1111111111111111,\"#46039f\"],[0.2222222222222222,\"#7201a8\"],[0.3333333333333333,\"#9c179e\"],[0.4444444444444444,\"#bd3786\"],[0.5555555555555556,\"#d8576b\"],[0.6666666666666666,\"#ed7953\"],[0.7777777777777778,\"#fb9f3a\"],[0.8888888888888888,\"#fdca26\"],[1.0,\"#f0f921\"]]}],\"surface\":[{\"type\":\"surface\",\"colorbar\":{\"outlinewidth\":0,\"ticks\":\"\"},\"colorscale\":[[0.0,\"#0d0887\"],[0.1111111111111111,\"#46039f\"],[0.2222222222222222,\"#7201a8\"],[0.3333333333333333,\"#9c179e\"],[0.4444444444444444,\"#bd3786\"],[0.5555555555555556,\"#d8576b\"],[0.6666666666666666,\"#ed7953\"],[0.7777777777777778,\"#fb9f3a\"],[0.8888888888888888,\"#fdca26\"],[1.0,\"#f0f921\"]]}],\"mesh3d\":[{\"type\":\"mesh3d\",\"colorbar\":{\"outlinewidth\":0,\"ticks\":\"\"}}],\"scatter\":[{\"fillpattern\":{\"fillmode\":\"overlay\",\"size\":10,\"solidity\":0.2},\"type\":\"scatter\"}],\"parcoords\":[{\"type\":\"parcoords\",\"line\":{\"colorbar\":{\"outlinewidth\":0,\"ticks\":\"\"}}}],\"scatterpolargl\":[{\"type\":\"scatterpolargl\",\"marker\":{\"colorbar\":{\"outlinewidth\":0,\"ticks\":\"\"}}}],\"bar\":[{\"error_x\":{\"color\":\"#2a3f5f\"},\"error_y\":{\"color\":\"#2a3f5f\"},\"marker\":{\"line\":{\"color\":\"#E5ECF6\",\"width\":0.5},\"pattern\":{\"fillmode\":\"overlay\",\"size\":10,\"solidity\":0.2}},\"type\":\"bar\"}],\"scattergeo\":[{\"type\":\"scattergeo\",\"marker\":{\"colorbar\":{\"outlinewidth\":0,\"ticks\":\"\"}}}],\"scatterpolar\":[{\"type\":\"scatterpolar\",\"marker\":{\"colorbar\":{\"outlinewidth\":0,\"ticks\":\"\"}}}],\"histogram\":[{\"marker\":{\"pattern\":{\"fillmode\":\"overlay\",\"size\":10,\"solidity\":0.2}},\"type\":\"histogram\"}],\"scattergl\":[{\"type\":\"scattergl\",\"marker\":{\"colorbar\":{\"outlinewidth\":0,\"ticks\":\"\"}}}],\"scatter3d\":[{\"type\":\"scatter3d\",\"line\":{\"colorbar\":{\"outlinewidth\":0,\"ticks\":\"\"}},\"marker\":{\"colorbar\":{\"outlinewidth\":0,\"ticks\":\"\"}}}],\"scattermapbox\":[{\"type\":\"scattermapbox\",\"marker\":{\"colorbar\":{\"outlinewidth\":0,\"ticks\":\"\"}}}],\"scatterternary\":[{\"type\":\"scatterternary\",\"marker\":{\"colorbar\":{\"outlinewidth\":0,\"ticks\":\"\"}}}],\"scattercarpet\":[{\"type\":\"scattercarpet\",\"marker\":{\"colorbar\":{\"outlinewidth\":0,\"ticks\":\"\"}}}],\"carpet\":[{\"aaxis\":{\"endlinecolor\":\"#2a3f5f\",\"gridcolor\":\"white\",\"linecolor\":\"white\",\"minorgridcolor\":\"white\",\"startlinecolor\":\"#2a3f5f\"},\"baxis\":{\"endlinecolor\":\"#2a3f5f\",\"gridcolor\":\"white\",\"linecolor\":\"white\",\"minorgridcolor\":\"white\",\"startlinecolor\":\"#2a3f5f\"},\"type\":\"carpet\"}],\"table\":[{\"cells\":{\"fill\":{\"color\":\"#EBF0F8\"},\"line\":{\"color\":\"white\"}},\"header\":{\"fill\":{\"color\":\"#C8D4E3\"},\"line\":{\"color\":\"white\"}},\"type\":\"table\"}],\"barpolar\":[{\"marker\":{\"line\":{\"color\":\"#E5ECF6\",\"width\":0.5},\"pattern\":{\"fillmode\":\"overlay\",\"size\":10,\"solidity\":0.2}},\"type\":\"barpolar\"}],\"pie\":[{\"automargin\":true,\"type\":\"pie\"}]},\"layout\":{\"autotypenumbers\":\"strict\",\"colorway\":[\"#636efa\",\"#EF553B\",\"#00cc96\",\"#ab63fa\",\"#FFA15A\",\"#19d3f3\",\"#FF6692\",\"#B6E880\",\"#FF97FF\",\"#FECB52\"],\"font\":{\"color\":\"#2a3f5f\"},\"hovermode\":\"closest\",\"hoverlabel\":{\"align\":\"left\"},\"paper_bgcolor\":\"white\",\"plot_bgcolor\":\"#E5ECF6\",\"polar\":{\"bgcolor\":\"#E5ECF6\",\"angularaxis\":{\"gridcolor\":\"white\",\"linecolor\":\"white\",\"ticks\":\"\"},\"radialaxis\":{\"gridcolor\":\"white\",\"linecolor\":\"white\",\"ticks\":\"\"}},\"ternary\":{\"bgcolor\":\"#E5ECF6\",\"aaxis\":{\"gridcolor\":\"white\",\"linecolor\":\"white\",\"ticks\":\"\"},\"baxis\":{\"gridcolor\":\"white\",\"linecolor\":\"white\",\"ticks\":\"\"},\"caxis\":{\"gridcolor\":\"white\",\"linecolor\":\"white\",\"ticks\":\"\"}},\"coloraxis\":{\"colorbar\":{\"outlinewidth\":0,\"ticks\":\"\"}},\"colorscale\":{\"sequential\":[[0.0,\"#0d0887\"],[0.1111111111111111,\"#46039f\"],[0.2222222222222222,\"#7201a8\"],[0.3333333333333333,\"#9c179e\"],[0.4444444444444444,\"#bd3786\"],[0.5555555555555556,\"#d8576b\"],[0.6666666666666666,\"#ed7953\"],[0.7777777777777778,\"#fb9f3a\"],[0.8888888888888888,\"#fdca26\"],[1.0,\"#f0f921\"]],\"sequentialminus\":[[0.0,\"#0d0887\"],[0.1111111111111111,\"#46039f\"],[0.2222222222222222,\"#7201a8\"],[0.3333333333333333,\"#9c179e\"],[0.4444444444444444,\"#bd3786\"],[0.5555555555555556,\"#d8576b\"],[0.6666666666666666,\"#ed7953\"],[0.7777777777777778,\"#fb9f3a\"],[0.8888888888888888,\"#fdca26\"],[1.0,\"#f0f921\"]],\"diverging\":[[0,\"#8e0152\"],[0.1,\"#c51b7d\"],[0.2,\"#de77ae\"],[0.3,\"#f1b6da\"],[0.4,\"#fde0ef\"],[0.5,\"#f7f7f7\"],[0.6,\"#e6f5d0\"],[0.7,\"#b8e186\"],[0.8,\"#7fbc41\"],[0.9,\"#4d9221\"],[1,\"#276419\"]]},\"xaxis\":{\"gridcolor\":\"white\",\"linecolor\":\"white\",\"ticks\":\"\",\"title\":{\"standoff\":15},\"zerolinecolor\":\"white\",\"automargin\":true,\"zerolinewidth\":2},\"yaxis\":{\"gridcolor\":\"white\",\"linecolor\":\"white\",\"ticks\":\"\",\"title\":{\"standoff\":15},\"zerolinecolor\":\"white\",\"automargin\":true,\"zerolinewidth\":2},\"scene\":{\"xaxis\":{\"backgroundcolor\":\"#E5ECF6\",\"gridcolor\":\"white\",\"linecolor\":\"white\",\"showbackground\":true,\"ticks\":\"\",\"zerolinecolor\":\"white\",\"gridwidth\":2},\"yaxis\":{\"backgroundcolor\":\"#E5ECF6\",\"gridcolor\":\"white\",\"linecolor\":\"white\",\"showbackground\":true,\"ticks\":\"\",\"zerolinecolor\":\"white\",\"gridwidth\":2},\"zaxis\":{\"backgroundcolor\":\"#E5ECF6\",\"gridcolor\":\"white\",\"linecolor\":\"white\",\"showbackground\":true,\"ticks\":\"\",\"zerolinecolor\":\"white\",\"gridwidth\":2}},\"shapedefaults\":{\"line\":{\"color\":\"#2a3f5f\"}},\"annotationdefaults\":{\"arrowcolor\":\"#2a3f5f\",\"arrowhead\":0,\"arrowwidth\":1},\"geo\":{\"bgcolor\":\"white\",\"landcolor\":\"#E5ECF6\",\"subunitcolor\":\"white\",\"showland\":true,\"showlakes\":true,\"lakecolor\":\"white\"},\"title\":{\"x\":0.05},\"mapbox\":{\"style\":\"light\"}}}},                        {\"responsive\": true}                    ).then(function(){\n",
              "                            \n",
              "var gd = document.getElementById('7c284175-d536-4ffb-a9c1-017e3e4805db');\n",
              "var x = new MutationObserver(function (mutations, observer) {{\n",
              "        var display = window.getComputedStyle(gd).display;\n",
              "        if (!display || display === 'none') {{\n",
              "            console.log([gd, 'removed!']);\n",
              "            Plotly.purge(gd);\n",
              "            observer.disconnect();\n",
              "        }}\n",
              "}});\n",
              "\n",
              "// Listen for the removal of the full notebook cells\n",
              "var notebookContainer = gd.closest('#notebook-container');\n",
              "if (notebookContainer) {{\n",
              "    x.observe(notebookContainer, {childList: true});\n",
              "}}\n",
              "\n",
              "// Listen for the clearing of the current output cell\n",
              "var outputEl = gd.closest('.output');\n",
              "if (outputEl) {{\n",
              "    x.observe(outputEl, {childList: true});\n",
              "}}\n",
              "\n",
              "                        })                };                            </script>        </div>\n",
              "</body>\n",
              "</html>"
            ]
          },
          "metadata": {}
        }
      ]
    },
    {
      "cell_type": "markdown",
      "source": [
        "Также видим практически точное попадание в тестовые точки"
      ],
      "metadata": {
        "id": "1_zReaNZffoy"
      }
    },
    {
      "cell_type": "code",
      "source": [
        "model_l_2.coef_"
      ],
      "metadata": {
        "colab": {
          "base_uri": "https://localhost:8080/"
        },
        "id": "_5cfYC1uf_cF",
        "outputId": "4e8380e1-39c4-4177-86f0-683d6ad49f1d"
      },
      "execution_count": null,
      "outputs": [
        {
          "output_type": "execute_result",
          "data": {
            "text/plain": [
              "array([ 5.28206803e-02, -1.60764420e+00,  5.22395773e-01, -1.52169847e-02,\n",
              "        1.02003394e-03])"
            ]
          },
          "metadata": {},
          "execution_count": 444
        }
      ]
    },
    {
      "cell_type": "code",
      "source": [
        "plot_weights(model_l_2.coef_)"
      ],
      "metadata": {
        "colab": {
          "base_uri": "https://localhost:8080/",
          "height": 542
        },
        "id": "oBJfkynXflfc",
        "outputId": "a584da35-21de-4f5c-f4f9-0d758813a8b4"
      },
      "execution_count": null,
      "outputs": [
        {
          "output_type": "display_data",
          "data": {
            "text/html": [
              "<html>\n",
              "<head><meta charset=\"utf-8\" /></head>\n",
              "<body>\n",
              "    <div>            <script src=\"https://cdnjs.cloudflare.com/ajax/libs/mathjax/2.7.5/MathJax.js?config=TeX-AMS-MML_SVG\"></script><script type=\"text/javascript\">if (window.MathJax && window.MathJax.Hub && window.MathJax.Hub.Config) {window.MathJax.Hub.Config({SVG: {font: \"STIX-Web\"}});}</script>                <script type=\"text/javascript\">window.PlotlyConfig = {MathJaxConfig: 'local'};</script>\n",
              "        <script src=\"https://cdn.plot.ly/plotly-2.16.1.min.js\"></script>                <div id=\"bc89a05b-db5e-406a-a237-7b79c1910df7\" class=\"plotly-graph-div\" style=\"height:525px; width:100%;\"></div>            <script type=\"text/javascript\">                                    window.PLOTLYENV=window.PLOTLYENV || {};                                    if (document.getElementById(\"bc89a05b-db5e-406a-a237-7b79c1910df7\")) {                    Plotly.newPlot(                        \"bc89a05b-db5e-406a-a237-7b79c1910df7\",                        [{\"alignmentgroup\":\"True\",\"hovertemplate\":\"c=>=0<br>x=%{x}<br>y=%{y}<extra></extra>\",\"legendgroup\":\">=0\",\"marker\":{\"color\":\"blue\",\"pattern\":{\"shape\":\"\"}},\"name\":\">=0\",\"offsetgroup\":\">=0\",\"orientation\":\"v\",\"showlegend\":true,\"textposition\":\"auto\",\"x\":[\"w0\",\"w2\",\"w4\"],\"xaxis\":\"x\",\"y\":[0.05282068029034115,0.522395772937881,0.0010200339427889498],\"yaxis\":\"y\",\"type\":\"bar\"},{\"alignmentgroup\":\"True\",\"hovertemplate\":\"c=<0<br>x=%{x}<br>y=%{y}<extra></extra>\",\"legendgroup\":\"<0\",\"marker\":{\"color\":\"red\",\"pattern\":{\"shape\":\"\"}},\"name\":\"<0\",\"offsetgroup\":\"<0\",\"orientation\":\"v\",\"showlegend\":true,\"textposition\":\"auto\",\"x\":[\"w1\",\"w3\"],\"xaxis\":\"x\",\"y\":[-1.607644202369532,-0.015216984728391406],\"yaxis\":\"y\",\"type\":\"bar\"}],                        {\"template\":{\"data\":{\"histogram2dcontour\":[{\"type\":\"histogram2dcontour\",\"colorbar\":{\"outlinewidth\":0,\"ticks\":\"\"},\"colorscale\":[[0.0,\"#0d0887\"],[0.1111111111111111,\"#46039f\"],[0.2222222222222222,\"#7201a8\"],[0.3333333333333333,\"#9c179e\"],[0.4444444444444444,\"#bd3786\"],[0.5555555555555556,\"#d8576b\"],[0.6666666666666666,\"#ed7953\"],[0.7777777777777778,\"#fb9f3a\"],[0.8888888888888888,\"#fdca26\"],[1.0,\"#f0f921\"]]}],\"choropleth\":[{\"type\":\"choropleth\",\"colorbar\":{\"outlinewidth\":0,\"ticks\":\"\"}}],\"histogram2d\":[{\"type\":\"histogram2d\",\"colorbar\":{\"outlinewidth\":0,\"ticks\":\"\"},\"colorscale\":[[0.0,\"#0d0887\"],[0.1111111111111111,\"#46039f\"],[0.2222222222222222,\"#7201a8\"],[0.3333333333333333,\"#9c179e\"],[0.4444444444444444,\"#bd3786\"],[0.5555555555555556,\"#d8576b\"],[0.6666666666666666,\"#ed7953\"],[0.7777777777777778,\"#fb9f3a\"],[0.8888888888888888,\"#fdca26\"],[1.0,\"#f0f921\"]]}],\"heatmap\":[{\"type\":\"heatmap\",\"colorbar\":{\"outlinewidth\":0,\"ticks\":\"\"},\"colorscale\":[[0.0,\"#0d0887\"],[0.1111111111111111,\"#46039f\"],[0.2222222222222222,\"#7201a8\"],[0.3333333333333333,\"#9c179e\"],[0.4444444444444444,\"#bd3786\"],[0.5555555555555556,\"#d8576b\"],[0.6666666666666666,\"#ed7953\"],[0.7777777777777778,\"#fb9f3a\"],[0.8888888888888888,\"#fdca26\"],[1.0,\"#f0f921\"]]}],\"heatmapgl\":[{\"type\":\"heatmapgl\",\"colorbar\":{\"outlinewidth\":0,\"ticks\":\"\"},\"colorscale\":[[0.0,\"#0d0887\"],[0.1111111111111111,\"#46039f\"],[0.2222222222222222,\"#7201a8\"],[0.3333333333333333,\"#9c179e\"],[0.4444444444444444,\"#bd3786\"],[0.5555555555555556,\"#d8576b\"],[0.6666666666666666,\"#ed7953\"],[0.7777777777777778,\"#fb9f3a\"],[0.8888888888888888,\"#fdca26\"],[1.0,\"#f0f921\"]]}],\"contourcarpet\":[{\"type\":\"contourcarpet\",\"colorbar\":{\"outlinewidth\":0,\"ticks\":\"\"}}],\"contour\":[{\"type\":\"contour\",\"colorbar\":{\"outlinewidth\":0,\"ticks\":\"\"},\"colorscale\":[[0.0,\"#0d0887\"],[0.1111111111111111,\"#46039f\"],[0.2222222222222222,\"#7201a8\"],[0.3333333333333333,\"#9c179e\"],[0.4444444444444444,\"#bd3786\"],[0.5555555555555556,\"#d8576b\"],[0.6666666666666666,\"#ed7953\"],[0.7777777777777778,\"#fb9f3a\"],[0.8888888888888888,\"#fdca26\"],[1.0,\"#f0f921\"]]}],\"surface\":[{\"type\":\"surface\",\"colorbar\":{\"outlinewidth\":0,\"ticks\":\"\"},\"colorscale\":[[0.0,\"#0d0887\"],[0.1111111111111111,\"#46039f\"],[0.2222222222222222,\"#7201a8\"],[0.3333333333333333,\"#9c179e\"],[0.4444444444444444,\"#bd3786\"],[0.5555555555555556,\"#d8576b\"],[0.6666666666666666,\"#ed7953\"],[0.7777777777777778,\"#fb9f3a\"],[0.8888888888888888,\"#fdca26\"],[1.0,\"#f0f921\"]]}],\"mesh3d\":[{\"type\":\"mesh3d\",\"colorbar\":{\"outlinewidth\":0,\"ticks\":\"\"}}],\"scatter\":[{\"fillpattern\":{\"fillmode\":\"overlay\",\"size\":10,\"solidity\":0.2},\"type\":\"scatter\"}],\"parcoords\":[{\"type\":\"parcoords\",\"line\":{\"colorbar\":{\"outlinewidth\":0,\"ticks\":\"\"}}}],\"scatterpolargl\":[{\"type\":\"scatterpolargl\",\"marker\":{\"colorbar\":{\"outlinewidth\":0,\"ticks\":\"\"}}}],\"bar\":[{\"error_x\":{\"color\":\"#2a3f5f\"},\"error_y\":{\"color\":\"#2a3f5f\"},\"marker\":{\"line\":{\"color\":\"#E5ECF6\",\"width\":0.5},\"pattern\":{\"fillmode\":\"overlay\",\"size\":10,\"solidity\":0.2}},\"type\":\"bar\"}],\"scattergeo\":[{\"type\":\"scattergeo\",\"marker\":{\"colorbar\":{\"outlinewidth\":0,\"ticks\":\"\"}}}],\"scatterpolar\":[{\"type\":\"scatterpolar\",\"marker\":{\"colorbar\":{\"outlinewidth\":0,\"ticks\":\"\"}}}],\"histogram\":[{\"marker\":{\"pattern\":{\"fillmode\":\"overlay\",\"size\":10,\"solidity\":0.2}},\"type\":\"histogram\"}],\"scattergl\":[{\"type\":\"scattergl\",\"marker\":{\"colorbar\":{\"outlinewidth\":0,\"ticks\":\"\"}}}],\"scatter3d\":[{\"type\":\"scatter3d\",\"line\":{\"colorbar\":{\"outlinewidth\":0,\"ticks\":\"\"}},\"marker\":{\"colorbar\":{\"outlinewidth\":0,\"ticks\":\"\"}}}],\"scattermapbox\":[{\"type\":\"scattermapbox\",\"marker\":{\"colorbar\":{\"outlinewidth\":0,\"ticks\":\"\"}}}],\"scatterternary\":[{\"type\":\"scatterternary\",\"marker\":{\"colorbar\":{\"outlinewidth\":0,\"ticks\":\"\"}}}],\"scattercarpet\":[{\"type\":\"scattercarpet\",\"marker\":{\"colorbar\":{\"outlinewidth\":0,\"ticks\":\"\"}}}],\"carpet\":[{\"aaxis\":{\"endlinecolor\":\"#2a3f5f\",\"gridcolor\":\"white\",\"linecolor\":\"white\",\"minorgridcolor\":\"white\",\"startlinecolor\":\"#2a3f5f\"},\"baxis\":{\"endlinecolor\":\"#2a3f5f\",\"gridcolor\":\"white\",\"linecolor\":\"white\",\"minorgridcolor\":\"white\",\"startlinecolor\":\"#2a3f5f\"},\"type\":\"carpet\"}],\"table\":[{\"cells\":{\"fill\":{\"color\":\"#EBF0F8\"},\"line\":{\"color\":\"white\"}},\"header\":{\"fill\":{\"color\":\"#C8D4E3\"},\"line\":{\"color\":\"white\"}},\"type\":\"table\"}],\"barpolar\":[{\"marker\":{\"line\":{\"color\":\"#E5ECF6\",\"width\":0.5},\"pattern\":{\"fillmode\":\"overlay\",\"size\":10,\"solidity\":0.2}},\"type\":\"barpolar\"}],\"pie\":[{\"automargin\":true,\"type\":\"pie\"}]},\"layout\":{\"autotypenumbers\":\"strict\",\"colorway\":[\"#636efa\",\"#EF553B\",\"#00cc96\",\"#ab63fa\",\"#FFA15A\",\"#19d3f3\",\"#FF6692\",\"#B6E880\",\"#FF97FF\",\"#FECB52\"],\"font\":{\"color\":\"#2a3f5f\"},\"hovermode\":\"closest\",\"hoverlabel\":{\"align\":\"left\"},\"paper_bgcolor\":\"white\",\"plot_bgcolor\":\"#E5ECF6\",\"polar\":{\"bgcolor\":\"#E5ECF6\",\"angularaxis\":{\"gridcolor\":\"white\",\"linecolor\":\"white\",\"ticks\":\"\"},\"radialaxis\":{\"gridcolor\":\"white\",\"linecolor\":\"white\",\"ticks\":\"\"}},\"ternary\":{\"bgcolor\":\"#E5ECF6\",\"aaxis\":{\"gridcolor\":\"white\",\"linecolor\":\"white\",\"ticks\":\"\"},\"baxis\":{\"gridcolor\":\"white\",\"linecolor\":\"white\",\"ticks\":\"\"},\"caxis\":{\"gridcolor\":\"white\",\"linecolor\":\"white\",\"ticks\":\"\"}},\"coloraxis\":{\"colorbar\":{\"outlinewidth\":0,\"ticks\":\"\"}},\"colorscale\":{\"sequential\":[[0.0,\"#0d0887\"],[0.1111111111111111,\"#46039f\"],[0.2222222222222222,\"#7201a8\"],[0.3333333333333333,\"#9c179e\"],[0.4444444444444444,\"#bd3786\"],[0.5555555555555556,\"#d8576b\"],[0.6666666666666666,\"#ed7953\"],[0.7777777777777778,\"#fb9f3a\"],[0.8888888888888888,\"#fdca26\"],[1.0,\"#f0f921\"]],\"sequentialminus\":[[0.0,\"#0d0887\"],[0.1111111111111111,\"#46039f\"],[0.2222222222222222,\"#7201a8\"],[0.3333333333333333,\"#9c179e\"],[0.4444444444444444,\"#bd3786\"],[0.5555555555555556,\"#d8576b\"],[0.6666666666666666,\"#ed7953\"],[0.7777777777777778,\"#fb9f3a\"],[0.8888888888888888,\"#fdca26\"],[1.0,\"#f0f921\"]],\"diverging\":[[0,\"#8e0152\"],[0.1,\"#c51b7d\"],[0.2,\"#de77ae\"],[0.3,\"#f1b6da\"],[0.4,\"#fde0ef\"],[0.5,\"#f7f7f7\"],[0.6,\"#e6f5d0\"],[0.7,\"#b8e186\"],[0.8,\"#7fbc41\"],[0.9,\"#4d9221\"],[1,\"#276419\"]]},\"xaxis\":{\"gridcolor\":\"white\",\"linecolor\":\"white\",\"ticks\":\"\",\"title\":{\"standoff\":15},\"zerolinecolor\":\"white\",\"automargin\":true,\"zerolinewidth\":2},\"yaxis\":{\"gridcolor\":\"white\",\"linecolor\":\"white\",\"ticks\":\"\",\"title\":{\"standoff\":15},\"zerolinecolor\":\"white\",\"automargin\":true,\"zerolinewidth\":2},\"scene\":{\"xaxis\":{\"backgroundcolor\":\"#E5ECF6\",\"gridcolor\":\"white\",\"linecolor\":\"white\",\"showbackground\":true,\"ticks\":\"\",\"zerolinecolor\":\"white\",\"gridwidth\":2},\"yaxis\":{\"backgroundcolor\":\"#E5ECF6\",\"gridcolor\":\"white\",\"linecolor\":\"white\",\"showbackground\":true,\"ticks\":\"\",\"zerolinecolor\":\"white\",\"gridwidth\":2},\"zaxis\":{\"backgroundcolor\":\"#E5ECF6\",\"gridcolor\":\"white\",\"linecolor\":\"white\",\"showbackground\":true,\"ticks\":\"\",\"zerolinecolor\":\"white\",\"gridwidth\":2}},\"shapedefaults\":{\"line\":{\"color\":\"#2a3f5f\"}},\"annotationdefaults\":{\"arrowcolor\":\"#2a3f5f\",\"arrowhead\":0,\"arrowwidth\":1},\"geo\":{\"bgcolor\":\"white\",\"landcolor\":\"#E5ECF6\",\"subunitcolor\":\"white\",\"showland\":true,\"showlakes\":true,\"lakecolor\":\"white\"},\"title\":{\"x\":0.05},\"mapbox\":{\"style\":\"light\"}}},\"xaxis\":{\"anchor\":\"y\",\"domain\":[0.0,1.0],\"title\":{\"text\":\"x\"},\"categoryorder\":\"array\",\"categoryarray\":[\"w0\",\"w1\",\"w2\",\"w3\",\"w4\"]},\"yaxis\":{\"anchor\":\"x\",\"domain\":[0.0,1.0],\"title\":{\"text\":\"y\"}},\"legend\":{\"title\":{\"text\":\"c\"},\"tracegroupgap\":0},\"margin\":{\"t\":60},\"barmode\":\"relative\"},                        {\"responsive\": true}                    ).then(function(){\n",
              "                            \n",
              "var gd = document.getElementById('bc89a05b-db5e-406a-a237-7b79c1910df7');\n",
              "var x = new MutationObserver(function (mutations, observer) {{\n",
              "        var display = window.getComputedStyle(gd).display;\n",
              "        if (!display || display === 'none') {{\n",
              "            console.log([gd, 'removed!']);\n",
              "            Plotly.purge(gd);\n",
              "            observer.disconnect();\n",
              "        }}\n",
              "}});\n",
              "\n",
              "// Listen for the removal of the full notebook cells\n",
              "var notebookContainer = gd.closest('#notebook-container');\n",
              "if (notebookContainer) {{\n",
              "    x.observe(notebookContainer, {childList: true});\n",
              "}}\n",
              "\n",
              "// Listen for the clearing of the current output cell\n",
              "var outputEl = gd.closest('.output');\n",
              "if (outputEl) {{\n",
              "    x.observe(outputEl, {childList: true});\n",
              "}}\n",
              "\n",
              "                        })                };                            </script>        </div>\n",
              "</body>\n",
              "</html>"
            ]
          },
          "metadata": {}
        }
      ]
    },
    {
      "cell_type": "markdown",
      "source": [
        "Для таких данных на уровне сжатия 1 не должно быть ухода какого-нибудь веса в 0, так что тут всё логично"
      ],
      "metadata": {
        "id": "DP8sip9ogLBs"
      }
    },
    {
      "cell_type": "markdown",
      "source": [
        "## 3 датасет"
      ],
      "metadata": {
        "id": "fSJhKn_SgX8J"
      }
    },
    {
      "cell_type": "markdown",
      "source": [
        "### Линейная регрессия"
      ],
      "metadata": {
        "id": "lKcUHZ_FgaDG"
      }
    },
    {
      "cell_type": "code",
      "source": [
        "model_lr_3 = LinearRegression().fit(X_train_3, y_train_3)\n",
        "\n",
        "y_pred_lr_3 = model_lr_3.predict(X_test_3)\n",
        "\n",
        "print(f'R2 score: {r2_score(y_test_3, y_pred_lr_3)}')\n",
        "print(f'MAE: {mean_absolute_error(y_test_3, y_pred_lr_3)}')\n",
        "print(f'MSE: {mean_squared_error(y_test_3, y_pred_lr_3)}')"
      ],
      "metadata": {
        "colab": {
          "base_uri": "https://localhost:8080/"
        },
        "id": "22Rzuw5hgc_j",
        "outputId": "d67cd401-32aa-424f-f3dd-d2fd6277d7a4"
      },
      "execution_count": null,
      "outputs": [
        {
          "output_type": "stream",
          "name": "stdout",
          "text": [
            "R2 score: 0.8827425109075514\n",
            "MAE: 292.6415647269976\n",
            "MSE: 133174.05574811486\n"
          ]
        }
      ]
    },
    {
      "cell_type": "markdown",
      "source": [
        "Неплохая точность, но это обычная линейная регрессия, посмотрим на график"
      ],
      "metadata": {
        "id": "-Zlg8bihgq55"
      }
    },
    {
      "cell_type": "code",
      "source": [
        "plot_test(X_train_3, X_test_3, y_train_3, y_test_3, y_pred_lr_3)"
      ],
      "metadata": {
        "colab": {
          "base_uri": "https://localhost:8080/",
          "height": 542
        },
        "id": "ga3oGfBsgwFz",
        "outputId": "ebff3e2b-39b2-4a0e-ce8e-7cc914c1cbba"
      },
      "execution_count": null,
      "outputs": [
        {
          "output_type": "display_data",
          "data": {
            "text/html": [
              "<html>\n",
              "<head><meta charset=\"utf-8\" /></head>\n",
              "<body>\n",
              "    <div>            <script src=\"https://cdnjs.cloudflare.com/ajax/libs/mathjax/2.7.5/MathJax.js?config=TeX-AMS-MML_SVG\"></script><script type=\"text/javascript\">if (window.MathJax && window.MathJax.Hub && window.MathJax.Hub.Config) {window.MathJax.Hub.Config({SVG: {font: \"STIX-Web\"}});}</script>                <script type=\"text/javascript\">window.PlotlyConfig = {MathJaxConfig: 'local'};</script>\n",
              "        <script src=\"https://cdn.plot.ly/plotly-2.16.1.min.js\"></script>                <div id=\"f5619803-3d81-48b4-ad9a-90b9bc0b9c09\" class=\"plotly-graph-div\" style=\"height:525px; width:100%;\"></div>            <script type=\"text/javascript\">                                    window.PLOTLYENV=window.PLOTLYENV || {};                                    if (document.getElementById(\"f5619803-3d81-48b4-ad9a-90b9bc0b9c09\")) {                    Plotly.newPlot(                        \"f5619803-3d81-48b4-ad9a-90b9bc0b9c09\",                        [{\"hovertemplate\":\"train=%{x}<br>y_train=%{y}<extra></extra>\",\"legendgroup\":\"\",\"marker\":{\"color\":\"#636efa\",\"symbol\":\"circle\"},\"mode\":\"markers\",\"name\":\"train\",\"orientation\":\"v\",\"showlegend\":true,\"x\":[5.880647764551117,0.03547409924775735,-9.65557172213581,2.17032224066768,5.321662544203917,8.390474060310435,2.165235711595983,-8.387740969877548,-2.8800357171964226,9.542906936639099,3.7849531329109993,-6.306990736657763,9.328610278939319,0.6119793323626013,-1.6421780717777033,8.446438295694968,6.003291850333344,2.149154065837406,-7.012926968017181,-4.219519270774546,4.5032334731454995,-2.6083261224191663,-2.46823910358774,8.527392687729034,2.3821396684801144,-0.848664228266717,4.543357074971572,-7.511951415050766,-7.5387999439065245,-3.4769131031346534,-0.9858997394461326,-1.2260293523085295,-5.936598476857496,-0.13750356929691243,1.329892642056425,-7.081944939758151,-0.7783944558471063,-2.527514245381603,5.129364583315132,-0.7545584701744108,-4.7879506037709625,1.0962713702402738,-9.714871304860964,-9.158004137266538,6.435756713643677,4.520347750307941,2.6452152232851738,-2.501777518007124,0.3370667200794859,-6.008343462360015,2.22483268403543,-9.31514203084052,-2.1627197293396954,-0.7011420112671622,9.227261173371065,6.0189892647902745,-9.656566708924139,-0.9216312633969075,1.9397317095443931,-0.7008674376577595,0.06904437450784329,8.487829984809586,0.9691565018879125,-1.28418835142487,-0.9093750515754806,-6.172622486477987,-2.9591080392471447,0.8437097865395202,8.361316313033218,3.161326481711102,5.013432689820224,-8.869961919026208,-9.799923615648288,7.6394991116972975,-7.149814222735991,8.751099361015488,-9.877265448440225,0.5915346062345499,-6.120189961424025,0.8144520561310831,7.361879318576872,1.5095639339820703,6.2486318866575665,-9.226753968819787,6.07233476519778,-7.687812851401499,-1.415153415048998,5.596360409546342,-8.898064143961745,-7.003210186101844,-6.985619628870707,3.254465889328273,5.55717206173254,-9.073841106736518,-1.0450874730902981,-1.4056351210305635,-6.6815606765869155,3.6466283774670867,-8.53166152927926,0.8380393547101495,4.820034531808968,-0.678448723682985,-3.8178008961834546,-3.9649862618897753,-1.9902104375042207,7.875045132799482,-1.677894516595293,7.248113242035451,-3.4920942588602593,6.833171598881982,-9.016454305590674,1.5071607224266579,-3.0186491509470725,3.2098106570859404,-8.430478801954784,2.6881965780159938,-9.745737059661563,-2.2957929502024754,-5.879391231281128,-9.69701792556451,3.9758107179971436,-3.3500009107305306,9.420614148952893,-6.642061536128172,-3.3137852500922715,1.4250798530117557,-9.625121342838103,-8.9656200571319,-7.222707757705271,4.436704631800426,-7.278416708711601,-5.3228288200795815,5.437803695319177,-1.9338588100383287,-6.1612336531222756,-2.4179860110785745,2.7148688547590822,-6.026664694577109,-8.487492274651583,-7.904355493708395,2.248104330095755,-9.411270559478861,2.1269561600166362,-1.605667933179875,2.396232820315996,-8.826303825906674,-4.465376854746732,-8.28967495951808,-9.875467061480993,-2.1995201220269056,-5.389748220038082,-8.43931048214618,5.0192249954783215,5.595214842813128,-1.1655644044324465,-0.9872251176450177,4.205562210096854,4.871720463309764,-5.75425367040272,-9.336720220859132,-9.387284644132336,-0.2910097020247431,5.899164465692019,-1.994688709397355,3.2300553668029472,-0.02340375665832184,3.0863381339538307,1.0722644486420272,5.0180120511894195,0.3821726808529107,-4.457272909494636,9.090596622588599,3.6211916933317134,-1.413898348508642,-0.8666657539748464,0.7325006459748362,-5.3099634493705405,-4.241192778438365,-1.659970551129227,-5.418173917981828,2.3978374701064773,8.95850888901952,-2.6896105502022616,8.266253167861343,2.879345125364761,-9.835796760808995,-5.767625968292243,7.930226305941709,-8.566932879021294,6.507165189535517,-6.83823736785838,9.493614760832905,-8.961130121699018,-5.046257639022826,-8.862790214555908,0.8202718324297109,5.000265802815857,-2.105183581073655,4.791581319738487,-7.509673372214623,7.123917131434371,6.16186601258244,6.06980969117814,4.714131083341952,-6.262181893957514,-4.976188660051964,2.9526541969262095,2.216374698004749,1.3750942370388337,-4.932804989876116,0.029461388758534213,-4.538639220757217,7.722219095097522,-5.415475701930785,5.404208455855562,-1.8993010455510735,9.509514851841676,-3.957565023234082,0.9470185878747817,2.1863027901735705,2.498006866544456,-5.388834361851482,-4.821435657567519,7.431504057809647,-8.706509843408188,-5.240516278335161,-5.27563613000633,-9.567119539542743,-7.811056522749702,-2.40276765780121,5.972303993742907,-6.254042819386276,6.372811432385454,-6.458610169766974,2.6978047861724512,4.602961362407962,9.614372004685933,-3.796827877661924,-4.721812764346753,-7.952803521927154],\"xaxis\":\"x\",\"y\":[436.0729557235298,-90.3593584036851,-2307.0416097669904,-31.73885505844682,394.9359892832473,1349.5309599433533,26.14781346523116,-1694.898290384268,119.33107902654965,2129.1266886318094,-16.835298632840818,-473.5649315859797,1803.7677223007122,24.961122291310055,65.0237969324505,1582.6737739496443,507.8736510519775,121.57458304563002,-845.9351339679159,-248.40038980460906,273.37794939103884,-17.672537937300724,-121.7843697496912,1497.5728748315978,-72.98227829922891,-3.4799145231168573,184.84762805120425,-1042.468923114486,-1039.6951906999936,-172.2275928185203,-85.20462662049037,80.43582259440866,-736.3444194536819,-18.130632379917397,18.230022782962166,-857.4772232050068,-63.693132347972536,48.19902691426052,250.9312371800761,51.53731154320056,-255.6970807471306,-137.68482689158427,-2462.047257652723,-1798.5785214107864,648.8538276530365,233.04179573607385,-26.614869479740335,6.368825156072347,60.255638779173275,-458.3022063944215,7.665633620457072,-2009.9056008396046,63.70551287198275,0.19357573485304203,1761.2755713811443,482.1758974284967,-2198.8301845640553,9.1980238453966,94.42786565370098,33.060042949306755,-164.8828436913668,1390.1506631949756,70.45071073367036,55.944211868564715,42.616940898294516,-754.0451271838608,-61.337928919101465,12.953343727436335,1492.7312213137052,114.5251118587174,366.7385285264874,-1787.9966124413722,-2509.0342494670776,1062.7298593618532,-1007.6962385582142,1650.7056476760142,-2340.7933186156424,19.274364179767154,-692.1878702665257,-55.770931885927595,1090.3238133999523,149.00542784804207,437.5760330785418,-2143.8059529360075,393.0317845775706,-1192.0721085090681,70.61044896031781,318.198257540049,-1822.5664285977791,-1040.565344110806,-704.7682751092003,57.086445068769216,241.34727815942256,-1846.407516427828,82.07174458653508,22.160414131405222,-798.5462304506209,200.1470278617598,-1692.343026866936,-42.53218676603355,378.90364437615284,42.1113156501994,21.36216367551137,-5.353879089834351,-213.26050080123537,1122.107248530441,242.334476883189,914.4917654938608,-71.13985752571033,731.9894323139758,-1810.1094029891613,29.49317815209496,54.427758799284234,54.841750356618796,-1614.9961584383077,117.24785966768454,-2510.3279224879598,37.17512016172381,-470.5785572403643,-2132.8863928457895,193.57156652686066,-67.6441650392421,2035.4611292756217,-927.8293706420218,-155.55129363123064,5.872838901713816,-2249.808421843521,-1820.3756441308583,-907.8612257097042,169.36894481924352,-1002.6133747499169,-229.2321646088615,364.90948744517726,27.00983430062942,-517.9363593134597,-225.76470514692045,-21.58221123556993,-398.47661562925083,-1471.7601667521087,-1376.2128771644234,16.87205114417568,-1931.7059284353065,55.90204090730843,53.97022771877681,31.579410503406166,-1906.0656996031428,-254.17174348764584,-1477.4594589137948,-2356.089797402216,-104.89301738864799,-566.2161152936538,-1520.4172878466957,379.64981506314757,457.96613537622966,-123.65223275206675,155.97501066538436,262.29883656870163,275.3553461968107,-387.8348025356273,-1865.8649325770775,-2130.4291444138303,-52.77543393311834,427.3436813238137,-2.1875294039315776,44.010677810408986,78.32911209488537,72.3132975248598,-125.42842552454874,361.7884797453922,-58.657740204845524,-115.33561741008542,1851.6535815323223,20.119575862569505,-23.973462039633,26.43791429927554,93.34383115869397,-425.5897126543138,-222.65411455003212,-79.64905238224404,-546.6776401643607,11.946126561236149,1587.5017473945625,-70.06764998356705,1461.5079028974933,-48.25039421592991,-2494.9651743239856,-542.2453723776155,1242.6172750494334,-1641.8251145387985,597.62167713392,-1077.4615745681008,2081.980003423446,-1833.2710261940313,-579.9604253360897,-1792.0049692438943,215.1002209926401,371.3138063930468,-190.0917190860635,284.6292546889529,-1189.7914934580615,628.7465411636799,741.8945264509514,475.89633517854173,415.51811616487385,-698.3804095240072,-268.7320247361325,135.97101175152858,-83.95517023519358,-226.23245452969724,-233.46035390234655,-112.50834064618857,-461.46169611655307,1112.7619210521498,-640.8785131561123,449.07611066722006,66.6965350738024,2053.48260696104,-446.089667643775,116.60585576029003,57.341070136418125,73.04208887515884,-317.22962182999026,-151.48720680463208,985.397089336855,-1617.8730872300625,-237.03413901381896,-304.8585431700371,-2345.7859564980304,-977.5607340617335,-25.841765742729528,427.83531565373596,-673.5940834122405,762.4471489011981,-897.0323359853076,55.44858215576074,299.971139136991,2199.485685379224,-277.2095651232403,-246.89751649691627,-1370.6649080971824],\"yaxis\":\"y\",\"type\":\"scatter\"},{\"hovertemplate\":\"X_test=%{x}<br>y_test=%{y}<extra></extra>\",\"legendgroup\":\"\",\"marker\":{\"color\":\"red\",\"symbol\":\"circle\"},\"mode\":\"markers\",\"name\":\"test\",\"orientation\":\"v\",\"showlegend\":true,\"x\":[4.959393643453808,7.916949393325055,-7.314762971240727,-4.578173578264543,-4.949001840522889,0.37555345390784645,5.890627641349761,6.806018310347383,9.56027102723452,3.8171354648870235,-8.2705513331172,0.24636809978523289,0.7310401694126067,-2.392373709412099,2.328531817742272,8.264983899409163,-8.419289221629189,6.892520699548093,-3.5926985488698833,8.365479605584504,6.5755061690404375,9.878129415888008,-7.060944990712956,-9.736151292424058,7.915733024109045,-8.705427424129708,-7.862233829549616,-9.829243564614591,-6.2379548975354275,7.5962549022427694,-7.2786038966677395,1.2000572950935045,-7.590502731746909,-5.831271200456857,3.5991438271311935,-3.46838635696332,1.8328243927598304,0.17271995985721134,-6.456962994348423,-3.4018024058945855,6.578378434327583,-8.035134872799274,-8.90911976383477,9.338943806478039,8.522850623006853,0.3416231558760181,-7.695650184243106,-7.872516876144992,6.898080995306838,-5.676379166940963,8.041104332521371,-6.6795779860075655,7.403399285461781,6.425369736231538,-9.194462944246673,-2.2451155359973,-6.105945417161811,-6.042529409003725,-6.00668472304479,2.351126643296542],\"xaxis\":\"x\",\"y\":[280.3361894460279,1160.753015367256,-1081.8586336386888,-217.2453365179956,-415.21759570388576,61.20641734170668,244.41075165807962,916.9109363247693,2032.6026594947339,38.97453755560922,-1528.7918491905696,-101.29119175473672,110.03092307317776,-43.51474164349466,178.63776613503245,1300.390956262993,-1581.0778142897952,823.9222832750867,-63.57314756153993,1472.7290053714137,509.05887191206347,2288.840229279856,-792.2860677615784,-2236.0903801459604,1132.364237213851,-1579.7740011787805,-1323.8808292012263,-2382.3207510739962,-574.5707723160415,1025.7228256932774,-965.3394731222554,65.91419941183565,-1135.557934938202,-580.5109944874458,177.64500204157923,27.792283198212687,169.9267356839912,47.287023463655444,-747.9219520963132,-35.441642830874784,660.6800779156162,-1353.616069318047,-1786.566115966169,1961.2547855431542,1628.2208896628347,108.5249679599038,-1316.3327697578723,-1235.0418418354386,640.2193917384816,-360.3041438434576,1239.3416064417718,-723.7822866021585,909.6292989159128,558.0575983341672,-2036.9539098572332,-151.3711138641473,-883.2464894363249,-511.26122931818685,-631.6271810215533,229.7865356872143],\"yaxis\":\"y\",\"type\":\"scatter\"},{\"hovertemplate\":\"X_test=%{x}<br>y_pred=%{y}<extra></extra>\",\"legendgroup\":\"\",\"marker\":{\"color\":\"lime\",\"symbol\":\"circle\"},\"mode\":\"markers\",\"name\":\"predictions\",\"orientation\":\"v\",\"showlegend\":true,\"x\":[4.959393643453808,7.916949393325055,-7.314762971240727,-4.578173578264543,-4.949001840522889,0.37555345390784645,5.890627641349761,6.806018310347383,9.56027102723452,3.8171354648870235,-8.2705513331172,0.24636809978523289,0.7310401694126067,-2.392373709412099,2.328531817742272,8.264983899409163,-8.419289221629189,6.892520699548093,-3.5926985488698833,8.365479605584504,6.5755061690404375,9.878129415888008,-7.060944990712956,-9.736151292424058,7.915733024109045,-8.705427424129708,-7.862233829549616,-9.829243564614591,-6.2379548975354275,7.5962549022427694,-7.2786038966677395,1.2000572950935045,-7.590502731746909,-5.831271200456857,3.5991438271311935,-3.46838635696332,1.8328243927598304,0.17271995985721134,-6.456962994348423,-3.4018024058945855,6.578378434327583,-8.035134872799274,-8.90911976383477,9.338943806478039,8.522850623006853,0.3416231558760181,-7.695650184243106,-7.872516876144992,6.898080995306838,-5.676379166940963,8.041104332521371,-6.6795779860075655,7.403399285461781,6.425369736231538,-9.194462944246673,-2.2451155359973,-6.105945417161811,-6.042529409003725,-6.00668472304479,2.351126643296542],\"xaxis\":\"x\",\"y\":[694.3096431935785,1143.5227155504972,-1169.9702114522588,-754.3189666526629,-810.6428087351326,-1.9142351994841391,835.7516042779193,974.7871760825011,1393.1212430072324,520.8159378454575,-1315.1416512738779,-21.53575876043886,52.07943158462133,-422.3252672313411,294.7169985829535,1196.3844916205076,-1337.7329427067648,987.9257294371611,-604.6385199849468,1211.648442243135,939.7754718342977,1441.3996713505248,-1131.4186626412952,-1537.746638718348,1143.3379653720203,-1381.193499982664,-1253.1236959799885,-1551.88610696175,-1006.4174996736388,1094.8135212662364,-1164.4781327371843,123.31684579880789,-1211.8513847803815,-944.6476976842467,487.70593024926063,-585.7571644398481,219.4256856884482,-32.72192396184853,-1039.6818937749808,-575.6439548306797,940.2117304286855,-1279.3850467103257,-1412.1316358871059,1359.504605066742,1235.5509902303725,-7.067792634716611,-1227.8218733124663,-1254.6855529135387,988.770263827124,-921.121674121609,1162.380186516883,-1073.4941268530104,1065.5213383076402,916.9717602702029,-1455.4714399650193,-399.95872468612976,-986.3670291925822,-976.734987645252,-971.290660346271,298.148849700906],\"yaxis\":\"y\",\"type\":\"scatter\"},{\"hovertemplate\":\"<b>LOWESS trendline</b><br><br>X_test=%{x}<br>y_pred=%{y} <b>(trend)</b><extra></extra>\",\"legendgroup\":\"\",\"marker\":{\"color\":\"lime\",\"symbol\":\"circle\"},\"mode\":\"lines\",\"name\":\"\",\"showlegend\":true,\"x\":[-9.829243564614591,-9.736151292424058,-9.194462944246673,-8.90911976383477,-8.705427424129708,-8.419289221629189,-8.2705513331172,-8.035134872799274,-7.872516876144992,-7.862233829549616,-7.695650184243106,-7.590502731746909,-7.314762971240727,-7.2786038966677395,-7.060944990712956,-6.6795779860075655,-6.456962994348423,-6.2379548975354275,-6.105945417161811,-6.042529409003725,-6.00668472304479,-5.831271200456857,-5.676379166940963,-4.949001840522889,-4.578173578264543,-3.5926985488698833,-3.46838635696332,-3.4018024058945855,-2.392373709412099,-2.2451155359973,0.17271995985721134,0.24636809978523289,0.3416231558760181,0.37555345390784645,0.7310401694126067,1.2000572950935045,1.8328243927598304,2.328531817742272,2.351126643296542,3.5991438271311935,3.8171354648870235,4.959393643453808,5.890627641349761,6.425369736231538,6.5755061690404375,6.578378434327583,6.806018310347383,6.892520699548093,6.898080995306838,7.403399285461781,7.5962549022427694,7.915733024109045,7.916949393325055,8.041104332521371,8.264983899409163,8.365479605584504,8.522850623006853,9.338943806478039,9.56027102723452,9.878129415888008],\"xaxis\":\"x\",\"y\":[-1551.8861069617406,-1537.7466387183445,-1455.4714399650186,-1412.1316358871081,-1381.1934999826672,-1337.7329427067652,-1315.1416512738774,-1279.3850467103236,-1254.6855529135382,-1253.1236959799892,-1227.8218733124659,-1211.8513847803913,-1169.9702114522584,-1164.478132737184,-1131.4186626412973,-1073.494126853012,-1039.6818937749804,-1006.4174996736375,-986.3670291925823,-976.7349876452511,-971.2906603462613,-944.6476976846525,-921.121674122076,-810.6428087351328,-754.3189666526625,-604.638519984947,-585.7571644398482,-575.6439548306802,-422.32526723134123,-399.95872468613,-32.72192396184854,-21.535758760438863,-7.067792634716617,-1.914235199484141,52.07943158462131,123.31684579880792,219.4256856884482,294.7169985829539,298.1488497009059,487.70593024926063,520.8159378454575,694.3096431935784,835.7516042779198,916.9717602702032,939.7754718342994,940.2117304286925,974.7871760825017,987.9257294371688,988.7702638271264,1065.5213383075509,1094.81352126625,1143.3379653720017,1143.5227155504926,1162.3801865168784,1196.3844949876475,1211.6484534480055,1235.5509832434263,1359.504605066742,1393.1212430072324,1441.3996713505248],\"yaxis\":\"y\",\"type\":\"scatter\"}],                        {\"template\":{\"data\":{\"histogram2dcontour\":[{\"type\":\"histogram2dcontour\",\"colorbar\":{\"outlinewidth\":0,\"ticks\":\"\"},\"colorscale\":[[0.0,\"#0d0887\"],[0.1111111111111111,\"#46039f\"],[0.2222222222222222,\"#7201a8\"],[0.3333333333333333,\"#9c179e\"],[0.4444444444444444,\"#bd3786\"],[0.5555555555555556,\"#d8576b\"],[0.6666666666666666,\"#ed7953\"],[0.7777777777777778,\"#fb9f3a\"],[0.8888888888888888,\"#fdca26\"],[1.0,\"#f0f921\"]]}],\"choropleth\":[{\"type\":\"choropleth\",\"colorbar\":{\"outlinewidth\":0,\"ticks\":\"\"}}],\"histogram2d\":[{\"type\":\"histogram2d\",\"colorbar\":{\"outlinewidth\":0,\"ticks\":\"\"},\"colorscale\":[[0.0,\"#0d0887\"],[0.1111111111111111,\"#46039f\"],[0.2222222222222222,\"#7201a8\"],[0.3333333333333333,\"#9c179e\"],[0.4444444444444444,\"#bd3786\"],[0.5555555555555556,\"#d8576b\"],[0.6666666666666666,\"#ed7953\"],[0.7777777777777778,\"#fb9f3a\"],[0.8888888888888888,\"#fdca26\"],[1.0,\"#f0f921\"]]}],\"heatmap\":[{\"type\":\"heatmap\",\"colorbar\":{\"outlinewidth\":0,\"ticks\":\"\"},\"colorscale\":[[0.0,\"#0d0887\"],[0.1111111111111111,\"#46039f\"],[0.2222222222222222,\"#7201a8\"],[0.3333333333333333,\"#9c179e\"],[0.4444444444444444,\"#bd3786\"],[0.5555555555555556,\"#d8576b\"],[0.6666666666666666,\"#ed7953\"],[0.7777777777777778,\"#fb9f3a\"],[0.8888888888888888,\"#fdca26\"],[1.0,\"#f0f921\"]]}],\"heatmapgl\":[{\"type\":\"heatmapgl\",\"colorbar\":{\"outlinewidth\":0,\"ticks\":\"\"},\"colorscale\":[[0.0,\"#0d0887\"],[0.1111111111111111,\"#46039f\"],[0.2222222222222222,\"#7201a8\"],[0.3333333333333333,\"#9c179e\"],[0.4444444444444444,\"#bd3786\"],[0.5555555555555556,\"#d8576b\"],[0.6666666666666666,\"#ed7953\"],[0.7777777777777778,\"#fb9f3a\"],[0.8888888888888888,\"#fdca26\"],[1.0,\"#f0f921\"]]}],\"contourcarpet\":[{\"type\":\"contourcarpet\",\"colorbar\":{\"outlinewidth\":0,\"ticks\":\"\"}}],\"contour\":[{\"type\":\"contour\",\"colorbar\":{\"outlinewidth\":0,\"ticks\":\"\"},\"colorscale\":[[0.0,\"#0d0887\"],[0.1111111111111111,\"#46039f\"],[0.2222222222222222,\"#7201a8\"],[0.3333333333333333,\"#9c179e\"],[0.4444444444444444,\"#bd3786\"],[0.5555555555555556,\"#d8576b\"],[0.6666666666666666,\"#ed7953\"],[0.7777777777777778,\"#fb9f3a\"],[0.8888888888888888,\"#fdca26\"],[1.0,\"#f0f921\"]]}],\"surface\":[{\"type\":\"surface\",\"colorbar\":{\"outlinewidth\":0,\"ticks\":\"\"},\"colorscale\":[[0.0,\"#0d0887\"],[0.1111111111111111,\"#46039f\"],[0.2222222222222222,\"#7201a8\"],[0.3333333333333333,\"#9c179e\"],[0.4444444444444444,\"#bd3786\"],[0.5555555555555556,\"#d8576b\"],[0.6666666666666666,\"#ed7953\"],[0.7777777777777778,\"#fb9f3a\"],[0.8888888888888888,\"#fdca26\"],[1.0,\"#f0f921\"]]}],\"mesh3d\":[{\"type\":\"mesh3d\",\"colorbar\":{\"outlinewidth\":0,\"ticks\":\"\"}}],\"scatter\":[{\"fillpattern\":{\"fillmode\":\"overlay\",\"size\":10,\"solidity\":0.2},\"type\":\"scatter\"}],\"parcoords\":[{\"type\":\"parcoords\",\"line\":{\"colorbar\":{\"outlinewidth\":0,\"ticks\":\"\"}}}],\"scatterpolargl\":[{\"type\":\"scatterpolargl\",\"marker\":{\"colorbar\":{\"outlinewidth\":0,\"ticks\":\"\"}}}],\"bar\":[{\"error_x\":{\"color\":\"#2a3f5f\"},\"error_y\":{\"color\":\"#2a3f5f\"},\"marker\":{\"line\":{\"color\":\"#E5ECF6\",\"width\":0.5},\"pattern\":{\"fillmode\":\"overlay\",\"size\":10,\"solidity\":0.2}},\"type\":\"bar\"}],\"scattergeo\":[{\"type\":\"scattergeo\",\"marker\":{\"colorbar\":{\"outlinewidth\":0,\"ticks\":\"\"}}}],\"scatterpolar\":[{\"type\":\"scatterpolar\",\"marker\":{\"colorbar\":{\"outlinewidth\":0,\"ticks\":\"\"}}}],\"histogram\":[{\"marker\":{\"pattern\":{\"fillmode\":\"overlay\",\"size\":10,\"solidity\":0.2}},\"type\":\"histogram\"}],\"scattergl\":[{\"type\":\"scattergl\",\"marker\":{\"colorbar\":{\"outlinewidth\":0,\"ticks\":\"\"}}}],\"scatter3d\":[{\"type\":\"scatter3d\",\"line\":{\"colorbar\":{\"outlinewidth\":0,\"ticks\":\"\"}},\"marker\":{\"colorbar\":{\"outlinewidth\":0,\"ticks\":\"\"}}}],\"scattermapbox\":[{\"type\":\"scattermapbox\",\"marker\":{\"colorbar\":{\"outlinewidth\":0,\"ticks\":\"\"}}}],\"scatterternary\":[{\"type\":\"scatterternary\",\"marker\":{\"colorbar\":{\"outlinewidth\":0,\"ticks\":\"\"}}}],\"scattercarpet\":[{\"type\":\"scattercarpet\",\"marker\":{\"colorbar\":{\"outlinewidth\":0,\"ticks\":\"\"}}}],\"carpet\":[{\"aaxis\":{\"endlinecolor\":\"#2a3f5f\",\"gridcolor\":\"white\",\"linecolor\":\"white\",\"minorgridcolor\":\"white\",\"startlinecolor\":\"#2a3f5f\"},\"baxis\":{\"endlinecolor\":\"#2a3f5f\",\"gridcolor\":\"white\",\"linecolor\":\"white\",\"minorgridcolor\":\"white\",\"startlinecolor\":\"#2a3f5f\"},\"type\":\"carpet\"}],\"table\":[{\"cells\":{\"fill\":{\"color\":\"#EBF0F8\"},\"line\":{\"color\":\"white\"}},\"header\":{\"fill\":{\"color\":\"#C8D4E3\"},\"line\":{\"color\":\"white\"}},\"type\":\"table\"}],\"barpolar\":[{\"marker\":{\"line\":{\"color\":\"#E5ECF6\",\"width\":0.5},\"pattern\":{\"fillmode\":\"overlay\",\"size\":10,\"solidity\":0.2}},\"type\":\"barpolar\"}],\"pie\":[{\"automargin\":true,\"type\":\"pie\"}]},\"layout\":{\"autotypenumbers\":\"strict\",\"colorway\":[\"#636efa\",\"#EF553B\",\"#00cc96\",\"#ab63fa\",\"#FFA15A\",\"#19d3f3\",\"#FF6692\",\"#B6E880\",\"#FF97FF\",\"#FECB52\"],\"font\":{\"color\":\"#2a3f5f\"},\"hovermode\":\"closest\",\"hoverlabel\":{\"align\":\"left\"},\"paper_bgcolor\":\"white\",\"plot_bgcolor\":\"#E5ECF6\",\"polar\":{\"bgcolor\":\"#E5ECF6\",\"angularaxis\":{\"gridcolor\":\"white\",\"linecolor\":\"white\",\"ticks\":\"\"},\"radialaxis\":{\"gridcolor\":\"white\",\"linecolor\":\"white\",\"ticks\":\"\"}},\"ternary\":{\"bgcolor\":\"#E5ECF6\",\"aaxis\":{\"gridcolor\":\"white\",\"linecolor\":\"white\",\"ticks\":\"\"},\"baxis\":{\"gridcolor\":\"white\",\"linecolor\":\"white\",\"ticks\":\"\"},\"caxis\":{\"gridcolor\":\"white\",\"linecolor\":\"white\",\"ticks\":\"\"}},\"coloraxis\":{\"colorbar\":{\"outlinewidth\":0,\"ticks\":\"\"}},\"colorscale\":{\"sequential\":[[0.0,\"#0d0887\"],[0.1111111111111111,\"#46039f\"],[0.2222222222222222,\"#7201a8\"],[0.3333333333333333,\"#9c179e\"],[0.4444444444444444,\"#bd3786\"],[0.5555555555555556,\"#d8576b\"],[0.6666666666666666,\"#ed7953\"],[0.7777777777777778,\"#fb9f3a\"],[0.8888888888888888,\"#fdca26\"],[1.0,\"#f0f921\"]],\"sequentialminus\":[[0.0,\"#0d0887\"],[0.1111111111111111,\"#46039f\"],[0.2222222222222222,\"#7201a8\"],[0.3333333333333333,\"#9c179e\"],[0.4444444444444444,\"#bd3786\"],[0.5555555555555556,\"#d8576b\"],[0.6666666666666666,\"#ed7953\"],[0.7777777777777778,\"#fb9f3a\"],[0.8888888888888888,\"#fdca26\"],[1.0,\"#f0f921\"]],\"diverging\":[[0,\"#8e0152\"],[0.1,\"#c51b7d\"],[0.2,\"#de77ae\"],[0.3,\"#f1b6da\"],[0.4,\"#fde0ef\"],[0.5,\"#f7f7f7\"],[0.6,\"#e6f5d0\"],[0.7,\"#b8e186\"],[0.8,\"#7fbc41\"],[0.9,\"#4d9221\"],[1,\"#276419\"]]},\"xaxis\":{\"gridcolor\":\"white\",\"linecolor\":\"white\",\"ticks\":\"\",\"title\":{\"standoff\":15},\"zerolinecolor\":\"white\",\"automargin\":true,\"zerolinewidth\":2},\"yaxis\":{\"gridcolor\":\"white\",\"linecolor\":\"white\",\"ticks\":\"\",\"title\":{\"standoff\":15},\"zerolinecolor\":\"white\",\"automargin\":true,\"zerolinewidth\":2},\"scene\":{\"xaxis\":{\"backgroundcolor\":\"#E5ECF6\",\"gridcolor\":\"white\",\"linecolor\":\"white\",\"showbackground\":true,\"ticks\":\"\",\"zerolinecolor\":\"white\",\"gridwidth\":2},\"yaxis\":{\"backgroundcolor\":\"#E5ECF6\",\"gridcolor\":\"white\",\"linecolor\":\"white\",\"showbackground\":true,\"ticks\":\"\",\"zerolinecolor\":\"white\",\"gridwidth\":2},\"zaxis\":{\"backgroundcolor\":\"#E5ECF6\",\"gridcolor\":\"white\",\"linecolor\":\"white\",\"showbackground\":true,\"ticks\":\"\",\"zerolinecolor\":\"white\",\"gridwidth\":2}},\"shapedefaults\":{\"line\":{\"color\":\"#2a3f5f\"}},\"annotationdefaults\":{\"arrowcolor\":\"#2a3f5f\",\"arrowhead\":0,\"arrowwidth\":1},\"geo\":{\"bgcolor\":\"white\",\"landcolor\":\"#E5ECF6\",\"subunitcolor\":\"white\",\"showland\":true,\"showlakes\":true,\"lakecolor\":\"white\"},\"title\":{\"x\":0.05},\"mapbox\":{\"style\":\"light\"}}}},                        {\"responsive\": true}                    ).then(function(){\n",
              "                            \n",
              "var gd = document.getElementById('f5619803-3d81-48b4-ad9a-90b9bc0b9c09');\n",
              "var x = new MutationObserver(function (mutations, observer) {{\n",
              "        var display = window.getComputedStyle(gd).display;\n",
              "        if (!display || display === 'none') {{\n",
              "            console.log([gd, 'removed!']);\n",
              "            Plotly.purge(gd);\n",
              "            observer.disconnect();\n",
              "        }}\n",
              "}});\n",
              "\n",
              "// Listen for the removal of the full notebook cells\n",
              "var notebookContainer = gd.closest('#notebook-container');\n",
              "if (notebookContainer) {{\n",
              "    x.observe(notebookContainer, {childList: true});\n",
              "}}\n",
              "\n",
              "// Listen for the clearing of the current output cell\n",
              "var outputEl = gd.closest('.output');\n",
              "if (outputEl) {{\n",
              "    x.observe(outputEl, {childList: true});\n",
              "}}\n",
              "\n",
              "                        })                };                            </script>        </div>\n",
              "</body>\n",
              "</html>"
            ]
          },
          "metadata": {}
        }
      ]
    },
    {
      "cell_type": "markdown",
      "source": [
        "Видим попадания и большую точность исключительно потому, что линия касается изначальной функции до применения шума во многих местах, сделаем полиномиальную регрессию. "
      ],
      "metadata": {
        "id": "f-H0jDxZhMgL"
      }
    },
    {
      "cell_type": "code",
      "source": [
        "poly = PolynomialFeatures(degree=5, include_bias=False)\n",
        "\n",
        "X_train_3_ = poly.fit_transform(X_train_3)\n",
        "X_test_3_ = poly.fit_transform(X_test_3)\n",
        "\n",
        "pd.DataFrame(X_train_3_).head()"
      ],
      "metadata": {
        "colab": {
          "base_uri": "https://localhost:8080/",
          "height": 206
        },
        "id": "tpMzdmeNhjZl",
        "outputId": "9f6af566-c3c2-4234-8208-1abc5793dd77"
      },
      "execution_count": null,
      "outputs": [
        {
          "output_type": "execute_result",
          "data": {
            "text/plain": [
              "          0          1           2            3             4\n",
              "0  5.880648  34.582018  203.364668  1195.915978  7.032761e+03\n",
              "1  0.035474   0.001258    0.000045     0.000002  5.617679e-08\n",
              "2 -9.655572  93.230065 -900.189582  8691.845072 -8.392473e+04\n",
              "3  2.170322   4.710299   10.222866    22.186913  4.815275e+01\n",
              "4  5.321663  28.320092  150.709974   802.027624  4.268120e+03"
            ],
            "text/html": [
              "<div>\n",
              "<style scoped>\n",
              "    .dataframe tbody tr th:only-of-type {\n",
              "        vertical-align: middle;\n",
              "    }\n",
              "\n",
              "    .dataframe tbody tr th {\n",
              "        vertical-align: top;\n",
              "    }\n",
              "\n",
              "    .dataframe thead th {\n",
              "        text-align: right;\n",
              "    }\n",
              "</style>\n",
              "<table border=\"1\" class=\"dataframe\">\n",
              "  <thead>\n",
              "    <tr style=\"text-align: right;\">\n",
              "      <th></th>\n",
              "      <th>0</th>\n",
              "      <th>1</th>\n",
              "      <th>2</th>\n",
              "      <th>3</th>\n",
              "      <th>4</th>\n",
              "    </tr>\n",
              "  </thead>\n",
              "  <tbody>\n",
              "    <tr>\n",
              "      <th>0</th>\n",
              "      <td>5.880648</td>\n",
              "      <td>34.582018</td>\n",
              "      <td>203.364668</td>\n",
              "      <td>1195.915978</td>\n",
              "      <td>7.032761e+03</td>\n",
              "    </tr>\n",
              "    <tr>\n",
              "      <th>1</th>\n",
              "      <td>0.035474</td>\n",
              "      <td>0.001258</td>\n",
              "      <td>0.000045</td>\n",
              "      <td>0.000002</td>\n",
              "      <td>5.617679e-08</td>\n",
              "    </tr>\n",
              "    <tr>\n",
              "      <th>2</th>\n",
              "      <td>-9.655572</td>\n",
              "      <td>93.230065</td>\n",
              "      <td>-900.189582</td>\n",
              "      <td>8691.845072</td>\n",
              "      <td>-8.392473e+04</td>\n",
              "    </tr>\n",
              "    <tr>\n",
              "      <th>3</th>\n",
              "      <td>2.170322</td>\n",
              "      <td>4.710299</td>\n",
              "      <td>10.222866</td>\n",
              "      <td>22.186913</td>\n",
              "      <td>4.815275e+01</td>\n",
              "    </tr>\n",
              "    <tr>\n",
              "      <th>4</th>\n",
              "      <td>5.321663</td>\n",
              "      <td>28.320092</td>\n",
              "      <td>150.709974</td>\n",
              "      <td>802.027624</td>\n",
              "      <td>4.268120e+03</td>\n",
              "    </tr>\n",
              "  </tbody>\n",
              "</table>\n",
              "</div>"
            ]
          },
          "metadata": {},
          "execution_count": 448
        }
      ]
    },
    {
      "cell_type": "code",
      "source": [
        "model_lr_3 = LinearRegression().fit(X_train_3_, y_train_3)\n",
        "\n",
        "y_pred_lr_3 = model_lr_3.predict(X_test_3_)\n",
        "\n",
        "print(f'R2 score: {r2_score(y_test_3, y_pred_lr_3)}')\n",
        "print(f'MAE: {mean_absolute_error(y_test_3, y_pred_lr_3)}')\n",
        "print(f'MSE: {mean_squared_error(y_test_3, y_pred_lr_3)}')"
      ],
      "metadata": {
        "colab": {
          "base_uri": "https://localhost:8080/"
        },
        "id": "KAmfJpZYhY47",
        "outputId": "90287c05-712a-4aba-dec2-5cd710e35702"
      },
      "execution_count": null,
      "outputs": [
        {
          "output_type": "stream",
          "name": "stdout",
          "text": [
            "R2 score: 0.9917139298963843\n",
            "MAE: 77.92322949805616\n",
            "MSE: 9410.823738871719\n"
          ]
        }
      ]
    },
    {
      "cell_type": "code",
      "source": [
        "plot_test(X_train_3, X_test_3, y_train_3, y_test_3, y_pred_lr_3)"
      ],
      "metadata": {
        "colab": {
          "base_uri": "https://localhost:8080/",
          "height": 542
        },
        "id": "jamaKFgshrYc",
        "outputId": "486719bc-9fad-4f62-c566-a0527dc85ee1"
      },
      "execution_count": null,
      "outputs": [
        {
          "output_type": "display_data",
          "data": {
            "text/html": [
              "<html>\n",
              "<head><meta charset=\"utf-8\" /></head>\n",
              "<body>\n",
              "    <div>            <script src=\"https://cdnjs.cloudflare.com/ajax/libs/mathjax/2.7.5/MathJax.js?config=TeX-AMS-MML_SVG\"></script><script type=\"text/javascript\">if (window.MathJax && window.MathJax.Hub && window.MathJax.Hub.Config) {window.MathJax.Hub.Config({SVG: {font: \"STIX-Web\"}});}</script>                <script type=\"text/javascript\">window.PlotlyConfig = {MathJaxConfig: 'local'};</script>\n",
              "        <script src=\"https://cdn.plot.ly/plotly-2.16.1.min.js\"></script>                <div id=\"5338486f-3b49-4391-a846-d7317f29163f\" class=\"plotly-graph-div\" style=\"height:525px; width:100%;\"></div>            <script type=\"text/javascript\">                                    window.PLOTLYENV=window.PLOTLYENV || {};                                    if (document.getElementById(\"5338486f-3b49-4391-a846-d7317f29163f\")) {                    Plotly.newPlot(                        \"5338486f-3b49-4391-a846-d7317f29163f\",                        [{\"hovertemplate\":\"train=%{x}<br>y_train=%{y}<extra></extra>\",\"legendgroup\":\"\",\"marker\":{\"color\":\"#636efa\",\"symbol\":\"circle\"},\"mode\":\"markers\",\"name\":\"train\",\"orientation\":\"v\",\"showlegend\":true,\"x\":[5.880647764551117,0.03547409924775735,-9.65557172213581,2.17032224066768,5.321662544203917,8.390474060310435,2.165235711595983,-8.387740969877548,-2.8800357171964226,9.542906936639099,3.7849531329109993,-6.306990736657763,9.328610278939319,0.6119793323626013,-1.6421780717777033,8.446438295694968,6.003291850333344,2.149154065837406,-7.012926968017181,-4.219519270774546,4.5032334731454995,-2.6083261224191663,-2.46823910358774,8.527392687729034,2.3821396684801144,-0.848664228266717,4.543357074971572,-7.511951415050766,-7.5387999439065245,-3.4769131031346534,-0.9858997394461326,-1.2260293523085295,-5.936598476857496,-0.13750356929691243,1.329892642056425,-7.081944939758151,-0.7783944558471063,-2.527514245381603,5.129364583315132,-0.7545584701744108,-4.7879506037709625,1.0962713702402738,-9.714871304860964,-9.158004137266538,6.435756713643677,4.520347750307941,2.6452152232851738,-2.501777518007124,0.3370667200794859,-6.008343462360015,2.22483268403543,-9.31514203084052,-2.1627197293396954,-0.7011420112671622,9.227261173371065,6.0189892647902745,-9.656566708924139,-0.9216312633969075,1.9397317095443931,-0.7008674376577595,0.06904437450784329,8.487829984809586,0.9691565018879125,-1.28418835142487,-0.9093750515754806,-6.172622486477987,-2.9591080392471447,0.8437097865395202,8.361316313033218,3.161326481711102,5.013432689820224,-8.869961919026208,-9.799923615648288,7.6394991116972975,-7.149814222735991,8.751099361015488,-9.877265448440225,0.5915346062345499,-6.120189961424025,0.8144520561310831,7.361879318576872,1.5095639339820703,6.2486318866575665,-9.226753968819787,6.07233476519778,-7.687812851401499,-1.415153415048998,5.596360409546342,-8.898064143961745,-7.003210186101844,-6.985619628870707,3.254465889328273,5.55717206173254,-9.073841106736518,-1.0450874730902981,-1.4056351210305635,-6.6815606765869155,3.6466283774670867,-8.53166152927926,0.8380393547101495,4.820034531808968,-0.678448723682985,-3.8178008961834546,-3.9649862618897753,-1.9902104375042207,7.875045132799482,-1.677894516595293,7.248113242035451,-3.4920942588602593,6.833171598881982,-9.016454305590674,1.5071607224266579,-3.0186491509470725,3.2098106570859404,-8.430478801954784,2.6881965780159938,-9.745737059661563,-2.2957929502024754,-5.879391231281128,-9.69701792556451,3.9758107179971436,-3.3500009107305306,9.420614148952893,-6.642061536128172,-3.3137852500922715,1.4250798530117557,-9.625121342838103,-8.9656200571319,-7.222707757705271,4.436704631800426,-7.278416708711601,-5.3228288200795815,5.437803695319177,-1.9338588100383287,-6.1612336531222756,-2.4179860110785745,2.7148688547590822,-6.026664694577109,-8.487492274651583,-7.904355493708395,2.248104330095755,-9.411270559478861,2.1269561600166362,-1.605667933179875,2.396232820315996,-8.826303825906674,-4.465376854746732,-8.28967495951808,-9.875467061480993,-2.1995201220269056,-5.389748220038082,-8.43931048214618,5.0192249954783215,5.595214842813128,-1.1655644044324465,-0.9872251176450177,4.205562210096854,4.871720463309764,-5.75425367040272,-9.336720220859132,-9.387284644132336,-0.2910097020247431,5.899164465692019,-1.994688709397355,3.2300553668029472,-0.02340375665832184,3.0863381339538307,1.0722644486420272,5.0180120511894195,0.3821726808529107,-4.457272909494636,9.090596622588599,3.6211916933317134,-1.413898348508642,-0.8666657539748464,0.7325006459748362,-5.3099634493705405,-4.241192778438365,-1.659970551129227,-5.418173917981828,2.3978374701064773,8.95850888901952,-2.6896105502022616,8.266253167861343,2.879345125364761,-9.835796760808995,-5.767625968292243,7.930226305941709,-8.566932879021294,6.507165189535517,-6.83823736785838,9.493614760832905,-8.961130121699018,-5.046257639022826,-8.862790214555908,0.8202718324297109,5.000265802815857,-2.105183581073655,4.791581319738487,-7.509673372214623,7.123917131434371,6.16186601258244,6.06980969117814,4.714131083341952,-6.262181893957514,-4.976188660051964,2.9526541969262095,2.216374698004749,1.3750942370388337,-4.932804989876116,0.029461388758534213,-4.538639220757217,7.722219095097522,-5.415475701930785,5.404208455855562,-1.8993010455510735,9.509514851841676,-3.957565023234082,0.9470185878747817,2.1863027901735705,2.498006866544456,-5.388834361851482,-4.821435657567519,7.431504057809647,-8.706509843408188,-5.240516278335161,-5.27563613000633,-9.567119539542743,-7.811056522749702,-2.40276765780121,5.972303993742907,-6.254042819386276,6.372811432385454,-6.458610169766974,2.6978047861724512,4.602961362407962,9.614372004685933,-3.796827877661924,-4.721812764346753,-7.952803521927154],\"xaxis\":\"x\",\"y\":[436.0729557235298,-90.3593584036851,-2307.0416097669904,-31.73885505844682,394.9359892832473,1349.5309599433533,26.14781346523116,-1694.898290384268,119.33107902654965,2129.1266886318094,-16.835298632840818,-473.5649315859797,1803.7677223007122,24.961122291310055,65.0237969324505,1582.6737739496443,507.8736510519775,121.57458304563002,-845.9351339679159,-248.40038980460906,273.37794939103884,-17.672537937300724,-121.7843697496912,1497.5728748315978,-72.98227829922891,-3.4799145231168573,184.84762805120425,-1042.468923114486,-1039.6951906999936,-172.2275928185203,-85.20462662049037,80.43582259440866,-736.3444194536819,-18.130632379917397,18.230022782962166,-857.4772232050068,-63.693132347972536,48.19902691426052,250.9312371800761,51.53731154320056,-255.6970807471306,-137.68482689158427,-2462.047257652723,-1798.5785214107864,648.8538276530365,233.04179573607385,-26.614869479740335,6.368825156072347,60.255638779173275,-458.3022063944215,7.665633620457072,-2009.9056008396046,63.70551287198275,0.19357573485304203,1761.2755713811443,482.1758974284967,-2198.8301845640553,9.1980238453966,94.42786565370098,33.060042949306755,-164.8828436913668,1390.1506631949756,70.45071073367036,55.944211868564715,42.616940898294516,-754.0451271838608,-61.337928919101465,12.953343727436335,1492.7312213137052,114.5251118587174,366.7385285264874,-1787.9966124413722,-2509.0342494670776,1062.7298593618532,-1007.6962385582142,1650.7056476760142,-2340.7933186156424,19.274364179767154,-692.1878702665257,-55.770931885927595,1090.3238133999523,149.00542784804207,437.5760330785418,-2143.8059529360075,393.0317845775706,-1192.0721085090681,70.61044896031781,318.198257540049,-1822.5664285977791,-1040.565344110806,-704.7682751092003,57.086445068769216,241.34727815942256,-1846.407516427828,82.07174458653508,22.160414131405222,-798.5462304506209,200.1470278617598,-1692.343026866936,-42.53218676603355,378.90364437615284,42.1113156501994,21.36216367551137,-5.353879089834351,-213.26050080123537,1122.107248530441,242.334476883189,914.4917654938608,-71.13985752571033,731.9894323139758,-1810.1094029891613,29.49317815209496,54.427758799284234,54.841750356618796,-1614.9961584383077,117.24785966768454,-2510.3279224879598,37.17512016172381,-470.5785572403643,-2132.8863928457895,193.57156652686066,-67.6441650392421,2035.4611292756217,-927.8293706420218,-155.55129363123064,5.872838901713816,-2249.808421843521,-1820.3756441308583,-907.8612257097042,169.36894481924352,-1002.6133747499169,-229.2321646088615,364.90948744517726,27.00983430062942,-517.9363593134597,-225.76470514692045,-21.58221123556993,-398.47661562925083,-1471.7601667521087,-1376.2128771644234,16.87205114417568,-1931.7059284353065,55.90204090730843,53.97022771877681,31.579410503406166,-1906.0656996031428,-254.17174348764584,-1477.4594589137948,-2356.089797402216,-104.89301738864799,-566.2161152936538,-1520.4172878466957,379.64981506314757,457.96613537622966,-123.65223275206675,155.97501066538436,262.29883656870163,275.3553461968107,-387.8348025356273,-1865.8649325770775,-2130.4291444138303,-52.77543393311834,427.3436813238137,-2.1875294039315776,44.010677810408986,78.32911209488537,72.3132975248598,-125.42842552454874,361.7884797453922,-58.657740204845524,-115.33561741008542,1851.6535815323223,20.119575862569505,-23.973462039633,26.43791429927554,93.34383115869397,-425.5897126543138,-222.65411455003212,-79.64905238224404,-546.6776401643607,11.946126561236149,1587.5017473945625,-70.06764998356705,1461.5079028974933,-48.25039421592991,-2494.9651743239856,-542.2453723776155,1242.6172750494334,-1641.8251145387985,597.62167713392,-1077.4615745681008,2081.980003423446,-1833.2710261940313,-579.9604253360897,-1792.0049692438943,215.1002209926401,371.3138063930468,-190.0917190860635,284.6292546889529,-1189.7914934580615,628.7465411636799,741.8945264509514,475.89633517854173,415.51811616487385,-698.3804095240072,-268.7320247361325,135.97101175152858,-83.95517023519358,-226.23245452969724,-233.46035390234655,-112.50834064618857,-461.46169611655307,1112.7619210521498,-640.8785131561123,449.07611066722006,66.6965350738024,2053.48260696104,-446.089667643775,116.60585576029003,57.341070136418125,73.04208887515884,-317.22962182999026,-151.48720680463208,985.397089336855,-1617.8730872300625,-237.03413901381896,-304.8585431700371,-2345.7859564980304,-977.5607340617335,-25.841765742729528,427.83531565373596,-673.5940834122405,762.4471489011981,-897.0323359853076,55.44858215576074,299.971139136991,2199.485685379224,-277.2095651232403,-246.89751649691627,-1370.6649080971824],\"yaxis\":\"y\",\"type\":\"scatter\"},{\"hovertemplate\":\"X_test=%{x}<br>y_test=%{y}<extra></extra>\",\"legendgroup\":\"\",\"marker\":{\"color\":\"red\",\"symbol\":\"circle\"},\"mode\":\"markers\",\"name\":\"test\",\"orientation\":\"v\",\"showlegend\":true,\"x\":[4.959393643453808,7.916949393325055,-7.314762971240727,-4.578173578264543,-4.949001840522889,0.37555345390784645,5.890627641349761,6.806018310347383,9.56027102723452,3.8171354648870235,-8.2705513331172,0.24636809978523289,0.7310401694126067,-2.392373709412099,2.328531817742272,8.264983899409163,-8.419289221629189,6.892520699548093,-3.5926985488698833,8.365479605584504,6.5755061690404375,9.878129415888008,-7.060944990712956,-9.736151292424058,7.915733024109045,-8.705427424129708,-7.862233829549616,-9.829243564614591,-6.2379548975354275,7.5962549022427694,-7.2786038966677395,1.2000572950935045,-7.590502731746909,-5.831271200456857,3.5991438271311935,-3.46838635696332,1.8328243927598304,0.17271995985721134,-6.456962994348423,-3.4018024058945855,6.578378434327583,-8.035134872799274,-8.90911976383477,9.338943806478039,8.522850623006853,0.3416231558760181,-7.695650184243106,-7.872516876144992,6.898080995306838,-5.676379166940963,8.041104332521371,-6.6795779860075655,7.403399285461781,6.425369736231538,-9.194462944246673,-2.2451155359973,-6.105945417161811,-6.042529409003725,-6.00668472304479,2.351126643296542],\"xaxis\":\"x\",\"y\":[280.3361894460279,1160.753015367256,-1081.8586336386888,-217.2453365179956,-415.21759570388576,61.20641734170668,244.41075165807962,916.9109363247693,2032.6026594947339,38.97453755560922,-1528.7918491905696,-101.29119175473672,110.03092307317776,-43.51474164349466,178.63776613503245,1300.390956262993,-1581.0778142897952,823.9222832750867,-63.57314756153993,1472.7290053714137,509.05887191206347,2288.840229279856,-792.2860677615784,-2236.0903801459604,1132.364237213851,-1579.7740011787805,-1323.8808292012263,-2382.3207510739962,-574.5707723160415,1025.7228256932774,-965.3394731222554,65.91419941183565,-1135.557934938202,-580.5109944874458,177.64500204157923,27.792283198212687,169.9267356839912,47.287023463655444,-747.9219520963132,-35.441642830874784,660.6800779156162,-1353.616069318047,-1786.566115966169,1961.2547855431542,1628.2208896628347,108.5249679599038,-1316.3327697578723,-1235.0418418354386,640.2193917384816,-360.3041438434576,1239.3416064417718,-723.7822866021585,909.6292989159128,558.0575983341672,-2036.9539098572332,-151.3711138641473,-883.2464894363249,-511.26122931818685,-631.6271810215533,229.7865356872143],\"yaxis\":\"y\",\"type\":\"scatter\"},{\"hovertemplate\":\"X_test=%{x}<br>y_pred=%{y}<extra></extra>\",\"legendgroup\":\"\",\"marker\":{\"color\":\"lime\",\"symbol\":\"circle\"},\"mode\":\"markers\",\"name\":\"predictions\",\"orientation\":\"v\",\"showlegend\":true,\"x\":[4.959393643453808,7.916949393325055,-7.314762971240727,-4.578173578264543,-4.949001840522889,0.37555345390784645,5.890627641349761,6.806018310347383,9.56027102723452,3.8171354648870235,-8.2705513331172,0.24636809978523289,0.7310401694126067,-2.392373709412099,2.328531817742272,8.264983899409163,-8.419289221629189,6.892520699548093,-3.5926985488698833,8.365479605584504,6.5755061690404375,9.878129415888008,-7.060944990712956,-9.736151292424058,7.915733024109045,-8.705427424129708,-7.862233829549616,-9.829243564614591,-6.2379548975354275,7.5962549022427694,-7.2786038966677395,1.2000572950935045,-7.590502731746909,-5.831271200456857,3.5991438271311935,-3.46838635696332,1.8328243927598304,0.17271995985721134,-6.456962994348423,-3.4018024058945855,6.578378434327583,-8.035134872799274,-8.90911976383477,9.338943806478039,8.522850623006853,0.3416231558760181,-7.695650184243106,-7.872516876144992,6.898080995306838,-5.676379166940963,8.041104332521371,-6.6795779860075655,7.403399285461781,6.425369736231538,-9.194462944246673,-2.2451155359973,-6.105945417161811,-6.042529409003725,-6.00668472304479,2.351126643296542],\"xaxis\":\"x\",\"y\":[285.88740585813093,1189.4099973663492,-1024.7662085067843,-255.60741932396436,-323.35919980876827,7.746937089167431,484.5812410677688,752.7422215871228,2090.6766783345456,127.96333232834098,-1461.918472994919,8.017082075680618,7.394064333228622,-29.58830285921716,29.989648489850843,1353.684393620132,-1538.8369647277207,782.1830753533916,-120.70479184285307,1403.6879165399926,677.8509746435892,2303.393022403604,-924.662852683123,-2330.4330100161137,1188.8597333936275,-1693.7850495053615,-1263.2492450406016,-2394.1456814886637,-643.2669552682754,1049.9647076356148,-1010.1079414605854,8.777094084677273,-1140.963682587059,-527.2547901516799,106.93118283774173,-107.88564681716528,16.652137018930926,8.182976603858934,-711.9033345809472,-101.37158046570502,678.7526949250278,-1345.1622865237157,-1809.7610680165044,1950.168596970443,1484.3466938627882,7.813881109418943,-1187.356555620091,-1268.0309522871987,784.1008063658843,-486.85068404839205,1246.443798002998,-786.2456140405884,971.4549284731524,631.8037320572942,-1980.2924569046265,-22.839607954558314,-604.0031771498516,-585.6952649957902,-575.504551471991,30.782890532198426],\"yaxis\":\"y\",\"type\":\"scatter\"},{\"hovertemplate\":\"<b>LOWESS trendline</b><br><br>X_test=%{x}<br>y_pred=%{y} <b>(trend)</b><extra></extra>\",\"legendgroup\":\"\",\"marker\":{\"color\":\"lime\",\"symbol\":\"circle\"},\"mode\":\"lines\",\"name\":\"\",\"showlegend\":true,\"x\":[-9.829243564614591,-9.736151292424058,-9.194462944246673,-8.90911976383477,-8.705427424129708,-8.419289221629189,-8.2705513331172,-8.035134872799274,-7.872516876144992,-7.862233829549616,-7.695650184243106,-7.590502731746909,-7.314762971240727,-7.2786038966677395,-7.060944990712956,-6.6795779860075655,-6.456962994348423,-6.2379548975354275,-6.105945417161811,-6.042529409003725,-6.00668472304479,-5.831271200456857,-5.676379166940963,-4.949001840522889,-4.578173578264543,-3.5926985488698833,-3.46838635696332,-3.4018024058945855,-2.392373709412099,-2.2451155359973,0.17271995985721134,0.24636809978523289,0.3416231558760181,0.37555345390784645,0.7310401694126067,1.2000572950935045,1.8328243927598304,2.328531817742272,2.351126643296542,3.5991438271311935,3.8171354648870235,4.959393643453808,5.890627641349761,6.425369736231538,6.5755061690404375,6.578378434327583,6.806018310347383,6.892520699548093,6.898080995306838,7.403399285461781,7.5962549022427694,7.915733024109045,7.916949393325055,8.041104332521371,8.264983899409163,8.365479605584504,8.522850623006853,9.338943806478039,9.56027102723452,9.878129415888008],\"xaxis\":\"x\",\"y\":[-2391.1454253254965,-2332.5274835020177,-1991.2817276872129,-1808.5020453321074,-1696.6738235344117,-1541.0753388595265,-1463.021226106202,-1346.5422257398418,-1268.8379868262284,-1264.1203281963747,-1187.9941797930758,-1141.1738481313712,-1026.3434742113689,-1011.4506471172689,-927.5791732613686,-789.1390867548158,-713.228397637407,-644.4377471758725,-604.3967923352748,-586.2402081628378,-576.0004314427918,-528.1797111152762,-486.3033819491217,-334.236497883811,-257.0955408895213,-124.16793163742174,-108.49675048821146,-103.03291748864996,-31.439246749316116,-20.963190641162072,8.107945883612555,8.003693376130283,7.871449291706305,7.824874190065213,7.5773140019574585,9.443820496192666,21.059604436587897,29.97959546999882,30.454037158942125,74.59733368462321,82.25041919032674,228.19860320061275,484.3365661561391,631.3882215799001,678.3590209653876,679.2649247319926,753.4854208693907,781.9751096121419,783.8081918900743,971.4621632794674,1052.6120254023112,1189.6935300064802,1190.2287227712586,1247.7846252561317,1354.682475528348,1404.691176348795,1483.5513204279907,1961.5285538014327,2090.662221573968,2276.1578767983883],\"yaxis\":\"y\",\"type\":\"scatter\"}],                        {\"template\":{\"data\":{\"histogram2dcontour\":[{\"type\":\"histogram2dcontour\",\"colorbar\":{\"outlinewidth\":0,\"ticks\":\"\"},\"colorscale\":[[0.0,\"#0d0887\"],[0.1111111111111111,\"#46039f\"],[0.2222222222222222,\"#7201a8\"],[0.3333333333333333,\"#9c179e\"],[0.4444444444444444,\"#bd3786\"],[0.5555555555555556,\"#d8576b\"],[0.6666666666666666,\"#ed7953\"],[0.7777777777777778,\"#fb9f3a\"],[0.8888888888888888,\"#fdca26\"],[1.0,\"#f0f921\"]]}],\"choropleth\":[{\"type\":\"choropleth\",\"colorbar\":{\"outlinewidth\":0,\"ticks\":\"\"}}],\"histogram2d\":[{\"type\":\"histogram2d\",\"colorbar\":{\"outlinewidth\":0,\"ticks\":\"\"},\"colorscale\":[[0.0,\"#0d0887\"],[0.1111111111111111,\"#46039f\"],[0.2222222222222222,\"#7201a8\"],[0.3333333333333333,\"#9c179e\"],[0.4444444444444444,\"#bd3786\"],[0.5555555555555556,\"#d8576b\"],[0.6666666666666666,\"#ed7953\"],[0.7777777777777778,\"#fb9f3a\"],[0.8888888888888888,\"#fdca26\"],[1.0,\"#f0f921\"]]}],\"heatmap\":[{\"type\":\"heatmap\",\"colorbar\":{\"outlinewidth\":0,\"ticks\":\"\"},\"colorscale\":[[0.0,\"#0d0887\"],[0.1111111111111111,\"#46039f\"],[0.2222222222222222,\"#7201a8\"],[0.3333333333333333,\"#9c179e\"],[0.4444444444444444,\"#bd3786\"],[0.5555555555555556,\"#d8576b\"],[0.6666666666666666,\"#ed7953\"],[0.7777777777777778,\"#fb9f3a\"],[0.8888888888888888,\"#fdca26\"],[1.0,\"#f0f921\"]]}],\"heatmapgl\":[{\"type\":\"heatmapgl\",\"colorbar\":{\"outlinewidth\":0,\"ticks\":\"\"},\"colorscale\":[[0.0,\"#0d0887\"],[0.1111111111111111,\"#46039f\"],[0.2222222222222222,\"#7201a8\"],[0.3333333333333333,\"#9c179e\"],[0.4444444444444444,\"#bd3786\"],[0.5555555555555556,\"#d8576b\"],[0.6666666666666666,\"#ed7953\"],[0.7777777777777778,\"#fb9f3a\"],[0.8888888888888888,\"#fdca26\"],[1.0,\"#f0f921\"]]}],\"contourcarpet\":[{\"type\":\"contourcarpet\",\"colorbar\":{\"outlinewidth\":0,\"ticks\":\"\"}}],\"contour\":[{\"type\":\"contour\",\"colorbar\":{\"outlinewidth\":0,\"ticks\":\"\"},\"colorscale\":[[0.0,\"#0d0887\"],[0.1111111111111111,\"#46039f\"],[0.2222222222222222,\"#7201a8\"],[0.3333333333333333,\"#9c179e\"],[0.4444444444444444,\"#bd3786\"],[0.5555555555555556,\"#d8576b\"],[0.6666666666666666,\"#ed7953\"],[0.7777777777777778,\"#fb9f3a\"],[0.8888888888888888,\"#fdca26\"],[1.0,\"#f0f921\"]]}],\"surface\":[{\"type\":\"surface\",\"colorbar\":{\"outlinewidth\":0,\"ticks\":\"\"},\"colorscale\":[[0.0,\"#0d0887\"],[0.1111111111111111,\"#46039f\"],[0.2222222222222222,\"#7201a8\"],[0.3333333333333333,\"#9c179e\"],[0.4444444444444444,\"#bd3786\"],[0.5555555555555556,\"#d8576b\"],[0.6666666666666666,\"#ed7953\"],[0.7777777777777778,\"#fb9f3a\"],[0.8888888888888888,\"#fdca26\"],[1.0,\"#f0f921\"]]}],\"mesh3d\":[{\"type\":\"mesh3d\",\"colorbar\":{\"outlinewidth\":0,\"ticks\":\"\"}}],\"scatter\":[{\"fillpattern\":{\"fillmode\":\"overlay\",\"size\":10,\"solidity\":0.2},\"type\":\"scatter\"}],\"parcoords\":[{\"type\":\"parcoords\",\"line\":{\"colorbar\":{\"outlinewidth\":0,\"ticks\":\"\"}}}],\"scatterpolargl\":[{\"type\":\"scatterpolargl\",\"marker\":{\"colorbar\":{\"outlinewidth\":0,\"ticks\":\"\"}}}],\"bar\":[{\"error_x\":{\"color\":\"#2a3f5f\"},\"error_y\":{\"color\":\"#2a3f5f\"},\"marker\":{\"line\":{\"color\":\"#E5ECF6\",\"width\":0.5},\"pattern\":{\"fillmode\":\"overlay\",\"size\":10,\"solidity\":0.2}},\"type\":\"bar\"}],\"scattergeo\":[{\"type\":\"scattergeo\",\"marker\":{\"colorbar\":{\"outlinewidth\":0,\"ticks\":\"\"}}}],\"scatterpolar\":[{\"type\":\"scatterpolar\",\"marker\":{\"colorbar\":{\"outlinewidth\":0,\"ticks\":\"\"}}}],\"histogram\":[{\"marker\":{\"pattern\":{\"fillmode\":\"overlay\",\"size\":10,\"solidity\":0.2}},\"type\":\"histogram\"}],\"scattergl\":[{\"type\":\"scattergl\",\"marker\":{\"colorbar\":{\"outlinewidth\":0,\"ticks\":\"\"}}}],\"scatter3d\":[{\"type\":\"scatter3d\",\"line\":{\"colorbar\":{\"outlinewidth\":0,\"ticks\":\"\"}},\"marker\":{\"colorbar\":{\"outlinewidth\":0,\"ticks\":\"\"}}}],\"scattermapbox\":[{\"type\":\"scattermapbox\",\"marker\":{\"colorbar\":{\"outlinewidth\":0,\"ticks\":\"\"}}}],\"scatterternary\":[{\"type\":\"scatterternary\",\"marker\":{\"colorbar\":{\"outlinewidth\":0,\"ticks\":\"\"}}}],\"scattercarpet\":[{\"type\":\"scattercarpet\",\"marker\":{\"colorbar\":{\"outlinewidth\":0,\"ticks\":\"\"}}}],\"carpet\":[{\"aaxis\":{\"endlinecolor\":\"#2a3f5f\",\"gridcolor\":\"white\",\"linecolor\":\"white\",\"minorgridcolor\":\"white\",\"startlinecolor\":\"#2a3f5f\"},\"baxis\":{\"endlinecolor\":\"#2a3f5f\",\"gridcolor\":\"white\",\"linecolor\":\"white\",\"minorgridcolor\":\"white\",\"startlinecolor\":\"#2a3f5f\"},\"type\":\"carpet\"}],\"table\":[{\"cells\":{\"fill\":{\"color\":\"#EBF0F8\"},\"line\":{\"color\":\"white\"}},\"header\":{\"fill\":{\"color\":\"#C8D4E3\"},\"line\":{\"color\":\"white\"}},\"type\":\"table\"}],\"barpolar\":[{\"marker\":{\"line\":{\"color\":\"#E5ECF6\",\"width\":0.5},\"pattern\":{\"fillmode\":\"overlay\",\"size\":10,\"solidity\":0.2}},\"type\":\"barpolar\"}],\"pie\":[{\"automargin\":true,\"type\":\"pie\"}]},\"layout\":{\"autotypenumbers\":\"strict\",\"colorway\":[\"#636efa\",\"#EF553B\",\"#00cc96\",\"#ab63fa\",\"#FFA15A\",\"#19d3f3\",\"#FF6692\",\"#B6E880\",\"#FF97FF\",\"#FECB52\"],\"font\":{\"color\":\"#2a3f5f\"},\"hovermode\":\"closest\",\"hoverlabel\":{\"align\":\"left\"},\"paper_bgcolor\":\"white\",\"plot_bgcolor\":\"#E5ECF6\",\"polar\":{\"bgcolor\":\"#E5ECF6\",\"angularaxis\":{\"gridcolor\":\"white\",\"linecolor\":\"white\",\"ticks\":\"\"},\"radialaxis\":{\"gridcolor\":\"white\",\"linecolor\":\"white\",\"ticks\":\"\"}},\"ternary\":{\"bgcolor\":\"#E5ECF6\",\"aaxis\":{\"gridcolor\":\"white\",\"linecolor\":\"white\",\"ticks\":\"\"},\"baxis\":{\"gridcolor\":\"white\",\"linecolor\":\"white\",\"ticks\":\"\"},\"caxis\":{\"gridcolor\":\"white\",\"linecolor\":\"white\",\"ticks\":\"\"}},\"coloraxis\":{\"colorbar\":{\"outlinewidth\":0,\"ticks\":\"\"}},\"colorscale\":{\"sequential\":[[0.0,\"#0d0887\"],[0.1111111111111111,\"#46039f\"],[0.2222222222222222,\"#7201a8\"],[0.3333333333333333,\"#9c179e\"],[0.4444444444444444,\"#bd3786\"],[0.5555555555555556,\"#d8576b\"],[0.6666666666666666,\"#ed7953\"],[0.7777777777777778,\"#fb9f3a\"],[0.8888888888888888,\"#fdca26\"],[1.0,\"#f0f921\"]],\"sequentialminus\":[[0.0,\"#0d0887\"],[0.1111111111111111,\"#46039f\"],[0.2222222222222222,\"#7201a8\"],[0.3333333333333333,\"#9c179e\"],[0.4444444444444444,\"#bd3786\"],[0.5555555555555556,\"#d8576b\"],[0.6666666666666666,\"#ed7953\"],[0.7777777777777778,\"#fb9f3a\"],[0.8888888888888888,\"#fdca26\"],[1.0,\"#f0f921\"]],\"diverging\":[[0,\"#8e0152\"],[0.1,\"#c51b7d\"],[0.2,\"#de77ae\"],[0.3,\"#f1b6da\"],[0.4,\"#fde0ef\"],[0.5,\"#f7f7f7\"],[0.6,\"#e6f5d0\"],[0.7,\"#b8e186\"],[0.8,\"#7fbc41\"],[0.9,\"#4d9221\"],[1,\"#276419\"]]},\"xaxis\":{\"gridcolor\":\"white\",\"linecolor\":\"white\",\"ticks\":\"\",\"title\":{\"standoff\":15},\"zerolinecolor\":\"white\",\"automargin\":true,\"zerolinewidth\":2},\"yaxis\":{\"gridcolor\":\"white\",\"linecolor\":\"white\",\"ticks\":\"\",\"title\":{\"standoff\":15},\"zerolinecolor\":\"white\",\"automargin\":true,\"zerolinewidth\":2},\"scene\":{\"xaxis\":{\"backgroundcolor\":\"#E5ECF6\",\"gridcolor\":\"white\",\"linecolor\":\"white\",\"showbackground\":true,\"ticks\":\"\",\"zerolinecolor\":\"white\",\"gridwidth\":2},\"yaxis\":{\"backgroundcolor\":\"#E5ECF6\",\"gridcolor\":\"white\",\"linecolor\":\"white\",\"showbackground\":true,\"ticks\":\"\",\"zerolinecolor\":\"white\",\"gridwidth\":2},\"zaxis\":{\"backgroundcolor\":\"#E5ECF6\",\"gridcolor\":\"white\",\"linecolor\":\"white\",\"showbackground\":true,\"ticks\":\"\",\"zerolinecolor\":\"white\",\"gridwidth\":2}},\"shapedefaults\":{\"line\":{\"color\":\"#2a3f5f\"}},\"annotationdefaults\":{\"arrowcolor\":\"#2a3f5f\",\"arrowhead\":0,\"arrowwidth\":1},\"geo\":{\"bgcolor\":\"white\",\"landcolor\":\"#E5ECF6\",\"subunitcolor\":\"white\",\"showland\":true,\"showlakes\":true,\"lakecolor\":\"white\"},\"title\":{\"x\":0.05},\"mapbox\":{\"style\":\"light\"}}}},                        {\"responsive\": true}                    ).then(function(){\n",
              "                            \n",
              "var gd = document.getElementById('5338486f-3b49-4391-a846-d7317f29163f');\n",
              "var x = new MutationObserver(function (mutations, observer) {{\n",
              "        var display = window.getComputedStyle(gd).display;\n",
              "        if (!display || display === 'none') {{\n",
              "            console.log([gd, 'removed!']);\n",
              "            Plotly.purge(gd);\n",
              "            observer.disconnect();\n",
              "        }}\n",
              "}});\n",
              "\n",
              "// Listen for the removal of the full notebook cells\n",
              "var notebookContainer = gd.closest('#notebook-container');\n",
              "if (notebookContainer) {{\n",
              "    x.observe(notebookContainer, {childList: true});\n",
              "}}\n",
              "\n",
              "// Listen for the clearing of the current output cell\n",
              "var outputEl = gd.closest('.output');\n",
              "if (outputEl) {{\n",
              "    x.observe(outputEl, {childList: true});\n",
              "}}\n",
              "\n",
              "                        })                };                            </script>        </div>\n",
              "</body>\n",
              "</html>"
            ]
          },
          "metadata": {}
        }
      ]
    },
    {
      "cell_type": "markdown",
      "source": [
        "Другое дело, прослеживается практически точное попадание"
      ],
      "metadata": {
        "id": "8qVv1RFqht4o"
      }
    },
    {
      "cell_type": "code",
      "source": [
        "plot_weights(model_lr_3.coef_)"
      ],
      "metadata": {
        "colab": {
          "base_uri": "https://localhost:8080/",
          "height": 542
        },
        "id": "0m-Pxtuih0bH",
        "outputId": "994f880c-c170-4ce1-a393-39c126a3050f"
      },
      "execution_count": null,
      "outputs": [
        {
          "output_type": "display_data",
          "data": {
            "text/html": [
              "<html>\n",
              "<head><meta charset=\"utf-8\" /></head>\n",
              "<body>\n",
              "    <div>            <script src=\"https://cdnjs.cloudflare.com/ajax/libs/mathjax/2.7.5/MathJax.js?config=TeX-AMS-MML_SVG\"></script><script type=\"text/javascript\">if (window.MathJax && window.MathJax.Hub && window.MathJax.Hub.Config) {window.MathJax.Hub.Config({SVG: {font: \"STIX-Web\"}});}</script>                <script type=\"text/javascript\">window.PlotlyConfig = {MathJaxConfig: 'local'};</script>\n",
              "        <script src=\"https://cdn.plot.ly/plotly-2.16.1.min.js\"></script>                <div id=\"b89dd776-37d9-419a-b009-a59764905398\" class=\"plotly-graph-div\" style=\"height:525px; width:100%;\"></div>            <script type=\"text/javascript\">                                    window.PLOTLYENV=window.PLOTLYENV || {};                                    if (document.getElementById(\"b89dd776-37d9-419a-b009-a59764905398\")) {                    Plotly.newPlot(                        \"b89dd776-37d9-419a-b009-a59764905398\",                        [{\"alignmentgroup\":\"True\",\"hovertemplate\":\"c=<0<br>x=%{x}<br>y=%{y}<extra></extra>\",\"legendgroup\":\"<0\",\"marker\":{\"color\":\"red\",\"pattern\":{\"shape\":\"\"}},\"name\":\"<0\",\"offsetgroup\":\"<0\",\"orientation\":\"v\",\"showlegend\":true,\"textposition\":\"auto\",\"x\":[\"w0\",\"w1\",\"w4\"],\"xaxis\":\"x\",\"y\":[-2.05983468428716,-1.2947719325287195,-0.0015620805582288178],\"yaxis\":\"y\",\"type\":\"bar\"},{\"alignmentgroup\":\"True\",\"hovertemplate\":\"c=>=0<br>x=%{x}<br>y=%{y}<extra></extra>\",\"legendgroup\":\">=0\",\"marker\":{\"color\":\"blue\",\"pattern\":{\"shape\":\"\"}},\"name\":\">=0\",\"offsetgroup\":\">=0\",\"orientation\":\"v\",\"showlegend\":true,\"textposition\":\"auto\",\"x\":[\"w2\",\"w3\"],\"xaxis\":\"x\",\"y\":[2.627886700605325,0.005824954543985628],\"yaxis\":\"y\",\"type\":\"bar\"}],                        {\"template\":{\"data\":{\"histogram2dcontour\":[{\"type\":\"histogram2dcontour\",\"colorbar\":{\"outlinewidth\":0,\"ticks\":\"\"},\"colorscale\":[[0.0,\"#0d0887\"],[0.1111111111111111,\"#46039f\"],[0.2222222222222222,\"#7201a8\"],[0.3333333333333333,\"#9c179e\"],[0.4444444444444444,\"#bd3786\"],[0.5555555555555556,\"#d8576b\"],[0.6666666666666666,\"#ed7953\"],[0.7777777777777778,\"#fb9f3a\"],[0.8888888888888888,\"#fdca26\"],[1.0,\"#f0f921\"]]}],\"choropleth\":[{\"type\":\"choropleth\",\"colorbar\":{\"outlinewidth\":0,\"ticks\":\"\"}}],\"histogram2d\":[{\"type\":\"histogram2d\",\"colorbar\":{\"outlinewidth\":0,\"ticks\":\"\"},\"colorscale\":[[0.0,\"#0d0887\"],[0.1111111111111111,\"#46039f\"],[0.2222222222222222,\"#7201a8\"],[0.3333333333333333,\"#9c179e\"],[0.4444444444444444,\"#bd3786\"],[0.5555555555555556,\"#d8576b\"],[0.6666666666666666,\"#ed7953\"],[0.7777777777777778,\"#fb9f3a\"],[0.8888888888888888,\"#fdca26\"],[1.0,\"#f0f921\"]]}],\"heatmap\":[{\"type\":\"heatmap\",\"colorbar\":{\"outlinewidth\":0,\"ticks\":\"\"},\"colorscale\":[[0.0,\"#0d0887\"],[0.1111111111111111,\"#46039f\"],[0.2222222222222222,\"#7201a8\"],[0.3333333333333333,\"#9c179e\"],[0.4444444444444444,\"#bd3786\"],[0.5555555555555556,\"#d8576b\"],[0.6666666666666666,\"#ed7953\"],[0.7777777777777778,\"#fb9f3a\"],[0.8888888888888888,\"#fdca26\"],[1.0,\"#f0f921\"]]}],\"heatmapgl\":[{\"type\":\"heatmapgl\",\"colorbar\":{\"outlinewidth\":0,\"ticks\":\"\"},\"colorscale\":[[0.0,\"#0d0887\"],[0.1111111111111111,\"#46039f\"],[0.2222222222222222,\"#7201a8\"],[0.3333333333333333,\"#9c179e\"],[0.4444444444444444,\"#bd3786\"],[0.5555555555555556,\"#d8576b\"],[0.6666666666666666,\"#ed7953\"],[0.7777777777777778,\"#fb9f3a\"],[0.8888888888888888,\"#fdca26\"],[1.0,\"#f0f921\"]]}],\"contourcarpet\":[{\"type\":\"contourcarpet\",\"colorbar\":{\"outlinewidth\":0,\"ticks\":\"\"}}],\"contour\":[{\"type\":\"contour\",\"colorbar\":{\"outlinewidth\":0,\"ticks\":\"\"},\"colorscale\":[[0.0,\"#0d0887\"],[0.1111111111111111,\"#46039f\"],[0.2222222222222222,\"#7201a8\"],[0.3333333333333333,\"#9c179e\"],[0.4444444444444444,\"#bd3786\"],[0.5555555555555556,\"#d8576b\"],[0.6666666666666666,\"#ed7953\"],[0.7777777777777778,\"#fb9f3a\"],[0.8888888888888888,\"#fdca26\"],[1.0,\"#f0f921\"]]}],\"surface\":[{\"type\":\"surface\",\"colorbar\":{\"outlinewidth\":0,\"ticks\":\"\"},\"colorscale\":[[0.0,\"#0d0887\"],[0.1111111111111111,\"#46039f\"],[0.2222222222222222,\"#7201a8\"],[0.3333333333333333,\"#9c179e\"],[0.4444444444444444,\"#bd3786\"],[0.5555555555555556,\"#d8576b\"],[0.6666666666666666,\"#ed7953\"],[0.7777777777777778,\"#fb9f3a\"],[0.8888888888888888,\"#fdca26\"],[1.0,\"#f0f921\"]]}],\"mesh3d\":[{\"type\":\"mesh3d\",\"colorbar\":{\"outlinewidth\":0,\"ticks\":\"\"}}],\"scatter\":[{\"fillpattern\":{\"fillmode\":\"overlay\",\"size\":10,\"solidity\":0.2},\"type\":\"scatter\"}],\"parcoords\":[{\"type\":\"parcoords\",\"line\":{\"colorbar\":{\"outlinewidth\":0,\"ticks\":\"\"}}}],\"scatterpolargl\":[{\"type\":\"scatterpolargl\",\"marker\":{\"colorbar\":{\"outlinewidth\":0,\"ticks\":\"\"}}}],\"bar\":[{\"error_x\":{\"color\":\"#2a3f5f\"},\"error_y\":{\"color\":\"#2a3f5f\"},\"marker\":{\"line\":{\"color\":\"#E5ECF6\",\"width\":0.5},\"pattern\":{\"fillmode\":\"overlay\",\"size\":10,\"solidity\":0.2}},\"type\":\"bar\"}],\"scattergeo\":[{\"type\":\"scattergeo\",\"marker\":{\"colorbar\":{\"outlinewidth\":0,\"ticks\":\"\"}}}],\"scatterpolar\":[{\"type\":\"scatterpolar\",\"marker\":{\"colorbar\":{\"outlinewidth\":0,\"ticks\":\"\"}}}],\"histogram\":[{\"marker\":{\"pattern\":{\"fillmode\":\"overlay\",\"size\":10,\"solidity\":0.2}},\"type\":\"histogram\"}],\"scattergl\":[{\"type\":\"scattergl\",\"marker\":{\"colorbar\":{\"outlinewidth\":0,\"ticks\":\"\"}}}],\"scatter3d\":[{\"type\":\"scatter3d\",\"line\":{\"colorbar\":{\"outlinewidth\":0,\"ticks\":\"\"}},\"marker\":{\"colorbar\":{\"outlinewidth\":0,\"ticks\":\"\"}}}],\"scattermapbox\":[{\"type\":\"scattermapbox\",\"marker\":{\"colorbar\":{\"outlinewidth\":0,\"ticks\":\"\"}}}],\"scatterternary\":[{\"type\":\"scatterternary\",\"marker\":{\"colorbar\":{\"outlinewidth\":0,\"ticks\":\"\"}}}],\"scattercarpet\":[{\"type\":\"scattercarpet\",\"marker\":{\"colorbar\":{\"outlinewidth\":0,\"ticks\":\"\"}}}],\"carpet\":[{\"aaxis\":{\"endlinecolor\":\"#2a3f5f\",\"gridcolor\":\"white\",\"linecolor\":\"white\",\"minorgridcolor\":\"white\",\"startlinecolor\":\"#2a3f5f\"},\"baxis\":{\"endlinecolor\":\"#2a3f5f\",\"gridcolor\":\"white\",\"linecolor\":\"white\",\"minorgridcolor\":\"white\",\"startlinecolor\":\"#2a3f5f\"},\"type\":\"carpet\"}],\"table\":[{\"cells\":{\"fill\":{\"color\":\"#EBF0F8\"},\"line\":{\"color\":\"white\"}},\"header\":{\"fill\":{\"color\":\"#C8D4E3\"},\"line\":{\"color\":\"white\"}},\"type\":\"table\"}],\"barpolar\":[{\"marker\":{\"line\":{\"color\":\"#E5ECF6\",\"width\":0.5},\"pattern\":{\"fillmode\":\"overlay\",\"size\":10,\"solidity\":0.2}},\"type\":\"barpolar\"}],\"pie\":[{\"automargin\":true,\"type\":\"pie\"}]},\"layout\":{\"autotypenumbers\":\"strict\",\"colorway\":[\"#636efa\",\"#EF553B\",\"#00cc96\",\"#ab63fa\",\"#FFA15A\",\"#19d3f3\",\"#FF6692\",\"#B6E880\",\"#FF97FF\",\"#FECB52\"],\"font\":{\"color\":\"#2a3f5f\"},\"hovermode\":\"closest\",\"hoverlabel\":{\"align\":\"left\"},\"paper_bgcolor\":\"white\",\"plot_bgcolor\":\"#E5ECF6\",\"polar\":{\"bgcolor\":\"#E5ECF6\",\"angularaxis\":{\"gridcolor\":\"white\",\"linecolor\":\"white\",\"ticks\":\"\"},\"radialaxis\":{\"gridcolor\":\"white\",\"linecolor\":\"white\",\"ticks\":\"\"}},\"ternary\":{\"bgcolor\":\"#E5ECF6\",\"aaxis\":{\"gridcolor\":\"white\",\"linecolor\":\"white\",\"ticks\":\"\"},\"baxis\":{\"gridcolor\":\"white\",\"linecolor\":\"white\",\"ticks\":\"\"},\"caxis\":{\"gridcolor\":\"white\",\"linecolor\":\"white\",\"ticks\":\"\"}},\"coloraxis\":{\"colorbar\":{\"outlinewidth\":0,\"ticks\":\"\"}},\"colorscale\":{\"sequential\":[[0.0,\"#0d0887\"],[0.1111111111111111,\"#46039f\"],[0.2222222222222222,\"#7201a8\"],[0.3333333333333333,\"#9c179e\"],[0.4444444444444444,\"#bd3786\"],[0.5555555555555556,\"#d8576b\"],[0.6666666666666666,\"#ed7953\"],[0.7777777777777778,\"#fb9f3a\"],[0.8888888888888888,\"#fdca26\"],[1.0,\"#f0f921\"]],\"sequentialminus\":[[0.0,\"#0d0887\"],[0.1111111111111111,\"#46039f\"],[0.2222222222222222,\"#7201a8\"],[0.3333333333333333,\"#9c179e\"],[0.4444444444444444,\"#bd3786\"],[0.5555555555555556,\"#d8576b\"],[0.6666666666666666,\"#ed7953\"],[0.7777777777777778,\"#fb9f3a\"],[0.8888888888888888,\"#fdca26\"],[1.0,\"#f0f921\"]],\"diverging\":[[0,\"#8e0152\"],[0.1,\"#c51b7d\"],[0.2,\"#de77ae\"],[0.3,\"#f1b6da\"],[0.4,\"#fde0ef\"],[0.5,\"#f7f7f7\"],[0.6,\"#e6f5d0\"],[0.7,\"#b8e186\"],[0.8,\"#7fbc41\"],[0.9,\"#4d9221\"],[1,\"#276419\"]]},\"xaxis\":{\"gridcolor\":\"white\",\"linecolor\":\"white\",\"ticks\":\"\",\"title\":{\"standoff\":15},\"zerolinecolor\":\"white\",\"automargin\":true,\"zerolinewidth\":2},\"yaxis\":{\"gridcolor\":\"white\",\"linecolor\":\"white\",\"ticks\":\"\",\"title\":{\"standoff\":15},\"zerolinecolor\":\"white\",\"automargin\":true,\"zerolinewidth\":2},\"scene\":{\"xaxis\":{\"backgroundcolor\":\"#E5ECF6\",\"gridcolor\":\"white\",\"linecolor\":\"white\",\"showbackground\":true,\"ticks\":\"\",\"zerolinecolor\":\"white\",\"gridwidth\":2},\"yaxis\":{\"backgroundcolor\":\"#E5ECF6\",\"gridcolor\":\"white\",\"linecolor\":\"white\",\"showbackground\":true,\"ticks\":\"\",\"zerolinecolor\":\"white\",\"gridwidth\":2},\"zaxis\":{\"backgroundcolor\":\"#E5ECF6\",\"gridcolor\":\"white\",\"linecolor\":\"white\",\"showbackground\":true,\"ticks\":\"\",\"zerolinecolor\":\"white\",\"gridwidth\":2}},\"shapedefaults\":{\"line\":{\"color\":\"#2a3f5f\"}},\"annotationdefaults\":{\"arrowcolor\":\"#2a3f5f\",\"arrowhead\":0,\"arrowwidth\":1},\"geo\":{\"bgcolor\":\"white\",\"landcolor\":\"#E5ECF6\",\"subunitcolor\":\"white\",\"showland\":true,\"showlakes\":true,\"lakecolor\":\"white\"},\"title\":{\"x\":0.05},\"mapbox\":{\"style\":\"light\"}}},\"xaxis\":{\"anchor\":\"y\",\"domain\":[0.0,1.0],\"title\":{\"text\":\"x\"},\"categoryorder\":\"array\",\"categoryarray\":[\"w0\",\"w1\",\"w2\",\"w3\",\"w4\"]},\"yaxis\":{\"anchor\":\"x\",\"domain\":[0.0,1.0],\"title\":{\"text\":\"y\"}},\"legend\":{\"title\":{\"text\":\"c\"},\"tracegroupgap\":0},\"margin\":{\"t\":60},\"barmode\":\"relative\"},                        {\"responsive\": true}                    ).then(function(){\n",
              "                            \n",
              "var gd = document.getElementById('b89dd776-37d9-419a-b009-a59764905398');\n",
              "var x = new MutationObserver(function (mutations, observer) {{\n",
              "        var display = window.getComputedStyle(gd).display;\n",
              "        if (!display || display === 'none') {{\n",
              "            console.log([gd, 'removed!']);\n",
              "            Plotly.purge(gd);\n",
              "            observer.disconnect();\n",
              "        }}\n",
              "}});\n",
              "\n",
              "// Listen for the removal of the full notebook cells\n",
              "var notebookContainer = gd.closest('#notebook-container');\n",
              "if (notebookContainer) {{\n",
              "    x.observe(notebookContainer, {childList: true});\n",
              "}}\n",
              "\n",
              "// Listen for the clearing of the current output cell\n",
              "var outputEl = gd.closest('.output');\n",
              "if (outputEl) {{\n",
              "    x.observe(outputEl, {childList: true});\n",
              "}}\n",
              "\n",
              "                        })                };                            </script>        </div>\n",
              "</body>\n",
              "</html>"
            ]
          },
          "metadata": {}
        }
      ]
    },
    {
      "cell_type": "markdown",
      "source": [
        "Если приблизить два последних веса на графике, то будет видно, что они не нулевые, а главный вес у одной фичи, так как она описывает функцию, которая была в основе генерации данных"
      ],
      "metadata": {
        "id": "2jK2rt6Ti4it"
      }
    },
    {
      "cell_type": "markdown",
      "source": [
        "### Ridge регуляризация"
      ],
      "metadata": {
        "id": "SAJK4QBjjHGB"
      }
    },
    {
      "cell_type": "code",
      "source": [
        "model_r_3 = Ridge().fit(X_train_3_, y_train_3)\n",
        "\n",
        "y_pred_r_3 = model_r_3.predict(X_test_3_)\n",
        "\n",
        "print(f'R2 score: {r2_score(y_test_3, y_pred_r_3)}')\n",
        "print(f'MAE: {mean_absolute_error(y_test_3, y_pred_r_3)}')\n",
        "print(f'MSE: {mean_squared_error(y_test_3, y_pred_r_3)}')"
      ],
      "metadata": {
        "colab": {
          "base_uri": "https://localhost:8080/"
        },
        "id": "PuuO2FBpjMIW",
        "outputId": "57ebd67f-79d7-44a5-c8cf-912eb949a3a3"
      },
      "execution_count": null,
      "outputs": [
        {
          "output_type": "stream",
          "name": "stdout",
          "text": [
            "R2 score: 0.9917140092702561\n",
            "MAE: 77.9230774297794\n",
            "MSE: 9410.733590766835\n"
          ]
        }
      ]
    },
    {
      "cell_type": "markdown",
      "source": [
        "Видим, что совсем чутка лучше, попробуем задать параметр alpha побольше"
      ],
      "metadata": {
        "id": "xL8tW-4UjZIh"
      }
    },
    {
      "cell_type": "code",
      "source": [
        "model_r_3 = Ridge(alpha=5).fit(X_train_3_, y_train_3)\n",
        "\n",
        "y_pred_r_3 = model_r_3.predict(X_test_3_)\n",
        "\n",
        "print(f'R2 score: {r2_score(y_test_3, y_pred_r_3)}')\n",
        "print(f'MAE: {mean_absolute_error(y_test_3, y_pred_r_3)}')\n",
        "print(f'MSE: {mean_squared_error(y_test_3, y_pred_r_3)}')"
      ],
      "metadata": {
        "colab": {
          "base_uri": "https://localhost:8080/"
        },
        "id": "41POitUejGWD",
        "outputId": "b8a35650-fe3f-48af-9c60-069480c0cbd9"
      },
      "execution_count": null,
      "outputs": [
        {
          "output_type": "stream",
          "name": "stdout",
          "text": [
            "R2 score: 0.9917143204511454\n",
            "MAE: 77.92248565196299\n",
            "MSE: 9410.380170090486\n"
          ]
        }
      ]
    },
    {
      "cell_type": "markdown",
      "source": [
        "Другое дело, посмотрим на график и веса"
      ],
      "metadata": {
        "id": "_6uMqhlUjpGG"
      }
    },
    {
      "cell_type": "code",
      "source": [
        "plot_test(X_train_3, X_test_3, y_train_3, y_test_3, y_pred_r_3)"
      ],
      "metadata": {
        "colab": {
          "base_uri": "https://localhost:8080/",
          "height": 542
        },
        "id": "_JJJfnXejvIK",
        "outputId": "21ae8564-9be8-45a0-ec7e-75b716322784"
      },
      "execution_count": null,
      "outputs": [
        {
          "output_type": "display_data",
          "data": {
            "text/html": [
              "<html>\n",
              "<head><meta charset=\"utf-8\" /></head>\n",
              "<body>\n",
              "    <div>            <script src=\"https://cdnjs.cloudflare.com/ajax/libs/mathjax/2.7.5/MathJax.js?config=TeX-AMS-MML_SVG\"></script><script type=\"text/javascript\">if (window.MathJax && window.MathJax.Hub && window.MathJax.Hub.Config) {window.MathJax.Hub.Config({SVG: {font: \"STIX-Web\"}});}</script>                <script type=\"text/javascript\">window.PlotlyConfig = {MathJaxConfig: 'local'};</script>\n",
              "        <script src=\"https://cdn.plot.ly/plotly-2.16.1.min.js\"></script>                <div id=\"6ec0b4d0-a13d-4721-bcd7-de6792b54076\" class=\"plotly-graph-div\" style=\"height:525px; width:100%;\"></div>            <script type=\"text/javascript\">                                    window.PLOTLYENV=window.PLOTLYENV || {};                                    if (document.getElementById(\"6ec0b4d0-a13d-4721-bcd7-de6792b54076\")) {                    Plotly.newPlot(                        \"6ec0b4d0-a13d-4721-bcd7-de6792b54076\",                        [{\"hovertemplate\":\"train=%{x}<br>y_train=%{y}<extra></extra>\",\"legendgroup\":\"\",\"marker\":{\"color\":\"#636efa\",\"symbol\":\"circle\"},\"mode\":\"markers\",\"name\":\"train\",\"orientation\":\"v\",\"showlegend\":true,\"x\":[5.880647764551117,0.03547409924775735,-9.65557172213581,2.17032224066768,5.321662544203917,8.390474060310435,2.165235711595983,-8.387740969877548,-2.8800357171964226,9.542906936639099,3.7849531329109993,-6.306990736657763,9.328610278939319,0.6119793323626013,-1.6421780717777033,8.446438295694968,6.003291850333344,2.149154065837406,-7.012926968017181,-4.219519270774546,4.5032334731454995,-2.6083261224191663,-2.46823910358774,8.527392687729034,2.3821396684801144,-0.848664228266717,4.543357074971572,-7.511951415050766,-7.5387999439065245,-3.4769131031346534,-0.9858997394461326,-1.2260293523085295,-5.936598476857496,-0.13750356929691243,1.329892642056425,-7.081944939758151,-0.7783944558471063,-2.527514245381603,5.129364583315132,-0.7545584701744108,-4.7879506037709625,1.0962713702402738,-9.714871304860964,-9.158004137266538,6.435756713643677,4.520347750307941,2.6452152232851738,-2.501777518007124,0.3370667200794859,-6.008343462360015,2.22483268403543,-9.31514203084052,-2.1627197293396954,-0.7011420112671622,9.227261173371065,6.0189892647902745,-9.656566708924139,-0.9216312633969075,1.9397317095443931,-0.7008674376577595,0.06904437450784329,8.487829984809586,0.9691565018879125,-1.28418835142487,-0.9093750515754806,-6.172622486477987,-2.9591080392471447,0.8437097865395202,8.361316313033218,3.161326481711102,5.013432689820224,-8.869961919026208,-9.799923615648288,7.6394991116972975,-7.149814222735991,8.751099361015488,-9.877265448440225,0.5915346062345499,-6.120189961424025,0.8144520561310831,7.361879318576872,1.5095639339820703,6.2486318866575665,-9.226753968819787,6.07233476519778,-7.687812851401499,-1.415153415048998,5.596360409546342,-8.898064143961745,-7.003210186101844,-6.985619628870707,3.254465889328273,5.55717206173254,-9.073841106736518,-1.0450874730902981,-1.4056351210305635,-6.6815606765869155,3.6466283774670867,-8.53166152927926,0.8380393547101495,4.820034531808968,-0.678448723682985,-3.8178008961834546,-3.9649862618897753,-1.9902104375042207,7.875045132799482,-1.677894516595293,7.248113242035451,-3.4920942588602593,6.833171598881982,-9.016454305590674,1.5071607224266579,-3.0186491509470725,3.2098106570859404,-8.430478801954784,2.6881965780159938,-9.745737059661563,-2.2957929502024754,-5.879391231281128,-9.69701792556451,3.9758107179971436,-3.3500009107305306,9.420614148952893,-6.642061536128172,-3.3137852500922715,1.4250798530117557,-9.625121342838103,-8.9656200571319,-7.222707757705271,4.436704631800426,-7.278416708711601,-5.3228288200795815,5.437803695319177,-1.9338588100383287,-6.1612336531222756,-2.4179860110785745,2.7148688547590822,-6.026664694577109,-8.487492274651583,-7.904355493708395,2.248104330095755,-9.411270559478861,2.1269561600166362,-1.605667933179875,2.396232820315996,-8.826303825906674,-4.465376854746732,-8.28967495951808,-9.875467061480993,-2.1995201220269056,-5.389748220038082,-8.43931048214618,5.0192249954783215,5.595214842813128,-1.1655644044324465,-0.9872251176450177,4.205562210096854,4.871720463309764,-5.75425367040272,-9.336720220859132,-9.387284644132336,-0.2910097020247431,5.899164465692019,-1.994688709397355,3.2300553668029472,-0.02340375665832184,3.0863381339538307,1.0722644486420272,5.0180120511894195,0.3821726808529107,-4.457272909494636,9.090596622588599,3.6211916933317134,-1.413898348508642,-0.8666657539748464,0.7325006459748362,-5.3099634493705405,-4.241192778438365,-1.659970551129227,-5.418173917981828,2.3978374701064773,8.95850888901952,-2.6896105502022616,8.266253167861343,2.879345125364761,-9.835796760808995,-5.767625968292243,7.930226305941709,-8.566932879021294,6.507165189535517,-6.83823736785838,9.493614760832905,-8.961130121699018,-5.046257639022826,-8.862790214555908,0.8202718324297109,5.000265802815857,-2.105183581073655,4.791581319738487,-7.509673372214623,7.123917131434371,6.16186601258244,6.06980969117814,4.714131083341952,-6.262181893957514,-4.976188660051964,2.9526541969262095,2.216374698004749,1.3750942370388337,-4.932804989876116,0.029461388758534213,-4.538639220757217,7.722219095097522,-5.415475701930785,5.404208455855562,-1.8993010455510735,9.509514851841676,-3.957565023234082,0.9470185878747817,2.1863027901735705,2.498006866544456,-5.388834361851482,-4.821435657567519,7.431504057809647,-8.706509843408188,-5.240516278335161,-5.27563613000633,-9.567119539542743,-7.811056522749702,-2.40276765780121,5.972303993742907,-6.254042819386276,6.372811432385454,-6.458610169766974,2.6978047861724512,4.602961362407962,9.614372004685933,-3.796827877661924,-4.721812764346753,-7.952803521927154],\"xaxis\":\"x\",\"y\":[436.0729557235298,-90.3593584036851,-2307.0416097669904,-31.73885505844682,394.9359892832473,1349.5309599433533,26.14781346523116,-1694.898290384268,119.33107902654965,2129.1266886318094,-16.835298632840818,-473.5649315859797,1803.7677223007122,24.961122291310055,65.0237969324505,1582.6737739496443,507.8736510519775,121.57458304563002,-845.9351339679159,-248.40038980460906,273.37794939103884,-17.672537937300724,-121.7843697496912,1497.5728748315978,-72.98227829922891,-3.4799145231168573,184.84762805120425,-1042.468923114486,-1039.6951906999936,-172.2275928185203,-85.20462662049037,80.43582259440866,-736.3444194536819,-18.130632379917397,18.230022782962166,-857.4772232050068,-63.693132347972536,48.19902691426052,250.9312371800761,51.53731154320056,-255.6970807471306,-137.68482689158427,-2462.047257652723,-1798.5785214107864,648.8538276530365,233.04179573607385,-26.614869479740335,6.368825156072347,60.255638779173275,-458.3022063944215,7.665633620457072,-2009.9056008396046,63.70551287198275,0.19357573485304203,1761.2755713811443,482.1758974284967,-2198.8301845640553,9.1980238453966,94.42786565370098,33.060042949306755,-164.8828436913668,1390.1506631949756,70.45071073367036,55.944211868564715,42.616940898294516,-754.0451271838608,-61.337928919101465,12.953343727436335,1492.7312213137052,114.5251118587174,366.7385285264874,-1787.9966124413722,-2509.0342494670776,1062.7298593618532,-1007.6962385582142,1650.7056476760142,-2340.7933186156424,19.274364179767154,-692.1878702665257,-55.770931885927595,1090.3238133999523,149.00542784804207,437.5760330785418,-2143.8059529360075,393.0317845775706,-1192.0721085090681,70.61044896031781,318.198257540049,-1822.5664285977791,-1040.565344110806,-704.7682751092003,57.086445068769216,241.34727815942256,-1846.407516427828,82.07174458653508,22.160414131405222,-798.5462304506209,200.1470278617598,-1692.343026866936,-42.53218676603355,378.90364437615284,42.1113156501994,21.36216367551137,-5.353879089834351,-213.26050080123537,1122.107248530441,242.334476883189,914.4917654938608,-71.13985752571033,731.9894323139758,-1810.1094029891613,29.49317815209496,54.427758799284234,54.841750356618796,-1614.9961584383077,117.24785966768454,-2510.3279224879598,37.17512016172381,-470.5785572403643,-2132.8863928457895,193.57156652686066,-67.6441650392421,2035.4611292756217,-927.8293706420218,-155.55129363123064,5.872838901713816,-2249.808421843521,-1820.3756441308583,-907.8612257097042,169.36894481924352,-1002.6133747499169,-229.2321646088615,364.90948744517726,27.00983430062942,-517.9363593134597,-225.76470514692045,-21.58221123556993,-398.47661562925083,-1471.7601667521087,-1376.2128771644234,16.87205114417568,-1931.7059284353065,55.90204090730843,53.97022771877681,31.579410503406166,-1906.0656996031428,-254.17174348764584,-1477.4594589137948,-2356.089797402216,-104.89301738864799,-566.2161152936538,-1520.4172878466957,379.64981506314757,457.96613537622966,-123.65223275206675,155.97501066538436,262.29883656870163,275.3553461968107,-387.8348025356273,-1865.8649325770775,-2130.4291444138303,-52.77543393311834,427.3436813238137,-2.1875294039315776,44.010677810408986,78.32911209488537,72.3132975248598,-125.42842552454874,361.7884797453922,-58.657740204845524,-115.33561741008542,1851.6535815323223,20.119575862569505,-23.973462039633,26.43791429927554,93.34383115869397,-425.5897126543138,-222.65411455003212,-79.64905238224404,-546.6776401643607,11.946126561236149,1587.5017473945625,-70.06764998356705,1461.5079028974933,-48.25039421592991,-2494.9651743239856,-542.2453723776155,1242.6172750494334,-1641.8251145387985,597.62167713392,-1077.4615745681008,2081.980003423446,-1833.2710261940313,-579.9604253360897,-1792.0049692438943,215.1002209926401,371.3138063930468,-190.0917190860635,284.6292546889529,-1189.7914934580615,628.7465411636799,741.8945264509514,475.89633517854173,415.51811616487385,-698.3804095240072,-268.7320247361325,135.97101175152858,-83.95517023519358,-226.23245452969724,-233.46035390234655,-112.50834064618857,-461.46169611655307,1112.7619210521498,-640.8785131561123,449.07611066722006,66.6965350738024,2053.48260696104,-446.089667643775,116.60585576029003,57.341070136418125,73.04208887515884,-317.22962182999026,-151.48720680463208,985.397089336855,-1617.8730872300625,-237.03413901381896,-304.8585431700371,-2345.7859564980304,-977.5607340617335,-25.841765742729528,427.83531565373596,-673.5940834122405,762.4471489011981,-897.0323359853076,55.44858215576074,299.971139136991,2199.485685379224,-277.2095651232403,-246.89751649691627,-1370.6649080971824],\"yaxis\":\"y\",\"type\":\"scatter\"},{\"hovertemplate\":\"X_test=%{x}<br>y_test=%{y}<extra></extra>\",\"legendgroup\":\"\",\"marker\":{\"color\":\"red\",\"symbol\":\"circle\"},\"mode\":\"markers\",\"name\":\"test\",\"orientation\":\"v\",\"showlegend\":true,\"x\":[4.959393643453808,7.916949393325055,-7.314762971240727,-4.578173578264543,-4.949001840522889,0.37555345390784645,5.890627641349761,6.806018310347383,9.56027102723452,3.8171354648870235,-8.2705513331172,0.24636809978523289,0.7310401694126067,-2.392373709412099,2.328531817742272,8.264983899409163,-8.419289221629189,6.892520699548093,-3.5926985488698833,8.365479605584504,6.5755061690404375,9.878129415888008,-7.060944990712956,-9.736151292424058,7.915733024109045,-8.705427424129708,-7.862233829549616,-9.829243564614591,-6.2379548975354275,7.5962549022427694,-7.2786038966677395,1.2000572950935045,-7.590502731746909,-5.831271200456857,3.5991438271311935,-3.46838635696332,1.8328243927598304,0.17271995985721134,-6.456962994348423,-3.4018024058945855,6.578378434327583,-8.035134872799274,-8.90911976383477,9.338943806478039,8.522850623006853,0.3416231558760181,-7.695650184243106,-7.872516876144992,6.898080995306838,-5.676379166940963,8.041104332521371,-6.6795779860075655,7.403399285461781,6.425369736231538,-9.194462944246673,-2.2451155359973,-6.105945417161811,-6.042529409003725,-6.00668472304479,2.351126643296542],\"xaxis\":\"x\",\"y\":[280.3361894460279,1160.753015367256,-1081.8586336386888,-217.2453365179956,-415.21759570388576,61.20641734170668,244.41075165807962,916.9109363247693,2032.6026594947339,38.97453755560922,-1528.7918491905696,-101.29119175473672,110.03092307317776,-43.51474164349466,178.63776613503245,1300.390956262993,-1581.0778142897952,823.9222832750867,-63.57314756153993,1472.7290053714137,509.05887191206347,2288.840229279856,-792.2860677615784,-2236.0903801459604,1132.364237213851,-1579.7740011787805,-1323.8808292012263,-2382.3207510739962,-574.5707723160415,1025.7228256932774,-965.3394731222554,65.91419941183565,-1135.557934938202,-580.5109944874458,177.64500204157923,27.792283198212687,169.9267356839912,47.287023463655444,-747.9219520963132,-35.441642830874784,660.6800779156162,-1353.616069318047,-1786.566115966169,1961.2547855431542,1628.2208896628347,108.5249679599038,-1316.3327697578723,-1235.0418418354386,640.2193917384816,-360.3041438434576,1239.3416064417718,-723.7822866021585,909.6292989159128,558.0575983341672,-2036.9539098572332,-151.3711138641473,-883.2464894363249,-511.26122931818685,-631.6271810215533,229.7865356872143],\"yaxis\":\"y\",\"type\":\"scatter\"},{\"hovertemplate\":\"X_test=%{x}<br>y_pred=%{y}<extra></extra>\",\"legendgroup\":\"\",\"marker\":{\"color\":\"lime\",\"symbol\":\"circle\"},\"mode\":\"markers\",\"name\":\"predictions\",\"orientation\":\"v\",\"showlegend\":true,\"x\":[4.959393643453808,7.916949393325055,-7.314762971240727,-4.578173578264543,-4.949001840522889,0.37555345390784645,5.890627641349761,6.806018310347383,9.56027102723452,3.8171354648870235,-8.2705513331172,0.24636809978523289,0.7310401694126067,-2.392373709412099,2.328531817742272,8.264983899409163,-8.419289221629189,6.892520699548093,-3.5926985488698833,8.365479605584504,6.5755061690404375,9.878129415888008,-7.060944990712956,-9.736151292424058,7.915733024109045,-8.705427424129708,-7.862233829549616,-9.829243564614591,-6.2379548975354275,7.5962549022427694,-7.2786038966677395,1.2000572950935045,-7.590502731746909,-5.831271200456857,3.5991438271311935,-3.46838635696332,1.8328243927598304,0.17271995985721134,-6.456962994348423,-3.4018024058945855,6.578378434327583,-8.035134872799274,-8.90911976383477,9.338943806478039,8.522850623006853,0.3416231558760181,-7.695650184243106,-7.872516876144992,6.898080995306838,-5.676379166940963,8.041104332521371,-6.6795779860075655,7.403399285461781,6.425369736231538,-9.194462944246673,-2.2451155359973,-6.105945417161811,-6.042529409003725,-6.00668472304479,2.351126643296542],\"xaxis\":\"x\",\"y\":[285.92062371145414,1189.3759687425752,-1024.7381051574787,-255.65236994160037,-323.39640920424426,7.756598482622755,484.5896174435836,752.7249573802004,2090.7086810903356,128.01535089900358,-1461.8818072289819,8.023287312090245,7.412981891849338,-29.64094752426343,30.039533338263215,1353.6523550480483,-1538.8017305296935,782.1636817565108,-120.76155201919093,1403.657382278836,677.8397595608221,2303.4599681692075,-924.6405843609224,-2330.4650379796667,1188.8257057285443,-1693.7554203914362,-1263.2129867070269,-2394.187326952826,-643.268145114324,1049.9325536487863,-1010.0806053459911,8.807293604547391,-1140.9305777803545,-527.2682776920543,106.98482371795328,-107.94291909967238,16.69495135709655,8.187197784082937,-711.8979071762319,-101.42903534421411,678.7414016752333,-1345.1251472298584,-1809.7380282401691,1950.1815227157422,1484.3194664159564,7.822638265900863,-1187.3219971478138,-1267.9946152201749,784.081278983445,-486.8687282637617,1246.4099464012213,-786.2336454139362,971.425271377182,631.7966782504369,-1980.282850143966,-22.890437585950735,-604.0083832169805,-585.7023971158751,-575.512769691002,30.833029475767738],\"yaxis\":\"y\",\"type\":\"scatter\"},{\"hovertemplate\":\"<b>LOWESS trendline</b><br><br>X_test=%{x}<br>y_pred=%{y} <b>(trend)</b><extra></extra>\",\"legendgroup\":\"\",\"marker\":{\"color\":\"lime\",\"symbol\":\"circle\"},\"mode\":\"lines\",\"name\":\"\",\"showlegend\":true,\"x\":[-9.829243564614591,-9.736151292424058,-9.194462944246673,-8.90911976383477,-8.705427424129708,-8.419289221629189,-8.2705513331172,-8.035134872799274,-7.872516876144992,-7.862233829549616,-7.695650184243106,-7.590502731746909,-7.314762971240727,-7.2786038966677395,-7.060944990712956,-6.6795779860075655,-6.456962994348423,-6.2379548975354275,-6.105945417161811,-6.042529409003725,-6.00668472304479,-5.831271200456857,-5.676379166940963,-4.949001840522889,-4.578173578264543,-3.5926985488698833,-3.46838635696332,-3.4018024058945855,-2.392373709412099,-2.2451155359973,0.17271995985721134,0.24636809978523289,0.3416231558760181,0.37555345390784645,0.7310401694126067,1.2000572950935045,1.8328243927598304,2.328531817742272,2.351126643296542,3.5991438271311935,3.8171354648870235,4.959393643453808,5.890627641349761,6.425369736231538,6.5755061690404375,6.578378434327583,6.806018310347383,6.892520699548093,6.898080995306838,7.403399285461781,7.5962549022427694,7.915733024109045,7.916949393325055,8.041104332521371,8.264983899409163,8.365479605584504,8.522850623006853,9.338943806478039,9.56027102723452,9.878129415888008],\"xaxis\":\"x\",\"y\":[-2391.183959830099,-2332.559870503628,-1991.278194419067,-1808.4785609655353,-1696.6456774631997,-1541.040937201418,-1462.98491129459,-1346.5055337584945,-1268.8018674338073,-1264.0843038267192,-1187.9597828157155,-1141.1407763187112,-1026.315721269767,-1011.4236182595791,-927.5573897307158,-789.1272058439279,-713.2231102739952,-644.4389410096755,-604.4019996471726,-586.2473369550414,-576.0086428294096,-528.1931546376563,-486.3214435023342,-334.27239886507755,-257.13915005439895,-124.22453468533294,-108.55400685327301,-103.08994644333569,-31.491363217906247,-21.014602669327928,8.112219441096988,8.009905484025001,7.88016692340566,7.834483940281564,7.596128225580911,9.47565278632402,21.099338915743374,30.02886820959325,30.50385581907979,74.66150748415816,82.31704446338631,228.2338506809108,484.3449333272273,631.3811331947738,678.3478471893337,679.2536733854454,753.468234293982,781.9556934761922,783.7886326310762,971.4325076006254,1052.5805855371866,1189.65973438864,1190.194922225554,1247.751238665424,1354.650807958832,1404.6610397561585,1483.5237947901005,1961.5480231572426,2090.6942174679725,2276.2078827902424],\"yaxis\":\"y\",\"type\":\"scatter\"}],                        {\"template\":{\"data\":{\"histogram2dcontour\":[{\"type\":\"histogram2dcontour\",\"colorbar\":{\"outlinewidth\":0,\"ticks\":\"\"},\"colorscale\":[[0.0,\"#0d0887\"],[0.1111111111111111,\"#46039f\"],[0.2222222222222222,\"#7201a8\"],[0.3333333333333333,\"#9c179e\"],[0.4444444444444444,\"#bd3786\"],[0.5555555555555556,\"#d8576b\"],[0.6666666666666666,\"#ed7953\"],[0.7777777777777778,\"#fb9f3a\"],[0.8888888888888888,\"#fdca26\"],[1.0,\"#f0f921\"]]}],\"choropleth\":[{\"type\":\"choropleth\",\"colorbar\":{\"outlinewidth\":0,\"ticks\":\"\"}}],\"histogram2d\":[{\"type\":\"histogram2d\",\"colorbar\":{\"outlinewidth\":0,\"ticks\":\"\"},\"colorscale\":[[0.0,\"#0d0887\"],[0.1111111111111111,\"#46039f\"],[0.2222222222222222,\"#7201a8\"],[0.3333333333333333,\"#9c179e\"],[0.4444444444444444,\"#bd3786\"],[0.5555555555555556,\"#d8576b\"],[0.6666666666666666,\"#ed7953\"],[0.7777777777777778,\"#fb9f3a\"],[0.8888888888888888,\"#fdca26\"],[1.0,\"#f0f921\"]]}],\"heatmap\":[{\"type\":\"heatmap\",\"colorbar\":{\"outlinewidth\":0,\"ticks\":\"\"},\"colorscale\":[[0.0,\"#0d0887\"],[0.1111111111111111,\"#46039f\"],[0.2222222222222222,\"#7201a8\"],[0.3333333333333333,\"#9c179e\"],[0.4444444444444444,\"#bd3786\"],[0.5555555555555556,\"#d8576b\"],[0.6666666666666666,\"#ed7953\"],[0.7777777777777778,\"#fb9f3a\"],[0.8888888888888888,\"#fdca26\"],[1.0,\"#f0f921\"]]}],\"heatmapgl\":[{\"type\":\"heatmapgl\",\"colorbar\":{\"outlinewidth\":0,\"ticks\":\"\"},\"colorscale\":[[0.0,\"#0d0887\"],[0.1111111111111111,\"#46039f\"],[0.2222222222222222,\"#7201a8\"],[0.3333333333333333,\"#9c179e\"],[0.4444444444444444,\"#bd3786\"],[0.5555555555555556,\"#d8576b\"],[0.6666666666666666,\"#ed7953\"],[0.7777777777777778,\"#fb9f3a\"],[0.8888888888888888,\"#fdca26\"],[1.0,\"#f0f921\"]]}],\"contourcarpet\":[{\"type\":\"contourcarpet\",\"colorbar\":{\"outlinewidth\":0,\"ticks\":\"\"}}],\"contour\":[{\"type\":\"contour\",\"colorbar\":{\"outlinewidth\":0,\"ticks\":\"\"},\"colorscale\":[[0.0,\"#0d0887\"],[0.1111111111111111,\"#46039f\"],[0.2222222222222222,\"#7201a8\"],[0.3333333333333333,\"#9c179e\"],[0.4444444444444444,\"#bd3786\"],[0.5555555555555556,\"#d8576b\"],[0.6666666666666666,\"#ed7953\"],[0.7777777777777778,\"#fb9f3a\"],[0.8888888888888888,\"#fdca26\"],[1.0,\"#f0f921\"]]}],\"surface\":[{\"type\":\"surface\",\"colorbar\":{\"outlinewidth\":0,\"ticks\":\"\"},\"colorscale\":[[0.0,\"#0d0887\"],[0.1111111111111111,\"#46039f\"],[0.2222222222222222,\"#7201a8\"],[0.3333333333333333,\"#9c179e\"],[0.4444444444444444,\"#bd3786\"],[0.5555555555555556,\"#d8576b\"],[0.6666666666666666,\"#ed7953\"],[0.7777777777777778,\"#fb9f3a\"],[0.8888888888888888,\"#fdca26\"],[1.0,\"#f0f921\"]]}],\"mesh3d\":[{\"type\":\"mesh3d\",\"colorbar\":{\"outlinewidth\":0,\"ticks\":\"\"}}],\"scatter\":[{\"fillpattern\":{\"fillmode\":\"overlay\",\"size\":10,\"solidity\":0.2},\"type\":\"scatter\"}],\"parcoords\":[{\"type\":\"parcoords\",\"line\":{\"colorbar\":{\"outlinewidth\":0,\"ticks\":\"\"}}}],\"scatterpolargl\":[{\"type\":\"scatterpolargl\",\"marker\":{\"colorbar\":{\"outlinewidth\":0,\"ticks\":\"\"}}}],\"bar\":[{\"error_x\":{\"color\":\"#2a3f5f\"},\"error_y\":{\"color\":\"#2a3f5f\"},\"marker\":{\"line\":{\"color\":\"#E5ECF6\",\"width\":0.5},\"pattern\":{\"fillmode\":\"overlay\",\"size\":10,\"solidity\":0.2}},\"type\":\"bar\"}],\"scattergeo\":[{\"type\":\"scattergeo\",\"marker\":{\"colorbar\":{\"outlinewidth\":0,\"ticks\":\"\"}}}],\"scatterpolar\":[{\"type\":\"scatterpolar\",\"marker\":{\"colorbar\":{\"outlinewidth\":0,\"ticks\":\"\"}}}],\"histogram\":[{\"marker\":{\"pattern\":{\"fillmode\":\"overlay\",\"size\":10,\"solidity\":0.2}},\"type\":\"histogram\"}],\"scattergl\":[{\"type\":\"scattergl\",\"marker\":{\"colorbar\":{\"outlinewidth\":0,\"ticks\":\"\"}}}],\"scatter3d\":[{\"type\":\"scatter3d\",\"line\":{\"colorbar\":{\"outlinewidth\":0,\"ticks\":\"\"}},\"marker\":{\"colorbar\":{\"outlinewidth\":0,\"ticks\":\"\"}}}],\"scattermapbox\":[{\"type\":\"scattermapbox\",\"marker\":{\"colorbar\":{\"outlinewidth\":0,\"ticks\":\"\"}}}],\"scatterternary\":[{\"type\":\"scatterternary\",\"marker\":{\"colorbar\":{\"outlinewidth\":0,\"ticks\":\"\"}}}],\"scattercarpet\":[{\"type\":\"scattercarpet\",\"marker\":{\"colorbar\":{\"outlinewidth\":0,\"ticks\":\"\"}}}],\"carpet\":[{\"aaxis\":{\"endlinecolor\":\"#2a3f5f\",\"gridcolor\":\"white\",\"linecolor\":\"white\",\"minorgridcolor\":\"white\",\"startlinecolor\":\"#2a3f5f\"},\"baxis\":{\"endlinecolor\":\"#2a3f5f\",\"gridcolor\":\"white\",\"linecolor\":\"white\",\"minorgridcolor\":\"white\",\"startlinecolor\":\"#2a3f5f\"},\"type\":\"carpet\"}],\"table\":[{\"cells\":{\"fill\":{\"color\":\"#EBF0F8\"},\"line\":{\"color\":\"white\"}},\"header\":{\"fill\":{\"color\":\"#C8D4E3\"},\"line\":{\"color\":\"white\"}},\"type\":\"table\"}],\"barpolar\":[{\"marker\":{\"line\":{\"color\":\"#E5ECF6\",\"width\":0.5},\"pattern\":{\"fillmode\":\"overlay\",\"size\":10,\"solidity\":0.2}},\"type\":\"barpolar\"}],\"pie\":[{\"automargin\":true,\"type\":\"pie\"}]},\"layout\":{\"autotypenumbers\":\"strict\",\"colorway\":[\"#636efa\",\"#EF553B\",\"#00cc96\",\"#ab63fa\",\"#FFA15A\",\"#19d3f3\",\"#FF6692\",\"#B6E880\",\"#FF97FF\",\"#FECB52\"],\"font\":{\"color\":\"#2a3f5f\"},\"hovermode\":\"closest\",\"hoverlabel\":{\"align\":\"left\"},\"paper_bgcolor\":\"white\",\"plot_bgcolor\":\"#E5ECF6\",\"polar\":{\"bgcolor\":\"#E5ECF6\",\"angularaxis\":{\"gridcolor\":\"white\",\"linecolor\":\"white\",\"ticks\":\"\"},\"radialaxis\":{\"gridcolor\":\"white\",\"linecolor\":\"white\",\"ticks\":\"\"}},\"ternary\":{\"bgcolor\":\"#E5ECF6\",\"aaxis\":{\"gridcolor\":\"white\",\"linecolor\":\"white\",\"ticks\":\"\"},\"baxis\":{\"gridcolor\":\"white\",\"linecolor\":\"white\",\"ticks\":\"\"},\"caxis\":{\"gridcolor\":\"white\",\"linecolor\":\"white\",\"ticks\":\"\"}},\"coloraxis\":{\"colorbar\":{\"outlinewidth\":0,\"ticks\":\"\"}},\"colorscale\":{\"sequential\":[[0.0,\"#0d0887\"],[0.1111111111111111,\"#46039f\"],[0.2222222222222222,\"#7201a8\"],[0.3333333333333333,\"#9c179e\"],[0.4444444444444444,\"#bd3786\"],[0.5555555555555556,\"#d8576b\"],[0.6666666666666666,\"#ed7953\"],[0.7777777777777778,\"#fb9f3a\"],[0.8888888888888888,\"#fdca26\"],[1.0,\"#f0f921\"]],\"sequentialminus\":[[0.0,\"#0d0887\"],[0.1111111111111111,\"#46039f\"],[0.2222222222222222,\"#7201a8\"],[0.3333333333333333,\"#9c179e\"],[0.4444444444444444,\"#bd3786\"],[0.5555555555555556,\"#d8576b\"],[0.6666666666666666,\"#ed7953\"],[0.7777777777777778,\"#fb9f3a\"],[0.8888888888888888,\"#fdca26\"],[1.0,\"#f0f921\"]],\"diverging\":[[0,\"#8e0152\"],[0.1,\"#c51b7d\"],[0.2,\"#de77ae\"],[0.3,\"#f1b6da\"],[0.4,\"#fde0ef\"],[0.5,\"#f7f7f7\"],[0.6,\"#e6f5d0\"],[0.7,\"#b8e186\"],[0.8,\"#7fbc41\"],[0.9,\"#4d9221\"],[1,\"#276419\"]]},\"xaxis\":{\"gridcolor\":\"white\",\"linecolor\":\"white\",\"ticks\":\"\",\"title\":{\"standoff\":15},\"zerolinecolor\":\"white\",\"automargin\":true,\"zerolinewidth\":2},\"yaxis\":{\"gridcolor\":\"white\",\"linecolor\":\"white\",\"ticks\":\"\",\"title\":{\"standoff\":15},\"zerolinecolor\":\"white\",\"automargin\":true,\"zerolinewidth\":2},\"scene\":{\"xaxis\":{\"backgroundcolor\":\"#E5ECF6\",\"gridcolor\":\"white\",\"linecolor\":\"white\",\"showbackground\":true,\"ticks\":\"\",\"zerolinecolor\":\"white\",\"gridwidth\":2},\"yaxis\":{\"backgroundcolor\":\"#E5ECF6\",\"gridcolor\":\"white\",\"linecolor\":\"white\",\"showbackground\":true,\"ticks\":\"\",\"zerolinecolor\":\"white\",\"gridwidth\":2},\"zaxis\":{\"backgroundcolor\":\"#E5ECF6\",\"gridcolor\":\"white\",\"linecolor\":\"white\",\"showbackground\":true,\"ticks\":\"\",\"zerolinecolor\":\"white\",\"gridwidth\":2}},\"shapedefaults\":{\"line\":{\"color\":\"#2a3f5f\"}},\"annotationdefaults\":{\"arrowcolor\":\"#2a3f5f\",\"arrowhead\":0,\"arrowwidth\":1},\"geo\":{\"bgcolor\":\"white\",\"landcolor\":\"#E5ECF6\",\"subunitcolor\":\"white\",\"showland\":true,\"showlakes\":true,\"lakecolor\":\"white\"},\"title\":{\"x\":0.05},\"mapbox\":{\"style\":\"light\"}}}},                        {\"responsive\": true}                    ).then(function(){\n",
              "                            \n",
              "var gd = document.getElementById('6ec0b4d0-a13d-4721-bcd7-de6792b54076');\n",
              "var x = new MutationObserver(function (mutations, observer) {{\n",
              "        var display = window.getComputedStyle(gd).display;\n",
              "        if (!display || display === 'none') {{\n",
              "            console.log([gd, 'removed!']);\n",
              "            Plotly.purge(gd);\n",
              "            observer.disconnect();\n",
              "        }}\n",
              "}});\n",
              "\n",
              "// Listen for the removal of the full notebook cells\n",
              "var notebookContainer = gd.closest('#notebook-container');\n",
              "if (notebookContainer) {{\n",
              "    x.observe(notebookContainer, {childList: true});\n",
              "}}\n",
              "\n",
              "// Listen for the clearing of the current output cell\n",
              "var outputEl = gd.closest('.output');\n",
              "if (outputEl) {{\n",
              "    x.observe(outputEl, {childList: true});\n",
              "}}\n",
              "\n",
              "                        })                };                            </script>        </div>\n",
              "</body>\n",
              "</html>"
            ]
          },
          "metadata": {}
        }
      ]
    },
    {
      "cell_type": "markdown",
      "source": [
        "Тут как видно, попадания прям замечательные"
      ],
      "metadata": {
        "id": "-VWN_DWij3HM"
      }
    },
    {
      "cell_type": "code",
      "source": [
        "plot_weights(model_r_3.coef_)"
      ],
      "metadata": {
        "colab": {
          "base_uri": "https://localhost:8080/",
          "height": 542
        },
        "id": "7hviwKLSj7-g",
        "outputId": "bee012b3-ab09-4c6e-baea-45243fbe275d"
      },
      "execution_count": null,
      "outputs": [
        {
          "output_type": "display_data",
          "data": {
            "text/html": [
              "<html>\n",
              "<head><meta charset=\"utf-8\" /></head>\n",
              "<body>\n",
              "    <div>            <script src=\"https://cdnjs.cloudflare.com/ajax/libs/mathjax/2.7.5/MathJax.js?config=TeX-AMS-MML_SVG\"></script><script type=\"text/javascript\">if (window.MathJax && window.MathJax.Hub && window.MathJax.Hub.Config) {window.MathJax.Hub.Config({SVG: {font: \"STIX-Web\"}});}</script>                <script type=\"text/javascript\">window.PlotlyConfig = {MathJaxConfig: 'local'};</script>\n",
              "        <script src=\"https://cdn.plot.ly/plotly-2.16.1.min.js\"></script>                <div id=\"208b5632-a98c-42c8-9271-4102923edd08\" class=\"plotly-graph-div\" style=\"height:525px; width:100%;\"></div>            <script type=\"text/javascript\">                                    window.PLOTLYENV=window.PLOTLYENV || {};                                    if (document.getElementById(\"208b5632-a98c-42c8-9271-4102923edd08\")) {                    Plotly.newPlot(                        \"208b5632-a98c-42c8-9271-4102923edd08\",                        [{\"alignmentgroup\":\"True\",\"hovertemplate\":\"c=<0<br>x=%{x}<br>y=%{y}<extra></extra>\",\"legendgroup\":\"<0\",\"marker\":{\"color\":\"red\",\"pattern\":{\"shape\":\"\"}},\"name\":\"<0\",\"offsetgroup\":\"<0\",\"orientation\":\"v\",\"showlegend\":true,\"textposition\":\"auto\",\"x\":[\"w0\",\"w1\",\"w4\"],\"xaxis\":\"x\",\"y\":[-2.032712525762664,-1.2948851776245818,-0.0015539116514885066],\"yaxis\":\"y\",\"type\":\"bar\"},{\"alignmentgroup\":\"True\",\"hovertemplate\":\"c=>=0<br>x=%{x}<br>y=%{y}<extra></extra>\",\"legendgroup\":\">=0\",\"marker\":{\"color\":\"blue\",\"pattern\":{\"shape\":\"\"}},\"name\":\">=0\",\"offsetgroup\":\">=0\",\"orientation\":\"v\",\"showlegend\":true,\"textposition\":\"auto\",\"x\":[\"w2\",\"w3\"],\"xaxis\":\"x\",\"y\":[2.6268707604200143,0.005827209449010385],\"yaxis\":\"y\",\"type\":\"bar\"}],                        {\"template\":{\"data\":{\"histogram2dcontour\":[{\"type\":\"histogram2dcontour\",\"colorbar\":{\"outlinewidth\":0,\"ticks\":\"\"},\"colorscale\":[[0.0,\"#0d0887\"],[0.1111111111111111,\"#46039f\"],[0.2222222222222222,\"#7201a8\"],[0.3333333333333333,\"#9c179e\"],[0.4444444444444444,\"#bd3786\"],[0.5555555555555556,\"#d8576b\"],[0.6666666666666666,\"#ed7953\"],[0.7777777777777778,\"#fb9f3a\"],[0.8888888888888888,\"#fdca26\"],[1.0,\"#f0f921\"]]}],\"choropleth\":[{\"type\":\"choropleth\",\"colorbar\":{\"outlinewidth\":0,\"ticks\":\"\"}}],\"histogram2d\":[{\"type\":\"histogram2d\",\"colorbar\":{\"outlinewidth\":0,\"ticks\":\"\"},\"colorscale\":[[0.0,\"#0d0887\"],[0.1111111111111111,\"#46039f\"],[0.2222222222222222,\"#7201a8\"],[0.3333333333333333,\"#9c179e\"],[0.4444444444444444,\"#bd3786\"],[0.5555555555555556,\"#d8576b\"],[0.6666666666666666,\"#ed7953\"],[0.7777777777777778,\"#fb9f3a\"],[0.8888888888888888,\"#fdca26\"],[1.0,\"#f0f921\"]]}],\"heatmap\":[{\"type\":\"heatmap\",\"colorbar\":{\"outlinewidth\":0,\"ticks\":\"\"},\"colorscale\":[[0.0,\"#0d0887\"],[0.1111111111111111,\"#46039f\"],[0.2222222222222222,\"#7201a8\"],[0.3333333333333333,\"#9c179e\"],[0.4444444444444444,\"#bd3786\"],[0.5555555555555556,\"#d8576b\"],[0.6666666666666666,\"#ed7953\"],[0.7777777777777778,\"#fb9f3a\"],[0.8888888888888888,\"#fdca26\"],[1.0,\"#f0f921\"]]}],\"heatmapgl\":[{\"type\":\"heatmapgl\",\"colorbar\":{\"outlinewidth\":0,\"ticks\":\"\"},\"colorscale\":[[0.0,\"#0d0887\"],[0.1111111111111111,\"#46039f\"],[0.2222222222222222,\"#7201a8\"],[0.3333333333333333,\"#9c179e\"],[0.4444444444444444,\"#bd3786\"],[0.5555555555555556,\"#d8576b\"],[0.6666666666666666,\"#ed7953\"],[0.7777777777777778,\"#fb9f3a\"],[0.8888888888888888,\"#fdca26\"],[1.0,\"#f0f921\"]]}],\"contourcarpet\":[{\"type\":\"contourcarpet\",\"colorbar\":{\"outlinewidth\":0,\"ticks\":\"\"}}],\"contour\":[{\"type\":\"contour\",\"colorbar\":{\"outlinewidth\":0,\"ticks\":\"\"},\"colorscale\":[[0.0,\"#0d0887\"],[0.1111111111111111,\"#46039f\"],[0.2222222222222222,\"#7201a8\"],[0.3333333333333333,\"#9c179e\"],[0.4444444444444444,\"#bd3786\"],[0.5555555555555556,\"#d8576b\"],[0.6666666666666666,\"#ed7953\"],[0.7777777777777778,\"#fb9f3a\"],[0.8888888888888888,\"#fdca26\"],[1.0,\"#f0f921\"]]}],\"surface\":[{\"type\":\"surface\",\"colorbar\":{\"outlinewidth\":0,\"ticks\":\"\"},\"colorscale\":[[0.0,\"#0d0887\"],[0.1111111111111111,\"#46039f\"],[0.2222222222222222,\"#7201a8\"],[0.3333333333333333,\"#9c179e\"],[0.4444444444444444,\"#bd3786\"],[0.5555555555555556,\"#d8576b\"],[0.6666666666666666,\"#ed7953\"],[0.7777777777777778,\"#fb9f3a\"],[0.8888888888888888,\"#fdca26\"],[1.0,\"#f0f921\"]]}],\"mesh3d\":[{\"type\":\"mesh3d\",\"colorbar\":{\"outlinewidth\":0,\"ticks\":\"\"}}],\"scatter\":[{\"fillpattern\":{\"fillmode\":\"overlay\",\"size\":10,\"solidity\":0.2},\"type\":\"scatter\"}],\"parcoords\":[{\"type\":\"parcoords\",\"line\":{\"colorbar\":{\"outlinewidth\":0,\"ticks\":\"\"}}}],\"scatterpolargl\":[{\"type\":\"scatterpolargl\",\"marker\":{\"colorbar\":{\"outlinewidth\":0,\"ticks\":\"\"}}}],\"bar\":[{\"error_x\":{\"color\":\"#2a3f5f\"},\"error_y\":{\"color\":\"#2a3f5f\"},\"marker\":{\"line\":{\"color\":\"#E5ECF6\",\"width\":0.5},\"pattern\":{\"fillmode\":\"overlay\",\"size\":10,\"solidity\":0.2}},\"type\":\"bar\"}],\"scattergeo\":[{\"type\":\"scattergeo\",\"marker\":{\"colorbar\":{\"outlinewidth\":0,\"ticks\":\"\"}}}],\"scatterpolar\":[{\"type\":\"scatterpolar\",\"marker\":{\"colorbar\":{\"outlinewidth\":0,\"ticks\":\"\"}}}],\"histogram\":[{\"marker\":{\"pattern\":{\"fillmode\":\"overlay\",\"size\":10,\"solidity\":0.2}},\"type\":\"histogram\"}],\"scattergl\":[{\"type\":\"scattergl\",\"marker\":{\"colorbar\":{\"outlinewidth\":0,\"ticks\":\"\"}}}],\"scatter3d\":[{\"type\":\"scatter3d\",\"line\":{\"colorbar\":{\"outlinewidth\":0,\"ticks\":\"\"}},\"marker\":{\"colorbar\":{\"outlinewidth\":0,\"ticks\":\"\"}}}],\"scattermapbox\":[{\"type\":\"scattermapbox\",\"marker\":{\"colorbar\":{\"outlinewidth\":0,\"ticks\":\"\"}}}],\"scatterternary\":[{\"type\":\"scatterternary\",\"marker\":{\"colorbar\":{\"outlinewidth\":0,\"ticks\":\"\"}}}],\"scattercarpet\":[{\"type\":\"scattercarpet\",\"marker\":{\"colorbar\":{\"outlinewidth\":0,\"ticks\":\"\"}}}],\"carpet\":[{\"aaxis\":{\"endlinecolor\":\"#2a3f5f\",\"gridcolor\":\"white\",\"linecolor\":\"white\",\"minorgridcolor\":\"white\",\"startlinecolor\":\"#2a3f5f\"},\"baxis\":{\"endlinecolor\":\"#2a3f5f\",\"gridcolor\":\"white\",\"linecolor\":\"white\",\"minorgridcolor\":\"white\",\"startlinecolor\":\"#2a3f5f\"},\"type\":\"carpet\"}],\"table\":[{\"cells\":{\"fill\":{\"color\":\"#EBF0F8\"},\"line\":{\"color\":\"white\"}},\"header\":{\"fill\":{\"color\":\"#C8D4E3\"},\"line\":{\"color\":\"white\"}},\"type\":\"table\"}],\"barpolar\":[{\"marker\":{\"line\":{\"color\":\"#E5ECF6\",\"width\":0.5},\"pattern\":{\"fillmode\":\"overlay\",\"size\":10,\"solidity\":0.2}},\"type\":\"barpolar\"}],\"pie\":[{\"automargin\":true,\"type\":\"pie\"}]},\"layout\":{\"autotypenumbers\":\"strict\",\"colorway\":[\"#636efa\",\"#EF553B\",\"#00cc96\",\"#ab63fa\",\"#FFA15A\",\"#19d3f3\",\"#FF6692\",\"#B6E880\",\"#FF97FF\",\"#FECB52\"],\"font\":{\"color\":\"#2a3f5f\"},\"hovermode\":\"closest\",\"hoverlabel\":{\"align\":\"left\"},\"paper_bgcolor\":\"white\",\"plot_bgcolor\":\"#E5ECF6\",\"polar\":{\"bgcolor\":\"#E5ECF6\",\"angularaxis\":{\"gridcolor\":\"white\",\"linecolor\":\"white\",\"ticks\":\"\"},\"radialaxis\":{\"gridcolor\":\"white\",\"linecolor\":\"white\",\"ticks\":\"\"}},\"ternary\":{\"bgcolor\":\"#E5ECF6\",\"aaxis\":{\"gridcolor\":\"white\",\"linecolor\":\"white\",\"ticks\":\"\"},\"baxis\":{\"gridcolor\":\"white\",\"linecolor\":\"white\",\"ticks\":\"\"},\"caxis\":{\"gridcolor\":\"white\",\"linecolor\":\"white\",\"ticks\":\"\"}},\"coloraxis\":{\"colorbar\":{\"outlinewidth\":0,\"ticks\":\"\"}},\"colorscale\":{\"sequential\":[[0.0,\"#0d0887\"],[0.1111111111111111,\"#46039f\"],[0.2222222222222222,\"#7201a8\"],[0.3333333333333333,\"#9c179e\"],[0.4444444444444444,\"#bd3786\"],[0.5555555555555556,\"#d8576b\"],[0.6666666666666666,\"#ed7953\"],[0.7777777777777778,\"#fb9f3a\"],[0.8888888888888888,\"#fdca26\"],[1.0,\"#f0f921\"]],\"sequentialminus\":[[0.0,\"#0d0887\"],[0.1111111111111111,\"#46039f\"],[0.2222222222222222,\"#7201a8\"],[0.3333333333333333,\"#9c179e\"],[0.4444444444444444,\"#bd3786\"],[0.5555555555555556,\"#d8576b\"],[0.6666666666666666,\"#ed7953\"],[0.7777777777777778,\"#fb9f3a\"],[0.8888888888888888,\"#fdca26\"],[1.0,\"#f0f921\"]],\"diverging\":[[0,\"#8e0152\"],[0.1,\"#c51b7d\"],[0.2,\"#de77ae\"],[0.3,\"#f1b6da\"],[0.4,\"#fde0ef\"],[0.5,\"#f7f7f7\"],[0.6,\"#e6f5d0\"],[0.7,\"#b8e186\"],[0.8,\"#7fbc41\"],[0.9,\"#4d9221\"],[1,\"#276419\"]]},\"xaxis\":{\"gridcolor\":\"white\",\"linecolor\":\"white\",\"ticks\":\"\",\"title\":{\"standoff\":15},\"zerolinecolor\":\"white\",\"automargin\":true,\"zerolinewidth\":2},\"yaxis\":{\"gridcolor\":\"white\",\"linecolor\":\"white\",\"ticks\":\"\",\"title\":{\"standoff\":15},\"zerolinecolor\":\"white\",\"automargin\":true,\"zerolinewidth\":2},\"scene\":{\"xaxis\":{\"backgroundcolor\":\"#E5ECF6\",\"gridcolor\":\"white\",\"linecolor\":\"white\",\"showbackground\":true,\"ticks\":\"\",\"zerolinecolor\":\"white\",\"gridwidth\":2},\"yaxis\":{\"backgroundcolor\":\"#E5ECF6\",\"gridcolor\":\"white\",\"linecolor\":\"white\",\"showbackground\":true,\"ticks\":\"\",\"zerolinecolor\":\"white\",\"gridwidth\":2},\"zaxis\":{\"backgroundcolor\":\"#E5ECF6\",\"gridcolor\":\"white\",\"linecolor\":\"white\",\"showbackground\":true,\"ticks\":\"\",\"zerolinecolor\":\"white\",\"gridwidth\":2}},\"shapedefaults\":{\"line\":{\"color\":\"#2a3f5f\"}},\"annotationdefaults\":{\"arrowcolor\":\"#2a3f5f\",\"arrowhead\":0,\"arrowwidth\":1},\"geo\":{\"bgcolor\":\"white\",\"landcolor\":\"#E5ECF6\",\"subunitcolor\":\"white\",\"showland\":true,\"showlakes\":true,\"lakecolor\":\"white\"},\"title\":{\"x\":0.05},\"mapbox\":{\"style\":\"light\"}}},\"xaxis\":{\"anchor\":\"y\",\"domain\":[0.0,1.0],\"title\":{\"text\":\"x\"},\"categoryorder\":\"array\",\"categoryarray\":[\"w0\",\"w1\",\"w2\",\"w3\",\"w4\"]},\"yaxis\":{\"anchor\":\"x\",\"domain\":[0.0,1.0],\"title\":{\"text\":\"y\"}},\"legend\":{\"title\":{\"text\":\"c\"},\"tracegroupgap\":0},\"margin\":{\"t\":60},\"barmode\":\"relative\"},                        {\"responsive\": true}                    ).then(function(){\n",
              "                            \n",
              "var gd = document.getElementById('208b5632-a98c-42c8-9271-4102923edd08');\n",
              "var x = new MutationObserver(function (mutations, observer) {{\n",
              "        var display = window.getComputedStyle(gd).display;\n",
              "        if (!display || display === 'none') {{\n",
              "            console.log([gd, 'removed!']);\n",
              "            Plotly.purge(gd);\n",
              "            observer.disconnect();\n",
              "        }}\n",
              "}});\n",
              "\n",
              "// Listen for the removal of the full notebook cells\n",
              "var notebookContainer = gd.closest('#notebook-container');\n",
              "if (notebookContainer) {{\n",
              "    x.observe(notebookContainer, {childList: true});\n",
              "}}\n",
              "\n",
              "// Listen for the clearing of the current output cell\n",
              "var outputEl = gd.closest('.output');\n",
              "if (outputEl) {{\n",
              "    x.observe(outputEl, {childList: true});\n",
              "}}\n",
              "\n",
              "                        })                };                            </script>        </div>\n",
              "</body>\n",
              "</html>"
            ]
          },
          "metadata": {}
        }
      ]
    },
    {
      "cell_type": "markdown",
      "source": [
        "Вероятно регуляризация уже больше приближает к нулю те два последних веса и первые два, по идее с хорошим альфа у лассо, мы можем обнулить эти веса"
      ],
      "metadata": {
        "id": "r6001YF-kDYj"
      }
    },
    {
      "cell_type": "markdown",
      "source": [
        "### Lasso регуляризация"
      ],
      "metadata": {
        "id": "KLBZ39RNkL25"
      }
    },
    {
      "cell_type": "code",
      "source": [
        "model_l_3 = Lasso().fit(X_train_3_, y_train_3)\n",
        "\n",
        "y_pred_l_3 = model_l_3.predict(X_test_3_)\n",
        "\n",
        "print(f'R2 score: {r2_score(y_test_3, y_pred_l_3)}')\n",
        "print(f'MAE: {mean_absolute_error(y_test_3, y_pred_l_3)}')\n",
        "print(f'MSE: {mean_squared_error(y_test_3, y_pred_l_3)}')"
      ],
      "metadata": {
        "colab": {
          "base_uri": "https://localhost:8080/"
        },
        "id": "j2smyf00kLEY",
        "outputId": "6f1334d4-d6d4-4d8d-a0a8-3befb138e835"
      },
      "execution_count": null,
      "outputs": [
        {
          "output_type": "stream",
          "name": "stdout",
          "text": [
            "R2 score: 0.9917203603693212\n",
            "MAE: 77.91904899944537\n",
            "MSE: 9403.520391614238\n"
          ]
        }
      ]
    },
    {
      "cell_type": "markdown",
      "source": [
        "Как и ожидалось, обнуление дало о себе знать, точность поднялась на одну десятитысячную, вместо статысячной как на Ridge"
      ],
      "metadata": {
        "id": "cEIPSvD-khor"
      }
    },
    {
      "cell_type": "code",
      "source": [
        "plot_test(X_train_3, X_test_3, y_train_3, y_test_3, y_pred_l_3)"
      ],
      "metadata": {
        "colab": {
          "base_uri": "https://localhost:8080/",
          "height": 542
        },
        "id": "d0gsZIUyk0JB",
        "outputId": "c54e5872-5cf4-4d55-8ad0-acabab149eab"
      },
      "execution_count": null,
      "outputs": [
        {
          "output_type": "display_data",
          "data": {
            "text/html": [
              "<html>\n",
              "<head><meta charset=\"utf-8\" /></head>\n",
              "<body>\n",
              "    <div>            <script src=\"https://cdnjs.cloudflare.com/ajax/libs/mathjax/2.7.5/MathJax.js?config=TeX-AMS-MML_SVG\"></script><script type=\"text/javascript\">if (window.MathJax && window.MathJax.Hub && window.MathJax.Hub.Config) {window.MathJax.Hub.Config({SVG: {font: \"STIX-Web\"}});}</script>                <script type=\"text/javascript\">window.PlotlyConfig = {MathJaxConfig: 'local'};</script>\n",
              "        <script src=\"https://cdn.plot.ly/plotly-2.16.1.min.js\"></script>                <div id=\"b96fcd8d-4468-4242-afdd-b9b1d3f64dfd\" class=\"plotly-graph-div\" style=\"height:525px; width:100%;\"></div>            <script type=\"text/javascript\">                                    window.PLOTLYENV=window.PLOTLYENV || {};                                    if (document.getElementById(\"b96fcd8d-4468-4242-afdd-b9b1d3f64dfd\")) {                    Plotly.newPlot(                        \"b96fcd8d-4468-4242-afdd-b9b1d3f64dfd\",                        [{\"hovertemplate\":\"train=%{x}<br>y_train=%{y}<extra></extra>\",\"legendgroup\":\"\",\"marker\":{\"color\":\"#636efa\",\"symbol\":\"circle\"},\"mode\":\"markers\",\"name\":\"train\",\"orientation\":\"v\",\"showlegend\":true,\"x\":[5.880647764551117,0.03547409924775735,-9.65557172213581,2.17032224066768,5.321662544203917,8.390474060310435,2.165235711595983,-8.387740969877548,-2.8800357171964226,9.542906936639099,3.7849531329109993,-6.306990736657763,9.328610278939319,0.6119793323626013,-1.6421780717777033,8.446438295694968,6.003291850333344,2.149154065837406,-7.012926968017181,-4.219519270774546,4.5032334731454995,-2.6083261224191663,-2.46823910358774,8.527392687729034,2.3821396684801144,-0.848664228266717,4.543357074971572,-7.511951415050766,-7.5387999439065245,-3.4769131031346534,-0.9858997394461326,-1.2260293523085295,-5.936598476857496,-0.13750356929691243,1.329892642056425,-7.081944939758151,-0.7783944558471063,-2.527514245381603,5.129364583315132,-0.7545584701744108,-4.7879506037709625,1.0962713702402738,-9.714871304860964,-9.158004137266538,6.435756713643677,4.520347750307941,2.6452152232851738,-2.501777518007124,0.3370667200794859,-6.008343462360015,2.22483268403543,-9.31514203084052,-2.1627197293396954,-0.7011420112671622,9.227261173371065,6.0189892647902745,-9.656566708924139,-0.9216312633969075,1.9397317095443931,-0.7008674376577595,0.06904437450784329,8.487829984809586,0.9691565018879125,-1.28418835142487,-0.9093750515754806,-6.172622486477987,-2.9591080392471447,0.8437097865395202,8.361316313033218,3.161326481711102,5.013432689820224,-8.869961919026208,-9.799923615648288,7.6394991116972975,-7.149814222735991,8.751099361015488,-9.877265448440225,0.5915346062345499,-6.120189961424025,0.8144520561310831,7.361879318576872,1.5095639339820703,6.2486318866575665,-9.226753968819787,6.07233476519778,-7.687812851401499,-1.415153415048998,5.596360409546342,-8.898064143961745,-7.003210186101844,-6.985619628870707,3.254465889328273,5.55717206173254,-9.073841106736518,-1.0450874730902981,-1.4056351210305635,-6.6815606765869155,3.6466283774670867,-8.53166152927926,0.8380393547101495,4.820034531808968,-0.678448723682985,-3.8178008961834546,-3.9649862618897753,-1.9902104375042207,7.875045132799482,-1.677894516595293,7.248113242035451,-3.4920942588602593,6.833171598881982,-9.016454305590674,1.5071607224266579,-3.0186491509470725,3.2098106570859404,-8.430478801954784,2.6881965780159938,-9.745737059661563,-2.2957929502024754,-5.879391231281128,-9.69701792556451,3.9758107179971436,-3.3500009107305306,9.420614148952893,-6.642061536128172,-3.3137852500922715,1.4250798530117557,-9.625121342838103,-8.9656200571319,-7.222707757705271,4.436704631800426,-7.278416708711601,-5.3228288200795815,5.437803695319177,-1.9338588100383287,-6.1612336531222756,-2.4179860110785745,2.7148688547590822,-6.026664694577109,-8.487492274651583,-7.904355493708395,2.248104330095755,-9.411270559478861,2.1269561600166362,-1.605667933179875,2.396232820315996,-8.826303825906674,-4.465376854746732,-8.28967495951808,-9.875467061480993,-2.1995201220269056,-5.389748220038082,-8.43931048214618,5.0192249954783215,5.595214842813128,-1.1655644044324465,-0.9872251176450177,4.205562210096854,4.871720463309764,-5.75425367040272,-9.336720220859132,-9.387284644132336,-0.2910097020247431,5.899164465692019,-1.994688709397355,3.2300553668029472,-0.02340375665832184,3.0863381339538307,1.0722644486420272,5.0180120511894195,0.3821726808529107,-4.457272909494636,9.090596622588599,3.6211916933317134,-1.413898348508642,-0.8666657539748464,0.7325006459748362,-5.3099634493705405,-4.241192778438365,-1.659970551129227,-5.418173917981828,2.3978374701064773,8.95850888901952,-2.6896105502022616,8.266253167861343,2.879345125364761,-9.835796760808995,-5.767625968292243,7.930226305941709,-8.566932879021294,6.507165189535517,-6.83823736785838,9.493614760832905,-8.961130121699018,-5.046257639022826,-8.862790214555908,0.8202718324297109,5.000265802815857,-2.105183581073655,4.791581319738487,-7.509673372214623,7.123917131434371,6.16186601258244,6.06980969117814,4.714131083341952,-6.262181893957514,-4.976188660051964,2.9526541969262095,2.216374698004749,1.3750942370388337,-4.932804989876116,0.029461388758534213,-4.538639220757217,7.722219095097522,-5.415475701930785,5.404208455855562,-1.8993010455510735,9.509514851841676,-3.957565023234082,0.9470185878747817,2.1863027901735705,2.498006866544456,-5.388834361851482,-4.821435657567519,7.431504057809647,-8.706509843408188,-5.240516278335161,-5.27563613000633,-9.567119539542743,-7.811056522749702,-2.40276765780121,5.972303993742907,-6.254042819386276,6.372811432385454,-6.458610169766974,2.6978047861724512,4.602961362407962,9.614372004685933,-3.796827877661924,-4.721812764346753,-7.952803521927154],\"xaxis\":\"x\",\"y\":[436.0729557235298,-90.3593584036851,-2307.0416097669904,-31.73885505844682,394.9359892832473,1349.5309599433533,26.14781346523116,-1694.898290384268,119.33107902654965,2129.1266886318094,-16.835298632840818,-473.5649315859797,1803.7677223007122,24.961122291310055,65.0237969324505,1582.6737739496443,507.8736510519775,121.57458304563002,-845.9351339679159,-248.40038980460906,273.37794939103884,-17.672537937300724,-121.7843697496912,1497.5728748315978,-72.98227829922891,-3.4799145231168573,184.84762805120425,-1042.468923114486,-1039.6951906999936,-172.2275928185203,-85.20462662049037,80.43582259440866,-736.3444194536819,-18.130632379917397,18.230022782962166,-857.4772232050068,-63.693132347972536,48.19902691426052,250.9312371800761,51.53731154320056,-255.6970807471306,-137.68482689158427,-2462.047257652723,-1798.5785214107864,648.8538276530365,233.04179573607385,-26.614869479740335,6.368825156072347,60.255638779173275,-458.3022063944215,7.665633620457072,-2009.9056008396046,63.70551287198275,0.19357573485304203,1761.2755713811443,482.1758974284967,-2198.8301845640553,9.1980238453966,94.42786565370098,33.060042949306755,-164.8828436913668,1390.1506631949756,70.45071073367036,55.944211868564715,42.616940898294516,-754.0451271838608,-61.337928919101465,12.953343727436335,1492.7312213137052,114.5251118587174,366.7385285264874,-1787.9966124413722,-2509.0342494670776,1062.7298593618532,-1007.6962385582142,1650.7056476760142,-2340.7933186156424,19.274364179767154,-692.1878702665257,-55.770931885927595,1090.3238133999523,149.00542784804207,437.5760330785418,-2143.8059529360075,393.0317845775706,-1192.0721085090681,70.61044896031781,318.198257540049,-1822.5664285977791,-1040.565344110806,-704.7682751092003,57.086445068769216,241.34727815942256,-1846.407516427828,82.07174458653508,22.160414131405222,-798.5462304506209,200.1470278617598,-1692.343026866936,-42.53218676603355,378.90364437615284,42.1113156501994,21.36216367551137,-5.353879089834351,-213.26050080123537,1122.107248530441,242.334476883189,914.4917654938608,-71.13985752571033,731.9894323139758,-1810.1094029891613,29.49317815209496,54.427758799284234,54.841750356618796,-1614.9961584383077,117.24785966768454,-2510.3279224879598,37.17512016172381,-470.5785572403643,-2132.8863928457895,193.57156652686066,-67.6441650392421,2035.4611292756217,-927.8293706420218,-155.55129363123064,5.872838901713816,-2249.808421843521,-1820.3756441308583,-907.8612257097042,169.36894481924352,-1002.6133747499169,-229.2321646088615,364.90948744517726,27.00983430062942,-517.9363593134597,-225.76470514692045,-21.58221123556993,-398.47661562925083,-1471.7601667521087,-1376.2128771644234,16.87205114417568,-1931.7059284353065,55.90204090730843,53.97022771877681,31.579410503406166,-1906.0656996031428,-254.17174348764584,-1477.4594589137948,-2356.089797402216,-104.89301738864799,-566.2161152936538,-1520.4172878466957,379.64981506314757,457.96613537622966,-123.65223275206675,155.97501066538436,262.29883656870163,275.3553461968107,-387.8348025356273,-1865.8649325770775,-2130.4291444138303,-52.77543393311834,427.3436813238137,-2.1875294039315776,44.010677810408986,78.32911209488537,72.3132975248598,-125.42842552454874,361.7884797453922,-58.657740204845524,-115.33561741008542,1851.6535815323223,20.119575862569505,-23.973462039633,26.43791429927554,93.34383115869397,-425.5897126543138,-222.65411455003212,-79.64905238224404,-546.6776401643607,11.946126561236149,1587.5017473945625,-70.06764998356705,1461.5079028974933,-48.25039421592991,-2494.9651743239856,-542.2453723776155,1242.6172750494334,-1641.8251145387985,597.62167713392,-1077.4615745681008,2081.980003423446,-1833.2710261940313,-579.9604253360897,-1792.0049692438943,215.1002209926401,371.3138063930468,-190.0917190860635,284.6292546889529,-1189.7914934580615,628.7465411636799,741.8945264509514,475.89633517854173,415.51811616487385,-698.3804095240072,-268.7320247361325,135.97101175152858,-83.95517023519358,-226.23245452969724,-233.46035390234655,-112.50834064618857,-461.46169611655307,1112.7619210521498,-640.8785131561123,449.07611066722006,66.6965350738024,2053.48260696104,-446.089667643775,116.60585576029003,57.341070136418125,73.04208887515884,-317.22962182999026,-151.48720680463208,985.397089336855,-1617.8730872300625,-237.03413901381896,-304.8585431700371,-2345.7859564980304,-977.5607340617335,-25.841765742729528,427.83531565373596,-673.5940834122405,762.4471489011981,-897.0323359853076,55.44858215576074,299.971139136991,2199.485685379224,-277.2095651232403,-246.89751649691627,-1370.6649080971824],\"yaxis\":\"y\",\"type\":\"scatter\"},{\"hovertemplate\":\"X_test=%{x}<br>y_test=%{y}<extra></extra>\",\"legendgroup\":\"\",\"marker\":{\"color\":\"red\",\"symbol\":\"circle\"},\"mode\":\"markers\",\"name\":\"test\",\"orientation\":\"v\",\"showlegend\":true,\"x\":[4.959393643453808,7.916949393325055,-7.314762971240727,-4.578173578264543,-4.949001840522889,0.37555345390784645,5.890627641349761,6.806018310347383,9.56027102723452,3.8171354648870235,-8.2705513331172,0.24636809978523289,0.7310401694126067,-2.392373709412099,2.328531817742272,8.264983899409163,-8.419289221629189,6.892520699548093,-3.5926985488698833,8.365479605584504,6.5755061690404375,9.878129415888008,-7.060944990712956,-9.736151292424058,7.915733024109045,-8.705427424129708,-7.862233829549616,-9.829243564614591,-6.2379548975354275,7.5962549022427694,-7.2786038966677395,1.2000572950935045,-7.590502731746909,-5.831271200456857,3.5991438271311935,-3.46838635696332,1.8328243927598304,0.17271995985721134,-6.456962994348423,-3.4018024058945855,6.578378434327583,-8.035134872799274,-8.90911976383477,9.338943806478039,8.522850623006853,0.3416231558760181,-7.695650184243106,-7.872516876144992,6.898080995306838,-5.676379166940963,8.041104332521371,-6.6795779860075655,7.403399285461781,6.425369736231538,-9.194462944246673,-2.2451155359973,-6.105945417161811,-6.042529409003725,-6.00668472304479,2.351126643296542],\"xaxis\":\"x\",\"y\":[280.3361894460279,1160.753015367256,-1081.8586336386888,-217.2453365179956,-415.21759570388576,61.20641734170668,244.41075165807962,916.9109363247693,2032.6026594947339,38.97453755560922,-1528.7918491905696,-101.29119175473672,110.03092307317776,-43.51474164349466,178.63776613503245,1300.390956262993,-1581.0778142897952,823.9222832750867,-63.57314756153993,1472.7290053714137,509.05887191206347,2288.840229279856,-792.2860677615784,-2236.0903801459604,1132.364237213851,-1579.7740011787805,-1323.8808292012263,-2382.3207510739962,-574.5707723160415,1025.7228256932774,-965.3394731222554,65.91419941183565,-1135.557934938202,-580.5109944874458,177.64500204157923,27.792283198212687,169.9267356839912,47.287023463655444,-747.9219520963132,-35.441642830874784,660.6800779156162,-1353.616069318047,-1786.566115966169,1961.2547855431542,1628.2208896628347,108.5249679599038,-1316.3327697578723,-1235.0418418354386,640.2193917384816,-360.3041438434576,1239.3416064417718,-723.7822866021585,909.6292989159128,558.0575983341672,-2036.9539098572332,-151.3711138641473,-883.2464894363249,-511.26122931818685,-631.6271810215533,229.7865356872143],\"yaxis\":\"y\",\"type\":\"scatter\"},{\"hovertemplate\":\"X_test=%{x}<br>y_pred=%{y}<extra></extra>\",\"legendgroup\":\"\",\"marker\":{\"color\":\"lime\",\"symbol\":\"circle\"},\"mode\":\"markers\",\"name\":\"predictions\",\"orientation\":\"v\",\"showlegend\":true,\"x\":[4.959393643453808,7.916949393325055,-7.314762971240727,-4.578173578264543,-4.949001840522889,0.37555345390784645,5.890627641349761,6.806018310347383,9.56027102723452,3.8171354648870235,-8.2705513331172,0.24636809978523289,0.7310401694126067,-2.392373709412099,2.328531817742272,8.264983899409163,-8.419289221629189,6.892520699548093,-3.5926985488698833,8.365479605584504,6.5755061690404375,9.878129415888008,-7.060944990712956,-9.736151292424058,7.915733024109045,-8.705427424129708,-7.862233829549616,-9.829243564614591,-6.2379548975354275,7.5962549022427694,-7.2786038966677395,1.2000572950935045,-7.590502731746909,-5.831271200456857,3.5991438271311935,-3.46838635696332,1.8328243927598304,0.17271995985721134,-6.456962994348423,-3.4018024058945855,6.578378434327583,-8.035134872799274,-8.90911976383477,9.338943806478039,8.522850623006853,0.3416231558760181,-7.695650184243106,-7.872516876144992,6.898080995306838,-5.676379166940963,8.041104332521371,-6.6795779860075655,7.403399285461781,6.425369736231538,-9.194462944246673,-2.2451155359973,-6.105945417161811,-6.042529409003725,-6.00668472304479,2.351126643296542],\"xaxis\":\"x\",\"y\":[286.71219347304924,1188.6697401391157,-1024.0608974077327,-256.63892821538917,-324.2015316950839,7.91291590553161,484.84802959030054,752.4175948294119,2091.332602556522,129.19158208010174,-1461.0308063031891,8.101824467064562,7.778602461186625,-30.851758151462207,31.124606728852164,1352.9726114920045,-1537.987413690358,781.8083489745252,-122.03633498233285,1403.004946271381,677.6675956665938,2304.8156042446635,-924.0923515857517,-2331.2231409129704,1188.1195514472558,-1693.0770499705898,-1262.3610505651902,-2395.1673426880884,-643.2470498095338,1049.2799516826688,-1009.4202655351805,9.430391808545027,-1140.1445853973141,-527.5269428671368,108.19037124823724,-109.23223912806202,17.610835771561334,8.221168944762416,-711.7271510693372,-102.72408322997921,678.5674992969102,-1344.257282922327,-1809.2159159173773,1950.4087539067873,1483.7299708043674,7.95858751202058,-1186.505078021249,-1267.1411235954597,783.7229243421523,-487.23159482588704,1245.7019191613695,-785.9156101754343,970.8335211608967,631.7167903154223,-1980.0756032922484,-24.063673585371937,-604.0784235860251,-585.8162220418835,-575.6513071429572,31.92434088633412],\"yaxis\":\"y\",\"type\":\"scatter\"},{\"hovertemplate\":\"<b>LOWESS trendline</b><br><br>X_test=%{x}<br>y_pred=%{y} <b>(trend)</b><extra></extra>\",\"legendgroup\":\"\",\"marker\":{\"color\":\"lime\",\"symbol\":\"circle\"},\"mode\":\"lines\",\"name\":\"\",\"showlegend\":true,\"x\":[-9.829243564614591,-9.736151292424058,-9.194462944246673,-8.90911976383477,-8.705427424129708,-8.419289221629189,-8.2705513331172,-8.035134872799274,-7.872516876144992,-7.862233829549616,-7.695650184243106,-7.590502731746909,-7.314762971240727,-7.2786038966677395,-7.060944990712956,-6.6795779860075655,-6.456962994348423,-6.2379548975354275,-6.105945417161811,-6.042529409003725,-6.00668472304479,-5.831271200456857,-5.676379166940963,-4.949001840522889,-4.578173578264543,-3.5926985488698833,-3.46838635696332,-3.4018024058945855,-2.392373709412099,-2.2451155359973,0.17271995985721134,0.24636809978523289,0.3416231558760181,0.37555345390784645,0.7310401694126067,1.2000572950935045,1.8328243927598304,2.328531817742272,2.351126643296542,3.5991438271311935,3.8171354648870235,4.959393643453808,5.890627641349761,6.425369736231538,6.5755061690404375,6.578378434327583,6.806018310347383,6.892520699548093,6.898080995306838,7.403399285461781,7.5962549022427694,7.915733024109045,7.916949393325055,8.041104332521371,8.264983899409163,8.365479605584504,8.522850623006853,9.338943806478039,9.56027102723452,9.878129415888008],\"xaxis\":\"x\",\"y\":[-2392.1041820544356,-2333.33736259895,-1991.222557746876,-1807.9408931361868,-1695.9941795351417,-1540.2476838882314,-1462.1437840857807,-1345.6475174547475,-1267.9538391844503,-1263.2381986037535,-1187.14653502136,-1140.3563092375173,-1025.6529084216722,-1010.7780146523305,-927.0199034285464,-788.8117962437433,-713.0607022979854,-644.4182973719354,-604.4723706078174,-586.3614869381964,-576.1473137884939,-528.4507640318134,-486.6844331457565,-335.04968996911555,-258.0948632200543,-125.487398618901,-109.84541983372436,-104.38043904717615,-32.69019798571782,-22.199899902683352,8.147145631943607,8.088579972731631,8.015392178933716,7.989846190460577,7.95979661820483,10.15051011413523,21.934896288289686,31.09480565096849,31.58396693487291,76.09737371808114,83.81309421944275,229.0814001718204,484.6031552881472,631.3004596598262,678.1765207677421,679.080622833154,753.1622992386127,781.5998069659839,783.4295394933077,970.8407874031437,1051.9365628148769,1188.9630136712594,1189.497983954404,1247.0526090542928,1353.9791913898603,1404.0170763624087,1482.9273084028528,1961.9153359760353,2091.3179757573566,2277.20037641077],\"yaxis\":\"y\",\"type\":\"scatter\"}],                        {\"template\":{\"data\":{\"histogram2dcontour\":[{\"type\":\"histogram2dcontour\",\"colorbar\":{\"outlinewidth\":0,\"ticks\":\"\"},\"colorscale\":[[0.0,\"#0d0887\"],[0.1111111111111111,\"#46039f\"],[0.2222222222222222,\"#7201a8\"],[0.3333333333333333,\"#9c179e\"],[0.4444444444444444,\"#bd3786\"],[0.5555555555555556,\"#d8576b\"],[0.6666666666666666,\"#ed7953\"],[0.7777777777777778,\"#fb9f3a\"],[0.8888888888888888,\"#fdca26\"],[1.0,\"#f0f921\"]]}],\"choropleth\":[{\"type\":\"choropleth\",\"colorbar\":{\"outlinewidth\":0,\"ticks\":\"\"}}],\"histogram2d\":[{\"type\":\"histogram2d\",\"colorbar\":{\"outlinewidth\":0,\"ticks\":\"\"},\"colorscale\":[[0.0,\"#0d0887\"],[0.1111111111111111,\"#46039f\"],[0.2222222222222222,\"#7201a8\"],[0.3333333333333333,\"#9c179e\"],[0.4444444444444444,\"#bd3786\"],[0.5555555555555556,\"#d8576b\"],[0.6666666666666666,\"#ed7953\"],[0.7777777777777778,\"#fb9f3a\"],[0.8888888888888888,\"#fdca26\"],[1.0,\"#f0f921\"]]}],\"heatmap\":[{\"type\":\"heatmap\",\"colorbar\":{\"outlinewidth\":0,\"ticks\":\"\"},\"colorscale\":[[0.0,\"#0d0887\"],[0.1111111111111111,\"#46039f\"],[0.2222222222222222,\"#7201a8\"],[0.3333333333333333,\"#9c179e\"],[0.4444444444444444,\"#bd3786\"],[0.5555555555555556,\"#d8576b\"],[0.6666666666666666,\"#ed7953\"],[0.7777777777777778,\"#fb9f3a\"],[0.8888888888888888,\"#fdca26\"],[1.0,\"#f0f921\"]]}],\"heatmapgl\":[{\"type\":\"heatmapgl\",\"colorbar\":{\"outlinewidth\":0,\"ticks\":\"\"},\"colorscale\":[[0.0,\"#0d0887\"],[0.1111111111111111,\"#46039f\"],[0.2222222222222222,\"#7201a8\"],[0.3333333333333333,\"#9c179e\"],[0.4444444444444444,\"#bd3786\"],[0.5555555555555556,\"#d8576b\"],[0.6666666666666666,\"#ed7953\"],[0.7777777777777778,\"#fb9f3a\"],[0.8888888888888888,\"#fdca26\"],[1.0,\"#f0f921\"]]}],\"contourcarpet\":[{\"type\":\"contourcarpet\",\"colorbar\":{\"outlinewidth\":0,\"ticks\":\"\"}}],\"contour\":[{\"type\":\"contour\",\"colorbar\":{\"outlinewidth\":0,\"ticks\":\"\"},\"colorscale\":[[0.0,\"#0d0887\"],[0.1111111111111111,\"#46039f\"],[0.2222222222222222,\"#7201a8\"],[0.3333333333333333,\"#9c179e\"],[0.4444444444444444,\"#bd3786\"],[0.5555555555555556,\"#d8576b\"],[0.6666666666666666,\"#ed7953\"],[0.7777777777777778,\"#fb9f3a\"],[0.8888888888888888,\"#fdca26\"],[1.0,\"#f0f921\"]]}],\"surface\":[{\"type\":\"surface\",\"colorbar\":{\"outlinewidth\":0,\"ticks\":\"\"},\"colorscale\":[[0.0,\"#0d0887\"],[0.1111111111111111,\"#46039f\"],[0.2222222222222222,\"#7201a8\"],[0.3333333333333333,\"#9c179e\"],[0.4444444444444444,\"#bd3786\"],[0.5555555555555556,\"#d8576b\"],[0.6666666666666666,\"#ed7953\"],[0.7777777777777778,\"#fb9f3a\"],[0.8888888888888888,\"#fdca26\"],[1.0,\"#f0f921\"]]}],\"mesh3d\":[{\"type\":\"mesh3d\",\"colorbar\":{\"outlinewidth\":0,\"ticks\":\"\"}}],\"scatter\":[{\"fillpattern\":{\"fillmode\":\"overlay\",\"size\":10,\"solidity\":0.2},\"type\":\"scatter\"}],\"parcoords\":[{\"type\":\"parcoords\",\"line\":{\"colorbar\":{\"outlinewidth\":0,\"ticks\":\"\"}}}],\"scatterpolargl\":[{\"type\":\"scatterpolargl\",\"marker\":{\"colorbar\":{\"outlinewidth\":0,\"ticks\":\"\"}}}],\"bar\":[{\"error_x\":{\"color\":\"#2a3f5f\"},\"error_y\":{\"color\":\"#2a3f5f\"},\"marker\":{\"line\":{\"color\":\"#E5ECF6\",\"width\":0.5},\"pattern\":{\"fillmode\":\"overlay\",\"size\":10,\"solidity\":0.2}},\"type\":\"bar\"}],\"scattergeo\":[{\"type\":\"scattergeo\",\"marker\":{\"colorbar\":{\"outlinewidth\":0,\"ticks\":\"\"}}}],\"scatterpolar\":[{\"type\":\"scatterpolar\",\"marker\":{\"colorbar\":{\"outlinewidth\":0,\"ticks\":\"\"}}}],\"histogram\":[{\"marker\":{\"pattern\":{\"fillmode\":\"overlay\",\"size\":10,\"solidity\":0.2}},\"type\":\"histogram\"}],\"scattergl\":[{\"type\":\"scattergl\",\"marker\":{\"colorbar\":{\"outlinewidth\":0,\"ticks\":\"\"}}}],\"scatter3d\":[{\"type\":\"scatter3d\",\"line\":{\"colorbar\":{\"outlinewidth\":0,\"ticks\":\"\"}},\"marker\":{\"colorbar\":{\"outlinewidth\":0,\"ticks\":\"\"}}}],\"scattermapbox\":[{\"type\":\"scattermapbox\",\"marker\":{\"colorbar\":{\"outlinewidth\":0,\"ticks\":\"\"}}}],\"scatterternary\":[{\"type\":\"scatterternary\",\"marker\":{\"colorbar\":{\"outlinewidth\":0,\"ticks\":\"\"}}}],\"scattercarpet\":[{\"type\":\"scattercarpet\",\"marker\":{\"colorbar\":{\"outlinewidth\":0,\"ticks\":\"\"}}}],\"carpet\":[{\"aaxis\":{\"endlinecolor\":\"#2a3f5f\",\"gridcolor\":\"white\",\"linecolor\":\"white\",\"minorgridcolor\":\"white\",\"startlinecolor\":\"#2a3f5f\"},\"baxis\":{\"endlinecolor\":\"#2a3f5f\",\"gridcolor\":\"white\",\"linecolor\":\"white\",\"minorgridcolor\":\"white\",\"startlinecolor\":\"#2a3f5f\"},\"type\":\"carpet\"}],\"table\":[{\"cells\":{\"fill\":{\"color\":\"#EBF0F8\"},\"line\":{\"color\":\"white\"}},\"header\":{\"fill\":{\"color\":\"#C8D4E3\"},\"line\":{\"color\":\"white\"}},\"type\":\"table\"}],\"barpolar\":[{\"marker\":{\"line\":{\"color\":\"#E5ECF6\",\"width\":0.5},\"pattern\":{\"fillmode\":\"overlay\",\"size\":10,\"solidity\":0.2}},\"type\":\"barpolar\"}],\"pie\":[{\"automargin\":true,\"type\":\"pie\"}]},\"layout\":{\"autotypenumbers\":\"strict\",\"colorway\":[\"#636efa\",\"#EF553B\",\"#00cc96\",\"#ab63fa\",\"#FFA15A\",\"#19d3f3\",\"#FF6692\",\"#B6E880\",\"#FF97FF\",\"#FECB52\"],\"font\":{\"color\":\"#2a3f5f\"},\"hovermode\":\"closest\",\"hoverlabel\":{\"align\":\"left\"},\"paper_bgcolor\":\"white\",\"plot_bgcolor\":\"#E5ECF6\",\"polar\":{\"bgcolor\":\"#E5ECF6\",\"angularaxis\":{\"gridcolor\":\"white\",\"linecolor\":\"white\",\"ticks\":\"\"},\"radialaxis\":{\"gridcolor\":\"white\",\"linecolor\":\"white\",\"ticks\":\"\"}},\"ternary\":{\"bgcolor\":\"#E5ECF6\",\"aaxis\":{\"gridcolor\":\"white\",\"linecolor\":\"white\",\"ticks\":\"\"},\"baxis\":{\"gridcolor\":\"white\",\"linecolor\":\"white\",\"ticks\":\"\"},\"caxis\":{\"gridcolor\":\"white\",\"linecolor\":\"white\",\"ticks\":\"\"}},\"coloraxis\":{\"colorbar\":{\"outlinewidth\":0,\"ticks\":\"\"}},\"colorscale\":{\"sequential\":[[0.0,\"#0d0887\"],[0.1111111111111111,\"#46039f\"],[0.2222222222222222,\"#7201a8\"],[0.3333333333333333,\"#9c179e\"],[0.4444444444444444,\"#bd3786\"],[0.5555555555555556,\"#d8576b\"],[0.6666666666666666,\"#ed7953\"],[0.7777777777777778,\"#fb9f3a\"],[0.8888888888888888,\"#fdca26\"],[1.0,\"#f0f921\"]],\"sequentialminus\":[[0.0,\"#0d0887\"],[0.1111111111111111,\"#46039f\"],[0.2222222222222222,\"#7201a8\"],[0.3333333333333333,\"#9c179e\"],[0.4444444444444444,\"#bd3786\"],[0.5555555555555556,\"#d8576b\"],[0.6666666666666666,\"#ed7953\"],[0.7777777777777778,\"#fb9f3a\"],[0.8888888888888888,\"#fdca26\"],[1.0,\"#f0f921\"]],\"diverging\":[[0,\"#8e0152\"],[0.1,\"#c51b7d\"],[0.2,\"#de77ae\"],[0.3,\"#f1b6da\"],[0.4,\"#fde0ef\"],[0.5,\"#f7f7f7\"],[0.6,\"#e6f5d0\"],[0.7,\"#b8e186\"],[0.8,\"#7fbc41\"],[0.9,\"#4d9221\"],[1,\"#276419\"]]},\"xaxis\":{\"gridcolor\":\"white\",\"linecolor\":\"white\",\"ticks\":\"\",\"title\":{\"standoff\":15},\"zerolinecolor\":\"white\",\"automargin\":true,\"zerolinewidth\":2},\"yaxis\":{\"gridcolor\":\"white\",\"linecolor\":\"white\",\"ticks\":\"\",\"title\":{\"standoff\":15},\"zerolinecolor\":\"white\",\"automargin\":true,\"zerolinewidth\":2},\"scene\":{\"xaxis\":{\"backgroundcolor\":\"#E5ECF6\",\"gridcolor\":\"white\",\"linecolor\":\"white\",\"showbackground\":true,\"ticks\":\"\",\"zerolinecolor\":\"white\",\"gridwidth\":2},\"yaxis\":{\"backgroundcolor\":\"#E5ECF6\",\"gridcolor\":\"white\",\"linecolor\":\"white\",\"showbackground\":true,\"ticks\":\"\",\"zerolinecolor\":\"white\",\"gridwidth\":2},\"zaxis\":{\"backgroundcolor\":\"#E5ECF6\",\"gridcolor\":\"white\",\"linecolor\":\"white\",\"showbackground\":true,\"ticks\":\"\",\"zerolinecolor\":\"white\",\"gridwidth\":2}},\"shapedefaults\":{\"line\":{\"color\":\"#2a3f5f\"}},\"annotationdefaults\":{\"arrowcolor\":\"#2a3f5f\",\"arrowhead\":0,\"arrowwidth\":1},\"geo\":{\"bgcolor\":\"white\",\"landcolor\":\"#E5ECF6\",\"subunitcolor\":\"white\",\"showland\":true,\"showlakes\":true,\"lakecolor\":\"white\"},\"title\":{\"x\":0.05},\"mapbox\":{\"style\":\"light\"}}}},                        {\"responsive\": true}                    ).then(function(){\n",
              "                            \n",
              "var gd = document.getElementById('b96fcd8d-4468-4242-afdd-b9b1d3f64dfd');\n",
              "var x = new MutationObserver(function (mutations, observer) {{\n",
              "        var display = window.getComputedStyle(gd).display;\n",
              "        if (!display || display === 'none') {{\n",
              "            console.log([gd, 'removed!']);\n",
              "            Plotly.purge(gd);\n",
              "            observer.disconnect();\n",
              "        }}\n",
              "}});\n",
              "\n",
              "// Listen for the removal of the full notebook cells\n",
              "var notebookContainer = gd.closest('#notebook-container');\n",
              "if (notebookContainer) {{\n",
              "    x.observe(notebookContainer, {childList: true});\n",
              "}}\n",
              "\n",
              "// Listen for the clearing of the current output cell\n",
              "var outputEl = gd.closest('.output');\n",
              "if (outputEl) {{\n",
              "    x.observe(outputEl, {childList: true});\n",
              "}}\n",
              "\n",
              "                        })                };                            </script>        </div>\n",
              "</body>\n",
              "</html>"
            ]
          },
          "metadata": {}
        }
      ]
    },
    {
      "cell_type": "markdown",
      "source": [
        "Ещё ближе попадания"
      ],
      "metadata": {
        "id": "wsqRx4nrk39f"
      }
    },
    {
      "cell_type": "markdown",
      "source": [
        "Но стоит сделать большое alpha, чтобы увидеть прям практически нулевые веса"
      ],
      "metadata": {
        "id": "erVjguDJlETA"
      }
    },
    {
      "cell_type": "code",
      "source": [
        "model_l_3 = Lasso(alpha=4).fit(X_train_3_, y_train_3)\n",
        "\n",
        "y_pred_l_3 = model_l_3.predict(X_test_3_)\n",
        "\n",
        "print(f'R2 score: {r2_score(y_test_3, y_pred_l_3)}')\n",
        "print(f'MAE: {mean_absolute_error(y_test_3, y_pred_l_3)}')\n",
        "print(f'MSE: {mean_squared_error(y_test_3, y_pred_l_3)}')"
      ],
      "metadata": {
        "colab": {
          "base_uri": "https://localhost:8080/"
        },
        "id": "gJNZqGEglMVc",
        "outputId": "b5a48ad8-e468-48de-802e-a7dca44ac3b6"
      },
      "execution_count": null,
      "outputs": [
        {
          "output_type": "stream",
          "name": "stdout",
          "text": [
            "R2 score: 0.9917272010092053\n",
            "MAE: 77.9325770361694\n",
            "MSE: 9395.751201225368\n"
          ]
        }
      ]
    },
    {
      "cell_type": "code",
      "source": [
        "model_l_3.coef_"
      ],
      "metadata": {
        "colab": {
          "base_uri": "https://localhost:8080/"
        },
        "id": "zvHK49FWlXET",
        "outputId": "ac1281d6-86ae-446e-c579-a4236e0dc1ab"
      },
      "execution_count": null,
      "outputs": [
        {
          "output_type": "execute_result",
          "data": {
            "text/plain": [
              "array([-0.00000000e+00, -1.27558752e+00,  2.55121028e+00,  5.69303487e-03,\n",
              "       -9.48703953e-04])"
            ]
          },
          "metadata": {},
          "execution_count": 459
        }
      ]
    },
    {
      "cell_type": "code",
      "source": [
        "plot_weights(model_l_3.coef_)"
      ],
      "metadata": {
        "colab": {
          "base_uri": "https://localhost:8080/",
          "height": 542
        },
        "id": "aJrQXXOIk6NW",
        "outputId": "0207aca8-19bd-489a-e89f-49f5235ebe7f"
      },
      "execution_count": null,
      "outputs": [
        {
          "output_type": "display_data",
          "data": {
            "text/html": [
              "<html>\n",
              "<head><meta charset=\"utf-8\" /></head>\n",
              "<body>\n",
              "    <div>            <script src=\"https://cdnjs.cloudflare.com/ajax/libs/mathjax/2.7.5/MathJax.js?config=TeX-AMS-MML_SVG\"></script><script type=\"text/javascript\">if (window.MathJax && window.MathJax.Hub && window.MathJax.Hub.Config) {window.MathJax.Hub.Config({SVG: {font: \"STIX-Web\"}});}</script>                <script type=\"text/javascript\">window.PlotlyConfig = {MathJaxConfig: 'local'};</script>\n",
              "        <script src=\"https://cdn.plot.ly/plotly-2.16.1.min.js\"></script>                <div id=\"67e81dac-8d53-4871-b16c-440662bc0265\" class=\"plotly-graph-div\" style=\"height:525px; width:100%;\"></div>            <script type=\"text/javascript\">                                    window.PLOTLYENV=window.PLOTLYENV || {};                                    if (document.getElementById(\"67e81dac-8d53-4871-b16c-440662bc0265\")) {                    Plotly.newPlot(                        \"67e81dac-8d53-4871-b16c-440662bc0265\",                        [{\"alignmentgroup\":\"True\",\"hovertemplate\":\"c=>=0<br>x=%{x}<br>y=%{y}<extra></extra>\",\"legendgroup\":\">=0\",\"marker\":{\"color\":\"blue\",\"pattern\":{\"shape\":\"\"}},\"name\":\">=0\",\"offsetgroup\":\">=0\",\"orientation\":\"v\",\"showlegend\":true,\"textposition\":\"auto\",\"x\":[\"w0\",\"w2\",\"w3\"],\"xaxis\":\"x\",\"y\":[-0.0,2.551210279611913,0.00569303487447008],\"yaxis\":\"y\",\"type\":\"bar\"},{\"alignmentgroup\":\"True\",\"hovertemplate\":\"c=<0<br>x=%{x}<br>y=%{y}<extra></extra>\",\"legendgroup\":\"<0\",\"marker\":{\"color\":\"red\",\"pattern\":{\"shape\":\"\"}},\"name\":\"<0\",\"offsetgroup\":\"<0\",\"orientation\":\"v\",\"showlegend\":true,\"textposition\":\"auto\",\"x\":[\"w1\",\"w4\"],\"xaxis\":\"x\",\"y\":[-1.2755875248740567,-0.0009487039527585467],\"yaxis\":\"y\",\"type\":\"bar\"}],                        {\"template\":{\"data\":{\"histogram2dcontour\":[{\"type\":\"histogram2dcontour\",\"colorbar\":{\"outlinewidth\":0,\"ticks\":\"\"},\"colorscale\":[[0.0,\"#0d0887\"],[0.1111111111111111,\"#46039f\"],[0.2222222222222222,\"#7201a8\"],[0.3333333333333333,\"#9c179e\"],[0.4444444444444444,\"#bd3786\"],[0.5555555555555556,\"#d8576b\"],[0.6666666666666666,\"#ed7953\"],[0.7777777777777778,\"#fb9f3a\"],[0.8888888888888888,\"#fdca26\"],[1.0,\"#f0f921\"]]}],\"choropleth\":[{\"type\":\"choropleth\",\"colorbar\":{\"outlinewidth\":0,\"ticks\":\"\"}}],\"histogram2d\":[{\"type\":\"histogram2d\",\"colorbar\":{\"outlinewidth\":0,\"ticks\":\"\"},\"colorscale\":[[0.0,\"#0d0887\"],[0.1111111111111111,\"#46039f\"],[0.2222222222222222,\"#7201a8\"],[0.3333333333333333,\"#9c179e\"],[0.4444444444444444,\"#bd3786\"],[0.5555555555555556,\"#d8576b\"],[0.6666666666666666,\"#ed7953\"],[0.7777777777777778,\"#fb9f3a\"],[0.8888888888888888,\"#fdca26\"],[1.0,\"#f0f921\"]]}],\"heatmap\":[{\"type\":\"heatmap\",\"colorbar\":{\"outlinewidth\":0,\"ticks\":\"\"},\"colorscale\":[[0.0,\"#0d0887\"],[0.1111111111111111,\"#46039f\"],[0.2222222222222222,\"#7201a8\"],[0.3333333333333333,\"#9c179e\"],[0.4444444444444444,\"#bd3786\"],[0.5555555555555556,\"#d8576b\"],[0.6666666666666666,\"#ed7953\"],[0.7777777777777778,\"#fb9f3a\"],[0.8888888888888888,\"#fdca26\"],[1.0,\"#f0f921\"]]}],\"heatmapgl\":[{\"type\":\"heatmapgl\",\"colorbar\":{\"outlinewidth\":0,\"ticks\":\"\"},\"colorscale\":[[0.0,\"#0d0887\"],[0.1111111111111111,\"#46039f\"],[0.2222222222222222,\"#7201a8\"],[0.3333333333333333,\"#9c179e\"],[0.4444444444444444,\"#bd3786\"],[0.5555555555555556,\"#d8576b\"],[0.6666666666666666,\"#ed7953\"],[0.7777777777777778,\"#fb9f3a\"],[0.8888888888888888,\"#fdca26\"],[1.0,\"#f0f921\"]]}],\"contourcarpet\":[{\"type\":\"contourcarpet\",\"colorbar\":{\"outlinewidth\":0,\"ticks\":\"\"}}],\"contour\":[{\"type\":\"contour\",\"colorbar\":{\"outlinewidth\":0,\"ticks\":\"\"},\"colorscale\":[[0.0,\"#0d0887\"],[0.1111111111111111,\"#46039f\"],[0.2222222222222222,\"#7201a8\"],[0.3333333333333333,\"#9c179e\"],[0.4444444444444444,\"#bd3786\"],[0.5555555555555556,\"#d8576b\"],[0.6666666666666666,\"#ed7953\"],[0.7777777777777778,\"#fb9f3a\"],[0.8888888888888888,\"#fdca26\"],[1.0,\"#f0f921\"]]}],\"surface\":[{\"type\":\"surface\",\"colorbar\":{\"outlinewidth\":0,\"ticks\":\"\"},\"colorscale\":[[0.0,\"#0d0887\"],[0.1111111111111111,\"#46039f\"],[0.2222222222222222,\"#7201a8\"],[0.3333333333333333,\"#9c179e\"],[0.4444444444444444,\"#bd3786\"],[0.5555555555555556,\"#d8576b\"],[0.6666666666666666,\"#ed7953\"],[0.7777777777777778,\"#fb9f3a\"],[0.8888888888888888,\"#fdca26\"],[1.0,\"#f0f921\"]]}],\"mesh3d\":[{\"type\":\"mesh3d\",\"colorbar\":{\"outlinewidth\":0,\"ticks\":\"\"}}],\"scatter\":[{\"fillpattern\":{\"fillmode\":\"overlay\",\"size\":10,\"solidity\":0.2},\"type\":\"scatter\"}],\"parcoords\":[{\"type\":\"parcoords\",\"line\":{\"colorbar\":{\"outlinewidth\":0,\"ticks\":\"\"}}}],\"scatterpolargl\":[{\"type\":\"scatterpolargl\",\"marker\":{\"colorbar\":{\"outlinewidth\":0,\"ticks\":\"\"}}}],\"bar\":[{\"error_x\":{\"color\":\"#2a3f5f\"},\"error_y\":{\"color\":\"#2a3f5f\"},\"marker\":{\"line\":{\"color\":\"#E5ECF6\",\"width\":0.5},\"pattern\":{\"fillmode\":\"overlay\",\"size\":10,\"solidity\":0.2}},\"type\":\"bar\"}],\"scattergeo\":[{\"type\":\"scattergeo\",\"marker\":{\"colorbar\":{\"outlinewidth\":0,\"ticks\":\"\"}}}],\"scatterpolar\":[{\"type\":\"scatterpolar\",\"marker\":{\"colorbar\":{\"outlinewidth\":0,\"ticks\":\"\"}}}],\"histogram\":[{\"marker\":{\"pattern\":{\"fillmode\":\"overlay\",\"size\":10,\"solidity\":0.2}},\"type\":\"histogram\"}],\"scattergl\":[{\"type\":\"scattergl\",\"marker\":{\"colorbar\":{\"outlinewidth\":0,\"ticks\":\"\"}}}],\"scatter3d\":[{\"type\":\"scatter3d\",\"line\":{\"colorbar\":{\"outlinewidth\":0,\"ticks\":\"\"}},\"marker\":{\"colorbar\":{\"outlinewidth\":0,\"ticks\":\"\"}}}],\"scattermapbox\":[{\"type\":\"scattermapbox\",\"marker\":{\"colorbar\":{\"outlinewidth\":0,\"ticks\":\"\"}}}],\"scatterternary\":[{\"type\":\"scatterternary\",\"marker\":{\"colorbar\":{\"outlinewidth\":0,\"ticks\":\"\"}}}],\"scattercarpet\":[{\"type\":\"scattercarpet\",\"marker\":{\"colorbar\":{\"outlinewidth\":0,\"ticks\":\"\"}}}],\"carpet\":[{\"aaxis\":{\"endlinecolor\":\"#2a3f5f\",\"gridcolor\":\"white\",\"linecolor\":\"white\",\"minorgridcolor\":\"white\",\"startlinecolor\":\"#2a3f5f\"},\"baxis\":{\"endlinecolor\":\"#2a3f5f\",\"gridcolor\":\"white\",\"linecolor\":\"white\",\"minorgridcolor\":\"white\",\"startlinecolor\":\"#2a3f5f\"},\"type\":\"carpet\"}],\"table\":[{\"cells\":{\"fill\":{\"color\":\"#EBF0F8\"},\"line\":{\"color\":\"white\"}},\"header\":{\"fill\":{\"color\":\"#C8D4E3\"},\"line\":{\"color\":\"white\"}},\"type\":\"table\"}],\"barpolar\":[{\"marker\":{\"line\":{\"color\":\"#E5ECF6\",\"width\":0.5},\"pattern\":{\"fillmode\":\"overlay\",\"size\":10,\"solidity\":0.2}},\"type\":\"barpolar\"}],\"pie\":[{\"automargin\":true,\"type\":\"pie\"}]},\"layout\":{\"autotypenumbers\":\"strict\",\"colorway\":[\"#636efa\",\"#EF553B\",\"#00cc96\",\"#ab63fa\",\"#FFA15A\",\"#19d3f3\",\"#FF6692\",\"#B6E880\",\"#FF97FF\",\"#FECB52\"],\"font\":{\"color\":\"#2a3f5f\"},\"hovermode\":\"closest\",\"hoverlabel\":{\"align\":\"left\"},\"paper_bgcolor\":\"white\",\"plot_bgcolor\":\"#E5ECF6\",\"polar\":{\"bgcolor\":\"#E5ECF6\",\"angularaxis\":{\"gridcolor\":\"white\",\"linecolor\":\"white\",\"ticks\":\"\"},\"radialaxis\":{\"gridcolor\":\"white\",\"linecolor\":\"white\",\"ticks\":\"\"}},\"ternary\":{\"bgcolor\":\"#E5ECF6\",\"aaxis\":{\"gridcolor\":\"white\",\"linecolor\":\"white\",\"ticks\":\"\"},\"baxis\":{\"gridcolor\":\"white\",\"linecolor\":\"white\",\"ticks\":\"\"},\"caxis\":{\"gridcolor\":\"white\",\"linecolor\":\"white\",\"ticks\":\"\"}},\"coloraxis\":{\"colorbar\":{\"outlinewidth\":0,\"ticks\":\"\"}},\"colorscale\":{\"sequential\":[[0.0,\"#0d0887\"],[0.1111111111111111,\"#46039f\"],[0.2222222222222222,\"#7201a8\"],[0.3333333333333333,\"#9c179e\"],[0.4444444444444444,\"#bd3786\"],[0.5555555555555556,\"#d8576b\"],[0.6666666666666666,\"#ed7953\"],[0.7777777777777778,\"#fb9f3a\"],[0.8888888888888888,\"#fdca26\"],[1.0,\"#f0f921\"]],\"sequentialminus\":[[0.0,\"#0d0887\"],[0.1111111111111111,\"#46039f\"],[0.2222222222222222,\"#7201a8\"],[0.3333333333333333,\"#9c179e\"],[0.4444444444444444,\"#bd3786\"],[0.5555555555555556,\"#d8576b\"],[0.6666666666666666,\"#ed7953\"],[0.7777777777777778,\"#fb9f3a\"],[0.8888888888888888,\"#fdca26\"],[1.0,\"#f0f921\"]],\"diverging\":[[0,\"#8e0152\"],[0.1,\"#c51b7d\"],[0.2,\"#de77ae\"],[0.3,\"#f1b6da\"],[0.4,\"#fde0ef\"],[0.5,\"#f7f7f7\"],[0.6,\"#e6f5d0\"],[0.7,\"#b8e186\"],[0.8,\"#7fbc41\"],[0.9,\"#4d9221\"],[1,\"#276419\"]]},\"xaxis\":{\"gridcolor\":\"white\",\"linecolor\":\"white\",\"ticks\":\"\",\"title\":{\"standoff\":15},\"zerolinecolor\":\"white\",\"automargin\":true,\"zerolinewidth\":2},\"yaxis\":{\"gridcolor\":\"white\",\"linecolor\":\"white\",\"ticks\":\"\",\"title\":{\"standoff\":15},\"zerolinecolor\":\"white\",\"automargin\":true,\"zerolinewidth\":2},\"scene\":{\"xaxis\":{\"backgroundcolor\":\"#E5ECF6\",\"gridcolor\":\"white\",\"linecolor\":\"white\",\"showbackground\":true,\"ticks\":\"\",\"zerolinecolor\":\"white\",\"gridwidth\":2},\"yaxis\":{\"backgroundcolor\":\"#E5ECF6\",\"gridcolor\":\"white\",\"linecolor\":\"white\",\"showbackground\":true,\"ticks\":\"\",\"zerolinecolor\":\"white\",\"gridwidth\":2},\"zaxis\":{\"backgroundcolor\":\"#E5ECF6\",\"gridcolor\":\"white\",\"linecolor\":\"white\",\"showbackground\":true,\"ticks\":\"\",\"zerolinecolor\":\"white\",\"gridwidth\":2}},\"shapedefaults\":{\"line\":{\"color\":\"#2a3f5f\"}},\"annotationdefaults\":{\"arrowcolor\":\"#2a3f5f\",\"arrowhead\":0,\"arrowwidth\":1},\"geo\":{\"bgcolor\":\"white\",\"landcolor\":\"#E5ECF6\",\"subunitcolor\":\"white\",\"showland\":true,\"showlakes\":true,\"lakecolor\":\"white\"},\"title\":{\"x\":0.05},\"mapbox\":{\"style\":\"light\"}}},\"xaxis\":{\"anchor\":\"y\",\"domain\":[0.0,1.0],\"title\":{\"text\":\"x\"},\"categoryorder\":\"array\",\"categoryarray\":[\"w0\",\"w1\",\"w2\",\"w3\",\"w4\"]},\"yaxis\":{\"anchor\":\"x\",\"domain\":[0.0,1.0],\"title\":{\"text\":\"y\"}},\"legend\":{\"title\":{\"text\":\"c\"},\"tracegroupgap\":0},\"margin\":{\"t\":60},\"barmode\":\"relative\"},                        {\"responsive\": true}                    ).then(function(){\n",
              "                            \n",
              "var gd = document.getElementById('67e81dac-8d53-4871-b16c-440662bc0265');\n",
              "var x = new MutationObserver(function (mutations, observer) {{\n",
              "        var display = window.getComputedStyle(gd).display;\n",
              "        if (!display || display === 'none') {{\n",
              "            console.log([gd, 'removed!']);\n",
              "            Plotly.purge(gd);\n",
              "            observer.disconnect();\n",
              "        }}\n",
              "}});\n",
              "\n",
              "// Listen for the removal of the full notebook cells\n",
              "var notebookContainer = gd.closest('#notebook-container');\n",
              "if (notebookContainer) {{\n",
              "    x.observe(notebookContainer, {childList: true});\n",
              "}}\n",
              "\n",
              "// Listen for the clearing of the current output cell\n",
              "var outputEl = gd.closest('.output');\n",
              "if (outputEl) {{\n",
              "    x.observe(outputEl, {childList: true});\n",
              "}}\n",
              "\n",
              "                        })                };                            </script>        </div>\n",
              "</body>\n",
              "</html>"
            ]
          },
          "metadata": {}
        }
      ]
    },
    {
      "cell_type": "markdown",
      "source": [
        "Что и ожидалось, первый вес улетел в ноль"
      ],
      "metadata": {
        "id": "ON6vHG9clY0x"
      }
    },
    {
      "cell_type": "markdown",
      "source": [
        "# 2.  Для набора данных Cars Moldova"
      ],
      "metadata": {
        "id": "_F11OxrPlPSZ"
      }
    },
    {
      "cell_type": "markdown",
      "source": [
        "Не очень логично делать задание конкретно по пунктам, разделение пунктов будет по датасетам, там же сможем и посмотреть производительность без категориальных признаков."
      ],
      "metadata": {
        "id": "YL0CvWx6uFmW"
      }
    },
    {
      "cell_type": "markdown",
      "source": [
        "## Загрузка всех датасетов с разной предобработкой данных"
      ],
      "metadata": {
        "id": "l5D0-PNflkv_"
      }
    },
    {
      "cell_type": "markdown",
      "source": [
        "Все данные у меня лежат тамже, где и анаконда, так что подгрузка просто по имени файла"
      ],
      "metadata": {
        "id": "2-JWvLOnqC9u"
      }
    },
    {
      "cell_type": "code",
      "source": [
        "df_st_norm = pd.read_csv('cars_moldova_norm_and_stand.csv').drop(columns=['Unnamed: 0'])\n",
        "df_st_norm"
      ],
      "metadata": {
        "colab": {
          "base_uri": "https://localhost:8080/",
          "height": 461
        },
        "id": "tcQzTeQpp9pv",
        "outputId": "4fc2c5b7-9666-40aa-8ef2-c6fc5d8656ca"
      },
      "execution_count": null,
      "outputs": [
        {
          "output_type": "execute_result",
          "data": {
            "text/plain": [
              "           Year  Distance  Engine_capacity(cm3)  Price(euro)  year_distance  \\\n",
              "0      0.419955  0.285702              0.360288       7700.0       0.481595   \n",
              "1      0.820193 -0.274774              0.300240       8500.0       0.384476   \n",
              "2     -1.314409 -1.535836              0.280224       2200.0      -1.538493   \n",
              "3      0.553368 -0.508306              0.300240       6500.0      -0.285004   \n",
              "4     -0.247108  0.332408              0.320256       4100.0      -0.114073   \n",
              "...         ...       ...                   ...          ...            ...   \n",
              "35964 -0.780758  0.565940              0.360288       4400.0      -0.256515   \n",
              "35965  0.953606 -0.704473              0.300240       7000.0      -0.089654   \n",
              "35966  0.153130 -1.533744              0.300240       4500.0      -1.536525   \n",
              "35967 -0.247108  1.920424              0.400320       4000.0       1.096688   \n",
              "35968 -0.247108  1.266535              0.300240       4000.0       0.598139   \n",
              "\n",
              "       Transmission_Automatic  Transmission_Manual  Model_1 Series  Model_100  \\\n",
              "0                           1                    0               0          0   \n",
              "1                           0                    1               0          0   \n",
              "2                           0                    1               0          0   \n",
              "3                           0                    1               0          0   \n",
              "4                           0                    1               0          0   \n",
              "...                       ...                  ...             ...        ...   \n",
              "35964                       0                    1               0          0   \n",
              "35965                       0                    1               0          0   \n",
              "35966                       0                    1               0          0   \n",
              "35967                       0                    1               0          0   \n",
              "35968                       0                    1               0          0   \n",
              "\n",
              "       Model_1007  ...  distance_type_average  distance_type_high  \\\n",
              "0               0  ...                      0                   1   \n",
              "1               0  ...                      1                   0   \n",
              "2               0  ...                      0                   0   \n",
              "3               0  ...                      1                   0   \n",
              "4               0  ...                      0                   1   \n",
              "...           ...  ...                    ...                 ...   \n",
              "35964           0  ...                      0                   1   \n",
              "35965           0  ...                      0                   0   \n",
              "35966           0  ...                      0                   0   \n",
              "35967           0  ...                      0                   0   \n",
              "35968           0  ...                      0                   0   \n",
              "\n",
              "       distance_type_optimal  distance_type_very_high  Make_rarity_common  \\\n",
              "0                          0                        0                   0   \n",
              "1                          0                        0                   0   \n",
              "2                          1                        0                   0   \n",
              "3                          0                        0                   0   \n",
              "4                          0                        0                   0   \n",
              "...                      ...                      ...                 ...   \n",
              "35964                      0                        0                   1   \n",
              "35965                      1                        0                   0   \n",
              "35966                      1                        0                   0   \n",
              "35967                      0                        1                   0   \n",
              "35968                      0                        1                   0   \n",
              "\n",
              "       Make_rarity_rare  Price_cat_average  Price_cat_cheap  \\\n",
              "0                     1                  0                1   \n",
              "1                     1                  0                1   \n",
              "2                     1                  1                0   \n",
              "3                     1                  0                1   \n",
              "4                     1                  1                0   \n",
              "...                 ...                ...              ...   \n",
              "35964                 0                  1                0   \n",
              "35965                 1                  0                1   \n",
              "35966                 1                  1                0   \n",
              "35967                 1                  1                0   \n",
              "35968                 1                  1                0   \n",
              "\n",
              "       Year_category_old  Year_category_regular  \n",
              "0                      0                      1  \n",
              "1                      0                      1  \n",
              "2                      1                      0  \n",
              "3                      0                      1  \n",
              "4                      1                      0  \n",
              "...                  ...                    ...  \n",
              "35964                  1                      0  \n",
              "35965                  0                      1  \n",
              "35966                  1                      0  \n",
              "35967                  1                      0  \n",
              "35968                  1                      0  \n",
              "\n",
              "[35969 rows x 918 columns]"
            ],
            "text/html": [
              "<div>\n",
              "<style scoped>\n",
              "    .dataframe tbody tr th:only-of-type {\n",
              "        vertical-align: middle;\n",
              "    }\n",
              "\n",
              "    .dataframe tbody tr th {\n",
              "        vertical-align: top;\n",
              "    }\n",
              "\n",
              "    .dataframe thead th {\n",
              "        text-align: right;\n",
              "    }\n",
              "</style>\n",
              "<table border=\"1\" class=\"dataframe\">\n",
              "  <thead>\n",
              "    <tr style=\"text-align: right;\">\n",
              "      <th></th>\n",
              "      <th>Year</th>\n",
              "      <th>Distance</th>\n",
              "      <th>Engine_capacity(cm3)</th>\n",
              "      <th>Price(euro)</th>\n",
              "      <th>year_distance</th>\n",
              "      <th>Transmission_Automatic</th>\n",
              "      <th>Transmission_Manual</th>\n",
              "      <th>Model_1 Series</th>\n",
              "      <th>Model_100</th>\n",
              "      <th>Model_1007</th>\n",
              "      <th>...</th>\n",
              "      <th>distance_type_average</th>\n",
              "      <th>distance_type_high</th>\n",
              "      <th>distance_type_optimal</th>\n",
              "      <th>distance_type_very_high</th>\n",
              "      <th>Make_rarity_common</th>\n",
              "      <th>Make_rarity_rare</th>\n",
              "      <th>Price_cat_average</th>\n",
              "      <th>Price_cat_cheap</th>\n",
              "      <th>Year_category_old</th>\n",
              "      <th>Year_category_regular</th>\n",
              "    </tr>\n",
              "  </thead>\n",
              "  <tbody>\n",
              "    <tr>\n",
              "      <th>0</th>\n",
              "      <td>0.419955</td>\n",
              "      <td>0.285702</td>\n",
              "      <td>0.360288</td>\n",
              "      <td>7700.0</td>\n",
              "      <td>0.481595</td>\n",
              "      <td>1</td>\n",
              "      <td>0</td>\n",
              "      <td>0</td>\n",
              "      <td>0</td>\n",
              "      <td>0</td>\n",
              "      <td>...</td>\n",
              "      <td>0</td>\n",
              "      <td>1</td>\n",
              "      <td>0</td>\n",
              "      <td>0</td>\n",
              "      <td>0</td>\n",
              "      <td>1</td>\n",
              "      <td>0</td>\n",
              "      <td>1</td>\n",
              "      <td>0</td>\n",
              "      <td>1</td>\n",
              "    </tr>\n",
              "    <tr>\n",
              "      <th>1</th>\n",
              "      <td>0.820193</td>\n",
              "      <td>-0.274774</td>\n",
              "      <td>0.300240</td>\n",
              "      <td>8500.0</td>\n",
              "      <td>0.384476</td>\n",
              "      <td>0</td>\n",
              "      <td>1</td>\n",
              "      <td>0</td>\n",
              "      <td>0</td>\n",
              "      <td>0</td>\n",
              "      <td>...</td>\n",
              "      <td>1</td>\n",
              "      <td>0</td>\n",
              "      <td>0</td>\n",
              "      <td>0</td>\n",
              "      <td>0</td>\n",
              "      <td>1</td>\n",
              "      <td>0</td>\n",
              "      <td>1</td>\n",
              "      <td>0</td>\n",
              "      <td>1</td>\n",
              "    </tr>\n",
              "    <tr>\n",
              "      <th>2</th>\n",
              "      <td>-1.314409</td>\n",
              "      <td>-1.535836</td>\n",
              "      <td>0.280224</td>\n",
              "      <td>2200.0</td>\n",
              "      <td>-1.538493</td>\n",
              "      <td>0</td>\n",
              "      <td>1</td>\n",
              "      <td>0</td>\n",
              "      <td>0</td>\n",
              "      <td>0</td>\n",
              "      <td>...</td>\n",
              "      <td>0</td>\n",
              "      <td>0</td>\n",
              "      <td>1</td>\n",
              "      <td>0</td>\n",
              "      <td>0</td>\n",
              "      <td>1</td>\n",
              "      <td>1</td>\n",
              "      <td>0</td>\n",
              "      <td>1</td>\n",
              "      <td>0</td>\n",
              "    </tr>\n",
              "    <tr>\n",
              "      <th>3</th>\n",
              "      <td>0.553368</td>\n",
              "      <td>-0.508306</td>\n",
              "      <td>0.300240</td>\n",
              "      <td>6500.0</td>\n",
              "      <td>-0.285004</td>\n",
              "      <td>0</td>\n",
              "      <td>1</td>\n",
              "      <td>0</td>\n",
              "      <td>0</td>\n",
              "      <td>0</td>\n",
              "      <td>...</td>\n",
              "      <td>1</td>\n",
              "      <td>0</td>\n",
              "      <td>0</td>\n",
              "      <td>0</td>\n",
              "      <td>0</td>\n",
              "      <td>1</td>\n",
              "      <td>0</td>\n",
              "      <td>1</td>\n",
              "      <td>0</td>\n",
              "      <td>1</td>\n",
              "    </tr>\n",
              "    <tr>\n",
              "      <th>4</th>\n",
              "      <td>-0.247108</td>\n",
              "      <td>0.332408</td>\n",
              "      <td>0.320256</td>\n",
              "      <td>4100.0</td>\n",
              "      <td>-0.114073</td>\n",
              "      <td>0</td>\n",
              "      <td>1</td>\n",
              "      <td>0</td>\n",
              "      <td>0</td>\n",
              "      <td>0</td>\n",
              "      <td>...</td>\n",
              "      <td>0</td>\n",
              "      <td>1</td>\n",
              "      <td>0</td>\n",
              "      <td>0</td>\n",
              "      <td>0</td>\n",
              "      <td>1</td>\n",
              "      <td>1</td>\n",
              "      <td>0</td>\n",
              "      <td>1</td>\n",
              "      <td>0</td>\n",
              "    </tr>\n",
              "    <tr>\n",
              "      <th>...</th>\n",
              "      <td>...</td>\n",
              "      <td>...</td>\n",
              "      <td>...</td>\n",
              "      <td>...</td>\n",
              "      <td>...</td>\n",
              "      <td>...</td>\n",
              "      <td>...</td>\n",
              "      <td>...</td>\n",
              "      <td>...</td>\n",
              "      <td>...</td>\n",
              "      <td>...</td>\n",
              "      <td>...</td>\n",
              "      <td>...</td>\n",
              "      <td>...</td>\n",
              "      <td>...</td>\n",
              "      <td>...</td>\n",
              "      <td>...</td>\n",
              "      <td>...</td>\n",
              "      <td>...</td>\n",
              "      <td>...</td>\n",
              "      <td>...</td>\n",
              "    </tr>\n",
              "    <tr>\n",
              "      <th>35964</th>\n",
              "      <td>-0.780758</td>\n",
              "      <td>0.565940</td>\n",
              "      <td>0.360288</td>\n",
              "      <td>4400.0</td>\n",
              "      <td>-0.256515</td>\n",
              "      <td>0</td>\n",
              "      <td>1</td>\n",
              "      <td>0</td>\n",
              "      <td>0</td>\n",
              "      <td>0</td>\n",
              "      <td>...</td>\n",
              "      <td>0</td>\n",
              "      <td>1</td>\n",
              "      <td>0</td>\n",
              "      <td>0</td>\n",
              "      <td>1</td>\n",
              "      <td>0</td>\n",
              "      <td>1</td>\n",
              "      <td>0</td>\n",
              "      <td>1</td>\n",
              "      <td>0</td>\n",
              "    </tr>\n",
              "    <tr>\n",
              "      <th>35965</th>\n",
              "      <td>0.953606</td>\n",
              "      <td>-0.704473</td>\n",
              "      <td>0.300240</td>\n",
              "      <td>7000.0</td>\n",
              "      <td>-0.089654</td>\n",
              "      <td>0</td>\n",
              "      <td>1</td>\n",
              "      <td>0</td>\n",
              "      <td>0</td>\n",
              "      <td>0</td>\n",
              "      <td>...</td>\n",
              "      <td>0</td>\n",
              "      <td>0</td>\n",
              "      <td>1</td>\n",
              "      <td>0</td>\n",
              "      <td>0</td>\n",
              "      <td>1</td>\n",
              "      <td>0</td>\n",
              "      <td>1</td>\n",
              "      <td>0</td>\n",
              "      <td>1</td>\n",
              "    </tr>\n",
              "    <tr>\n",
              "      <th>35966</th>\n",
              "      <td>0.153130</td>\n",
              "      <td>-1.533744</td>\n",
              "      <td>0.300240</td>\n",
              "      <td>4500.0</td>\n",
              "      <td>-1.536525</td>\n",
              "      <td>0</td>\n",
              "      <td>1</td>\n",
              "      <td>0</td>\n",
              "      <td>0</td>\n",
              "      <td>0</td>\n",
              "      <td>...</td>\n",
              "      <td>0</td>\n",
              "      <td>0</td>\n",
              "      <td>1</td>\n",
              "      <td>0</td>\n",
              "      <td>0</td>\n",
              "      <td>1</td>\n",
              "      <td>1</td>\n",
              "      <td>0</td>\n",
              "      <td>1</td>\n",
              "      <td>0</td>\n",
              "    </tr>\n",
              "    <tr>\n",
              "      <th>35967</th>\n",
              "      <td>-0.247108</td>\n",
              "      <td>1.920424</td>\n",
              "      <td>0.400320</td>\n",
              "      <td>4000.0</td>\n",
              "      <td>1.096688</td>\n",
              "      <td>0</td>\n",
              "      <td>1</td>\n",
              "      <td>0</td>\n",
              "      <td>0</td>\n",
              "      <td>0</td>\n",
              "      <td>...</td>\n",
              "      <td>0</td>\n",
              "      <td>0</td>\n",
              "      <td>0</td>\n",
              "      <td>1</td>\n",
              "      <td>0</td>\n",
              "      <td>1</td>\n",
              "      <td>1</td>\n",
              "      <td>0</td>\n",
              "      <td>1</td>\n",
              "      <td>0</td>\n",
              "    </tr>\n",
              "    <tr>\n",
              "      <th>35968</th>\n",
              "      <td>-0.247108</td>\n",
              "      <td>1.266535</td>\n",
              "      <td>0.300240</td>\n",
              "      <td>4000.0</td>\n",
              "      <td>0.598139</td>\n",
              "      <td>0</td>\n",
              "      <td>1</td>\n",
              "      <td>0</td>\n",
              "      <td>0</td>\n",
              "      <td>0</td>\n",
              "      <td>...</td>\n",
              "      <td>0</td>\n",
              "      <td>0</td>\n",
              "      <td>0</td>\n",
              "      <td>1</td>\n",
              "      <td>0</td>\n",
              "      <td>1</td>\n",
              "      <td>1</td>\n",
              "      <td>0</td>\n",
              "      <td>1</td>\n",
              "      <td>0</td>\n",
              "    </tr>\n",
              "  </tbody>\n",
              "</table>\n",
              "<p>35969 rows × 918 columns</p>\n",
              "</div>"
            ]
          },
          "metadata": {},
          "execution_count": 461
        }
      ]
    },
    {
      "cell_type": "code",
      "source": [
        "df_st = pd.read_csv('cars_moldova_stand.csv').drop(columns=['Unnamed: 0'])\n",
        "df_st"
      ],
      "metadata": {
        "colab": {
          "base_uri": "https://localhost:8080/",
          "height": 461
        },
        "id": "aX_0IhmNsByM",
        "outputId": "fd22d566-e0dc-485e-ca10-88a7dc225a7e"
      },
      "execution_count": null,
      "outputs": [
        {
          "output_type": "execute_result",
          "data": {
            "text/plain": [
              "           Year  Distance  Engine_capacity(cm3)  Price(euro)  year_distance  \\\n",
              "0      0.419955  0.285702             -0.046315       7700.0       0.481595   \n",
              "1      0.820193 -0.274774             -0.525630       8500.0       0.384476   \n",
              "2     -1.314409 -1.535836             -0.685401       2200.0      -1.538493   \n",
              "3      0.553368 -0.508306             -0.525630       6500.0      -0.285004   \n",
              "4     -0.247108  0.332408             -0.365858       4100.0      -0.114073   \n",
              "...         ...       ...                   ...          ...            ...   \n",
              "35964 -0.780758  0.565940             -0.046315       4400.0      -0.256515   \n",
              "35965  0.953606 -0.704473             -0.525630       7000.0      -0.089654   \n",
              "35966  0.153130 -1.533744             -0.525630       4500.0      -1.536525   \n",
              "35967 -0.247108  1.920424              0.273228       4000.0       1.096688   \n",
              "35968 -0.247108  1.266535             -0.525630       4000.0       0.598139   \n",
              "\n",
              "       Transmission_Automatic  Transmission_Manual  Model_1 Series  Model_100  \\\n",
              "0                           1                    0               0          0   \n",
              "1                           0                    1               0          0   \n",
              "2                           0                    1               0          0   \n",
              "3                           0                    1               0          0   \n",
              "4                           0                    1               0          0   \n",
              "...                       ...                  ...             ...        ...   \n",
              "35964                       0                    1               0          0   \n",
              "35965                       0                    1               0          0   \n",
              "35966                       0                    1               0          0   \n",
              "35967                       0                    1               0          0   \n",
              "35968                       0                    1               0          0   \n",
              "\n",
              "       Model_1007  ...  distance_type_average  distance_type_high  \\\n",
              "0               0  ...                      0                   1   \n",
              "1               0  ...                      1                   0   \n",
              "2               0  ...                      0                   0   \n",
              "3               0  ...                      1                   0   \n",
              "4               0  ...                      0                   1   \n",
              "...           ...  ...                    ...                 ...   \n",
              "35964           0  ...                      0                   1   \n",
              "35965           0  ...                      0                   0   \n",
              "35966           0  ...                      0                   0   \n",
              "35967           0  ...                      0                   0   \n",
              "35968           0  ...                      0                   0   \n",
              "\n",
              "       distance_type_optimal  distance_type_very_high  Make_rarity_common  \\\n",
              "0                          0                        0                   0   \n",
              "1                          0                        0                   0   \n",
              "2                          1                        0                   0   \n",
              "3                          0                        0                   0   \n",
              "4                          0                        0                   0   \n",
              "...                      ...                      ...                 ...   \n",
              "35964                      0                        0                   1   \n",
              "35965                      1                        0                   0   \n",
              "35966                      1                        0                   0   \n",
              "35967                      0                        1                   0   \n",
              "35968                      0                        1                   0   \n",
              "\n",
              "       Make_rarity_rare  Price_cat_average  Price_cat_cheap  \\\n",
              "0                     1                  0                1   \n",
              "1                     1                  0                1   \n",
              "2                     1                  1                0   \n",
              "3                     1                  0                1   \n",
              "4                     1                  1                0   \n",
              "...                 ...                ...              ...   \n",
              "35964                 0                  1                0   \n",
              "35965                 1                  0                1   \n",
              "35966                 1                  1                0   \n",
              "35967                 1                  1                0   \n",
              "35968                 1                  1                0   \n",
              "\n",
              "       Year_category_old  Year_category_regular  \n",
              "0                      0                      1  \n",
              "1                      0                      1  \n",
              "2                      1                      0  \n",
              "3                      0                      1  \n",
              "4                      1                      0  \n",
              "...                  ...                    ...  \n",
              "35964                  1                      0  \n",
              "35965                  0                      1  \n",
              "35966                  1                      0  \n",
              "35967                  1                      0  \n",
              "35968                  1                      0  \n",
              "\n",
              "[35969 rows x 918 columns]"
            ],
            "text/html": [
              "<div>\n",
              "<style scoped>\n",
              "    .dataframe tbody tr th:only-of-type {\n",
              "        vertical-align: middle;\n",
              "    }\n",
              "\n",
              "    .dataframe tbody tr th {\n",
              "        vertical-align: top;\n",
              "    }\n",
              "\n",
              "    .dataframe thead th {\n",
              "        text-align: right;\n",
              "    }\n",
              "</style>\n",
              "<table border=\"1\" class=\"dataframe\">\n",
              "  <thead>\n",
              "    <tr style=\"text-align: right;\">\n",
              "      <th></th>\n",
              "      <th>Year</th>\n",
              "      <th>Distance</th>\n",
              "      <th>Engine_capacity(cm3)</th>\n",
              "      <th>Price(euro)</th>\n",
              "      <th>year_distance</th>\n",
              "      <th>Transmission_Automatic</th>\n",
              "      <th>Transmission_Manual</th>\n",
              "      <th>Model_1 Series</th>\n",
              "      <th>Model_100</th>\n",
              "      <th>Model_1007</th>\n",
              "      <th>...</th>\n",
              "      <th>distance_type_average</th>\n",
              "      <th>distance_type_high</th>\n",
              "      <th>distance_type_optimal</th>\n",
              "      <th>distance_type_very_high</th>\n",
              "      <th>Make_rarity_common</th>\n",
              "      <th>Make_rarity_rare</th>\n",
              "      <th>Price_cat_average</th>\n",
              "      <th>Price_cat_cheap</th>\n",
              "      <th>Year_category_old</th>\n",
              "      <th>Year_category_regular</th>\n",
              "    </tr>\n",
              "  </thead>\n",
              "  <tbody>\n",
              "    <tr>\n",
              "      <th>0</th>\n",
              "      <td>0.419955</td>\n",
              "      <td>0.285702</td>\n",
              "      <td>-0.046315</td>\n",
              "      <td>7700.0</td>\n",
              "      <td>0.481595</td>\n",
              "      <td>1</td>\n",
              "      <td>0</td>\n",
              "      <td>0</td>\n",
              "      <td>0</td>\n",
              "      <td>0</td>\n",
              "      <td>...</td>\n",
              "      <td>0</td>\n",
              "      <td>1</td>\n",
              "      <td>0</td>\n",
              "      <td>0</td>\n",
              "      <td>0</td>\n",
              "      <td>1</td>\n",
              "      <td>0</td>\n",
              "      <td>1</td>\n",
              "      <td>0</td>\n",
              "      <td>1</td>\n",
              "    </tr>\n",
              "    <tr>\n",
              "      <th>1</th>\n",
              "      <td>0.820193</td>\n",
              "      <td>-0.274774</td>\n",
              "      <td>-0.525630</td>\n",
              "      <td>8500.0</td>\n",
              "      <td>0.384476</td>\n",
              "      <td>0</td>\n",
              "      <td>1</td>\n",
              "      <td>0</td>\n",
              "      <td>0</td>\n",
              "      <td>0</td>\n",
              "      <td>...</td>\n",
              "      <td>1</td>\n",
              "      <td>0</td>\n",
              "      <td>0</td>\n",
              "      <td>0</td>\n",
              "      <td>0</td>\n",
              "      <td>1</td>\n",
              "      <td>0</td>\n",
              "      <td>1</td>\n",
              "      <td>0</td>\n",
              "      <td>1</td>\n",
              "    </tr>\n",
              "    <tr>\n",
              "      <th>2</th>\n",
              "      <td>-1.314409</td>\n",
              "      <td>-1.535836</td>\n",
              "      <td>-0.685401</td>\n",
              "      <td>2200.0</td>\n",
              "      <td>-1.538493</td>\n",
              "      <td>0</td>\n",
              "      <td>1</td>\n",
              "      <td>0</td>\n",
              "      <td>0</td>\n",
              "      <td>0</td>\n",
              "      <td>...</td>\n",
              "      <td>0</td>\n",
              "      <td>0</td>\n",
              "      <td>1</td>\n",
              "      <td>0</td>\n",
              "      <td>0</td>\n",
              "      <td>1</td>\n",
              "      <td>1</td>\n",
              "      <td>0</td>\n",
              "      <td>1</td>\n",
              "      <td>0</td>\n",
              "    </tr>\n",
              "    <tr>\n",
              "      <th>3</th>\n",
              "      <td>0.553368</td>\n",
              "      <td>-0.508306</td>\n",
              "      <td>-0.525630</td>\n",
              "      <td>6500.0</td>\n",
              "      <td>-0.285004</td>\n",
              "      <td>0</td>\n",
              "      <td>1</td>\n",
              "      <td>0</td>\n",
              "      <td>0</td>\n",
              "      <td>0</td>\n",
              "      <td>...</td>\n",
              "      <td>1</td>\n",
              "      <td>0</td>\n",
              "      <td>0</td>\n",
              "      <td>0</td>\n",
              "      <td>0</td>\n",
              "      <td>1</td>\n",
              "      <td>0</td>\n",
              "      <td>1</td>\n",
              "      <td>0</td>\n",
              "      <td>1</td>\n",
              "    </tr>\n",
              "    <tr>\n",
              "      <th>4</th>\n",
              "      <td>-0.247108</td>\n",
              "      <td>0.332408</td>\n",
              "      <td>-0.365858</td>\n",
              "      <td>4100.0</td>\n",
              "      <td>-0.114073</td>\n",
              "      <td>0</td>\n",
              "      <td>1</td>\n",
              "      <td>0</td>\n",
              "      <td>0</td>\n",
              "      <td>0</td>\n",
              "      <td>...</td>\n",
              "      <td>0</td>\n",
              "      <td>1</td>\n",
              "      <td>0</td>\n",
              "      <td>0</td>\n",
              "      <td>0</td>\n",
              "      <td>1</td>\n",
              "      <td>1</td>\n",
              "      <td>0</td>\n",
              "      <td>1</td>\n",
              "      <td>0</td>\n",
              "    </tr>\n",
              "    <tr>\n",
              "      <th>...</th>\n",
              "      <td>...</td>\n",
              "      <td>...</td>\n",
              "      <td>...</td>\n",
              "      <td>...</td>\n",
              "      <td>...</td>\n",
              "      <td>...</td>\n",
              "      <td>...</td>\n",
              "      <td>...</td>\n",
              "      <td>...</td>\n",
              "      <td>...</td>\n",
              "      <td>...</td>\n",
              "      <td>...</td>\n",
              "      <td>...</td>\n",
              "      <td>...</td>\n",
              "      <td>...</td>\n",
              "      <td>...</td>\n",
              "      <td>...</td>\n",
              "      <td>...</td>\n",
              "      <td>...</td>\n",
              "      <td>...</td>\n",
              "      <td>...</td>\n",
              "    </tr>\n",
              "    <tr>\n",
              "      <th>35964</th>\n",
              "      <td>-0.780758</td>\n",
              "      <td>0.565940</td>\n",
              "      <td>-0.046315</td>\n",
              "      <td>4400.0</td>\n",
              "      <td>-0.256515</td>\n",
              "      <td>0</td>\n",
              "      <td>1</td>\n",
              "      <td>0</td>\n",
              "      <td>0</td>\n",
              "      <td>0</td>\n",
              "      <td>...</td>\n",
              "      <td>0</td>\n",
              "      <td>1</td>\n",
              "      <td>0</td>\n",
              "      <td>0</td>\n",
              "      <td>1</td>\n",
              "      <td>0</td>\n",
              "      <td>1</td>\n",
              "      <td>0</td>\n",
              "      <td>1</td>\n",
              "      <td>0</td>\n",
              "    </tr>\n",
              "    <tr>\n",
              "      <th>35965</th>\n",
              "      <td>0.953606</td>\n",
              "      <td>-0.704473</td>\n",
              "      <td>-0.525630</td>\n",
              "      <td>7000.0</td>\n",
              "      <td>-0.089654</td>\n",
              "      <td>0</td>\n",
              "      <td>1</td>\n",
              "      <td>0</td>\n",
              "      <td>0</td>\n",
              "      <td>0</td>\n",
              "      <td>...</td>\n",
              "      <td>0</td>\n",
              "      <td>0</td>\n",
              "      <td>1</td>\n",
              "      <td>0</td>\n",
              "      <td>0</td>\n",
              "      <td>1</td>\n",
              "      <td>0</td>\n",
              "      <td>1</td>\n",
              "      <td>0</td>\n",
              "      <td>1</td>\n",
              "    </tr>\n",
              "    <tr>\n",
              "      <th>35966</th>\n",
              "      <td>0.153130</td>\n",
              "      <td>-1.533744</td>\n",
              "      <td>-0.525630</td>\n",
              "      <td>4500.0</td>\n",
              "      <td>-1.536525</td>\n",
              "      <td>0</td>\n",
              "      <td>1</td>\n",
              "      <td>0</td>\n",
              "      <td>0</td>\n",
              "      <td>0</td>\n",
              "      <td>...</td>\n",
              "      <td>0</td>\n",
              "      <td>0</td>\n",
              "      <td>1</td>\n",
              "      <td>0</td>\n",
              "      <td>0</td>\n",
              "      <td>1</td>\n",
              "      <td>1</td>\n",
              "      <td>0</td>\n",
              "      <td>1</td>\n",
              "      <td>0</td>\n",
              "    </tr>\n",
              "    <tr>\n",
              "      <th>35967</th>\n",
              "      <td>-0.247108</td>\n",
              "      <td>1.920424</td>\n",
              "      <td>0.273228</td>\n",
              "      <td>4000.0</td>\n",
              "      <td>1.096688</td>\n",
              "      <td>0</td>\n",
              "      <td>1</td>\n",
              "      <td>0</td>\n",
              "      <td>0</td>\n",
              "      <td>0</td>\n",
              "      <td>...</td>\n",
              "      <td>0</td>\n",
              "      <td>0</td>\n",
              "      <td>0</td>\n",
              "      <td>1</td>\n",
              "      <td>0</td>\n",
              "      <td>1</td>\n",
              "      <td>1</td>\n",
              "      <td>0</td>\n",
              "      <td>1</td>\n",
              "      <td>0</td>\n",
              "    </tr>\n",
              "    <tr>\n",
              "      <th>35968</th>\n",
              "      <td>-0.247108</td>\n",
              "      <td>1.266535</td>\n",
              "      <td>-0.525630</td>\n",
              "      <td>4000.0</td>\n",
              "      <td>0.598139</td>\n",
              "      <td>0</td>\n",
              "      <td>1</td>\n",
              "      <td>0</td>\n",
              "      <td>0</td>\n",
              "      <td>0</td>\n",
              "      <td>...</td>\n",
              "      <td>0</td>\n",
              "      <td>0</td>\n",
              "      <td>0</td>\n",
              "      <td>1</td>\n",
              "      <td>0</td>\n",
              "      <td>1</td>\n",
              "      <td>1</td>\n",
              "      <td>0</td>\n",
              "      <td>1</td>\n",
              "      <td>0</td>\n",
              "    </tr>\n",
              "  </tbody>\n",
              "</table>\n",
              "<p>35969 rows × 918 columns</p>\n",
              "</div>"
            ]
          },
          "metadata": {},
          "execution_count": 462
        }
      ]
    },
    {
      "cell_type": "code",
      "source": [
        "df_norm = pd.read_csv('cars_moldova_norm.csv').drop(columns=['Unnamed: 0'])\n",
        "df_norm"
      ],
      "metadata": {
        "colab": {
          "base_uri": "https://localhost:8080/",
          "height": 461
        },
        "id": "CzeCyxx1szm6",
        "outputId": "c5db3022-767b-4152-bf81-f4191197e87b"
      },
      "execution_count": null,
      "outputs": [
        {
          "output_type": "execute_result",
          "data": {
            "text/plain": [
              "           Year  Distance  Engine_capacity(cm3)  Price(euro)  year_distance  \\\n",
              "0      0.836066  0.195000              0.360288       7700.0   6.331169e-02   \n",
              "1      0.885246  0.135000              0.300240       8500.0   6.026786e-02   \n",
              "2      0.622951  0.000001              0.280224       2200.0   1.488095e-07   \n",
              "3      0.852459  0.110000              0.300240       6500.0   3.928571e-02   \n",
              "4      0.754098  0.200000              0.320256       4100.0   4.464286e-02   \n",
              "...         ...       ...                   ...          ...            ...   \n",
              "35964  0.688525  0.225000              0.360288       4400.0   4.017857e-02   \n",
              "35965  0.901639  0.089000              0.300240       7000.0   4.540816e-02   \n",
              "35966  0.803279  0.000225              0.300240       4500.0   6.181319e-05   \n",
              "35967  0.754098  0.370000              0.400320       4000.0   8.258929e-02   \n",
              "35968  0.754098  0.300000              0.300240       4000.0   6.696429e-02   \n",
              "\n",
              "       Transmission_Automatic  Transmission_Manual  Model_1 Series  Model_100  \\\n",
              "0                           1                    0               0          0   \n",
              "1                           0                    1               0          0   \n",
              "2                           0                    1               0          0   \n",
              "3                           0                    1               0          0   \n",
              "4                           0                    1               0          0   \n",
              "...                       ...                  ...             ...        ...   \n",
              "35964                       0                    1               0          0   \n",
              "35965                       0                    1               0          0   \n",
              "35966                       0                    1               0          0   \n",
              "35967                       0                    1               0          0   \n",
              "35968                       0                    1               0          0   \n",
              "\n",
              "       Model_1007  ...  distance_type_average  distance_type_high  \\\n",
              "0               0  ...                      0                   1   \n",
              "1               0  ...                      1                   0   \n",
              "2               0  ...                      0                   0   \n",
              "3               0  ...                      1                   0   \n",
              "4               0  ...                      0                   1   \n",
              "...           ...  ...                    ...                 ...   \n",
              "35964           0  ...                      0                   1   \n",
              "35965           0  ...                      0                   0   \n",
              "35966           0  ...                      0                   0   \n",
              "35967           0  ...                      0                   0   \n",
              "35968           0  ...                      0                   0   \n",
              "\n",
              "       distance_type_optimal  distance_type_very_high  Make_rarity_common  \\\n",
              "0                          0                        0                   0   \n",
              "1                          0                        0                   0   \n",
              "2                          1                        0                   0   \n",
              "3                          0                        0                   0   \n",
              "4                          0                        0                   0   \n",
              "...                      ...                      ...                 ...   \n",
              "35964                      0                        0                   1   \n",
              "35965                      1                        0                   0   \n",
              "35966                      1                        0                   0   \n",
              "35967                      0                        1                   0   \n",
              "35968                      0                        1                   0   \n",
              "\n",
              "       Make_rarity_rare  Price_cat_average  Price_cat_cheap  \\\n",
              "0                     1                  0                1   \n",
              "1                     1                  0                1   \n",
              "2                     1                  1                0   \n",
              "3                     1                  0                1   \n",
              "4                     1                  1                0   \n",
              "...                 ...                ...              ...   \n",
              "35964                 0                  1                0   \n",
              "35965                 1                  0                1   \n",
              "35966                 1                  1                0   \n",
              "35967                 1                  1                0   \n",
              "35968                 1                  1                0   \n",
              "\n",
              "       Year_category_old  Year_category_regular  \n",
              "0                      0                      1  \n",
              "1                      0                      1  \n",
              "2                      1                      0  \n",
              "3                      0                      1  \n",
              "4                      1                      0  \n",
              "...                  ...                    ...  \n",
              "35964                  1                      0  \n",
              "35965                  0                      1  \n",
              "35966                  1                      0  \n",
              "35967                  1                      0  \n",
              "35968                  1                      0  \n",
              "\n",
              "[35969 rows x 918 columns]"
            ],
            "text/html": [
              "<div>\n",
              "<style scoped>\n",
              "    .dataframe tbody tr th:only-of-type {\n",
              "        vertical-align: middle;\n",
              "    }\n",
              "\n",
              "    .dataframe tbody tr th {\n",
              "        vertical-align: top;\n",
              "    }\n",
              "\n",
              "    .dataframe thead th {\n",
              "        text-align: right;\n",
              "    }\n",
              "</style>\n",
              "<table border=\"1\" class=\"dataframe\">\n",
              "  <thead>\n",
              "    <tr style=\"text-align: right;\">\n",
              "      <th></th>\n",
              "      <th>Year</th>\n",
              "      <th>Distance</th>\n",
              "      <th>Engine_capacity(cm3)</th>\n",
              "      <th>Price(euro)</th>\n",
              "      <th>year_distance</th>\n",
              "      <th>Transmission_Automatic</th>\n",
              "      <th>Transmission_Manual</th>\n",
              "      <th>Model_1 Series</th>\n",
              "      <th>Model_100</th>\n",
              "      <th>Model_1007</th>\n",
              "      <th>...</th>\n",
              "      <th>distance_type_average</th>\n",
              "      <th>distance_type_high</th>\n",
              "      <th>distance_type_optimal</th>\n",
              "      <th>distance_type_very_high</th>\n",
              "      <th>Make_rarity_common</th>\n",
              "      <th>Make_rarity_rare</th>\n",
              "      <th>Price_cat_average</th>\n",
              "      <th>Price_cat_cheap</th>\n",
              "      <th>Year_category_old</th>\n",
              "      <th>Year_category_regular</th>\n",
              "    </tr>\n",
              "  </thead>\n",
              "  <tbody>\n",
              "    <tr>\n",
              "      <th>0</th>\n",
              "      <td>0.836066</td>\n",
              "      <td>0.195000</td>\n",
              "      <td>0.360288</td>\n",
              "      <td>7700.0</td>\n",
              "      <td>6.331169e-02</td>\n",
              "      <td>1</td>\n",
              "      <td>0</td>\n",
              "      <td>0</td>\n",
              "      <td>0</td>\n",
              "      <td>0</td>\n",
              "      <td>...</td>\n",
              "      <td>0</td>\n",
              "      <td>1</td>\n",
              "      <td>0</td>\n",
              "      <td>0</td>\n",
              "      <td>0</td>\n",
              "      <td>1</td>\n",
              "      <td>0</td>\n",
              "      <td>1</td>\n",
              "      <td>0</td>\n",
              "      <td>1</td>\n",
              "    </tr>\n",
              "    <tr>\n",
              "      <th>1</th>\n",
              "      <td>0.885246</td>\n",
              "      <td>0.135000</td>\n",
              "      <td>0.300240</td>\n",
              "      <td>8500.0</td>\n",
              "      <td>6.026786e-02</td>\n",
              "      <td>0</td>\n",
              "      <td>1</td>\n",
              "      <td>0</td>\n",
              "      <td>0</td>\n",
              "      <td>0</td>\n",
              "      <td>...</td>\n",
              "      <td>1</td>\n",
              "      <td>0</td>\n",
              "      <td>0</td>\n",
              "      <td>0</td>\n",
              "      <td>0</td>\n",
              "      <td>1</td>\n",
              "      <td>0</td>\n",
              "      <td>1</td>\n",
              "      <td>0</td>\n",
              "      <td>1</td>\n",
              "    </tr>\n",
              "    <tr>\n",
              "      <th>2</th>\n",
              "      <td>0.622951</td>\n",
              "      <td>0.000001</td>\n",
              "      <td>0.280224</td>\n",
              "      <td>2200.0</td>\n",
              "      <td>1.488095e-07</td>\n",
              "      <td>0</td>\n",
              "      <td>1</td>\n",
              "      <td>0</td>\n",
              "      <td>0</td>\n",
              "      <td>0</td>\n",
              "      <td>...</td>\n",
              "      <td>0</td>\n",
              "      <td>0</td>\n",
              "      <td>1</td>\n",
              "      <td>0</td>\n",
              "      <td>0</td>\n",
              "      <td>1</td>\n",
              "      <td>1</td>\n",
              "      <td>0</td>\n",
              "      <td>1</td>\n",
              "      <td>0</td>\n",
              "    </tr>\n",
              "    <tr>\n",
              "      <th>3</th>\n",
              "      <td>0.852459</td>\n",
              "      <td>0.110000</td>\n",
              "      <td>0.300240</td>\n",
              "      <td>6500.0</td>\n",
              "      <td>3.928571e-02</td>\n",
              "      <td>0</td>\n",
              "      <td>1</td>\n",
              "      <td>0</td>\n",
              "      <td>0</td>\n",
              "      <td>0</td>\n",
              "      <td>...</td>\n",
              "      <td>1</td>\n",
              "      <td>0</td>\n",
              "      <td>0</td>\n",
              "      <td>0</td>\n",
              "      <td>0</td>\n",
              "      <td>1</td>\n",
              "      <td>0</td>\n",
              "      <td>1</td>\n",
              "      <td>0</td>\n",
              "      <td>1</td>\n",
              "    </tr>\n",
              "    <tr>\n",
              "      <th>4</th>\n",
              "      <td>0.754098</td>\n",
              "      <td>0.200000</td>\n",
              "      <td>0.320256</td>\n",
              "      <td>4100.0</td>\n",
              "      <td>4.464286e-02</td>\n",
              "      <td>0</td>\n",
              "      <td>1</td>\n",
              "      <td>0</td>\n",
              "      <td>0</td>\n",
              "      <td>0</td>\n",
              "      <td>...</td>\n",
              "      <td>0</td>\n",
              "      <td>1</td>\n",
              "      <td>0</td>\n",
              "      <td>0</td>\n",
              "      <td>0</td>\n",
              "      <td>1</td>\n",
              "      <td>1</td>\n",
              "      <td>0</td>\n",
              "      <td>1</td>\n",
              "      <td>0</td>\n",
              "    </tr>\n",
              "    <tr>\n",
              "      <th>...</th>\n",
              "      <td>...</td>\n",
              "      <td>...</td>\n",
              "      <td>...</td>\n",
              "      <td>...</td>\n",
              "      <td>...</td>\n",
              "      <td>...</td>\n",
              "      <td>...</td>\n",
              "      <td>...</td>\n",
              "      <td>...</td>\n",
              "      <td>...</td>\n",
              "      <td>...</td>\n",
              "      <td>...</td>\n",
              "      <td>...</td>\n",
              "      <td>...</td>\n",
              "      <td>...</td>\n",
              "      <td>...</td>\n",
              "      <td>...</td>\n",
              "      <td>...</td>\n",
              "      <td>...</td>\n",
              "      <td>...</td>\n",
              "      <td>...</td>\n",
              "    </tr>\n",
              "    <tr>\n",
              "      <th>35964</th>\n",
              "      <td>0.688525</td>\n",
              "      <td>0.225000</td>\n",
              "      <td>0.360288</td>\n",
              "      <td>4400.0</td>\n",
              "      <td>4.017857e-02</td>\n",
              "      <td>0</td>\n",
              "      <td>1</td>\n",
              "      <td>0</td>\n",
              "      <td>0</td>\n",
              "      <td>0</td>\n",
              "      <td>...</td>\n",
              "      <td>0</td>\n",
              "      <td>1</td>\n",
              "      <td>0</td>\n",
              "      <td>0</td>\n",
              "      <td>1</td>\n",
              "      <td>0</td>\n",
              "      <td>1</td>\n",
              "      <td>0</td>\n",
              "      <td>1</td>\n",
              "      <td>0</td>\n",
              "    </tr>\n",
              "    <tr>\n",
              "      <th>35965</th>\n",
              "      <td>0.901639</td>\n",
              "      <td>0.089000</td>\n",
              "      <td>0.300240</td>\n",
              "      <td>7000.0</td>\n",
              "      <td>4.540816e-02</td>\n",
              "      <td>0</td>\n",
              "      <td>1</td>\n",
              "      <td>0</td>\n",
              "      <td>0</td>\n",
              "      <td>0</td>\n",
              "      <td>...</td>\n",
              "      <td>0</td>\n",
              "      <td>0</td>\n",
              "      <td>1</td>\n",
              "      <td>0</td>\n",
              "      <td>0</td>\n",
              "      <td>1</td>\n",
              "      <td>0</td>\n",
              "      <td>1</td>\n",
              "      <td>0</td>\n",
              "      <td>1</td>\n",
              "    </tr>\n",
              "    <tr>\n",
              "      <th>35966</th>\n",
              "      <td>0.803279</td>\n",
              "      <td>0.000225</td>\n",
              "      <td>0.300240</td>\n",
              "      <td>4500.0</td>\n",
              "      <td>6.181319e-05</td>\n",
              "      <td>0</td>\n",
              "      <td>1</td>\n",
              "      <td>0</td>\n",
              "      <td>0</td>\n",
              "      <td>0</td>\n",
              "      <td>...</td>\n",
              "      <td>0</td>\n",
              "      <td>0</td>\n",
              "      <td>1</td>\n",
              "      <td>0</td>\n",
              "      <td>0</td>\n",
              "      <td>1</td>\n",
              "      <td>1</td>\n",
              "      <td>0</td>\n",
              "      <td>1</td>\n",
              "      <td>0</td>\n",
              "    </tr>\n",
              "    <tr>\n",
              "      <th>35967</th>\n",
              "      <td>0.754098</td>\n",
              "      <td>0.370000</td>\n",
              "      <td>0.400320</td>\n",
              "      <td>4000.0</td>\n",
              "      <td>8.258929e-02</td>\n",
              "      <td>0</td>\n",
              "      <td>1</td>\n",
              "      <td>0</td>\n",
              "      <td>0</td>\n",
              "      <td>0</td>\n",
              "      <td>...</td>\n",
              "      <td>0</td>\n",
              "      <td>0</td>\n",
              "      <td>0</td>\n",
              "      <td>1</td>\n",
              "      <td>0</td>\n",
              "      <td>1</td>\n",
              "      <td>1</td>\n",
              "      <td>0</td>\n",
              "      <td>1</td>\n",
              "      <td>0</td>\n",
              "    </tr>\n",
              "    <tr>\n",
              "      <th>35968</th>\n",
              "      <td>0.754098</td>\n",
              "      <td>0.300000</td>\n",
              "      <td>0.300240</td>\n",
              "      <td>4000.0</td>\n",
              "      <td>6.696429e-02</td>\n",
              "      <td>0</td>\n",
              "      <td>1</td>\n",
              "      <td>0</td>\n",
              "      <td>0</td>\n",
              "      <td>0</td>\n",
              "      <td>...</td>\n",
              "      <td>0</td>\n",
              "      <td>0</td>\n",
              "      <td>0</td>\n",
              "      <td>1</td>\n",
              "      <td>0</td>\n",
              "      <td>1</td>\n",
              "      <td>1</td>\n",
              "      <td>0</td>\n",
              "      <td>1</td>\n",
              "      <td>0</td>\n",
              "    </tr>\n",
              "  </tbody>\n",
              "</table>\n",
              "<p>35969 rows × 918 columns</p>\n",
              "</div>"
            ]
          },
          "metadata": {},
          "execution_count": 463
        }
      ]
    },
    {
      "cell_type": "markdown",
      "source": [
        "## Нормализированные данные"
      ],
      "metadata": {
        "id": "wJx_IY4YtCla"
      }
    },
    {
      "cell_type": "code",
      "source": [
        "X = df_norm.loc[:, df_norm.columns != 'Price(euro)']\n",
        "y = df_norm[['Price(euro)']]"
      ],
      "metadata": {
        "id": "jZ3JKWrrufjt"
      },
      "execution_count": null,
      "outputs": []
    },
    {
      "cell_type": "code",
      "source": [
        "X_train, X_test, y_train, y_test = train_test_split(X, y, test_size=0.2, stratify=y)"
      ],
      "metadata": {
        "id": "mwGGdy-fu0cR"
      },
      "execution_count": null,
      "outputs": []
    },
    {
      "cell_type": "markdown",
      "source": [
        "Получили такую ошибку: \n",
        "\n",
        "\n",
        "```\n",
        "The least populated class in y has only 1 member, which is too few. The minimum number of groups for any class cannot be less than 2.\n",
        "```\n",
        "\n"
      ],
      "metadata": {
        "id": "Q_odCu-AvE9s"
      }
    },
    {
      "cell_type": "code",
      "source": [
        "# df_norm['Price(euro)'].apply(lambda x: x//100*100).value_counts()[df_norm['Price(euro)'].apply(lambda x: x//100*100).value_counts() == 1]"
      ],
      "metadata": {
        "id": "gnRUziu_vKNT"
      },
      "execution_count": null,
      "outputs": []
    },
    {
      "cell_type": "markdown",
      "source": [
        "Данное количество данных можно удалять, чтобы регрессия работала. Но перенесём это в первое задание, чтобы здесь посреди применения модели этим не заниматься\n"
      ],
      "metadata": {
        "id": "GL4O2RlUv6cG"
      }
    },
    {
      "cell_type": "markdown",
      "source": [
        "### Lasso"
      ],
      "metadata": {
        "id": "xDYmaxaAz6Vk"
      }
    },
    {
      "cell_type": "code",
      "source": [
        "moldova_l = Lasso().fit(X_train, y_train)\n",
        "\n",
        "y_pred = moldova_l.predict(X_test)\n",
        "\n",
        "print(f'R2 score: {r2_score(y_test, y_pred)}')\n",
        "print(f'MAE: {mean_absolute_error(y_test, y_pred)}')\n",
        "print(f'RMSE: {mean_squared_error(y_test, y_pred, squared=False)}')\n",
        "print(f'MAPE: {mean_absolute_percentage_error(y_test, y_pred)}')"
      ],
      "metadata": {
        "colab": {
          "base_uri": "https://localhost:8080/"
        },
        "id": "qm600TjHtQKB",
        "outputId": "043cf940-6cd8-4501-a09e-b8de9c29a458"
      },
      "execution_count": null,
      "outputs": [
        {
          "output_type": "stream",
          "name": "stdout",
          "text": [
            "R2 score: 0.7375395040206502\n",
            "MAE: 2520.789955492361\n",
            "RMSE: 3904.8998459943277\n",
            "MAPE: 0.49264329244904415\n"
          ]
        }
      ]
    },
    {
      "cell_type": "markdown",
      "source": [
        "Модель приемлимо отработала, но хотелось бы лучше, средняя ошибка большая"
      ],
      "metadata": {
        "id": "xZYb276KzEQB"
      }
    },
    {
      "cell_type": "code",
      "source": [
        "moldova_l = Lasso(alpha=0.7).fit(X_train, y_train)\n",
        "\n",
        "y_pred = moldova_l.predict(X_test)\n",
        "\n",
        "print(f'R2 score: {r2_score(y_test, y_pred)}')\n",
        "print(f'MAE: {mean_absolute_error(y_test, y_pred)}')\n",
        "print(f'RMSE: {mean_squared_error(y_test, y_pred, squared=False)}')\n",
        "print(f'MAPE: {mean_absolute_percentage_error(y_test, y_pred)}')"
      ],
      "metadata": {
        "colab": {
          "base_uri": "https://localhost:8080/"
        },
        "id": "Tcqz5hnbzNsc",
        "outputId": "33cc9076-61a9-466c-9a9b-38bd0c8cd02c"
      },
      "execution_count": null,
      "outputs": [
        {
          "output_type": "stream",
          "name": "stdout",
          "text": [
            "R2 score: 0.741448600331285\n",
            "MAE: 2502.3942339511314\n",
            "RMSE: 3875.710891731895\n",
            "MAPE: 0.4953119425369495\n"
          ]
        }
      ]
    },
    {
      "cell_type": "code",
      "source": [
        "plot_weights(moldova_l.coef_, X.columns, show_cols=True)"
      ],
      "metadata": {
        "colab": {
          "base_uri": "https://localhost:8080/",
          "height": 542
        },
        "id": "fsUHsNdMzqY9",
        "outputId": "047807d6-07c1-4aa0-9e21-2b38c707e9cc"
      },
      "execution_count": null,
      "outputs": [
        {
          "output_type": "display_data",
          "data": {
            "text/html": [
              "<html>\n",
              "<head><meta charset=\"utf-8\" /></head>\n",
              "<body>\n",
              "    <div>            <script src=\"https://cdnjs.cloudflare.com/ajax/libs/mathjax/2.7.5/MathJax.js?config=TeX-AMS-MML_SVG\"></script><script type=\"text/javascript\">if (window.MathJax && window.MathJax.Hub && window.MathJax.Hub.Config) {window.MathJax.Hub.Config({SVG: {font: \"STIX-Web\"}});}</script>                <script type=\"text/javascript\">window.PlotlyConfig = {MathJaxConfig: 'local'};</script>\n",
              "        <script src=\"https://cdn.plot.ly/plotly-2.16.1.min.js\"></script>                <div id=\"1576c9d3-dcdf-4ee2-a0bc-f5f42ed29ea2\" class=\"plotly-graph-div\" style=\"height:525px; width:100%;\"></div>            <script type=\"text/javascript\">                                    window.PLOTLYENV=window.PLOTLYENV || {};                                    if (document.getElementById(\"1576c9d3-dcdf-4ee2-a0bc-f5f42ed29ea2\")) {                    Plotly.newPlot(                        \"1576c9d3-dcdf-4ee2-a0bc-f5f42ed29ea2\",                        [{\"alignmentgroup\":\"True\",\"hovertemplate\":\"c=>=0<br>x=%{x}<br>y=%{y}<extra></extra>\",\"legendgroup\":\">=0\",\"marker\":{\"color\":\"blue\",\"pattern\":{\"shape\":\"\"}},\"name\":\">=0\",\"offsetgroup\":\">=0\",\"orientation\":\"v\",\"showlegend\":true,\"textposition\":\"auto\",\"x\":[\"Year\",\"Engine_capacity(cm3)\",\"year_distance\",\"Transmission_Automatic\",\"Transmission_Manual\",\"Model_100\",\"Model_1007\",\"Model_106\",\"Model_107\",\"Model_108\",\"Model_1102 Tavria\",\"Model_121\",\"Model_145\",\"Model_147\",\"Model_156\",\"Model_159\",\"Model_166\",\"Model_19\",\"Model_190\",\"Model_200\",\"Model_200 Series\",\"Model_2008\",\"Model_205\",\"Model_206\",\"Model_207\",\"Model_21\",\"Model_2101\",\"Model_2102\",\"Model_2103\",\"Model_2104\",\"Model_2105\",\"Model_2106\",\"Model_2107\",\"Model_2108\",\"Model_2109\",\"Model_21099\",\"Model_2110\",\"Model_2111\",\"Model_2112\",\"Model_2113\",\"Model_2123 Chevrolet\",\"Model_2125\",\"Model_2129 Niva Long\",\"Model_2140\",\"Model_2141\",\"Model_2410\",\"Model_25\",\"Model_3 GT\",\"Model_3008\",\"Model_300c\",\"Model_300m\",\"Model_301\",\"Model_306\",\"Model_307\",\"Model_308\",\"Model_309\",\"Model_31029\",\"Model_3110\",\"Model_323\",\"Model_4 series\",\"Model_4-Runner\",\"Model_400 Series\",\"Model_4007\",\"Model_405\",\"Model_406\",\"Model_407\",\"Model_408\",\"Model_45\",\"Model_469\",\"Model_5\",\"Model_5 GT\",\"Model_5008\",\"Model_500L\",\"Model_500X\",\"Model_508\",\"Model_6\",\"Model_6 Series\",\"Model_600 Series\",\"Model_605\",\"Model_607\",\"Model_620\",\"Model_626\",\"Model_7 Series\",\"Model_700 Series\",\"Model_75\",\"Model_80\",\"Model_800 Series\",\"Model_806\",\"Model_807\",\"Model_9-3\",\"Model_9-5\",\"Model_90\",\"Model_900 Series\",\"Model_9000\",\"Model_911\",\"Model_924\",\"Model_929\",\"Model_968\",\"Model_969\",\"Model_A2\",\"Model_A6\",\"Model_A7\",\"Model_A8\",\"Model_AMG GT\",\"Model_ATS\",\"Model_Accord\",\"Model_Actyon\",\"Model_Adam\",\"Model_Aerostar\",\"Model_Agila\",\"Model_Albea\",\"Model_Alfasud\",\"Model_Alhambra\",\"Model_Almera\",\"Model_Almera Tino\",\"Model_Altea\",\"Model_Altea XL\",\"Model_Altele\",\"Model_Altima\",\"Model_Alto\",\"Model_Amarok\",\"Model_Ampera\",\"Model_Applouse\",\"Model_Arosa\",\"Model_Arteon\",\"Model_Ascona\",\"Model_Astra\",\"Model_Atos\",\"Model_Avalon\",\"Model_Avante\",\"Model_Avenger\",\"Model_Avensis\",\"Model_Avensis Verso\",\"Model_Ax\",\"Model_Azera\",\"Model_B-Max\",\"Model_B9 Tribeca\",\"Model_BRZ\",\"Model_BS3\",\"Model_BS6\",\"Model_BX\",\"Model_Baleno\",\"Model_Beetle\",\"Model_Berlingo\",\"Model_Bipper\",\"Model_Blazer\",\"Model_Bls\",\"Model_Bluebird\",\"Model_Bolt\",\"Model_Bora\",\"Model_Boxster\",\"Model_Brava\",\"Model_Bravo\",\"Model_Breez\",\"Model_C-Class Coupe\",\"Model_C-Crosser\",\"Model_C-HR\",\"Model_C1\",\"Model_C2\",\"Model_C3\",\"Model_C3 Picasso\",\"Model_C30\",\"Model_C4\",\"Model_C4 Cactus\",\"Model_C4 Picasso\",\"Model_C5\",\"Model_C70\",\"Model_C8\",\"Model_CK\",\"Model_CL Class\",\"Model_CLA\",\"Model_CLC Class\",\"Model_CLS Class\",\"Model_CR-V\",\"Model_CR-Z\",\"Model_CS35PLUS\",\"Model_CTS\",\"Model_CX\",\"Model_CX-3\",\"Model_CX-30\",\"Model_CX-5\",\"Model_CX-9\",\"Model_Caliber\",\"Model_Calibra\",\"Model_Camaro\",\"Model_Captiva\",\"Model_Caravan\",\"Model_Caravelle\",\"Model_Carens\",\"Model_Carina\",\"Model_Carisma\",\"Model_Carnival\",\"Model_Cayenne\",\"Model_Cayman\",\"Model_Celica\",\"Model_Challenger\",\"Model_Charger\",\"Model_Cherokee\",\"Model_Cherry\",\"Model_Chery Van\",\"Model_City K-ZE\",\"Model_Civic Hibrid\",\"Model_Clarity\",\"Model_Clarus\",\"Model_Clio Symbol\",\"Model_Clubman\",\"Model_Commander\",\"Model_Concerto\",\"Model_Cooper\",\"Model_Cordoba\",\"Model_Corolla\",\"Model_Corolla Verso\",\"Model_Corvette\",\"Model_Countryman\",\"Model_Coupe\",\"Model_Courier\",\"Model_Creta\",\"Model_Crosseastar\",\"Model_Crosstrek\",\"Model_Crown\",\"Model_Cuore\",\"Model_D20\",\"Model_D50\",\"Model_DS3\",\"Model_DS4\",\"Model_DS5\",\"Model_Dakota\",\"Model_Damas\",\"Model_Dedra\",\"Model_Defender\",\"Model_Delta\",\"Model_Discovery Sport\",\"Model_Doblo Cargo\",\"Model_Doblo Panorama\",\"Model_Dokker\",\"Model_Durango\",\"Model_E-Class Coupe\",\"Model_E-Pace\",\"Model_EU5\",\"Model_Eastar\",\"Model_Eclipse\",\"Model_Eclipse Cross\",\"Model_EcoSport\",\"Model_Edge\",\"Model_Encore\",\"Model_Envision\",\"Model_Envoy\",\"Model_Eos\",\"Model_Epica\",\"Model_Equinox\",\"Model_Equus\",\"Model_Es Series\",\"Model_Escort\",\"Model_Espace\",\"Model_Espero\",\"Model_Evanda\",\"Model_Exeo\",\"Model_Expedition\",\"Model_Expert\",\"Model_Explorer\",\"Model_Express\",\"Model_F-150\",\"Model_F-250\",\"Model_F-PACE\",\"Model_F-Type\",\"Model_F3\",\"Model_F6\",\"Model_FR-V\",\"Model_FSV\",\"Model_FX\",\"Model_Fabia RS\",\"Model_Favorit\",\"Model_Felicia\",\"Model_Fiesta 3D\",\"Model_Fiesta 5D\",\"Model_Fiorino\",\"Model_Focus Rs\",\"Model_Focus Wagon\",\"Model_Forester\",\"Model_Forfour\",\"Model_Fortuner\",\"Model_Fortwo\",\"Model_Fox\",\"Model_Freema\",\"Model_Frontera\",\"Model_Frontier\",\"Model_Fullback\",\"Model_G Class\",\"Model_G Series\",\"Model_G3\",\"Model_GL Class\",\"Model_GLA\",\"Model_GLC\",\"Model_GLC Coupe\",\"Model_GLE\",\"Model_GLE Coupe\",\"Model_GLS Klass\",\"Model_GT86\",\"Model_GW Peri\",\"Model_GX Series\",\"Model_Galant\",\"Model_Galaxy\",\"Model_Galloper\",\"Model_Genesis\",\"Model_Ghibli II\",\"Model_Giulia\",\"Model_Giulietta\",\"Model_Gol\",\"Model_Golf\",\"Model_Granada\",\"Model_Grand - Am\",\"Model_Grand Caravan\",\"Model_Grand Cherokee\",\"Model_Grand Espace\",\"Model_Grand Modus\",\"Model_Grand Vitara\",\"Model_Grand Voyager\",\"Model_Grande Punto\",\"Model_Grande Punto 5D\",\"Model_Grandeur\",\"Model_Grandis\",\"Model_Grandland X\",\"Model_Granta\",\"Model_Gt\",\"Model_H-1 Truck\",\"Model_H2\",\"Model_H200\",\"Model_H3\",\"Model_H6\",\"Model_H9\",\"Model_HHR\",\"Model_Hiace\",\"Model_Highlander\",\"Model_Hilux\",\"Model_Hover\",\"Model_Hunter\",\"Model_ILX\",\"Model_IONIQ\",\"Model_Ignis\",\"Model_Impala\",\"Model_Impreza\",\"Model_Inca\",\"Model_Intrepid\",\"Model_J7\",\"Model_JS4\",\"Model_Jimny\",\"Model_Joice\",\"Model_Jolion\",\"Model_Journey\",\"Model_Jumpy\",\"Model_Justy\",\"Model_Ka\",\"Model_Kadett\",\"Model_Kalos\",\"Model_Kangoo\",\"Model_Kappa\",\"Model_Karl\",\"Model_Karoq\",\"Model_Kicks\",\"Model_Kodiaq\",\"Model_Koleos\",\"Model_Kona\",\"Model_Korando\",\"Model_Kyron\",\"Model_L\",\"Model_L Series\",\"Model_LS Series\",\"Model_LX Series\",\"Model_Lacetti\",\"Model_Laguna\",\"Model_Lancer\",\"Model_Land Cruiser\",\"Model_Land Cruiser Prado\",\"Model_Lanos\",\"Model_Lantra\",\"Model_Largus\",\"Model_Legacy\",\"Model_Liana\",\"Model_Lodgy\",\"Model_Logan\",\"Model_Logan Mcv\",\"Model_Logan Van\",\"Model_Logo\",\"Model_Lumina\",\"Model_Lupo\",\"Model_Lybra\",\"Model_M Class\",\"Model_M Models\",\"Model_M Series\",\"Model_MDX\",\"Model_MKC\",\"Model_MKZ\",\"Model_MPV\",\"Model_MX-30\",\"Model_MX-5\",\"Model_MX-6\",\"Model_Macan\",\"Model_Magentis\",\"Model_Magnum\",\"Model_Malibu\",\"Model_Marea\",\"Model_Materia\",\"Model_Maverick\",\"Model_Maxima\",\"Model_MiTo\",\"Model_Micra\",\"Model_Mirage\",\"Model_Model 3\",\"Model_Model S\",\"Model_Modus\",\"Model_Mondeo\",\"Model_Monterey\",\"Model_Montero Sport\",\"Model_Multipla\",\"Model_Multivan\",\"Model_Murano\",\"Model_Musa\",\"Model_Musso\",\"Model_Mustang\",\"Model_NF Sonata\",\"Model_NV200\",\"Model_NV400\",\"Model_NX Series\",\"Model_Navara\",\"Model_Navigator\",\"Model_Nemo\",\"Model_Neon\",\"Model_New Beetle\",\"Model_Niro\",\"Model_Nitro\",\"Model_Niva\",\"Model_Nubira\",\"Model_Octavia\",\"Model_Octavia RS\",\"Model_Odyssey\",\"Model_Oka\",\"Model_Omega\",\"Model_One\",\"Model_Opirus\",\"Model_Orion\",\"Model_Outback\",\"Model_PT Cruiser\",\"Model_Pacifica\",\"Model_Pajero\",\"Model_Pajero Pinin\",\"Model_Pajero Sport\",\"Model_Palio\",\"Model_Panamera\",\"Model_Panda\",\"Model_Partner\",\"Model_Passat\",\"Model_Passo\",\"Model_Pathfinder\",\"Model_Patriot\",\"Model_Patrol\",\"Model_Phaeton\",\"Model_Phedra\",\"Model_Picnic\",\"Model_Pikap\",\"Model_Pixo\",\"Model_Poer\",\"Model_Pony\",\"Model_Prairie\",\"Model_Pregio\",\"Model_Prelude\",\"Model_Premacy\",\"Model_Previa\",\"Model_Pride\",\"Model_Primastar\",\"Model_Primera\",\"Model_Prisma\",\"Model_Prius Prime\",\"Model_Pro_Cee'd\",\"Model_Proace\",\"Model_Probe\",\"Model_Puma\",\"Model_Punto\",\"Model_Q Series\",\"Model_Q3\",\"Model_Q5\",\"Model_Q7\",\"Model_Q8\",\"Model_QX Series\",\"Model_QX30\",\"Model_QX50\",\"Model_QX60\",\"Model_QX70\",\"Model_Qq\",\"Model_Quattro\",\"Model_Qubo\",\"Model_Quest\",\"Model_R Class\",\"Model_R2\",\"Model_R4\",\"Model_RC Series\",\"Model_RDX\",\"Model_RX Series\",\"Model_RX-8\",\"Model_Ram\",\"Model_Range Rover\",\"Model_Range Rover Sport\",\"Model_Range Rover Velar\",\"Model_Ranger\",\"Model_Rav 4\",\"Model_Rekord\",\"Model_Renegade\",\"Model_Rexton\",\"Model_Rezzo\",\"Model_Rio X-Line\",\"Model_Ritmo\",\"Model_Roadster\",\"Model_Rodius\",\"Model_Rogue\",\"Model_Roomster\",\"Model_S Class\",\"Model_S Klass\",\"Model_S-Coupe\",\"Model_S-Cross\",\"Model_S-Max\",\"Model_S-Type\",\"Model_S3\",\"Model_S4\",\"Model_S40\",\"Model_S5\",\"Model_S60\",\"Model_S70\",\"Model_S8\",\"Model_S90\",\"Model_SC Series\",\"Model_SLK Class\",\"Model_SX4\",\"Model_Safrane\",\"Model_Samurai\",\"Model_Sandero\",\"Model_Santa FE\",\"Model_Santamo\",\"Model_Saratoga\",\"Model_Saxo\",\"Model_Scala\",\"Model_Scirocco\",\"Model_Scorpio\",\"Model_Scudo\",\"Model_Sebring\",\"Model_Seltos\",\"Model_Sentra\",\"Model_Sephia\",\"Model_Serena\",\"Model_Series (W123)\",\"Model_Series (W124)\",\"Model_Sharan\",\"Model_Shuma\",\"Model_Shuttle\",\"Model_Siber\",\"Model_Siecento\",\"Model_Sienna\",\"Model_Sierra\",\"Model_Sigma\",\"Model_Signum\",\"Model_Sintra\",\"Model_Sirion\",\"Model_Sl Class\",\"Model_Solara\",\"Model_Solaris\",\"Model_Sorento\",\"Model_Space Runner\",\"Model_Space Wagon\",\"Model_Spark\",\"Model_Spectra\",\"Model_Splash\",\"Model_Starlet\",\"Model_Stelvio\",\"Model_Stilo\",\"Model_Stinger\",\"Model_Stonic\",\"Model_Stratus\",\"Model_Stream\",\"Model_Streetwise\",\"Model_Sunny\",\"Model_Superb\",\"Model_Swift\",\"Model_T-Cross\",\"Model_T500\",\"Model_TSX\",\"Model_TT\",\"Model_Tacoma\",\"Model_Tacuma\",\"Model_Talisman\",\"Model_Taurus\",\"Model_Terios\",\"Model_Terracan\",\"Model_Terrain\",\"Model_Terrano\",\"Model_Thalia\",\"Model_Thema\",\"Model_Thesis\",\"Model_Tiggo\",\"Model_Tigra\",\"Model_Tiida\",\"Model_Tipo\",\"Model_Toledo\",\"Model_Touareg\",\"Model_Tourneo Connect\",\"Model_Town Car\",\"Model_Town&Country\",\"Model_Tracer\",\"Model_Trafic\",\"Model_Trailblaizer\",\"Model_Trajet\",\"Model_Transporter\",\"Model_Tribute\",\"Model_Trooper\",\"Model_Twingo\",\"Model_UX\",\"Model_V Class\",\"Model_V40\",\"Model_V90\",\"Model_Vanette\",\"Model_Vectra\",\"Model_Vel Satis\",\"Model_Veloster\",\"Model_Vento\",\"Model_Venza\",\"Model_Veracruz\",\"Model_Vesta\",\"Model_Vita\",\"Model_Vivaro\",\"Model_Voyager\",\"Model_WRX\",\"Model_WRX STI\",\"Model_Wagon R+\",\"Model_Wrangler\",\"Model_X Class\",\"Model_X-Trail\",\"Model_X2\",\"Model_X4\",\"Model_X5\",\"Model_X6\",\"Model_X7\",\"Model_XC40\",\"Model_XC60\",\"Model_XC70\",\"Model_XC90\",\"Model_XE\",\"Model_XJ\",\"Model_XV\",\"Model_Xedos\",\"Model_Xf\",\"Model_Xsara\",\"Model_Xsara Picasso\",\"Model_Xterra\",\"Model_YRV\",\"Model_Yaris Verso\",\"Model_Ypsilon\",\"Model_Z Series\",\"Model_ZOE\",\"Model_Zafira\",\"Model_altele\",\"Model_e-tron\",\"Model_i3\",\"Model_i8\",\"Model_iA\",\"Model_iM\",\"Model_iQ\",\"Model_ix20\",\"Model_up!\",\"Model_xA\",\"Make_ARO\",\"Make_Abarth\",\"Make_Acura\",\"Make_Alfa Romeo\",\"Make_Audi\",\"Make_BAIC\",\"Make_BMW\",\"Make_Buick\",\"Make_Cadillac\",\"Make_Changan\",\"Make_Chrysler\",\"Make_Datsun\",\"Make_Dodge\",\"Make_Faw\",\"Make_GAZ\",\"Make_GMC\",\"Make_Geely\",\"Make_Groz\",\"Make_Haima\",\"Make_Haval\",\"Make_Hummer\",\"Make_Hyundai\",\"Make_Infiniti\",\"Make_Isuzu\",\"Make_Jac\",\"Make_Jaguar\",\"Make_Jeep\",\"Make_KIA\",\"Make_Lada\",\"Make_Lancia\",\"Make_Land Rover\",\"Make_Lexus\",\"Make_Lincoln\",\"Make_LuAZ\",\"Make_Maserati\",\"Make_Mazda\",\"Make_Mercedes\",\"Make_Mercedes-Maybach\",\"Make_Mitsubishi\",\"Make_Moskvich / Izh\",\"Make_Pontiac\",\"Make_Porsche\",\"Make_Ravon\",\"Make_Rover\",\"Make_Saab\",\"Make_Saturn\",\"Make_Scion\",\"Make_Tata\",\"Make_Tesla\",\"Make_Toyota\",\"Make_UAZ\",\"Make_Vaz\",\"Make_Volkswagen\",\"Make_Volvo\",\"Make_Xpeng\",\"Make_Zaz\",\"Make_Zotye\",\"Style_Cabriolet\",\"Style_Coupe\",\"Style_Crossover\",\"Style_Pickup\",\"Style_SUV\",\"Style_Sedan\",\"Fuel_type_Electric\",\"Fuel_type_Hybrid\",\"Fuel_type_Plug-in Hybrid\",\"distance_type_average\",\"distance_type_optimal\",\"Make_rarity_common\",\"Make_rarity_rare\",\"Price_cat_cheap\",\"Year_category_regular\"],\"xaxis\":\"x\",\"y\":[20011.605280727435,1943.214155173384,13583.037876758803,708.57795801222,-0.0,686.97663830651,-0.0,0.0,-0.0,0.0,0.0,0.0,0.0,-0.0,0.0,-0.0,0.0,3468.8271077751747,0.0,-0.0,0.0,-0.0,0.0,0.0,-0.0,7783.355105205515,5577.385628421094,1479.8562126562724,4249.421932681257,0.0,3293.077116675676,4085.209886695203,0.0,1211.2778376500141,1472.5832390834762,606.9062804071855,-0.0,-0.0,-0.0,0.0,-0.0,11409.704228901555,-0.0,0.0,-0.0,3061.778798934312,0.0,-0.0,0.0,0.0,0.0,-0.0,0.0,0.0,-0.0,0.0,-0.0,-0.0,2209.234374166535,1669.3172035787734,0.0,486.57536787554585,-0.0,1974.783020460322,0.0,0.0,1747.3566710879502,-0.0,2352.0606523868764,-0.0,1292.563288358621,-0.0,-0.0,0.0,-0.0,-0.0,5894.456729440843,621.605881901285,0.0,-0.0,0.0,2195.6362082605733,1279.7463585972212,0.0,-0.0,-0.0,0.0,0.0,0.0,-0.0,0.0,0.0,0.0,12690.923691126362,-0.0,-0.0,0.0,0.0,2679.594078650019,-0.0,0.0,7930.968735313973,2351.9744232555468,-0.0,0.0,720.637249212541,-0.0,-0.0,0.0,-0.0,0.0,0.0,146.6370882943234,0.0,0.0,0.0,-0.0,5331.204460748849,-0.0,0.0,2682.9954107201484,-0.0,0.0,-0.0,0.0,5583.487194487881,-0.0,-0.0,1288.4569198839558,-0.0,0.0,0.0,186.42308585909637,0.0,0.0,-0.0,-0.0,0.0,-0.0,-0.0,0.0,0.0,-0.0,87.41889672509231,-0.0,0.0,-0.0,0.0,1896.7234961069194,0.0,-0.0,0.0,0.0,-0.0,2876.42201888832,-0.0,-0.0,-0.0,-0.0,-0.0,0.0,-0.0,-0.0,-0.0,-0.0,0.0,0.0,0.0,-0.0,-0.0,0.0,-0.0,1744.713772121788,611.1123221232449,-0.0,-0.0,2618.659660013774,0.0,-0.0,2389.4457158043765,0.0,-0.0,-0.0,0.0,4315.675470523501,-0.0,0.0,1511.661655860478,-0.0,1310.3713111558332,-0.0,5262.184034439526,-0.0,1633.1058970047927,0.0,0.0,0.0,0.0,0.0,0.0,-0.0,0.0,0.0,-0.0,-0.0,0.0,-0.0,0.0,0.0,-0.0,111.28881429084174,163.7807798302514,-0.0,-0.0,0.0,-0.0,-0.0,-0.0,-0.0,0.0,-0.0,0.0,-0.0,-0.0,-0.0,-0.0,-0.0,0.0,4720.6178510452655,1264.5527585059635,0.0,569.6031468751905,-0.0,0.0,-0.0,0.0,0.0,0.0,0.0,-0.0,0.0,-0.0,-0.0,0.0,-0.0,0.0,0.0,-0.0,594.5240376161903,0.0,0.0,-0.0,2240.606981051903,3547.7071698472837,-0.0,0.0,-0.0,0.0,23.231857340933647,3501.0006469119826,-0.0,6138.467819242196,0.0,8770.00076889676,0.0,-0.0,0.0,0.0,-0.0,477.73185839798646,-0.0,2631.5201446049214,0.0,-0.0,-0.0,-0.0,0.0,-0.0,-0.0,-0.0,0.0,-0.0,-0.0,-0.0,0.0,-0.0,149.54190580850624,5349.1420563492775,-0.0,0.0,6914.071152290694,0.0,9336.21791000106,18445.537797079465,14045.004704004541,16198.440878774061,15894.254975537786,0.0,-0.0,10145.155500482599,998.2016695832021,995.2421902311249,0.0,2104.248488978688,0.0,0.0,-0.0,0.0,53.91880294950892,0.0,1274.2355864703227,-0.0,-0.0,1462.100528333332,-0.0,0.0,0.0,-0.0,0.0,1148.7824751152655,0.0,-0.0,-0.0,0.0,0.0,0.0,0.0,0.0,0.0,0.0,0.0,0.0,6828.085553020452,3512.154583983923,-0.0,0.0,-0.0,0.0,0.0,0.0,495.9480142638252,0.0,0.0,-0.0,-0.0,0.0,-0.0,-0.0,-0.0,0.0,0.0,-0.0,4602.410249246666,0.0,0.0,0.0,-0.0,0.0,-0.0,10058.159820440833,1566.0794846965127,2750.5517913861136,-0.0,-0.0,0.0,-0.0,-0.0,2540.4342041003383,1773.3951333135533,633.8657499681818,0.0,11376.678562266714,6209.482068218911,0.0,0.0,0.0,27.066268790161207,0.0,-0.0,857.9640242848313,1126.4787899793598,-0.0,0.0,0.0,-0.0,-0.0,588.3105342439644,12881.332313056815,-0.0,-0.0,0.0,0.0,0.0,0.0,-0.0,0.0,7065.547293766743,-0.0,0.0,-0.0,0.0,-0.0,0.0,332.89435831060314,-0.0,-0.0,-0.0,5616.639183395486,0.0,0.0,-0.0,0.0,0.0,0.0,6234.768719725233,0.0,0.0,0.0,4963.359508094203,-0.0,-0.0,0.0,5682.370125242663,-0.0,0.0,-0.0,-0.0,-0.0,-0.0,-0.0,0.0,0.0,-0.0,496.2385930027211,-0.0,-0.0,1820.1741501288684,0.0,-0.0,1484.3189988787897,0.0,0.0,-0.0,283.27260119952155,-0.0,259.5452603540062,0.0,3374.4864601880067,-0.0,-0.0,110.16932573615316,-0.0,-0.0,-0.0,1894.356548762219,-0.0,0.0,0.0,-0.0,-0.0,0.0,0.0,0.0,-0.0,0.0,0.0,33.25761948662592,-0.0,0.0,965.606074242058,0.0,-0.0,-0.0,-0.0,0.0,0.0,0.0,-0.0,-0.0,1504.812011156833,9773.021733261601,6094.033727961297,0.0,-0.0,-0.0,2370.176965761345,0.0,-0.0,-0.0,-0.0,0.0,-0.0,-0.0,-0.0,0.0,0.0,2222.625722678346,0.0,981.7684538699846,0.0,0.0,0.0,0.0,158.20670746461272,9061.796224208378,0.0,0.0,0.0,-0.0,0.0,0.0,0.0,-0.0,-0.0,2193.5164264408945,-0.0,0.0,-0.0,-0.0,-0.0,0.0,0.0,-0.0,0.0,0.0,0.0,-0.0,13216.106179513075,0.0,0.0,-0.0,0.0,0.0,302.29362224341287,1848.9929277723384,-0.0,0.0,-0.0,0.0,-0.0,1147.1169764663998,0.0,-0.0,0.0,0.0,-0.0,0.0,0.0,-0.0,266.5912065682576,-0.0,-0.0,-0.0,0.0,0.0,2558.9004822446554,0.0,0.0,0.0,0.0,-0.0,-0.0,-0.0,304.18572970078304,0.0,2718.554903001029,-0.0,-0.0,-0.0,0.0,3086.132482105411,0.0,2488.5449227071636,-0.0,0.0,0.0,-0.0,1433.4167126034022,2972.4536584432167,0.0,-0.0,-0.0,0.0,-0.0,0.0,164.18044375868138,838.5559246252559,0.0,-0.0,0.0,0.0,0.0,0.0,0.0,-0.0,-0.0,0.0,-0.0,-0.0,0.0,1023.9482123159205,-0.0,0.0,0.0,0.0,0.0,0.0,0.0,1320.1539806384094,-0.0,0.0,508.0954974115879,0.0,5662.408365514087,-0.0,6045.857511735963,-0.0,1976.9815704481503,0.0,0.0,1510.2972266998192,-0.0,-0.0,-0.0,-0.0,0.0,0.0,0.0,0.0,0.0,17929.838859896216,0.0,0.0,-0.0,8455.81554464225,2335.617400746381,8815.563761884512,0.0,633.2717956205947,2762.242757166976,0.0,3670.967085599976,0.0,6800.655515735762,-0.0,0.0,-0.0,0.0,0.0,0.0,0.0,-0.0,-0.0,0.0,-0.0,675.2623580561632,-0.0,0.0,-0.0,0.0,-0.0,0.0,-0.0,-0.0,-0.0,0.0,-0.0,0.0,-0.0,114.58158023398025,2821.775630816526,0.0,3732.935842813779,0.0,1416.3498232718891,-0.0,0.0,-0.0,228.49202236195393,-0.0,1971.880835546811,0.0,-0.0,-0.0,-0.0,0.0,7029.5038254767105,78.58101135749014,1847.4229805795185,-0.0,-0.0,3900.8904662568534,-0.0,695.6998084184211,311.5901091260836,0.0,6202.10988318764,3871.1009805260387,177.36251233030512,0.0,16704.977925282663,-0.0,3712.4231429812558,-0.0,-0.0,4607.373601130256,0.0,12142.802519462903,-0.0,-0.0,145.9284587225093,0.0,-0.0,0.0,16811.76308035268,288.0241719948547,0.0,671.3724271027814,183.0453519958804,908.2004515267156,0.0,2239.85704565668,-0.0,28.82907964673264,456.21804305280205,2056.045504199271,3995.5435585137247,1689.01538081976,83.32193171974052,141.58468350084422,961.223385430622,3063.7009455665207,0.423394822746414,1428.4723071440756,-0.0,0.0,0.0,0.0],\"yaxis\":\"y\",\"type\":\"bar\"},{\"alignmentgroup\":\"True\",\"hovertemplate\":\"c=<0<br>x=%{x}<br>y=%{y}<extra></extra>\",\"legendgroup\":\"<0\",\"marker\":{\"color\":\"red\",\"pattern\":{\"shape\":\"\"}},\"name\":\"<0\",\"offsetgroup\":\"<0\",\"orientation\":\"v\",\"showlegend\":true,\"textposition\":\"auto\",\"x\":[\"Distance\",\"Model_1 Series\",\"Model_2\",\"Model_2 Series\",\"Model_208\",\"Model_2114\",\"Model_2115\",\"Model_2121niva\",\"Model_3\",\"Model_3 Series\",\"Model_5 Series\",\"Model_500\",\"Model_A Class\",\"Model_A1\",\"Model_A3\",\"Model_A3 e-tron\",\"Model_A4\",\"Model_A5\",\"Model_ASX\",\"Model_Accent\",\"Model_Allroad\",\"Model_Alt model\",\"Model_Antara\",\"Model_Auris\",\"Model_Aveo\",\"Model_Aygo\",\"Model_B Class\",\"Model_C Class\",\"Model_C-Elysee\",\"Model_C-Max\",\"Model_CLK Class\",\"Model_CT Series\",\"Model_CX-7\",\"Model_Caddy\",\"Model_Camry\",\"Model_Captur\",\"Model_Ceed\",\"Model_Ceed Sw\",\"Model_Cerato\",\"Model_Citan\",\"Model_Citigo\",\"Model_Civic\",\"Model_Clio\",\"Model_Clio4\",\"Model_Colt\",\"Model_Combo\",\"Model_Compass\",\"Model_Cooper S\",\"Model_Corsa\",\"Model_Cruze\",\"Model_Discovery\",\"Model_Doblo\",\"Model_Dokker VAN\",\"Model_Duster\",\"Model_E Class\",\"Model_Elantra\",\"Model_Escape\",\"Model_Fabia\",\"Model_Fiesta\",\"Model_Fluence\",\"Model_Focus\",\"Model_Freelander\",\"Model_Fusion\",\"Model_GLK Class\",\"Model_GS Series\",\"Model_Getz\",\"Model_Golf Plus\",\"Model_Grand Scenic\",\"Model_HR-V\",\"Model_IS Series\",\"Model_Ibiza\",\"Model_Insight\",\"Model_Insignia\",\"Model_Jazz\",\"Model_Jetta\",\"Model_Juke\",\"Model_Kadjar\",\"Model_Kalina\",\"Model_Kuga\",\"Model_Leaf\",\"Model_Leon\",\"Model_Matiz\",\"Model_Matrix\",\"Model_Megane\",\"Model_Meriva\",\"Model_Mokka\",\"Model_Nexia\",\"Model_Note\",\"Model_Optima\",\"Model_Orlando\",\"Model_Outlander\",\"Model_Passat CC\",\"Model_Picanto\",\"Model_Polo\",\"Model_Priora\",\"Model_Prius\",\"Model_Prius +\",\"Model_Prius c\",\"Model_Prius v\",\"Model_Pulsar\",\"Model_Qashqai\",\"Model_Qashqai+2\",\"Model_Range Rover Evoque\",\"Model_Rapid\",\"Model_Rio\",\"Model_S80\",\"Model_Sandero Stepway\",\"Model_Scenic\",\"Model_Sonata\",\"Model_Soul\",\"Model_Space Star\",\"Model_Sportage\",\"Model_Tiguan\",\"Model_Touran\",\"Model_Transit Connect\",\"Model_Trax\",\"Model_Trezia\",\"Model_Tucson\",\"Model_Urban Cruiser\",\"Model_V50\",\"Model_V60\",\"Model_V70\",\"Model_Vaneo\",\"Model_Venga\",\"Model_Verso\",\"Model_Verso-S\",\"Model_Viano\",\"Model_Vitara\",\"Model_Vito\",\"Model_Volt\",\"Model_X-Type\",\"Model_X1\",\"Model_X3\",\"Model_Yaris\",\"Model_Yeti\",\"Model_i10\",\"Model_i20\",\"Model_i30\",\"Model_i40\",\"Model_ix35\",\"Model_on-DO\",\"Make_Alta marca\",\"Make_Brilliance\",\"Make_Byd\",\"Make_Chery\",\"Make_Chevrolet\",\"Make_Citroen\",\"Make_Dacia\",\"Make_Daewoo\",\"Make_Daihatsu\",\"Make_Fiat\",\"Make_Ford\",\"Make_Great Wall\",\"Make_Honda\",\"Make_Lifan\",\"Make_Mini\",\"Make_Nissan\",\"Make_Opel\",\"Make_Peugeot\",\"Make_Renault\",\"Make_Seat\",\"Make_Skoda\",\"Make_Smart\",\"Make_Ssangyong\",\"Make_Subaru\",\"Make_Suzuki\",\"Style_Combi\",\"Style_Hatchback\",\"Style_Microvan\",\"Style_Minivan\",\"Style_Roadster\",\"Style_Universal\",\"Fuel_type_Diesel\",\"Fuel_type_Metan/Propan\",\"Fuel_type_Petrol\",\"distance_type_high\",\"distance_type_very_high\",\"Price_cat_average\",\"Year_category_old\"],\"xaxis\":\"x\",\"y\":[-1210.9458917419079,-3737.709314917908,-774.4917377171148,-2988.6761053147725,-2234.0445187114165,-1940.8658962319005,-2847.809560123262,-1589.7325369611158,-869.0679975769659,-2492.525451244953,-546.6435359066298,-2630.844593639462,-3346.2188946800907,-1275.7753910521546,-2754.2923630779815,-1219.696665911999,-2055.3200466549233,-326.3047220792226,-3253.2122755856426,-864.2829517731727,-507.8323640511578,-1551.9823382631832,-256.63682886209455,-2656.4626161876918,-1069.9742451447044,-1827.5153930526037,-2767.098131584966,-1741.4181857984904,-148.80029171438125,-2235.658773070088,-2444.7125212316373,-5676.471364372837,-1307.2716726175872,-1278.048864727641,-10.356262879019003,-2221.189268881304,-2618.5692034381746,-1148.2611730740687,-1298.9621669580495,-6022.986724995521,-153.8382345080255,-67.74600119916899,-335.39554852587634,-762.910603772944,-664.8749405311245,-262.20945099155614,-26.728901930233246,-174.778568720946,-373.26220188482904,-1940.6826909801289,-274.373165533831,-188.96078891814372,-289.4987790483746,-1500.4680889059293,-942.9022649344099,-1783.6050757644998,-1676.7748129943848,-757.6752083714761,-1026.2531727380926,-761.779742305533,-1942.5190647263803,-6526.302698991799,-1749.1421944932008,-246.4947351576062,-1310.795700954765,-852.1011413555399,-195.06038550326846,-285.8958048190698,-640.116662996189,-941.1756641399178,-1579.1976454157827,-2164.4212296051364,-1067.9596470394251,-1333.1540402591058,-2561.3784650827047,-3525.880273445645,-861.0588744044818,-1682.4301888596199,-1019.5079184906996,-2692.431950694744,-49.64700327225295,-918.5620270137384,-184.18988850129512,-196.2824083493335,-450.3366311290607,-665.0421170796718,-689.2313840186188,-961.1241758835929,-1121.6223510027885,-312.91669993791197,-2315.2260915220527,-1866.0767959605776,-3086.801433482412,-1403.8480175691873,-1575.1748154875572,-3438.1822496056116,-2701.829090755954,-2136.172687346751,-3129.1258398524096,-15.595189994509933,-2224.7672214801382,-2876.202562378307,-1483.8412896224788,-3157.859872834875,-1778.43231228829,-108.7068017270974,-743.4102704541857,-194.70949996960593,-1078.154905078422,-792.4229610171684,-365.1297149627846,-1733.7953925765862,-1235.195208483258,-1009.7528760007273,-1331.5992656027615,-2592.1202187011186,-1549.1554293556915,-347.58790939033184,-2429.574813703003,-108.93083021470139,-1300.4549242380504,-1441.6858162989015,-1273.836668674488,-642.6841384617318,-923.2897060887991,-2730.161491235849,-574.0166102696638,-813.5685605845313,-2680.2726805991897,-3205.7205894042972,-526.9567909608998,-1947.9914067048558,-1134.2305888890016,-2339.921601603335,-3228.4498782969513,-1378.561764854152,-2654.268170412792,-1880.1674236615195,-737.9718104306328,-1793.1663447934318,-233.12407236429684,-35.67364299344736,-1628.40155050912,-3373.0621279373504,-2139.2470372933712,-2016.426425907974,-1612.26579019325,-3457.6475635480156,-1670.0452143302653,-1301.139161325018,-941.260740570555,-627.2207489290173,-2147.317849335106,-104.21186016554881,-2488.037509662337,-179.98403116341052,-357.75578564514484,-604.9641873595679,-931.6160057594002,-1937.390965978439,-177.37223872872136,-1072.8160955153855,-1277.0136009846765,-895.7336337056262,-509.9209064340257,-1420.3764330226506,-459.85892894251606,-232.01328441684282,-218.31460912057156,-137.25412422670982,-523.1246367027377,-541.6098787669105,-20.109795403243233,-529.9080175652423,-148.45938461448353,-529.1432526965747,-423.9937354370049,-3380.186862248775,-2010.002606090595],\"yaxis\":\"y\",\"type\":\"bar\"}],                        {\"template\":{\"data\":{\"histogram2dcontour\":[{\"type\":\"histogram2dcontour\",\"colorbar\":{\"outlinewidth\":0,\"ticks\":\"\"},\"colorscale\":[[0.0,\"#0d0887\"],[0.1111111111111111,\"#46039f\"],[0.2222222222222222,\"#7201a8\"],[0.3333333333333333,\"#9c179e\"],[0.4444444444444444,\"#bd3786\"],[0.5555555555555556,\"#d8576b\"],[0.6666666666666666,\"#ed7953\"],[0.7777777777777778,\"#fb9f3a\"],[0.8888888888888888,\"#fdca26\"],[1.0,\"#f0f921\"]]}],\"choropleth\":[{\"type\":\"choropleth\",\"colorbar\":{\"outlinewidth\":0,\"ticks\":\"\"}}],\"histogram2d\":[{\"type\":\"histogram2d\",\"colorbar\":{\"outlinewidth\":0,\"ticks\":\"\"},\"colorscale\":[[0.0,\"#0d0887\"],[0.1111111111111111,\"#46039f\"],[0.2222222222222222,\"#7201a8\"],[0.3333333333333333,\"#9c179e\"],[0.4444444444444444,\"#bd3786\"],[0.5555555555555556,\"#d8576b\"],[0.6666666666666666,\"#ed7953\"],[0.7777777777777778,\"#fb9f3a\"],[0.8888888888888888,\"#fdca26\"],[1.0,\"#f0f921\"]]}],\"heatmap\":[{\"type\":\"heatmap\",\"colorbar\":{\"outlinewidth\":0,\"ticks\":\"\"},\"colorscale\":[[0.0,\"#0d0887\"],[0.1111111111111111,\"#46039f\"],[0.2222222222222222,\"#7201a8\"],[0.3333333333333333,\"#9c179e\"],[0.4444444444444444,\"#bd3786\"],[0.5555555555555556,\"#d8576b\"],[0.6666666666666666,\"#ed7953\"],[0.7777777777777778,\"#fb9f3a\"],[0.8888888888888888,\"#fdca26\"],[1.0,\"#f0f921\"]]}],\"heatmapgl\":[{\"type\":\"heatmapgl\",\"colorbar\":{\"outlinewidth\":0,\"ticks\":\"\"},\"colorscale\":[[0.0,\"#0d0887\"],[0.1111111111111111,\"#46039f\"],[0.2222222222222222,\"#7201a8\"],[0.3333333333333333,\"#9c179e\"],[0.4444444444444444,\"#bd3786\"],[0.5555555555555556,\"#d8576b\"],[0.6666666666666666,\"#ed7953\"],[0.7777777777777778,\"#fb9f3a\"],[0.8888888888888888,\"#fdca26\"],[1.0,\"#f0f921\"]]}],\"contourcarpet\":[{\"type\":\"contourcarpet\",\"colorbar\":{\"outlinewidth\":0,\"ticks\":\"\"}}],\"contour\":[{\"type\":\"contour\",\"colorbar\":{\"outlinewidth\":0,\"ticks\":\"\"},\"colorscale\":[[0.0,\"#0d0887\"],[0.1111111111111111,\"#46039f\"],[0.2222222222222222,\"#7201a8\"],[0.3333333333333333,\"#9c179e\"],[0.4444444444444444,\"#bd3786\"],[0.5555555555555556,\"#d8576b\"],[0.6666666666666666,\"#ed7953\"],[0.7777777777777778,\"#fb9f3a\"],[0.8888888888888888,\"#fdca26\"],[1.0,\"#f0f921\"]]}],\"surface\":[{\"type\":\"surface\",\"colorbar\":{\"outlinewidth\":0,\"ticks\":\"\"},\"colorscale\":[[0.0,\"#0d0887\"],[0.1111111111111111,\"#46039f\"],[0.2222222222222222,\"#7201a8\"],[0.3333333333333333,\"#9c179e\"],[0.4444444444444444,\"#bd3786\"],[0.5555555555555556,\"#d8576b\"],[0.6666666666666666,\"#ed7953\"],[0.7777777777777778,\"#fb9f3a\"],[0.8888888888888888,\"#fdca26\"],[1.0,\"#f0f921\"]]}],\"mesh3d\":[{\"type\":\"mesh3d\",\"colorbar\":{\"outlinewidth\":0,\"ticks\":\"\"}}],\"scatter\":[{\"fillpattern\":{\"fillmode\":\"overlay\",\"size\":10,\"solidity\":0.2},\"type\":\"scatter\"}],\"parcoords\":[{\"type\":\"parcoords\",\"line\":{\"colorbar\":{\"outlinewidth\":0,\"ticks\":\"\"}}}],\"scatterpolargl\":[{\"type\":\"scatterpolargl\",\"marker\":{\"colorbar\":{\"outlinewidth\":0,\"ticks\":\"\"}}}],\"bar\":[{\"error_x\":{\"color\":\"#2a3f5f\"},\"error_y\":{\"color\":\"#2a3f5f\"},\"marker\":{\"line\":{\"color\":\"#E5ECF6\",\"width\":0.5},\"pattern\":{\"fillmode\":\"overlay\",\"size\":10,\"solidity\":0.2}},\"type\":\"bar\"}],\"scattergeo\":[{\"type\":\"scattergeo\",\"marker\":{\"colorbar\":{\"outlinewidth\":0,\"ticks\":\"\"}}}],\"scatterpolar\":[{\"type\":\"scatterpolar\",\"marker\":{\"colorbar\":{\"outlinewidth\":0,\"ticks\":\"\"}}}],\"histogram\":[{\"marker\":{\"pattern\":{\"fillmode\":\"overlay\",\"size\":10,\"solidity\":0.2}},\"type\":\"histogram\"}],\"scattergl\":[{\"type\":\"scattergl\",\"marker\":{\"colorbar\":{\"outlinewidth\":0,\"ticks\":\"\"}}}],\"scatter3d\":[{\"type\":\"scatter3d\",\"line\":{\"colorbar\":{\"outlinewidth\":0,\"ticks\":\"\"}},\"marker\":{\"colorbar\":{\"outlinewidth\":0,\"ticks\":\"\"}}}],\"scattermapbox\":[{\"type\":\"scattermapbox\",\"marker\":{\"colorbar\":{\"outlinewidth\":0,\"ticks\":\"\"}}}],\"scatterternary\":[{\"type\":\"scatterternary\",\"marker\":{\"colorbar\":{\"outlinewidth\":0,\"ticks\":\"\"}}}],\"scattercarpet\":[{\"type\":\"scattercarpet\",\"marker\":{\"colorbar\":{\"outlinewidth\":0,\"ticks\":\"\"}}}],\"carpet\":[{\"aaxis\":{\"endlinecolor\":\"#2a3f5f\",\"gridcolor\":\"white\",\"linecolor\":\"white\",\"minorgridcolor\":\"white\",\"startlinecolor\":\"#2a3f5f\"},\"baxis\":{\"endlinecolor\":\"#2a3f5f\",\"gridcolor\":\"white\",\"linecolor\":\"white\",\"minorgridcolor\":\"white\",\"startlinecolor\":\"#2a3f5f\"},\"type\":\"carpet\"}],\"table\":[{\"cells\":{\"fill\":{\"color\":\"#EBF0F8\"},\"line\":{\"color\":\"white\"}},\"header\":{\"fill\":{\"color\":\"#C8D4E3\"},\"line\":{\"color\":\"white\"}},\"type\":\"table\"}],\"barpolar\":[{\"marker\":{\"line\":{\"color\":\"#E5ECF6\",\"width\":0.5},\"pattern\":{\"fillmode\":\"overlay\",\"size\":10,\"solidity\":0.2}},\"type\":\"barpolar\"}],\"pie\":[{\"automargin\":true,\"type\":\"pie\"}]},\"layout\":{\"autotypenumbers\":\"strict\",\"colorway\":[\"#636efa\",\"#EF553B\",\"#00cc96\",\"#ab63fa\",\"#FFA15A\",\"#19d3f3\",\"#FF6692\",\"#B6E880\",\"#FF97FF\",\"#FECB52\"],\"font\":{\"color\":\"#2a3f5f\"},\"hovermode\":\"closest\",\"hoverlabel\":{\"align\":\"left\"},\"paper_bgcolor\":\"white\",\"plot_bgcolor\":\"#E5ECF6\",\"polar\":{\"bgcolor\":\"#E5ECF6\",\"angularaxis\":{\"gridcolor\":\"white\",\"linecolor\":\"white\",\"ticks\":\"\"},\"radialaxis\":{\"gridcolor\":\"white\",\"linecolor\":\"white\",\"ticks\":\"\"}},\"ternary\":{\"bgcolor\":\"#E5ECF6\",\"aaxis\":{\"gridcolor\":\"white\",\"linecolor\":\"white\",\"ticks\":\"\"},\"baxis\":{\"gridcolor\":\"white\",\"linecolor\":\"white\",\"ticks\":\"\"},\"caxis\":{\"gridcolor\":\"white\",\"linecolor\":\"white\",\"ticks\":\"\"}},\"coloraxis\":{\"colorbar\":{\"outlinewidth\":0,\"ticks\":\"\"}},\"colorscale\":{\"sequential\":[[0.0,\"#0d0887\"],[0.1111111111111111,\"#46039f\"],[0.2222222222222222,\"#7201a8\"],[0.3333333333333333,\"#9c179e\"],[0.4444444444444444,\"#bd3786\"],[0.5555555555555556,\"#d8576b\"],[0.6666666666666666,\"#ed7953\"],[0.7777777777777778,\"#fb9f3a\"],[0.8888888888888888,\"#fdca26\"],[1.0,\"#f0f921\"]],\"sequentialminus\":[[0.0,\"#0d0887\"],[0.1111111111111111,\"#46039f\"],[0.2222222222222222,\"#7201a8\"],[0.3333333333333333,\"#9c179e\"],[0.4444444444444444,\"#bd3786\"],[0.5555555555555556,\"#d8576b\"],[0.6666666666666666,\"#ed7953\"],[0.7777777777777778,\"#fb9f3a\"],[0.8888888888888888,\"#fdca26\"],[1.0,\"#f0f921\"]],\"diverging\":[[0,\"#8e0152\"],[0.1,\"#c51b7d\"],[0.2,\"#de77ae\"],[0.3,\"#f1b6da\"],[0.4,\"#fde0ef\"],[0.5,\"#f7f7f7\"],[0.6,\"#e6f5d0\"],[0.7,\"#b8e186\"],[0.8,\"#7fbc41\"],[0.9,\"#4d9221\"],[1,\"#276419\"]]},\"xaxis\":{\"gridcolor\":\"white\",\"linecolor\":\"white\",\"ticks\":\"\",\"title\":{\"standoff\":15},\"zerolinecolor\":\"white\",\"automargin\":true,\"zerolinewidth\":2},\"yaxis\":{\"gridcolor\":\"white\",\"linecolor\":\"white\",\"ticks\":\"\",\"title\":{\"standoff\":15},\"zerolinecolor\":\"white\",\"automargin\":true,\"zerolinewidth\":2},\"scene\":{\"xaxis\":{\"backgroundcolor\":\"#E5ECF6\",\"gridcolor\":\"white\",\"linecolor\":\"white\",\"showbackground\":true,\"ticks\":\"\",\"zerolinecolor\":\"white\",\"gridwidth\":2},\"yaxis\":{\"backgroundcolor\":\"#E5ECF6\",\"gridcolor\":\"white\",\"linecolor\":\"white\",\"showbackground\":true,\"ticks\":\"\",\"zerolinecolor\":\"white\",\"gridwidth\":2},\"zaxis\":{\"backgroundcolor\":\"#E5ECF6\",\"gridcolor\":\"white\",\"linecolor\":\"white\",\"showbackground\":true,\"ticks\":\"\",\"zerolinecolor\":\"white\",\"gridwidth\":2}},\"shapedefaults\":{\"line\":{\"color\":\"#2a3f5f\"}},\"annotationdefaults\":{\"arrowcolor\":\"#2a3f5f\",\"arrowhead\":0,\"arrowwidth\":1},\"geo\":{\"bgcolor\":\"white\",\"landcolor\":\"#E5ECF6\",\"subunitcolor\":\"white\",\"showland\":true,\"showlakes\":true,\"lakecolor\":\"white\"},\"title\":{\"x\":0.05},\"mapbox\":{\"style\":\"light\"}}},\"xaxis\":{\"anchor\":\"y\",\"domain\":[0.0,1.0],\"title\":{\"text\":\"x\"},\"categoryorder\":\"array\",\"categoryarray\":[\"Year\",\"Distance\",\"Engine_capacity(cm3)\",\"year_distance\",\"Transmission_Automatic\",\"Transmission_Manual\",\"Model_1 Series\",\"Model_100\",\"Model_1007\",\"Model_106\",\"Model_107\",\"Model_108\",\"Model_1102 Tavria\",\"Model_121\",\"Model_145\",\"Model_147\",\"Model_156\",\"Model_159\",\"Model_166\",\"Model_19\",\"Model_190\",\"Model_2\",\"Model_2 Series\",\"Model_200\",\"Model_200 Series\",\"Model_2008\",\"Model_205\",\"Model_206\",\"Model_207\",\"Model_208\",\"Model_21\",\"Model_2101\",\"Model_2102\",\"Model_2103\",\"Model_2104\",\"Model_2105\",\"Model_2106\",\"Model_2107\",\"Model_2108\",\"Model_2109\",\"Model_21099\",\"Model_2110\",\"Model_2111\",\"Model_2112\",\"Model_2113\",\"Model_2114\",\"Model_2115\",\"Model_2121niva\",\"Model_2123 Chevrolet\",\"Model_2125\",\"Model_2129 Niva Long\",\"Model_2140\",\"Model_2141\",\"Model_2410\",\"Model_25\",\"Model_3\",\"Model_3 GT\",\"Model_3 Series\",\"Model_3008\",\"Model_300c\",\"Model_300m\",\"Model_301\",\"Model_306\",\"Model_307\",\"Model_308\",\"Model_309\",\"Model_31029\",\"Model_3110\",\"Model_323\",\"Model_4 series\",\"Model_4-Runner\",\"Model_400 Series\",\"Model_4007\",\"Model_405\",\"Model_406\",\"Model_407\",\"Model_408\",\"Model_45\",\"Model_469\",\"Model_5\",\"Model_5 GT\",\"Model_5 Series\",\"Model_500\",\"Model_5008\",\"Model_500L\",\"Model_500X\",\"Model_508\",\"Model_6\",\"Model_6 Series\",\"Model_600 Series\",\"Model_605\",\"Model_607\",\"Model_620\",\"Model_626\",\"Model_7 Series\",\"Model_700 Series\",\"Model_75\",\"Model_80\",\"Model_800 Series\",\"Model_806\",\"Model_807\",\"Model_9-3\",\"Model_9-5\",\"Model_90\",\"Model_900 Series\",\"Model_9000\",\"Model_911\",\"Model_924\",\"Model_929\",\"Model_968\",\"Model_969\",\"Model_A Class\",\"Model_A1\",\"Model_A2\",\"Model_A3\",\"Model_A3 e-tron\",\"Model_A4\",\"Model_A5\",\"Model_A6\",\"Model_A7\",\"Model_A8\",\"Model_AMG GT\",\"Model_ASX\",\"Model_ATS\",\"Model_Accent\",\"Model_Accord\",\"Model_Actyon\",\"Model_Adam\",\"Model_Aerostar\",\"Model_Agila\",\"Model_Albea\",\"Model_Alfasud\",\"Model_Alhambra\",\"Model_Allroad\",\"Model_Almera\",\"Model_Almera Tino\",\"Model_Alt model\",\"Model_Altea\",\"Model_Altea XL\",\"Model_Altele\",\"Model_Altima\",\"Model_Alto\",\"Model_Amarok\",\"Model_Ampera\",\"Model_Antara\",\"Model_Applouse\",\"Model_Arosa\",\"Model_Arteon\",\"Model_Ascona\",\"Model_Astra\",\"Model_Atos\",\"Model_Auris\",\"Model_Avalon\",\"Model_Avante\",\"Model_Avenger\",\"Model_Avensis\",\"Model_Avensis Verso\",\"Model_Aveo\",\"Model_Ax\",\"Model_Aygo\",\"Model_Azera\",\"Model_B Class\",\"Model_B-Max\",\"Model_B9 Tribeca\",\"Model_BRZ\",\"Model_BS3\",\"Model_BS6\",\"Model_BX\",\"Model_Baleno\",\"Model_Beetle\",\"Model_Berlingo\",\"Model_Bipper\",\"Model_Blazer\",\"Model_Bls\",\"Model_Bluebird\",\"Model_Bolt\",\"Model_Bora\",\"Model_Boxster\",\"Model_Brava\",\"Model_Bravo\",\"Model_Breez\",\"Model_C Class\",\"Model_C-Class Coupe\",\"Model_C-Crosser\",\"Model_C-Elysee\",\"Model_C-HR\",\"Model_C-Max\",\"Model_C1\",\"Model_C2\",\"Model_C3\",\"Model_C3 Picasso\",\"Model_C30\",\"Model_C4\",\"Model_C4 Cactus\",\"Model_C4 Picasso\",\"Model_C5\",\"Model_C70\",\"Model_C8\",\"Model_CK\",\"Model_CL Class\",\"Model_CLA\",\"Model_CLC Class\",\"Model_CLK Class\",\"Model_CLS Class\",\"Model_CR-V\",\"Model_CR-Z\",\"Model_CS35PLUS\",\"Model_CT Series\",\"Model_CTS\",\"Model_CX\",\"Model_CX-3\",\"Model_CX-30\",\"Model_CX-5\",\"Model_CX-7\",\"Model_CX-9\",\"Model_Caddy\",\"Model_Caliber\",\"Model_Calibra\",\"Model_Camaro\",\"Model_Camry\",\"Model_Captiva\",\"Model_Captur\",\"Model_Caravan\",\"Model_Caravelle\",\"Model_Carens\",\"Model_Carina\",\"Model_Carisma\",\"Model_Carnival\",\"Model_Cayenne\",\"Model_Cayman\",\"Model_Ceed\",\"Model_Ceed Sw\",\"Model_Celica\",\"Model_Cerato\",\"Model_Challenger\",\"Model_Charger\",\"Model_Cherokee\",\"Model_Cherry\",\"Model_Chery Van\",\"Model_Citan\",\"Model_Citigo\",\"Model_City K-ZE\",\"Model_Civic\",\"Model_Civic Hibrid\",\"Model_Clarity\",\"Model_Clarus\",\"Model_Clio\",\"Model_Clio Symbol\",\"Model_Clio4\",\"Model_Clubman\",\"Model_Colt\",\"Model_Combo\",\"Model_Commander\",\"Model_Compass\",\"Model_Concerto\",\"Model_Cooper\",\"Model_Cooper S\",\"Model_Cordoba\",\"Model_Corolla\",\"Model_Corolla Verso\",\"Model_Corsa\",\"Model_Corvette\",\"Model_Countryman\",\"Model_Coupe\",\"Model_Courier\",\"Model_Creta\",\"Model_Crosseastar\",\"Model_Crosstrek\",\"Model_Crown\",\"Model_Cruze\",\"Model_Cuore\",\"Model_D20\",\"Model_D50\",\"Model_DS3\",\"Model_DS4\",\"Model_DS5\",\"Model_Dakota\",\"Model_Damas\",\"Model_Dedra\",\"Model_Defender\",\"Model_Delta\",\"Model_Discovery\",\"Model_Discovery Sport\",\"Model_Doblo\",\"Model_Doblo Cargo\",\"Model_Doblo Panorama\",\"Model_Dokker\",\"Model_Dokker VAN\",\"Model_Durango\",\"Model_Duster\",\"Model_E Class\",\"Model_E-Class Coupe\",\"Model_E-Pace\",\"Model_EU5\",\"Model_Eastar\",\"Model_Eclipse\",\"Model_Eclipse Cross\",\"Model_EcoSport\",\"Model_Edge\",\"Model_Elantra\",\"Model_Encore\",\"Model_Envision\",\"Model_Envoy\",\"Model_Eos\",\"Model_Epica\",\"Model_Equinox\",\"Model_Equus\",\"Model_Es Series\",\"Model_Escape\",\"Model_Escort\",\"Model_Espace\",\"Model_Espero\",\"Model_Evanda\",\"Model_Exeo\",\"Model_Expedition\",\"Model_Expert\",\"Model_Explorer\",\"Model_Express\",\"Model_F-150\",\"Model_F-250\",\"Model_F-PACE\",\"Model_F-Type\",\"Model_F3\",\"Model_F6\",\"Model_FR-V\",\"Model_FSV\",\"Model_FX\",\"Model_Fabia\",\"Model_Fabia RS\",\"Model_Favorit\",\"Model_Felicia\",\"Model_Fiesta\",\"Model_Fiesta 3D\",\"Model_Fiesta 5D\",\"Model_Fiorino\",\"Model_Fluence\",\"Model_Focus\",\"Model_Focus Rs\",\"Model_Focus Wagon\",\"Model_Forester\",\"Model_Forfour\",\"Model_Fortuner\",\"Model_Fortwo\",\"Model_Fox\",\"Model_Freelander\",\"Model_Freema\",\"Model_Frontera\",\"Model_Frontier\",\"Model_Fullback\",\"Model_Fusion\",\"Model_G Class\",\"Model_G Series\",\"Model_G3\",\"Model_GL Class\",\"Model_GLA\",\"Model_GLC\",\"Model_GLC Coupe\",\"Model_GLE\",\"Model_GLE Coupe\",\"Model_GLK Class\",\"Model_GLS Klass\",\"Model_GS Series\",\"Model_GT86\",\"Model_GW Peri\",\"Model_GX Series\",\"Model_Galant\",\"Model_Galaxy\",\"Model_Galloper\",\"Model_Genesis\",\"Model_Getz\",\"Model_Ghibli II\",\"Model_Giulia\",\"Model_Giulietta\",\"Model_Gol\",\"Model_Golf\",\"Model_Golf Plus\",\"Model_Granada\",\"Model_Grand - Am\",\"Model_Grand Caravan\",\"Model_Grand Cherokee\",\"Model_Grand Espace\",\"Model_Grand Modus\",\"Model_Grand Scenic\",\"Model_Grand Vitara\",\"Model_Grand Voyager\",\"Model_Grande Punto\",\"Model_Grande Punto 5D\",\"Model_Grandeur\",\"Model_Grandis\",\"Model_Grandland X\",\"Model_Granta\",\"Model_Gt\",\"Model_H-1 Truck\",\"Model_H2\",\"Model_H200\",\"Model_H3\",\"Model_H6\",\"Model_H9\",\"Model_HHR\",\"Model_HR-V\",\"Model_Hiace\",\"Model_Highlander\",\"Model_Hilux\",\"Model_Hover\",\"Model_Hunter\",\"Model_ILX\",\"Model_IONIQ\",\"Model_IS Series\",\"Model_Ibiza\",\"Model_Ignis\",\"Model_Impala\",\"Model_Impreza\",\"Model_Inca\",\"Model_Insight\",\"Model_Insignia\",\"Model_Intrepid\",\"Model_J7\",\"Model_JS4\",\"Model_Jazz\",\"Model_Jetta\",\"Model_Jimny\",\"Model_Joice\",\"Model_Jolion\",\"Model_Journey\",\"Model_Juke\",\"Model_Jumpy\",\"Model_Justy\",\"Model_Ka\",\"Model_Kadett\",\"Model_Kadjar\",\"Model_Kalina\",\"Model_Kalos\",\"Model_Kangoo\",\"Model_Kappa\",\"Model_Karl\",\"Model_Karoq\",\"Model_Kicks\",\"Model_Kodiaq\",\"Model_Koleos\",\"Model_Kona\",\"Model_Korando\",\"Model_Kuga\",\"Model_Kyron\",\"Model_L\",\"Model_L Series\",\"Model_LS Series\",\"Model_LX Series\",\"Model_Lacetti\",\"Model_Laguna\",\"Model_Lancer\",\"Model_Land Cruiser\",\"Model_Land Cruiser Prado\",\"Model_Lanos\",\"Model_Lantra\",\"Model_Largus\",\"Model_Leaf\",\"Model_Legacy\",\"Model_Leon\",\"Model_Liana\",\"Model_Lodgy\",\"Model_Logan\",\"Model_Logan Mcv\",\"Model_Logan Van\",\"Model_Logo\",\"Model_Lumina\",\"Model_Lupo\",\"Model_Lybra\",\"Model_M Class\",\"Model_M Models\",\"Model_M Series\",\"Model_MDX\",\"Model_MKC\",\"Model_MKZ\",\"Model_MPV\",\"Model_MX-30\",\"Model_MX-5\",\"Model_MX-6\",\"Model_Macan\",\"Model_Magentis\",\"Model_Magnum\",\"Model_Malibu\",\"Model_Marea\",\"Model_Materia\",\"Model_Matiz\",\"Model_Matrix\",\"Model_Maverick\",\"Model_Maxima\",\"Model_Megane\",\"Model_Meriva\",\"Model_MiTo\",\"Model_Micra\",\"Model_Mirage\",\"Model_Model 3\",\"Model_Model S\",\"Model_Modus\",\"Model_Mokka\",\"Model_Mondeo\",\"Model_Monterey\",\"Model_Montero Sport\",\"Model_Multipla\",\"Model_Multivan\",\"Model_Murano\",\"Model_Musa\",\"Model_Musso\",\"Model_Mustang\",\"Model_NF Sonata\",\"Model_NV200\",\"Model_NV400\",\"Model_NX Series\",\"Model_Navara\",\"Model_Navigator\",\"Model_Nemo\",\"Model_Neon\",\"Model_New Beetle\",\"Model_Nexia\",\"Model_Niro\",\"Model_Nitro\",\"Model_Niva\",\"Model_Note\",\"Model_Nubira\",\"Model_Octavia\",\"Model_Octavia RS\",\"Model_Odyssey\",\"Model_Oka\",\"Model_Omega\",\"Model_One\",\"Model_Opirus\",\"Model_Optima\",\"Model_Orion\",\"Model_Orlando\",\"Model_Outback\",\"Model_Outlander\",\"Model_PT Cruiser\",\"Model_Pacifica\",\"Model_Pajero\",\"Model_Pajero Pinin\",\"Model_Pajero Sport\",\"Model_Palio\",\"Model_Panamera\",\"Model_Panda\",\"Model_Partner\",\"Model_Passat\",\"Model_Passat CC\",\"Model_Passo\",\"Model_Pathfinder\",\"Model_Patriot\",\"Model_Patrol\",\"Model_Phaeton\",\"Model_Phedra\",\"Model_Picanto\",\"Model_Picnic\",\"Model_Pikap\",\"Model_Pixo\",\"Model_Poer\",\"Model_Polo\",\"Model_Pony\",\"Model_Prairie\",\"Model_Pregio\",\"Model_Prelude\",\"Model_Premacy\",\"Model_Previa\",\"Model_Pride\",\"Model_Primastar\",\"Model_Primera\",\"Model_Priora\",\"Model_Prisma\",\"Model_Prius\",\"Model_Prius +\",\"Model_Prius Prime\",\"Model_Prius c\",\"Model_Prius v\",\"Model_Pro_Cee'd\",\"Model_Proace\",\"Model_Probe\",\"Model_Pulsar\",\"Model_Puma\",\"Model_Punto\",\"Model_Q Series\",\"Model_Q3\",\"Model_Q5\",\"Model_Q7\",\"Model_Q8\",\"Model_QX Series\",\"Model_QX30\",\"Model_QX50\",\"Model_QX60\",\"Model_QX70\",\"Model_Qashqai\",\"Model_Qashqai+2\",\"Model_Qq\",\"Model_Quattro\",\"Model_Qubo\",\"Model_Quest\",\"Model_R Class\",\"Model_R2\",\"Model_R4\",\"Model_RC Series\",\"Model_RDX\",\"Model_RX Series\",\"Model_RX-8\",\"Model_Ram\",\"Model_Range Rover\",\"Model_Range Rover Evoque\",\"Model_Range Rover Sport\",\"Model_Range Rover Velar\",\"Model_Ranger\",\"Model_Rapid\",\"Model_Rav 4\",\"Model_Rekord\",\"Model_Renegade\",\"Model_Rexton\",\"Model_Rezzo\",\"Model_Rio\",\"Model_Rio X-Line\",\"Model_Ritmo\",\"Model_Roadster\",\"Model_Rodius\",\"Model_Rogue\",\"Model_Roomster\",\"Model_S Class\",\"Model_S Klass\",\"Model_S-Coupe\",\"Model_S-Cross\",\"Model_S-Max\",\"Model_S-Type\",\"Model_S3\",\"Model_S4\",\"Model_S40\",\"Model_S5\",\"Model_S60\",\"Model_S70\",\"Model_S8\",\"Model_S80\",\"Model_S90\",\"Model_SC Series\",\"Model_SLK Class\",\"Model_SX4\",\"Model_Safrane\",\"Model_Samurai\",\"Model_Sandero\",\"Model_Sandero Stepway\",\"Model_Santa FE\",\"Model_Santamo\",\"Model_Saratoga\",\"Model_Saxo\",\"Model_Scala\",\"Model_Scenic\",\"Model_Scirocco\",\"Model_Scorpio\",\"Model_Scudo\",\"Model_Sebring\",\"Model_Seltos\",\"Model_Sentra\",\"Model_Sephia\",\"Model_Serena\",\"Model_Series (W123)\",\"Model_Series (W124)\",\"Model_Sharan\",\"Model_Shuma\",\"Model_Shuttle\",\"Model_Siber\",\"Model_Siecento\",\"Model_Sienna\",\"Model_Sierra\",\"Model_Sigma\",\"Model_Signum\",\"Model_Sintra\",\"Model_Sirion\",\"Model_Sl Class\",\"Model_Solara\",\"Model_Solaris\",\"Model_Sonata\",\"Model_Sorento\",\"Model_Soul\",\"Model_Space Runner\",\"Model_Space Star\",\"Model_Space Wagon\",\"Model_Spark\",\"Model_Spectra\",\"Model_Splash\",\"Model_Sportage\",\"Model_Starlet\",\"Model_Stelvio\",\"Model_Stilo\",\"Model_Stinger\",\"Model_Stonic\",\"Model_Stratus\",\"Model_Stream\",\"Model_Streetwise\",\"Model_Sunny\",\"Model_Superb\",\"Model_Swift\",\"Model_T-Cross\",\"Model_T500\",\"Model_TSX\",\"Model_TT\",\"Model_Tacoma\",\"Model_Tacuma\",\"Model_Talisman\",\"Model_Taurus\",\"Model_Terios\",\"Model_Terracan\",\"Model_Terrain\",\"Model_Terrano\",\"Model_Thalia\",\"Model_Thema\",\"Model_Thesis\",\"Model_Tiggo\",\"Model_Tigra\",\"Model_Tiguan\",\"Model_Tiida\",\"Model_Tipo\",\"Model_Toledo\",\"Model_Touareg\",\"Model_Touran\",\"Model_Tourneo Connect\",\"Model_Town Car\",\"Model_Town&Country\",\"Model_Tracer\",\"Model_Trafic\",\"Model_Trailblaizer\",\"Model_Trajet\",\"Model_Transit Connect\",\"Model_Transporter\",\"Model_Trax\",\"Model_Trezia\",\"Model_Tribute\",\"Model_Trooper\",\"Model_Tucson\",\"Model_Twingo\",\"Model_UX\",\"Model_Urban Cruiser\",\"Model_V Class\",\"Model_V40\",\"Model_V50\",\"Model_V60\",\"Model_V70\",\"Model_V90\",\"Model_Vaneo\",\"Model_Vanette\",\"Model_Vectra\",\"Model_Vel Satis\",\"Model_Veloster\",\"Model_Venga\",\"Model_Vento\",\"Model_Venza\",\"Model_Veracruz\",\"Model_Verso\",\"Model_Verso-S\",\"Model_Vesta\",\"Model_Viano\",\"Model_Vita\",\"Model_Vitara\",\"Model_Vito\",\"Model_Vivaro\",\"Model_Volt\",\"Model_Voyager\",\"Model_WRX\",\"Model_WRX STI\",\"Model_Wagon R+\",\"Model_Wrangler\",\"Model_X Class\",\"Model_X-Trail\",\"Model_X-Type\",\"Model_X1\",\"Model_X2\",\"Model_X3\",\"Model_X4\",\"Model_X5\",\"Model_X6\",\"Model_X7\",\"Model_XC40\",\"Model_XC60\",\"Model_XC70\",\"Model_XC90\",\"Model_XE\",\"Model_XJ\",\"Model_XV\",\"Model_Xedos\",\"Model_Xf\",\"Model_Xsara\",\"Model_Xsara Picasso\",\"Model_Xterra\",\"Model_YRV\",\"Model_Yaris\",\"Model_Yaris Verso\",\"Model_Yeti\",\"Model_Ypsilon\",\"Model_Z Series\",\"Model_ZOE\",\"Model_Zafira\",\"Model_altele\",\"Model_e-tron\",\"Model_i10\",\"Model_i20\",\"Model_i3\",\"Model_i30\",\"Model_i40\",\"Model_i8\",\"Model_iA\",\"Model_iM\",\"Model_iQ\",\"Model_ix20\",\"Model_ix35\",\"Model_on-DO\",\"Model_up!\",\"Model_xA\",\"Make_ARO\",\"Make_Abarth\",\"Make_Acura\",\"Make_Alfa Romeo\",\"Make_Alta marca\",\"Make_Audi\",\"Make_BAIC\",\"Make_BMW\",\"Make_Brilliance\",\"Make_Buick\",\"Make_Byd\",\"Make_Cadillac\",\"Make_Changan\",\"Make_Chery\",\"Make_Chevrolet\",\"Make_Chrysler\",\"Make_Citroen\",\"Make_Dacia\",\"Make_Daewoo\",\"Make_Daihatsu\",\"Make_Datsun\",\"Make_Dodge\",\"Make_Faw\",\"Make_Fiat\",\"Make_Ford\",\"Make_GAZ\",\"Make_GMC\",\"Make_Geely\",\"Make_Great Wall\",\"Make_Groz\",\"Make_Haima\",\"Make_Haval\",\"Make_Honda\",\"Make_Hummer\",\"Make_Hyundai\",\"Make_Infiniti\",\"Make_Isuzu\",\"Make_Jac\",\"Make_Jaguar\",\"Make_Jeep\",\"Make_KIA\",\"Make_Lada\",\"Make_Lancia\",\"Make_Land Rover\",\"Make_Lexus\",\"Make_Lifan\",\"Make_Lincoln\",\"Make_LuAZ\",\"Make_Maserati\",\"Make_Mazda\",\"Make_Mercedes\",\"Make_Mercedes-Maybach\",\"Make_Mini\",\"Make_Mitsubishi\",\"Make_Moskvich / Izh\",\"Make_Nissan\",\"Make_Opel\",\"Make_Peugeot\",\"Make_Pontiac\",\"Make_Porsche\",\"Make_Ravon\",\"Make_Renault\",\"Make_Rover\",\"Make_Saab\",\"Make_Saturn\",\"Make_Scion\",\"Make_Seat\",\"Make_Skoda\",\"Make_Smart\",\"Make_Ssangyong\",\"Make_Subaru\",\"Make_Suzuki\",\"Make_Tata\",\"Make_Tesla\",\"Make_Toyota\",\"Make_UAZ\",\"Make_Vaz\",\"Make_Volkswagen\",\"Make_Volvo\",\"Make_Xpeng\",\"Make_Zaz\",\"Make_Zotye\",\"Style_Cabriolet\",\"Style_Combi\",\"Style_Coupe\",\"Style_Crossover\",\"Style_Hatchback\",\"Style_Microvan\",\"Style_Minivan\",\"Style_Pickup\",\"Style_Roadster\",\"Style_SUV\",\"Style_Sedan\",\"Style_Universal\",\"Fuel_type_Diesel\",\"Fuel_type_Electric\",\"Fuel_type_Hybrid\",\"Fuel_type_Metan/Propan\",\"Fuel_type_Petrol\",\"Fuel_type_Plug-in Hybrid\",\"distance_type_average\",\"distance_type_high\",\"distance_type_optimal\",\"distance_type_very_high\",\"Make_rarity_common\",\"Make_rarity_rare\",\"Price_cat_average\",\"Price_cat_cheap\",\"Year_category_old\",\"Year_category_regular\"]},\"yaxis\":{\"anchor\":\"x\",\"domain\":[0.0,1.0],\"title\":{\"text\":\"y\"}},\"legend\":{\"title\":{\"text\":\"c\"},\"tracegroupgap\":0},\"margin\":{\"t\":60},\"barmode\":\"relative\"},                        {\"responsive\": true}                    ).then(function(){\n",
              "                            \n",
              "var gd = document.getElementById('1576c9d3-dcdf-4ee2-a0bc-f5f42ed29ea2');\n",
              "var x = new MutationObserver(function (mutations, observer) {{\n",
              "        var display = window.getComputedStyle(gd).display;\n",
              "        if (!display || display === 'none') {{\n",
              "            console.log([gd, 'removed!']);\n",
              "            Plotly.purge(gd);\n",
              "            observer.disconnect();\n",
              "        }}\n",
              "}});\n",
              "\n",
              "// Listen for the removal of the full notebook cells\n",
              "var notebookContainer = gd.closest('#notebook-container');\n",
              "if (notebookContainer) {{\n",
              "    x.observe(notebookContainer, {childList: true});\n",
              "}}\n",
              "\n",
              "// Listen for the clearing of the current output cell\n",
              "var outputEl = gd.closest('.output');\n",
              "if (outputEl) {{\n",
              "    x.observe(outputEl, {childList: true});\n",
              "}}\n",
              "\n",
              "                        })                };                            </script>        </div>\n",
              "</body>\n",
              "</html>"
            ]
          },
          "metadata": {}
        }
      ]
    },
    {
      "cell_type": "markdown",
      "source": [
        "Если приблизить, то можем видеть, каким признакам отдаётся предпочтение"
      ],
      "metadata": {
        "id": "T246yp570Prd"
      }
    },
    {
      "cell_type": "markdown",
      "source": [
        "### Ridge"
      ],
      "metadata": {
        "id": "qc_KpCiV0Cbu"
      }
    },
    {
      "cell_type": "markdown",
      "source": [
        "Может ridge сработает лучше, так как веса не будут занижены до нуля, ведь в таких данных нет конкретной зависимости, которую можно смело выделять, убирая остальные признаки"
      ],
      "metadata": {
        "id": "Qrt3sQPZ1aoL"
      }
    },
    {
      "cell_type": "code",
      "source": [
        "moldova_r = Ridge().fit(X_train, y_train)\n",
        "\n",
        "y_pred = moldova_r.predict(X_test)\n",
        "\n",
        "print(f'R2 score: {r2_score(y_test, y_pred)}')\n",
        "print(f'MAE: {mean_absolute_error(y_test, y_pred)}')\n",
        "print(f'RMSE: {mean_squared_error(y_test, y_pred, squared=False)}')\n",
        "print(f'MAPE: {mean_absolute_percentage_error(y_test, y_pred)}')"
      ],
      "metadata": {
        "colab": {
          "base_uri": "https://localhost:8080/"
        },
        "id": "YGOnbRgv1pgU",
        "outputId": "01949332-1a88-401b-bb1f-eff5a7fdacbf"
      },
      "execution_count": null,
      "outputs": [
        {
          "output_type": "stream",
          "name": "stdout",
          "text": [
            "R2 score: 0.7483983811643856\n",
            "MAE: 2465.4332975327684\n",
            "RMSE: 3823.267124256282\n",
            "MAPE: 0.5081944796993725\n"
          ]
        }
      ]
    },
    {
      "cell_type": "code",
      "source": [
        "moldova_r = Ridge(alpha=6).fit(X_train, y_train)\n",
        "\n",
        "y_pred = moldova_r.predict(X_test)\n",
        "\n",
        "print(f'R2 score: {r2_score(y_test, y_pred)}')\n",
        "print(f'MAE: {mean_absolute_error(y_test, y_pred)}')\n",
        "print(f'RMSE: {mean_squared_error(y_test, y_pred, squared=False)}')\n",
        "print(f'MAPE: {mean_absolute_percentage_error(y_test, y_pred)}')"
      ],
      "metadata": {
        "colab": {
          "base_uri": "https://localhost:8080/"
        },
        "id": "HyDDhpa61u-D",
        "outputId": "ee22bb9c-6569-4006-8514-72e9b3aef1b1"
      },
      "execution_count": null,
      "outputs": [
        {
          "output_type": "stream",
          "name": "stdout",
          "text": [
            "R2 score: 0.7428159826166114\n",
            "MAE: 2494.6358049703244\n",
            "RMSE: 3865.448708103546\n",
            "MAPE: 0.492668273735544\n"
          ]
        }
      ]
    },
    {
      "cell_type": "markdown",
      "source": [
        "Да, мы получили результаты лучше, но совсем немного, посмотрим на веса"
      ],
      "metadata": {
        "id": "eLVs1IZh2C29"
      }
    },
    {
      "cell_type": "code",
      "source": [
        "plot_weights(moldova_r.coef_, X.columns, show_cols=True)"
      ],
      "metadata": {
        "colab": {
          "base_uri": "https://localhost:8080/",
          "height": 542
        },
        "id": "0gnYtjxk2IMP",
        "outputId": "718a9d42-42c8-40ac-9882-96ac1abebaa6"
      },
      "execution_count": null,
      "outputs": [
        {
          "output_type": "display_data",
          "data": {
            "text/html": [
              "<html>\n",
              "<head><meta charset=\"utf-8\" /></head>\n",
              "<body>\n",
              "    <div>            <script src=\"https://cdnjs.cloudflare.com/ajax/libs/mathjax/2.7.5/MathJax.js?config=TeX-AMS-MML_SVG\"></script><script type=\"text/javascript\">if (window.MathJax && window.MathJax.Hub && window.MathJax.Hub.Config) {window.MathJax.Hub.Config({SVG: {font: \"STIX-Web\"}});}</script>                <script type=\"text/javascript\">window.PlotlyConfig = {MathJaxConfig: 'local'};</script>\n",
              "        <script src=\"https://cdn.plot.ly/plotly-2.16.1.min.js\"></script>                <div id=\"0577b9ca-adae-4b7e-9a14-98264788d2ba\" class=\"plotly-graph-div\" style=\"height:525px; width:100%;\"></div>            <script type=\"text/javascript\">                                    window.PLOTLYENV=window.PLOTLYENV || {};                                    if (document.getElementById(\"0577b9ca-adae-4b7e-9a14-98264788d2ba\")) {                    Plotly.newPlot(                        \"0577b9ca-adae-4b7e-9a14-98264788d2ba\",                        [{\"alignmentgroup\":\"True\",\"hovertemplate\":\"c=>=0<br>x=%{x}<br>y=%{y}<extra></extra>\",\"legendgroup\":\">=0\",\"marker\":{\"color\":\"blue\",\"pattern\":{\"shape\":\"\"}},\"name\":\">=0\",\"offsetgroup\":\">=0\",\"orientation\":\"v\",\"showlegend\":true,\"textposition\":\"auto\",\"x\":[\"Year\",\"Engine_capacity(cm3)\",\"year_distance\",\"Transmission_Automatic\",\"Model_100\",\"Model_106\",\"Model_108\",\"Model_121\",\"Model_166\",\"Model_19\",\"Model_200 Series\",\"Model_205\",\"Model_206\",\"Model_21\",\"Model_2101\",\"Model_2102\",\"Model_2103\",\"Model_2104\",\"Model_2105\",\"Model_2106\",\"Model_2108\",\"Model_2109\",\"Model_21099\",\"Model_2113\",\"Model_2125\",\"Model_2140\",\"Model_2410\",\"Model_25\",\"Model_300c\",\"Model_300m\",\"Model_306\",\"Model_307\",\"Model_309\",\"Model_323\",\"Model_4 series\",\"Model_4-Runner\",\"Model_400 Series\",\"Model_405\",\"Model_406\",\"Model_407\",\"Model_408\",\"Model_469\",\"Model_5 GT\",\"Model_500X\",\"Model_6 Series\",\"Model_600 Series\",\"Model_605\",\"Model_607\",\"Model_620\",\"Model_626\",\"Model_7 Series\",\"Model_700 Series\",\"Model_75\",\"Model_806\",\"Model_807\",\"Model_90\",\"Model_900 Series\",\"Model_9000\",\"Model_929\",\"Model_968\",\"Model_969\",\"Model_A7\",\"Model_A8\",\"Model_Accord\",\"Model_Aerostar\",\"Model_Albea\",\"Model_Alhambra\",\"Model_Almera\",\"Model_Almera Tino\",\"Model_Altea\",\"Model_Altele\",\"Model_Altima\",\"Model_Alto\",\"Model_Amarok\",\"Model_Applouse\",\"Model_Arteon\",\"Model_Ascona\",\"Model_Avalon\",\"Model_Avenger\",\"Model_Avensis Verso\",\"Model_Ax\",\"Model_Azera\",\"Model_BRZ\",\"Model_BX\",\"Model_Baleno\",\"Model_Berlingo\",\"Model_Blazer\",\"Model_Bluebird\",\"Model_Bolt\",\"Model_Bora\",\"Model_Brava\",\"Model_Bravo\",\"Model_C-Class Coupe\",\"Model_C3 Picasso\",\"Model_C5\",\"Model_C70\",\"Model_C8\",\"Model_CLS Class\",\"Model_CR-V\",\"Model_CTS\",\"Model_CX\",\"Model_CX-30\",\"Model_Calibra\",\"Model_Camaro\",\"Model_Caravan\",\"Model_Caravelle\",\"Model_Carina\",\"Model_Carisma\",\"Model_Carnival\",\"Model_Cayenne\",\"Model_Cayman\",\"Model_Celica\",\"Model_Challenger\",\"Model_Charger\",\"Model_Cherry\",\"Model_Chery Van\",\"Model_Civic\",\"Model_Civic Hibrid\",\"Model_Clarity\",\"Model_Clubman\",\"Model_Concerto\",\"Model_Cooper\",\"Model_Cordoba\",\"Model_Corolla Verso\",\"Model_Crown\",\"Model_D20\",\"Model_Damas\",\"Model_Dedra\",\"Model_Defender\",\"Model_Discovery\",\"Model_Discovery Sport\",\"Model_Doblo Panorama\",\"Model_Durango\",\"Model_E-Class Coupe\",\"Model_E-Pace\",\"Model_EU5\",\"Model_Eclipse\",\"Model_Edge\",\"Model_Envision\",\"Model_Epica\",\"Model_Equinox\",\"Model_Equus\",\"Model_Escort\",\"Model_Espace\",\"Model_Evanda\",\"Model_Expedition\",\"Model_Expert\",\"Model_Explorer\",\"Model_F-150\",\"Model_F-250\",\"Model_F-PACE\",\"Model_F-Type\",\"Model_F6\",\"Model_FR-V\",\"Model_FX\",\"Model_Favorit\",\"Model_Felicia\",\"Model_Fortuner\",\"Model_Fullback\",\"Model_G Class\",\"Model_G3\",\"Model_GL Class\",\"Model_GLC\",\"Model_GLC Coupe\",\"Model_GLE\",\"Model_GLE Coupe\",\"Model_GLS Klass\",\"Model_GT86\",\"Model_GX Series\",\"Model_Galant\",\"Model_Galaxy\",\"Model_Galloper\",\"Model_Genesis\",\"Model_Ghibli II\",\"Model_Giulia\",\"Model_Gol\",\"Model_Granada\",\"Model_Grand - Am\",\"Model_Grand Espace\",\"Model_Grande Punto 5D\",\"Model_Grandeur\",\"Model_Grandis\",\"Model_Gt\",\"Model_H-1 Truck\",\"Model_H2\",\"Model_H3\",\"Model_H9\",\"Model_HHR\",\"Model_Hiace\",\"Model_Highlander\",\"Model_Hilux\",\"Model_Hunter\",\"Model_IONIQ\",\"Model_Ignis\",\"Model_Impala\",\"Model_Impreza\",\"Model_Inca\",\"Model_Jumpy\",\"Model_Justy\",\"Model_Kadett\",\"Model_Kalos\",\"Model_Karoq\",\"Model_Kodiaq\",\"Model_Koleos\",\"Model_Kona\",\"Model_L\",\"Model_LX Series\",\"Model_Lacetti\",\"Model_Laguna\",\"Model_Lancer\",\"Model_Land Cruiser\",\"Model_Land Cruiser Prado\",\"Model_Lanos\",\"Model_Lantra\",\"Model_Largus\",\"Model_Legacy\",\"Model_Liana\",\"Model_Logan\",\"Model_Logan Mcv\",\"Model_Logo\",\"Model_Lumina\",\"Model_M Models\",\"Model_MKC\",\"Model_MX-30\",\"Model_MX-6\",\"Model_Macan\",\"Model_Marea\",\"Model_Maverick\",\"Model_Maxima\",\"Model_Model 3\",\"Model_Model S\",\"Model_Modus\",\"Model_Monterey\",\"Model_Montero Sport\",\"Model_Multipla\",\"Model_Multivan\",\"Model_Murano\",\"Model_Musso\",\"Model_Mustang\",\"Model_NV400\",\"Model_NX Series\",\"Model_Navigator\",\"Model_Niva\",\"Model_Nubira\",\"Model_Octavia RS\",\"Model_Omega\",\"Model_One\",\"Model_Orion\",\"Model_Outback\",\"Model_PT Cruiser\",\"Model_Pajero\",\"Model_Pajero Sport\",\"Model_Palio\",\"Model_Panamera\",\"Model_Patrol\",\"Model_Picnic\",\"Model_Poer\",\"Model_Pony\",\"Model_Prairie\",\"Model_Prelude\",\"Model_Premacy\",\"Model_Previa\",\"Model_Primastar\",\"Model_Primera\",\"Model_Prisma\",\"Model_Probe\",\"Model_Puma\",\"Model_Punto\",\"Model_Q5\",\"Model_Q7\",\"Model_Q8\",\"Model_QX Series\",\"Model_QX60\",\"Model_QX70\",\"Model_Quest\",\"Model_RC Series\",\"Model_RDX\",\"Model_RX Series\",\"Model_Ram\",\"Model_Range Rover\",\"Model_Range Rover Sport\",\"Model_Range Rover Velar\",\"Model_Ranger\",\"Model_Rekord\",\"Model_Renegade\",\"Model_Rezzo\",\"Model_Ritmo\",\"Model_Roadster\",\"Model_Rodius\",\"Model_S Class\",\"Model_S-Coupe\",\"Model_S3\",\"Model_S4\",\"Model_S5\",\"Model_S90\",\"Model_SC Series\",\"Model_SLK Class\",\"Model_Safrane\",\"Model_Samurai\",\"Model_Sandero\",\"Model_Santa FE\",\"Model_Saratoga\",\"Model_Scala\",\"Model_Scorpio\",\"Model_Scudo\",\"Model_Seltos\",\"Model_Sentra\",\"Model_Serena\",\"Model_Sharan\",\"Model_Sienna\",\"Model_Sierra\",\"Model_Sigma\",\"Model_Sintra\",\"Model_Space Runner\",\"Model_Space Wagon\",\"Model_Starlet\",\"Model_Stelvio\",\"Model_Stilo\",\"Model_Stinger\",\"Model_Stratus\",\"Model_Stream\",\"Model_Sunny\",\"Model_Superb\",\"Model_Tacoma\",\"Model_Tacuma\",\"Model_Talisman\",\"Model_Taurus\",\"Model_Terrain\",\"Model_Terrano\",\"Model_Thema\",\"Model_Tiida\",\"Model_Toledo\",\"Model_Touareg\",\"Model_Town&Country\",\"Model_Tracer\",\"Model_Trafic\",\"Model_Trailblaizer\",\"Model_Transporter\",\"Model_Trooper\",\"Model_Twingo\",\"Model_UX\",\"Model_V Class\",\"Model_V90\",\"Model_Vanette\",\"Model_Vectra\",\"Model_Vel Satis\",\"Model_Veloster\",\"Model_Vento\",\"Model_Voyager\",\"Model_WRX\",\"Model_WRX STI\",\"Model_Wagon R+\",\"Model_Wrangler\",\"Model_X Class\",\"Model_X-Trail\",\"Model_X4\",\"Model_X5\",\"Model_X6\",\"Model_X7\",\"Model_XC40\",\"Model_XC60\",\"Model_XC90\",\"Model_XJ\",\"Model_Xedos\",\"Model_Xsara\",\"Model_Xsara Picasso\",\"Model_Xterra\",\"Model_YRV\",\"Model_Z Series\",\"Model_Zafira\",\"Model_e-tron\",\"Model_i8\",\"Model_iM\",\"Model_xA\",\"Make_Abarth\",\"Make_Audi\",\"Make_BAIC\",\"Make_BMW\",\"Make_Cadillac\",\"Make_GAZ\",\"Make_GMC\",\"Make_Hummer\",\"Make_Infiniti\",\"Make_Jaguar\",\"Make_Jeep\",\"Make_KIA\",\"Make_Lada\",\"Make_Lancia\",\"Make_Land Rover\",\"Make_Lexus\",\"Make_Lincoln\",\"Make_LuAZ\",\"Make_Maserati\",\"Make_Mercedes\",\"Make_Moskvich / Izh\",\"Make_Pontiac\",\"Make_Porsche\",\"Make_Saab\",\"Make_Saturn\",\"Make_Tata\",\"Make_Tesla\",\"Make_Vaz\",\"Make_Volvo\",\"Make_Xpeng\",\"Make_Zaz\",\"Style_Coupe\",\"Style_Crossover\",\"Style_Pickup\",\"Style_SUV\",\"Fuel_type_Electric\",\"Fuel_type_Hybrid\",\"Fuel_type_Plug-in Hybrid\",\"distance_type_optimal\",\"Make_rarity_common\",\"Price_cat_cheap\",\"Year_category_regular\"],\"xaxis\":\"x\",\"y\":[20368.65383571385,1967.1286603124252,9554.273713067898,370.7832715361506,188.0705075044565,694.9070102141212,0.0,347.3048339453185,199.6296648555246,3230.665244031208,279.53140628547766,632.5799541807372,100.68461756472576,5834.701504359121,4769.808170738453,2228.0029219749576,3663.588125425327,644.9126993257726,2968.155308144284,3618.833863020292,1313.3098925907507,1271.2932599217468,738.3769504814646,453.0490303278487,4462.13000309109,884.7624976863565,2170.8895337720473,8.062532117979085,34.09355977076007,49.34748792291366,1176.0636651059322,345.17165263208994,0.0,2071.8421786439108,903.5599576690652,1000.2319409438103,710.6789165942041,2815.3452378170878,277.32725676206445,550.8441465791252,2570.0746168369596,1898.152048086512,1138.6943021001257,312.13707067385104,4208.410965868082,1492.0417306356983,289.77275535941106,51.80203130284401,0.0,2022.6946718367262,196.74224466755297,0.0,45.81211510023633,900.0551668177906,628.7511311919635,0.0,70.46444526065811,4304.353153033641,696.2528323615628,875.8375616884699,1562.5489197055574,6162.170403152304,1651.6137665715153,1141.2255471256321,0.0,138.96008383653682,834.2779933535197,575.2820673061346,925.3024745033199,107.84149072616297,4614.8102717304355,103.96659402199325,465.663268780858,2646.628054509437,465.02067341465926,0.0,4364.096811579055,1264.0120585787454,239.04518281485085,502.7867531793402,425.97814362916796,97.99259537388916,0.0,1094.1656487150872,1266.0556723312934,404.4645742154321,119.71805103861811,1382.4159546056535,2401.0557034538574,350.2933267252047,572.421018371249,367.01925054867115,2445.6449898014957,333.26728836042133,73.57629890563106,0.0,1210.887461524743,721.9549672060797,616.6637907240633,2180.1383531985553,995.243962331612,2736.591218964091,283.3325850598883,3576.9526259215613,201.31506863436778,1827.818155263092,1545.2238887358735,185.12893103650993,4188.663555977024,602.1712276460777,3231.2508437213505,327.2583673068735,1695.9315680946233,14.95457158386597,644.3918832063704,117.76680142779367,125.68769887216135,0.0,719.4939320094873,309.44499831346485,470.2718312647694,563.990323640519,120.2058440492597,367.4348859604791,404.58797117416646,0.0,5.739334456197569,3318.5634313906053,3074.856795966784,25.44264734103537,2007.2984577025518,0.0,0.0,1174.9099311378868,972.88656634058,863.1914504714456,444.84562271292873,597.8495170323587,1380.7054861913225,1171.8920480574905,89.1762968408066,0.0,2098.5356882867827,3347.1199762846286,331.8942398514309,0.0,914.3886514346846,3013.6321853554164,4725.366298897962,460.7424703192975,5227.614570230601,0.0,317.2556904784647,541.3938829809452,938.5837772366667,2791.5037426291706,1014.3162232610799,1882.319774675389,1516.4688490919248,3406.035619026596,834.8918673503435,4782.768322640709,6878.317170124431,9336.108953300152,10911.319343823017,9590.162255387928,6882.953507241856,0.0,6864.061929970592,1557.3302842830476,1094.815546727389,634.5467644613851,2390.0799771492125,3148.946396015847,1295.4625089326191,163.69010162615015,855.2313126551451,2651.9132015673604,1852.6029185504021,0.0,1826.0103563864607,824.3999269656946,0.0,369.9166571409511,2413.580135517266,1191.0626788155641,1020.5848772964138,470.5915715956676,631.3621832347236,5458.873942399163,3232.210101129832,469.13135358295284,156.53443937437333,121.33912933479556,0.0,1371.2072418974767,101.19100419435931,261.70477268311026,210.8933558274638,3797.1848106193597,482.8189522234897,459.6056885112271,7446.701067955098,1764.6748877747955,1751.912134975096,960.2067172963704,2336.185797466406,2140.6821535168374,474.42711529210925,446.7786246768194,10129.799861550287,5520.785165997369,325.16159459086435,345.16322930159697,480.15266746292207,1074.3833414057574,593.7009773806739,848.8988985227994,1108.1102445552774,0.0,634.7500137260606,8945.577001179683,223.29517263588556,1267.6450754419272,0.0,6485.479659338971,1505.0813725657133,78.4960922469173,1377.2791569313747,7040.654548048238,3239.9656269053553,102.1681999824031,558.3565179164175,227.23225462104872,385.1070612075479,5293.412561906256,646.0710944526191,509.04314554979027,3890.82722767318,845.3344423893952,4437.604522447711,1504.8570060949141,629.8575299995111,794.7067946014242,1027.8379370169614,1477.2777636271442,534.0348717055239,2098.741921199241,487.54598785010586,163.6689776157266,654.7534894323015,794.1238731010468,386.53212459242457,3918.2075083235213,2392.062092646698,563.2049450739295,885.6299881841383,1521.2775705440495,1421.6539643333374,1229.654774627217,93.09162640809322,857.9975656686669,505.31468017857975,1546.8356035851368,339.37922227507386,393.84905799157,850.7878962768372,255.05235418116573,353.27173718338406,8182.444398077598,3543.9346157947216,0.0,2501.732342723068,980.6940077192911,116.94112492845542,134.21222165541417,630.3139309743566,1209.2932608917727,1648.3257979261396,1144.3580610245992,1021.0055258228009,2865.196935256245,627.8995518911497,5034.165425628235,9.83032227681509,314.46959004263107,1179.2540935936647,59.94586178368013,65.5911029994848,757.2923550141737,0.0,967.1565752078227,57.90319799715166,0.0,9716.41404184729,434.531876047624,82.28162773202763,2517.1820927784247,0.0,249.95214125745363,881.8941851012137,136.41139171045887,257.88668252089894,1614.186488374332,1254.7080425123904,334.1210642303474,102.17252793806999,1255.4393763887808,342.4831900459276,1421.574418775868,2533.4246906501207,234.73305688382993,116.73156549827395,722.5843934337557,3184.0348001333723,0.0,2924.610959186003,491.09127720550833,2476.6515728360596,249.62627785916524,838.0881991140658,2174.8558626175354,2549.3725493174893,1936.1488623481152,1153.2571555538466,842.2176544821039,212.46118074147103,807.35161232353,863.405298689686,89.99273875521244,67.45974240526543,688.7057246295427,656.2562412369749,329.0541360345786,65.8586690882033,507.427326751429,286.32180096147664,1303.2245172963937,135.70526469150633,1335.0053560872718,969.7272444776046,3977.017512216714,4065.823683819994,150.15951498616388,1321.4896601518778,1025.1432026897082,37.037480971865605,1658.0894389750201,120.09863477243833,331.00905676704514,334.9412336421763,607.3186447816241,8311.36381560924,1466.3925557632454,176.2831979947547,6061.369434168317,849.9802092802781,6825.081355562368,0.0,2259.2705206068263,1132.226201597186,2042.7236221645348,4355.379778267458,450.3987283682004,205.7104049451737,703.9619636718966,373.49537374906566,247.27684789224278,742.7554824184712,123.53239606222559,875.1422670879601,1679.7253094749365,0.0,0.0,0.0,2935.6233231087613,13.063408606033006,4159.736914811693,1334.0234129638795,2304.814295566746,801.8058483850601,3604.6428143328076,530.0368681611668,4173.024321904516,437.41465384323834,928.2514012289254,334.57418924906705,356.6508396094563,3617.2145708507937,3873.3401003871077,144.55802433875132,1178.2030877414197,6053.582146079287,4489.289221803714,3929.9807026299186,1766.723991055591,9803.568293130767,1587.0452631633714,0.0,0.0,10280.620174953725,495.1126697591667,1489.4579958102026,834.8918673503455,1518.6047365826585,24.57536112589586,1839.8721458070816,3391.2066960811258,1489.1096841413935,36.993360174464144,264.881002845813,2404.8669125369424,1259.994002481252,236.3658395942332,1695.53813683725,1092.1049500502215],\"yaxis\":\"y\",\"type\":\"bar\"},{\"alignmentgroup\":\"True\",\"hovertemplate\":\"c=<0<br>x=%{x}<br>y=%{y}<extra></extra>\",\"legendgroup\":\"<0\",\"marker\":{\"color\":\"red\",\"pattern\":{\"shape\":\"\"}},\"name\":\"<0\",\"offsetgroup\":\"<0\",\"orientation\":\"v\",\"showlegend\":true,\"textposition\":\"auto\",\"x\":[\"Distance\",\"Transmission_Manual\",\"Model_1 Series\",\"Model_1007\",\"Model_107\",\"Model_1102 Tavria\",\"Model_145\",\"Model_147\",\"Model_156\",\"Model_159\",\"Model_190\",\"Model_2\",\"Model_2 Series\",\"Model_200\",\"Model_2008\",\"Model_207\",\"Model_208\",\"Model_2107\",\"Model_2110\",\"Model_2111\",\"Model_2112\",\"Model_2114\",\"Model_2115\",\"Model_2121niva\",\"Model_2123 Chevrolet\",\"Model_2129 Niva Long\",\"Model_2141\",\"Model_3\",\"Model_3 GT\",\"Model_3 Series\",\"Model_3008\",\"Model_301\",\"Model_308\",\"Model_31029\",\"Model_3110\",\"Model_4007\",\"Model_45\",\"Model_5\",\"Model_5 Series\",\"Model_500\",\"Model_5008\",\"Model_500L\",\"Model_508\",\"Model_6\",\"Model_80\",\"Model_800 Series\",\"Model_9-3\",\"Model_9-5\",\"Model_911\",\"Model_924\",\"Model_A Class\",\"Model_A1\",\"Model_A2\",\"Model_A3\",\"Model_A3 e-tron\",\"Model_A4\",\"Model_A5\",\"Model_A6\",\"Model_AMG GT\",\"Model_ASX\",\"Model_ATS\",\"Model_Accent\",\"Model_Actyon\",\"Model_Adam\",\"Model_Agila\",\"Model_Alfasud\",\"Model_Allroad\",\"Model_Alt model\",\"Model_Altea XL\",\"Model_Ampera\",\"Model_Antara\",\"Model_Arosa\",\"Model_Astra\",\"Model_Atos\",\"Model_Auris\",\"Model_Avante\",\"Model_Avensis\",\"Model_Aveo\",\"Model_Aygo\",\"Model_B Class\",\"Model_B-Max\",\"Model_B9 Tribeca\",\"Model_BS3\",\"Model_BS6\",\"Model_Beetle\",\"Model_Bipper\",\"Model_Bls\",\"Model_Boxster\",\"Model_Breez\",\"Model_C Class\",\"Model_C-Crosser\",\"Model_C-Elysee\",\"Model_C-HR\",\"Model_C-Max\",\"Model_C1\",\"Model_C2\",\"Model_C3\",\"Model_C30\",\"Model_C4\",\"Model_C4 Cactus\",\"Model_C4 Picasso\",\"Model_CK\",\"Model_CL Class\",\"Model_CLA\",\"Model_CLC Class\",\"Model_CLK Class\",\"Model_CR-Z\",\"Model_CS35PLUS\",\"Model_CT Series\",\"Model_CX-3\",\"Model_CX-5\",\"Model_CX-7\",\"Model_CX-9\",\"Model_Caddy\",\"Model_Caliber\",\"Model_Camry\",\"Model_Captiva\",\"Model_Captur\",\"Model_Carens\",\"Model_Ceed\",\"Model_Ceed Sw\",\"Model_Cerato\",\"Model_Cherokee\",\"Model_Citan\",\"Model_Citigo\",\"Model_City K-ZE\",\"Model_Clarus\",\"Model_Clio\",\"Model_Clio Symbol\",\"Model_Clio4\",\"Model_Colt\",\"Model_Combo\",\"Model_Commander\",\"Model_Compass\",\"Model_Cooper S\",\"Model_Corolla\",\"Model_Corsa\",\"Model_Corvette\",\"Model_Countryman\",\"Model_Coupe\",\"Model_Courier\",\"Model_Creta\",\"Model_Crosseastar\",\"Model_Crosstrek\",\"Model_Cruze\",\"Model_Cuore\",\"Model_D50\",\"Model_DS3\",\"Model_DS4\",\"Model_DS5\",\"Model_Dakota\",\"Model_Delta\",\"Model_Doblo\",\"Model_Doblo Cargo\",\"Model_Dokker\",\"Model_Dokker VAN\",\"Model_Duster\",\"Model_E Class\",\"Model_Eastar\",\"Model_Eclipse Cross\",\"Model_EcoSport\",\"Model_Elantra\",\"Model_Encore\",\"Model_Envoy\",\"Model_Eos\",\"Model_Es Series\",\"Model_Escape\",\"Model_Espero\",\"Model_Exeo\",\"Model_Express\",\"Model_F3\",\"Model_FSV\",\"Model_Fabia\",\"Model_Fabia RS\",\"Model_Fiesta\",\"Model_Fiesta 3D\",\"Model_Fiesta 5D\",\"Model_Fiorino\",\"Model_Fluence\",\"Model_Focus\",\"Model_Focus Rs\",\"Model_Focus Wagon\",\"Model_Forester\",\"Model_Forfour\",\"Model_Fortwo\",\"Model_Fox\",\"Model_Freelander\",\"Model_Freema\",\"Model_Frontera\",\"Model_Frontier\",\"Model_Fusion\",\"Model_G Series\",\"Model_GLA\",\"Model_GLK Class\",\"Model_GS Series\",\"Model_GW Peri\",\"Model_Getz\",\"Model_Giulietta\",\"Model_Golf\",\"Model_Golf Plus\",\"Model_Grand Caravan\",\"Model_Grand Cherokee\",\"Model_Grand Modus\",\"Model_Grand Scenic\",\"Model_Grand Vitara\",\"Model_Grand Voyager\",\"Model_Grande Punto\",\"Model_Grandland X\",\"Model_Granta\",\"Model_H200\",\"Model_H6\",\"Model_HR-V\",\"Model_Hover\",\"Model_ILX\",\"Model_IS Series\",\"Model_Ibiza\",\"Model_Insight\",\"Model_Insignia\",\"Model_Intrepid\",\"Model_J7\",\"Model_JS4\",\"Model_Jazz\",\"Model_Jetta\",\"Model_Jimny\",\"Model_Joice\",\"Model_Jolion\",\"Model_Journey\",\"Model_Juke\",\"Model_Ka\",\"Model_Kadjar\",\"Model_Kalina\",\"Model_Kangoo\",\"Model_Kappa\",\"Model_Karl\",\"Model_Kicks\",\"Model_Korando\",\"Model_Kuga\",\"Model_Kyron\",\"Model_L Series\",\"Model_LS Series\",\"Model_Leaf\",\"Model_Leon\",\"Model_Lodgy\",\"Model_Logan Van\",\"Model_Lupo\",\"Model_Lybra\",\"Model_M Class\",\"Model_M Series\",\"Model_MDX\",\"Model_MKZ\",\"Model_MPV\",\"Model_MX-5\",\"Model_Magentis\",\"Model_Magnum\",\"Model_Malibu\",\"Model_Materia\",\"Model_Matiz\",\"Model_Matrix\",\"Model_Megane\",\"Model_Meriva\",\"Model_MiTo\",\"Model_Micra\",\"Model_Mirage\",\"Model_Mokka\",\"Model_Mondeo\",\"Model_Musa\",\"Model_NF Sonata\",\"Model_NV200\",\"Model_Navara\",\"Model_Nemo\",\"Model_Neon\",\"Model_New Beetle\",\"Model_Nexia\",\"Model_Niro\",\"Model_Nitro\",\"Model_Note\",\"Model_Octavia\",\"Model_Odyssey\",\"Model_Oka\",\"Model_Opirus\",\"Model_Optima\",\"Model_Orlando\",\"Model_Outlander\",\"Model_Pacifica\",\"Model_Pajero Pinin\",\"Model_Panda\",\"Model_Partner\",\"Model_Passat\",\"Model_Passat CC\",\"Model_Passo\",\"Model_Pathfinder\",\"Model_Patriot\",\"Model_Phaeton\",\"Model_Phedra\",\"Model_Picanto\",\"Model_Pikap\",\"Model_Pixo\",\"Model_Polo\",\"Model_Pregio\",\"Model_Pride\",\"Model_Priora\",\"Model_Prius\",\"Model_Prius +\",\"Model_Prius Prime\",\"Model_Prius c\",\"Model_Prius v\",\"Model_Pro_Cee'd\",\"Model_Proace\",\"Model_Pulsar\",\"Model_Q Series\",\"Model_Q3\",\"Model_QX30\",\"Model_QX50\",\"Model_Qashqai\",\"Model_Qashqai+2\",\"Model_Qq\",\"Model_Quattro\",\"Model_Qubo\",\"Model_R Class\",\"Model_R2\",\"Model_R4\",\"Model_RX-8\",\"Model_Range Rover Evoque\",\"Model_Rapid\",\"Model_Rav 4\",\"Model_Rexton\",\"Model_Rio\",\"Model_Rio X-Line\",\"Model_Rogue\",\"Model_Roomster\",\"Model_S Klass\",\"Model_S-Cross\",\"Model_S-Max\",\"Model_S-Type\",\"Model_S40\",\"Model_S60\",\"Model_S70\",\"Model_S8\",\"Model_S80\",\"Model_SX4\",\"Model_Sandero Stepway\",\"Model_Santamo\",\"Model_Saxo\",\"Model_Scenic\",\"Model_Scirocco\",\"Model_Sebring\",\"Model_Sephia\",\"Model_Series (W123)\",\"Model_Series (W124)\",\"Model_Shuma\",\"Model_Shuttle\",\"Model_Siber\",\"Model_Siecento\",\"Model_Signum\",\"Model_Sirion\",\"Model_Sl Class\",\"Model_Solara\",\"Model_Solaris\",\"Model_Sonata\",\"Model_Sorento\",\"Model_Soul\",\"Model_Space Star\",\"Model_Spark\",\"Model_Spectra\",\"Model_Splash\",\"Model_Sportage\",\"Model_Stonic\",\"Model_Streetwise\",\"Model_Swift\",\"Model_T-Cross\",\"Model_T500\",\"Model_TSX\",\"Model_TT\",\"Model_Terios\",\"Model_Terracan\",\"Model_Thalia\",\"Model_Thesis\",\"Model_Tiggo\",\"Model_Tigra\",\"Model_Tiguan\",\"Model_Tipo\",\"Model_Touran\",\"Model_Tourneo Connect\",\"Model_Town Car\",\"Model_Trajet\",\"Model_Transit Connect\",\"Model_Trax\",\"Model_Trezia\",\"Model_Tribute\",\"Model_Tucson\",\"Model_Urban Cruiser\",\"Model_V40\",\"Model_V50\",\"Model_V60\",\"Model_V70\",\"Model_Vaneo\",\"Model_Venga\",\"Model_Venza\",\"Model_Veracruz\",\"Model_Verso\",\"Model_Verso-S\",\"Model_Vesta\",\"Model_Viano\",\"Model_Vita\",\"Model_Vitara\",\"Model_Vito\",\"Model_Vivaro\",\"Model_Volt\",\"Model_X-Type\",\"Model_X1\",\"Model_X2\",\"Model_X3\",\"Model_XC70\",\"Model_XE\",\"Model_XV\",\"Model_Xf\",\"Model_Yaris\",\"Model_Yaris Verso\",\"Model_Yeti\",\"Model_Ypsilon\",\"Model_ZOE\",\"Model_altele\",\"Model_i10\",\"Model_i20\",\"Model_i3\",\"Model_i30\",\"Model_i40\",\"Model_iA\",\"Model_iQ\",\"Model_ix20\",\"Model_ix35\",\"Model_on-DO\",\"Model_up!\",\"Make_ARO\",\"Make_Acura\",\"Make_Alfa Romeo\",\"Make_Alta marca\",\"Make_Brilliance\",\"Make_Buick\",\"Make_Byd\",\"Make_Changan\",\"Make_Chery\",\"Make_Chevrolet\",\"Make_Chrysler\",\"Make_Citroen\",\"Make_Dacia\",\"Make_Daewoo\",\"Make_Daihatsu\",\"Make_Datsun\",\"Make_Dodge\",\"Make_Faw\",\"Make_Fiat\",\"Make_Ford\",\"Make_Geely\",\"Make_Great Wall\",\"Make_Groz\",\"Make_Haima\",\"Make_Haval\",\"Make_Honda\",\"Make_Hyundai\",\"Make_Isuzu\",\"Make_Jac\",\"Make_Lifan\",\"Make_Mazda\",\"Make_Mercedes-Maybach\",\"Make_Mini\",\"Make_Mitsubishi\",\"Make_Nissan\",\"Make_Opel\",\"Make_Peugeot\",\"Make_Ravon\",\"Make_Renault\",\"Make_Rover\",\"Make_Scion\",\"Make_Seat\",\"Make_Skoda\",\"Make_Smart\",\"Make_Ssangyong\",\"Make_Subaru\",\"Make_Suzuki\",\"Make_Toyota\",\"Make_UAZ\",\"Make_Volkswagen\",\"Make_Zotye\",\"Style_Cabriolet\",\"Style_Combi\",\"Style_Hatchback\",\"Style_Microvan\",\"Style_Minivan\",\"Style_Roadster\",\"Style_Sedan\",\"Style_Universal\",\"Fuel_type_Diesel\",\"Fuel_type_Metan/Propan\",\"Fuel_type_Petrol\",\"distance_type_average\",\"distance_type_high\",\"distance_type_very_high\",\"Make_rarity_rare\",\"Price_cat_average\",\"Year_category_old\"],\"xaxis\":\"x\",\"y\":[-636.9568896821443,-370.78327153609683,-4783.111535887952,-156.4859565176208,-1042.6957044071503,-52.595920495785286,-99.17883578331376,-707.1381386994375,-416.73752293368875,-664.4015867360629,-310.26344208923206,-1555.5791157986257,-4043.261776346141,-184.4982653482978,-959.1680936897303,-235.5647177466003,-2610.5300896976473,-350.8727083152341,-957.5564711903328,-1083.0979458274014,-841.2537193822632,-2827.150143801549,-3369.7683676017723,-2401.0906927229585,-857.0916204932486,-1736.7861437910465,-1408.516836808122,-1409.196167175771,-1197.1720543743354,-3651.5075804428084,-12.666103329660757,-1779.1866433027956,-304.5879336871607,-964.3922912975938,-1664.411739553314,-83.64910941121676,-123.49590393281176,-356.0300384374376,-1716.401593146099,-3167.958830011769,-746.6012172119612,-1873.9127701042105,-685.1847560086038,-430.89031482519937,-764.1806840687705,-305.5691464718079,-1416.0695167559827,-1301.2383731142643,-2261.8455762302547,-610.6600817714233,-4829.490732588567,-2865.540895503604,-1035.1194479925896,-3688.509194975323,-2797.675038063794,-2930.5134744757975,-1582.2112594147402,-836.4043529902978,-1056.7201506909005,-3416.104661028958,-165.00080147771925,-1739.0968216748852,-835.2094373225233,-915.468200589895,-923.6699031998071,-3.6775622817560807,-1809.4605739075157,-1703.316113199517,-867.2872005008973,-1593.6457703302674,-2029.6647760316148,-65.41677351353376,-802.22707509696,-759.9640100021454,-2951.7260508744594,-358.7216829553371,-143.84176392999711,-1438.1934624945088,-2323.2877192169676,-4345.890343301932,-847.3081076828255,-1043.5272588317803,-258.68993813548866,-1397.3368096695826,-177.19187440234097,-899.1581795192177,-488.75692109260905,-1561.0352878970618,-883.0172431892602,-3258.6008539578565,-726.3845068228939,-1988.9451138921931,-538.3453298559003,-2744.148780611447,-1513.2861575807954,-116.37662570006155,-407.3387548725479,-792.4862411561719,-276.80851201051735,-1615.7380895041026,-53.00048129528625,-732.599712220453,-726.7884114210392,-414.8703024348047,-869.7961083047503,-3996.032241967577,-983.731088986535,-1441.7931170723705,-6402.551497840509,-1579.8492023552114,-105.48367726870943,-2278.4780070950587,-1004.6423593073453,-1436.9418919636873,-1461.7500496954412,-359.53034440800025,-912.1859557511431,-2964.0830271154027,-1503.9294289027112,-3648.785127016167,-2516.5058752340556,-2686.1327355362955,-800.7799589115904,-6474.603960511043,-1940.506690379256,-1607.916288297802,-252.7711406109406,-860.7556841754302,-384.62800683876435,-1714.565246847751,-892.4331758578352,-1126.604472020597,-418.12032377992426,-2773.8699641325125,-1111.1851382122572,-36.458485394921006,-1303.6627834168787,-691.2054548062995,-69.82629725110833,-301.9717148267739,-272.1092962507747,-2096.6898437376854,-280.15901920632666,-1586.1975728047184,-2370.5861123348454,-482.5109081388862,-850.1280418654117,-1098.6513434352375,-411.5003030124703,-411.3894041823569,-590.3006711540829,-93.06374118089656,-590.1397500998288,-651.0186547611,-236.23894629846288,-1045.290361523377,-2043.8924204276943,-2464.994635993899,-174.88530298845862,-1487.3940286760649,-1806.2171963000426,-2577.4068088723443,-714.7091168706022,-5.545763938447612,-530.6130169598647,-982.8878034677471,-2683.7514892456848,-586.6764081436248,-128.58920607622736,-166.31628922142676,-1371.3259752918846,-513.0594329133795,-1240.659167050788,-1374.4664194919599,-1677.9699712712277,-584.2813509391601,-1252.678945477879,-731.32589349562,-1788.9322860548468,-2445.2029163829,-27.279080182871336,-814.6826634413096,-405.53200538675264,-562.481887525565,-1378.3388947013239,-1003.684660882753,-5306.733762972447,-470.2634598245146,-216.62960618108323,-477.01096190784295,-2290.7148236769676,-423.1702774718731,-1402.6927721262525,-2294.6808219646955,-2190.424714042981,-313.58754738320204,-1659.806534381262,-1192.3496947489582,-138.65029855124584,-850.5073654733966,-395.21869661757603,-2095.7562148785414,-464.70361474208426,-632.1915966673855,-87.43288365127242,-85.6833400423303,-70.68503864087988,-978.030941512897,-922.583956196906,-297.3451542547357,-141.25547122358662,-1634.3886085034892,-1542.308903598453,-1109.2565418211925,-1910.3291553531024,-1612.8996659304119,-2089.6050257251686,-2047.9203246946859,-106.79503441717205,-186.38568052574752,-581.7938663068289,-1346.6662451449963,-2780.4841903889774,-82.4510893015088,-319.2796979204341,-927.3605993599092,-905.7463836167512,-3529.4091441744745,-721.2083211569624,-1579.0813038158444,-2610.1684565072724,-140.75219442674072,-197.3132348984838,-1005.8045261020668,-1359.797159585041,-818.0882242406636,-1954.4831049783636,-940.5701098404402,-987.6251004821935,-1026.0835818661128,-3083.4474351637305,-733.8642198703558,-139.0732211381241,-171.33618696475716,-501.2010119499159,-458.1603347649514,-1130.4932884959806,-1014.4183057546685,-419.67839055561893,-1031.5852757721373,-65.64194226625173,-344.4478853725759,-627.4612449540714,-68.01820471290517,-442.9032201008028,-195.00209570580822,-1728.4142342216408,-1085.9439255092598,-563.5307620340188,-1459.8641375265424,-1412.6170524607396,-28.732105570188285,-134.6602423483121,-2440.223773187271,-548.0778099036096,-192.97140213591047,-476.12404258641476,-1355.2679727291934,-717.0497097369348,-810.817831450468,-476.4126247992345,-344.0131842641205,-1434.269717442606,-1250.9863445031194,-168.92031451407453,-971.581885124971,-446.59178227711413,-172.32059324235905,-549.2331828663459,-351.118707087364,-2318.178265413687,-1727.170390644781,-2428.204644701666,-656.6190989394198,-9.568962456943023,-1027.810977407932,-30.977117637216306,-16.740672029748293,-2276.737565636581,-393.36567678088034,-100.17562459015518,-1795.253022340283,-179.51608384892782,-162.18094198145795,-3984.0119128988863,-1037.216002482168,-353.13970127121996,-1690.4993811137515,-384.4793403573697,-1052.5975536223548,-2602.6691821070367,-3715.5866413745152,-3000.926169697809,-617.4922095670555,-2953.3304766708593,-3379.533792198952,-1315.2179481539365,-1354.9523619403637,-1756.5606894948876,-405.21517406994843,-1344.3450165623765,-155.199400536743,-487.8033447684681,-2188.928752600329,-2891.7092843716696,-783.8759834044736,-487.7894044021572,-129.14123525933348,-2130.595067264207,-1463.9204300268627,-490.2515632910958,-29.038728031443572,-1214.2100892910407,-3596.3260656348693,-332.4459143758643,-65.23729544013135,-2834.7684479894183,-2184.695636827087,-667.1945554096559,-474.50807097693274,-218.3371949276248,-1863.6320937999103,-513.7147668321933,-1372.3982637883983,-1769.2589414865777,-1139.2367940404051,-233.80882547078107,-485.35760160540735,-1732.0985945161246,-805.3183219259103,-1408.7487251396897,-269.45352084409853,-290.72744267135704,-574.7293185723305,-1754.0755384998515,-1201.5076152318313,-843.5328540060808,-479.90776194186185,-1484.5952497819608,-381.53369940388194,-403.6599995348643,-343.4882118584873,-3.0830747571526222,-197.46611005755517,-5.334075025607598,-436.28421227948024,-258.96325184504707,-1337.41192914636,-1855.53223966962,-810.4993445291394,-2717.997779317107,-447.49141115809505,-1175.0350178006381,-548.1011062747673,-705.9570267809795,-3134.8361725492355,-2078.4412124227056,-14.614108801736203,-2.5252912009805244,-415.5030340031984,-543.7608126101958,-0.653054700307079,-1248.590747264565,-1104.2918054596832,-318.69136616939767,-58.86157022090587,-387.8893343519256,-819.5824413619246,-228.36282510915052,-1870.3254040410823,-1418.882888517109,-1196.0534722968118,-809.1320495433712,-76.10945584400822,-100.371796577147,-1901.4129509853883,-3218.7221127942435,-1925.425521394552,-1151.41887093362,-1410.7018028831092,-2906.612402798964,-1521.6802106242717,-1906.7137851004652,-2775.6345314138853,-3029.045703411416,-3012.7278758242833,-2417.9968622156234,-507.6905686096205,-807.4257013770176,-1498.6637372738762,-3137.510701651966,-593.0391422070117,-2187.9830573050917,-396.50831189154326,-1568.4624955935685,-4089.8749390248995,-310.47885649201953,-3553.1992868910456,-2661.3131121272213,-3490.204689198568,-635.2218657478958,-2718.0517402123396,-581.1952269686337,-433.2408087736171,-848.0773315024527,-1915.9044082448054,-2666.869434437576,-785.584532704494,-3911.046031541352,-1899.7055634978187,-1181.7081657872627,-384.3458319641549,-2736.7009122758905,-3416.540861850787,-1806.6609863088834,-2716.2691809400008,-1891.7910066933819,-779.8832077564396,-1160.9613630580818,-1252.5417509600136,-2899.991269974971,-2039.390965561,-1228.6552052616084,-390.8313805136294,-899.274056102774,-76.39726066972051,-1703.3161131995107,-2169.086180718459,-448.38126612637564,-3444.1564547452317,-1441.793117072363,-2936.2123623748935,-2587.244024008528,-829.7547204142426,-2744.9320915351445,-4103.380359218199,-2772.320123032211,-2396.1505621388083,-2039.390965560997,-152.9902728342238,-396.50831189154326,-2186.4894604760498,-915.9267320971351,-1016.6096426330754,-2639.3563394034254,-403.6599995348643,-621.7549748065143,-48.03119328708218,-1180.3210630015126,-45.544078493326204,-1516.6759643395546,-768.1795468325746,-3027.1892145548427,-430.30591673206266,-218.33719492762404,-1818.857103864319,-1032.0019509071062,-1520.1787929410407,-572.83495846714,-1779.2091602699159,-1954.1719933179543,-2374.980681082806,-1312.90309353682,-779.8832077564391,-1555.8350089383412,-1408.8106043888079,-1880.874920443238,-2084.4708182944573,-1998.7794725300853,-2674.953504807818,-265.59705542876907,-476.4089650796389,-390.84208946255654,-543.7608126101953,-289.4149428386436,-1063.0375521515657,-702.4452518334496,-853.5768958079079,-791.5120776568809,-1459.9214226125746,-487.15893896201186,-1097.696805287883,-667.4160980949351,-1220.9041808249967,-818.4209966338875,-101.06514560219107,-623.1117766535416,-535.8170802292692,-236.36583959510236,-1695.5381368349852,-1092.1049500449983],\"yaxis\":\"y\",\"type\":\"bar\"}],                        {\"template\":{\"data\":{\"histogram2dcontour\":[{\"type\":\"histogram2dcontour\",\"colorbar\":{\"outlinewidth\":0,\"ticks\":\"\"},\"colorscale\":[[0.0,\"#0d0887\"],[0.1111111111111111,\"#46039f\"],[0.2222222222222222,\"#7201a8\"],[0.3333333333333333,\"#9c179e\"],[0.4444444444444444,\"#bd3786\"],[0.5555555555555556,\"#d8576b\"],[0.6666666666666666,\"#ed7953\"],[0.7777777777777778,\"#fb9f3a\"],[0.8888888888888888,\"#fdca26\"],[1.0,\"#f0f921\"]]}],\"choropleth\":[{\"type\":\"choropleth\",\"colorbar\":{\"outlinewidth\":0,\"ticks\":\"\"}}],\"histogram2d\":[{\"type\":\"histogram2d\",\"colorbar\":{\"outlinewidth\":0,\"ticks\":\"\"},\"colorscale\":[[0.0,\"#0d0887\"],[0.1111111111111111,\"#46039f\"],[0.2222222222222222,\"#7201a8\"],[0.3333333333333333,\"#9c179e\"],[0.4444444444444444,\"#bd3786\"],[0.5555555555555556,\"#d8576b\"],[0.6666666666666666,\"#ed7953\"],[0.7777777777777778,\"#fb9f3a\"],[0.8888888888888888,\"#fdca26\"],[1.0,\"#f0f921\"]]}],\"heatmap\":[{\"type\":\"heatmap\",\"colorbar\":{\"outlinewidth\":0,\"ticks\":\"\"},\"colorscale\":[[0.0,\"#0d0887\"],[0.1111111111111111,\"#46039f\"],[0.2222222222222222,\"#7201a8\"],[0.3333333333333333,\"#9c179e\"],[0.4444444444444444,\"#bd3786\"],[0.5555555555555556,\"#d8576b\"],[0.6666666666666666,\"#ed7953\"],[0.7777777777777778,\"#fb9f3a\"],[0.8888888888888888,\"#fdca26\"],[1.0,\"#f0f921\"]]}],\"heatmapgl\":[{\"type\":\"heatmapgl\",\"colorbar\":{\"outlinewidth\":0,\"ticks\":\"\"},\"colorscale\":[[0.0,\"#0d0887\"],[0.1111111111111111,\"#46039f\"],[0.2222222222222222,\"#7201a8\"],[0.3333333333333333,\"#9c179e\"],[0.4444444444444444,\"#bd3786\"],[0.5555555555555556,\"#d8576b\"],[0.6666666666666666,\"#ed7953\"],[0.7777777777777778,\"#fb9f3a\"],[0.8888888888888888,\"#fdca26\"],[1.0,\"#f0f921\"]]}],\"contourcarpet\":[{\"type\":\"contourcarpet\",\"colorbar\":{\"outlinewidth\":0,\"ticks\":\"\"}}],\"contour\":[{\"type\":\"contour\",\"colorbar\":{\"outlinewidth\":0,\"ticks\":\"\"},\"colorscale\":[[0.0,\"#0d0887\"],[0.1111111111111111,\"#46039f\"],[0.2222222222222222,\"#7201a8\"],[0.3333333333333333,\"#9c179e\"],[0.4444444444444444,\"#bd3786\"],[0.5555555555555556,\"#d8576b\"],[0.6666666666666666,\"#ed7953\"],[0.7777777777777778,\"#fb9f3a\"],[0.8888888888888888,\"#fdca26\"],[1.0,\"#f0f921\"]]}],\"surface\":[{\"type\":\"surface\",\"colorbar\":{\"outlinewidth\":0,\"ticks\":\"\"},\"colorscale\":[[0.0,\"#0d0887\"],[0.1111111111111111,\"#46039f\"],[0.2222222222222222,\"#7201a8\"],[0.3333333333333333,\"#9c179e\"],[0.4444444444444444,\"#bd3786\"],[0.5555555555555556,\"#d8576b\"],[0.6666666666666666,\"#ed7953\"],[0.7777777777777778,\"#fb9f3a\"],[0.8888888888888888,\"#fdca26\"],[1.0,\"#f0f921\"]]}],\"mesh3d\":[{\"type\":\"mesh3d\",\"colorbar\":{\"outlinewidth\":0,\"ticks\":\"\"}}],\"scatter\":[{\"fillpattern\":{\"fillmode\":\"overlay\",\"size\":10,\"solidity\":0.2},\"type\":\"scatter\"}],\"parcoords\":[{\"type\":\"parcoords\",\"line\":{\"colorbar\":{\"outlinewidth\":0,\"ticks\":\"\"}}}],\"scatterpolargl\":[{\"type\":\"scatterpolargl\",\"marker\":{\"colorbar\":{\"outlinewidth\":0,\"ticks\":\"\"}}}],\"bar\":[{\"error_x\":{\"color\":\"#2a3f5f\"},\"error_y\":{\"color\":\"#2a3f5f\"},\"marker\":{\"line\":{\"color\":\"#E5ECF6\",\"width\":0.5},\"pattern\":{\"fillmode\":\"overlay\",\"size\":10,\"solidity\":0.2}},\"type\":\"bar\"}],\"scattergeo\":[{\"type\":\"scattergeo\",\"marker\":{\"colorbar\":{\"outlinewidth\":0,\"ticks\":\"\"}}}],\"scatterpolar\":[{\"type\":\"scatterpolar\",\"marker\":{\"colorbar\":{\"outlinewidth\":0,\"ticks\":\"\"}}}],\"histogram\":[{\"marker\":{\"pattern\":{\"fillmode\":\"overlay\",\"size\":10,\"solidity\":0.2}},\"type\":\"histogram\"}],\"scattergl\":[{\"type\":\"scattergl\",\"marker\":{\"colorbar\":{\"outlinewidth\":0,\"ticks\":\"\"}}}],\"scatter3d\":[{\"type\":\"scatter3d\",\"line\":{\"colorbar\":{\"outlinewidth\":0,\"ticks\":\"\"}},\"marker\":{\"colorbar\":{\"outlinewidth\":0,\"ticks\":\"\"}}}],\"scattermapbox\":[{\"type\":\"scattermapbox\",\"marker\":{\"colorbar\":{\"outlinewidth\":0,\"ticks\":\"\"}}}],\"scatterternary\":[{\"type\":\"scatterternary\",\"marker\":{\"colorbar\":{\"outlinewidth\":0,\"ticks\":\"\"}}}],\"scattercarpet\":[{\"type\":\"scattercarpet\",\"marker\":{\"colorbar\":{\"outlinewidth\":0,\"ticks\":\"\"}}}],\"carpet\":[{\"aaxis\":{\"endlinecolor\":\"#2a3f5f\",\"gridcolor\":\"white\",\"linecolor\":\"white\",\"minorgridcolor\":\"white\",\"startlinecolor\":\"#2a3f5f\"},\"baxis\":{\"endlinecolor\":\"#2a3f5f\",\"gridcolor\":\"white\",\"linecolor\":\"white\",\"minorgridcolor\":\"white\",\"startlinecolor\":\"#2a3f5f\"},\"type\":\"carpet\"}],\"table\":[{\"cells\":{\"fill\":{\"color\":\"#EBF0F8\"},\"line\":{\"color\":\"white\"}},\"header\":{\"fill\":{\"color\":\"#C8D4E3\"},\"line\":{\"color\":\"white\"}},\"type\":\"table\"}],\"barpolar\":[{\"marker\":{\"line\":{\"color\":\"#E5ECF6\",\"width\":0.5},\"pattern\":{\"fillmode\":\"overlay\",\"size\":10,\"solidity\":0.2}},\"type\":\"barpolar\"}],\"pie\":[{\"automargin\":true,\"type\":\"pie\"}]},\"layout\":{\"autotypenumbers\":\"strict\",\"colorway\":[\"#636efa\",\"#EF553B\",\"#00cc96\",\"#ab63fa\",\"#FFA15A\",\"#19d3f3\",\"#FF6692\",\"#B6E880\",\"#FF97FF\",\"#FECB52\"],\"font\":{\"color\":\"#2a3f5f\"},\"hovermode\":\"closest\",\"hoverlabel\":{\"align\":\"left\"},\"paper_bgcolor\":\"white\",\"plot_bgcolor\":\"#E5ECF6\",\"polar\":{\"bgcolor\":\"#E5ECF6\",\"angularaxis\":{\"gridcolor\":\"white\",\"linecolor\":\"white\",\"ticks\":\"\"},\"radialaxis\":{\"gridcolor\":\"white\",\"linecolor\":\"white\",\"ticks\":\"\"}},\"ternary\":{\"bgcolor\":\"#E5ECF6\",\"aaxis\":{\"gridcolor\":\"white\",\"linecolor\":\"white\",\"ticks\":\"\"},\"baxis\":{\"gridcolor\":\"white\",\"linecolor\":\"white\",\"ticks\":\"\"},\"caxis\":{\"gridcolor\":\"white\",\"linecolor\":\"white\",\"ticks\":\"\"}},\"coloraxis\":{\"colorbar\":{\"outlinewidth\":0,\"ticks\":\"\"}},\"colorscale\":{\"sequential\":[[0.0,\"#0d0887\"],[0.1111111111111111,\"#46039f\"],[0.2222222222222222,\"#7201a8\"],[0.3333333333333333,\"#9c179e\"],[0.4444444444444444,\"#bd3786\"],[0.5555555555555556,\"#d8576b\"],[0.6666666666666666,\"#ed7953\"],[0.7777777777777778,\"#fb9f3a\"],[0.8888888888888888,\"#fdca26\"],[1.0,\"#f0f921\"]],\"sequentialminus\":[[0.0,\"#0d0887\"],[0.1111111111111111,\"#46039f\"],[0.2222222222222222,\"#7201a8\"],[0.3333333333333333,\"#9c179e\"],[0.4444444444444444,\"#bd3786\"],[0.5555555555555556,\"#d8576b\"],[0.6666666666666666,\"#ed7953\"],[0.7777777777777778,\"#fb9f3a\"],[0.8888888888888888,\"#fdca26\"],[1.0,\"#f0f921\"]],\"diverging\":[[0,\"#8e0152\"],[0.1,\"#c51b7d\"],[0.2,\"#de77ae\"],[0.3,\"#f1b6da\"],[0.4,\"#fde0ef\"],[0.5,\"#f7f7f7\"],[0.6,\"#e6f5d0\"],[0.7,\"#b8e186\"],[0.8,\"#7fbc41\"],[0.9,\"#4d9221\"],[1,\"#276419\"]]},\"xaxis\":{\"gridcolor\":\"white\",\"linecolor\":\"white\",\"ticks\":\"\",\"title\":{\"standoff\":15},\"zerolinecolor\":\"white\",\"automargin\":true,\"zerolinewidth\":2},\"yaxis\":{\"gridcolor\":\"white\",\"linecolor\":\"white\",\"ticks\":\"\",\"title\":{\"standoff\":15},\"zerolinecolor\":\"white\",\"automargin\":true,\"zerolinewidth\":2},\"scene\":{\"xaxis\":{\"backgroundcolor\":\"#E5ECF6\",\"gridcolor\":\"white\",\"linecolor\":\"white\",\"showbackground\":true,\"ticks\":\"\",\"zerolinecolor\":\"white\",\"gridwidth\":2},\"yaxis\":{\"backgroundcolor\":\"#E5ECF6\",\"gridcolor\":\"white\",\"linecolor\":\"white\",\"showbackground\":true,\"ticks\":\"\",\"zerolinecolor\":\"white\",\"gridwidth\":2},\"zaxis\":{\"backgroundcolor\":\"#E5ECF6\",\"gridcolor\":\"white\",\"linecolor\":\"white\",\"showbackground\":true,\"ticks\":\"\",\"zerolinecolor\":\"white\",\"gridwidth\":2}},\"shapedefaults\":{\"line\":{\"color\":\"#2a3f5f\"}},\"annotationdefaults\":{\"arrowcolor\":\"#2a3f5f\",\"arrowhead\":0,\"arrowwidth\":1},\"geo\":{\"bgcolor\":\"white\",\"landcolor\":\"#E5ECF6\",\"subunitcolor\":\"white\",\"showland\":true,\"showlakes\":true,\"lakecolor\":\"white\"},\"title\":{\"x\":0.05},\"mapbox\":{\"style\":\"light\"}}},\"xaxis\":{\"anchor\":\"y\",\"domain\":[0.0,1.0],\"title\":{\"text\":\"x\"},\"categoryorder\":\"array\",\"categoryarray\":[\"Year\",\"Distance\",\"Engine_capacity(cm3)\",\"year_distance\",\"Transmission_Automatic\",\"Transmission_Manual\",\"Model_1 Series\",\"Model_100\",\"Model_1007\",\"Model_106\",\"Model_107\",\"Model_108\",\"Model_1102 Tavria\",\"Model_121\",\"Model_145\",\"Model_147\",\"Model_156\",\"Model_159\",\"Model_166\",\"Model_19\",\"Model_190\",\"Model_2\",\"Model_2 Series\",\"Model_200\",\"Model_200 Series\",\"Model_2008\",\"Model_205\",\"Model_206\",\"Model_207\",\"Model_208\",\"Model_21\",\"Model_2101\",\"Model_2102\",\"Model_2103\",\"Model_2104\",\"Model_2105\",\"Model_2106\",\"Model_2107\",\"Model_2108\",\"Model_2109\",\"Model_21099\",\"Model_2110\",\"Model_2111\",\"Model_2112\",\"Model_2113\",\"Model_2114\",\"Model_2115\",\"Model_2121niva\",\"Model_2123 Chevrolet\",\"Model_2125\",\"Model_2129 Niva Long\",\"Model_2140\",\"Model_2141\",\"Model_2410\",\"Model_25\",\"Model_3\",\"Model_3 GT\",\"Model_3 Series\",\"Model_3008\",\"Model_300c\",\"Model_300m\",\"Model_301\",\"Model_306\",\"Model_307\",\"Model_308\",\"Model_309\",\"Model_31029\",\"Model_3110\",\"Model_323\",\"Model_4 series\",\"Model_4-Runner\",\"Model_400 Series\",\"Model_4007\",\"Model_405\",\"Model_406\",\"Model_407\",\"Model_408\",\"Model_45\",\"Model_469\",\"Model_5\",\"Model_5 GT\",\"Model_5 Series\",\"Model_500\",\"Model_5008\",\"Model_500L\",\"Model_500X\",\"Model_508\",\"Model_6\",\"Model_6 Series\",\"Model_600 Series\",\"Model_605\",\"Model_607\",\"Model_620\",\"Model_626\",\"Model_7 Series\",\"Model_700 Series\",\"Model_75\",\"Model_80\",\"Model_800 Series\",\"Model_806\",\"Model_807\",\"Model_9-3\",\"Model_9-5\",\"Model_90\",\"Model_900 Series\",\"Model_9000\",\"Model_911\",\"Model_924\",\"Model_929\",\"Model_968\",\"Model_969\",\"Model_A Class\",\"Model_A1\",\"Model_A2\",\"Model_A3\",\"Model_A3 e-tron\",\"Model_A4\",\"Model_A5\",\"Model_A6\",\"Model_A7\",\"Model_A8\",\"Model_AMG GT\",\"Model_ASX\",\"Model_ATS\",\"Model_Accent\",\"Model_Accord\",\"Model_Actyon\",\"Model_Adam\",\"Model_Aerostar\",\"Model_Agila\",\"Model_Albea\",\"Model_Alfasud\",\"Model_Alhambra\",\"Model_Allroad\",\"Model_Almera\",\"Model_Almera Tino\",\"Model_Alt model\",\"Model_Altea\",\"Model_Altea XL\",\"Model_Altele\",\"Model_Altima\",\"Model_Alto\",\"Model_Amarok\",\"Model_Ampera\",\"Model_Antara\",\"Model_Applouse\",\"Model_Arosa\",\"Model_Arteon\",\"Model_Ascona\",\"Model_Astra\",\"Model_Atos\",\"Model_Auris\",\"Model_Avalon\",\"Model_Avante\",\"Model_Avenger\",\"Model_Avensis\",\"Model_Avensis Verso\",\"Model_Aveo\",\"Model_Ax\",\"Model_Aygo\",\"Model_Azera\",\"Model_B Class\",\"Model_B-Max\",\"Model_B9 Tribeca\",\"Model_BRZ\",\"Model_BS3\",\"Model_BS6\",\"Model_BX\",\"Model_Baleno\",\"Model_Beetle\",\"Model_Berlingo\",\"Model_Bipper\",\"Model_Blazer\",\"Model_Bls\",\"Model_Bluebird\",\"Model_Bolt\",\"Model_Bora\",\"Model_Boxster\",\"Model_Brava\",\"Model_Bravo\",\"Model_Breez\",\"Model_C Class\",\"Model_C-Class Coupe\",\"Model_C-Crosser\",\"Model_C-Elysee\",\"Model_C-HR\",\"Model_C-Max\",\"Model_C1\",\"Model_C2\",\"Model_C3\",\"Model_C3 Picasso\",\"Model_C30\",\"Model_C4\",\"Model_C4 Cactus\",\"Model_C4 Picasso\",\"Model_C5\",\"Model_C70\",\"Model_C8\",\"Model_CK\",\"Model_CL Class\",\"Model_CLA\",\"Model_CLC Class\",\"Model_CLK Class\",\"Model_CLS Class\",\"Model_CR-V\",\"Model_CR-Z\",\"Model_CS35PLUS\",\"Model_CT Series\",\"Model_CTS\",\"Model_CX\",\"Model_CX-3\",\"Model_CX-30\",\"Model_CX-5\",\"Model_CX-7\",\"Model_CX-9\",\"Model_Caddy\",\"Model_Caliber\",\"Model_Calibra\",\"Model_Camaro\",\"Model_Camry\",\"Model_Captiva\",\"Model_Captur\",\"Model_Caravan\",\"Model_Caravelle\",\"Model_Carens\",\"Model_Carina\",\"Model_Carisma\",\"Model_Carnival\",\"Model_Cayenne\",\"Model_Cayman\",\"Model_Ceed\",\"Model_Ceed Sw\",\"Model_Celica\",\"Model_Cerato\",\"Model_Challenger\",\"Model_Charger\",\"Model_Cherokee\",\"Model_Cherry\",\"Model_Chery Van\",\"Model_Citan\",\"Model_Citigo\",\"Model_City K-ZE\",\"Model_Civic\",\"Model_Civic Hibrid\",\"Model_Clarity\",\"Model_Clarus\",\"Model_Clio\",\"Model_Clio Symbol\",\"Model_Clio4\",\"Model_Clubman\",\"Model_Colt\",\"Model_Combo\",\"Model_Commander\",\"Model_Compass\",\"Model_Concerto\",\"Model_Cooper\",\"Model_Cooper S\",\"Model_Cordoba\",\"Model_Corolla\",\"Model_Corolla Verso\",\"Model_Corsa\",\"Model_Corvette\",\"Model_Countryman\",\"Model_Coupe\",\"Model_Courier\",\"Model_Creta\",\"Model_Crosseastar\",\"Model_Crosstrek\",\"Model_Crown\",\"Model_Cruze\",\"Model_Cuore\",\"Model_D20\",\"Model_D50\",\"Model_DS3\",\"Model_DS4\",\"Model_DS5\",\"Model_Dakota\",\"Model_Damas\",\"Model_Dedra\",\"Model_Defender\",\"Model_Delta\",\"Model_Discovery\",\"Model_Discovery Sport\",\"Model_Doblo\",\"Model_Doblo Cargo\",\"Model_Doblo Panorama\",\"Model_Dokker\",\"Model_Dokker VAN\",\"Model_Durango\",\"Model_Duster\",\"Model_E Class\",\"Model_E-Class Coupe\",\"Model_E-Pace\",\"Model_EU5\",\"Model_Eastar\",\"Model_Eclipse\",\"Model_Eclipse Cross\",\"Model_EcoSport\",\"Model_Edge\",\"Model_Elantra\",\"Model_Encore\",\"Model_Envision\",\"Model_Envoy\",\"Model_Eos\",\"Model_Epica\",\"Model_Equinox\",\"Model_Equus\",\"Model_Es Series\",\"Model_Escape\",\"Model_Escort\",\"Model_Espace\",\"Model_Espero\",\"Model_Evanda\",\"Model_Exeo\",\"Model_Expedition\",\"Model_Expert\",\"Model_Explorer\",\"Model_Express\",\"Model_F-150\",\"Model_F-250\",\"Model_F-PACE\",\"Model_F-Type\",\"Model_F3\",\"Model_F6\",\"Model_FR-V\",\"Model_FSV\",\"Model_FX\",\"Model_Fabia\",\"Model_Fabia RS\",\"Model_Favorit\",\"Model_Felicia\",\"Model_Fiesta\",\"Model_Fiesta 3D\",\"Model_Fiesta 5D\",\"Model_Fiorino\",\"Model_Fluence\",\"Model_Focus\",\"Model_Focus Rs\",\"Model_Focus Wagon\",\"Model_Forester\",\"Model_Forfour\",\"Model_Fortuner\",\"Model_Fortwo\",\"Model_Fox\",\"Model_Freelander\",\"Model_Freema\",\"Model_Frontera\",\"Model_Frontier\",\"Model_Fullback\",\"Model_Fusion\",\"Model_G Class\",\"Model_G Series\",\"Model_G3\",\"Model_GL Class\",\"Model_GLA\",\"Model_GLC\",\"Model_GLC Coupe\",\"Model_GLE\",\"Model_GLE Coupe\",\"Model_GLK Class\",\"Model_GLS Klass\",\"Model_GS Series\",\"Model_GT86\",\"Model_GW Peri\",\"Model_GX Series\",\"Model_Galant\",\"Model_Galaxy\",\"Model_Galloper\",\"Model_Genesis\",\"Model_Getz\",\"Model_Ghibli II\",\"Model_Giulia\",\"Model_Giulietta\",\"Model_Gol\",\"Model_Golf\",\"Model_Golf Plus\",\"Model_Granada\",\"Model_Grand - Am\",\"Model_Grand Caravan\",\"Model_Grand Cherokee\",\"Model_Grand Espace\",\"Model_Grand Modus\",\"Model_Grand Scenic\",\"Model_Grand Vitara\",\"Model_Grand Voyager\",\"Model_Grande Punto\",\"Model_Grande Punto 5D\",\"Model_Grandeur\",\"Model_Grandis\",\"Model_Grandland X\",\"Model_Granta\",\"Model_Gt\",\"Model_H-1 Truck\",\"Model_H2\",\"Model_H200\",\"Model_H3\",\"Model_H6\",\"Model_H9\",\"Model_HHR\",\"Model_HR-V\",\"Model_Hiace\",\"Model_Highlander\",\"Model_Hilux\",\"Model_Hover\",\"Model_Hunter\",\"Model_ILX\",\"Model_IONIQ\",\"Model_IS Series\",\"Model_Ibiza\",\"Model_Ignis\",\"Model_Impala\",\"Model_Impreza\",\"Model_Inca\",\"Model_Insight\",\"Model_Insignia\",\"Model_Intrepid\",\"Model_J7\",\"Model_JS4\",\"Model_Jazz\",\"Model_Jetta\",\"Model_Jimny\",\"Model_Joice\",\"Model_Jolion\",\"Model_Journey\",\"Model_Juke\",\"Model_Jumpy\",\"Model_Justy\",\"Model_Ka\",\"Model_Kadett\",\"Model_Kadjar\",\"Model_Kalina\",\"Model_Kalos\",\"Model_Kangoo\",\"Model_Kappa\",\"Model_Karl\",\"Model_Karoq\",\"Model_Kicks\",\"Model_Kodiaq\",\"Model_Koleos\",\"Model_Kona\",\"Model_Korando\",\"Model_Kuga\",\"Model_Kyron\",\"Model_L\",\"Model_L Series\",\"Model_LS Series\",\"Model_LX Series\",\"Model_Lacetti\",\"Model_Laguna\",\"Model_Lancer\",\"Model_Land Cruiser\",\"Model_Land Cruiser Prado\",\"Model_Lanos\",\"Model_Lantra\",\"Model_Largus\",\"Model_Leaf\",\"Model_Legacy\",\"Model_Leon\",\"Model_Liana\",\"Model_Lodgy\",\"Model_Logan\",\"Model_Logan Mcv\",\"Model_Logan Van\",\"Model_Logo\",\"Model_Lumina\",\"Model_Lupo\",\"Model_Lybra\",\"Model_M Class\",\"Model_M Models\",\"Model_M Series\",\"Model_MDX\",\"Model_MKC\",\"Model_MKZ\",\"Model_MPV\",\"Model_MX-30\",\"Model_MX-5\",\"Model_MX-6\",\"Model_Macan\",\"Model_Magentis\",\"Model_Magnum\",\"Model_Malibu\",\"Model_Marea\",\"Model_Materia\",\"Model_Matiz\",\"Model_Matrix\",\"Model_Maverick\",\"Model_Maxima\",\"Model_Megane\",\"Model_Meriva\",\"Model_MiTo\",\"Model_Micra\",\"Model_Mirage\",\"Model_Model 3\",\"Model_Model S\",\"Model_Modus\",\"Model_Mokka\",\"Model_Mondeo\",\"Model_Monterey\",\"Model_Montero Sport\",\"Model_Multipla\",\"Model_Multivan\",\"Model_Murano\",\"Model_Musa\",\"Model_Musso\",\"Model_Mustang\",\"Model_NF Sonata\",\"Model_NV200\",\"Model_NV400\",\"Model_NX Series\",\"Model_Navara\",\"Model_Navigator\",\"Model_Nemo\",\"Model_Neon\",\"Model_New Beetle\",\"Model_Nexia\",\"Model_Niro\",\"Model_Nitro\",\"Model_Niva\",\"Model_Note\",\"Model_Nubira\",\"Model_Octavia\",\"Model_Octavia RS\",\"Model_Odyssey\",\"Model_Oka\",\"Model_Omega\",\"Model_One\",\"Model_Opirus\",\"Model_Optima\",\"Model_Orion\",\"Model_Orlando\",\"Model_Outback\",\"Model_Outlander\",\"Model_PT Cruiser\",\"Model_Pacifica\",\"Model_Pajero\",\"Model_Pajero Pinin\",\"Model_Pajero Sport\",\"Model_Palio\",\"Model_Panamera\",\"Model_Panda\",\"Model_Partner\",\"Model_Passat\",\"Model_Passat CC\",\"Model_Passo\",\"Model_Pathfinder\",\"Model_Patriot\",\"Model_Patrol\",\"Model_Phaeton\",\"Model_Phedra\",\"Model_Picanto\",\"Model_Picnic\",\"Model_Pikap\",\"Model_Pixo\",\"Model_Poer\",\"Model_Polo\",\"Model_Pony\",\"Model_Prairie\",\"Model_Pregio\",\"Model_Prelude\",\"Model_Premacy\",\"Model_Previa\",\"Model_Pride\",\"Model_Primastar\",\"Model_Primera\",\"Model_Priora\",\"Model_Prisma\",\"Model_Prius\",\"Model_Prius +\",\"Model_Prius Prime\",\"Model_Prius c\",\"Model_Prius v\",\"Model_Pro_Cee'd\",\"Model_Proace\",\"Model_Probe\",\"Model_Pulsar\",\"Model_Puma\",\"Model_Punto\",\"Model_Q Series\",\"Model_Q3\",\"Model_Q5\",\"Model_Q7\",\"Model_Q8\",\"Model_QX Series\",\"Model_QX30\",\"Model_QX50\",\"Model_QX60\",\"Model_QX70\",\"Model_Qashqai\",\"Model_Qashqai+2\",\"Model_Qq\",\"Model_Quattro\",\"Model_Qubo\",\"Model_Quest\",\"Model_R Class\",\"Model_R2\",\"Model_R4\",\"Model_RC Series\",\"Model_RDX\",\"Model_RX Series\",\"Model_RX-8\",\"Model_Ram\",\"Model_Range Rover\",\"Model_Range Rover Evoque\",\"Model_Range Rover Sport\",\"Model_Range Rover Velar\",\"Model_Ranger\",\"Model_Rapid\",\"Model_Rav 4\",\"Model_Rekord\",\"Model_Renegade\",\"Model_Rexton\",\"Model_Rezzo\",\"Model_Rio\",\"Model_Rio X-Line\",\"Model_Ritmo\",\"Model_Roadster\",\"Model_Rodius\",\"Model_Rogue\",\"Model_Roomster\",\"Model_S Class\",\"Model_S Klass\",\"Model_S-Coupe\",\"Model_S-Cross\",\"Model_S-Max\",\"Model_S-Type\",\"Model_S3\",\"Model_S4\",\"Model_S40\",\"Model_S5\",\"Model_S60\",\"Model_S70\",\"Model_S8\",\"Model_S80\",\"Model_S90\",\"Model_SC Series\",\"Model_SLK Class\",\"Model_SX4\",\"Model_Safrane\",\"Model_Samurai\",\"Model_Sandero\",\"Model_Sandero Stepway\",\"Model_Santa FE\",\"Model_Santamo\",\"Model_Saratoga\",\"Model_Saxo\",\"Model_Scala\",\"Model_Scenic\",\"Model_Scirocco\",\"Model_Scorpio\",\"Model_Scudo\",\"Model_Sebring\",\"Model_Seltos\",\"Model_Sentra\",\"Model_Sephia\",\"Model_Serena\",\"Model_Series (W123)\",\"Model_Series (W124)\",\"Model_Sharan\",\"Model_Shuma\",\"Model_Shuttle\",\"Model_Siber\",\"Model_Siecento\",\"Model_Sienna\",\"Model_Sierra\",\"Model_Sigma\",\"Model_Signum\",\"Model_Sintra\",\"Model_Sirion\",\"Model_Sl Class\",\"Model_Solara\",\"Model_Solaris\",\"Model_Sonata\",\"Model_Sorento\",\"Model_Soul\",\"Model_Space Runner\",\"Model_Space Star\",\"Model_Space Wagon\",\"Model_Spark\",\"Model_Spectra\",\"Model_Splash\",\"Model_Sportage\",\"Model_Starlet\",\"Model_Stelvio\",\"Model_Stilo\",\"Model_Stinger\",\"Model_Stonic\",\"Model_Stratus\",\"Model_Stream\",\"Model_Streetwise\",\"Model_Sunny\",\"Model_Superb\",\"Model_Swift\",\"Model_T-Cross\",\"Model_T500\",\"Model_TSX\",\"Model_TT\",\"Model_Tacoma\",\"Model_Tacuma\",\"Model_Talisman\",\"Model_Taurus\",\"Model_Terios\",\"Model_Terracan\",\"Model_Terrain\",\"Model_Terrano\",\"Model_Thalia\",\"Model_Thema\",\"Model_Thesis\",\"Model_Tiggo\",\"Model_Tigra\",\"Model_Tiguan\",\"Model_Tiida\",\"Model_Tipo\",\"Model_Toledo\",\"Model_Touareg\",\"Model_Touran\",\"Model_Tourneo Connect\",\"Model_Town Car\",\"Model_Town&Country\",\"Model_Tracer\",\"Model_Trafic\",\"Model_Trailblaizer\",\"Model_Trajet\",\"Model_Transit Connect\",\"Model_Transporter\",\"Model_Trax\",\"Model_Trezia\",\"Model_Tribute\",\"Model_Trooper\",\"Model_Tucson\",\"Model_Twingo\",\"Model_UX\",\"Model_Urban Cruiser\",\"Model_V Class\",\"Model_V40\",\"Model_V50\",\"Model_V60\",\"Model_V70\",\"Model_V90\",\"Model_Vaneo\",\"Model_Vanette\",\"Model_Vectra\",\"Model_Vel Satis\",\"Model_Veloster\",\"Model_Venga\",\"Model_Vento\",\"Model_Venza\",\"Model_Veracruz\",\"Model_Verso\",\"Model_Verso-S\",\"Model_Vesta\",\"Model_Viano\",\"Model_Vita\",\"Model_Vitara\",\"Model_Vito\",\"Model_Vivaro\",\"Model_Volt\",\"Model_Voyager\",\"Model_WRX\",\"Model_WRX STI\",\"Model_Wagon R+\",\"Model_Wrangler\",\"Model_X Class\",\"Model_X-Trail\",\"Model_X-Type\",\"Model_X1\",\"Model_X2\",\"Model_X3\",\"Model_X4\",\"Model_X5\",\"Model_X6\",\"Model_X7\",\"Model_XC40\",\"Model_XC60\",\"Model_XC70\",\"Model_XC90\",\"Model_XE\",\"Model_XJ\",\"Model_XV\",\"Model_Xedos\",\"Model_Xf\",\"Model_Xsara\",\"Model_Xsara Picasso\",\"Model_Xterra\",\"Model_YRV\",\"Model_Yaris\",\"Model_Yaris Verso\",\"Model_Yeti\",\"Model_Ypsilon\",\"Model_Z Series\",\"Model_ZOE\",\"Model_Zafira\",\"Model_altele\",\"Model_e-tron\",\"Model_i10\",\"Model_i20\",\"Model_i3\",\"Model_i30\",\"Model_i40\",\"Model_i8\",\"Model_iA\",\"Model_iM\",\"Model_iQ\",\"Model_ix20\",\"Model_ix35\",\"Model_on-DO\",\"Model_up!\",\"Model_xA\",\"Make_ARO\",\"Make_Abarth\",\"Make_Acura\",\"Make_Alfa Romeo\",\"Make_Alta marca\",\"Make_Audi\",\"Make_BAIC\",\"Make_BMW\",\"Make_Brilliance\",\"Make_Buick\",\"Make_Byd\",\"Make_Cadillac\",\"Make_Changan\",\"Make_Chery\",\"Make_Chevrolet\",\"Make_Chrysler\",\"Make_Citroen\",\"Make_Dacia\",\"Make_Daewoo\",\"Make_Daihatsu\",\"Make_Datsun\",\"Make_Dodge\",\"Make_Faw\",\"Make_Fiat\",\"Make_Ford\",\"Make_GAZ\",\"Make_GMC\",\"Make_Geely\",\"Make_Great Wall\",\"Make_Groz\",\"Make_Haima\",\"Make_Haval\",\"Make_Honda\",\"Make_Hummer\",\"Make_Hyundai\",\"Make_Infiniti\",\"Make_Isuzu\",\"Make_Jac\",\"Make_Jaguar\",\"Make_Jeep\",\"Make_KIA\",\"Make_Lada\",\"Make_Lancia\",\"Make_Land Rover\",\"Make_Lexus\",\"Make_Lifan\",\"Make_Lincoln\",\"Make_LuAZ\",\"Make_Maserati\",\"Make_Mazda\",\"Make_Mercedes\",\"Make_Mercedes-Maybach\",\"Make_Mini\",\"Make_Mitsubishi\",\"Make_Moskvich / Izh\",\"Make_Nissan\",\"Make_Opel\",\"Make_Peugeot\",\"Make_Pontiac\",\"Make_Porsche\",\"Make_Ravon\",\"Make_Renault\",\"Make_Rover\",\"Make_Saab\",\"Make_Saturn\",\"Make_Scion\",\"Make_Seat\",\"Make_Skoda\",\"Make_Smart\",\"Make_Ssangyong\",\"Make_Subaru\",\"Make_Suzuki\",\"Make_Tata\",\"Make_Tesla\",\"Make_Toyota\",\"Make_UAZ\",\"Make_Vaz\",\"Make_Volkswagen\",\"Make_Volvo\",\"Make_Xpeng\",\"Make_Zaz\",\"Make_Zotye\",\"Style_Cabriolet\",\"Style_Combi\",\"Style_Coupe\",\"Style_Crossover\",\"Style_Hatchback\",\"Style_Microvan\",\"Style_Minivan\",\"Style_Pickup\",\"Style_Roadster\",\"Style_SUV\",\"Style_Sedan\",\"Style_Universal\",\"Fuel_type_Diesel\",\"Fuel_type_Electric\",\"Fuel_type_Hybrid\",\"Fuel_type_Metan/Propan\",\"Fuel_type_Petrol\",\"Fuel_type_Plug-in Hybrid\",\"distance_type_average\",\"distance_type_high\",\"distance_type_optimal\",\"distance_type_very_high\",\"Make_rarity_common\",\"Make_rarity_rare\",\"Price_cat_average\",\"Price_cat_cheap\",\"Year_category_old\",\"Year_category_regular\"]},\"yaxis\":{\"anchor\":\"x\",\"domain\":[0.0,1.0],\"title\":{\"text\":\"y\"}},\"legend\":{\"title\":{\"text\":\"c\"},\"tracegroupgap\":0},\"margin\":{\"t\":60},\"barmode\":\"relative\"},                        {\"responsive\": true}                    ).then(function(){\n",
              "                            \n",
              "var gd = document.getElementById('0577b9ca-adae-4b7e-9a14-98264788d2ba');\n",
              "var x = new MutationObserver(function (mutations, observer) {{\n",
              "        var display = window.getComputedStyle(gd).display;\n",
              "        if (!display || display === 'none') {{\n",
              "            console.log([gd, 'removed!']);\n",
              "            Plotly.purge(gd);\n",
              "            observer.disconnect();\n",
              "        }}\n",
              "}});\n",
              "\n",
              "// Listen for the removal of the full notebook cells\n",
              "var notebookContainer = gd.closest('#notebook-container');\n",
              "if (notebookContainer) {{\n",
              "    x.observe(notebookContainer, {childList: true});\n",
              "}}\n",
              "\n",
              "// Listen for the clearing of the current output cell\n",
              "var outputEl = gd.closest('.output');\n",
              "if (outputEl) {{\n",
              "    x.observe(outputEl, {childList: true});\n",
              "}}\n",
              "\n",
              "                        })                };                            </script>        </div>\n",
              "</body>\n",
              "</html>"
            ]
          },
          "metadata": {}
        }
      ]
    },
    {
      "cell_type": "markdown",
      "source": [
        "Всё-таки некоторые модели машин могут влиять на результаты"
      ],
      "metadata": {
        "id": "RN7Ud3_82P3Y"
      }
    },
    {
      "cell_type": "markdown",
      "source": [
        "### Данные без категорий"
      ],
      "metadata": {
        "id": "gyhcUWgh6qvq"
      }
    },
    {
      "cell_type": "code",
      "source": [
        "df_norm"
      ],
      "metadata": {
        "colab": {
          "base_uri": "https://localhost:8080/",
          "height": 461
        },
        "id": "SQV-VLVw7b0c",
        "outputId": "11acd7ef-2c60-4cf5-9d3b-034b67ef7a31"
      },
      "execution_count": null,
      "outputs": [
        {
          "output_type": "execute_result",
          "data": {
            "text/plain": [
              "           Year  Distance  Engine_capacity(cm3)  Price(euro)  year_distance  \\\n",
              "0      0.836066  0.195000              0.360288       7700.0   6.331169e-02   \n",
              "1      0.885246  0.135000              0.300240       8500.0   6.026786e-02   \n",
              "2      0.622951  0.000001              0.280224       2200.0   1.488095e-07   \n",
              "3      0.852459  0.110000              0.300240       6500.0   3.928571e-02   \n",
              "4      0.754098  0.200000              0.320256       4100.0   4.464286e-02   \n",
              "...         ...       ...                   ...          ...            ...   \n",
              "35964  0.688525  0.225000              0.360288       4400.0   4.017857e-02   \n",
              "35965  0.901639  0.089000              0.300240       7000.0   4.540816e-02   \n",
              "35966  0.803279  0.000225              0.300240       4500.0   6.181319e-05   \n",
              "35967  0.754098  0.370000              0.400320       4000.0   8.258929e-02   \n",
              "35968  0.754098  0.300000              0.300240       4000.0   6.696429e-02   \n",
              "\n",
              "       Transmission_Automatic  Transmission_Manual  Model_1 Series  Model_100  \\\n",
              "0                           1                    0               0          0   \n",
              "1                           0                    1               0          0   \n",
              "2                           0                    1               0          0   \n",
              "3                           0                    1               0          0   \n",
              "4                           0                    1               0          0   \n",
              "...                       ...                  ...             ...        ...   \n",
              "35964                       0                    1               0          0   \n",
              "35965                       0                    1               0          0   \n",
              "35966                       0                    1               0          0   \n",
              "35967                       0                    1               0          0   \n",
              "35968                       0                    1               0          0   \n",
              "\n",
              "       Model_1007  ...  distance_type_average  distance_type_high  \\\n",
              "0               0  ...                      0                   1   \n",
              "1               0  ...                      1                   0   \n",
              "2               0  ...                      0                   0   \n",
              "3               0  ...                      1                   0   \n",
              "4               0  ...                      0                   1   \n",
              "...           ...  ...                    ...                 ...   \n",
              "35964           0  ...                      0                   1   \n",
              "35965           0  ...                      0                   0   \n",
              "35966           0  ...                      0                   0   \n",
              "35967           0  ...                      0                   0   \n",
              "35968           0  ...                      0                   0   \n",
              "\n",
              "       distance_type_optimal  distance_type_very_high  Make_rarity_common  \\\n",
              "0                          0                        0                   0   \n",
              "1                          0                        0                   0   \n",
              "2                          1                        0                   0   \n",
              "3                          0                        0                   0   \n",
              "4                          0                        0                   0   \n",
              "...                      ...                      ...                 ...   \n",
              "35964                      0                        0                   1   \n",
              "35965                      1                        0                   0   \n",
              "35966                      1                        0                   0   \n",
              "35967                      0                        1                   0   \n",
              "35968                      0                        1                   0   \n",
              "\n",
              "       Make_rarity_rare  Price_cat_average  Price_cat_cheap  \\\n",
              "0                     1                  0                1   \n",
              "1                     1                  0                1   \n",
              "2                     1                  1                0   \n",
              "3                     1                  0                1   \n",
              "4                     1                  1                0   \n",
              "...                 ...                ...              ...   \n",
              "35964                 0                  1                0   \n",
              "35965                 1                  0                1   \n",
              "35966                 1                  1                0   \n",
              "35967                 1                  1                0   \n",
              "35968                 1                  1                0   \n",
              "\n",
              "       Year_category_old  Year_category_regular  \n",
              "0                      0                      1  \n",
              "1                      0                      1  \n",
              "2                      1                      0  \n",
              "3                      0                      1  \n",
              "4                      1                      0  \n",
              "...                  ...                    ...  \n",
              "35964                  1                      0  \n",
              "35965                  0                      1  \n",
              "35966                  1                      0  \n",
              "35967                  1                      0  \n",
              "35968                  1                      0  \n",
              "\n",
              "[35969 rows x 918 columns]"
            ],
            "text/html": [
              "<div>\n",
              "<style scoped>\n",
              "    .dataframe tbody tr th:only-of-type {\n",
              "        vertical-align: middle;\n",
              "    }\n",
              "\n",
              "    .dataframe tbody tr th {\n",
              "        vertical-align: top;\n",
              "    }\n",
              "\n",
              "    .dataframe thead th {\n",
              "        text-align: right;\n",
              "    }\n",
              "</style>\n",
              "<table border=\"1\" class=\"dataframe\">\n",
              "  <thead>\n",
              "    <tr style=\"text-align: right;\">\n",
              "      <th></th>\n",
              "      <th>Year</th>\n",
              "      <th>Distance</th>\n",
              "      <th>Engine_capacity(cm3)</th>\n",
              "      <th>Price(euro)</th>\n",
              "      <th>year_distance</th>\n",
              "      <th>Transmission_Automatic</th>\n",
              "      <th>Transmission_Manual</th>\n",
              "      <th>Model_1 Series</th>\n",
              "      <th>Model_100</th>\n",
              "      <th>Model_1007</th>\n",
              "      <th>...</th>\n",
              "      <th>distance_type_average</th>\n",
              "      <th>distance_type_high</th>\n",
              "      <th>distance_type_optimal</th>\n",
              "      <th>distance_type_very_high</th>\n",
              "      <th>Make_rarity_common</th>\n",
              "      <th>Make_rarity_rare</th>\n",
              "      <th>Price_cat_average</th>\n",
              "      <th>Price_cat_cheap</th>\n",
              "      <th>Year_category_old</th>\n",
              "      <th>Year_category_regular</th>\n",
              "    </tr>\n",
              "  </thead>\n",
              "  <tbody>\n",
              "    <tr>\n",
              "      <th>0</th>\n",
              "      <td>0.836066</td>\n",
              "      <td>0.195000</td>\n",
              "      <td>0.360288</td>\n",
              "      <td>7700.0</td>\n",
              "      <td>6.331169e-02</td>\n",
              "      <td>1</td>\n",
              "      <td>0</td>\n",
              "      <td>0</td>\n",
              "      <td>0</td>\n",
              "      <td>0</td>\n",
              "      <td>...</td>\n",
              "      <td>0</td>\n",
              "      <td>1</td>\n",
              "      <td>0</td>\n",
              "      <td>0</td>\n",
              "      <td>0</td>\n",
              "      <td>1</td>\n",
              "      <td>0</td>\n",
              "      <td>1</td>\n",
              "      <td>0</td>\n",
              "      <td>1</td>\n",
              "    </tr>\n",
              "    <tr>\n",
              "      <th>1</th>\n",
              "      <td>0.885246</td>\n",
              "      <td>0.135000</td>\n",
              "      <td>0.300240</td>\n",
              "      <td>8500.0</td>\n",
              "      <td>6.026786e-02</td>\n",
              "      <td>0</td>\n",
              "      <td>1</td>\n",
              "      <td>0</td>\n",
              "      <td>0</td>\n",
              "      <td>0</td>\n",
              "      <td>...</td>\n",
              "      <td>1</td>\n",
              "      <td>0</td>\n",
              "      <td>0</td>\n",
              "      <td>0</td>\n",
              "      <td>0</td>\n",
              "      <td>1</td>\n",
              "      <td>0</td>\n",
              "      <td>1</td>\n",
              "      <td>0</td>\n",
              "      <td>1</td>\n",
              "    </tr>\n",
              "    <tr>\n",
              "      <th>2</th>\n",
              "      <td>0.622951</td>\n",
              "      <td>0.000001</td>\n",
              "      <td>0.280224</td>\n",
              "      <td>2200.0</td>\n",
              "      <td>1.488095e-07</td>\n",
              "      <td>0</td>\n",
              "      <td>1</td>\n",
              "      <td>0</td>\n",
              "      <td>0</td>\n",
              "      <td>0</td>\n",
              "      <td>...</td>\n",
              "      <td>0</td>\n",
              "      <td>0</td>\n",
              "      <td>1</td>\n",
              "      <td>0</td>\n",
              "      <td>0</td>\n",
              "      <td>1</td>\n",
              "      <td>1</td>\n",
              "      <td>0</td>\n",
              "      <td>1</td>\n",
              "      <td>0</td>\n",
              "    </tr>\n",
              "    <tr>\n",
              "      <th>3</th>\n",
              "      <td>0.852459</td>\n",
              "      <td>0.110000</td>\n",
              "      <td>0.300240</td>\n",
              "      <td>6500.0</td>\n",
              "      <td>3.928571e-02</td>\n",
              "      <td>0</td>\n",
              "      <td>1</td>\n",
              "      <td>0</td>\n",
              "      <td>0</td>\n",
              "      <td>0</td>\n",
              "      <td>...</td>\n",
              "      <td>1</td>\n",
              "      <td>0</td>\n",
              "      <td>0</td>\n",
              "      <td>0</td>\n",
              "      <td>0</td>\n",
              "      <td>1</td>\n",
              "      <td>0</td>\n",
              "      <td>1</td>\n",
              "      <td>0</td>\n",
              "      <td>1</td>\n",
              "    </tr>\n",
              "    <tr>\n",
              "      <th>4</th>\n",
              "      <td>0.754098</td>\n",
              "      <td>0.200000</td>\n",
              "      <td>0.320256</td>\n",
              "      <td>4100.0</td>\n",
              "      <td>4.464286e-02</td>\n",
              "      <td>0</td>\n",
              "      <td>1</td>\n",
              "      <td>0</td>\n",
              "      <td>0</td>\n",
              "      <td>0</td>\n",
              "      <td>...</td>\n",
              "      <td>0</td>\n",
              "      <td>1</td>\n",
              "      <td>0</td>\n",
              "      <td>0</td>\n",
              "      <td>0</td>\n",
              "      <td>1</td>\n",
              "      <td>1</td>\n",
              "      <td>0</td>\n",
              "      <td>1</td>\n",
              "      <td>0</td>\n",
              "    </tr>\n",
              "    <tr>\n",
              "      <th>...</th>\n",
              "      <td>...</td>\n",
              "      <td>...</td>\n",
              "      <td>...</td>\n",
              "      <td>...</td>\n",
              "      <td>...</td>\n",
              "      <td>...</td>\n",
              "      <td>...</td>\n",
              "      <td>...</td>\n",
              "      <td>...</td>\n",
              "      <td>...</td>\n",
              "      <td>...</td>\n",
              "      <td>...</td>\n",
              "      <td>...</td>\n",
              "      <td>...</td>\n",
              "      <td>...</td>\n",
              "      <td>...</td>\n",
              "      <td>...</td>\n",
              "      <td>...</td>\n",
              "      <td>...</td>\n",
              "      <td>...</td>\n",
              "      <td>...</td>\n",
              "    </tr>\n",
              "    <tr>\n",
              "      <th>35964</th>\n",
              "      <td>0.688525</td>\n",
              "      <td>0.225000</td>\n",
              "      <td>0.360288</td>\n",
              "      <td>4400.0</td>\n",
              "      <td>4.017857e-02</td>\n",
              "      <td>0</td>\n",
              "      <td>1</td>\n",
              "      <td>0</td>\n",
              "      <td>0</td>\n",
              "      <td>0</td>\n",
              "      <td>...</td>\n",
              "      <td>0</td>\n",
              "      <td>1</td>\n",
              "      <td>0</td>\n",
              "      <td>0</td>\n",
              "      <td>1</td>\n",
              "      <td>0</td>\n",
              "      <td>1</td>\n",
              "      <td>0</td>\n",
              "      <td>1</td>\n",
              "      <td>0</td>\n",
              "    </tr>\n",
              "    <tr>\n",
              "      <th>35965</th>\n",
              "      <td>0.901639</td>\n",
              "      <td>0.089000</td>\n",
              "      <td>0.300240</td>\n",
              "      <td>7000.0</td>\n",
              "      <td>4.540816e-02</td>\n",
              "      <td>0</td>\n",
              "      <td>1</td>\n",
              "      <td>0</td>\n",
              "      <td>0</td>\n",
              "      <td>0</td>\n",
              "      <td>...</td>\n",
              "      <td>0</td>\n",
              "      <td>0</td>\n",
              "      <td>1</td>\n",
              "      <td>0</td>\n",
              "      <td>0</td>\n",
              "      <td>1</td>\n",
              "      <td>0</td>\n",
              "      <td>1</td>\n",
              "      <td>0</td>\n",
              "      <td>1</td>\n",
              "    </tr>\n",
              "    <tr>\n",
              "      <th>35966</th>\n",
              "      <td>0.803279</td>\n",
              "      <td>0.000225</td>\n",
              "      <td>0.300240</td>\n",
              "      <td>4500.0</td>\n",
              "      <td>6.181319e-05</td>\n",
              "      <td>0</td>\n",
              "      <td>1</td>\n",
              "      <td>0</td>\n",
              "      <td>0</td>\n",
              "      <td>0</td>\n",
              "      <td>...</td>\n",
              "      <td>0</td>\n",
              "      <td>0</td>\n",
              "      <td>1</td>\n",
              "      <td>0</td>\n",
              "      <td>0</td>\n",
              "      <td>1</td>\n",
              "      <td>1</td>\n",
              "      <td>0</td>\n",
              "      <td>1</td>\n",
              "      <td>0</td>\n",
              "    </tr>\n",
              "    <tr>\n",
              "      <th>35967</th>\n",
              "      <td>0.754098</td>\n",
              "      <td>0.370000</td>\n",
              "      <td>0.400320</td>\n",
              "      <td>4000.0</td>\n",
              "      <td>8.258929e-02</td>\n",
              "      <td>0</td>\n",
              "      <td>1</td>\n",
              "      <td>0</td>\n",
              "      <td>0</td>\n",
              "      <td>0</td>\n",
              "      <td>...</td>\n",
              "      <td>0</td>\n",
              "      <td>0</td>\n",
              "      <td>0</td>\n",
              "      <td>1</td>\n",
              "      <td>0</td>\n",
              "      <td>1</td>\n",
              "      <td>1</td>\n",
              "      <td>0</td>\n",
              "      <td>1</td>\n",
              "      <td>0</td>\n",
              "    </tr>\n",
              "    <tr>\n",
              "      <th>35968</th>\n",
              "      <td>0.754098</td>\n",
              "      <td>0.300000</td>\n",
              "      <td>0.300240</td>\n",
              "      <td>4000.0</td>\n",
              "      <td>6.696429e-02</td>\n",
              "      <td>0</td>\n",
              "      <td>1</td>\n",
              "      <td>0</td>\n",
              "      <td>0</td>\n",
              "      <td>0</td>\n",
              "      <td>...</td>\n",
              "      <td>0</td>\n",
              "      <td>0</td>\n",
              "      <td>0</td>\n",
              "      <td>1</td>\n",
              "      <td>0</td>\n",
              "      <td>1</td>\n",
              "      <td>1</td>\n",
              "      <td>0</td>\n",
              "      <td>1</td>\n",
              "      <td>0</td>\n",
              "    </tr>\n",
              "  </tbody>\n",
              "</table>\n",
              "<p>35969 rows × 918 columns</p>\n",
              "</div>"
            ]
          },
          "metadata": {},
          "execution_count": 473
        }
      ]
    },
    {
      "cell_type": "code",
      "source": [
        "X = df_norm.loc[:, df_norm.columns != 'Price(euro)']\n",
        "X = X.loc[:, X.columns[:4]]\n",
        "y = df_norm[['Price(euro)']]"
      ],
      "metadata": {
        "id": "HewmKL096nzb"
      },
      "execution_count": null,
      "outputs": []
    },
    {
      "cell_type": "code",
      "source": [
        "X_train, X_test, y_train, y_test = train_test_split(X, y, test_size=0.2, stratify=y)"
      ],
      "metadata": {
        "id": "FfZWq-8l70eI"
      },
      "execution_count": null,
      "outputs": []
    },
    {
      "cell_type": "code",
      "source": [
        "moldova_r = Ridge(alpha=6).fit(X_train, y_train)\n",
        "\n",
        "y_pred = moldova_r.predict(X_test)\n",
        "\n",
        "print(f'R2 score: {r2_score(y_test, y_pred)}')\n",
        "print(f'MAE: {mean_absolute_error(y_test, y_pred)}')\n",
        "print(f'RMSE: {mean_squared_error(y_test, y_pred, squared=False)}')\n",
        "print(f'MAPE: {mean_absolute_percentage_error(y_test, y_pred)}')"
      ],
      "metadata": {
        "colab": {
          "base_uri": "https://localhost:8080/"
        },
        "id": "4H56Aze-7rRs",
        "outputId": "e04cf89f-3ca5-4007-a4f1-1dbaffdb9b4d"
      },
      "execution_count": null,
      "outputs": [
        {
          "output_type": "stream",
          "name": "stdout",
          "text": [
            "R2 score: 0.49064527714790784\n",
            "MAE: 3675.464873786352\n",
            "RMSE: 5439.864668164901\n",
            "MAPE: 0.8380758533092567\n"
          ]
        }
      ]
    },
    {
      "cell_type": "markdown",
      "source": [
        "Всё ооочень плохо, тут даже исправлять нечего, при том, что нормализация это самый универсальный вариант"
      ],
      "metadata": {
        "id": "Qt3xSwTh72SF"
      }
    },
    {
      "cell_type": "markdown",
      "source": [
        "## Стандартизированные данные"
      ],
      "metadata": {
        "id": "uG4VqAof8D4Y"
      }
    },
    {
      "cell_type": "markdown",
      "source": [
        "### Lasso"
      ],
      "metadata": {
        "id": "Q_EYwp-69NZy"
      }
    },
    {
      "cell_type": "code",
      "source": [
        "X = df_st.loc[:, df_st.columns != 'Price(euro)']\n",
        "y = df_st[['Price(euro)']]"
      ],
      "metadata": {
        "id": "hWy3qon48HgZ"
      },
      "execution_count": null,
      "outputs": []
    },
    {
      "cell_type": "code",
      "source": [
        "X_train, X_test, y_train, y_test = train_test_split(X, y, test_size=0.2, stratify=y)"
      ],
      "metadata": {
        "id": "hkNyiZqN8YGn"
      },
      "execution_count": null,
      "outputs": []
    },
    {
      "cell_type": "code",
      "source": [
        "moldova_l = Lasso().fit(X_train, y_train)\n",
        "\n",
        "y_pred = moldova_l.predict(X_test)\n",
        "\n",
        "print(f'R2 score: {r2_score(y_test, y_pred)}')\n",
        "print(f'MAE: {mean_absolute_error(y_test, y_pred)}')\n",
        "print(f'RMSE: {mean_squared_error(y_test, y_pred, squared=False)}')\n",
        "print(f'MAPE: {mean_absolute_percentage_error(y_test, y_pred)}')"
      ],
      "metadata": {
        "colab": {
          "base_uri": "https://localhost:8080/"
        },
        "id": "OtPrJq3d8VsO",
        "outputId": "55e21f4c-e5f1-43f5-e0f4-032da0e6a323"
      },
      "execution_count": null,
      "outputs": [
        {
          "output_type": "stream",
          "name": "stdout",
          "text": [
            "R2 score: 0.7369409292655442\n",
            "MAE: 2514.9635000342932\n",
            "RMSE: 3909.3501220394887\n",
            "MAPE: 0.49589386928078705\n"
          ]
        }
      ]
    },
    {
      "cell_type": "markdown",
      "source": [
        "Результаты +- такие же попробуем поменять альфа"
      ],
      "metadata": {
        "id": "olaTaPwz8dnR"
      }
    },
    {
      "cell_type": "code",
      "source": [
        "moldova_l = Lasso(alpha=0.4).fit(X_train, y_train)\n",
        "\n",
        "y_pred = moldova_l.predict(X_test)\n",
        "\n",
        "print(f'R2 score: {r2_score(y_test, y_pred)}')\n",
        "print(f'MAE: {mean_absolute_error(y_test, y_pred)}')\n",
        "print(f'RMSE: {mean_squared_error(y_test, y_pred, squared=False)}')\n",
        "print(f'MAPE: {mean_absolute_percentage_error(y_test, y_pred)}')"
      ],
      "metadata": {
        "colab": {
          "base_uri": "https://localhost:8080/"
        },
        "id": "q5G5ecom8hjP",
        "outputId": "5ffec83d-84a8-40e4-a6f7-9736b73ffb76"
      },
      "execution_count": null,
      "outputs": [
        {
          "output_type": "stream",
          "name": "stdout",
          "text": [
            "R2 score: 0.7433747522628995\n",
            "MAE: 2476.3173954166195\n",
            "RMSE: 3861.2473003388145\n",
            "MAPE: 0.49683737766357355\n"
          ]
        }
      ]
    },
    {
      "cell_type": "markdown",
      "source": [
        "Такая же история в целом, посмотрим на веса"
      ],
      "metadata": {
        "id": "AsDvKEPU8px0"
      }
    },
    {
      "cell_type": "code",
      "source": [
        "plot_weights(moldova_l.coef_, X.columns, show_cols=True)"
      ],
      "metadata": {
        "colab": {
          "base_uri": "https://localhost:8080/",
          "height": 542
        },
        "id": "1MLgQKy48sq0",
        "outputId": "cbb8725c-ac86-41f8-928b-9b6cfd3093f1"
      },
      "execution_count": null,
      "outputs": [
        {
          "output_type": "display_data",
          "data": {
            "text/html": [
              "<html>\n",
              "<head><meta charset=\"utf-8\" /></head>\n",
              "<body>\n",
              "    <div>            <script src=\"https://cdnjs.cloudflare.com/ajax/libs/mathjax/2.7.5/MathJax.js?config=TeX-AMS-MML_SVG\"></script><script type=\"text/javascript\">if (window.MathJax && window.MathJax.Hub && window.MathJax.Hub.Config) {window.MathJax.Hub.Config({SVG: {font: \"STIX-Web\"}});}</script>                <script type=\"text/javascript\">window.PlotlyConfig = {MathJaxConfig: 'local'};</script>\n",
              "        <script src=\"https://cdn.plot.ly/plotly-2.16.1.min.js\"></script>                <div id=\"0d0b3ec6-e497-421e-8b2b-28d8aeb6386d\" class=\"plotly-graph-div\" style=\"height:525px; width:100%;\"></div>            <script type=\"text/javascript\">                                    window.PLOTLYENV=window.PLOTLYENV || {};                                    if (document.getElementById(\"0d0b3ec6-e497-421e-8b2b-28d8aeb6386d\")) {                    Plotly.newPlot(                        \"0d0b3ec6-e497-421e-8b2b-28d8aeb6386d\",                        [{\"alignmentgroup\":\"True\",\"hovertemplate\":\"c=>=0<br>x=%{x}<br>y=%{y}<extra></extra>\",\"legendgroup\":\">=0\",\"marker\":{\"color\":\"blue\",\"pattern\":{\"shape\":\"\"}},\"name\":\">=0\",\"offsetgroup\":\">=0\",\"orientation\":\"v\",\"showlegend\":true,\"textposition\":\"auto\",\"x\":[\"Year\",\"Engine_capacity(cm3)\",\"year_distance\",\"Transmission_Automatic\",\"Model_100\",\"Model_1007\",\"Model_106\",\"Model_108\",\"Model_1102 Tavria\",\"Model_121\",\"Model_145\",\"Model_147\",\"Model_156\",\"Model_159\",\"Model_166\",\"Model_19\",\"Model_190\",\"Model_200\",\"Model_200 Series\",\"Model_2008\",\"Model_205\",\"Model_21\",\"Model_2101\",\"Model_2102\",\"Model_2103\",\"Model_2104\",\"Model_2105\",\"Model_2106\",\"Model_2107\",\"Model_2108\",\"Model_2109\",\"Model_21099\",\"Model_2110\",\"Model_2112\",\"Model_2113\",\"Model_2123 Chevrolet\",\"Model_2125\",\"Model_2129 Niva Long\",\"Model_2140\",\"Model_2410\",\"Model_25\",\"Model_3 GT\",\"Model_3008\",\"Model_300c\",\"Model_300m\",\"Model_306\",\"Model_307\",\"Model_309\",\"Model_31029\",\"Model_323\",\"Model_4 series\",\"Model_4-Runner\",\"Model_400 Series\",\"Model_4007\",\"Model_405\",\"Model_406\",\"Model_407\",\"Model_408\",\"Model_45\",\"Model_469\",\"Model_5 GT\",\"Model_5008\",\"Model_500X\",\"Model_6 Series\",\"Model_600 Series\",\"Model_605\",\"Model_607\",\"Model_620\",\"Model_626\",\"Model_7 Series\",\"Model_700 Series\",\"Model_75\",\"Model_80\",\"Model_800 Series\",\"Model_806\",\"Model_807\",\"Model_9-3\",\"Model_9-5\",\"Model_90\",\"Model_900 Series\",\"Model_9000\",\"Model_924\",\"Model_929\",\"Model_968\",\"Model_969\",\"Model_A2\",\"Model_A7\",\"Model_A8\",\"Model_AMG GT\",\"Model_ATS\",\"Model_Accord\",\"Model_Actyon\",\"Model_Adam\",\"Model_Aerostar\",\"Model_Agila\",\"Model_Albea\",\"Model_Alfasud\",\"Model_Alhambra\",\"Model_Almera\",\"Model_Almera Tino\",\"Model_Altea\",\"Model_Altea XL\",\"Model_Altele\",\"Model_Altima\",\"Model_Alto\",\"Model_Amarok\",\"Model_Applouse\",\"Model_Arosa\",\"Model_Arteon\",\"Model_Ascona\",\"Model_Astra\",\"Model_Atos\",\"Model_Avalon\",\"Model_Avante\",\"Model_Avenger\",\"Model_Avensis\",\"Model_Avensis Verso\",\"Model_Ax\",\"Model_Azera\",\"Model_B-Max\",\"Model_B9 Tribeca\",\"Model_BRZ\",\"Model_BS3\",\"Model_BS6\",\"Model_BX\",\"Model_Baleno\",\"Model_Beetle\",\"Model_Berlingo\",\"Model_Blazer\",\"Model_Bls\",\"Model_Bluebird\",\"Model_Bolt\",\"Model_Bora\",\"Model_Boxster\",\"Model_Brava\",\"Model_Bravo\",\"Model_Breez\",\"Model_C-Class Coupe\",\"Model_C-Crosser\",\"Model_C-HR\",\"Model_C2\",\"Model_C3 Picasso\",\"Model_C30\",\"Model_C4\",\"Model_C4 Cactus\",\"Model_C4 Picasso\",\"Model_C5\",\"Model_C70\",\"Model_C8\",\"Model_CK\",\"Model_CL Class\",\"Model_CLA\",\"Model_CLC Class\",\"Model_CLS Class\",\"Model_CR-V\",\"Model_CR-Z\",\"Model_CS35PLUS\",\"Model_CTS\",\"Model_CX\",\"Model_CX-30\",\"Model_CX-5\",\"Model_CX-9\",\"Model_Calibra\",\"Model_Camaro\",\"Model_Camry\",\"Model_Caravan\",\"Model_Caravelle\",\"Model_Carina\",\"Model_Carisma\",\"Model_Carnival\",\"Model_Cayenne\",\"Model_Cayman\",\"Model_Celica\",\"Model_Challenger\",\"Model_Charger\",\"Model_Cherokee\",\"Model_Cherry\",\"Model_Chery Van\",\"Model_City K-ZE\",\"Model_Civic\",\"Model_Civic Hibrid\",\"Model_Clarity\",\"Model_Clarus\",\"Model_Clio Symbol\",\"Model_Clubman\",\"Model_Commander\",\"Model_Concerto\",\"Model_Cooper\",\"Model_Cordoba\",\"Model_Corolla Verso\",\"Model_Corvette\",\"Model_Countryman\",\"Model_Coupe\",\"Model_Courier\",\"Model_Crosseastar\",\"Model_Crown\",\"Model_Cuore\",\"Model_D20\",\"Model_D50\",\"Model_DS3\",\"Model_DS4\",\"Model_DS5\",\"Model_Dakota\",\"Model_Damas\",\"Model_Dedra\",\"Model_Defender\",\"Model_Delta\",\"Model_Discovery\",\"Model_Discovery Sport\",\"Model_Doblo Cargo\",\"Model_Doblo Panorama\",\"Model_Dokker\",\"Model_Durango\",\"Model_E-Class Coupe\",\"Model_E-Pace\",\"Model_EU5\",\"Model_Eastar\",\"Model_Eclipse\",\"Model_Edge\",\"Model_Encore\",\"Model_Envision\",\"Model_Envoy\",\"Model_Eos\",\"Model_Epica\",\"Model_Equinox\",\"Model_Equus\",\"Model_Escort\",\"Model_Espace\",\"Model_Espero\",\"Model_Evanda\",\"Model_Exeo\",\"Model_Expedition\",\"Model_Expert\",\"Model_Explorer\",\"Model_Express\",\"Model_F-150\",\"Model_F-250\",\"Model_F-PACE\",\"Model_F-Type\",\"Model_F3\",\"Model_F6\",\"Model_FR-V\",\"Model_FSV\",\"Model_FX\",\"Model_Fabia RS\",\"Model_Favorit\",\"Model_Felicia\",\"Model_Fiesta 3D\",\"Model_Fiorino\",\"Model_Focus Rs\",\"Model_Focus Wagon\",\"Model_Forfour\",\"Model_Fortuner\",\"Model_Freema\",\"Model_Frontera\",\"Model_Frontier\",\"Model_Fullback\",\"Model_G Class\",\"Model_G Series\",\"Model_G3\",\"Model_GL Class\",\"Model_GLA\",\"Model_GLC\",\"Model_GLC Coupe\",\"Model_GLE\",\"Model_GLE Coupe\",\"Model_GLS Klass\",\"Model_GT86\",\"Model_GW Peri\",\"Model_GX Series\",\"Model_Galant\",\"Model_Galaxy\",\"Model_Galloper\",\"Model_Genesis\",\"Model_Ghibli II\",\"Model_Giulia\",\"Model_Giulietta\",\"Model_Gol\",\"Model_Golf\",\"Model_Granada\",\"Model_Grand - Am\",\"Model_Grand Caravan\",\"Model_Grand Cherokee\",\"Model_Grand Espace\",\"Model_Grand Modus\",\"Model_Grand Vitara\",\"Model_Grand Voyager\",\"Model_Grande Punto\",\"Model_Grande Punto 5D\",\"Model_Grandeur\",\"Model_Grandis\",\"Model_Grandland X\",\"Model_Granta\",\"Model_Gt\",\"Model_H-1 Truck\",\"Model_H2\",\"Model_H200\",\"Model_H3\",\"Model_H6\",\"Model_H9\",\"Model_HHR\",\"Model_Hiace\",\"Model_Highlander\",\"Model_Hilux\",\"Model_Hover\",\"Model_Hunter\",\"Model_ILX\",\"Model_IONIQ\",\"Model_Ignis\",\"Model_Impala\",\"Model_Impreza\",\"Model_Inca\",\"Model_Intrepid\",\"Model_J7\",\"Model_JS4\",\"Model_Jimny\",\"Model_Joice\",\"Model_Jolion\",\"Model_Journey\",\"Model_Jumpy\",\"Model_Justy\",\"Model_Ka\",\"Model_Kadett\",\"Model_Kalos\",\"Model_Kangoo\",\"Model_Kappa\",\"Model_Karl\",\"Model_Karoq\",\"Model_Kodiaq\",\"Model_Koleos\",\"Model_Kona\",\"Model_Korando\",\"Model_Kyron\",\"Model_L\",\"Model_LS Series\",\"Model_LX Series\",\"Model_Lacetti\",\"Model_Laguna\",\"Model_Lancer\",\"Model_Land Cruiser\",\"Model_Land Cruiser Prado\",\"Model_Lanos\",\"Model_Lantra\",\"Model_Largus\",\"Model_Legacy\",\"Model_Liana\",\"Model_Lodgy\",\"Model_Logan\",\"Model_Logan Mcv\",\"Model_Logan Van\",\"Model_Logo\",\"Model_Lumina\",\"Model_Lupo\",\"Model_Lybra\",\"Model_M Class\",\"Model_M Models\",\"Model_M Series\",\"Model_MDX\",\"Model_MKC\",\"Model_MPV\",\"Model_MX-30\",\"Model_MX-5\",\"Model_MX-6\",\"Model_Macan\",\"Model_Magentis\",\"Model_Magnum\",\"Model_Malibu\",\"Model_Marea\",\"Model_Materia\",\"Model_Maverick\",\"Model_Maxima\",\"Model_Megane\",\"Model_MiTo\",\"Model_Mirage\",\"Model_Model 3\",\"Model_Model S\",\"Model_Modus\",\"Model_Mondeo\",\"Model_Monterey\",\"Model_Montero Sport\",\"Model_Multipla\",\"Model_Multivan\",\"Model_Murano\",\"Model_Musa\",\"Model_Musso\",\"Model_Mustang\",\"Model_NF Sonata\",\"Model_NV400\",\"Model_NX Series\",\"Model_Navara\",\"Model_Navigator\",\"Model_Neon\",\"Model_New Beetle\",\"Model_Nitro\",\"Model_Niva\",\"Model_Nubira\",\"Model_Octavia\",\"Model_Octavia RS\",\"Model_Odyssey\",\"Model_Oka\",\"Model_Omega\",\"Model_One\",\"Model_Opirus\",\"Model_Orion\",\"Model_Outback\",\"Model_PT Cruiser\",\"Model_Pacifica\",\"Model_Pajero\",\"Model_Pajero Pinin\",\"Model_Pajero Sport\",\"Model_Palio\",\"Model_Panamera\",\"Model_Partner\",\"Model_Passat\",\"Model_Passo\",\"Model_Pathfinder\",\"Model_Patrol\",\"Model_Phaeton\",\"Model_Phedra\",\"Model_Picnic\",\"Model_Pikap\",\"Model_Pixo\",\"Model_Poer\",\"Model_Pony\",\"Model_Prairie\",\"Model_Pregio\",\"Model_Prelude\",\"Model_Premacy\",\"Model_Previa\",\"Model_Pride\",\"Model_Primastar\",\"Model_Primera\",\"Model_Prisma\",\"Model_Pro_Cee'd\",\"Model_Proace\",\"Model_Probe\",\"Model_Puma\",\"Model_Punto\",\"Model_Q Series\",\"Model_Q3\",\"Model_Q5\",\"Model_Q7\",\"Model_Q8\",\"Model_QX Series\",\"Model_QX30\",\"Model_QX50\",\"Model_QX60\",\"Model_QX70\",\"Model_Qq\",\"Model_Quattro\",\"Model_Qubo\",\"Model_Quest\",\"Model_R2\",\"Model_R4\",\"Model_RC Series\",\"Model_RDX\",\"Model_RX Series\",\"Model_RX-8\",\"Model_Ram\",\"Model_Range Rover\",\"Model_Range Rover Sport\",\"Model_Range Rover Velar\",\"Model_Ranger\",\"Model_Rav 4\",\"Model_Rekord\",\"Model_Renegade\",\"Model_Rexton\",\"Model_Rezzo\",\"Model_Ritmo\",\"Model_Roadster\",\"Model_Rodius\",\"Model_Rogue\",\"Model_Roomster\",\"Model_S Class\",\"Model_S Klass\",\"Model_S-Coupe\",\"Model_S-Max\",\"Model_S-Type\",\"Model_S3\",\"Model_S4\",\"Model_S5\",\"Model_S60\",\"Model_S70\",\"Model_S8\",\"Model_S90\",\"Model_SC Series\",\"Model_SLK Class\",\"Model_Safrane\",\"Model_Samurai\",\"Model_Sandero\",\"Model_Santa FE\",\"Model_Santamo\",\"Model_Saratoga\",\"Model_Saxo\",\"Model_Scala\",\"Model_Scenic\",\"Model_Scorpio\",\"Model_Scudo\",\"Model_Sebring\",\"Model_Seltos\",\"Model_Sentra\",\"Model_Sephia\",\"Model_Serena\",\"Model_Series (W123)\",\"Model_Series (W124)\",\"Model_Sharan\",\"Model_Shuma\",\"Model_Shuttle\",\"Model_Siber\",\"Model_Siecento\",\"Model_Sienna\",\"Model_Sierra\",\"Model_Sigma\",\"Model_Signum\",\"Model_Sintra\",\"Model_Sirion\",\"Model_Sl Class\",\"Model_Solara\",\"Model_Solaris\",\"Model_Space Runner\",\"Model_Space Wagon\",\"Model_Spectra\",\"Model_Splash\",\"Model_Starlet\",\"Model_Stelvio\",\"Model_Stilo\",\"Model_Stinger\",\"Model_Stonic\",\"Model_Stratus\",\"Model_Stream\",\"Model_Streetwise\",\"Model_Sunny\",\"Model_Superb\",\"Model_Swift\",\"Model_T-Cross\",\"Model_T500\",\"Model_TSX\",\"Model_TT\",\"Model_Tacoma\",\"Model_Tacuma\",\"Model_Talisman\",\"Model_Taurus\",\"Model_Terios\",\"Model_Terracan\",\"Model_Terrain\",\"Model_Terrano\",\"Model_Thalia\",\"Model_Thema\",\"Model_Thesis\",\"Model_Tiggo\",\"Model_Tigra\",\"Model_Tiida\",\"Model_Toledo\",\"Model_Touareg\",\"Model_Tourneo Connect\",\"Model_Town Car\",\"Model_Town&Country\",\"Model_Tracer\",\"Model_Trafic\",\"Model_Trailblaizer\",\"Model_Trajet\",\"Model_Transporter\",\"Model_Tribute\",\"Model_Trooper\",\"Model_Twingo\",\"Model_UX\",\"Model_V Class\",\"Model_V40\",\"Model_V90\",\"Model_Vanette\",\"Model_Vectra\",\"Model_Vel Satis\",\"Model_Veloster\",\"Model_Vento\",\"Model_Venza\",\"Model_Veracruz\",\"Model_Vesta\",\"Model_Vita\",\"Model_Vivaro\",\"Model_Voyager\",\"Model_WRX\",\"Model_WRX STI\",\"Model_Wagon R+\",\"Model_Wrangler\",\"Model_X Class\",\"Model_X-Trail\",\"Model_X2\",\"Model_X4\",\"Model_X5\",\"Model_X6\",\"Model_X7\",\"Model_XC40\",\"Model_XC60\",\"Model_XC70\",\"Model_XC90\",\"Model_XE\",\"Model_XJ\",\"Model_XV\",\"Model_Xedos\",\"Model_Xsara\",\"Model_Xsara Picasso\",\"Model_Xterra\",\"Model_YRV\",\"Model_Yaris Verso\",\"Model_Ypsilon\",\"Model_Z Series\",\"Model_Zafira\",\"Model_altele\",\"Model_e-tron\",\"Model_i3\",\"Model_i8\",\"Model_iA\",\"Model_iM\",\"Model_up!\",\"Model_xA\",\"Make_ARO\",\"Make_Abarth\",\"Make_Acura\",\"Make_Alfa Romeo\",\"Make_Audi\",\"Make_BAIC\",\"Make_BMW\",\"Make_Buick\",\"Make_Cadillac\",\"Make_Changan\",\"Make_Chrysler\",\"Make_Datsun\",\"Make_Dodge\",\"Make_Faw\",\"Make_GAZ\",\"Make_GMC\",\"Make_Geely\",\"Make_Groz\",\"Make_Haima\",\"Make_Haval\",\"Make_Hummer\",\"Make_Hyundai\",\"Make_Infiniti\",\"Make_Isuzu\",\"Make_Jac\",\"Make_Jaguar\",\"Make_Jeep\",\"Make_KIA\",\"Make_Lada\",\"Make_Lancia\",\"Make_Land Rover\",\"Make_Lexus\",\"Make_Lincoln\",\"Make_LuAZ\",\"Make_Maserati\",\"Make_Mazda\",\"Make_Mercedes\",\"Make_Mercedes-Maybach\",\"Make_Mini\",\"Make_Mitsubishi\",\"Make_Moskvich / Izh\",\"Make_Pontiac\",\"Make_Porsche\",\"Make_Rover\",\"Make_Saab\",\"Make_Saturn\",\"Make_Scion\",\"Make_Seat\",\"Make_Tata\",\"Make_Tesla\",\"Make_Toyota\",\"Make_UAZ\",\"Make_Vaz\",\"Make_Volkswagen\",\"Make_Volvo\",\"Make_Xpeng\",\"Make_Zaz\",\"Make_Zotye\",\"Style_Cabriolet\",\"Style_Coupe\",\"Style_Crossover\",\"Style_Pickup\",\"Style_SUV\",\"Style_Sedan\",\"Fuel_type_Electric\",\"Fuel_type_Hybrid\",\"Fuel_type_Plug-in Hybrid\",\"distance_type_average\",\"distance_type_optimal\",\"Make_rarity_rare\",\"Price_cat_cheap\",\"Year_category_regular\"],\"xaxis\":\"x\",\"y\":[2619.734487055088,172.47902345379396,442.1671003860731,730.8398993270222,779.6720030044331,0.0,0.0,0.0,-0.0,0.0,0.0,-0.0,0.0,-0.0,0.0,5097.955947641652,60.38029051940104,-0.0,0.0,-0.0,0.0,9444.61593905393,7694.898315489785,4882.239479449305,5019.315683290908,553.6557908526855,3332.566697324567,4772.06923895708,444.13577886425037,2893.3137100656136,2200.210560001758,1484.7431222658988,-0.0,-0.0,-0.0,-0.0,19773.402941408996,-0.0,0.0,4192.260960151083,-0.0,-0.0,0.0,-0.0,0.0,260.7515427279095,72.32425199372943,2249.153439141589,-0.0,2190.8693129068306,1420.655746258532,567.7609206675218,1410.0186944836103,-0.0,3085.3722786735643,0.0,0.0,3370.043371725211,-0.0,3555.7376594590005,2363.6514831469285,-0.0,0.0,5205.061972331399,1766.7726799618438,0.0,-0.0,0.0,1951.9116473200183,1127.140816066641,0.0,0.0,0.0,202.05201634460198,0.0,0.0,0.0,0.0,0.0,362.6858669212815,0.0,-0.0,0.0,0.0,3924.6242447661375,-0.0,6827.446403344302,3716.8814760667956,-0.0,0.0,1318.0447040624044,-0.0,0.0,0.0,-0.0,0.0,0.0,926.4723075787359,85.52914718837202,0.0,-0.0,-0.0,5176.178869361735,-0.0,0.0,2589.339994515042,0.0,0.0,3340.9357440057775,7164.421454524428,-0.0,-0.0,1637.3960082204642,0.0,162.83783001958494,0.0,341.2548557709503,0.0,-0.0,-0.0,-0.0,0.0,-0.0,-0.0,0.0,0.0,-0.0,3.722978544993291,0.0,0.0,0.0,5400.799462095328,16.860800203475133,-0.0,0.0,0.0,-0.0,3628.0535826799987,-0.0,0.0,-0.0,0.0,-0.0,-0.0,-0.0,-0.0,0.0,-0.0,5.125475740121089,-0.0,-0.0,100.04762001551985,-0.0,809.7316793165561,1262.0608271677231,-0.0,-0.0,1207.7301972136368,0.0,5278.896932400123,140.59242164675655,-0.0,0.0,3343.3478604000425,39.7017627420376,-0.0,2648.7757918284806,1592.4152623017467,-0.0,3829.566351009463,0.0,10109.381388630507,0.0,0.0,0.0,0.0,0.0,0.0,-0.0,-0.0,-0.0,0.0,-0.0,-0.0,-0.0,0.0,0.0,0.0,0.0,137.16753872305432,0.0,942.7889199570226,-0.0,0.0,0.0,0.0,-0.0,-0.0,-0.0,-0.0,-0.0,-0.0,-0.0,-0.0,9618.14829664363,2822.8485445661704,0.0,0.0,240.31708351035832,-0.0,0.0,0.0,0.0,1834.2424291566697,0.0,0.0,-0.0,0.0,1965.1122479703072,-0.0,0.0,0.0,-0.0,398.9591765695758,0.0,0.0,2667.9656095464957,3990.67145582241,-0.0,0.0,-0.0,0.0,51.07605815312656,5446.182998306603,0.0,9057.298178479412,0.0,10320.436006465157,925.7047832997143,0.0,0.0,0.0,-0.0,1725.9624247445665,-0.0,4362.439202395134,1103.5075041697846,-0.0,-0.0,0.0,-0.0,-0.0,2536.5680470429825,0.0,0.0,-0.0,2739.391672834589,10624.553316282703,0.0,0.0,7090.378537826622,0.0,8686.756071536207,20983.656317826943,15168.605225044203,17912.766023893113,16293.420523542916,0.0,-0.0,10375.36941960409,1202.6261785648596,1273.6711030524204,0.0,2859.911669734488,0.0,911.1090156052657,-0.0,0.0,4.77318083263565,0.0,0.0,0.0,155.94543201433186,2030.350486164165,-0.0,0.0,-0.0,0.0,-0.0,38.37259946931395,0.0,-0.0,-0.0,0.0,-0.0,0.0,-0.0,5489.545854361857,0.0,0.0,0.0,0.0,7982.572812196007,4563.014133251006,-0.0,0.0,-0.0,-0.0,0.0,0.0,867.3510257865462,0.0,-0.0,0.0,-0.0,0.0,-0.0,-0.0,-0.0,78.20191476321047,0.0,-0.0,5317.873152095091,0.0,256.73292498255705,0.0,-0.0,0.0,11225.985753425817,3724.144720297376,2588.409370402736,-0.0,-0.0,0.0,-0.0,2637.753841350395,1626.0039492062403,841.7893704823971,0.0,10468.62056180359,6877.460315958155,0.0,298.362962503331,0.0,515.3515115756288,0.0,0.0,839.99276637164,1286.153132608272,-0.0,0.0,0.0,-0.0,0.0,777.1536427405655,14160.422830734153,-0.0,0.0,0.0,-0.0,321.2758045730989,-0.0,0.0,9600.454856261384,-0.0,-0.0,-0.0,0.0,-0.0,0.0,959.8549705926955,0.0,-0.0,-0.0,6103.917440253507,0.0,0.0,0.0,0.0,0.0,0.0,8270.268587560753,0.0,0.0,0.0,5649.832591442242,0.0,0.0,5874.875672474576,0.0,943.1859954289451,0.0,-0.0,-0.0,0.0,0.0,-0.0,685.9338591728957,0.0,-0.0,2336.5952542812993,0.0,-0.0,2974.352906057765,0.0,0.0,-0.0,562.275065816187,0.0,1356.4535685257504,0.0,6679.663214505151,0.0,134.71275610579102,-0.0,-0.0,3675.3277254827954,0.0,0.0,0.0,-0.0,-0.0,0.0,1065.2936586264723,1108.5529153430261,-0.0,0.0,0.0,496.45996205773054,-0.0,0.0,1048.7733109624342,0.0,-0.0,-0.0,0.0,0.0,-0.0,-0.0,-0.0,1696.161062575353,10378.240257212872,14890.2074910467,0.0,-0.0,-0.0,3578.710671266879,0.0,-0.0,-0.0,-0.0,0.0,-0.0,-0.0,0.0,0.0,2292.2115130418765,-0.0,521.1469092696997,-0.0,981.6428094338888,7193.269611843779,534.8713422255779,416.2578491904245,12270.36126470595,0.0,0.0,0.0,0.0,0.0,0.0,-0.0,-0.0,1359.9979710139094,-0.0,0.0,-0.0,-0.0,1150.1888824639643,0.0,0.0,-0.0,0.0,-0.0,11837.947434661239,0.0,0.0,0.0,0.0,283.54178931272094,1133.6704485812625,-0.0,0.0,0.0,0.0,-0.0,1969.4221662600446,1147.9517818507447,-0.0,0.0,-0.0,-0.0,594.6660855792908,237.04706280401666,-0.0,122.3236567023582,-0.0,-0.0,0.0,0.0,0.0,3780.50990745604,0.0,0.0,0.0,0.0,-0.0,-0.0,-0.0,0.0,1839.8443933383785,-0.0,-0.0,0.0,12014.263808793143,169.56610121445848,4399.493584443478,-0.0,0.0,0.0,0.0,2156.3878694393875,2680.572494203362,-0.0,0.0,-0.0,0.0,-0.0,0.0,181.07684377474195,1025.2178069241588,0.0,-0.0,-0.0,0.0,0.0,0.0,0.0,0.0,0.0,0.0,-0.0,30.50002068358942,1441.5655808052775,-0.0,0.0,0.0,0.0,489.56929115887124,0.0,-0.0,1419.0979636236611,-0.0,0.0,1576.60063586417,1005.8633809754539,7614.168771136855,-0.0,7831.397449974928,-0.0,2378.58532482555,715.028621235584,0.0,1734.728237260772,0.0,-0.0,0.0,-0.0,0.0,0.0,0.0,0.0,0.0,18069.057360868035,771.9686704104083,0.0,2513.1338179242175,6218.379160838926,2210.1781920710623,8737.795192303643,0.0,5367.966780537881,3141.8900812077954,0.0,4181.874661364905,0.0,8173.038883656838,-0.0,34.026276365074224,0.0,0.0,0.0,0.0,-0.0,-0.0,0.0,778.7624960877383,-0.0,0.0,-0.0,329.1003602611555,-0.0,-0.0,-0.0,-0.0,-0.0,0.0,0.0,165.9728730767072,2665.725010430117,-0.0,4035.4478218834697,-0.0,2769.981645367063,-0.0,376.52055380649284,-0.0,583.8829027651882,-0.0,1970.579823200691,2044.3160194595569,-0.0,-0.0,-0.0,-0.0,277.2860203485493,740.6446056304549,2227.205003828765,-0.0,-0.0,4386.028730570373,0.0,1160.1985893797298,719.324291103129,87.25081540447363,7231.347684725751,3725.4344223628545,567.4302682140124,768.289639899848,19318.87991854188,-0.0,3958.236884686183,0.0,-0.0,18.68908547184239,5580.227629007873,-0.0,12544.069241658808,0.0,-0.0,-0.0,-0.0,-0.0,-0.0,17119.257307660544,138.72978588147419,0.0,0.0,72.00732409641351,484.5552439061543,0.0,2746.2848401984975,-0.0,0.0,582.6513924115089,1769.7695824657753,3192.2864637171097,1540.6502830781712,213.92157005300777,367.3686881662093,853.8983228508379,3813.5023488468564,0.14091867335950206,1328.4813380421008,8.652463465907072e-12,0.0,9.258014086624624e-11],\"yaxis\":\"y\",\"type\":\"bar\"},{\"alignmentgroup\":\"True\",\"hovertemplate\":\"c=<0<br>x=%{x}<br>y=%{y}<extra></extra>\",\"legendgroup\":\"<0\",\"marker\":{\"color\":\"red\",\"pattern\":{\"shape\":\"\"}},\"name\":\"<0\",\"offsetgroup\":\"<0\",\"orientation\":\"v\",\"showlegend\":true,\"textposition\":\"auto\",\"x\":[\"Distance\",\"Transmission_Manual\",\"Model_1 Series\",\"Model_107\",\"Model_2\",\"Model_2 Series\",\"Model_206\",\"Model_207\",\"Model_208\",\"Model_2111\",\"Model_2114\",\"Model_2115\",\"Model_2121niva\",\"Model_2141\",\"Model_3\",\"Model_3 Series\",\"Model_301\",\"Model_308\",\"Model_3110\",\"Model_5\",\"Model_5 Series\",\"Model_500\",\"Model_500L\",\"Model_508\",\"Model_6\",\"Model_911\",\"Model_A Class\",\"Model_A1\",\"Model_A3\",\"Model_A3 e-tron\",\"Model_A4\",\"Model_A5\",\"Model_A6\",\"Model_ASX\",\"Model_Accent\",\"Model_Allroad\",\"Model_Alt model\",\"Model_Ampera\",\"Model_Antara\",\"Model_Auris\",\"Model_Aveo\",\"Model_Aygo\",\"Model_B Class\",\"Model_Bipper\",\"Model_C Class\",\"Model_C-Elysee\",\"Model_C-Max\",\"Model_C1\",\"Model_C3\",\"Model_CLK Class\",\"Model_CT Series\",\"Model_CX-3\",\"Model_CX-7\",\"Model_Caddy\",\"Model_Caliber\",\"Model_Captiva\",\"Model_Captur\",\"Model_Carens\",\"Model_Ceed\",\"Model_Ceed Sw\",\"Model_Cerato\",\"Model_Citan\",\"Model_Citigo\",\"Model_Clio\",\"Model_Clio4\",\"Model_Colt\",\"Model_Combo\",\"Model_Compass\",\"Model_Cooper S\",\"Model_Corolla\",\"Model_Corsa\",\"Model_Creta\",\"Model_Crosstrek\",\"Model_Cruze\",\"Model_Doblo\",\"Model_Dokker VAN\",\"Model_Duster\",\"Model_E Class\",\"Model_Eclipse Cross\",\"Model_EcoSport\",\"Model_Elantra\",\"Model_Es Series\",\"Model_Escape\",\"Model_Fabia\",\"Model_Fiesta\",\"Model_Fiesta 5D\",\"Model_Fluence\",\"Model_Focus\",\"Model_Forester\",\"Model_Fortwo\",\"Model_Fox\",\"Model_Freelander\",\"Model_Fusion\",\"Model_GLK Class\",\"Model_GS Series\",\"Model_Getz\",\"Model_Golf Plus\",\"Model_Grand Scenic\",\"Model_HR-V\",\"Model_IS Series\",\"Model_Ibiza\",\"Model_Insight\",\"Model_Insignia\",\"Model_Jazz\",\"Model_Jetta\",\"Model_Juke\",\"Model_Kadjar\",\"Model_Kalina\",\"Model_Kicks\",\"Model_Kuga\",\"Model_L Series\",\"Model_Leaf\",\"Model_Leon\",\"Model_MKZ\",\"Model_Matiz\",\"Model_Matrix\",\"Model_Meriva\",\"Model_Micra\",\"Model_Mokka\",\"Model_NV200\",\"Model_Nemo\",\"Model_Nexia\",\"Model_Niro\",\"Model_Note\",\"Model_Optima\",\"Model_Orlando\",\"Model_Outlander\",\"Model_Panda\",\"Model_Passat CC\",\"Model_Patriot\",\"Model_Picanto\",\"Model_Polo\",\"Model_Priora\",\"Model_Prius\",\"Model_Prius +\",\"Model_Prius Prime\",\"Model_Prius c\",\"Model_Prius v\",\"Model_Pulsar\",\"Model_Qashqai\",\"Model_Qashqai+2\",\"Model_R Class\",\"Model_Range Rover Evoque\",\"Model_Rapid\",\"Model_Rio\",\"Model_Rio X-Line\",\"Model_S-Cross\",\"Model_S40\",\"Model_S80\",\"Model_SX4\",\"Model_Sandero Stepway\",\"Model_Scirocco\",\"Model_Sonata\",\"Model_Sorento\",\"Model_Soul\",\"Model_Space Star\",\"Model_Spark\",\"Model_Sportage\",\"Model_Tiguan\",\"Model_Tipo\",\"Model_Touran\",\"Model_Transit Connect\",\"Model_Trax\",\"Model_Trezia\",\"Model_Tucson\",\"Model_Urban Cruiser\",\"Model_V50\",\"Model_V60\",\"Model_V70\",\"Model_Vaneo\",\"Model_Venga\",\"Model_Verso\",\"Model_Verso-S\",\"Model_Viano\",\"Model_Vitara\",\"Model_Vito\",\"Model_Volt\",\"Model_X-Type\",\"Model_X1\",\"Model_X3\",\"Model_Xf\",\"Model_Yaris\",\"Model_Yeti\",\"Model_ZOE\",\"Model_i10\",\"Model_i20\",\"Model_i30\",\"Model_i40\",\"Model_iQ\",\"Model_ix20\",\"Model_ix35\",\"Model_on-DO\",\"Make_Alta marca\",\"Make_Brilliance\",\"Make_Byd\",\"Make_Chery\",\"Make_Chevrolet\",\"Make_Citroen\",\"Make_Dacia\",\"Make_Daewoo\",\"Make_Daihatsu\",\"Make_Fiat\",\"Make_Ford\",\"Make_Great Wall\",\"Make_Honda\",\"Make_Lifan\",\"Make_Nissan\",\"Make_Opel\",\"Make_Peugeot\",\"Make_Ravon\",\"Make_Renault\",\"Make_Skoda\",\"Make_Smart\",\"Make_Ssangyong\",\"Make_Subaru\",\"Make_Suzuki\",\"Style_Combi\",\"Style_Hatchback\",\"Style_Microvan\",\"Style_Minivan\",\"Style_Roadster\",\"Style_Universal\",\"Fuel_type_Diesel\",\"Fuel_type_Metan/Propan\",\"Fuel_type_Petrol\",\"distance_type_high\",\"distance_type_very_high\",\"Make_rarity_common\",\"Price_cat_average\",\"Year_category_old\"],\"xaxis\":\"x\",\"y\":[-184.7746123283661,-8.422846407211237e-14,-4671.666606577653,-1590.5706650585303,-1256.0241550097996,-3935.275746654375,-36.87623728964344,-379.2217165462878,-2991.4600024353886,-324.81246128433315,-2327.6072984513503,-2986.4906265427176,-846.9216948375937,-720.5098964440629,-1437.5386478346265,-3092.537732062148,-2490.0896749931835,-271.3072120710521,-875.2760008515025,-362.5399991941359,-1037.0619429316448,-3205.9952140335067,-898.0050586178639,-538.9279692671063,-285.1879334922457,-5015.974636773439,-4098.327971916437,-3087.1846593279424,-3135.506773473534,-3681.9910697665664,-2226.1883626782055,-338.9012156293781,-43.976151419235464,-3288.3779048118986,-2270.912824110003,-461.40954654204705,-1667.699082353442,-937.3327209671969,-590.3256918538029,-2832.0016197374603,-1888.8012413865613,-2310.674346310328,-3485.7893462115503,-396.53113738334395,-2125.5728744012417,-2365.7018713554507,-2383.862442220155,-2292.4947802544752,-630.4619130732804,-2685.2760491730646,-5781.738329822685,-531.072664024728,-1512.5631981949048,-1520.5935232610557,-499.2152585424147,-296.7926576972811,-1890.6977683877208,-1080.5703254220798,-3353.23971701168,-3251.8225507223647,-3103.5110079832684,-7253.5687349391665,-1496.1638694703586,-257.3862473575985,-1239.2567556575073,-1491.6686745804514,-209.1728175275861,-1263.0491509835563,-772.4570901627962,-90.9467593357414,-614.2147434941965,-3083.3216083049165,-1257.9875488453397,-2888.798485977188,-220.0853534837362,-878.9507516606417,-1262.065832716324,-1421.9345530227806,-398.66335238797564,-204.26572591709817,-2828.0402372072017,-287.7833864407269,-1621.1585709613917,-973.4105463020638,-1167.870755273053,-765.9408747572633,-1370.105414372159,-1960.9585517818155,-214.15438761790645,-548.5407205869867,-42.01369883765726,-7288.413070863508,-1889.433391781249,-589.283388502091,-762.6593445656625,-1908.5391111282524,-919.1824291409959,-120.4033509782664,-713.2688232386905,-1566.7763212676807,-1853.2997103084394,-2439.4315605116776,-1270.3171498825036,-1314.7837509804904,-2658.35083240774,-3775.1328458098064,-359.7282855584987,-2428.305623442008,-1005.1286167922243,-594.2219256858307,-365.35409152382283,-3568.7647661827755,-444.716872015087,-25.90632137231567,-2482.5931815296717,-1437.9994599576187,-612.9195725019299,-816.931455418776,-1176.8640265829117,-2199.230977515018,-754.0782642267568,-1667.6352025280985,-1696.2747099723745,-1863.0278766721415,-1248.4304564979245,-770.4772536435032,-2593.364573391418,-105.56058681172351,-1982.5910166973447,-303.2318574041527,-4724.088676591067,-1905.4452976058947,-2218.1469122044045,-3539.1493238969506,-3204.3995514779995,-691.3420534024629,-4007.216154948754,-3324.5721559303024,-3140.6712874973996,-2363.19410344296,-2943.9372662985143,-1356.1477236027365,-2651.5250293375284,-3459.0846473668066,-2629.8087140973935,-3635.8505507239224,-622.4567688035609,-258.97187796283447,-75.77146755645232,-817.3079289412619,-1034.3577794798953,-826.952745481106,-2322.687756146663,-202.6693516131471,-2556.961619791739,-838.6114112905913,-1178.4243814353822,-2240.2946865620484,-1285.0455373912773,-733.4958808340001,-1251.358114130998,-1686.997537104668,-3035.9660516899817,-2359.1765018104925,-950.7494557306181,-2878.3081790505244,-565.0655617028108,-1975.6393510618125,-2643.834278752735,-3374.9718250275087,-2064.912250623156,-1432.385251934805,-3134.0213013496277,-1229.097267548024,-334.91320987340964,-3106.713021645956,-5109.869113407967,-1935.8494953072554,-3095.558697609038,-1362.5489996479955,-449.7962220863504,-2877.1025050389812,-3424.9969317108093,-298.7491106669278,-3293.135077049426,-4001.298522532947,-3477.4881321156226,-2135.0608678638378,-313.84859459073175,-1761.1364193553618,-2894.4888602417113,-1458.676141300445,-99.44545046944022,-1914.052712818409,-4144.019165164767,-2008.4610527513594,-1780.0301751944703,-1021.5935932144622,-3868.0176339666104,-728.1098743833721,-1183.4347873581553,-927.0168291530077,-983.7333034055597,-2492.8169115226156,-646.6097774380586,-3285.11018072619,-368.0626460147203,-855.1708168759736,-921.7026733311845,-1533.5543938152734,-2476.639671524107,-1287.9071150697805,-870.2729484011496,-816.6992691555034,-224.48713303260047,-1146.5678675644317,-208.39692755947976,-101.33365383409617,-242.67781424893178,-39.79867961600818,-1429.8185384286007,-477.4454727628247,-2.2760832176832855,-553.6407145271419,-165.75436649005266,-521.7045999988101,-368.700549981441,-554.8084514356939,-3227.550759855241,-1963.168142593402],\"yaxis\":\"y\",\"type\":\"bar\"}],                        {\"template\":{\"data\":{\"histogram2dcontour\":[{\"type\":\"histogram2dcontour\",\"colorbar\":{\"outlinewidth\":0,\"ticks\":\"\"},\"colorscale\":[[0.0,\"#0d0887\"],[0.1111111111111111,\"#46039f\"],[0.2222222222222222,\"#7201a8\"],[0.3333333333333333,\"#9c179e\"],[0.4444444444444444,\"#bd3786\"],[0.5555555555555556,\"#d8576b\"],[0.6666666666666666,\"#ed7953\"],[0.7777777777777778,\"#fb9f3a\"],[0.8888888888888888,\"#fdca26\"],[1.0,\"#f0f921\"]]}],\"choropleth\":[{\"type\":\"choropleth\",\"colorbar\":{\"outlinewidth\":0,\"ticks\":\"\"}}],\"histogram2d\":[{\"type\":\"histogram2d\",\"colorbar\":{\"outlinewidth\":0,\"ticks\":\"\"},\"colorscale\":[[0.0,\"#0d0887\"],[0.1111111111111111,\"#46039f\"],[0.2222222222222222,\"#7201a8\"],[0.3333333333333333,\"#9c179e\"],[0.4444444444444444,\"#bd3786\"],[0.5555555555555556,\"#d8576b\"],[0.6666666666666666,\"#ed7953\"],[0.7777777777777778,\"#fb9f3a\"],[0.8888888888888888,\"#fdca26\"],[1.0,\"#f0f921\"]]}],\"heatmap\":[{\"type\":\"heatmap\",\"colorbar\":{\"outlinewidth\":0,\"ticks\":\"\"},\"colorscale\":[[0.0,\"#0d0887\"],[0.1111111111111111,\"#46039f\"],[0.2222222222222222,\"#7201a8\"],[0.3333333333333333,\"#9c179e\"],[0.4444444444444444,\"#bd3786\"],[0.5555555555555556,\"#d8576b\"],[0.6666666666666666,\"#ed7953\"],[0.7777777777777778,\"#fb9f3a\"],[0.8888888888888888,\"#fdca26\"],[1.0,\"#f0f921\"]]}],\"heatmapgl\":[{\"type\":\"heatmapgl\",\"colorbar\":{\"outlinewidth\":0,\"ticks\":\"\"},\"colorscale\":[[0.0,\"#0d0887\"],[0.1111111111111111,\"#46039f\"],[0.2222222222222222,\"#7201a8\"],[0.3333333333333333,\"#9c179e\"],[0.4444444444444444,\"#bd3786\"],[0.5555555555555556,\"#d8576b\"],[0.6666666666666666,\"#ed7953\"],[0.7777777777777778,\"#fb9f3a\"],[0.8888888888888888,\"#fdca26\"],[1.0,\"#f0f921\"]]}],\"contourcarpet\":[{\"type\":\"contourcarpet\",\"colorbar\":{\"outlinewidth\":0,\"ticks\":\"\"}}],\"contour\":[{\"type\":\"contour\",\"colorbar\":{\"outlinewidth\":0,\"ticks\":\"\"},\"colorscale\":[[0.0,\"#0d0887\"],[0.1111111111111111,\"#46039f\"],[0.2222222222222222,\"#7201a8\"],[0.3333333333333333,\"#9c179e\"],[0.4444444444444444,\"#bd3786\"],[0.5555555555555556,\"#d8576b\"],[0.6666666666666666,\"#ed7953\"],[0.7777777777777778,\"#fb9f3a\"],[0.8888888888888888,\"#fdca26\"],[1.0,\"#f0f921\"]]}],\"surface\":[{\"type\":\"surface\",\"colorbar\":{\"outlinewidth\":0,\"ticks\":\"\"},\"colorscale\":[[0.0,\"#0d0887\"],[0.1111111111111111,\"#46039f\"],[0.2222222222222222,\"#7201a8\"],[0.3333333333333333,\"#9c179e\"],[0.4444444444444444,\"#bd3786\"],[0.5555555555555556,\"#d8576b\"],[0.6666666666666666,\"#ed7953\"],[0.7777777777777778,\"#fb9f3a\"],[0.8888888888888888,\"#fdca26\"],[1.0,\"#f0f921\"]]}],\"mesh3d\":[{\"type\":\"mesh3d\",\"colorbar\":{\"outlinewidth\":0,\"ticks\":\"\"}}],\"scatter\":[{\"fillpattern\":{\"fillmode\":\"overlay\",\"size\":10,\"solidity\":0.2},\"type\":\"scatter\"}],\"parcoords\":[{\"type\":\"parcoords\",\"line\":{\"colorbar\":{\"outlinewidth\":0,\"ticks\":\"\"}}}],\"scatterpolargl\":[{\"type\":\"scatterpolargl\",\"marker\":{\"colorbar\":{\"outlinewidth\":0,\"ticks\":\"\"}}}],\"bar\":[{\"error_x\":{\"color\":\"#2a3f5f\"},\"error_y\":{\"color\":\"#2a3f5f\"},\"marker\":{\"line\":{\"color\":\"#E5ECF6\",\"width\":0.5},\"pattern\":{\"fillmode\":\"overlay\",\"size\":10,\"solidity\":0.2}},\"type\":\"bar\"}],\"scattergeo\":[{\"type\":\"scattergeo\",\"marker\":{\"colorbar\":{\"outlinewidth\":0,\"ticks\":\"\"}}}],\"scatterpolar\":[{\"type\":\"scatterpolar\",\"marker\":{\"colorbar\":{\"outlinewidth\":0,\"ticks\":\"\"}}}],\"histogram\":[{\"marker\":{\"pattern\":{\"fillmode\":\"overlay\",\"size\":10,\"solidity\":0.2}},\"type\":\"histogram\"}],\"scattergl\":[{\"type\":\"scattergl\",\"marker\":{\"colorbar\":{\"outlinewidth\":0,\"ticks\":\"\"}}}],\"scatter3d\":[{\"type\":\"scatter3d\",\"line\":{\"colorbar\":{\"outlinewidth\":0,\"ticks\":\"\"}},\"marker\":{\"colorbar\":{\"outlinewidth\":0,\"ticks\":\"\"}}}],\"scattermapbox\":[{\"type\":\"scattermapbox\",\"marker\":{\"colorbar\":{\"outlinewidth\":0,\"ticks\":\"\"}}}],\"scatterternary\":[{\"type\":\"scatterternary\",\"marker\":{\"colorbar\":{\"outlinewidth\":0,\"ticks\":\"\"}}}],\"scattercarpet\":[{\"type\":\"scattercarpet\",\"marker\":{\"colorbar\":{\"outlinewidth\":0,\"ticks\":\"\"}}}],\"carpet\":[{\"aaxis\":{\"endlinecolor\":\"#2a3f5f\",\"gridcolor\":\"white\",\"linecolor\":\"white\",\"minorgridcolor\":\"white\",\"startlinecolor\":\"#2a3f5f\"},\"baxis\":{\"endlinecolor\":\"#2a3f5f\",\"gridcolor\":\"white\",\"linecolor\":\"white\",\"minorgridcolor\":\"white\",\"startlinecolor\":\"#2a3f5f\"},\"type\":\"carpet\"}],\"table\":[{\"cells\":{\"fill\":{\"color\":\"#EBF0F8\"},\"line\":{\"color\":\"white\"}},\"header\":{\"fill\":{\"color\":\"#C8D4E3\"},\"line\":{\"color\":\"white\"}},\"type\":\"table\"}],\"barpolar\":[{\"marker\":{\"line\":{\"color\":\"#E5ECF6\",\"width\":0.5},\"pattern\":{\"fillmode\":\"overlay\",\"size\":10,\"solidity\":0.2}},\"type\":\"barpolar\"}],\"pie\":[{\"automargin\":true,\"type\":\"pie\"}]},\"layout\":{\"autotypenumbers\":\"strict\",\"colorway\":[\"#636efa\",\"#EF553B\",\"#00cc96\",\"#ab63fa\",\"#FFA15A\",\"#19d3f3\",\"#FF6692\",\"#B6E880\",\"#FF97FF\",\"#FECB52\"],\"font\":{\"color\":\"#2a3f5f\"},\"hovermode\":\"closest\",\"hoverlabel\":{\"align\":\"left\"},\"paper_bgcolor\":\"white\",\"plot_bgcolor\":\"#E5ECF6\",\"polar\":{\"bgcolor\":\"#E5ECF6\",\"angularaxis\":{\"gridcolor\":\"white\",\"linecolor\":\"white\",\"ticks\":\"\"},\"radialaxis\":{\"gridcolor\":\"white\",\"linecolor\":\"white\",\"ticks\":\"\"}},\"ternary\":{\"bgcolor\":\"#E5ECF6\",\"aaxis\":{\"gridcolor\":\"white\",\"linecolor\":\"white\",\"ticks\":\"\"},\"baxis\":{\"gridcolor\":\"white\",\"linecolor\":\"white\",\"ticks\":\"\"},\"caxis\":{\"gridcolor\":\"white\",\"linecolor\":\"white\",\"ticks\":\"\"}},\"coloraxis\":{\"colorbar\":{\"outlinewidth\":0,\"ticks\":\"\"}},\"colorscale\":{\"sequential\":[[0.0,\"#0d0887\"],[0.1111111111111111,\"#46039f\"],[0.2222222222222222,\"#7201a8\"],[0.3333333333333333,\"#9c179e\"],[0.4444444444444444,\"#bd3786\"],[0.5555555555555556,\"#d8576b\"],[0.6666666666666666,\"#ed7953\"],[0.7777777777777778,\"#fb9f3a\"],[0.8888888888888888,\"#fdca26\"],[1.0,\"#f0f921\"]],\"sequentialminus\":[[0.0,\"#0d0887\"],[0.1111111111111111,\"#46039f\"],[0.2222222222222222,\"#7201a8\"],[0.3333333333333333,\"#9c179e\"],[0.4444444444444444,\"#bd3786\"],[0.5555555555555556,\"#d8576b\"],[0.6666666666666666,\"#ed7953\"],[0.7777777777777778,\"#fb9f3a\"],[0.8888888888888888,\"#fdca26\"],[1.0,\"#f0f921\"]],\"diverging\":[[0,\"#8e0152\"],[0.1,\"#c51b7d\"],[0.2,\"#de77ae\"],[0.3,\"#f1b6da\"],[0.4,\"#fde0ef\"],[0.5,\"#f7f7f7\"],[0.6,\"#e6f5d0\"],[0.7,\"#b8e186\"],[0.8,\"#7fbc41\"],[0.9,\"#4d9221\"],[1,\"#276419\"]]},\"xaxis\":{\"gridcolor\":\"white\",\"linecolor\":\"white\",\"ticks\":\"\",\"title\":{\"standoff\":15},\"zerolinecolor\":\"white\",\"automargin\":true,\"zerolinewidth\":2},\"yaxis\":{\"gridcolor\":\"white\",\"linecolor\":\"white\",\"ticks\":\"\",\"title\":{\"standoff\":15},\"zerolinecolor\":\"white\",\"automargin\":true,\"zerolinewidth\":2},\"scene\":{\"xaxis\":{\"backgroundcolor\":\"#E5ECF6\",\"gridcolor\":\"white\",\"linecolor\":\"white\",\"showbackground\":true,\"ticks\":\"\",\"zerolinecolor\":\"white\",\"gridwidth\":2},\"yaxis\":{\"backgroundcolor\":\"#E5ECF6\",\"gridcolor\":\"white\",\"linecolor\":\"white\",\"showbackground\":true,\"ticks\":\"\",\"zerolinecolor\":\"white\",\"gridwidth\":2},\"zaxis\":{\"backgroundcolor\":\"#E5ECF6\",\"gridcolor\":\"white\",\"linecolor\":\"white\",\"showbackground\":true,\"ticks\":\"\",\"zerolinecolor\":\"white\",\"gridwidth\":2}},\"shapedefaults\":{\"line\":{\"color\":\"#2a3f5f\"}},\"annotationdefaults\":{\"arrowcolor\":\"#2a3f5f\",\"arrowhead\":0,\"arrowwidth\":1},\"geo\":{\"bgcolor\":\"white\",\"landcolor\":\"#E5ECF6\",\"subunitcolor\":\"white\",\"showland\":true,\"showlakes\":true,\"lakecolor\":\"white\"},\"title\":{\"x\":0.05},\"mapbox\":{\"style\":\"light\"}}},\"xaxis\":{\"anchor\":\"y\",\"domain\":[0.0,1.0],\"title\":{\"text\":\"x\"},\"categoryorder\":\"array\",\"categoryarray\":[\"Year\",\"Distance\",\"Engine_capacity(cm3)\",\"year_distance\",\"Transmission_Automatic\",\"Transmission_Manual\",\"Model_1 Series\",\"Model_100\",\"Model_1007\",\"Model_106\",\"Model_107\",\"Model_108\",\"Model_1102 Tavria\",\"Model_121\",\"Model_145\",\"Model_147\",\"Model_156\",\"Model_159\",\"Model_166\",\"Model_19\",\"Model_190\",\"Model_2\",\"Model_2 Series\",\"Model_200\",\"Model_200 Series\",\"Model_2008\",\"Model_205\",\"Model_206\",\"Model_207\",\"Model_208\",\"Model_21\",\"Model_2101\",\"Model_2102\",\"Model_2103\",\"Model_2104\",\"Model_2105\",\"Model_2106\",\"Model_2107\",\"Model_2108\",\"Model_2109\",\"Model_21099\",\"Model_2110\",\"Model_2111\",\"Model_2112\",\"Model_2113\",\"Model_2114\",\"Model_2115\",\"Model_2121niva\",\"Model_2123 Chevrolet\",\"Model_2125\",\"Model_2129 Niva Long\",\"Model_2140\",\"Model_2141\",\"Model_2410\",\"Model_25\",\"Model_3\",\"Model_3 GT\",\"Model_3 Series\",\"Model_3008\",\"Model_300c\",\"Model_300m\",\"Model_301\",\"Model_306\",\"Model_307\",\"Model_308\",\"Model_309\",\"Model_31029\",\"Model_3110\",\"Model_323\",\"Model_4 series\",\"Model_4-Runner\",\"Model_400 Series\",\"Model_4007\",\"Model_405\",\"Model_406\",\"Model_407\",\"Model_408\",\"Model_45\",\"Model_469\",\"Model_5\",\"Model_5 GT\",\"Model_5 Series\",\"Model_500\",\"Model_5008\",\"Model_500L\",\"Model_500X\",\"Model_508\",\"Model_6\",\"Model_6 Series\",\"Model_600 Series\",\"Model_605\",\"Model_607\",\"Model_620\",\"Model_626\",\"Model_7 Series\",\"Model_700 Series\",\"Model_75\",\"Model_80\",\"Model_800 Series\",\"Model_806\",\"Model_807\",\"Model_9-3\",\"Model_9-5\",\"Model_90\",\"Model_900 Series\",\"Model_9000\",\"Model_911\",\"Model_924\",\"Model_929\",\"Model_968\",\"Model_969\",\"Model_A Class\",\"Model_A1\",\"Model_A2\",\"Model_A3\",\"Model_A3 e-tron\",\"Model_A4\",\"Model_A5\",\"Model_A6\",\"Model_A7\",\"Model_A8\",\"Model_AMG GT\",\"Model_ASX\",\"Model_ATS\",\"Model_Accent\",\"Model_Accord\",\"Model_Actyon\",\"Model_Adam\",\"Model_Aerostar\",\"Model_Agila\",\"Model_Albea\",\"Model_Alfasud\",\"Model_Alhambra\",\"Model_Allroad\",\"Model_Almera\",\"Model_Almera Tino\",\"Model_Alt model\",\"Model_Altea\",\"Model_Altea XL\",\"Model_Altele\",\"Model_Altima\",\"Model_Alto\",\"Model_Amarok\",\"Model_Ampera\",\"Model_Antara\",\"Model_Applouse\",\"Model_Arosa\",\"Model_Arteon\",\"Model_Ascona\",\"Model_Astra\",\"Model_Atos\",\"Model_Auris\",\"Model_Avalon\",\"Model_Avante\",\"Model_Avenger\",\"Model_Avensis\",\"Model_Avensis Verso\",\"Model_Aveo\",\"Model_Ax\",\"Model_Aygo\",\"Model_Azera\",\"Model_B Class\",\"Model_B-Max\",\"Model_B9 Tribeca\",\"Model_BRZ\",\"Model_BS3\",\"Model_BS6\",\"Model_BX\",\"Model_Baleno\",\"Model_Beetle\",\"Model_Berlingo\",\"Model_Bipper\",\"Model_Blazer\",\"Model_Bls\",\"Model_Bluebird\",\"Model_Bolt\",\"Model_Bora\",\"Model_Boxster\",\"Model_Brava\",\"Model_Bravo\",\"Model_Breez\",\"Model_C Class\",\"Model_C-Class Coupe\",\"Model_C-Crosser\",\"Model_C-Elysee\",\"Model_C-HR\",\"Model_C-Max\",\"Model_C1\",\"Model_C2\",\"Model_C3\",\"Model_C3 Picasso\",\"Model_C30\",\"Model_C4\",\"Model_C4 Cactus\",\"Model_C4 Picasso\",\"Model_C5\",\"Model_C70\",\"Model_C8\",\"Model_CK\",\"Model_CL Class\",\"Model_CLA\",\"Model_CLC Class\",\"Model_CLK Class\",\"Model_CLS Class\",\"Model_CR-V\",\"Model_CR-Z\",\"Model_CS35PLUS\",\"Model_CT Series\",\"Model_CTS\",\"Model_CX\",\"Model_CX-3\",\"Model_CX-30\",\"Model_CX-5\",\"Model_CX-7\",\"Model_CX-9\",\"Model_Caddy\",\"Model_Caliber\",\"Model_Calibra\",\"Model_Camaro\",\"Model_Camry\",\"Model_Captiva\",\"Model_Captur\",\"Model_Caravan\",\"Model_Caravelle\",\"Model_Carens\",\"Model_Carina\",\"Model_Carisma\",\"Model_Carnival\",\"Model_Cayenne\",\"Model_Cayman\",\"Model_Ceed\",\"Model_Ceed Sw\",\"Model_Celica\",\"Model_Cerato\",\"Model_Challenger\",\"Model_Charger\",\"Model_Cherokee\",\"Model_Cherry\",\"Model_Chery Van\",\"Model_Citan\",\"Model_Citigo\",\"Model_City K-ZE\",\"Model_Civic\",\"Model_Civic Hibrid\",\"Model_Clarity\",\"Model_Clarus\",\"Model_Clio\",\"Model_Clio Symbol\",\"Model_Clio4\",\"Model_Clubman\",\"Model_Colt\",\"Model_Combo\",\"Model_Commander\",\"Model_Compass\",\"Model_Concerto\",\"Model_Cooper\",\"Model_Cooper S\",\"Model_Cordoba\",\"Model_Corolla\",\"Model_Corolla Verso\",\"Model_Corsa\",\"Model_Corvette\",\"Model_Countryman\",\"Model_Coupe\",\"Model_Courier\",\"Model_Creta\",\"Model_Crosseastar\",\"Model_Crosstrek\",\"Model_Crown\",\"Model_Cruze\",\"Model_Cuore\",\"Model_D20\",\"Model_D50\",\"Model_DS3\",\"Model_DS4\",\"Model_DS5\",\"Model_Dakota\",\"Model_Damas\",\"Model_Dedra\",\"Model_Defender\",\"Model_Delta\",\"Model_Discovery\",\"Model_Discovery Sport\",\"Model_Doblo\",\"Model_Doblo Cargo\",\"Model_Doblo Panorama\",\"Model_Dokker\",\"Model_Dokker VAN\",\"Model_Durango\",\"Model_Duster\",\"Model_E Class\",\"Model_E-Class Coupe\",\"Model_E-Pace\",\"Model_EU5\",\"Model_Eastar\",\"Model_Eclipse\",\"Model_Eclipse Cross\",\"Model_EcoSport\",\"Model_Edge\",\"Model_Elantra\",\"Model_Encore\",\"Model_Envision\",\"Model_Envoy\",\"Model_Eos\",\"Model_Epica\",\"Model_Equinox\",\"Model_Equus\",\"Model_Es Series\",\"Model_Escape\",\"Model_Escort\",\"Model_Espace\",\"Model_Espero\",\"Model_Evanda\",\"Model_Exeo\",\"Model_Expedition\",\"Model_Expert\",\"Model_Explorer\",\"Model_Express\",\"Model_F-150\",\"Model_F-250\",\"Model_F-PACE\",\"Model_F-Type\",\"Model_F3\",\"Model_F6\",\"Model_FR-V\",\"Model_FSV\",\"Model_FX\",\"Model_Fabia\",\"Model_Fabia RS\",\"Model_Favorit\",\"Model_Felicia\",\"Model_Fiesta\",\"Model_Fiesta 3D\",\"Model_Fiesta 5D\",\"Model_Fiorino\",\"Model_Fluence\",\"Model_Focus\",\"Model_Focus Rs\",\"Model_Focus Wagon\",\"Model_Forester\",\"Model_Forfour\",\"Model_Fortuner\",\"Model_Fortwo\",\"Model_Fox\",\"Model_Freelander\",\"Model_Freema\",\"Model_Frontera\",\"Model_Frontier\",\"Model_Fullback\",\"Model_Fusion\",\"Model_G Class\",\"Model_G Series\",\"Model_G3\",\"Model_GL Class\",\"Model_GLA\",\"Model_GLC\",\"Model_GLC Coupe\",\"Model_GLE\",\"Model_GLE Coupe\",\"Model_GLK Class\",\"Model_GLS Klass\",\"Model_GS Series\",\"Model_GT86\",\"Model_GW Peri\",\"Model_GX Series\",\"Model_Galant\",\"Model_Galaxy\",\"Model_Galloper\",\"Model_Genesis\",\"Model_Getz\",\"Model_Ghibli II\",\"Model_Giulia\",\"Model_Giulietta\",\"Model_Gol\",\"Model_Golf\",\"Model_Golf Plus\",\"Model_Granada\",\"Model_Grand - Am\",\"Model_Grand Caravan\",\"Model_Grand Cherokee\",\"Model_Grand Espace\",\"Model_Grand Modus\",\"Model_Grand Scenic\",\"Model_Grand Vitara\",\"Model_Grand Voyager\",\"Model_Grande Punto\",\"Model_Grande Punto 5D\",\"Model_Grandeur\",\"Model_Grandis\",\"Model_Grandland X\",\"Model_Granta\",\"Model_Gt\",\"Model_H-1 Truck\",\"Model_H2\",\"Model_H200\",\"Model_H3\",\"Model_H6\",\"Model_H9\",\"Model_HHR\",\"Model_HR-V\",\"Model_Hiace\",\"Model_Highlander\",\"Model_Hilux\",\"Model_Hover\",\"Model_Hunter\",\"Model_ILX\",\"Model_IONIQ\",\"Model_IS Series\",\"Model_Ibiza\",\"Model_Ignis\",\"Model_Impala\",\"Model_Impreza\",\"Model_Inca\",\"Model_Insight\",\"Model_Insignia\",\"Model_Intrepid\",\"Model_J7\",\"Model_JS4\",\"Model_Jazz\",\"Model_Jetta\",\"Model_Jimny\",\"Model_Joice\",\"Model_Jolion\",\"Model_Journey\",\"Model_Juke\",\"Model_Jumpy\",\"Model_Justy\",\"Model_Ka\",\"Model_Kadett\",\"Model_Kadjar\",\"Model_Kalina\",\"Model_Kalos\",\"Model_Kangoo\",\"Model_Kappa\",\"Model_Karl\",\"Model_Karoq\",\"Model_Kicks\",\"Model_Kodiaq\",\"Model_Koleos\",\"Model_Kona\",\"Model_Korando\",\"Model_Kuga\",\"Model_Kyron\",\"Model_L\",\"Model_L Series\",\"Model_LS Series\",\"Model_LX Series\",\"Model_Lacetti\",\"Model_Laguna\",\"Model_Lancer\",\"Model_Land Cruiser\",\"Model_Land Cruiser Prado\",\"Model_Lanos\",\"Model_Lantra\",\"Model_Largus\",\"Model_Leaf\",\"Model_Legacy\",\"Model_Leon\",\"Model_Liana\",\"Model_Lodgy\",\"Model_Logan\",\"Model_Logan Mcv\",\"Model_Logan Van\",\"Model_Logo\",\"Model_Lumina\",\"Model_Lupo\",\"Model_Lybra\",\"Model_M Class\",\"Model_M Models\",\"Model_M Series\",\"Model_MDX\",\"Model_MKC\",\"Model_MKZ\",\"Model_MPV\",\"Model_MX-30\",\"Model_MX-5\",\"Model_MX-6\",\"Model_Macan\",\"Model_Magentis\",\"Model_Magnum\",\"Model_Malibu\",\"Model_Marea\",\"Model_Materia\",\"Model_Matiz\",\"Model_Matrix\",\"Model_Maverick\",\"Model_Maxima\",\"Model_Megane\",\"Model_Meriva\",\"Model_MiTo\",\"Model_Micra\",\"Model_Mirage\",\"Model_Model 3\",\"Model_Model S\",\"Model_Modus\",\"Model_Mokka\",\"Model_Mondeo\",\"Model_Monterey\",\"Model_Montero Sport\",\"Model_Multipla\",\"Model_Multivan\",\"Model_Murano\",\"Model_Musa\",\"Model_Musso\",\"Model_Mustang\",\"Model_NF Sonata\",\"Model_NV200\",\"Model_NV400\",\"Model_NX Series\",\"Model_Navara\",\"Model_Navigator\",\"Model_Nemo\",\"Model_Neon\",\"Model_New Beetle\",\"Model_Nexia\",\"Model_Niro\",\"Model_Nitro\",\"Model_Niva\",\"Model_Note\",\"Model_Nubira\",\"Model_Octavia\",\"Model_Octavia RS\",\"Model_Odyssey\",\"Model_Oka\",\"Model_Omega\",\"Model_One\",\"Model_Opirus\",\"Model_Optima\",\"Model_Orion\",\"Model_Orlando\",\"Model_Outback\",\"Model_Outlander\",\"Model_PT Cruiser\",\"Model_Pacifica\",\"Model_Pajero\",\"Model_Pajero Pinin\",\"Model_Pajero Sport\",\"Model_Palio\",\"Model_Panamera\",\"Model_Panda\",\"Model_Partner\",\"Model_Passat\",\"Model_Passat CC\",\"Model_Passo\",\"Model_Pathfinder\",\"Model_Patriot\",\"Model_Patrol\",\"Model_Phaeton\",\"Model_Phedra\",\"Model_Picanto\",\"Model_Picnic\",\"Model_Pikap\",\"Model_Pixo\",\"Model_Poer\",\"Model_Polo\",\"Model_Pony\",\"Model_Prairie\",\"Model_Pregio\",\"Model_Prelude\",\"Model_Premacy\",\"Model_Previa\",\"Model_Pride\",\"Model_Primastar\",\"Model_Primera\",\"Model_Priora\",\"Model_Prisma\",\"Model_Prius\",\"Model_Prius +\",\"Model_Prius Prime\",\"Model_Prius c\",\"Model_Prius v\",\"Model_Pro_Cee'd\",\"Model_Proace\",\"Model_Probe\",\"Model_Pulsar\",\"Model_Puma\",\"Model_Punto\",\"Model_Q Series\",\"Model_Q3\",\"Model_Q5\",\"Model_Q7\",\"Model_Q8\",\"Model_QX Series\",\"Model_QX30\",\"Model_QX50\",\"Model_QX60\",\"Model_QX70\",\"Model_Qashqai\",\"Model_Qashqai+2\",\"Model_Qq\",\"Model_Quattro\",\"Model_Qubo\",\"Model_Quest\",\"Model_R Class\",\"Model_R2\",\"Model_R4\",\"Model_RC Series\",\"Model_RDX\",\"Model_RX Series\",\"Model_RX-8\",\"Model_Ram\",\"Model_Range Rover\",\"Model_Range Rover Evoque\",\"Model_Range Rover Sport\",\"Model_Range Rover Velar\",\"Model_Ranger\",\"Model_Rapid\",\"Model_Rav 4\",\"Model_Rekord\",\"Model_Renegade\",\"Model_Rexton\",\"Model_Rezzo\",\"Model_Rio\",\"Model_Rio X-Line\",\"Model_Ritmo\",\"Model_Roadster\",\"Model_Rodius\",\"Model_Rogue\",\"Model_Roomster\",\"Model_S Class\",\"Model_S Klass\",\"Model_S-Coupe\",\"Model_S-Cross\",\"Model_S-Max\",\"Model_S-Type\",\"Model_S3\",\"Model_S4\",\"Model_S40\",\"Model_S5\",\"Model_S60\",\"Model_S70\",\"Model_S8\",\"Model_S80\",\"Model_S90\",\"Model_SC Series\",\"Model_SLK Class\",\"Model_SX4\",\"Model_Safrane\",\"Model_Samurai\",\"Model_Sandero\",\"Model_Sandero Stepway\",\"Model_Santa FE\",\"Model_Santamo\",\"Model_Saratoga\",\"Model_Saxo\",\"Model_Scala\",\"Model_Scenic\",\"Model_Scirocco\",\"Model_Scorpio\",\"Model_Scudo\",\"Model_Sebring\",\"Model_Seltos\",\"Model_Sentra\",\"Model_Sephia\",\"Model_Serena\",\"Model_Series (W123)\",\"Model_Series (W124)\",\"Model_Sharan\",\"Model_Shuma\",\"Model_Shuttle\",\"Model_Siber\",\"Model_Siecento\",\"Model_Sienna\",\"Model_Sierra\",\"Model_Sigma\",\"Model_Signum\",\"Model_Sintra\",\"Model_Sirion\",\"Model_Sl Class\",\"Model_Solara\",\"Model_Solaris\",\"Model_Sonata\",\"Model_Sorento\",\"Model_Soul\",\"Model_Space Runner\",\"Model_Space Star\",\"Model_Space Wagon\",\"Model_Spark\",\"Model_Spectra\",\"Model_Splash\",\"Model_Sportage\",\"Model_Starlet\",\"Model_Stelvio\",\"Model_Stilo\",\"Model_Stinger\",\"Model_Stonic\",\"Model_Stratus\",\"Model_Stream\",\"Model_Streetwise\",\"Model_Sunny\",\"Model_Superb\",\"Model_Swift\",\"Model_T-Cross\",\"Model_T500\",\"Model_TSX\",\"Model_TT\",\"Model_Tacoma\",\"Model_Tacuma\",\"Model_Talisman\",\"Model_Taurus\",\"Model_Terios\",\"Model_Terracan\",\"Model_Terrain\",\"Model_Terrano\",\"Model_Thalia\",\"Model_Thema\",\"Model_Thesis\",\"Model_Tiggo\",\"Model_Tigra\",\"Model_Tiguan\",\"Model_Tiida\",\"Model_Tipo\",\"Model_Toledo\",\"Model_Touareg\",\"Model_Touran\",\"Model_Tourneo Connect\",\"Model_Town Car\",\"Model_Town&Country\",\"Model_Tracer\",\"Model_Trafic\",\"Model_Trailblaizer\",\"Model_Trajet\",\"Model_Transit Connect\",\"Model_Transporter\",\"Model_Trax\",\"Model_Trezia\",\"Model_Tribute\",\"Model_Trooper\",\"Model_Tucson\",\"Model_Twingo\",\"Model_UX\",\"Model_Urban Cruiser\",\"Model_V Class\",\"Model_V40\",\"Model_V50\",\"Model_V60\",\"Model_V70\",\"Model_V90\",\"Model_Vaneo\",\"Model_Vanette\",\"Model_Vectra\",\"Model_Vel Satis\",\"Model_Veloster\",\"Model_Venga\",\"Model_Vento\",\"Model_Venza\",\"Model_Veracruz\",\"Model_Verso\",\"Model_Verso-S\",\"Model_Vesta\",\"Model_Viano\",\"Model_Vita\",\"Model_Vitara\",\"Model_Vito\",\"Model_Vivaro\",\"Model_Volt\",\"Model_Voyager\",\"Model_WRX\",\"Model_WRX STI\",\"Model_Wagon R+\",\"Model_Wrangler\",\"Model_X Class\",\"Model_X-Trail\",\"Model_X-Type\",\"Model_X1\",\"Model_X2\",\"Model_X3\",\"Model_X4\",\"Model_X5\",\"Model_X6\",\"Model_X7\",\"Model_XC40\",\"Model_XC60\",\"Model_XC70\",\"Model_XC90\",\"Model_XE\",\"Model_XJ\",\"Model_XV\",\"Model_Xedos\",\"Model_Xf\",\"Model_Xsara\",\"Model_Xsara Picasso\",\"Model_Xterra\",\"Model_YRV\",\"Model_Yaris\",\"Model_Yaris Verso\",\"Model_Yeti\",\"Model_Ypsilon\",\"Model_Z Series\",\"Model_ZOE\",\"Model_Zafira\",\"Model_altele\",\"Model_e-tron\",\"Model_i10\",\"Model_i20\",\"Model_i3\",\"Model_i30\",\"Model_i40\",\"Model_i8\",\"Model_iA\",\"Model_iM\",\"Model_iQ\",\"Model_ix20\",\"Model_ix35\",\"Model_on-DO\",\"Model_up!\",\"Model_xA\",\"Make_ARO\",\"Make_Abarth\",\"Make_Acura\",\"Make_Alfa Romeo\",\"Make_Alta marca\",\"Make_Audi\",\"Make_BAIC\",\"Make_BMW\",\"Make_Brilliance\",\"Make_Buick\",\"Make_Byd\",\"Make_Cadillac\",\"Make_Changan\",\"Make_Chery\",\"Make_Chevrolet\",\"Make_Chrysler\",\"Make_Citroen\",\"Make_Dacia\",\"Make_Daewoo\",\"Make_Daihatsu\",\"Make_Datsun\",\"Make_Dodge\",\"Make_Faw\",\"Make_Fiat\",\"Make_Ford\",\"Make_GAZ\",\"Make_GMC\",\"Make_Geely\",\"Make_Great Wall\",\"Make_Groz\",\"Make_Haima\",\"Make_Haval\",\"Make_Honda\",\"Make_Hummer\",\"Make_Hyundai\",\"Make_Infiniti\",\"Make_Isuzu\",\"Make_Jac\",\"Make_Jaguar\",\"Make_Jeep\",\"Make_KIA\",\"Make_Lada\",\"Make_Lancia\",\"Make_Land Rover\",\"Make_Lexus\",\"Make_Lifan\",\"Make_Lincoln\",\"Make_LuAZ\",\"Make_Maserati\",\"Make_Mazda\",\"Make_Mercedes\",\"Make_Mercedes-Maybach\",\"Make_Mini\",\"Make_Mitsubishi\",\"Make_Moskvich / Izh\",\"Make_Nissan\",\"Make_Opel\",\"Make_Peugeot\",\"Make_Pontiac\",\"Make_Porsche\",\"Make_Ravon\",\"Make_Renault\",\"Make_Rover\",\"Make_Saab\",\"Make_Saturn\",\"Make_Scion\",\"Make_Seat\",\"Make_Skoda\",\"Make_Smart\",\"Make_Ssangyong\",\"Make_Subaru\",\"Make_Suzuki\",\"Make_Tata\",\"Make_Tesla\",\"Make_Toyota\",\"Make_UAZ\",\"Make_Vaz\",\"Make_Volkswagen\",\"Make_Volvo\",\"Make_Xpeng\",\"Make_Zaz\",\"Make_Zotye\",\"Style_Cabriolet\",\"Style_Combi\",\"Style_Coupe\",\"Style_Crossover\",\"Style_Hatchback\",\"Style_Microvan\",\"Style_Minivan\",\"Style_Pickup\",\"Style_Roadster\",\"Style_SUV\",\"Style_Sedan\",\"Style_Universal\",\"Fuel_type_Diesel\",\"Fuel_type_Electric\",\"Fuel_type_Hybrid\",\"Fuel_type_Metan/Propan\",\"Fuel_type_Petrol\",\"Fuel_type_Plug-in Hybrid\",\"distance_type_average\",\"distance_type_high\",\"distance_type_optimal\",\"distance_type_very_high\",\"Make_rarity_common\",\"Make_rarity_rare\",\"Price_cat_average\",\"Price_cat_cheap\",\"Year_category_old\",\"Year_category_regular\"]},\"yaxis\":{\"anchor\":\"x\",\"domain\":[0.0,1.0],\"title\":{\"text\":\"y\"}},\"legend\":{\"title\":{\"text\":\"c\"},\"tracegroupgap\":0},\"margin\":{\"t\":60},\"barmode\":\"relative\"},                        {\"responsive\": true}                    ).then(function(){\n",
              "                            \n",
              "var gd = document.getElementById('0d0b3ec6-e497-421e-8b2b-28d8aeb6386d');\n",
              "var x = new MutationObserver(function (mutations, observer) {{\n",
              "        var display = window.getComputedStyle(gd).display;\n",
              "        if (!display || display === 'none') {{\n",
              "            console.log([gd, 'removed!']);\n",
              "            Plotly.purge(gd);\n",
              "            observer.disconnect();\n",
              "        }}\n",
              "}});\n",
              "\n",
              "// Listen for the removal of the full notebook cells\n",
              "var notebookContainer = gd.closest('#notebook-container');\n",
              "if (notebookContainer) {{\n",
              "    x.observe(notebookContainer, {childList: true});\n",
              "}}\n",
              "\n",
              "// Listen for the clearing of the current output cell\n",
              "var outputEl = gd.closest('.output');\n",
              "if (outputEl) {{\n",
              "    x.observe(outputEl, {childList: true});\n",
              "}}\n",
              "\n",
              "                        })                };                            </script>        </div>\n",
              "</body>\n",
              "</html>"
            ]
          },
          "metadata": {}
        }
      ]
    },
    {
      "cell_type": "markdown",
      "source": [
        "Интересно, здесь уже модели преобладают в весах, с точки зрения логики, это очень плохо, так как модели постоянно меняются, нужно больше основываться на характеристиках, а у них тут совсем небольшие веса"
      ],
      "metadata": {
        "id": "oZPjp4mY81JW"
      }
    },
    {
      "cell_type": "markdown",
      "source": [
        "### Ridge"
      ],
      "metadata": {
        "id": "plFxUP5D9RFJ"
      }
    },
    {
      "cell_type": "code",
      "source": [
        "moldova_r = Ridge().fit(X_train, y_train)\n",
        "\n",
        "y_pred = moldova_r.predict(X_test)\n",
        "\n",
        "print(f'R2 score: {r2_score(y_test, y_pred)}')\n",
        "print(f'MAE: {mean_absolute_error(y_test, y_pred)}')\n",
        "print(f'RMSE: {mean_squared_error(y_test, y_pred, squared=False)}')\n",
        "print(f'MAPE: {mean_absolute_percentage_error(y_test, y_pred)}')"
      ],
      "metadata": {
        "colab": {
          "base_uri": "https://localhost:8080/"
        },
        "id": "oc8yIsgn9MFG",
        "outputId": "77f70af4-60cc-4aef-ba83-a67f010c2f47"
      },
      "execution_count": null,
      "outputs": [
        {
          "output_type": "stream",
          "name": "stdout",
          "text": [
            "R2 score: 0.746098915184634\n",
            "MAE: 2467.8001942725414\n",
            "RMSE: 3840.698405081527\n",
            "MAPE: 0.5073894520698926\n"
          ]
        }
      ]
    },
    {
      "cell_type": "markdown",
      "source": [
        "Результаты с точки зрения ошибки похуже, а с точки зрения степени обучения лучше"
      ],
      "metadata": {
        "id": "DkwhBRPP9Xtm"
      }
    },
    {
      "cell_type": "code",
      "source": [
        "moldova_r = Ridge(alpha=6).fit(X_train, y_train)\n",
        "\n",
        "y_pred = moldova_r.predict(X_test)\n",
        "\n",
        "print(f'R2 score: {r2_score(y_test, y_pred)}')\n",
        "print(f'MAE: {mean_absolute_error(y_test, y_pred)}')\n",
        "print(f'RMSE: {mean_squared_error(y_test, y_pred, squared=False)}')\n",
        "print(f'MAPE: {mean_absolute_percentage_error(y_test, y_pred)}')"
      ],
      "metadata": {
        "colab": {
          "base_uri": "https://localhost:8080/"
        },
        "id": "wvGK3N0P9lL7",
        "outputId": "73b9a41e-b02f-4c4a-d9ae-9bc81c33210a"
      },
      "execution_count": null,
      "outputs": [
        {
          "output_type": "stream",
          "name": "stdout",
          "text": [
            "R2 score: 0.7422788461802391\n",
            "MAE: 2494.982284097161\n",
            "RMSE: 3869.4831547347435\n",
            "MAPE: 0.50068662424421\n"
          ]
        }
      ]
    },
    {
      "cell_type": "markdown",
      "source": [
        "Нормализированные данные дают лучше резултаты"
      ],
      "metadata": {
        "id": "GXvPcb4Z9sm4"
      }
    },
    {
      "cell_type": "code",
      "source": [
        "plot_weights(moldova_r.coef_, X.columns, show_cols=True)"
      ],
      "metadata": {
        "colab": {
          "base_uri": "https://localhost:8080/",
          "height": 542
        },
        "id": "LANXXOmz_Lux",
        "outputId": "51157422-a74c-495a-ee89-7ae32e652db9"
      },
      "execution_count": null,
      "outputs": [
        {
          "output_type": "display_data",
          "data": {
            "text/html": [
              "<html>\n",
              "<head><meta charset=\"utf-8\" /></head>\n",
              "<body>\n",
              "    <div>            <script src=\"https://cdnjs.cloudflare.com/ajax/libs/mathjax/2.7.5/MathJax.js?config=TeX-AMS-MML_SVG\"></script><script type=\"text/javascript\">if (window.MathJax && window.MathJax.Hub && window.MathJax.Hub.Config) {window.MathJax.Hub.Config({SVG: {font: \"STIX-Web\"}});}</script>                <script type=\"text/javascript\">window.PlotlyConfig = {MathJaxConfig: 'local'};</script>\n",
              "        <script src=\"https://cdn.plot.ly/plotly-2.16.1.min.js\"></script>                <div id=\"08a24dfd-4d37-419c-9549-a8ca738671cb\" class=\"plotly-graph-div\" style=\"height:525px; width:100%;\"></div>            <script type=\"text/javascript\">                                    window.PLOTLYENV=window.PLOTLYENV || {};                                    if (document.getElementById(\"08a24dfd-4d37-419c-9549-a8ca738671cb\")) {                    Plotly.newPlot(                        \"08a24dfd-4d37-419c-9549-a8ca738671cb\",                        [{\"alignmentgroup\":\"True\",\"hovertemplate\":\"c=>=0<br>x=%{x}<br>y=%{y}<extra></extra>\",\"legendgroup\":\">=0\",\"marker\":{\"color\":\"blue\",\"pattern\":{\"shape\":\"\"}},\"name\":\">=0\",\"offsetgroup\":\">=0\",\"orientation\":\"v\",\"showlegend\":true,\"textposition\":\"auto\",\"x\":[\"Year\",\"Engine_capacity(cm3)\",\"year_distance\",\"Transmission_Automatic\",\"Model_100\",\"Model_1007\",\"Model_106\",\"Model_108\",\"Model_121\",\"Model_166\",\"Model_19\",\"Model_200 Series\",\"Model_205\",\"Model_21\",\"Model_2101\",\"Model_2102\",\"Model_2103\",\"Model_2104\",\"Model_2105\",\"Model_2106\",\"Model_2108\",\"Model_2109\",\"Model_21099\",\"Model_2125\",\"Model_2140\",\"Model_2410\",\"Model_3008\",\"Model_300m\",\"Model_306\",\"Model_307\",\"Model_309\",\"Model_323\",\"Model_4 series\",\"Model_4-Runner\",\"Model_400 Series\",\"Model_405\",\"Model_406\",\"Model_407\",\"Model_408\",\"Model_469\",\"Model_5 GT\",\"Model_500X\",\"Model_6 Series\",\"Model_600 Series\",\"Model_605\",\"Model_626\",\"Model_7 Series\",\"Model_700 Series\",\"Model_75\",\"Model_800 Series\",\"Model_806\",\"Model_807\",\"Model_9-5\",\"Model_90\",\"Model_900 Series\",\"Model_9000\",\"Model_929\",\"Model_968\",\"Model_969\",\"Model_A7\",\"Model_A8\",\"Model_Accord\",\"Model_Adam\",\"Model_Aerostar\",\"Model_Albea\",\"Model_Alfasud\",\"Model_Alhambra\",\"Model_Almera\",\"Model_Almera Tino\",\"Model_Altele\",\"Model_Alto\",\"Model_Amarok\",\"Model_Applouse\",\"Model_Arosa\",\"Model_Arteon\",\"Model_Ascona\",\"Model_Avalon\",\"Model_Avante\",\"Model_Avenger\",\"Model_Avensis Verso\",\"Model_Ax\",\"Model_Azera\",\"Model_BRZ\",\"Model_BX\",\"Model_Baleno\",\"Model_Berlingo\",\"Model_Blazer\",\"Model_Bls\",\"Model_Bluebird\",\"Model_Bolt\",\"Model_Bora\",\"Model_Brava\",\"Model_Bravo\",\"Model_C-Class Coupe\",\"Model_C3 Picasso\",\"Model_C5\",\"Model_C8\",\"Model_CR-V\",\"Model_CTS\",\"Model_CX\",\"Model_CX-30\",\"Model_Calibra\",\"Model_Camaro\",\"Model_Caravelle\",\"Model_Carina\",\"Model_Carisma\",\"Model_Carnival\",\"Model_Cayman\",\"Model_Celica\",\"Model_Challenger\",\"Model_Charger\",\"Model_Cherry\",\"Model_Chery Van\",\"Model_Civic\",\"Model_Clarity\",\"Model_Commander\",\"Model_Concerto\",\"Model_Cooper\",\"Model_Cordoba\",\"Model_Corolla Verso\",\"Model_Corvette\",\"Model_Countryman\",\"Model_Courier\",\"Model_Crosseastar\",\"Model_Crown\",\"Model_Dedra\",\"Model_Defender\",\"Model_Delta\",\"Model_Discovery\",\"Model_Discovery Sport\",\"Model_Doblo Panorama\",\"Model_Durango\",\"Model_E-Class Coupe\",\"Model_E-Pace\",\"Model_EU5\",\"Model_Eclipse\",\"Model_Edge\",\"Model_Envision\",\"Model_Envoy\",\"Model_Epica\",\"Model_Equinox\",\"Model_Equus\",\"Model_Escort\",\"Model_Espace\",\"Model_Evanda\",\"Model_Expert\",\"Model_Explorer\",\"Model_Express\",\"Model_F-150\",\"Model_F-250\",\"Model_F-PACE\",\"Model_F-Type\",\"Model_F6\",\"Model_FR-V\",\"Model_FX\",\"Model_Favorit\",\"Model_Felicia\",\"Model_Focus Rs\",\"Model_Fortuner\",\"Model_Freema\",\"Model_Fullback\",\"Model_G Class\",\"Model_G Series\",\"Model_G3\",\"Model_GL Class\",\"Model_GLC\",\"Model_GLC Coupe\",\"Model_GLE\",\"Model_GLE Coupe\",\"Model_GLS Klass\",\"Model_GT86\",\"Model_GX Series\",\"Model_Galant\",\"Model_Galaxy\",\"Model_Galloper\",\"Model_Genesis\",\"Model_Ghibli II\",\"Model_Giulia\",\"Model_Gol\",\"Model_Granada\",\"Model_Grand - Am\",\"Model_Grand Caravan\",\"Model_Grand Espace\",\"Model_Grande Punto\",\"Model_Grandeur\",\"Model_Grandis\",\"Model_H2\",\"Model_H3\",\"Model_H6\",\"Model_H9\",\"Model_HHR\",\"Model_Hiace\",\"Model_Highlander\",\"Model_Hilux\",\"Model_Hunter\",\"Model_Ignis\",\"Model_Impala\",\"Model_Impreza\",\"Model_Inca\",\"Model_Jimny\",\"Model_Jumpy\",\"Model_Justy\",\"Model_Kadett\",\"Model_Kalos\",\"Model_Kangoo\",\"Model_Karoq\",\"Model_Kodiaq\",\"Model_Koleos\",\"Model_Kona\",\"Model_L\",\"Model_LX Series\",\"Model_Lacetti\",\"Model_Laguna\",\"Model_Lancer\",\"Model_Land Cruiser\",\"Model_Land Cruiser Prado\",\"Model_Lanos\",\"Model_Lantra\",\"Model_Largus\",\"Model_Legacy\",\"Model_Liana\",\"Model_Logan\",\"Model_Logan Mcv\",\"Model_Logo\",\"Model_Lumina\",\"Model_M Models\",\"Model_MKC\",\"Model_MX-30\",\"Model_MX-6\",\"Model_Macan\",\"Model_Marea\",\"Model_Maverick\",\"Model_Maxima\",\"Model_Model 3\",\"Model_Model S\",\"Model_Modus\",\"Model_Monterey\",\"Model_Montero Sport\",\"Model_Multipla\",\"Model_Multivan\",\"Model_Murano\",\"Model_Musso\",\"Model_Mustang\",\"Model_NF Sonata\",\"Model_NV400\",\"Model_NX Series\",\"Model_Navara\",\"Model_Navigator\",\"Model_Neon\",\"Model_Nubira\",\"Model_Octavia RS\",\"Model_Odyssey\",\"Model_Omega\",\"Model_One\",\"Model_Orion\",\"Model_Outback\",\"Model_PT Cruiser\",\"Model_Pajero\",\"Model_Pajero Pinin\",\"Model_Pajero Sport\",\"Model_Palio\",\"Model_Panamera\",\"Model_Partner\",\"Model_Patrol\",\"Model_Picnic\",\"Model_Poer\",\"Model_Pony\",\"Model_Prairie\",\"Model_Prelude\",\"Model_Premacy\",\"Model_Previa\",\"Model_Primastar\",\"Model_Primera\",\"Model_Prisma\",\"Model_Probe\",\"Model_Puma\",\"Model_Q5\",\"Model_Q7\",\"Model_Q8\",\"Model_QX Series\",\"Model_QX60\",\"Model_QX70\",\"Model_Quest\",\"Model_RC Series\",\"Model_RDX\",\"Model_RX Series\",\"Model_Ram\",\"Model_Range Rover\",\"Model_Range Rover Sport\",\"Model_Range Rover Velar\",\"Model_Ranger\",\"Model_Rekord\",\"Model_Renegade\",\"Model_Rezzo\",\"Model_Ritmo\",\"Model_Roadster\",\"Model_Rodius\",\"Model_S-Coupe\",\"Model_S3\",\"Model_S4\",\"Model_S5\",\"Model_S70\",\"Model_S90\",\"Model_SC Series\",\"Model_Safrane\",\"Model_Samurai\",\"Model_Sandero\",\"Model_Santa FE\",\"Model_Saratoga\",\"Model_Saxo\",\"Model_Scala\",\"Model_Scorpio\",\"Model_Scudo\",\"Model_Seltos\",\"Model_Serena\",\"Model_Sharan\",\"Model_Siecento\",\"Model_Sienna\",\"Model_Sierra\",\"Model_Sigma\",\"Model_Sintra\",\"Model_Space Runner\",\"Model_Space Wagon\",\"Model_Starlet\",\"Model_Stelvio\",\"Model_Stilo\",\"Model_Stinger\",\"Model_Stratus\",\"Model_Stream\",\"Model_Sunny\",\"Model_Superb\",\"Model_T-Cross\",\"Model_TSX\",\"Model_Tacoma\",\"Model_Tacuma\",\"Model_Talisman\",\"Model_Terrain\",\"Model_Terrano\",\"Model_Thema\",\"Model_Toledo\",\"Model_Touareg\",\"Model_Town&Country\",\"Model_Tracer\",\"Model_Trafic\",\"Model_Trailblaizer\",\"Model_Transporter\",\"Model_Trooper\",\"Model_Twingo\",\"Model_UX\",\"Model_V Class\",\"Model_V90\",\"Model_Vanette\",\"Model_Vectra\",\"Model_Vel Satis\",\"Model_Veloster\",\"Model_Vento\",\"Model_Venza\",\"Model_Vesta\",\"Model_WRX\",\"Model_WRX STI\",\"Model_Wagon R+\",\"Model_Wrangler\",\"Model_X Class\",\"Model_X-Trail\",\"Model_X2\",\"Model_X4\",\"Model_X5\",\"Model_X6\",\"Model_X7\",\"Model_XC40\",\"Model_XC60\",\"Model_XC90\",\"Model_XJ\",\"Model_Xedos\",\"Model_Xsara\",\"Model_Xsara Picasso\",\"Model_Xterra\",\"Model_YRV\",\"Model_Z Series\",\"Model_Zafira\",\"Model_e-tron\",\"Model_i8\",\"Make_Abarth\",\"Make_Alfa Romeo\",\"Make_Audi\",\"Make_BMW\",\"Make_Cadillac\",\"Make_GAZ\",\"Make_GMC\",\"Make_Hummer\",\"Make_Hyundai\",\"Make_Infiniti\",\"Make_Jaguar\",\"Make_Jeep\",\"Make_KIA\",\"Make_Lada\",\"Make_Lancia\",\"Make_Land Rover\",\"Make_Lexus\",\"Make_Lincoln\",\"Make_LuAZ\",\"Make_Maserati\",\"Make_Mercedes\",\"Make_Moskvich / Izh\",\"Make_Porsche\",\"Make_Tesla\",\"Make_Vaz\",\"Make_Volvo\",\"Make_Xpeng\",\"Make_Zaz\",\"Style_Coupe\",\"Style_Crossover\",\"Style_Pickup\",\"Style_SUV\",\"Fuel_type_Electric\",\"Fuel_type_Plug-in Hybrid\",\"distance_type_optimal\",\"Make_rarity_common\",\"Price_cat_cheap\",\"Year_category_regular\"],\"xaxis\":\"x\",\"y\":[2613.9656419748862,260.626591087268,459.4217343670587,385.5208411130884,251.40065104356384,0.0,1023.0438229061818,0.0,126.50146293284342,566.8650629347094,3917.605955707215,420.02916731459084,649.6064509089326,6307.376649073569,5790.347381870655,2989.946719540788,3030.1968164326645,519.8517809859497,2372.9930676351637,3774.90244376442,1981.4321258298182,1404.9336206284813,863.5771961182722,4397.7862663785045,439.02433118621104,2171.2697329997604,53.33991161053357,0.0,1044.9400273530803,400.8273302666353,1958.082618501745,2148.3942774713,739.5574969688353,1123.12222948856,918.9070463018905,2537.119681185395,319.2472310803463,220.8711699329514,2471.8461905024137,1963.9770671524911,1588.5177642890003,350.2148707565647,3569.447629314792,1567.5953404129755,372.89302252542285,1904.195082176308,269.95893177066023,307.69929984236535,57.71319935925196,151.42984978187323,871.7172133210449,210.54230568316345,200.41688987017596,67.73773746818622,325.2533689452626,0.0,745.6746524927449,706.8338567052181,1805.8521726160063,5000.504208873522,2723.286237583727,1550.6324464569823,0.0,417.72050147476625,16.21160024334378,0.0,1113.730516156169,939.0353439869639,887.5431212621515,4502.378930915945,111.67793552177658,1953.532924285005,507.15395561551765,152.33589247756174,2079.244463587894,4660.462435513534,1503.5961971242928,0.0,992.6238588042985,519.5559764493835,441.7454511603123,40.27997122019721,362.99523430961443,1134.4204321713935,844.145047024155,320.20977333616844,210.49437915298884,0.0,1490.3035116147503,2976.3062675012766,207.30799463040304,468.0150613072083,415.28337203714193,2000.9598611422173,229.2979272224989,319.597513007625,1097.8663340297421,917.9054284160417,1442.1185224924398,1035.1832198979048,2788.883353213506,477.9606522607839,2514.8774583770996,2361.1944774525814,1655.3783666711245,270.8230031902279,3438.6423389733827,3112.515037444791,265.05167150700646,312.503724834576,83.09300818232695,0.0,0.0,246.64567094967742,317.9410240127312,0.0,618.137769206195,501.44328634606694,141.808953648726,272.79631758787116,0.0,1180.402400946647,43.17435605083319,0.0,429.3792404173768,3380.7395141672,2709.5136680956416,0.0,1316.325420449815,1784.7713401165427,215.82870421943218,639.8584000106636,986.4303412378569,0.0,963.827522802701,536.0415966752392,1181.7310151342404,1480.4118256028346,24.631855612120628,988.3986233727077,60.931335927236816,36.65756876167591,2189.668319225104,3291.0405195598114,121.04815002430593,586.2744486184406,3178.970923706798,430.6750321851244,5143.42976779375,0.0,5038.138160452665,1502.7622300734245,394.31309104620146,373.003642778559,984.0782792019967,2747.3433067219034,1027.7936400570852,0.8227856404349073,1886.926517835979,0.0,1957.8150542260917,5815.969520857921,0.0,834.4766134504865,4643.062113135921,6132.193880541551,9703.953071946607,11624.926272614393,10262.863873487147,4972.6285160421785,361.3190270936913,6271.8225316266335,1630.532192546999,1020.3819513101752,804.9345010063294,2416.0380532824483,3601.5131109020135,1256.8536471908697,125.39292433249037,952.2141054895137,0.0,0.0,1715.624174075666,17.15159239084872,886.8366648961946,557.8404609118928,0.0,1865.3747141952958,22.53130348723958,0.0,457.5089819740674,700.0991536547288,5842.090142507496,3391.806023690997,229.2928203647282,127.8744540426383,0.0,1347.7197207400463,185.69030161826643,112.61132206557407,704.2836562596732,263.9673427534084,4072.380996900164,357.2276589411517,8.865720705460763,303.66794672567875,7676.183783254866,2297.367960071221,1928.9803408094833,805.2299533019062,1615.4007411549585,1936.6194169089576,557.6254626509452,477.117616308096,8733.423389329244,5832.2761517785975,662.2170106007541,1205.1013230605408,636.6606271396881,1039.7390433582705,603.9200267264646,746.9758313124751,1190.967945521199,0.0,635.7251161042634,9541.528270233524,292.2021290832437,1239.0468659214534,186.08688118096708,7000.675388624452,259.46718881823506,102.52296881755669,1697.4299414891777,6692.17994711923,4112.846321014399,310.089956398912,313.47264271743376,227.913116413188,473.66502730481136,5722.299132142022,463.96096523295813,412.3663011675564,3594.813142772915,109.14836317346628,855.3998379410833,4531.617297777542,213.1726096543082,1518.396433457252,180.56719950199403,787.3290440252451,536.2434251007754,0.0,1590.5989437604978,120.58792061399758,2277.7762482176563,541.0858321084627,151.15019471004754,439.271203278154,196.3452439343463,1179.4735730673071,432.7420850724862,4911.921045703861,180.88828494875978,3158.111899977264,501.88414048952245,1007.5476210647905,1638.2197833911848,1927.3981430527074,672.420732451837,11.826890429954211,848.6493810192499,413.18241582657413,1809.542752689021,380.6313977249544,480.5690164271391,84.09212589197239,440.49037293827723,8459.30924458295,3545.3288771209404,110.00984002705843,2447.9163739548267,953.2247327411822,0.0,65.05505870783935,243.1705405992389,1176.4271606596162,902.30852788865,1187.995647601958,2353.029830739611,2889.9026325037776,416.29929469026445,5082.842577713391,81.04232126473774,399.6469331232326,1252.6656966113994,204.48700499406186,75.66132192613169,97.31764551744189,1187.425825862975,76.03903951292162,0.0,144.38737904586085,7868.7707547542295,683.6918731533148,0.0,866.2911993674866,251.08458629970244,737.980165748492,153.0680587782393,26.958498404785146,207.0754970948225,1665.870609050309,1311.8935272084718,157.0776849371263,1606.2831233130316,98.32823147087791,7.619626761805553,1424.0019818448925,2986.339746248218,670.3182245324583,117.22814538934946,909.1496734462486,2183.5585686990717,427.8051060992105,4547.230042265716,477.88448527931536,2817.2828768109734,327.3655020844486,710.4686550013025,2729.9231482992423,1920.6137507494198,0.0,51.59118407559494,0.0,1071.667333872341,694.4931676447515,879.080973184636,797.0488719128552,125.77969675064705,642.654393271303,649.6328826363156,380.3572895235169,61.134147989261635,666.3159966126282,290.3875492039627,1251.6665404893474,78.84830045754764,1459.8459701943866,1000.4322203581546,5310.306763016862,3978.4153444769545,235.86057195466762,1584.2878300819525,986.817562871137,103.36834306821093,1637.3258927822721,159.89133946844,0.0,316.5407162425889,516.1510894678817,636.2510277529332,8156.643205800063,1504.8181947941036,218.84330869465958,1728.2593832523169,4191.4126280493765,828.8608610024351,6776.04764212515,0.0,2301.627228130276,1249.4012176575616,2249.500268039691,4760.361724822901,610.005563219144,432.4628400285296,332.437597917985,359.40047880441705,271.7813696441433,782.1514352148736,63.230319231361186,871.7880738181155,1582.1145581077772,0.0,410.9999172208059,2875.3629803379026,4230.000644536477,1628.1025991167357,2532.8962889824356,903.7128287967746,1865.374714195307,18.08619293018229,1098.7061165027364,4580.405735197391,392.3214280894163,726.4302643185116,347.1550332450993,670.1901362999795,3761.108792788584,3675.811643883653,215.76349794347763,1447.6673166711696,6476.9401923587675,4756.925291218763,4829.329074256988,10791.514060791458,9966.98894951219,396.1635243819574,1244.9269277890746,834.476613450486,1523.4638305561398,212.6559466748268,1751.384125726412,2954.300128933701,1597.6817867058521,238.2964469358949,2871.577219970755,1290.108890669541,106.45347563435284,1643.0268380528662,994.126979042322],\"yaxis\":\"y\",\"type\":\"bar\"},{\"alignmentgroup\":\"True\",\"hovertemplate\":\"c=<0<br>x=%{x}<br>y=%{y}<extra></extra>\",\"legendgroup\":\"<0\",\"marker\":{\"color\":\"red\",\"pattern\":{\"shape\":\"\"}},\"name\":\"<0\",\"offsetgroup\":\"<0\",\"orientation\":\"v\",\"showlegend\":true,\"textposition\":\"auto\",\"x\":[\"Distance\",\"Transmission_Manual\",\"Model_1 Series\",\"Model_107\",\"Model_1102 Tavria\",\"Model_145\",\"Model_147\",\"Model_156\",\"Model_159\",\"Model_190\",\"Model_2\",\"Model_2 Series\",\"Model_200\",\"Model_2008\",\"Model_206\",\"Model_207\",\"Model_208\",\"Model_2107\",\"Model_2110\",\"Model_2111\",\"Model_2112\",\"Model_2113\",\"Model_2114\",\"Model_2115\",\"Model_2121niva\",\"Model_2123 Chevrolet\",\"Model_2129 Niva Long\",\"Model_2141\",\"Model_25\",\"Model_3\",\"Model_3 GT\",\"Model_3 Series\",\"Model_300c\",\"Model_301\",\"Model_308\",\"Model_31029\",\"Model_3110\",\"Model_4007\",\"Model_45\",\"Model_5\",\"Model_5 Series\",\"Model_500\",\"Model_5008\",\"Model_500L\",\"Model_508\",\"Model_6\",\"Model_607\",\"Model_620\",\"Model_80\",\"Model_9-3\",\"Model_911\",\"Model_924\",\"Model_A Class\",\"Model_A1\",\"Model_A2\",\"Model_A3\",\"Model_A3 e-tron\",\"Model_A4\",\"Model_A5\",\"Model_A6\",\"Model_AMG GT\",\"Model_ASX\",\"Model_ATS\",\"Model_Accent\",\"Model_Actyon\",\"Model_Agila\",\"Model_Allroad\",\"Model_Alt model\",\"Model_Altea\",\"Model_Altea XL\",\"Model_Altima\",\"Model_Ampera\",\"Model_Antara\",\"Model_Astra\",\"Model_Atos\",\"Model_Auris\",\"Model_Avensis\",\"Model_Aveo\",\"Model_Aygo\",\"Model_B Class\",\"Model_B-Max\",\"Model_B9 Tribeca\",\"Model_BS3\",\"Model_BS6\",\"Model_Beetle\",\"Model_Bipper\",\"Model_Boxster\",\"Model_Breez\",\"Model_C Class\",\"Model_C-Crosser\",\"Model_C-Elysee\",\"Model_C-HR\",\"Model_C-Max\",\"Model_C1\",\"Model_C2\",\"Model_C3\",\"Model_C30\",\"Model_C4\",\"Model_C4 Cactus\",\"Model_C4 Picasso\",\"Model_C70\",\"Model_CK\",\"Model_CL Class\",\"Model_CLA\",\"Model_CLC Class\",\"Model_CLK Class\",\"Model_CLS Class\",\"Model_CR-Z\",\"Model_CS35PLUS\",\"Model_CT Series\",\"Model_CX-3\",\"Model_CX-5\",\"Model_CX-7\",\"Model_CX-9\",\"Model_Caddy\",\"Model_Caliber\",\"Model_Camry\",\"Model_Captiva\",\"Model_Captur\",\"Model_Caravan\",\"Model_Carens\",\"Model_Cayenne\",\"Model_Ceed\",\"Model_Ceed Sw\",\"Model_Cerato\",\"Model_Cherokee\",\"Model_Citan\",\"Model_Citigo\",\"Model_City K-ZE\",\"Model_Civic Hibrid\",\"Model_Clarus\",\"Model_Clio\",\"Model_Clio Symbol\",\"Model_Clio4\",\"Model_Clubman\",\"Model_Colt\",\"Model_Combo\",\"Model_Compass\",\"Model_Cooper S\",\"Model_Corolla\",\"Model_Corsa\",\"Model_Coupe\",\"Model_Creta\",\"Model_Crosstrek\",\"Model_Cruze\",\"Model_Cuore\",\"Model_D20\",\"Model_D50\",\"Model_DS3\",\"Model_DS4\",\"Model_DS5\",\"Model_Dakota\",\"Model_Damas\",\"Model_Doblo\",\"Model_Doblo Cargo\",\"Model_Dokker\",\"Model_Dokker VAN\",\"Model_Duster\",\"Model_E Class\",\"Model_Eastar\",\"Model_Eclipse Cross\",\"Model_EcoSport\",\"Model_Elantra\",\"Model_Encore\",\"Model_Eos\",\"Model_Es Series\",\"Model_Escape\",\"Model_Espero\",\"Model_Exeo\",\"Model_Expedition\",\"Model_F3\",\"Model_FSV\",\"Model_Fabia\",\"Model_Fabia RS\",\"Model_Fiesta\",\"Model_Fiesta 3D\",\"Model_Fiesta 5D\",\"Model_Fiorino\",\"Model_Fluence\",\"Model_Focus\",\"Model_Focus Wagon\",\"Model_Forester\",\"Model_Forfour\",\"Model_Fortwo\",\"Model_Fox\",\"Model_Freelander\",\"Model_Frontera\",\"Model_Frontier\",\"Model_Fusion\",\"Model_GLA\",\"Model_GLK Class\",\"Model_GS Series\",\"Model_GW Peri\",\"Model_Getz\",\"Model_Giulietta\",\"Model_Golf\",\"Model_Golf Plus\",\"Model_Grand Cherokee\",\"Model_Grand Modus\",\"Model_Grand Scenic\",\"Model_Grand Vitara\",\"Model_Grand Voyager\",\"Model_Grande Punto 5D\",\"Model_Grandland X\",\"Model_Granta\",\"Model_Gt\",\"Model_H-1 Truck\",\"Model_H200\",\"Model_HR-V\",\"Model_Hover\",\"Model_ILX\",\"Model_IONIQ\",\"Model_IS Series\",\"Model_Ibiza\",\"Model_Insight\",\"Model_Insignia\",\"Model_Intrepid\",\"Model_J7\",\"Model_JS4\",\"Model_Jazz\",\"Model_Jetta\",\"Model_Joice\",\"Model_Jolion\",\"Model_Journey\",\"Model_Juke\",\"Model_Ka\",\"Model_Kadjar\",\"Model_Kalina\",\"Model_Kappa\",\"Model_Karl\",\"Model_Kicks\",\"Model_Korando\",\"Model_Kuga\",\"Model_Kyron\",\"Model_L Series\",\"Model_LS Series\",\"Model_Leaf\",\"Model_Leon\",\"Model_Lodgy\",\"Model_Logan Van\",\"Model_Lupo\",\"Model_Lybra\",\"Model_M Class\",\"Model_M Series\",\"Model_MDX\",\"Model_MKZ\",\"Model_MPV\",\"Model_MX-5\",\"Model_Magentis\",\"Model_Magnum\",\"Model_Malibu\",\"Model_Materia\",\"Model_Matiz\",\"Model_Matrix\",\"Model_Megane\",\"Model_Meriva\",\"Model_MiTo\",\"Model_Micra\",\"Model_Mirage\",\"Model_Mokka\",\"Model_Mondeo\",\"Model_Musa\",\"Model_NV200\",\"Model_Nemo\",\"Model_New Beetle\",\"Model_Nexia\",\"Model_Niro\",\"Model_Nitro\",\"Model_Niva\",\"Model_Note\",\"Model_Octavia\",\"Model_Oka\",\"Model_Opirus\",\"Model_Optima\",\"Model_Orlando\",\"Model_Outlander\",\"Model_Pacifica\",\"Model_Panda\",\"Model_Passat\",\"Model_Passat CC\",\"Model_Passo\",\"Model_Pathfinder\",\"Model_Patriot\",\"Model_Phaeton\",\"Model_Phedra\",\"Model_Picanto\",\"Model_Pikap\",\"Model_Pixo\",\"Model_Polo\",\"Model_Pregio\",\"Model_Pride\",\"Model_Priora\",\"Model_Prius\",\"Model_Prius +\",\"Model_Prius Prime\",\"Model_Prius c\",\"Model_Prius v\",\"Model_Pro_Cee'd\",\"Model_Proace\",\"Model_Pulsar\",\"Model_Punto\",\"Model_Q Series\",\"Model_Q3\",\"Model_QX30\",\"Model_QX50\",\"Model_Qashqai\",\"Model_Qashqai+2\",\"Model_Qq\",\"Model_Quattro\",\"Model_Qubo\",\"Model_R Class\",\"Model_R2\",\"Model_R4\",\"Model_RX-8\",\"Model_Range Rover Evoque\",\"Model_Rapid\",\"Model_Rav 4\",\"Model_Rexton\",\"Model_Rio\",\"Model_Rio X-Line\",\"Model_Rogue\",\"Model_Roomster\",\"Model_S Class\",\"Model_S Klass\",\"Model_S-Cross\",\"Model_S-Max\",\"Model_S-Type\",\"Model_S40\",\"Model_S60\",\"Model_S8\",\"Model_S80\",\"Model_SLK Class\",\"Model_SX4\",\"Model_Sandero Stepway\",\"Model_Santamo\",\"Model_Scenic\",\"Model_Scirocco\",\"Model_Sebring\",\"Model_Sentra\",\"Model_Sephia\",\"Model_Series (W123)\",\"Model_Series (W124)\",\"Model_Shuma\",\"Model_Shuttle\",\"Model_Siber\",\"Model_Signum\",\"Model_Sirion\",\"Model_Sl Class\",\"Model_Solara\",\"Model_Solaris\",\"Model_Sonata\",\"Model_Sorento\",\"Model_Soul\",\"Model_Space Star\",\"Model_Spark\",\"Model_Spectra\",\"Model_Splash\",\"Model_Sportage\",\"Model_Stonic\",\"Model_Streetwise\",\"Model_Swift\",\"Model_T500\",\"Model_TT\",\"Model_Taurus\",\"Model_Terios\",\"Model_Terracan\",\"Model_Thalia\",\"Model_Thesis\",\"Model_Tiggo\",\"Model_Tigra\",\"Model_Tiguan\",\"Model_Tiida\",\"Model_Tipo\",\"Model_Touran\",\"Model_Tourneo Connect\",\"Model_Town Car\",\"Model_Trajet\",\"Model_Transit Connect\",\"Model_Trax\",\"Model_Trezia\",\"Model_Tribute\",\"Model_Tucson\",\"Model_Urban Cruiser\",\"Model_V40\",\"Model_V50\",\"Model_V60\",\"Model_V70\",\"Model_Vaneo\",\"Model_Venga\",\"Model_Veracruz\",\"Model_Verso\",\"Model_Verso-S\",\"Model_Viano\",\"Model_Vita\",\"Model_Vitara\",\"Model_Vito\",\"Model_Vivaro\",\"Model_Volt\",\"Model_Voyager\",\"Model_X-Type\",\"Model_X1\",\"Model_X3\",\"Model_XC70\",\"Model_XE\",\"Model_XV\",\"Model_Xf\",\"Model_Yaris\",\"Model_Yaris Verso\",\"Model_Yeti\",\"Model_Ypsilon\",\"Model_ZOE\",\"Model_altele\",\"Model_i10\",\"Model_i20\",\"Model_i3\",\"Model_i30\",\"Model_i40\",\"Model_iA\",\"Model_iM\",\"Model_iQ\",\"Model_ix20\",\"Model_ix35\",\"Model_on-DO\",\"Model_up!\",\"Model_xA\",\"Make_ARO\",\"Make_Acura\",\"Make_Alta marca\",\"Make_BAIC\",\"Make_Brilliance\",\"Make_Buick\",\"Make_Byd\",\"Make_Changan\",\"Make_Chery\",\"Make_Chevrolet\",\"Make_Chrysler\",\"Make_Citroen\",\"Make_Dacia\",\"Make_Daewoo\",\"Make_Daihatsu\",\"Make_Datsun\",\"Make_Dodge\",\"Make_Faw\",\"Make_Fiat\",\"Make_Ford\",\"Make_Geely\",\"Make_Great Wall\",\"Make_Groz\",\"Make_Haima\",\"Make_Haval\",\"Make_Honda\",\"Make_Isuzu\",\"Make_Jac\",\"Make_Lifan\",\"Make_Mazda\",\"Make_Mercedes-Maybach\",\"Make_Mini\",\"Make_Mitsubishi\",\"Make_Nissan\",\"Make_Opel\",\"Make_Peugeot\",\"Make_Pontiac\",\"Make_Ravon\",\"Make_Renault\",\"Make_Rover\",\"Make_Saab\",\"Make_Saturn\",\"Make_Scion\",\"Make_Seat\",\"Make_Skoda\",\"Make_Smart\",\"Make_Ssangyong\",\"Make_Subaru\",\"Make_Suzuki\",\"Make_Tata\",\"Make_Toyota\",\"Make_UAZ\",\"Make_Volkswagen\",\"Make_Zotye\",\"Style_Cabriolet\",\"Style_Combi\",\"Style_Hatchback\",\"Style_Microvan\",\"Style_Minivan\",\"Style_Roadster\",\"Style_Sedan\",\"Style_Universal\",\"Fuel_type_Diesel\",\"Fuel_type_Hybrid\",\"Fuel_type_Metan/Propan\",\"Fuel_type_Petrol\",\"distance_type_average\",\"distance_type_high\",\"distance_type_very_high\",\"Make_rarity_rare\",\"Price_cat_average\",\"Year_category_old\"],\"xaxis\":\"x\",\"y\":[-177.6114092678298,-385.52084111326576,-4855.009783443647,-1543.4062255463457,-503.79846717454933,-109.49449557571452,-955.2852170223723,-654.8920851278787,-1030.2074963201956,-320.74534605911225,-1390.80985787872,-4212.878610380626,-155.93636933460192,-1010.5574406128623,-33.12147336889675,-470.42355612188925,-2591.80422911324,-191.84812962493947,-808.9908785153578,-1312.0311087222683,-504.0977937361115,-411.68794683051635,-2760.8480591587395,-3433.376258561888,-2085.6087940016805,-851.385139947033,-1267.4968615788773,-1549.5259884783395,-338.4845145284385,-1565.5854179681185,-846.9701641586946,-3783.997031768711,-479.1118436313427,-2112.846084700201,-710.6413563051465,-1509.125327362956,-2406.985541412541,-84.39419560198978,-379.6735858359947,-745.4822309108782,-1795.0304428820332,-3265.5775975333504,-244.8691126705244,-1596.2421713033614,-1013.8734268359855,-514.0494747148609,-60.41974983074324,-60.24331063826161,-528.9395427431402,-85.06352282197466,-2370.59632693344,-661.1157796205601,-5100.778200116061,-3025.055936778537,-995.0571538101057,-3616.548263016588,-3340.2032648742247,-2941.988930244899,-1341.6700119966683,-841.6661969262458,-1215.2344416395115,-3083.5045659896296,-33.312963521307594,-1973.7333789579093,-978.317074079107,-897.6600282474642,-1400.503160468365,-1744.2653473683133,-271.26103160622205,-636.5616318848823,-422.06010164049303,-1829.8350925044394,-1945.3169097241291,-781.4671836246365,-529.9315557721126,-2848.3710715810294,-44.002097841540234,-1595.1707275317635,-2172.076636806081,-4686.360954885065,-865.3184404267174,-920.738017301985,-268.768626028452,-1243.5321300659125,-174.4847424148274,-1102.821461679647,-930.9582172342839,-843.1532217684246,-3415.241792071384,-875.6149187297079,-2089.227000575842,-400.4334129854135,-2738.321450647656,-2117.235606047944,-47.636362835839,-687.3907379849111,-1661.6343225751166,-51.435585804112215,-174.30881053496523,-360.2504391971851,-236.45329318608415,-702.3228557561746,-773.2334055716624,-429.0887048114358,-910.975733337064,-3882.75351456816,-235.8429562718004,-1151.051156619102,-1174.5497296526983,-5990.046475003712,-1403.5545959426443,-134.01208420064057,-2090.207481280772,-984.3559141802372,-1654.8908648264337,-1300.5114543996092,-49.51746602809427,-823.1906528379276,-2625.9444479002627,-329.4699690754736,-1378.8113267665146,-270.92708719306387,-3199.4239096006936,-2833.2191190630383,-2711.525375831176,-666.4972087228059,-6851.955875240405,-2016.9109670213736,-956.7644652890535,-331.11415804235537,-152.0383786933954,-708.5191531047257,-353.3749820160215,-1681.812921676121,-255.1412786645931,-1187.397164570677,-1022.257515666532,-2814.362886707515,-1034.4161468416871,-116.07133875916101,-1406.0236390686155,-339.41035434020966,-2828.468413786771,-1760.2900293579928,-2573.034767288699,-538.2036200708677,-1013.587272312785,-704.2077412562894,-1144.4966228989306,-415.51704508370324,-644.3575969323041,-426.710381049285,-30.40965764969828,-556.6563897638166,-633.9906229873545,-121.52578386569787,-1269.582568408953,-1979.7005036456708,-2789.3496409132285,-223.2422371921776,-1158.976027306519,-1561.457405912841,-2537.077645920705,-1383.8271109070515,-488.90071714645865,-929.71937517089,-2625.7143811627902,-628.5263543783542,-120.9040522600499,-142.32498274714095,-744.8306054655573,-484.41851393431386,-1575.4114614464847,-1300.7534670837206,-1596.0993014930373,-595.2563872779758,-1407.8674198493813,-464.2319796802841,-1971.3331498605958,-2377.2926349499644,-489.55651416894233,-570.6249135756647,-463.3784307637642,-1337.5833261061655,-1026.6668895510174,-5322.501963489009,-253.2830484092265,-388.5623422402014,-2339.1207202962555,-1157.7568015546055,-2465.791301722606,-1461.5281354151298,-285.4138150750894,-1627.7934153542017,-1214.2848038408117,-130.1167358757007,-1170.070448166737,-1597.1228628002532,-154.05877821030055,-514.4034108591076,-297.01849258354656,-320.1723640422206,-328.58896252961483,-716.4739567828166,-831.8680168262133,-198.3641666916101,-478.37684764761406,-272.5885118371343,-1438.834529468436,-1637.2571491637066,-982.825988438723,-229.74732042621332,-2086.373229073227,-1758.4275437716421,-2087.240173321174,-2132.347723981478,-230.00028068433048,-155.25124297935557,-527.3848893259932,-1125.274216350268,-2796.165573561151,-296.1423264610907,-761.9515549464666,-247.6227221640291,-3450.381284304754,-1116.7226780195388,-1363.0061936858538,-2773.7140518705846,-202.93349987775198,-1019.9088892803569,-1417.1355589449354,-607.1997215490446,-1670.776310598897,-904.7005479075557,-998.0202560776262,-1200.9680248904067,-3227.478060616409,-727.011812726155,-135.27856252918258,-370.30238112053763,-603.0346723905841,-435.7747360543997,-1102.6122448844196,-1068.1480337845173,-283.3822606046454,-1128.8475596664125,-150.3731080836868,-314.17949109304254,-297.1558348519759,-228.5791403203434,-342.866478913672,-335.1437847173848,-2032.199020769921,-1249.3467929986375,-361.39643980593576,-1408.4667681843966,-1797.420570591847,-280.9345142061071,-295.11783891921993,-2357.3680321493325,-402.2092610543013,-222.63985235857996,-1637.1290947958864,-1061.8634025226581,-224.15936005558405,-1470.042765445728,-2210.4426139326065,-353.8124268662727,-105.08294078796504,-1200.8533012057926,-690.1935422822478,-755.6260143112725,-287.2354451937189,-1468.8924576402587,-1183.6143762083789,-2727.235680605445,-695.9719254535808,-854.1794925455747,-14.062816664160643,-2247.026434770517,-1179.0183821794092,-65.57074720788361,-2266.5048289551414,-214.91433841763447,-196.92427457697588,-4065.3522597949186,-943.2101763694579,-337.25408004948184,-2009.169832990373,-341.8136708079435,-909.1903508136713,-2592.861087336437,-3531.994939740948,-3000.4920574381154,-1111.231076037042,-2873.909033745173,-3093.596166430208,-1255.8009710100691,-1338.012901710388,-2210.6413083590173,-306.9436450528106,-537.7989634919121,-1042.5398216550598,-834.0763858844215,-399.68916743927,-2171.450882797934,-2645.003250925035,-851.3950986165346,-469.4021634593748,-151.12074120072026,-2563.1900126773457,-811.5121157967324,-1061.0679196862914,-315.68869181047006,-1288.616884026339,-3969.8071565677983,-194.18364739874573,-40.27944739105378,-2542.284164035684,-2847.5799124115765,-516.052728564923,-697.9277373363612,-84.7099259423495,-203.4491419986116,-1489.9386279350524,-322.162586848422,-1304.174479845521,-1602.6443667975047,-1362.966089116357,-463.4632808515288,-1510.568172555773,-221.3749720271542,-1239.6359020409234,-1398.2078944257148,-376.97930815887395,-390.28321301312883,-1495.284947939945,-792.4140199839061,-290.1818632963456,-650.11246327346,-32.23347847885616,-1265.0900217096564,-602.6150787416724,-386.4779436818856,-253.93340820117916,-212.77553502702045,-15.452181752280309,-276.10535124404703,-417.8041061708878,-1349.9016278651804,-2129.52860409848,-992.9254904194667,-2821.6604212519637,-546.4002885593765,-1386.3631255906093,-231.20208725324602,-659.9473987913132,-2862.5281046140435,-1579.4575991849877,-32.640985428916785,-314.5647120594158,-514.858831147578,-1071.385961298043,-112.52729290202507,-815.1435588402692,-276.9793591080239,-11.878240214030761,-433.4048585995351,-441.5632092749193,-156.97404965592514,-2037.8699388117266,-273.97154896043793,-1483.373494811285,-1396.560639777459,-743.8372821365514,-34.813441621253155,-331.4275016883471,-2071.3587878910957,-3106.7379448239226,-2001.5083972857715,-776.4467864675121,-1327.8791590881885,-3015.8362188106607,-1137.4323744261392,-1829.4501573018706,-3026.7662728561536,-3231.639945102769,-3369.374507856137,-1994.7811407300983,-811.146230807204,-1574.9174162331801,-2907.879815625155,-2528.5189370608614,-380.5097195003577,-1087.2050857699064,-4367.113490395962,-536.1949155238382,-4132.138116637146,-115.76639203271053,-2699.0123638330815,-3901.8013515063517,-2615.0816679318655,-530.3676998777789,-699.6596493384166,-925.5815361145109,-2018.0098871347068,-2816.309852924412,-799.6340296204368,-4096.976402910916,-1725.283250875608,-1436.9845179467466,-358.18485594484645,-2405.2348206938027,-3341.269631102576,-1213.6560789698995,-3013.534286444575,-1953.2849295346664,-697.9672646875241,-262.6420735443912,-1179.812211025928,-1690.866144382557,-3108.5153320294667,-1692.882153189601,-1263.6620216916183,-179.09280819777237,-240.72518140596773,-971.4465243685037,-1744.2653473683026,-753.9674907663647,-1996.7192700287032,-888.993560698629,-3839.348408640035,-1174.5497296526962,-2435.211827160416,-2507.483934805291,-521.8911764777899,-2326.825615224984,-4155.380801968773,-2256.3013210689783,-2112.7202674814766,-1692.882153189601,-413.96994373351606,-380.50971950035824,-1984.4472051710534,-1006.5019117653768,-970.396745995667,-2691.8062104262644,-386.47794368188545,-177.45904049377978,-739.4202514592195,-1360.078321082931,-1390.333132376963,-682.6361323053388,-2989.3255084891935,-403.40625604269763,-121.79948509372981,-1547.4961545353528,-849.5328979947114,-1554.658887964536,-498.0220808614768,-1524.75571983812,-416.2863002634845,-1872.580035483022,-2549.631858613638,-867.3937864886263,-944.5436051819022,-686.3100181707131,-1139.7021464296847,-1277.9460150767236,-1084.7727839102731,-1596.4747518758227,-2042.469167833051,-1790.543914655459,-2389.5567704789673,-1109.389375028386,-296.740766874784,-90.68358543520365,-239.19472331316962,-514.8588311475787,-435.89902551800384,-781.3624525719017,-625.1318465412676,-786.630417985662,-613.1681713415428,-1932.0588074380887,-319.33047454278943,-1022.4407920963,-785.0864482649416,-27.323606115069794,-1358.8542458787979,-938.6093666466061,-113.84089194852332,-654.721004561581,-521.5469941541896,-106.45347563450463,-1643.0268380531672,-994.1269790282009],\"yaxis\":\"y\",\"type\":\"bar\"}],                        {\"template\":{\"data\":{\"histogram2dcontour\":[{\"type\":\"histogram2dcontour\",\"colorbar\":{\"outlinewidth\":0,\"ticks\":\"\"},\"colorscale\":[[0.0,\"#0d0887\"],[0.1111111111111111,\"#46039f\"],[0.2222222222222222,\"#7201a8\"],[0.3333333333333333,\"#9c179e\"],[0.4444444444444444,\"#bd3786\"],[0.5555555555555556,\"#d8576b\"],[0.6666666666666666,\"#ed7953\"],[0.7777777777777778,\"#fb9f3a\"],[0.8888888888888888,\"#fdca26\"],[1.0,\"#f0f921\"]]}],\"choropleth\":[{\"type\":\"choropleth\",\"colorbar\":{\"outlinewidth\":0,\"ticks\":\"\"}}],\"histogram2d\":[{\"type\":\"histogram2d\",\"colorbar\":{\"outlinewidth\":0,\"ticks\":\"\"},\"colorscale\":[[0.0,\"#0d0887\"],[0.1111111111111111,\"#46039f\"],[0.2222222222222222,\"#7201a8\"],[0.3333333333333333,\"#9c179e\"],[0.4444444444444444,\"#bd3786\"],[0.5555555555555556,\"#d8576b\"],[0.6666666666666666,\"#ed7953\"],[0.7777777777777778,\"#fb9f3a\"],[0.8888888888888888,\"#fdca26\"],[1.0,\"#f0f921\"]]}],\"heatmap\":[{\"type\":\"heatmap\",\"colorbar\":{\"outlinewidth\":0,\"ticks\":\"\"},\"colorscale\":[[0.0,\"#0d0887\"],[0.1111111111111111,\"#46039f\"],[0.2222222222222222,\"#7201a8\"],[0.3333333333333333,\"#9c179e\"],[0.4444444444444444,\"#bd3786\"],[0.5555555555555556,\"#d8576b\"],[0.6666666666666666,\"#ed7953\"],[0.7777777777777778,\"#fb9f3a\"],[0.8888888888888888,\"#fdca26\"],[1.0,\"#f0f921\"]]}],\"heatmapgl\":[{\"type\":\"heatmapgl\",\"colorbar\":{\"outlinewidth\":0,\"ticks\":\"\"},\"colorscale\":[[0.0,\"#0d0887\"],[0.1111111111111111,\"#46039f\"],[0.2222222222222222,\"#7201a8\"],[0.3333333333333333,\"#9c179e\"],[0.4444444444444444,\"#bd3786\"],[0.5555555555555556,\"#d8576b\"],[0.6666666666666666,\"#ed7953\"],[0.7777777777777778,\"#fb9f3a\"],[0.8888888888888888,\"#fdca26\"],[1.0,\"#f0f921\"]]}],\"contourcarpet\":[{\"type\":\"contourcarpet\",\"colorbar\":{\"outlinewidth\":0,\"ticks\":\"\"}}],\"contour\":[{\"type\":\"contour\",\"colorbar\":{\"outlinewidth\":0,\"ticks\":\"\"},\"colorscale\":[[0.0,\"#0d0887\"],[0.1111111111111111,\"#46039f\"],[0.2222222222222222,\"#7201a8\"],[0.3333333333333333,\"#9c179e\"],[0.4444444444444444,\"#bd3786\"],[0.5555555555555556,\"#d8576b\"],[0.6666666666666666,\"#ed7953\"],[0.7777777777777778,\"#fb9f3a\"],[0.8888888888888888,\"#fdca26\"],[1.0,\"#f0f921\"]]}],\"surface\":[{\"type\":\"surface\",\"colorbar\":{\"outlinewidth\":0,\"ticks\":\"\"},\"colorscale\":[[0.0,\"#0d0887\"],[0.1111111111111111,\"#46039f\"],[0.2222222222222222,\"#7201a8\"],[0.3333333333333333,\"#9c179e\"],[0.4444444444444444,\"#bd3786\"],[0.5555555555555556,\"#d8576b\"],[0.6666666666666666,\"#ed7953\"],[0.7777777777777778,\"#fb9f3a\"],[0.8888888888888888,\"#fdca26\"],[1.0,\"#f0f921\"]]}],\"mesh3d\":[{\"type\":\"mesh3d\",\"colorbar\":{\"outlinewidth\":0,\"ticks\":\"\"}}],\"scatter\":[{\"fillpattern\":{\"fillmode\":\"overlay\",\"size\":10,\"solidity\":0.2},\"type\":\"scatter\"}],\"parcoords\":[{\"type\":\"parcoords\",\"line\":{\"colorbar\":{\"outlinewidth\":0,\"ticks\":\"\"}}}],\"scatterpolargl\":[{\"type\":\"scatterpolargl\",\"marker\":{\"colorbar\":{\"outlinewidth\":0,\"ticks\":\"\"}}}],\"bar\":[{\"error_x\":{\"color\":\"#2a3f5f\"},\"error_y\":{\"color\":\"#2a3f5f\"},\"marker\":{\"line\":{\"color\":\"#E5ECF6\",\"width\":0.5},\"pattern\":{\"fillmode\":\"overlay\",\"size\":10,\"solidity\":0.2}},\"type\":\"bar\"}],\"scattergeo\":[{\"type\":\"scattergeo\",\"marker\":{\"colorbar\":{\"outlinewidth\":0,\"ticks\":\"\"}}}],\"scatterpolar\":[{\"type\":\"scatterpolar\",\"marker\":{\"colorbar\":{\"outlinewidth\":0,\"ticks\":\"\"}}}],\"histogram\":[{\"marker\":{\"pattern\":{\"fillmode\":\"overlay\",\"size\":10,\"solidity\":0.2}},\"type\":\"histogram\"}],\"scattergl\":[{\"type\":\"scattergl\",\"marker\":{\"colorbar\":{\"outlinewidth\":0,\"ticks\":\"\"}}}],\"scatter3d\":[{\"type\":\"scatter3d\",\"line\":{\"colorbar\":{\"outlinewidth\":0,\"ticks\":\"\"}},\"marker\":{\"colorbar\":{\"outlinewidth\":0,\"ticks\":\"\"}}}],\"scattermapbox\":[{\"type\":\"scattermapbox\",\"marker\":{\"colorbar\":{\"outlinewidth\":0,\"ticks\":\"\"}}}],\"scatterternary\":[{\"type\":\"scatterternary\",\"marker\":{\"colorbar\":{\"outlinewidth\":0,\"ticks\":\"\"}}}],\"scattercarpet\":[{\"type\":\"scattercarpet\",\"marker\":{\"colorbar\":{\"outlinewidth\":0,\"ticks\":\"\"}}}],\"carpet\":[{\"aaxis\":{\"endlinecolor\":\"#2a3f5f\",\"gridcolor\":\"white\",\"linecolor\":\"white\",\"minorgridcolor\":\"white\",\"startlinecolor\":\"#2a3f5f\"},\"baxis\":{\"endlinecolor\":\"#2a3f5f\",\"gridcolor\":\"white\",\"linecolor\":\"white\",\"minorgridcolor\":\"white\",\"startlinecolor\":\"#2a3f5f\"},\"type\":\"carpet\"}],\"table\":[{\"cells\":{\"fill\":{\"color\":\"#EBF0F8\"},\"line\":{\"color\":\"white\"}},\"header\":{\"fill\":{\"color\":\"#C8D4E3\"},\"line\":{\"color\":\"white\"}},\"type\":\"table\"}],\"barpolar\":[{\"marker\":{\"line\":{\"color\":\"#E5ECF6\",\"width\":0.5},\"pattern\":{\"fillmode\":\"overlay\",\"size\":10,\"solidity\":0.2}},\"type\":\"barpolar\"}],\"pie\":[{\"automargin\":true,\"type\":\"pie\"}]},\"layout\":{\"autotypenumbers\":\"strict\",\"colorway\":[\"#636efa\",\"#EF553B\",\"#00cc96\",\"#ab63fa\",\"#FFA15A\",\"#19d3f3\",\"#FF6692\",\"#B6E880\",\"#FF97FF\",\"#FECB52\"],\"font\":{\"color\":\"#2a3f5f\"},\"hovermode\":\"closest\",\"hoverlabel\":{\"align\":\"left\"},\"paper_bgcolor\":\"white\",\"plot_bgcolor\":\"#E5ECF6\",\"polar\":{\"bgcolor\":\"#E5ECF6\",\"angularaxis\":{\"gridcolor\":\"white\",\"linecolor\":\"white\",\"ticks\":\"\"},\"radialaxis\":{\"gridcolor\":\"white\",\"linecolor\":\"white\",\"ticks\":\"\"}},\"ternary\":{\"bgcolor\":\"#E5ECF6\",\"aaxis\":{\"gridcolor\":\"white\",\"linecolor\":\"white\",\"ticks\":\"\"},\"baxis\":{\"gridcolor\":\"white\",\"linecolor\":\"white\",\"ticks\":\"\"},\"caxis\":{\"gridcolor\":\"white\",\"linecolor\":\"white\",\"ticks\":\"\"}},\"coloraxis\":{\"colorbar\":{\"outlinewidth\":0,\"ticks\":\"\"}},\"colorscale\":{\"sequential\":[[0.0,\"#0d0887\"],[0.1111111111111111,\"#46039f\"],[0.2222222222222222,\"#7201a8\"],[0.3333333333333333,\"#9c179e\"],[0.4444444444444444,\"#bd3786\"],[0.5555555555555556,\"#d8576b\"],[0.6666666666666666,\"#ed7953\"],[0.7777777777777778,\"#fb9f3a\"],[0.8888888888888888,\"#fdca26\"],[1.0,\"#f0f921\"]],\"sequentialminus\":[[0.0,\"#0d0887\"],[0.1111111111111111,\"#46039f\"],[0.2222222222222222,\"#7201a8\"],[0.3333333333333333,\"#9c179e\"],[0.4444444444444444,\"#bd3786\"],[0.5555555555555556,\"#d8576b\"],[0.6666666666666666,\"#ed7953\"],[0.7777777777777778,\"#fb9f3a\"],[0.8888888888888888,\"#fdca26\"],[1.0,\"#f0f921\"]],\"diverging\":[[0,\"#8e0152\"],[0.1,\"#c51b7d\"],[0.2,\"#de77ae\"],[0.3,\"#f1b6da\"],[0.4,\"#fde0ef\"],[0.5,\"#f7f7f7\"],[0.6,\"#e6f5d0\"],[0.7,\"#b8e186\"],[0.8,\"#7fbc41\"],[0.9,\"#4d9221\"],[1,\"#276419\"]]},\"xaxis\":{\"gridcolor\":\"white\",\"linecolor\":\"white\",\"ticks\":\"\",\"title\":{\"standoff\":15},\"zerolinecolor\":\"white\",\"automargin\":true,\"zerolinewidth\":2},\"yaxis\":{\"gridcolor\":\"white\",\"linecolor\":\"white\",\"ticks\":\"\",\"title\":{\"standoff\":15},\"zerolinecolor\":\"white\",\"automargin\":true,\"zerolinewidth\":2},\"scene\":{\"xaxis\":{\"backgroundcolor\":\"#E5ECF6\",\"gridcolor\":\"white\",\"linecolor\":\"white\",\"showbackground\":true,\"ticks\":\"\",\"zerolinecolor\":\"white\",\"gridwidth\":2},\"yaxis\":{\"backgroundcolor\":\"#E5ECF6\",\"gridcolor\":\"white\",\"linecolor\":\"white\",\"showbackground\":true,\"ticks\":\"\",\"zerolinecolor\":\"white\",\"gridwidth\":2},\"zaxis\":{\"backgroundcolor\":\"#E5ECF6\",\"gridcolor\":\"white\",\"linecolor\":\"white\",\"showbackground\":true,\"ticks\":\"\",\"zerolinecolor\":\"white\",\"gridwidth\":2}},\"shapedefaults\":{\"line\":{\"color\":\"#2a3f5f\"}},\"annotationdefaults\":{\"arrowcolor\":\"#2a3f5f\",\"arrowhead\":0,\"arrowwidth\":1},\"geo\":{\"bgcolor\":\"white\",\"landcolor\":\"#E5ECF6\",\"subunitcolor\":\"white\",\"showland\":true,\"showlakes\":true,\"lakecolor\":\"white\"},\"title\":{\"x\":0.05},\"mapbox\":{\"style\":\"light\"}}},\"xaxis\":{\"anchor\":\"y\",\"domain\":[0.0,1.0],\"title\":{\"text\":\"x\"},\"categoryorder\":\"array\",\"categoryarray\":[\"Year\",\"Distance\",\"Engine_capacity(cm3)\",\"year_distance\",\"Transmission_Automatic\",\"Transmission_Manual\",\"Model_1 Series\",\"Model_100\",\"Model_1007\",\"Model_106\",\"Model_107\",\"Model_108\",\"Model_1102 Tavria\",\"Model_121\",\"Model_145\",\"Model_147\",\"Model_156\",\"Model_159\",\"Model_166\",\"Model_19\",\"Model_190\",\"Model_2\",\"Model_2 Series\",\"Model_200\",\"Model_200 Series\",\"Model_2008\",\"Model_205\",\"Model_206\",\"Model_207\",\"Model_208\",\"Model_21\",\"Model_2101\",\"Model_2102\",\"Model_2103\",\"Model_2104\",\"Model_2105\",\"Model_2106\",\"Model_2107\",\"Model_2108\",\"Model_2109\",\"Model_21099\",\"Model_2110\",\"Model_2111\",\"Model_2112\",\"Model_2113\",\"Model_2114\",\"Model_2115\",\"Model_2121niva\",\"Model_2123 Chevrolet\",\"Model_2125\",\"Model_2129 Niva Long\",\"Model_2140\",\"Model_2141\",\"Model_2410\",\"Model_25\",\"Model_3\",\"Model_3 GT\",\"Model_3 Series\",\"Model_3008\",\"Model_300c\",\"Model_300m\",\"Model_301\",\"Model_306\",\"Model_307\",\"Model_308\",\"Model_309\",\"Model_31029\",\"Model_3110\",\"Model_323\",\"Model_4 series\",\"Model_4-Runner\",\"Model_400 Series\",\"Model_4007\",\"Model_405\",\"Model_406\",\"Model_407\",\"Model_408\",\"Model_45\",\"Model_469\",\"Model_5\",\"Model_5 GT\",\"Model_5 Series\",\"Model_500\",\"Model_5008\",\"Model_500L\",\"Model_500X\",\"Model_508\",\"Model_6\",\"Model_6 Series\",\"Model_600 Series\",\"Model_605\",\"Model_607\",\"Model_620\",\"Model_626\",\"Model_7 Series\",\"Model_700 Series\",\"Model_75\",\"Model_80\",\"Model_800 Series\",\"Model_806\",\"Model_807\",\"Model_9-3\",\"Model_9-5\",\"Model_90\",\"Model_900 Series\",\"Model_9000\",\"Model_911\",\"Model_924\",\"Model_929\",\"Model_968\",\"Model_969\",\"Model_A Class\",\"Model_A1\",\"Model_A2\",\"Model_A3\",\"Model_A3 e-tron\",\"Model_A4\",\"Model_A5\",\"Model_A6\",\"Model_A7\",\"Model_A8\",\"Model_AMG GT\",\"Model_ASX\",\"Model_ATS\",\"Model_Accent\",\"Model_Accord\",\"Model_Actyon\",\"Model_Adam\",\"Model_Aerostar\",\"Model_Agila\",\"Model_Albea\",\"Model_Alfasud\",\"Model_Alhambra\",\"Model_Allroad\",\"Model_Almera\",\"Model_Almera Tino\",\"Model_Alt model\",\"Model_Altea\",\"Model_Altea XL\",\"Model_Altele\",\"Model_Altima\",\"Model_Alto\",\"Model_Amarok\",\"Model_Ampera\",\"Model_Antara\",\"Model_Applouse\",\"Model_Arosa\",\"Model_Arteon\",\"Model_Ascona\",\"Model_Astra\",\"Model_Atos\",\"Model_Auris\",\"Model_Avalon\",\"Model_Avante\",\"Model_Avenger\",\"Model_Avensis\",\"Model_Avensis Verso\",\"Model_Aveo\",\"Model_Ax\",\"Model_Aygo\",\"Model_Azera\",\"Model_B Class\",\"Model_B-Max\",\"Model_B9 Tribeca\",\"Model_BRZ\",\"Model_BS3\",\"Model_BS6\",\"Model_BX\",\"Model_Baleno\",\"Model_Beetle\",\"Model_Berlingo\",\"Model_Bipper\",\"Model_Blazer\",\"Model_Bls\",\"Model_Bluebird\",\"Model_Bolt\",\"Model_Bora\",\"Model_Boxster\",\"Model_Brava\",\"Model_Bravo\",\"Model_Breez\",\"Model_C Class\",\"Model_C-Class Coupe\",\"Model_C-Crosser\",\"Model_C-Elysee\",\"Model_C-HR\",\"Model_C-Max\",\"Model_C1\",\"Model_C2\",\"Model_C3\",\"Model_C3 Picasso\",\"Model_C30\",\"Model_C4\",\"Model_C4 Cactus\",\"Model_C4 Picasso\",\"Model_C5\",\"Model_C70\",\"Model_C8\",\"Model_CK\",\"Model_CL Class\",\"Model_CLA\",\"Model_CLC Class\",\"Model_CLK Class\",\"Model_CLS Class\",\"Model_CR-V\",\"Model_CR-Z\",\"Model_CS35PLUS\",\"Model_CT Series\",\"Model_CTS\",\"Model_CX\",\"Model_CX-3\",\"Model_CX-30\",\"Model_CX-5\",\"Model_CX-7\",\"Model_CX-9\",\"Model_Caddy\",\"Model_Caliber\",\"Model_Calibra\",\"Model_Camaro\",\"Model_Camry\",\"Model_Captiva\",\"Model_Captur\",\"Model_Caravan\",\"Model_Caravelle\",\"Model_Carens\",\"Model_Carina\",\"Model_Carisma\",\"Model_Carnival\",\"Model_Cayenne\",\"Model_Cayman\",\"Model_Ceed\",\"Model_Ceed Sw\",\"Model_Celica\",\"Model_Cerato\",\"Model_Challenger\",\"Model_Charger\",\"Model_Cherokee\",\"Model_Cherry\",\"Model_Chery Van\",\"Model_Citan\",\"Model_Citigo\",\"Model_City K-ZE\",\"Model_Civic\",\"Model_Civic Hibrid\",\"Model_Clarity\",\"Model_Clarus\",\"Model_Clio\",\"Model_Clio Symbol\",\"Model_Clio4\",\"Model_Clubman\",\"Model_Colt\",\"Model_Combo\",\"Model_Commander\",\"Model_Compass\",\"Model_Concerto\",\"Model_Cooper\",\"Model_Cooper S\",\"Model_Cordoba\",\"Model_Corolla\",\"Model_Corolla Verso\",\"Model_Corsa\",\"Model_Corvette\",\"Model_Countryman\",\"Model_Coupe\",\"Model_Courier\",\"Model_Creta\",\"Model_Crosseastar\",\"Model_Crosstrek\",\"Model_Crown\",\"Model_Cruze\",\"Model_Cuore\",\"Model_D20\",\"Model_D50\",\"Model_DS3\",\"Model_DS4\",\"Model_DS5\",\"Model_Dakota\",\"Model_Damas\",\"Model_Dedra\",\"Model_Defender\",\"Model_Delta\",\"Model_Discovery\",\"Model_Discovery Sport\",\"Model_Doblo\",\"Model_Doblo Cargo\",\"Model_Doblo Panorama\",\"Model_Dokker\",\"Model_Dokker VAN\",\"Model_Durango\",\"Model_Duster\",\"Model_E Class\",\"Model_E-Class Coupe\",\"Model_E-Pace\",\"Model_EU5\",\"Model_Eastar\",\"Model_Eclipse\",\"Model_Eclipse Cross\",\"Model_EcoSport\",\"Model_Edge\",\"Model_Elantra\",\"Model_Encore\",\"Model_Envision\",\"Model_Envoy\",\"Model_Eos\",\"Model_Epica\",\"Model_Equinox\",\"Model_Equus\",\"Model_Es Series\",\"Model_Escape\",\"Model_Escort\",\"Model_Espace\",\"Model_Espero\",\"Model_Evanda\",\"Model_Exeo\",\"Model_Expedition\",\"Model_Expert\",\"Model_Explorer\",\"Model_Express\",\"Model_F-150\",\"Model_F-250\",\"Model_F-PACE\",\"Model_F-Type\",\"Model_F3\",\"Model_F6\",\"Model_FR-V\",\"Model_FSV\",\"Model_FX\",\"Model_Fabia\",\"Model_Fabia RS\",\"Model_Favorit\",\"Model_Felicia\",\"Model_Fiesta\",\"Model_Fiesta 3D\",\"Model_Fiesta 5D\",\"Model_Fiorino\",\"Model_Fluence\",\"Model_Focus\",\"Model_Focus Rs\",\"Model_Focus Wagon\",\"Model_Forester\",\"Model_Forfour\",\"Model_Fortuner\",\"Model_Fortwo\",\"Model_Fox\",\"Model_Freelander\",\"Model_Freema\",\"Model_Frontera\",\"Model_Frontier\",\"Model_Fullback\",\"Model_Fusion\",\"Model_G Class\",\"Model_G Series\",\"Model_G3\",\"Model_GL Class\",\"Model_GLA\",\"Model_GLC\",\"Model_GLC Coupe\",\"Model_GLE\",\"Model_GLE Coupe\",\"Model_GLK Class\",\"Model_GLS Klass\",\"Model_GS Series\",\"Model_GT86\",\"Model_GW Peri\",\"Model_GX Series\",\"Model_Galant\",\"Model_Galaxy\",\"Model_Galloper\",\"Model_Genesis\",\"Model_Getz\",\"Model_Ghibli II\",\"Model_Giulia\",\"Model_Giulietta\",\"Model_Gol\",\"Model_Golf\",\"Model_Golf Plus\",\"Model_Granada\",\"Model_Grand - Am\",\"Model_Grand Caravan\",\"Model_Grand Cherokee\",\"Model_Grand Espace\",\"Model_Grand Modus\",\"Model_Grand Scenic\",\"Model_Grand Vitara\",\"Model_Grand Voyager\",\"Model_Grande Punto\",\"Model_Grande Punto 5D\",\"Model_Grandeur\",\"Model_Grandis\",\"Model_Grandland X\",\"Model_Granta\",\"Model_Gt\",\"Model_H-1 Truck\",\"Model_H2\",\"Model_H200\",\"Model_H3\",\"Model_H6\",\"Model_H9\",\"Model_HHR\",\"Model_HR-V\",\"Model_Hiace\",\"Model_Highlander\",\"Model_Hilux\",\"Model_Hover\",\"Model_Hunter\",\"Model_ILX\",\"Model_IONIQ\",\"Model_IS Series\",\"Model_Ibiza\",\"Model_Ignis\",\"Model_Impala\",\"Model_Impreza\",\"Model_Inca\",\"Model_Insight\",\"Model_Insignia\",\"Model_Intrepid\",\"Model_J7\",\"Model_JS4\",\"Model_Jazz\",\"Model_Jetta\",\"Model_Jimny\",\"Model_Joice\",\"Model_Jolion\",\"Model_Journey\",\"Model_Juke\",\"Model_Jumpy\",\"Model_Justy\",\"Model_Ka\",\"Model_Kadett\",\"Model_Kadjar\",\"Model_Kalina\",\"Model_Kalos\",\"Model_Kangoo\",\"Model_Kappa\",\"Model_Karl\",\"Model_Karoq\",\"Model_Kicks\",\"Model_Kodiaq\",\"Model_Koleos\",\"Model_Kona\",\"Model_Korando\",\"Model_Kuga\",\"Model_Kyron\",\"Model_L\",\"Model_L Series\",\"Model_LS Series\",\"Model_LX Series\",\"Model_Lacetti\",\"Model_Laguna\",\"Model_Lancer\",\"Model_Land Cruiser\",\"Model_Land Cruiser Prado\",\"Model_Lanos\",\"Model_Lantra\",\"Model_Largus\",\"Model_Leaf\",\"Model_Legacy\",\"Model_Leon\",\"Model_Liana\",\"Model_Lodgy\",\"Model_Logan\",\"Model_Logan Mcv\",\"Model_Logan Van\",\"Model_Logo\",\"Model_Lumina\",\"Model_Lupo\",\"Model_Lybra\",\"Model_M Class\",\"Model_M Models\",\"Model_M Series\",\"Model_MDX\",\"Model_MKC\",\"Model_MKZ\",\"Model_MPV\",\"Model_MX-30\",\"Model_MX-5\",\"Model_MX-6\",\"Model_Macan\",\"Model_Magentis\",\"Model_Magnum\",\"Model_Malibu\",\"Model_Marea\",\"Model_Materia\",\"Model_Matiz\",\"Model_Matrix\",\"Model_Maverick\",\"Model_Maxima\",\"Model_Megane\",\"Model_Meriva\",\"Model_MiTo\",\"Model_Micra\",\"Model_Mirage\",\"Model_Model 3\",\"Model_Model S\",\"Model_Modus\",\"Model_Mokka\",\"Model_Mondeo\",\"Model_Monterey\",\"Model_Montero Sport\",\"Model_Multipla\",\"Model_Multivan\",\"Model_Murano\",\"Model_Musa\",\"Model_Musso\",\"Model_Mustang\",\"Model_NF Sonata\",\"Model_NV200\",\"Model_NV400\",\"Model_NX Series\",\"Model_Navara\",\"Model_Navigator\",\"Model_Nemo\",\"Model_Neon\",\"Model_New Beetle\",\"Model_Nexia\",\"Model_Niro\",\"Model_Nitro\",\"Model_Niva\",\"Model_Note\",\"Model_Nubira\",\"Model_Octavia\",\"Model_Octavia RS\",\"Model_Odyssey\",\"Model_Oka\",\"Model_Omega\",\"Model_One\",\"Model_Opirus\",\"Model_Optima\",\"Model_Orion\",\"Model_Orlando\",\"Model_Outback\",\"Model_Outlander\",\"Model_PT Cruiser\",\"Model_Pacifica\",\"Model_Pajero\",\"Model_Pajero Pinin\",\"Model_Pajero Sport\",\"Model_Palio\",\"Model_Panamera\",\"Model_Panda\",\"Model_Partner\",\"Model_Passat\",\"Model_Passat CC\",\"Model_Passo\",\"Model_Pathfinder\",\"Model_Patriot\",\"Model_Patrol\",\"Model_Phaeton\",\"Model_Phedra\",\"Model_Picanto\",\"Model_Picnic\",\"Model_Pikap\",\"Model_Pixo\",\"Model_Poer\",\"Model_Polo\",\"Model_Pony\",\"Model_Prairie\",\"Model_Pregio\",\"Model_Prelude\",\"Model_Premacy\",\"Model_Previa\",\"Model_Pride\",\"Model_Primastar\",\"Model_Primera\",\"Model_Priora\",\"Model_Prisma\",\"Model_Prius\",\"Model_Prius +\",\"Model_Prius Prime\",\"Model_Prius c\",\"Model_Prius v\",\"Model_Pro_Cee'd\",\"Model_Proace\",\"Model_Probe\",\"Model_Pulsar\",\"Model_Puma\",\"Model_Punto\",\"Model_Q Series\",\"Model_Q3\",\"Model_Q5\",\"Model_Q7\",\"Model_Q8\",\"Model_QX Series\",\"Model_QX30\",\"Model_QX50\",\"Model_QX60\",\"Model_QX70\",\"Model_Qashqai\",\"Model_Qashqai+2\",\"Model_Qq\",\"Model_Quattro\",\"Model_Qubo\",\"Model_Quest\",\"Model_R Class\",\"Model_R2\",\"Model_R4\",\"Model_RC Series\",\"Model_RDX\",\"Model_RX Series\",\"Model_RX-8\",\"Model_Ram\",\"Model_Range Rover\",\"Model_Range Rover Evoque\",\"Model_Range Rover Sport\",\"Model_Range Rover Velar\",\"Model_Ranger\",\"Model_Rapid\",\"Model_Rav 4\",\"Model_Rekord\",\"Model_Renegade\",\"Model_Rexton\",\"Model_Rezzo\",\"Model_Rio\",\"Model_Rio X-Line\",\"Model_Ritmo\",\"Model_Roadster\",\"Model_Rodius\",\"Model_Rogue\",\"Model_Roomster\",\"Model_S Class\",\"Model_S Klass\",\"Model_S-Coupe\",\"Model_S-Cross\",\"Model_S-Max\",\"Model_S-Type\",\"Model_S3\",\"Model_S4\",\"Model_S40\",\"Model_S5\",\"Model_S60\",\"Model_S70\",\"Model_S8\",\"Model_S80\",\"Model_S90\",\"Model_SC Series\",\"Model_SLK Class\",\"Model_SX4\",\"Model_Safrane\",\"Model_Samurai\",\"Model_Sandero\",\"Model_Sandero Stepway\",\"Model_Santa FE\",\"Model_Santamo\",\"Model_Saratoga\",\"Model_Saxo\",\"Model_Scala\",\"Model_Scenic\",\"Model_Scirocco\",\"Model_Scorpio\",\"Model_Scudo\",\"Model_Sebring\",\"Model_Seltos\",\"Model_Sentra\",\"Model_Sephia\",\"Model_Serena\",\"Model_Series (W123)\",\"Model_Series (W124)\",\"Model_Sharan\",\"Model_Shuma\",\"Model_Shuttle\",\"Model_Siber\",\"Model_Siecento\",\"Model_Sienna\",\"Model_Sierra\",\"Model_Sigma\",\"Model_Signum\",\"Model_Sintra\",\"Model_Sirion\",\"Model_Sl Class\",\"Model_Solara\",\"Model_Solaris\",\"Model_Sonata\",\"Model_Sorento\",\"Model_Soul\",\"Model_Space Runner\",\"Model_Space Star\",\"Model_Space Wagon\",\"Model_Spark\",\"Model_Spectra\",\"Model_Splash\",\"Model_Sportage\",\"Model_Starlet\",\"Model_Stelvio\",\"Model_Stilo\",\"Model_Stinger\",\"Model_Stonic\",\"Model_Stratus\",\"Model_Stream\",\"Model_Streetwise\",\"Model_Sunny\",\"Model_Superb\",\"Model_Swift\",\"Model_T-Cross\",\"Model_T500\",\"Model_TSX\",\"Model_TT\",\"Model_Tacoma\",\"Model_Tacuma\",\"Model_Talisman\",\"Model_Taurus\",\"Model_Terios\",\"Model_Terracan\",\"Model_Terrain\",\"Model_Terrano\",\"Model_Thalia\",\"Model_Thema\",\"Model_Thesis\",\"Model_Tiggo\",\"Model_Tigra\",\"Model_Tiguan\",\"Model_Tiida\",\"Model_Tipo\",\"Model_Toledo\",\"Model_Touareg\",\"Model_Touran\",\"Model_Tourneo Connect\",\"Model_Town Car\",\"Model_Town&Country\",\"Model_Tracer\",\"Model_Trafic\",\"Model_Trailblaizer\",\"Model_Trajet\",\"Model_Transit Connect\",\"Model_Transporter\",\"Model_Trax\",\"Model_Trezia\",\"Model_Tribute\",\"Model_Trooper\",\"Model_Tucson\",\"Model_Twingo\",\"Model_UX\",\"Model_Urban Cruiser\",\"Model_V Class\",\"Model_V40\",\"Model_V50\",\"Model_V60\",\"Model_V70\",\"Model_V90\",\"Model_Vaneo\",\"Model_Vanette\",\"Model_Vectra\",\"Model_Vel Satis\",\"Model_Veloster\",\"Model_Venga\",\"Model_Vento\",\"Model_Venza\",\"Model_Veracruz\",\"Model_Verso\",\"Model_Verso-S\",\"Model_Vesta\",\"Model_Viano\",\"Model_Vita\",\"Model_Vitara\",\"Model_Vito\",\"Model_Vivaro\",\"Model_Volt\",\"Model_Voyager\",\"Model_WRX\",\"Model_WRX STI\",\"Model_Wagon R+\",\"Model_Wrangler\",\"Model_X Class\",\"Model_X-Trail\",\"Model_X-Type\",\"Model_X1\",\"Model_X2\",\"Model_X3\",\"Model_X4\",\"Model_X5\",\"Model_X6\",\"Model_X7\",\"Model_XC40\",\"Model_XC60\",\"Model_XC70\",\"Model_XC90\",\"Model_XE\",\"Model_XJ\",\"Model_XV\",\"Model_Xedos\",\"Model_Xf\",\"Model_Xsara\",\"Model_Xsara Picasso\",\"Model_Xterra\",\"Model_YRV\",\"Model_Yaris\",\"Model_Yaris Verso\",\"Model_Yeti\",\"Model_Ypsilon\",\"Model_Z Series\",\"Model_ZOE\",\"Model_Zafira\",\"Model_altele\",\"Model_e-tron\",\"Model_i10\",\"Model_i20\",\"Model_i3\",\"Model_i30\",\"Model_i40\",\"Model_i8\",\"Model_iA\",\"Model_iM\",\"Model_iQ\",\"Model_ix20\",\"Model_ix35\",\"Model_on-DO\",\"Model_up!\",\"Model_xA\",\"Make_ARO\",\"Make_Abarth\",\"Make_Acura\",\"Make_Alfa Romeo\",\"Make_Alta marca\",\"Make_Audi\",\"Make_BAIC\",\"Make_BMW\",\"Make_Brilliance\",\"Make_Buick\",\"Make_Byd\",\"Make_Cadillac\",\"Make_Changan\",\"Make_Chery\",\"Make_Chevrolet\",\"Make_Chrysler\",\"Make_Citroen\",\"Make_Dacia\",\"Make_Daewoo\",\"Make_Daihatsu\",\"Make_Datsun\",\"Make_Dodge\",\"Make_Faw\",\"Make_Fiat\",\"Make_Ford\",\"Make_GAZ\",\"Make_GMC\",\"Make_Geely\",\"Make_Great Wall\",\"Make_Groz\",\"Make_Haima\",\"Make_Haval\",\"Make_Honda\",\"Make_Hummer\",\"Make_Hyundai\",\"Make_Infiniti\",\"Make_Isuzu\",\"Make_Jac\",\"Make_Jaguar\",\"Make_Jeep\",\"Make_KIA\",\"Make_Lada\",\"Make_Lancia\",\"Make_Land Rover\",\"Make_Lexus\",\"Make_Lifan\",\"Make_Lincoln\",\"Make_LuAZ\",\"Make_Maserati\",\"Make_Mazda\",\"Make_Mercedes\",\"Make_Mercedes-Maybach\",\"Make_Mini\",\"Make_Mitsubishi\",\"Make_Moskvich / Izh\",\"Make_Nissan\",\"Make_Opel\",\"Make_Peugeot\",\"Make_Pontiac\",\"Make_Porsche\",\"Make_Ravon\",\"Make_Renault\",\"Make_Rover\",\"Make_Saab\",\"Make_Saturn\",\"Make_Scion\",\"Make_Seat\",\"Make_Skoda\",\"Make_Smart\",\"Make_Ssangyong\",\"Make_Subaru\",\"Make_Suzuki\",\"Make_Tata\",\"Make_Tesla\",\"Make_Toyota\",\"Make_UAZ\",\"Make_Vaz\",\"Make_Volkswagen\",\"Make_Volvo\",\"Make_Xpeng\",\"Make_Zaz\",\"Make_Zotye\",\"Style_Cabriolet\",\"Style_Combi\",\"Style_Coupe\",\"Style_Crossover\",\"Style_Hatchback\",\"Style_Microvan\",\"Style_Minivan\",\"Style_Pickup\",\"Style_Roadster\",\"Style_SUV\",\"Style_Sedan\",\"Style_Universal\",\"Fuel_type_Diesel\",\"Fuel_type_Electric\",\"Fuel_type_Hybrid\",\"Fuel_type_Metan/Propan\",\"Fuel_type_Petrol\",\"Fuel_type_Plug-in Hybrid\",\"distance_type_average\",\"distance_type_high\",\"distance_type_optimal\",\"distance_type_very_high\",\"Make_rarity_common\",\"Make_rarity_rare\",\"Price_cat_average\",\"Price_cat_cheap\",\"Year_category_old\",\"Year_category_regular\"]},\"yaxis\":{\"anchor\":\"x\",\"domain\":[0.0,1.0],\"title\":{\"text\":\"y\"}},\"legend\":{\"title\":{\"text\":\"c\"},\"tracegroupgap\":0},\"margin\":{\"t\":60},\"barmode\":\"relative\"},                        {\"responsive\": true}                    ).then(function(){\n",
              "                            \n",
              "var gd = document.getElementById('08a24dfd-4d37-419c-9549-a8ca738671cb');\n",
              "var x = new MutationObserver(function (mutations, observer) {{\n",
              "        var display = window.getComputedStyle(gd).display;\n",
              "        if (!display || display === 'none') {{\n",
              "            console.log([gd, 'removed!']);\n",
              "            Plotly.purge(gd);\n",
              "            observer.disconnect();\n",
              "        }}\n",
              "}});\n",
              "\n",
              "// Listen for the removal of the full notebook cells\n",
              "var notebookContainer = gd.closest('#notebook-container');\n",
              "if (notebookContainer) {{\n",
              "    x.observe(notebookContainer, {childList: true});\n",
              "}}\n",
              "\n",
              "// Listen for the clearing of the current output cell\n",
              "var outputEl = gd.closest('.output');\n",
              "if (outputEl) {{\n",
              "    x.observe(outputEl, {childList: true});\n",
              "}}\n",
              "\n",
              "                        })                };                            </script>        </div>\n",
              "</body>\n",
              "</html>"
            ]
          },
          "metadata": {}
        }
      ]
    },
    {
      "cell_type": "markdown",
      "source": [
        "Такая же ситуация с весами, предпочтение моделям автомобилей"
      ],
      "metadata": {
        "id": "TlE-VUQE_P5B"
      }
    },
    {
      "cell_type": "markdown",
      "source": [
        "Смысла делать прогноз на данных без категорий не вижу, так как здесь основные веса отданы им"
      ],
      "metadata": {
        "id": "KSzi4erd9ynZ"
      }
    },
    {
      "cell_type": "markdown",
      "source": [
        "## Стандартизированные и нормализированные данные"
      ],
      "metadata": {
        "id": "CzDkBByL99VM"
      }
    },
    {
      "cell_type": "code",
      "source": [
        "X = df_st_norm.loc[:, df_st_norm.columns != 'Price(euro)']\n",
        "y = df_st_norm[['Price(euro)']]"
      ],
      "metadata": {
        "id": "cNBzGh7a977R"
      },
      "execution_count": null,
      "outputs": []
    },
    {
      "cell_type": "code",
      "source": [
        "X_train, X_test, y_train, y_test = train_test_split(X, y, test_size=0.2, stratify=y)"
      ],
      "metadata": {
        "id": "ARTNR4f1-LNh"
      },
      "execution_count": null,
      "outputs": []
    },
    {
      "cell_type": "markdown",
      "source": [
        "### Lasso"
      ],
      "metadata": {
        "id": "Gv0XvTs4-R0K"
      }
    },
    {
      "cell_type": "code",
      "source": [
        "moldova_l = Lasso().fit(X_train, y_train)\n",
        "\n",
        "y_pred = moldova_l.predict(X_test)\n",
        "\n",
        "print(f'R2 score: {r2_score(y_test, y_pred)}')\n",
        "print(f'MAE: {mean_absolute_error(y_test, y_pred)}')\n",
        "print(f'RMSE: {mean_squared_error(y_test, y_pred, squared=False)}')\n",
        "print(f'MAPE: {mean_absolute_percentage_error(y_test, y_pred)}')"
      ],
      "metadata": {
        "colab": {
          "base_uri": "https://localhost:8080/"
        },
        "id": "eiiOOW6u-NmU",
        "outputId": "aa1eca5c-29e7-474f-dbfc-64a6165754ad"
      },
      "execution_count": null,
      "outputs": [
        {
          "output_type": "stream",
          "name": "stdout",
          "text": [
            "R2 score: 0.7425778973296058\n",
            "MAE: 2458.8313685175253\n",
            "RMSE: 3867.2374926128987\n",
            "MAPE: 0.48384650241319077\n"
          ]
        }
      ]
    },
    {
      "cell_type": "markdown",
      "source": [
        "Как я и предполагал в первом задании данная техника предобработки отработает лучше всего, сейчас поиграем с параметром альфа и можно будет подводить итоги"
      ],
      "metadata": {
        "id": "xhl4-563-V3L"
      }
    },
    {
      "cell_type": "code",
      "source": [
        "moldova_l = Lasso(alpha=0.3).fit(X_train, y_train)\n",
        "\n",
        "y_pred = moldova_l.predict(X_test)\n",
        "\n",
        "print(f'R2 score: {r2_score(y_test, y_pred)}')\n",
        "print(f'MAE: {mean_absolute_error(y_test, y_pred)}')\n",
        "print(f'RMSE: {mean_squared_error(y_test, y_pred, squared=False)}')\n",
        "print(f'MAPE: {mean_absolute_percentage_error(y_test, y_pred)}')"
      ],
      "metadata": {
        "id": "O2VtgiWV-hYk"
      },
      "execution_count": null,
      "outputs": []
    },
    {
      "cell_type": "markdown",
      "source": [
        "Посмотрим веса, опять же на plotly очень удобно смотреть, так как можно приблизить конкретное место"
      ],
      "metadata": {
        "id": "LPh0GSvD--EM"
      }
    },
    {
      "cell_type": "code",
      "source": [
        "plot_weights(moldova_l.coef_, X.columns, show_cols=True)"
      ],
      "metadata": {
        "id": "jD7iNE2x-9V3"
      },
      "execution_count": null,
      "outputs": []
    },
    {
      "cell_type": "markdown",
      "source": [
        "Не очень хорошая ситуация с весами, предпочтение отдаётся моделям"
      ],
      "metadata": {
        "id": "o6Iddk-k_rJL"
      }
    },
    {
      "cell_type": "markdown",
      "source": [
        "### Ridge"
      ],
      "metadata": {
        "id": "F2zG1aSa_zPx"
      }
    },
    {
      "cell_type": "code",
      "source": [
        "moldova_r = Ridge().fit(X_train, y_train)\n",
        "\n",
        "y_pred = moldova_r.predict(X_test)\n",
        "\n",
        "print(f'R2 score: {r2_score(y_test, y_pred)}')\n",
        "print(f'MAE: {mean_absolute_error(y_test, y_pred)}')\n",
        "print(f'RMSE: {mean_squared_error(y_test, y_pred, squared=False)}')\n",
        "print(f'MAPE: {mean_absolute_percentage_error(y_test, y_pred)}')"
      ],
      "metadata": {
        "id": "cGJ55dcR_1XT"
      },
      "execution_count": null,
      "outputs": []
    },
    {
      "cell_type": "markdown",
      "source": [
        "Результат хуже чем у Lasso по точности, но лучше по степени обучения, посмотрим сможет ли параметр альфа исправить это"
      ],
      "metadata": {
        "id": "ildOMUQ4_62R"
      }
    },
    {
      "cell_type": "code",
      "source": [
        "moldova_r = Ridge(alpha=5).fit(X_train, y_train)\n",
        "\n",
        "y_pred = moldova_r.predict(X_test)\n",
        "\n",
        "print(f'R2 score: {r2_score(y_test, y_pred)}')\n",
        "print(f'MAE: {mean_absolute_error(y_test, y_pred)}')\n",
        "print(f'RMSE: {mean_squared_error(y_test, y_pred, squared=False)}')\n",
        "print(f'MAPE: {mean_absolute_percentage_error(y_test, y_pred)}')"
      ],
      "metadata": {
        "id": "QiCok0aD_6FA"
      },
      "execution_count": null,
      "outputs": []
    },
    {
      "cell_type": "markdown",
      "source": [
        "Всё-таки Lasso лучше"
      ],
      "metadata": {
        "id": "MTgZVh2lAO47"
      }
    },
    {
      "cell_type": "code",
      "source": [
        "plot_weights(moldova_r.coef_, X.columns, show_cols=True)"
      ],
      "metadata": {
        "id": "bEoYqlToASRJ"
      },
      "execution_count": null,
      "outputs": []
    },
    {
      "cell_type": "markdown",
      "source": [
        "Такая же история"
      ],
      "metadata": {
        "id": "kuSyzpiIAZkJ"
      }
    },
    {
      "cell_type": "markdown",
      "source": [
        "# Вывод"
      ],
      "metadata": {
        "id": "onE8MXmYAgg6"
      }
    },
    {
      "cell_type": "markdown",
      "source": [
        "Подытожим, нам удалось применить регуляризацию на данных о продажах машин в молдавии.\n",
        "\n",
        "В итоге лучшими оказазались:\n",
        "- Ridge на нормализированных данных, где хорошие веса были у главных характеристик автомобилей, особенно год производства\n",
        "- Lasso на нормализированных и стандартизированных данных, веса уже не такие хорошие, характеристикам автомобиля не даётся весомого предпочтения.\n",
        "\n",
        "Стоит использовать Lasso на нормализированных и стандартизированных данных, но иметь в виду, если точность будет падать, перейти на Ridge на нормализированных данных."
      ],
      "metadata": {
        "id": "WW717zIXAh_A"
      }
    }
  ]
}